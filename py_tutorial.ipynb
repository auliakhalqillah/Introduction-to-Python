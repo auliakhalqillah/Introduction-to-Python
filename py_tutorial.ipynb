{
 "cells": [
  {
   "cell_type": "markdown",
   "id": "667d6093",
   "metadata": {},
   "source": [
    "![Python Image](https://www.python.org/static/community_logos/python-logo-inkscape.svg)\n",
    "\n",
    "<div align=\"center\">\n",
    "    <h1>Tutorial Python 3</h1>\n",
    "</div>\n",
    "\n",
    "<div align=\"center\">\n",
    "    <h3>Written by: Aulia Khalqillah, S.Si., M.Si</h3>\n",
    "</div>"
   ]
  },
  {
   "cell_type": "markdown",
   "id": "4beecac5",
   "metadata": {},
   "source": [
    "## Table of Contents\n",
    "\n",
    "[Working With Libraries](#Working-With-Libraries)\n",
    "\n",
    "- [1. Numpy](#1.-Numpy)\n",
    "    * [Generate Array](#Generate-Array)\n",
    "    * [Array Index](#Array-Index)\n",
    "    * [Generate Random Array](#Generate-Random-Array)\n",
    "        + [1. One Dimensional Array](#1.-One-Dimensional-Array)\n",
    "        + [2. Two Domensional Array](#2.-Two-Dimensional-Array)\n",
    "    * [Modification an Array](#Modification-an-Array)\n",
    "        + [Change Element of 1D Array](#Change-element-of-1D-array)\n",
    "        + [Change Element of 2D Array](#Change-element-of-2D-array)\n",
    "    * [Slice an Array](#Slice-an-Array)\n",
    "        + [1D Array](#1.-1D-Array)\n",
    "        + [2D Array](#2.-2D-Array)\n",
    "    * [Basic Mathematical Operation](#Basic-Mathematical-Operation)\n",
    "    * [More Numpy's Methods](#More-Numpy's-Methods)"
   ]
  },
  {
   "cell_type": "markdown",
   "id": "4176087e",
   "metadata": {},
   "source": [
    "## Working With Libraries\n",
    "### 1. Numpy\n",
    "Import a numpy library by type the following command"
   ]
  },
  {
   "cell_type": "code",
   "execution_count": 1,
   "id": "9e4e9bcc",
   "metadata": {},
   "outputs": [],
   "source": [
    "import numpy as np"
   ]
  },
  {
   "cell_type": "markdown",
   "id": "746a387e",
   "metadata": {},
   "source": [
    "The `np` in command above is the alias of numpy library that I write. This alias can be modified with any alias name. So, we just type `np.(method)` to call a method from numpy library. "
   ]
  },
  {
   "cell_type": "markdown",
   "id": "d24814d8",
   "metadata": {},
   "source": [
    "#### Generate Array\n",
    "\n",
    "I'm going to create an array by using two method that are `arange` method and `linspace` method.\n",
    "\n",
    "##### a. arange\n",
    "\n",
    "The format of `np.arange` is `np.arange(start, stop, step)`. For example, I generate an array without using `step` and the result will be asign to `arr` variable as follows"
   ]
  },
  {
   "cell_type": "code",
   "execution_count": 2,
   "id": "ec1a3471",
   "metadata": {},
   "outputs": [
    {
     "data": {
      "text/plain": [
       "array([0, 1, 2, 3, 4, 5, 6, 7, 8, 9])"
      ]
     },
     "execution_count": 2,
     "metadata": {},
     "output_type": "execute_result"
    }
   ],
   "source": [
    "arr = np.arange(0,10)\n",
    "arr"
   ]
  },
  {
   "cell_type": "markdown",
   "id": "4871a6d6",
   "metadata": {},
   "source": [
    "with `step` where the value is 2 and I assign the result to `arr_step` variable"
   ]
  },
  {
   "cell_type": "code",
   "execution_count": 3,
   "id": "f2a78d7e",
   "metadata": {},
   "outputs": [
    {
     "data": {
      "text/plain": [
       "array([0, 2, 4, 6, 8])"
      ]
     },
     "execution_count": 3,
     "metadata": {},
     "output_type": "execute_result"
    }
   ],
   "source": [
    "arr_step = np.arange(0,10,2)\n",
    "arr_step"
   ]
  },
  {
   "cell_type": "markdown",
   "id": "175dcf84",
   "metadata": {},
   "source": [
    "the result is even array."
   ]
  },
  {
   "cell_type": "markdown",
   "id": "3a96e01c",
   "metadata": {},
   "source": [
    "##### b. linspace\n",
    "\n",
    "Now, I'm going to generate an array by using `linspace` method. The format of `np.linspace` is `np.linspace(start,stop,length of data)`. First, I generate an array without input a length of data and I assign the result to `arr_linspace` variable as follows"
   ]
  },
  {
   "cell_type": "code",
   "execution_count": 4,
   "id": "eb22d9f5",
   "metadata": {},
   "outputs": [
    {
     "data": {
      "text/plain": [
       "array([0.        , 0.01020408, 0.02040816, 0.03061224, 0.04081633,\n",
       "       0.05102041, 0.06122449, 0.07142857, 0.08163265, 0.09183673,\n",
       "       0.10204082, 0.1122449 , 0.12244898, 0.13265306, 0.14285714,\n",
       "       0.15306122, 0.16326531, 0.17346939, 0.18367347, 0.19387755,\n",
       "       0.20408163, 0.21428571, 0.2244898 , 0.23469388, 0.24489796,\n",
       "       0.25510204, 0.26530612, 0.2755102 , 0.28571429, 0.29591837,\n",
       "       0.30612245, 0.31632653, 0.32653061, 0.33673469, 0.34693878,\n",
       "       0.35714286, 0.36734694, 0.37755102, 0.3877551 , 0.39795918,\n",
       "       0.40816327, 0.41836735, 0.42857143, 0.43877551, 0.44897959,\n",
       "       0.45918367, 0.46938776, 0.47959184, 0.48979592, 0.5       ])"
      ]
     },
     "execution_count": 4,
     "metadata": {},
     "output_type": "execute_result"
    }
   ],
   "source": [
    "arr_linspace = np.linspace(0,0.5)\n",
    "arr_linspace"
   ]
  },
  {
   "cell_type": "code",
   "execution_count": 5,
   "id": "c970aee7",
   "metadata": {},
   "outputs": [
    {
     "data": {
      "text/plain": [
       "50"
      ]
     },
     "execution_count": 5,
     "metadata": {},
     "output_type": "execute_result"
    }
   ],
   "source": [
    "len(arr_linspace)"
   ]
  },
  {
   "cell_type": "markdown",
   "id": "25b30007",
   "metadata": {},
   "source": [
    "as we can see, the array has been generated start from 0 to 0.5 in 50 length of data as default configuration. Next, I generate an array with input a length of data e.g. 70 values and I assign the result to `arr_linspace_length` variable as follows"
   ]
  },
  {
   "cell_type": "code",
   "execution_count": 6,
   "id": "c0844422",
   "metadata": {},
   "outputs": [
    {
     "data": {
      "text/plain": [
       "array([0.        , 0.00724638, 0.01449275, 0.02173913, 0.02898551,\n",
       "       0.03623188, 0.04347826, 0.05072464, 0.05797101, 0.06521739,\n",
       "       0.07246377, 0.07971014, 0.08695652, 0.0942029 , 0.10144928,\n",
       "       0.10869565, 0.11594203, 0.12318841, 0.13043478, 0.13768116,\n",
       "       0.14492754, 0.15217391, 0.15942029, 0.16666667, 0.17391304,\n",
       "       0.18115942, 0.1884058 , 0.19565217, 0.20289855, 0.21014493,\n",
       "       0.2173913 , 0.22463768, 0.23188406, 0.23913043, 0.24637681,\n",
       "       0.25362319, 0.26086957, 0.26811594, 0.27536232, 0.2826087 ,\n",
       "       0.28985507, 0.29710145, 0.30434783, 0.3115942 , 0.31884058,\n",
       "       0.32608696, 0.33333333, 0.34057971, 0.34782609, 0.35507246,\n",
       "       0.36231884, 0.36956522, 0.37681159, 0.38405797, 0.39130435,\n",
       "       0.39855072, 0.4057971 , 0.41304348, 0.42028986, 0.42753623,\n",
       "       0.43478261, 0.44202899, 0.44927536, 0.45652174, 0.46376812,\n",
       "       0.47101449, 0.47826087, 0.48550725, 0.49275362, 0.5       ])"
      ]
     },
     "execution_count": 6,
     "metadata": {},
     "output_type": "execute_result"
    }
   ],
   "source": [
    "arr_linspace_length = np.linspace(0,0.5,70)\n",
    "arr_linspace_length"
   ]
  },
  {
   "cell_type": "markdown",
   "id": "a308c206",
   "metadata": {},
   "source": [
    "to check the length of data, you can type the `len(variable name)` function as follows"
   ]
  },
  {
   "cell_type": "markdown",
   "id": "eaa28b9e",
   "metadata": {},
   "source": [
    "#### Generate 'Zeros' Element of  Array\n",
    "\n",
    "We can easy to generate an array that contain of zero by using `np.zeros(length of data)` method. For example, I generate a zero array for 10 length of data as follows"
   ]
  },
  {
   "cell_type": "code",
   "execution_count": 72,
   "id": "e9961b9d",
   "metadata": {
    "scrolled": true
   },
   "outputs": [
    {
     "data": {
      "text/plain": [
       "array([0., 0., 0., 0., 0., 0., 0., 0., 0., 0.])"
      ]
     },
     "execution_count": 72,
     "metadata": {},
     "output_type": "execute_result"
    }
   ],
   "source": [
    "arr_zeros = np.zeros(10)\n",
    "arr_zeros"
   ]
  },
  {
   "cell_type": "markdown",
   "id": "09da1f22",
   "metadata": {},
   "source": [
    "#### Generate 'Ones' Element of Array\n",
    "\n",
    "The same way when we want to generate an array that contain element of 1 for entire array element by using `np.ones(length of data)` method. For example"
   ]
  },
  {
   "cell_type": "code",
   "execution_count": 78,
   "id": "0d7d2f02",
   "metadata": {},
   "outputs": [
    {
     "data": {
      "text/plain": [
       "array([1., 1., 1., 1., 1., 1., 1., 1., 1., 1.])"
      ]
     },
     "execution_count": 78,
     "metadata": {},
     "output_type": "execute_result"
    }
   ],
   "source": [
    "arr_ones = np.ones(10)\n",
    "arr_ones"
   ]
  },
  {
   "cell_type": "markdown",
   "id": "f1b994e4",
   "metadata": {},
   "source": [
    "#### Array Index\n",
    "\n",
    "We already have generate an array as previous methods. Now, if we want to access a specific value in the array, we have to identify its index number. In Python, the first index number is started from 0, the second index is 1 and so on. For example, we use a variable of `arr_linspace_length` to get a specific value from the second index which is 1. By typing the following command where the index number is written inside a bracket."
   ]
  },
  {
   "cell_type": "code",
   "execution_count": 7,
   "id": "4cbe427e",
   "metadata": {},
   "outputs": [
    {
     "data": {
      "text/plain": [
       "0.007246376811594203"
      ]
     },
     "execution_count": 7,
     "metadata": {},
     "output_type": "execute_result"
    }
   ],
   "source": [
    "arr_linspace_length[1]"
   ]
  },
  {
   "cell_type": "markdown",
   "id": "b18642c9",
   "metadata": {},
   "source": [
    "_**Remember, in Python, the first index is started from 0**_. \n",
    "\n",
    "We can take the last value from `arr_linspace_length` variable as follows command"
   ]
  },
  {
   "cell_type": "code",
   "execution_count": 8,
   "id": "78e6addc",
   "metadata": {},
   "outputs": [
    {
     "data": {
      "text/plain": [
       "0.5"
      ]
     },
     "execution_count": 8,
     "metadata": {},
     "output_type": "execute_result"
    }
   ],
   "source": [
    "arr_linspace_length[69]"
   ]
  },
  {
   "cell_type": "markdown",
   "id": "89838630",
   "metadata": {},
   "source": [
    "where the 69 is the last index of this array. For the simplicity, the last index number is `the length of data - 1`. If we want to take a value from index number of 10, we can type"
   ]
  },
  {
   "cell_type": "code",
   "execution_count": 9,
   "id": "85c187e6",
   "metadata": {},
   "outputs": [
    {
     "data": {
      "text/plain": [
       "0.07246376811594203"
      ]
     },
     "execution_count": 9,
     "metadata": {},
     "output_type": "execute_result"
    }
   ],
   "source": [
    "arr_linspace_length[10]"
   ]
  },
  {
   "cell_type": "markdown",
   "id": "af42f310",
   "metadata": {},
   "source": [
    "#### Generate Random Array\n",
    "\n",
    "##### 1. One Dimensional Array\n",
    "\n",
    "Numpy has a random method to generate a random array values. The format to call this method is `np.random.(method)(length of data)`. Generally, there are three methods in random class, `rand`, `randn`, and `randint`. \n",
    "\n",
    "1. `rand(row,col)`    : generate a standard random array.\n",
    "2. `randn(row,col)`   : generate a random array based on normal distribution.\n",
    "3. `randint(low, high=None, size=None)` : generate a single integer random number as default."
   ]
  },
  {
   "cell_type": "code",
   "execution_count": 10,
   "id": "291c244a",
   "metadata": {},
   "outputs": [
    {
     "data": {
      "text/plain": [
       "array([0.1887854 , 0.84878078, 0.78399138, 0.72841803, 0.20378705])"
      ]
     },
     "execution_count": 10,
     "metadata": {},
     "output_type": "execute_result"
    }
   ],
   "source": [
    "arr_random = np.random.rand(5)\n",
    "arr_random"
   ]
  },
  {
   "cell_type": "code",
   "execution_count": 11,
   "id": "a1959e05",
   "metadata": {},
   "outputs": [
    {
     "data": {
      "text/plain": [
       "array([ 0.14419313,  0.98326896,  0.56147786, -0.0556791 , -1.09470422])"
      ]
     },
     "execution_count": 11,
     "metadata": {},
     "output_type": "execute_result"
    }
   ],
   "source": [
    "arr_randn = np.random.randn(5)\n",
    "arr_randn"
   ]
  },
  {
   "cell_type": "code",
   "execution_count": 12,
   "id": "cb0b1999",
   "metadata": {},
   "outputs": [
    {
     "data": {
      "text/plain": [
       "array([3, 3, 3, 4, 4, 2, 4, 2, 2, 3])"
      ]
     },
     "execution_count": 12,
     "metadata": {},
     "output_type": "execute_result"
    }
   ],
   "source": [
    "arr_randint = np.random.randint(2,5,size=10)\n",
    "arr_randint"
   ]
  },
  {
   "cell_type": "markdown",
   "id": "97d5f77a",
   "metadata": {},
   "source": [
    "##### 2. Two Dimensional Array\n",
    "\n",
    "We have done to generate a 1D array. Next, we generate a 2D array by using numpy library. To do this, we apply an `array` method as the following command."
   ]
  },
  {
   "cell_type": "code",
   "execution_count": 13,
   "id": "2ed8335b",
   "metadata": {},
   "outputs": [
    {
     "data": {
      "text/plain": [
       "array([[ 1,  2,  3,  4,  5],\n",
       "       [ 6,  7,  8,  9, 10]])"
      ]
     },
     "execution_count": 13,
     "metadata": {},
     "output_type": "execute_result"
    }
   ],
   "source": [
    "arr_2d = np.array([[1,2,3,4,5],[6,7,8,9,10]])\n",
    "arr_2d"
   ]
  },
  {
   "cell_type": "markdown",
   "id": "003532bc",
   "metadata": {},
   "source": [
    "Now, we have 2D array that means we have 2 rows and 5 columns. By using array method, we have to set the element of array manually as above command. We can use a `random.rand()` or `random.randn()` method to generate a 2D array. "
   ]
  },
  {
   "cell_type": "code",
   "execution_count": 14,
   "id": "25c0569e",
   "metadata": {},
   "outputs": [
    {
     "data": {
      "text/plain": [
       "array([[0.16860543, 0.47153478, 0.3196002 , 0.7668874 , 0.50581538],\n",
       "       [0.95733368, 0.86891484, 0.41191144, 0.12408419, 0.77419912],\n",
       "       [0.18129179, 0.66731457, 0.0018552 , 0.63769256, 0.9320652 ],\n",
       "       [0.11947688, 0.2019806 , 0.43238339, 0.16536263, 0.47368182],\n",
       "       [0.31062916, 0.59056527, 0.36895061, 0.15685153, 0.91627449]])"
      ]
     },
     "execution_count": 14,
     "metadata": {},
     "output_type": "execute_result"
    }
   ],
   "source": [
    "arr_2d_random = np.random.rand(5,5)\n",
    "arr_2d_random"
   ]
  },
  {
   "cell_type": "markdown",
   "id": "4729ae46",
   "metadata": {},
   "source": [
    "#### Modification an Array\n",
    "\n",
    "##### Change element of 1D array\n",
    "An element in an array can be modified or changed to another value. For example, we use `arr_random` variable that has been created previously."
   ]
  },
  {
   "cell_type": "code",
   "execution_count": 15,
   "id": "f14a25a0",
   "metadata": {},
   "outputs": [
    {
     "data": {
      "text/plain": [
       "array([0.1887854 , 0.84878078, 0.78399138, 0.72841803, 0.20378705])"
      ]
     },
     "execution_count": 15,
     "metadata": {},
     "output_type": "execute_result"
    }
   ],
   "source": [
    "arr_random"
   ]
  },
  {
   "cell_type": "markdown",
   "id": "2a930517",
   "metadata": {},
   "source": [
    "We take a value which in the third index or equal to index number of 2 as follows"
   ]
  },
  {
   "cell_type": "code",
   "execution_count": 16,
   "id": "1f0bba60",
   "metadata": {},
   "outputs": [
    {
     "data": {
      "text/plain": [
       "0.7839913813262193"
      ]
     },
     "execution_count": 16,
     "metadata": {},
     "output_type": "execute_result"
    }
   ],
   "source": [
    "arr_random[2]"
   ]
  },
  {
   "cell_type": "markdown",
   "id": "3a1df78b",
   "metadata": {},
   "source": [
    "and to change this value (e.g. 100), we can write the following command"
   ]
  },
  {
   "cell_type": "code",
   "execution_count": 17,
   "id": "309fe9cb",
   "metadata": {},
   "outputs": [
    {
     "data": {
      "text/plain": [
       "array([  0.1887854 ,   0.84878078, 100.        ,   0.72841803,\n",
       "         0.20378705])"
      ]
     },
     "execution_count": 17,
     "metadata": {},
     "output_type": "execute_result"
    }
   ],
   "source": [
    "arr_random[2] = 100\n",
    "arr_random"
   ]
  },
  {
   "cell_type": "markdown",
   "id": "59606f3b",
   "metadata": {},
   "source": [
    "and now, the value has been changed.\n",
    "\n",
    "##### Change element of 2D array\n",
    "\n",
    "We have generated a 2D array that assign to `arr_2d` and `arr_2d_random` variables. To show an element of 2D array, we use the format `variable[row index][column index]`. Let's use the `arr_2d` variable for example."
   ]
  },
  {
   "cell_type": "code",
   "execution_count": 18,
   "id": "2c6f748d",
   "metadata": {},
   "outputs": [
    {
     "data": {
      "text/plain": [
       "array([[ 1,  2,  3,  4,  5],\n",
       "       [ 6,  7,  8,  9, 10]])"
      ]
     },
     "execution_count": 18,
     "metadata": {},
     "output_type": "execute_result"
    }
   ],
   "source": [
    "arr_2d"
   ]
  },
  {
   "cell_type": "markdown",
   "id": "e4c0a89d",
   "metadata": {},
   "source": [
    "We want to take a value of 4 from the `arr_2d` variable. The value of 4 is in the first row (index of 0) and the forth column (index of 3). Then, we get this value and assign to `value` variable by using command bellow"
   ]
  },
  {
   "cell_type": "code",
   "execution_count": 19,
   "id": "8f69a45a",
   "metadata": {},
   "outputs": [
    {
     "data": {
      "text/plain": [
       "4"
      ]
     },
     "execution_count": 19,
     "metadata": {},
     "output_type": "execute_result"
    }
   ],
   "source": [
    "value = arr_2d[0][3]\n",
    "value"
   ]
  },
  {
   "cell_type": "markdown",
   "id": "45a12719",
   "metadata": {},
   "source": [
    "To change this element just type"
   ]
  },
  {
   "cell_type": "code",
   "execution_count": 20,
   "id": "2519ec7c",
   "metadata": {},
   "outputs": [
    {
     "data": {
      "text/plain": [
       "array([[ 1,  2,  3, 10,  5],\n",
       "       [ 6,  7,  8,  9, 10]])"
      ]
     },
     "execution_count": 20,
     "metadata": {},
     "output_type": "execute_result"
    }
   ],
   "source": [
    "arr_2d[0][3] = 10\n",
    "arr_2d"
   ]
  },
  {
   "cell_type": "markdown",
   "id": "bf720107",
   "metadata": {},
   "source": [
    "the value of 4 has been changed become 10."
   ]
  },
  {
   "cell_type": "markdown",
   "id": "25d9bd77",
   "metadata": {},
   "source": [
    "#### Slice an Array\n",
    "\n",
    "##### 1. 1D Array\n",
    "\n",
    "We can slice a few element of an array based on its index. We use \n",
    "\n",
    "1. `variable[:index number]` to slice all values in array from first index to index number (the index number is not include in the result),\n",
    "2. `variable[index number:]` to slice all values in array an array from index number to end of index and\n",
    "3. `variable[start index number: stop index number]` to slice an array in between index number (the stop index number is not include in the result)\n",
    "\n",
    "Let's try to `arr_random` variable to apply this slice methods."
   ]
  },
  {
   "cell_type": "code",
   "execution_count": 21,
   "id": "58b9f205",
   "metadata": {},
   "outputs": [
    {
     "data": {
      "text/plain": [
       "array([  0.1887854 ,   0.84878078, 100.        ])"
      ]
     },
     "execution_count": 21,
     "metadata": {},
     "output_type": "execute_result"
    }
   ],
   "source": [
    "arr_slice_first = arr_random[:3]\n",
    "arr_slice_first"
   ]
  },
  {
   "cell_type": "code",
   "execution_count": 22,
   "id": "051812ee",
   "metadata": {},
   "outputs": [
    {
     "data": {
      "text/plain": [
       "array([0.72841803, 0.20378705])"
      ]
     },
     "execution_count": 22,
     "metadata": {},
     "output_type": "execute_result"
    }
   ],
   "source": [
    "arr_slice_end = arr_random[3:]\n",
    "arr_slice_end"
   ]
  },
  {
   "cell_type": "code",
   "execution_count": 23,
   "id": "325b5f05",
   "metadata": {},
   "outputs": [
    {
     "data": {
      "text/plain": [
       "array([100.        ,   0.72841803])"
      ]
     },
     "execution_count": 23,
     "metadata": {},
     "output_type": "execute_result"
    }
   ],
   "source": [
    "arr_slice_between = arr_random[2:4]\n",
    "arr_slice_between"
   ]
  },
  {
   "cell_type": "markdown",
   "id": "d565243f",
   "metadata": {},
   "source": [
    "##### 2. 2D Array\n",
    "\n",
    "We are going further to slice 2D array from `arr_2d` variable and get a sub array from it."
   ]
  },
  {
   "cell_type": "code",
   "execution_count": 24,
   "id": "facdc2d9",
   "metadata": {},
   "outputs": [
    {
     "data": {
      "text/plain": [
       "array([[ 1,  2,  3, 10,  5],\n",
       "       [ 6,  7,  8,  9, 10]])"
      ]
     },
     "execution_count": 24,
     "metadata": {},
     "output_type": "execute_result"
    }
   ],
   "source": [
    "arr_2d"
   ]
  },
  {
   "cell_type": "markdown",
   "id": "c27db035",
   "metadata": {},
   "source": [
    "We want to get the element of 2D array of 1, 2, 6 and 7 where:\n",
    "    \n",
    "    - the value of 1 is in the first row (index of 0) and the first column (index of 0),\n",
    "    - the value of 2 is in the first row (index of 0) and the second column (index of 1),\n",
    "    - the value of 6 is in the second row (index of 1) and the first column (index of 0),\n",
    "    - the value of 7 is in the second row (index of 1) and the second column (index of 1).\n",
    "  \n",
    " Then we can assign these values to `arr_2d_new` as follows"
   ]
  },
  {
   "cell_type": "code",
   "execution_count": 25,
   "id": "1dc2e6bf",
   "metadata": {},
   "outputs": [
    {
     "data": {
      "text/plain": [
       "array([[1, 2],\n",
       "       [6, 7]])"
      ]
     },
     "execution_count": 25,
     "metadata": {},
     "output_type": "execute_result"
    }
   ],
   "source": [
    "arr_2d_new = arr_2d[0:2,0:2]\n",
    "arr_2d_new"
   ]
  },
  {
   "cell_type": "markdown",
   "id": "63b3e534",
   "metadata": {},
   "source": [
    "_Remember that, to get the last value of each dimensional (e.g. 2 and 7 these values are in the second index of column which is index of 1 in Python order. So, the index number that you have to write to slice it is 1+1=2)_"
   ]
  },
  {
   "cell_type": "markdown",
   "id": "56584181",
   "metadata": {},
   "source": [
    "#### Basic Mathematical Operation\n",
    "\n",
    "We can apply basic mathematical operation in array, such as summation, subtraction, multiplication and division. In Python, array can be calculated directly with another array or value. For example, we use `arr_randint` variable that has been created previous [sub-chapter](#1.-One-Dimensional-Array)."
   ]
  },
  {
   "cell_type": "code",
   "execution_count": 26,
   "id": "e02c0dbe",
   "metadata": {},
   "outputs": [
    {
     "data": {
      "text/plain": [
       "array([3, 3, 3, 4, 4, 2, 4, 2, 2, 3])"
      ]
     },
     "execution_count": 26,
     "metadata": {},
     "output_type": "execute_result"
    }
   ],
   "source": [
    "arr_randint"
   ]
  },
  {
   "cell_type": "markdown",
   "id": "81412c20",
   "metadata": {},
   "source": [
    "Then, we create a new array that has same size with `arr_randint` which is 10."
   ]
  },
  {
   "cell_type": "code",
   "execution_count": 27,
   "id": "a1b3db52",
   "metadata": {},
   "outputs": [
    {
     "data": {
      "text/plain": [
       "array([4, 3, 3, 9, 7, 5, 9, 8, 6, 8])"
      ]
     },
     "execution_count": 27,
     "metadata": {},
     "output_type": "execute_result"
    }
   ],
   "source": [
    "arr_new = np.random.randint(1,10,size=10)\n",
    "arr_new"
   ]
  },
  {
   "cell_type": "markdown",
   "id": "2cc05660",
   "metadata": {},
   "source": [
    "##### Summation and Subtraction\n",
    "\n",
    "To add these two arrays, we can apply a simple way"
   ]
  },
  {
   "cell_type": "code",
   "execution_count": 28,
   "id": "a723850d",
   "metadata": {},
   "outputs": [
    {
     "data": {
      "text/plain": [
       "array([ 7,  6,  6, 13, 11,  7, 13, 10,  8, 11])"
      ]
     },
     "execution_count": 28,
     "metadata": {},
     "output_type": "execute_result"
    }
   ],
   "source": [
    "arr_addition = arr_randint + arr_new\n",
    "arr_addition"
   ]
  },
  {
   "cell_type": "markdown",
   "id": "899f57b1",
   "metadata": {},
   "source": [
    "and to suctraction"
   ]
  },
  {
   "cell_type": "code",
   "execution_count": 29,
   "id": "5e02451e",
   "metadata": {},
   "outputs": [
    {
     "data": {
      "text/plain": [
       "array([-1,  0,  0, -5, -3, -3, -5, -6, -4, -5])"
      ]
     },
     "execution_count": 29,
     "metadata": {},
     "output_type": "execute_result"
    }
   ],
   "source": [
    "arr_subtraction = arr_randint - arr_new\n",
    "arr_subtraction"
   ]
  },
  {
   "cell_type": "markdown",
   "id": "3a97306b",
   "metadata": {},
   "source": [
    "Then, we add the `arr_randint` with a value = 5"
   ]
  },
  {
   "cell_type": "code",
   "execution_count": 30,
   "id": "f46b15b5",
   "metadata": {},
   "outputs": [],
   "source": [
    "value = 5"
   ]
  },
  {
   "cell_type": "code",
   "execution_count": 31,
   "id": "d0ab92fd",
   "metadata": {},
   "outputs": [
    {
     "data": {
      "text/plain": [
       "array([8, 8, 8, 9, 9, 7, 9, 7, 7, 8])"
      ]
     },
     "execution_count": 31,
     "metadata": {},
     "output_type": "execute_result"
    }
   ],
   "source": [
    "arr_addition_value = arr_randint + value\n",
    "arr_addition_value"
   ]
  },
  {
   "cell_type": "markdown",
   "id": "ef31ec28",
   "metadata": {},
   "source": [
    "and subtraction"
   ]
  },
  {
   "cell_type": "code",
   "execution_count": 32,
   "id": "367715d1",
   "metadata": {},
   "outputs": [
    {
     "data": {
      "text/plain": [
       "array([-2, -2, -2, -1, -1, -3, -1, -3, -3, -2])"
      ]
     },
     "execution_count": 32,
     "metadata": {},
     "output_type": "execute_result"
    }
   ],
   "source": [
    "arr_subtraction_value = arr_randint - value\n",
    "arr_subtraction_value"
   ]
  },
  {
   "cell_type": "markdown",
   "id": "f5028545",
   "metadata": {},
   "source": [
    "##### Multiplication and Division\n",
    "\n",
    "Next, we apply a multiplication in these two arrays (`arr_randint` and `arr_new`)"
   ]
  },
  {
   "cell_type": "code",
   "execution_count": 33,
   "id": "96f659be",
   "metadata": {},
   "outputs": [
    {
     "data": {
      "text/plain": [
       "array([12,  9,  9, 36, 28, 10, 36, 16, 12, 24])"
      ]
     },
     "execution_count": 33,
     "metadata": {},
     "output_type": "execute_result"
    }
   ],
   "source": [
    "arr_multiplication = arr_randint * arr_new\n",
    "arr_multiplication"
   ]
  },
  {
   "cell_type": "markdown",
   "id": "29d94d92",
   "metadata": {},
   "source": [
    "The multiplication process between two arrays will multiply for each pair element and this process also applies in division process"
   ]
  },
  {
   "cell_type": "code",
   "execution_count": 34,
   "id": "d01cf990",
   "metadata": {},
   "outputs": [
    {
     "data": {
      "text/plain": [
       "array([0.75      , 1.        , 1.        , 0.44444444, 0.57142857,\n",
       "       0.4       , 0.44444444, 0.25      , 0.33333333, 0.375     ])"
      ]
     },
     "execution_count": 34,
     "metadata": {},
     "output_type": "execute_result"
    }
   ],
   "source": [
    "arr_division = arr_randint / arr_new\n",
    "arr_division"
   ]
  },
  {
   "cell_type": "markdown",
   "id": "cfaace70",
   "metadata": {},
   "source": [
    "The multiplication or division of array with a value also can be applied, where"
   ]
  },
  {
   "cell_type": "code",
   "execution_count": 35,
   "id": "4ea3525d",
   "metadata": {},
   "outputs": [
    {
     "data": {
      "text/plain": [
       "5"
      ]
     },
     "execution_count": 35,
     "metadata": {},
     "output_type": "execute_result"
    }
   ],
   "source": [
    "value"
   ]
  },
  {
   "cell_type": "code",
   "execution_count": 36,
   "id": "b27fafe9",
   "metadata": {},
   "outputs": [
    {
     "data": {
      "text/plain": [
       "array([15, 15, 15, 20, 20, 10, 20, 10, 10, 15])"
      ]
     },
     "execution_count": 36,
     "metadata": {},
     "output_type": "execute_result"
    }
   ],
   "source": [
    "arr_multiplication_value = arr_randint * value\n",
    "arr_multiplication_value"
   ]
  },
  {
   "cell_type": "code",
   "execution_count": 37,
   "id": "b6167ebc",
   "metadata": {},
   "outputs": [
    {
     "data": {
      "text/plain": [
       "array([0.6, 0.6, 0.6, 0.8, 0.8, 0.4, 0.8, 0.4, 0.4, 0.6])"
      ]
     },
     "execution_count": 37,
     "metadata": {},
     "output_type": "execute_result"
    }
   ],
   "source": [
    "arr_division_value = arr_randint / value\n",
    "arr_division_value"
   ]
  },
  {
   "cell_type": "markdown",
   "id": "fe6ac0e5",
   "metadata": {},
   "source": [
    "##### Trigonometry\n",
    "\n",
    "The numpy library has a method to calculate trigonometry cases, such as sin, cos tan and much more. For example,"
   ]
  },
  {
   "cell_type": "code",
   "execution_count": 45,
   "id": "580b41e2",
   "metadata": {},
   "outputs": [
    {
     "data": {
      "text/plain": [
       "0.8939966636005579"
      ]
     },
     "execution_count": 45,
     "metadata": {},
     "output_type": "execute_result"
    }
   ],
   "source": [
    "mat_sin = np.sin(90)\n",
    "mat_sin"
   ]
  },
  {
   "cell_type": "markdown",
   "id": "8e99100c",
   "metadata": {},
   "source": [
    "as we can see, the result of sin(90) is 0.89 in degree unit. If we want to get the result in radian unit, we have to convert it by multiply `np.pi/180` as follows"
   ]
  },
  {
   "cell_type": "code",
   "execution_count": 56,
   "id": "1850ed17",
   "metadata": {},
   "outputs": [
    {
     "data": {
      "text/plain": [
       "1.0"
      ]
     },
     "execution_count": 56,
     "metadata": {},
     "output_type": "execute_result"
    }
   ],
   "source": [
    "mat_sin_degree = np.sin(90*(np.pi/180))\n",
    "mat_sin_degree"
   ]
  },
  {
   "cell_type": "markdown",
   "id": "746400da",
   "metadata": {},
   "source": [
    "we also can calculate the inverse of sin to degree unit by multiply the radian with `180/np.i` as follows"
   ]
  },
  {
   "cell_type": "code",
   "execution_count": 70,
   "id": "213ee008",
   "metadata": {},
   "outputs": [
    {
     "data": {
      "text/plain": [
       "90.0"
      ]
     },
     "execution_count": 70,
     "metadata": {},
     "output_type": "execute_result"
    }
   ],
   "source": [
    "mat_inv_sin_degree = np.arcsin(1)*(180/np.pi)\n",
    "mat_inv_sin_degree"
   ]
  },
  {
   "cell_type": "markdown",
   "id": "6a5e8a2e",
   "metadata": {},
   "source": [
    "the constant of pi is called by `np.pi` from numpy library.\n",
    "\n",
    "### More Numpy's Methods\n",
    "\n",
    "You can find out more the methods in Numpy library by type `dir(np)` in Python shell or this notebook if you use its alias."
   ]
  },
  {
   "cell_type": "code",
   "execution_count": 81,
   "id": "16a9dd89",
   "metadata": {},
   "outputs": [
    {
     "data": {
      "text/plain": [
       "['ALLOW_THREADS',\n",
       " 'AxisError',\n",
       " 'BUFSIZE',\n",
       " 'Bytes0',\n",
       " 'CLIP',\n",
       " 'ComplexWarning',\n",
       " 'DataSource',\n",
       " 'Datetime64',\n",
       " 'ERR_CALL',\n",
       " 'ERR_DEFAULT',\n",
       " 'ERR_IGNORE',\n",
       " 'ERR_LOG',\n",
       " 'ERR_PRINT',\n",
       " 'ERR_RAISE',\n",
       " 'ERR_WARN',\n",
       " 'FLOATING_POINT_SUPPORT',\n",
       " 'FPE_DIVIDEBYZERO',\n",
       " 'FPE_INVALID',\n",
       " 'FPE_OVERFLOW',\n",
       " 'FPE_UNDERFLOW',\n",
       " 'False_',\n",
       " 'Inf',\n",
       " 'Infinity',\n",
       " 'MAXDIMS',\n",
       " 'MAY_SHARE_BOUNDS',\n",
       " 'MAY_SHARE_EXACT',\n",
       " 'MachAr',\n",
       " 'ModuleDeprecationWarning',\n",
       " 'NAN',\n",
       " 'NINF',\n",
       " 'NZERO',\n",
       " 'NaN',\n",
       " 'PINF',\n",
       " 'PZERO',\n",
       " 'RAISE',\n",
       " 'RankWarning',\n",
       " 'SHIFT_DIVIDEBYZERO',\n",
       " 'SHIFT_INVALID',\n",
       " 'SHIFT_OVERFLOW',\n",
       " 'SHIFT_UNDERFLOW',\n",
       " 'ScalarType',\n",
       " 'Str0',\n",
       " 'Tester',\n",
       " 'TooHardError',\n",
       " 'True_',\n",
       " 'UFUNC_BUFSIZE_DEFAULT',\n",
       " 'UFUNC_PYVALS_NAME',\n",
       " 'Uint64',\n",
       " 'VisibleDeprecationWarning',\n",
       " 'WRAP',\n",
       " '_NoValue',\n",
       " '_UFUNC_API',\n",
       " '__NUMPY_SETUP__',\n",
       " '__all__',\n",
       " '__builtins__',\n",
       " '__cached__',\n",
       " '__config__',\n",
       " '__deprecated_attrs__',\n",
       " '__dir__',\n",
       " '__doc__',\n",
       " '__expired_functions__',\n",
       " '__file__',\n",
       " '__getattr__',\n",
       " '__git_revision__',\n",
       " '__loader__',\n",
       " '__name__',\n",
       " '__package__',\n",
       " '__path__',\n",
       " '__spec__',\n",
       " '__version__',\n",
       " '_add_newdoc_ufunc',\n",
       " '_distributor_init',\n",
       " '_financial_names',\n",
       " '_globals',\n",
       " '_mat',\n",
       " '_pytesttester',\n",
       " 'abs',\n",
       " 'absolute',\n",
       " 'add',\n",
       " 'add_docstring',\n",
       " 'add_newdoc',\n",
       " 'add_newdoc_ufunc',\n",
       " 'alen',\n",
       " 'all',\n",
       " 'allclose',\n",
       " 'alltrue',\n",
       " 'amax',\n",
       " 'amin',\n",
       " 'angle',\n",
       " 'any',\n",
       " 'append',\n",
       " 'apply_along_axis',\n",
       " 'apply_over_axes',\n",
       " 'arange',\n",
       " 'arccos',\n",
       " 'arccosh',\n",
       " 'arcsin',\n",
       " 'arcsinh',\n",
       " 'arctan',\n",
       " 'arctan2',\n",
       " 'arctanh',\n",
       " 'argmax',\n",
       " 'argmin',\n",
       " 'argpartition',\n",
       " 'argsort',\n",
       " 'argwhere',\n",
       " 'around',\n",
       " 'array',\n",
       " 'array2string',\n",
       " 'array_equal',\n",
       " 'array_equiv',\n",
       " 'array_repr',\n",
       " 'array_split',\n",
       " 'array_str',\n",
       " 'asanyarray',\n",
       " 'asarray',\n",
       " 'asarray_chkfinite',\n",
       " 'ascontiguousarray',\n",
       " 'asfarray',\n",
       " 'asfortranarray',\n",
       " 'asmatrix',\n",
       " 'asscalar',\n",
       " 'atleast_1d',\n",
       " 'atleast_2d',\n",
       " 'atleast_3d',\n",
       " 'average',\n",
       " 'bartlett',\n",
       " 'base_repr',\n",
       " 'binary_repr',\n",
       " 'bincount',\n",
       " 'bitwise_and',\n",
       " 'bitwise_not',\n",
       " 'bitwise_or',\n",
       " 'bitwise_xor',\n",
       " 'blackman',\n",
       " 'block',\n",
       " 'bmat',\n",
       " 'bool8',\n",
       " 'bool_',\n",
       " 'broadcast',\n",
       " 'broadcast_arrays',\n",
       " 'broadcast_shapes',\n",
       " 'broadcast_to',\n",
       " 'busday_count',\n",
       " 'busday_offset',\n",
       " 'busdaycalendar',\n",
       " 'byte',\n",
       " 'byte_bounds',\n",
       " 'bytes0',\n",
       " 'bytes_',\n",
       " 'c_',\n",
       " 'can_cast',\n",
       " 'cast',\n",
       " 'cbrt',\n",
       " 'cdouble',\n",
       " 'ceil',\n",
       " 'cfloat',\n",
       " 'char',\n",
       " 'character',\n",
       " 'chararray',\n",
       " 'choose',\n",
       " 'clip',\n",
       " 'clongdouble',\n",
       " 'clongfloat',\n",
       " 'column_stack',\n",
       " 'common_type',\n",
       " 'compare_chararrays',\n",
       " 'compat',\n",
       " 'complex128',\n",
       " 'complex64',\n",
       " 'complex_',\n",
       " 'complexfloating',\n",
       " 'compress',\n",
       " 'concatenate',\n",
       " 'conj',\n",
       " 'conjugate',\n",
       " 'convolve',\n",
       " 'copy',\n",
       " 'copysign',\n",
       " 'copyto',\n",
       " 'core',\n",
       " 'corrcoef',\n",
       " 'correlate',\n",
       " 'cos',\n",
       " 'cosh',\n",
       " 'count_nonzero',\n",
       " 'cov',\n",
       " 'cross',\n",
       " 'csingle',\n",
       " 'ctypeslib',\n",
       " 'cumprod',\n",
       " 'cumproduct',\n",
       " 'cumsum',\n",
       " 'datetime64',\n",
       " 'datetime_as_string',\n",
       " 'datetime_data',\n",
       " 'deg2rad',\n",
       " 'degrees',\n",
       " 'delete',\n",
       " 'deprecate',\n",
       " 'deprecate_with_doc',\n",
       " 'diag',\n",
       " 'diag_indices',\n",
       " 'diag_indices_from',\n",
       " 'diagflat',\n",
       " 'diagonal',\n",
       " 'diff',\n",
       " 'digitize',\n",
       " 'disp',\n",
       " 'divide',\n",
       " 'divmod',\n",
       " 'dot',\n",
       " 'double',\n",
       " 'dsplit',\n",
       " 'dstack',\n",
       " 'dtype',\n",
       " 'e',\n",
       " 'ediff1d',\n",
       " 'einsum',\n",
       " 'einsum_path',\n",
       " 'emath',\n",
       " 'empty',\n",
       " 'empty_like',\n",
       " 'equal',\n",
       " 'errstate',\n",
       " 'euler_gamma',\n",
       " 'exp',\n",
       " 'exp2',\n",
       " 'expand_dims',\n",
       " 'expm1',\n",
       " 'extract',\n",
       " 'eye',\n",
       " 'fabs',\n",
       " 'fastCopyAndTranspose',\n",
       " 'fft',\n",
       " 'fill_diagonal',\n",
       " 'find_common_type',\n",
       " 'finfo',\n",
       " 'fix',\n",
       " 'flatiter',\n",
       " 'flatnonzero',\n",
       " 'flexible',\n",
       " 'flip',\n",
       " 'fliplr',\n",
       " 'flipud',\n",
       " 'float16',\n",
       " 'float32',\n",
       " 'float64',\n",
       " 'float_',\n",
       " 'float_power',\n",
       " 'floating',\n",
       " 'floor',\n",
       " 'floor_divide',\n",
       " 'fmax',\n",
       " 'fmin',\n",
       " 'fmod',\n",
       " 'format_float_positional',\n",
       " 'format_float_scientific',\n",
       " 'format_parser',\n",
       " 'frexp',\n",
       " 'frombuffer',\n",
       " 'fromfile',\n",
       " 'fromfunction',\n",
       " 'fromiter',\n",
       " 'frompyfunc',\n",
       " 'fromregex',\n",
       " 'fromstring',\n",
       " 'full',\n",
       " 'full_like',\n",
       " 'gcd',\n",
       " 'generic',\n",
       " 'genfromtxt',\n",
       " 'geomspace',\n",
       " 'get_array_wrap',\n",
       " 'get_include',\n",
       " 'get_printoptions',\n",
       " 'getbufsize',\n",
       " 'geterr',\n",
       " 'geterrcall',\n",
       " 'geterrobj',\n",
       " 'gradient',\n",
       " 'greater',\n",
       " 'greater_equal',\n",
       " 'half',\n",
       " 'hamming',\n",
       " 'hanning',\n",
       " 'heaviside',\n",
       " 'histogram',\n",
       " 'histogram2d',\n",
       " 'histogram_bin_edges',\n",
       " 'histogramdd',\n",
       " 'hsplit',\n",
       " 'hstack',\n",
       " 'hypot',\n",
       " 'i0',\n",
       " 'identity',\n",
       " 'iinfo',\n",
       " 'imag',\n",
       " 'in1d',\n",
       " 'index_exp',\n",
       " 'indices',\n",
       " 'inexact',\n",
       " 'inf',\n",
       " 'info',\n",
       " 'infty',\n",
       " 'inner',\n",
       " 'insert',\n",
       " 'int0',\n",
       " 'int16',\n",
       " 'int32',\n",
       " 'int64',\n",
       " 'int8',\n",
       " 'int_',\n",
       " 'intc',\n",
       " 'integer',\n",
       " 'interp',\n",
       " 'intersect1d',\n",
       " 'intp',\n",
       " 'invert',\n",
       " 'is_busday',\n",
       " 'isclose',\n",
       " 'iscomplex',\n",
       " 'iscomplexobj',\n",
       " 'isfinite',\n",
       " 'isfortran',\n",
       " 'isin',\n",
       " 'isinf',\n",
       " 'isnan',\n",
       " 'isnat',\n",
       " 'isneginf',\n",
       " 'isposinf',\n",
       " 'isreal',\n",
       " 'isrealobj',\n",
       " 'isscalar',\n",
       " 'issctype',\n",
       " 'issubclass_',\n",
       " 'issubdtype',\n",
       " 'issubsctype',\n",
       " 'iterable',\n",
       " 'ix_',\n",
       " 'kaiser',\n",
       " 'kron',\n",
       " 'lcm',\n",
       " 'ldexp',\n",
       " 'left_shift',\n",
       " 'less',\n",
       " 'less_equal',\n",
       " 'lexsort',\n",
       " 'lib',\n",
       " 'linalg',\n",
       " 'linspace',\n",
       " 'little_endian',\n",
       " 'load',\n",
       " 'loads',\n",
       " 'loadtxt',\n",
       " 'log',\n",
       " 'log10',\n",
       " 'log1p',\n",
       " 'log2',\n",
       " 'logaddexp',\n",
       " 'logaddexp2',\n",
       " 'logical_and',\n",
       " 'logical_not',\n",
       " 'logical_or',\n",
       " 'logical_xor',\n",
       " 'logspace',\n",
       " 'longcomplex',\n",
       " 'longdouble',\n",
       " 'longfloat',\n",
       " 'longlong',\n",
       " 'lookfor',\n",
       " 'ma',\n",
       " 'mafromtxt',\n",
       " 'mask_indices',\n",
       " 'mat',\n",
       " 'math',\n",
       " 'matmul',\n",
       " 'matrix',\n",
       " 'matrixlib',\n",
       " 'max',\n",
       " 'maximum',\n",
       " 'maximum_sctype',\n",
       " 'may_share_memory',\n",
       " 'mean',\n",
       " 'median',\n",
       " 'memmap',\n",
       " 'meshgrid',\n",
       " 'mgrid',\n",
       " 'min',\n",
       " 'min_scalar_type',\n",
       " 'minimum',\n",
       " 'mintypecode',\n",
       " 'mod',\n",
       " 'modf',\n",
       " 'moveaxis',\n",
       " 'msort',\n",
       " 'multiply',\n",
       " 'nan',\n",
       " 'nan_to_num',\n",
       " 'nanargmax',\n",
       " 'nanargmin',\n",
       " 'nancumprod',\n",
       " 'nancumsum',\n",
       " 'nanmax',\n",
       " 'nanmean',\n",
       " 'nanmedian',\n",
       " 'nanmin',\n",
       " 'nanpercentile',\n",
       " 'nanprod',\n",
       " 'nanquantile',\n",
       " 'nanstd',\n",
       " 'nansum',\n",
       " 'nanvar',\n",
       " 'nbytes',\n",
       " 'ndarray',\n",
       " 'ndenumerate',\n",
       " 'ndfromtxt',\n",
       " 'ndim',\n",
       " 'ndindex',\n",
       " 'nditer',\n",
       " 'negative',\n",
       " 'nested_iters',\n",
       " 'newaxis',\n",
       " 'nextafter',\n",
       " 'nonzero',\n",
       " 'not_equal',\n",
       " 'numarray',\n",
       " 'number',\n",
       " 'obj2sctype',\n",
       " 'object0',\n",
       " 'object_',\n",
       " 'ogrid',\n",
       " 'oldnumeric',\n",
       " 'ones',\n",
       " 'ones_like',\n",
       " 'os',\n",
       " 'outer',\n",
       " 'packbits',\n",
       " 'pad',\n",
       " 'partition',\n",
       " 'percentile',\n",
       " 'pi',\n",
       " 'piecewise',\n",
       " 'place',\n",
       " 'poly',\n",
       " 'poly1d',\n",
       " 'polyadd',\n",
       " 'polyder',\n",
       " 'polydiv',\n",
       " 'polyfit',\n",
       " 'polyint',\n",
       " 'polymul',\n",
       " 'polynomial',\n",
       " 'polysub',\n",
       " 'polyval',\n",
       " 'positive',\n",
       " 'power',\n",
       " 'printoptions',\n",
       " 'prod',\n",
       " 'product',\n",
       " 'promote_types',\n",
       " 'ptp',\n",
       " 'put',\n",
       " 'put_along_axis',\n",
       " 'putmask',\n",
       " 'quantile',\n",
       " 'r_',\n",
       " 'rad2deg',\n",
       " 'radians',\n",
       " 'random',\n",
       " 'ravel',\n",
       " 'ravel_multi_index',\n",
       " 'real',\n",
       " 'real_if_close',\n",
       " 'rec',\n",
       " 'recarray',\n",
       " 'recfromcsv',\n",
       " 'recfromtxt',\n",
       " 'reciprocal',\n",
       " 'record',\n",
       " 'remainder',\n",
       " 'repeat',\n",
       " 'require',\n",
       " 'reshape',\n",
       " 'resize',\n",
       " 'result_type',\n",
       " 'right_shift',\n",
       " 'rint',\n",
       " 'roll',\n",
       " 'rollaxis',\n",
       " 'roots',\n",
       " 'rot90',\n",
       " 'round',\n",
       " 'round_',\n",
       " 'row_stack',\n",
       " 's_',\n",
       " 'safe_eval',\n",
       " 'save',\n",
       " 'savetxt',\n",
       " 'savez',\n",
       " 'savez_compressed',\n",
       " 'sctype2char',\n",
       " 'sctypeDict',\n",
       " 'sctypes',\n",
       " 'searchsorted',\n",
       " 'select',\n",
       " 'set_numeric_ops',\n",
       " 'set_printoptions',\n",
       " 'set_string_function',\n",
       " 'setbufsize',\n",
       " 'setdiff1d',\n",
       " 'seterr',\n",
       " 'seterrcall',\n",
       " 'seterrobj',\n",
       " 'setxor1d',\n",
       " 'shape',\n",
       " 'shares_memory',\n",
       " 'short',\n",
       " 'show_config',\n",
       " 'sign',\n",
       " 'signbit',\n",
       " 'signedinteger',\n",
       " 'sin',\n",
       " 'sinc',\n",
       " 'single',\n",
       " 'singlecomplex',\n",
       " 'sinh',\n",
       " 'size',\n",
       " 'sometrue',\n",
       " 'sort',\n",
       " 'sort_complex',\n",
       " 'source',\n",
       " 'spacing',\n",
       " 'split',\n",
       " 'sqrt',\n",
       " 'square',\n",
       " 'squeeze',\n",
       " 'stack',\n",
       " 'std',\n",
       " 'str0',\n",
       " 'str_',\n",
       " 'string_',\n",
       " 'subtract',\n",
       " 'sum',\n",
       " 'swapaxes',\n",
       " 'sys',\n",
       " 'take',\n",
       " 'take_along_axis',\n",
       " 'tan',\n",
       " 'tanh',\n",
       " 'tensordot',\n",
       " 'test',\n",
       " 'testing',\n",
       " 'tile',\n",
       " 'timedelta64',\n",
       " 'trace',\n",
       " 'tracemalloc_domain',\n",
       " 'transpose',\n",
       " 'trapz',\n",
       " 'tri',\n",
       " 'tril',\n",
       " 'tril_indices',\n",
       " 'tril_indices_from',\n",
       " 'trim_zeros',\n",
       " 'triu',\n",
       " 'triu_indices',\n",
       " 'triu_indices_from',\n",
       " 'true_divide',\n",
       " 'trunc',\n",
       " 'typeDict',\n",
       " 'typecodes',\n",
       " 'typename',\n",
       " 'ubyte',\n",
       " 'ufunc',\n",
       " 'uint',\n",
       " 'uint0',\n",
       " 'uint16',\n",
       " 'uint32',\n",
       " 'uint64',\n",
       " 'uint8',\n",
       " 'uintc',\n",
       " 'uintp',\n",
       " 'ulonglong',\n",
       " 'unicode_',\n",
       " 'union1d',\n",
       " 'unique',\n",
       " 'unpackbits',\n",
       " 'unravel_index',\n",
       " 'unsignedinteger',\n",
       " 'unwrap',\n",
       " 'use_hugepage',\n",
       " 'ushort',\n",
       " 'vander',\n",
       " 'var',\n",
       " 'vdot',\n",
       " 'vectorize',\n",
       " 'version',\n",
       " 'void',\n",
       " 'void0',\n",
       " 'vsplit',\n",
       " 'vstack',\n",
       " 'warnings',\n",
       " 'where',\n",
       " 'who',\n",
       " 'zeros',\n",
       " 'zeros_like']"
      ]
     },
     "execution_count": 81,
     "metadata": {},
     "output_type": "execute_result"
    }
   ],
   "source": [
    "dir(np)"
   ]
  },
  {
   "cell_type": "code",
   "execution_count": null,
   "id": "18ff3c01",
   "metadata": {},
   "outputs": [],
   "source": []
  }
 ],
 "metadata": {
  "kernelspec": {
   "display_name": "Python 3",
   "language": "python",
   "name": "python3"
  },
  "language_info": {
   "codemirror_mode": {
    "name": "ipython",
    "version": 3
   },
   "file_extension": ".py",
   "mimetype": "text/x-python",
   "name": "python",
   "nbconvert_exporter": "python",
   "pygments_lexer": "ipython3",
   "version": "3.8.7"
  }
 },
 "nbformat": 4,
 "nbformat_minor": 5
}
