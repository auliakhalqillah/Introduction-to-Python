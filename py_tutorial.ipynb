{
 "cells": [
  {
   "cell_type": "markdown",
   "id": "667d6093",
   "metadata": {},
   "source": [
    "<img align=\"left\" width=\"500\" height=\"500\" src=\"https://www.python.org/static/community_logos/python-logo-inkscape.svg\">"
   ]
  },
  {
   "cell_type": "markdown",
   "id": "e8fcf7ef",
   "metadata": {},
   "source": [
    "<div align=\"left\">\n",
    "    <h1>Tutorial Python 3</h1>\n",
    "</div>\n",
    "\n",
    "<div align=\"left\">\n",
    "    <h3>Written by: Aulia Khalqillah, S.Si., M.Si</h3>\n",
    "</div>"
   ]
  },
  {
   "cell_type": "markdown",
   "id": "4beecac5",
   "metadata": {},
   "source": [
    "## Table of Contents\n",
    "\n",
    "[Working With Libraries](#Working-With-Libraries)\n",
    "\n",
    "- [1. Numpy](#1.-Numpy)\n",
    "    * [Generate Array](#Generate-Array)\n",
    "    * [Array Index](#Array-Index)\n",
    "    * [Generate Random Array](#Generate-Random-Array)\n",
    "        + [1. One Dimensional Array](#1.-One-Dimensional-Array)\n",
    "        + [2. Two Domensional Array](#2.-Two-Dimensional-Array)\n",
    "    * [Modification an Array](#Modification-an-Array)\n",
    "        + [Change Element of 1D Array](#Change-element-of-1D-array)\n",
    "        + [Change Element of 2D Array](#Change-element-of-2D-array)\n",
    "    * [Slice an Array](#Slice-an-Array)\n",
    "        + [1D Array](#1.-1D-Array)\n",
    "        + [2D Array](#2.-2D-Array)\n",
    "    * [Basic Mathematical Operation](#Basic-Mathematical-Operation)\n",
    "    * [More Numpy's Methods](#More-Numpy's-Methods)\n",
    " \n",
    " \n",
    "- [2. Pandas](#2.-Pandas)\n",
    "    * [Read CSV File](#Read-CSV-File)\n",
    "    * [Get an Information File](#Get-an-Information-File)\n",
    "    * [Remove a Certain Data](#Remove-a-Certain-Data)\n",
    "    * [Select Some of Column](#Select-Some-of-Column)\n",
    "    * [Identify Minimum and Maximum of Time](#Identify-Minimum-and-Maximum-of-Time)\n",
    "    * [Modify an Attribute of Data](#Modify-an-Attribute-of-Data)\n",
    "        + [Rename a Column Name](#Rename-a-Column-Name)\n",
    "        + [Change a String Fromat](#Change-a-String-Format)\n",
    "        + [Time Modification](#Time-Modification)\n",
    "        + [Data Sorting](#Data-Sorting)"
   ]
  },
  {
   "cell_type": "markdown",
   "id": "4176087e",
   "metadata": {},
   "source": [
    "## Working With Libraries\n",
    "### 1. Numpy\n",
    "Import a numpy library by type the following command"
   ]
  },
  {
   "cell_type": "code",
   "execution_count": 78,
   "id": "9e4e9bcc",
   "metadata": {
    "scrolled": true
   },
   "outputs": [],
   "source": [
    "import numpy as np"
   ]
  },
  {
   "cell_type": "markdown",
   "id": "746a387e",
   "metadata": {},
   "source": [
    "The `np` in command above is the alias of numpy library that I write. This alias can be modified with any alias name. So, we just type `np.(method)` to call a method from numpy library. "
   ]
  },
  {
   "cell_type": "markdown",
   "id": "d24814d8",
   "metadata": {},
   "source": [
    "#### Generate Array\n",
    "\n",
    "I'm going to create an array by using two method that are `arange` method and `linspace` method.\n",
    "\n",
    "##### a. arange\n",
    "\n",
    "The format of `np.arange` is `np.arange(start, stop, step)`. For example, I generate an array without using `step` and the result will be asign to `arr` variable as follows"
   ]
  },
  {
   "cell_type": "code",
   "execution_count": 79,
   "id": "ec1a3471",
   "metadata": {
    "scrolled": true
   },
   "outputs": [
    {
     "data": {
      "text/plain": [
       "array([0, 1, 2, 3, 4, 5, 6, 7, 8, 9])"
      ]
     },
     "execution_count": 79,
     "metadata": {},
     "output_type": "execute_result"
    }
   ],
   "source": [
    "arr = np.arange(0,10)\n",
    "arr"
   ]
  },
  {
   "cell_type": "markdown",
   "id": "4871a6d6",
   "metadata": {},
   "source": [
    "with `step` where the value is 2 and I assign the result to `arr_step` variable"
   ]
  },
  {
   "cell_type": "code",
   "execution_count": 80,
   "id": "f2a78d7e",
   "metadata": {
    "scrolled": true
   },
   "outputs": [
    {
     "data": {
      "text/plain": [
       "array([0, 2, 4, 6, 8])"
      ]
     },
     "execution_count": 80,
     "metadata": {},
     "output_type": "execute_result"
    }
   ],
   "source": [
    "arr_step = np.arange(0,10,2)\n",
    "arr_step"
   ]
  },
  {
   "cell_type": "markdown",
   "id": "175dcf84",
   "metadata": {},
   "source": [
    "the result is even array."
   ]
  },
  {
   "cell_type": "markdown",
   "id": "3a96e01c",
   "metadata": {},
   "source": [
    "##### b. linspace\n",
    "\n",
    "Now, I'm going to generate an array by using `linspace` method. The format of `np.linspace` is `np.linspace(start,stop,length of data)`. First, I generate an array without input a length of data and I assign the result to `arr_linspace` variable as follows"
   ]
  },
  {
   "cell_type": "code",
   "execution_count": 81,
   "id": "eb22d9f5",
   "metadata": {
    "scrolled": false
   },
   "outputs": [
    {
     "data": {
      "text/plain": [
       "array([0.        , 0.01020408, 0.02040816, 0.03061224, 0.04081633,\n",
       "       0.05102041, 0.06122449, 0.07142857, 0.08163265, 0.09183673,\n",
       "       0.10204082, 0.1122449 , 0.12244898, 0.13265306, 0.14285714,\n",
       "       0.15306122, 0.16326531, 0.17346939, 0.18367347, 0.19387755,\n",
       "       0.20408163, 0.21428571, 0.2244898 , 0.23469388, 0.24489796,\n",
       "       0.25510204, 0.26530612, 0.2755102 , 0.28571429, 0.29591837,\n",
       "       0.30612245, 0.31632653, 0.32653061, 0.33673469, 0.34693878,\n",
       "       0.35714286, 0.36734694, 0.37755102, 0.3877551 , 0.39795918,\n",
       "       0.40816327, 0.41836735, 0.42857143, 0.43877551, 0.44897959,\n",
       "       0.45918367, 0.46938776, 0.47959184, 0.48979592, 0.5       ])"
      ]
     },
     "execution_count": 81,
     "metadata": {},
     "output_type": "execute_result"
    }
   ],
   "source": [
    "arr_linspace = np.linspace(0,0.5)\n",
    "arr_linspace"
   ]
  },
  {
   "cell_type": "markdown",
   "id": "1018e3ab",
   "metadata": {},
   "source": [
    "to check the length of data, you can type the `len(variable name)` function as follows"
   ]
  },
  {
   "cell_type": "code",
   "execution_count": 82,
   "id": "c970aee7",
   "metadata": {
    "scrolled": true
   },
   "outputs": [
    {
     "data": {
      "text/plain": [
       "50"
      ]
     },
     "execution_count": 82,
     "metadata": {},
     "output_type": "execute_result"
    }
   ],
   "source": [
    "len(arr_linspace)"
   ]
  },
  {
   "cell_type": "markdown",
   "id": "25b30007",
   "metadata": {},
   "source": [
    "as we can see, the array has been generated start from 0 to 0.5 in 50 length of data as default configuration. Next, I generate an array with input a length of data e.g. 70 values and I assign the result to `arr_linspace_length` variable as follows"
   ]
  },
  {
   "cell_type": "code",
   "execution_count": 83,
   "id": "c0844422",
   "metadata": {
    "scrolled": true
   },
   "outputs": [
    {
     "data": {
      "text/plain": [
       "array([0.        , 0.00724638, 0.01449275, 0.02173913, 0.02898551,\n",
       "       0.03623188, 0.04347826, 0.05072464, 0.05797101, 0.06521739,\n",
       "       0.07246377, 0.07971014, 0.08695652, 0.0942029 , 0.10144928,\n",
       "       0.10869565, 0.11594203, 0.12318841, 0.13043478, 0.13768116,\n",
       "       0.14492754, 0.15217391, 0.15942029, 0.16666667, 0.17391304,\n",
       "       0.18115942, 0.1884058 , 0.19565217, 0.20289855, 0.21014493,\n",
       "       0.2173913 , 0.22463768, 0.23188406, 0.23913043, 0.24637681,\n",
       "       0.25362319, 0.26086957, 0.26811594, 0.27536232, 0.2826087 ,\n",
       "       0.28985507, 0.29710145, 0.30434783, 0.3115942 , 0.31884058,\n",
       "       0.32608696, 0.33333333, 0.34057971, 0.34782609, 0.35507246,\n",
       "       0.36231884, 0.36956522, 0.37681159, 0.38405797, 0.39130435,\n",
       "       0.39855072, 0.4057971 , 0.41304348, 0.42028986, 0.42753623,\n",
       "       0.43478261, 0.44202899, 0.44927536, 0.45652174, 0.46376812,\n",
       "       0.47101449, 0.47826087, 0.48550725, 0.49275362, 0.5       ])"
      ]
     },
     "execution_count": 83,
     "metadata": {},
     "output_type": "execute_result"
    }
   ],
   "source": [
    "arr_linspace_length = np.linspace(0,0.5,70)\n",
    "arr_linspace_length"
   ]
  },
  {
   "cell_type": "markdown",
   "id": "f7ad376c",
   "metadata": {},
   "source": [
    "##### c. List\n",
    "\n",
    "We can also convert an array data type to list data type as follows"
   ]
  },
  {
   "cell_type": "code",
   "execution_count": 84,
   "id": "77814690",
   "metadata": {},
   "outputs": [
    {
     "data": {
      "text/plain": [
       "[0.0,\n",
       " 0.01020408163265306,\n",
       " 0.02040816326530612,\n",
       " 0.030612244897959183,\n",
       " 0.04081632653061224,\n",
       " 0.0510204081632653,\n",
       " 0.061224489795918366,\n",
       " 0.07142857142857142,\n",
       " 0.08163265306122448,\n",
       " 0.09183673469387754,\n",
       " 0.1020408163265306,\n",
       " 0.11224489795918366,\n",
       " 0.12244897959183673,\n",
       " 0.13265306122448978,\n",
       " 0.14285714285714285,\n",
       " 0.1530612244897959,\n",
       " 0.16326530612244897,\n",
       " 0.17346938775510204,\n",
       " 0.18367346938775508,\n",
       " 0.19387755102040816,\n",
       " 0.2040816326530612,\n",
       " 0.21428571428571427,\n",
       " 0.22448979591836732,\n",
       " 0.2346938775510204,\n",
       " 0.24489795918367346,\n",
       " 0.25510204081632654,\n",
       " 0.26530612244897955,\n",
       " 0.2755102040816326,\n",
       " 0.2857142857142857,\n",
       " 0.29591836734693877,\n",
       " 0.3061224489795918,\n",
       " 0.31632653061224486,\n",
       " 0.32653061224489793,\n",
       " 0.336734693877551,\n",
       " 0.3469387755102041,\n",
       " 0.3571428571428571,\n",
       " 0.36734693877551017,\n",
       " 0.37755102040816324,\n",
       " 0.3877551020408163,\n",
       " 0.39795918367346933,\n",
       " 0.4081632653061224,\n",
       " 0.4183673469387755,\n",
       " 0.42857142857142855,\n",
       " 0.4387755102040816,\n",
       " 0.44897959183673464,\n",
       " 0.4591836734693877,\n",
       " 0.4693877551020408,\n",
       " 0.47959183673469385,\n",
       " 0.4897959183673469,\n",
       " 0.5]"
      ]
     },
     "execution_count": 84,
     "metadata": {},
     "output_type": "execute_result"
    }
   ],
   "source": [
    "list(arr_linspace)"
   ]
  },
  {
   "cell_type": "markdown",
   "id": "eaa28b9e",
   "metadata": {},
   "source": [
    "#### Generate 'Zeros' Element of  Array\n",
    "\n",
    "We can easy to generate an array that contain of zero by using `np.zeros(length of data)` method. For example, I generate a zero array for 10 length of data as follows"
   ]
  },
  {
   "cell_type": "code",
   "execution_count": 85,
   "id": "e9961b9d",
   "metadata": {
    "scrolled": true
   },
   "outputs": [
    {
     "data": {
      "text/plain": [
       "array([0., 0., 0., 0., 0., 0., 0., 0., 0., 0.])"
      ]
     },
     "execution_count": 85,
     "metadata": {},
     "output_type": "execute_result"
    }
   ],
   "source": [
    "arr_zeros = np.zeros(10)\n",
    "arr_zeros"
   ]
  },
  {
   "cell_type": "markdown",
   "id": "09da1f22",
   "metadata": {},
   "source": [
    "#### Generate 'Ones' Element of Array\n",
    "\n",
    "The same way when we want to generate an array that contain element of 1 for entire array element by using `np.ones(length of data)` method. For example"
   ]
  },
  {
   "cell_type": "code",
   "execution_count": 86,
   "id": "0d7d2f02",
   "metadata": {
    "scrolled": true
   },
   "outputs": [
    {
     "data": {
      "text/plain": [
       "array([1., 1., 1., 1., 1., 1., 1., 1., 1., 1.])"
      ]
     },
     "execution_count": 86,
     "metadata": {},
     "output_type": "execute_result"
    }
   ],
   "source": [
    "arr_ones = np.ones(10)\n",
    "arr_ones"
   ]
  },
  {
   "cell_type": "markdown",
   "id": "f1b994e4",
   "metadata": {},
   "source": [
    "#### Array Index\n",
    "\n",
    "We already have generate an array as previous methods. Now, if we want to access a specific value in the array, we have to identify its index number. In Python, the first index number is started from 0, the second index is 1 and so on. For example, we use a variable of `arr_linspace_length` to get a specific value from the second index which is 1. By typing the following command where the index number is written inside a bracket."
   ]
  },
  {
   "cell_type": "code",
   "execution_count": 87,
   "id": "4cbe427e",
   "metadata": {
    "scrolled": true
   },
   "outputs": [
    {
     "data": {
      "text/plain": [
       "0.007246376811594203"
      ]
     },
     "execution_count": 87,
     "metadata": {},
     "output_type": "execute_result"
    }
   ],
   "source": [
    "arr_linspace_length[1]"
   ]
  },
  {
   "cell_type": "markdown",
   "id": "b18642c9",
   "metadata": {},
   "source": [
    "_**Remember, in Python, the first index is started from 0**_. \n",
    "\n",
    "We can take the last value from `arr_linspace_length` variable as follows command"
   ]
  },
  {
   "cell_type": "code",
   "execution_count": 88,
   "id": "78e6addc",
   "metadata": {
    "scrolled": true
   },
   "outputs": [
    {
     "data": {
      "text/plain": [
       "0.5"
      ]
     },
     "execution_count": 88,
     "metadata": {},
     "output_type": "execute_result"
    }
   ],
   "source": [
    "arr_linspace_length[69]"
   ]
  },
  {
   "cell_type": "markdown",
   "id": "89838630",
   "metadata": {},
   "source": [
    "where the 69 is the last index of this array. For the simplicity, the last index number is `the length of data - 1`. If we want to take a value from index number of 10, we can type"
   ]
  },
  {
   "cell_type": "code",
   "execution_count": 89,
   "id": "85c187e6",
   "metadata": {
    "scrolled": true
   },
   "outputs": [
    {
     "data": {
      "text/plain": [
       "0.07246376811594203"
      ]
     },
     "execution_count": 89,
     "metadata": {},
     "output_type": "execute_result"
    }
   ],
   "source": [
    "arr_linspace_length[10]"
   ]
  },
  {
   "cell_type": "markdown",
   "id": "af42f310",
   "metadata": {},
   "source": [
    "#### Generate Random Array\n",
    "\n",
    "##### 1. One Dimensional Array\n",
    "\n",
    "Numpy has a random method to generate a random array values. The format to call this method is `np.random.(method)(length of data)`. Generally, there are three methods in random class, `rand`, `randn`, and `randint`. \n",
    "\n",
    "1. `rand(row,col)`    : generate a standard random array.\n",
    "2. `randn(row,col)`   : generate a random array based on normal distribution.\n",
    "3. `randint(low, high=None, size=None)` : generate a single integer random number as default."
   ]
  },
  {
   "cell_type": "code",
   "execution_count": 90,
   "id": "291c244a",
   "metadata": {
    "scrolled": true
   },
   "outputs": [
    {
     "data": {
      "text/plain": [
       "array([0.44854167, 0.4164883 , 0.2288404 , 0.66550275, 0.33566499])"
      ]
     },
     "execution_count": 90,
     "metadata": {},
     "output_type": "execute_result"
    }
   ],
   "source": [
    "arr_random = np.random.rand(5)\n",
    "arr_random"
   ]
  },
  {
   "cell_type": "code",
   "execution_count": 91,
   "id": "a1959e05",
   "metadata": {
    "scrolled": true
   },
   "outputs": [
    {
     "data": {
      "text/plain": [
       "array([-1.08724689, -0.64138902,  0.62244304,  0.57085004,  1.65944755])"
      ]
     },
     "execution_count": 91,
     "metadata": {},
     "output_type": "execute_result"
    }
   ],
   "source": [
    "arr_randn = np.random.randn(5)\n",
    "arr_randn"
   ]
  },
  {
   "cell_type": "code",
   "execution_count": 92,
   "id": "cb0b1999",
   "metadata": {
    "scrolled": true
   },
   "outputs": [
    {
     "data": {
      "text/plain": [
       "array([3, 3, 2, 4, 3, 4, 2, 3, 2, 2])"
      ]
     },
     "execution_count": 92,
     "metadata": {},
     "output_type": "execute_result"
    }
   ],
   "source": [
    "arr_randint = np.random.randint(2,5,size=10)\n",
    "arr_randint"
   ]
  },
  {
   "cell_type": "markdown",
   "id": "97d5f77a",
   "metadata": {},
   "source": [
    "##### 2. Two Dimensional Array\n",
    "\n",
    "We have done to generate a 1D array. Next, we generate a 2D array by using numpy library. To do this, we apply an `array` method as the following command."
   ]
  },
  {
   "cell_type": "code",
   "execution_count": 93,
   "id": "2ed8335b",
   "metadata": {
    "scrolled": true
   },
   "outputs": [
    {
     "data": {
      "text/plain": [
       "array([[ 1,  2,  3,  4,  5],\n",
       "       [ 6,  7,  8,  9, 10]])"
      ]
     },
     "execution_count": 93,
     "metadata": {},
     "output_type": "execute_result"
    }
   ],
   "source": [
    "arr_2d = np.array([[1,2,3,4,5],[6,7,8,9,10]])\n",
    "arr_2d"
   ]
  },
  {
   "cell_type": "markdown",
   "id": "003532bc",
   "metadata": {},
   "source": [
    "Now, we have 2D array that means we have 2 rows and 5 columns. By using array method, we have to set the element of array manually as above command. We can use a `random.rand()` or `random.randn()` method to generate a 2D array. "
   ]
  },
  {
   "cell_type": "code",
   "execution_count": 94,
   "id": "25c0569e",
   "metadata": {
    "scrolled": true
   },
   "outputs": [
    {
     "data": {
      "text/plain": [
       "array([[0.29702148, 0.08489465, 0.09915388, 0.17534502, 0.84779297],\n",
       "       [0.81255891, 0.66664855, 0.38519303, 0.72253069, 0.65633352],\n",
       "       [0.1449875 , 0.13569936, 0.40827561, 0.54322247, 0.1955537 ],\n",
       "       [0.78438445, 0.25718252, 0.97822879, 0.23727725, 0.62068955],\n",
       "       [0.30526966, 0.29174415, 0.4600008 , 0.81515841, 0.73416404]])"
      ]
     },
     "execution_count": 94,
     "metadata": {},
     "output_type": "execute_result"
    }
   ],
   "source": [
    "arr_2d_random = np.random.rand(5,5)\n",
    "arr_2d_random"
   ]
  },
  {
   "cell_type": "markdown",
   "id": "4729ae46",
   "metadata": {},
   "source": [
    "#### Modification an Array\n",
    "\n",
    "##### Change element of 1D array\n",
    "An element in an array can be modified or changed to another value. For example, we use `arr_random` variable that has been created previously."
   ]
  },
  {
   "cell_type": "code",
   "execution_count": 95,
   "id": "f14a25a0",
   "metadata": {
    "scrolled": true
   },
   "outputs": [
    {
     "data": {
      "text/plain": [
       "array([0.44854167, 0.4164883 , 0.2288404 , 0.66550275, 0.33566499])"
      ]
     },
     "execution_count": 95,
     "metadata": {},
     "output_type": "execute_result"
    }
   ],
   "source": [
    "arr_random"
   ]
  },
  {
   "cell_type": "markdown",
   "id": "2a930517",
   "metadata": {},
   "source": [
    "We take a value which in the third index or equal to index number of 2 as follows"
   ]
  },
  {
   "cell_type": "code",
   "execution_count": 96,
   "id": "1f0bba60",
   "metadata": {
    "scrolled": true
   },
   "outputs": [
    {
     "data": {
      "text/plain": [
       "0.2288403951323239"
      ]
     },
     "execution_count": 96,
     "metadata": {},
     "output_type": "execute_result"
    }
   ],
   "source": [
    "arr_random[2]"
   ]
  },
  {
   "cell_type": "markdown",
   "id": "3a1df78b",
   "metadata": {},
   "source": [
    "and to change this value (e.g. 100), we can write the following command"
   ]
  },
  {
   "cell_type": "code",
   "execution_count": 97,
   "id": "309fe9cb",
   "metadata": {
    "scrolled": true
   },
   "outputs": [
    {
     "data": {
      "text/plain": [
       "array([  0.44854167,   0.4164883 , 100.        ,   0.66550275,\n",
       "         0.33566499])"
      ]
     },
     "execution_count": 97,
     "metadata": {},
     "output_type": "execute_result"
    }
   ],
   "source": [
    "arr_random[2] = 100\n",
    "arr_random"
   ]
  },
  {
   "cell_type": "markdown",
   "id": "59606f3b",
   "metadata": {},
   "source": [
    "and now, the value has been changed.\n",
    "\n",
    "##### Change element of 2D array\n",
    "\n",
    "We have generated a 2D array that assign to `arr_2d` and `arr_2d_random` variables. To show an element of 2D array, we use the format `variable[row index][column index]`. Let's use the `arr_2d` variable for example."
   ]
  },
  {
   "cell_type": "code",
   "execution_count": 98,
   "id": "2c6f748d",
   "metadata": {
    "scrolled": true
   },
   "outputs": [
    {
     "data": {
      "text/plain": [
       "array([[ 1,  2,  3,  4,  5],\n",
       "       [ 6,  7,  8,  9, 10]])"
      ]
     },
     "execution_count": 98,
     "metadata": {},
     "output_type": "execute_result"
    }
   ],
   "source": [
    "arr_2d"
   ]
  },
  {
   "cell_type": "markdown",
   "id": "e4c0a89d",
   "metadata": {},
   "source": [
    "We want to take a value of 4 from the `arr_2d` variable. The value of 4 is in the first row (index of 0) and the forth column (index of 3). Then, we get this value and assign to `value` variable by using command bellow"
   ]
  },
  {
   "cell_type": "code",
   "execution_count": 99,
   "id": "8f69a45a",
   "metadata": {
    "scrolled": true
   },
   "outputs": [
    {
     "data": {
      "text/plain": [
       "4"
      ]
     },
     "execution_count": 99,
     "metadata": {},
     "output_type": "execute_result"
    }
   ],
   "source": [
    "value = arr_2d[0][3]\n",
    "value"
   ]
  },
  {
   "cell_type": "markdown",
   "id": "45a12719",
   "metadata": {},
   "source": [
    "To change this element just type"
   ]
  },
  {
   "cell_type": "code",
   "execution_count": 100,
   "id": "2519ec7c",
   "metadata": {
    "scrolled": true
   },
   "outputs": [
    {
     "data": {
      "text/plain": [
       "array([[ 1,  2,  3, 10,  5],\n",
       "       [ 6,  7,  8,  9, 10]])"
      ]
     },
     "execution_count": 100,
     "metadata": {},
     "output_type": "execute_result"
    }
   ],
   "source": [
    "arr_2d[0][3] = 10\n",
    "arr_2d"
   ]
  },
  {
   "cell_type": "markdown",
   "id": "bf720107",
   "metadata": {},
   "source": [
    "the value of 4 has been changed become 10."
   ]
  },
  {
   "cell_type": "markdown",
   "id": "25d9bd77",
   "metadata": {},
   "source": [
    "#### Slice an Array\n",
    "\n",
    "##### 1. 1D Array\n",
    "\n",
    "We can slice a few element of an array based on its index. We use \n",
    "\n",
    "1. `variable[:index number]` to slice all values in array from first index to index number (the index number is not include in the result),\n",
    "2. `variable[index number:]` to slice all values in array an array from index number to end of index and\n",
    "3. `variable[start index number: stop index number]` to slice an array in between index number (the stop index number is not include in the result)\n",
    "\n",
    "Let's try to `arr_random` variable to apply this slice methods."
   ]
  },
  {
   "cell_type": "code",
   "execution_count": 101,
   "id": "58b9f205",
   "metadata": {
    "scrolled": true
   },
   "outputs": [
    {
     "data": {
      "text/plain": [
       "array([  0.44854167,   0.4164883 , 100.        ])"
      ]
     },
     "execution_count": 101,
     "metadata": {},
     "output_type": "execute_result"
    }
   ],
   "source": [
    "arr_slice_first = arr_random[:3]\n",
    "arr_slice_first"
   ]
  },
  {
   "cell_type": "code",
   "execution_count": 102,
   "id": "051812ee",
   "metadata": {
    "scrolled": true
   },
   "outputs": [
    {
     "data": {
      "text/plain": [
       "array([0.66550275, 0.33566499])"
      ]
     },
     "execution_count": 102,
     "metadata": {},
     "output_type": "execute_result"
    }
   ],
   "source": [
    "arr_slice_end = arr_random[3:]\n",
    "arr_slice_end"
   ]
  },
  {
   "cell_type": "code",
   "execution_count": 103,
   "id": "325b5f05",
   "metadata": {
    "scrolled": true
   },
   "outputs": [
    {
     "data": {
      "text/plain": [
       "array([100.        ,   0.66550275])"
      ]
     },
     "execution_count": 103,
     "metadata": {},
     "output_type": "execute_result"
    }
   ],
   "source": [
    "arr_slice_between = arr_random[2:4]\n",
    "arr_slice_between"
   ]
  },
  {
   "cell_type": "markdown",
   "id": "d565243f",
   "metadata": {},
   "source": [
    "##### 2. 2D Array\n",
    "\n",
    "We are going further to slice 2D array from `arr_2d` variable and get a sub array from it."
   ]
  },
  {
   "cell_type": "code",
   "execution_count": 104,
   "id": "facdc2d9",
   "metadata": {
    "scrolled": true
   },
   "outputs": [
    {
     "data": {
      "text/plain": [
       "array([[ 1,  2,  3, 10,  5],\n",
       "       [ 6,  7,  8,  9, 10]])"
      ]
     },
     "execution_count": 104,
     "metadata": {},
     "output_type": "execute_result"
    }
   ],
   "source": [
    "arr_2d"
   ]
  },
  {
   "cell_type": "markdown",
   "id": "c27db035",
   "metadata": {},
   "source": [
    "We want to get the element of 2D array of 1, 2, 6 and 7 where:\n",
    "    \n",
    "    - the value of 1 is in the first row (index of 0) and the first column (index of 0),\n",
    "    - the value of 2 is in the first row (index of 0) and the second column (index of 1),\n",
    "    - the value of 6 is in the second row (index of 1) and the first column (index of 0),\n",
    "    - the value of 7 is in the second row (index of 1) and the second column (index of 1).\n",
    "  \n",
    " Then we can assign these values to `arr_2d_new` as follows"
   ]
  },
  {
   "cell_type": "code",
   "execution_count": 105,
   "id": "1dc2e6bf",
   "metadata": {
    "scrolled": true
   },
   "outputs": [
    {
     "data": {
      "text/plain": [
       "array([[1, 2],\n",
       "       [6, 7]])"
      ]
     },
     "execution_count": 105,
     "metadata": {},
     "output_type": "execute_result"
    }
   ],
   "source": [
    "arr_2d_new = arr_2d[0:2,0:2]\n",
    "arr_2d_new"
   ]
  },
  {
   "cell_type": "markdown",
   "id": "63b3e534",
   "metadata": {},
   "source": [
    "_Remember that, to get the last value of each dimensional (e.g. 2 and 7 these values are in the second index of column which is index of 1 in Python order. So, the index number that you have to write to slice it is 1+1=2)_"
   ]
  },
  {
   "cell_type": "markdown",
   "id": "56584181",
   "metadata": {},
   "source": [
    "#### Basic Mathematical Operation\n",
    "\n",
    "We can apply basic mathematical operation in array, such as summation, subtraction, multiplication and division. In Python, array can be calculated directly with another array or value. For example, we use `arr_randint` variable that has been created previous [sub-chapter](#1.-One-Dimensional-Array)."
   ]
  },
  {
   "cell_type": "code",
   "execution_count": 106,
   "id": "e02c0dbe",
   "metadata": {
    "scrolled": true
   },
   "outputs": [
    {
     "data": {
      "text/plain": [
       "array([3, 3, 2, 4, 3, 4, 2, 3, 2, 2])"
      ]
     },
     "execution_count": 106,
     "metadata": {},
     "output_type": "execute_result"
    }
   ],
   "source": [
    "arr_randint"
   ]
  },
  {
   "cell_type": "markdown",
   "id": "81412c20",
   "metadata": {},
   "source": [
    "Then, we create a new array that has same size with `arr_randint` which is 10."
   ]
  },
  {
   "cell_type": "code",
   "execution_count": 107,
   "id": "a1b3db52",
   "metadata": {
    "scrolled": true
   },
   "outputs": [
    {
     "data": {
      "text/plain": [
       "array([8, 8, 6, 6, 2, 2, 9, 8, 4, 8])"
      ]
     },
     "execution_count": 107,
     "metadata": {},
     "output_type": "execute_result"
    }
   ],
   "source": [
    "arr_new = np.random.randint(1,10,size=10)\n",
    "arr_new"
   ]
  },
  {
   "cell_type": "markdown",
   "id": "2cc05660",
   "metadata": {},
   "source": [
    "##### Summation and Subtraction\n",
    "\n",
    "To add these two arrays, we can apply a simple way"
   ]
  },
  {
   "cell_type": "code",
   "execution_count": 108,
   "id": "a723850d",
   "metadata": {
    "scrolled": true
   },
   "outputs": [
    {
     "data": {
      "text/plain": [
       "array([11, 11,  8, 10,  5,  6, 11, 11,  6, 10])"
      ]
     },
     "execution_count": 108,
     "metadata": {},
     "output_type": "execute_result"
    }
   ],
   "source": [
    "arr_addition = arr_randint + arr_new\n",
    "arr_addition"
   ]
  },
  {
   "cell_type": "markdown",
   "id": "899f57b1",
   "metadata": {},
   "source": [
    "and to suctraction"
   ]
  },
  {
   "cell_type": "code",
   "execution_count": 109,
   "id": "5e02451e",
   "metadata": {
    "scrolled": true
   },
   "outputs": [
    {
     "data": {
      "text/plain": [
       "array([-5, -5, -4, -2,  1,  2, -7, -5, -2, -6])"
      ]
     },
     "execution_count": 109,
     "metadata": {},
     "output_type": "execute_result"
    }
   ],
   "source": [
    "arr_subtraction = arr_randint - arr_new\n",
    "arr_subtraction"
   ]
  },
  {
   "cell_type": "markdown",
   "id": "3a97306b",
   "metadata": {},
   "source": [
    "Then, we add the `arr_randint` with a value = 5"
   ]
  },
  {
   "cell_type": "code",
   "execution_count": 110,
   "id": "f46b15b5",
   "metadata": {
    "scrolled": true
   },
   "outputs": [],
   "source": [
    "value = 5"
   ]
  },
  {
   "cell_type": "code",
   "execution_count": 111,
   "id": "d0ab92fd",
   "metadata": {
    "scrolled": true
   },
   "outputs": [
    {
     "data": {
      "text/plain": [
       "array([8, 8, 7, 9, 8, 9, 7, 8, 7, 7])"
      ]
     },
     "execution_count": 111,
     "metadata": {},
     "output_type": "execute_result"
    }
   ],
   "source": [
    "arr_addition_value = arr_randint + value\n",
    "arr_addition_value"
   ]
  },
  {
   "cell_type": "markdown",
   "id": "ef31ec28",
   "metadata": {},
   "source": [
    "and subtraction"
   ]
  },
  {
   "cell_type": "code",
   "execution_count": 112,
   "id": "367715d1",
   "metadata": {
    "scrolled": true
   },
   "outputs": [
    {
     "data": {
      "text/plain": [
       "array([-2, -2, -3, -1, -2, -1, -3, -2, -3, -3])"
      ]
     },
     "execution_count": 112,
     "metadata": {},
     "output_type": "execute_result"
    }
   ],
   "source": [
    "arr_subtraction_value = arr_randint - value\n",
    "arr_subtraction_value"
   ]
  },
  {
   "cell_type": "markdown",
   "id": "f5028545",
   "metadata": {},
   "source": [
    "##### Multiplication and Division\n",
    "\n",
    "Next, we apply a multiplication in these two arrays (`arr_randint` and `arr_new`)"
   ]
  },
  {
   "cell_type": "code",
   "execution_count": 113,
   "id": "96f659be",
   "metadata": {
    "scrolled": true
   },
   "outputs": [
    {
     "data": {
      "text/plain": [
       "array([24, 24, 12, 24,  6,  8, 18, 24,  8, 16])"
      ]
     },
     "execution_count": 113,
     "metadata": {},
     "output_type": "execute_result"
    }
   ],
   "source": [
    "arr_multiplication = arr_randint * arr_new\n",
    "arr_multiplication"
   ]
  },
  {
   "cell_type": "markdown",
   "id": "29d94d92",
   "metadata": {},
   "source": [
    "The multiplication process between two arrays will multiply for each pair element and this process also applies in division process"
   ]
  },
  {
   "cell_type": "code",
   "execution_count": 114,
   "id": "d01cf990",
   "metadata": {
    "scrolled": true
   },
   "outputs": [
    {
     "data": {
      "text/plain": [
       "array([0.375     , 0.375     , 0.33333333, 0.66666667, 1.5       ,\n",
       "       2.        , 0.22222222, 0.375     , 0.5       , 0.25      ])"
      ]
     },
     "execution_count": 114,
     "metadata": {},
     "output_type": "execute_result"
    }
   ],
   "source": [
    "arr_division = arr_randint / arr_new\n",
    "arr_division"
   ]
  },
  {
   "cell_type": "markdown",
   "id": "cfaace70",
   "metadata": {},
   "source": [
    "The multiplication or division of array with a value also can be applied, where"
   ]
  },
  {
   "cell_type": "code",
   "execution_count": 115,
   "id": "4ea3525d",
   "metadata": {
    "scrolled": true
   },
   "outputs": [
    {
     "data": {
      "text/plain": [
       "5"
      ]
     },
     "execution_count": 115,
     "metadata": {},
     "output_type": "execute_result"
    }
   ],
   "source": [
    "value"
   ]
  },
  {
   "cell_type": "code",
   "execution_count": 116,
   "id": "b27fafe9",
   "metadata": {
    "scrolled": true
   },
   "outputs": [
    {
     "data": {
      "text/plain": [
       "array([15, 15, 10, 20, 15, 20, 10, 15, 10, 10])"
      ]
     },
     "execution_count": 116,
     "metadata": {},
     "output_type": "execute_result"
    }
   ],
   "source": [
    "arr_multiplication_value = arr_randint * value\n",
    "arr_multiplication_value"
   ]
  },
  {
   "cell_type": "code",
   "execution_count": 117,
   "id": "b6167ebc",
   "metadata": {
    "scrolled": true
   },
   "outputs": [
    {
     "data": {
      "text/plain": [
       "array([0.6, 0.6, 0.4, 0.8, 0.6, 0.8, 0.4, 0.6, 0.4, 0.4])"
      ]
     },
     "execution_count": 117,
     "metadata": {},
     "output_type": "execute_result"
    }
   ],
   "source": [
    "arr_division_value = arr_randint / value\n",
    "arr_division_value"
   ]
  },
  {
   "cell_type": "markdown",
   "id": "fe6ac0e5",
   "metadata": {},
   "source": [
    "##### Trigonometry\n",
    "\n",
    "The numpy library has a method to calculate trigonometry cases, such as sin, cos tan and much more. For example,"
   ]
  },
  {
   "cell_type": "code",
   "execution_count": 118,
   "id": "580b41e2",
   "metadata": {
    "scrolled": true
   },
   "outputs": [
    {
     "data": {
      "text/plain": [
       "0.8939966636005579"
      ]
     },
     "execution_count": 118,
     "metadata": {},
     "output_type": "execute_result"
    }
   ],
   "source": [
    "mat_sin = np.sin(90)\n",
    "mat_sin"
   ]
  },
  {
   "cell_type": "markdown",
   "id": "8e99100c",
   "metadata": {},
   "source": [
    "as we can see, the result of sin(90) is 0.89 in degree unit. If we want to get the result in radian unit, we have to convert it by multiply `np.pi/180` as follows"
   ]
  },
  {
   "cell_type": "code",
   "execution_count": 119,
   "id": "1850ed17",
   "metadata": {
    "scrolled": true
   },
   "outputs": [
    {
     "data": {
      "text/plain": [
       "1.0"
      ]
     },
     "execution_count": 119,
     "metadata": {},
     "output_type": "execute_result"
    }
   ],
   "source": [
    "mat_sin_degree = np.sin(90*(np.pi/180))\n",
    "mat_sin_degree"
   ]
  },
  {
   "cell_type": "markdown",
   "id": "746400da",
   "metadata": {},
   "source": [
    "we also can calculate the inverse of sin to degree unit by multiply the radian with `180/np.i` as follows"
   ]
  },
  {
   "cell_type": "code",
   "execution_count": 120,
   "id": "213ee008",
   "metadata": {
    "scrolled": true
   },
   "outputs": [
    {
     "data": {
      "text/plain": [
       "90.0"
      ]
     },
     "execution_count": 120,
     "metadata": {},
     "output_type": "execute_result"
    }
   ],
   "source": [
    "mat_inv_sin_degree = np.arcsin(1)*(180/np.pi)\n",
    "mat_inv_sin_degree"
   ]
  },
  {
   "cell_type": "markdown",
   "id": "6a5e8a2e",
   "metadata": {},
   "source": [
    "the constant of pi is called by `np.pi` from numpy library.\n",
    "\n",
    "### More Numpy's Methods\n",
    "\n",
    "You can find out more the methods in Numpy library by type `dir(np)` in Python shell or this notebook if you use its alias."
   ]
  },
  {
   "cell_type": "markdown",
   "id": "52760a55",
   "metadata": {},
   "source": [
    "### 2. Pandas\n",
    "\n",
    "[Pandas](https://pandas.pydata.org/) is one of many Python libraries. This library is very helpful when we are working with a sturcture data such as in CSV/Excel file format. We can easily read a file that containt a lot of data. Firts, we have to import the Pandas and write the `pd` as its alias.\n",
    "\n",
    "#### Read CSV File"
   ]
  },
  {
   "cell_type": "code",
   "execution_count": 121,
   "id": "d4db112c",
   "metadata": {
    "scrolled": true
   },
   "outputs": [],
   "source": [
    "import pandas as pd"
   ]
  },
  {
   "cell_type": "markdown",
   "id": "ff13f859",
   "metadata": {},
   "source": [
    "In this case, I use an earthquake data around Aceh that I downloaded from [Earthquake Catalog of USGS](https://earthquake.usgs.gov/earthquakes/search/). I name this file as `earthquake_aceh_usgs.csv`. I am going to read this file by using `pd.read_csv` method from Pandas and I assign this file to `data` variable as follows"
   ]
  },
  {
   "cell_type": "code",
   "execution_count": 122,
   "id": "e7684d6f",
   "metadata": {
    "scrolled": false
   },
   "outputs": [
    {
     "data": {
      "text/html": [
       "<div>\n",
       "<style scoped>\n",
       "    .dataframe tbody tr th:only-of-type {\n",
       "        vertical-align: middle;\n",
       "    }\n",
       "\n",
       "    .dataframe tbody tr th {\n",
       "        vertical-align: top;\n",
       "    }\n",
       "\n",
       "    .dataframe thead th {\n",
       "        text-align: right;\n",
       "    }\n",
       "</style>\n",
       "<table border=\"1\" class=\"dataframe\">\n",
       "  <thead>\n",
       "    <tr style=\"text-align: right;\">\n",
       "      <th></th>\n",
       "      <th>time</th>\n",
       "      <th>latitude</th>\n",
       "      <th>longitude</th>\n",
       "      <th>depth</th>\n",
       "      <th>mag</th>\n",
       "      <th>magType</th>\n",
       "      <th>nst</th>\n",
       "      <th>gap</th>\n",
       "      <th>dmin</th>\n",
       "      <th>rms</th>\n",
       "      <th>...</th>\n",
       "      <th>updated</th>\n",
       "      <th>place</th>\n",
       "      <th>type</th>\n",
       "      <th>horizontalError</th>\n",
       "      <th>depthError</th>\n",
       "      <th>magError</th>\n",
       "      <th>magNst</th>\n",
       "      <th>status</th>\n",
       "      <th>locationSource</th>\n",
       "      <th>magSource</th>\n",
       "    </tr>\n",
       "  </thead>\n",
       "  <tbody>\n",
       "    <tr>\n",
       "      <th>0</th>\n",
       "      <td>2021-05-02T20:49:43.322Z</td>\n",
       "      <td>5.3234</td>\n",
       "      <td>94.6170</td>\n",
       "      <td>63.97</td>\n",
       "      <td>5.0</td>\n",
       "      <td>mb</td>\n",
       "      <td>NaN</td>\n",
       "      <td>132</td>\n",
       "      <td>2.322</td>\n",
       "      <td>0.87</td>\n",
       "      <td>...</td>\n",
       "      <td>2021-05-02T21:02:32.040Z</td>\n",
       "      <td>82 km WSW of Banda Aceh, Indonesia</td>\n",
       "      <td>earthquake</td>\n",
       "      <td>9.6</td>\n",
       "      <td>7.6</td>\n",
       "      <td>0.099</td>\n",
       "      <td>32</td>\n",
       "      <td>reviewed</td>\n",
       "      <td>us</td>\n",
       "      <td>us</td>\n",
       "    </tr>\n",
       "    <tr>\n",
       "      <th>1</th>\n",
       "      <td>2021-05-02T13:02:17.751Z</td>\n",
       "      <td>4.0461</td>\n",
       "      <td>95.7566</td>\n",
       "      <td>50.03</td>\n",
       "      <td>4.6</td>\n",
       "      <td>mb</td>\n",
       "      <td>NaN</td>\n",
       "      <td>129</td>\n",
       "      <td>1.669</td>\n",
       "      <td>0.86</td>\n",
       "      <td>...</td>\n",
       "      <td>2021-05-09T13:22:24.040Z</td>\n",
       "      <td>42 km WSW of Meulaboh, Indonesia</td>\n",
       "      <td>earthquake</td>\n",
       "      <td>7.6</td>\n",
       "      <td>8.2</td>\n",
       "      <td>0.136</td>\n",
       "      <td>16</td>\n",
       "      <td>reviewed</td>\n",
       "      <td>us</td>\n",
       "      <td>us</td>\n",
       "    </tr>\n",
       "    <tr>\n",
       "      <th>2</th>\n",
       "      <td>2021-04-17T01:04:53.776Z</td>\n",
       "      <td>5.1158</td>\n",
       "      <td>95.4508</td>\n",
       "      <td>100.74</td>\n",
       "      <td>5.0</td>\n",
       "      <td>mww</td>\n",
       "      <td>NaN</td>\n",
       "      <td>50</td>\n",
       "      <td>1.494</td>\n",
       "      <td>1.13</td>\n",
       "      <td>...</td>\n",
       "      <td>2021-04-17T02:23:46.858Z</td>\n",
       "      <td>48 km SSE of Banda Aceh, Indonesia</td>\n",
       "      <td>earthquake</td>\n",
       "      <td>8.2</td>\n",
       "      <td>6.3</td>\n",
       "      <td>0.098</td>\n",
       "      <td>10</td>\n",
       "      <td>reviewed</td>\n",
       "      <td>us</td>\n",
       "      <td>us</td>\n",
       "    </tr>\n",
       "    <tr>\n",
       "      <th>3</th>\n",
       "      <td>2021-04-09T15:14:31.108Z</td>\n",
       "      <td>4.8116</td>\n",
       "      <td>96.2611</td>\n",
       "      <td>27.57</td>\n",
       "      <td>4.3</td>\n",
       "      <td>mb</td>\n",
       "      <td>NaN</td>\n",
       "      <td>167</td>\n",
       "      <td>0.799</td>\n",
       "      <td>1.01</td>\n",
       "      <td>...</td>\n",
       "      <td>2021-04-25T16:21:42.040Z</td>\n",
       "      <td>44 km S of Reuleuet, Indonesia</td>\n",
       "      <td>earthquake</td>\n",
       "      <td>5.9</td>\n",
       "      <td>5.9</td>\n",
       "      <td>0.153</td>\n",
       "      <td>14</td>\n",
       "      <td>reviewed</td>\n",
       "      <td>us</td>\n",
       "      <td>us</td>\n",
       "    </tr>\n",
       "    <tr>\n",
       "      <th>4</th>\n",
       "      <td>2021-04-09T08:08:58.946Z</td>\n",
       "      <td>3.0723</td>\n",
       "      <td>96.3738</td>\n",
       "      <td>55.17</td>\n",
       "      <td>4.2</td>\n",
       "      <td>mb</td>\n",
       "      <td>NaN</td>\n",
       "      <td>173</td>\n",
       "      <td>2.127</td>\n",
       "      <td>0.48</td>\n",
       "      <td>...</td>\n",
       "      <td>2021-04-23T04:41:16.040Z</td>\n",
       "      <td>65 km N of Sinabang, Indonesia</td>\n",
       "      <td>earthquake</td>\n",
       "      <td>7.4</td>\n",
       "      <td>9.2</td>\n",
       "      <td>0.121</td>\n",
       "      <td>19</td>\n",
       "      <td>reviewed</td>\n",
       "      <td>us</td>\n",
       "      <td>us</td>\n",
       "    </tr>\n",
       "    <tr>\n",
       "      <th>5</th>\n",
       "      <td>2021-04-08T17:40:42.267Z</td>\n",
       "      <td>3.7847</td>\n",
       "      <td>95.7753</td>\n",
       "      <td>66.13</td>\n",
       "      <td>4.4</td>\n",
       "      <td>mb</td>\n",
       "      <td>NaN</td>\n",
       "      <td>95</td>\n",
       "      <td>1.850</td>\n",
       "      <td>0.82</td>\n",
       "      <td>...</td>\n",
       "      <td>2021-05-05T14:02:32.040Z</td>\n",
       "      <td>55 km SW of Meulaboh, Indonesia</td>\n",
       "      <td>earthquake</td>\n",
       "      <td>7.9</td>\n",
       "      <td>8.3</td>\n",
       "      <td>0.102</td>\n",
       "      <td>28</td>\n",
       "      <td>reviewed</td>\n",
       "      <td>us</td>\n",
       "      <td>us</td>\n",
       "    </tr>\n",
       "    <tr>\n",
       "      <th>6</th>\n",
       "      <td>2021-04-06T02:36:30.481Z</td>\n",
       "      <td>4.2645</td>\n",
       "      <td>96.0982</td>\n",
       "      <td>67.22</td>\n",
       "      <td>4.0</td>\n",
       "      <td>mb</td>\n",
       "      <td>NaN</td>\n",
       "      <td>178</td>\n",
       "      <td>1.278</td>\n",
       "      <td>0.58</td>\n",
       "      <td>...</td>\n",
       "      <td>2021-04-20T03:21:44.040Z</td>\n",
       "      <td>13 km NNW of Meulaboh, Indonesia</td>\n",
       "      <td>earthquake</td>\n",
       "      <td>7.0</td>\n",
       "      <td>9.7</td>\n",
       "      <td>0.144</td>\n",
       "      <td>13</td>\n",
       "      <td>reviewed</td>\n",
       "      <td>us</td>\n",
       "      <td>us</td>\n",
       "    </tr>\n",
       "    <tr>\n",
       "      <th>7</th>\n",
       "      <td>2021-03-24T06:44:29.347Z</td>\n",
       "      <td>5.1787</td>\n",
       "      <td>94.3998</td>\n",
       "      <td>54.68</td>\n",
       "      <td>4.4</td>\n",
       "      <td>mb</td>\n",
       "      <td>NaN</td>\n",
       "      <td>98</td>\n",
       "      <td>2.537</td>\n",
       "      <td>0.91</td>\n",
       "      <td>...</td>\n",
       "      <td>2021-04-16T12:30:49.040Z</td>\n",
       "      <td>110 km WSW of Banda Aceh, Indonesia</td>\n",
       "      <td>earthquake</td>\n",
       "      <td>10.3</td>\n",
       "      <td>8.4</td>\n",
       "      <td>0.148</td>\n",
       "      <td>13</td>\n",
       "      <td>reviewed</td>\n",
       "      <td>us</td>\n",
       "      <td>us</td>\n",
       "    </tr>\n",
       "    <tr>\n",
       "      <th>8</th>\n",
       "      <td>2021-03-16T15:01:32.010Z</td>\n",
       "      <td>4.2565</td>\n",
       "      <td>97.5425</td>\n",
       "      <td>193.78</td>\n",
       "      <td>4.4</td>\n",
       "      <td>mb</td>\n",
       "      <td>NaN</td>\n",
       "      <td>98</td>\n",
       "      <td>1.133</td>\n",
       "      <td>0.75</td>\n",
       "      <td>...</td>\n",
       "      <td>2021-04-21T13:17:34.040Z</td>\n",
       "      <td>52 km WSW of Langsa, Indonesia</td>\n",
       "      <td>earthquake</td>\n",
       "      <td>4.3</td>\n",
       "      <td>6.9</td>\n",
       "      <td>0.139</td>\n",
       "      <td>15</td>\n",
       "      <td>reviewed</td>\n",
       "      <td>us</td>\n",
       "      <td>us</td>\n",
       "    </tr>\n",
       "    <tr>\n",
       "      <th>9</th>\n",
       "      <td>2021-03-04T23:36:58.479Z</td>\n",
       "      <td>5.0051</td>\n",
       "      <td>96.0004</td>\n",
       "      <td>10.00</td>\n",
       "      <td>4.5</td>\n",
       "      <td>mb</td>\n",
       "      <td>NaN</td>\n",
       "      <td>174</td>\n",
       "      <td>0.968</td>\n",
       "      <td>0.97</td>\n",
       "      <td>...</td>\n",
       "      <td>2021-05-13T22:45:52.040Z</td>\n",
       "      <td>39 km SW of Reuleuet, Indonesia</td>\n",
       "      <td>earthquake</td>\n",
       "      <td>4.6</td>\n",
       "      <td>1.9</td>\n",
       "      <td>0.145</td>\n",
       "      <td>14</td>\n",
       "      <td>reviewed</td>\n",
       "      <td>us</td>\n",
       "      <td>us</td>\n",
       "    </tr>\n",
       "    <tr>\n",
       "      <th>10</th>\n",
       "      <td>2021-02-11T15:35:10.916Z</td>\n",
       "      <td>3.5719</td>\n",
       "      <td>96.8983</td>\n",
       "      <td>95.16</td>\n",
       "      <td>4.4</td>\n",
       "      <td>mb</td>\n",
       "      <td>NaN</td>\n",
       "      <td>155</td>\n",
       "      <td>1.646</td>\n",
       "      <td>0.64</td>\n",
       "      <td>...</td>\n",
       "      <td>2021-04-22T21:53:32.040Z</td>\n",
       "      <td>106 km SE of Meulaboh, Indonesia</td>\n",
       "      <td>earthquake</td>\n",
       "      <td>6.8</td>\n",
       "      <td>7.6</td>\n",
       "      <td>0.134</td>\n",
       "      <td>19</td>\n",
       "      <td>reviewed</td>\n",
       "      <td>us</td>\n",
       "      <td>us</td>\n",
       "    </tr>\n",
       "    <tr>\n",
       "      <th>11</th>\n",
       "      <td>2021-01-30T09:06:44.294Z</td>\n",
       "      <td>4.6586</td>\n",
       "      <td>96.3415</td>\n",
       "      <td>10.00</td>\n",
       "      <td>4.3</td>\n",
       "      <td>mb</td>\n",
       "      <td>NaN</td>\n",
       "      <td>152</td>\n",
       "      <td>0.827</td>\n",
       "      <td>0.41</td>\n",
       "      <td>...</td>\n",
       "      <td>2021-04-16T19:03:39.040Z</td>\n",
       "      <td>61 km NNE of Meulaboh, Indonesia</td>\n",
       "      <td>earthquake</td>\n",
       "      <td>7.1</td>\n",
       "      <td>1.9</td>\n",
       "      <td>0.142</td>\n",
       "      <td>14</td>\n",
       "      <td>reviewed</td>\n",
       "      <td>us</td>\n",
       "      <td>us</td>\n",
       "    </tr>\n",
       "    <tr>\n",
       "      <th>12</th>\n",
       "      <td>2021-01-26T03:36:36.765Z</td>\n",
       "      <td>4.8138</td>\n",
       "      <td>94.3724</td>\n",
       "      <td>35.00</td>\n",
       "      <td>4.2</td>\n",
       "      <td>mb</td>\n",
       "      <td>NaN</td>\n",
       "      <td>194</td>\n",
       "      <td>2.598</td>\n",
       "      <td>0.81</td>\n",
       "      <td>...</td>\n",
       "      <td>2021-04-13T17:04:06.040Z</td>\n",
       "      <td>off the west coast of northern Sumatra</td>\n",
       "      <td>earthquake</td>\n",
       "      <td>8.1</td>\n",
       "      <td>2.0</td>\n",
       "      <td>0.153</td>\n",
       "      <td>12</td>\n",
       "      <td>reviewed</td>\n",
       "      <td>us</td>\n",
       "      <td>us</td>\n",
       "    </tr>\n",
       "    <tr>\n",
       "      <th>13</th>\n",
       "      <td>2021-01-12T04:50:54.625Z</td>\n",
       "      <td>3.8565</td>\n",
       "      <td>95.8590</td>\n",
       "      <td>54.96</td>\n",
       "      <td>4.3</td>\n",
       "      <td>mb</td>\n",
       "      <td>NaN</td>\n",
       "      <td>96</td>\n",
       "      <td>1.742</td>\n",
       "      <td>0.36</td>\n",
       "      <td>...</td>\n",
       "      <td>2021-03-20T21:24:34.040Z</td>\n",
       "      <td>43 km SW of Meulaboh, Indonesia</td>\n",
       "      <td>earthquake</td>\n",
       "      <td>10.1</td>\n",
       "      <td>9.1</td>\n",
       "      <td>0.154</td>\n",
       "      <td>12</td>\n",
       "      <td>reviewed</td>\n",
       "      <td>us</td>\n",
       "      <td>us</td>\n",
       "    </tr>\n",
       "    <tr>\n",
       "      <th>14</th>\n",
       "      <td>2021-01-08T23:17:13.343Z</td>\n",
       "      <td>5.1995</td>\n",
       "      <td>94.7194</td>\n",
       "      <td>61.29</td>\n",
       "      <td>4.2</td>\n",
       "      <td>mb</td>\n",
       "      <td>NaN</td>\n",
       "      <td>168</td>\n",
       "      <td>2.218</td>\n",
       "      <td>0.54</td>\n",
       "      <td>...</td>\n",
       "      <td>2021-03-20T21:23:00.040Z</td>\n",
       "      <td>77 km WSW of Banda Aceh, Indonesia</td>\n",
       "      <td>earthquake</td>\n",
       "      <td>12.1</td>\n",
       "      <td>6.5</td>\n",
       "      <td>0.186</td>\n",
       "      <td>8</td>\n",
       "      <td>reviewed</td>\n",
       "      <td>us</td>\n",
       "      <td>us</td>\n",
       "    </tr>\n",
       "    <tr>\n",
       "      <th>15</th>\n",
       "      <td>2020-12-16T23:35:53.610Z</td>\n",
       "      <td>4.1091</td>\n",
       "      <td>96.7993</td>\n",
       "      <td>10.00</td>\n",
       "      <td>4.3</td>\n",
       "      <td>mb</td>\n",
       "      <td>NaN</td>\n",
       "      <td>117</td>\n",
       "      <td>1.122</td>\n",
       "      <td>0.91</td>\n",
       "      <td>...</td>\n",
       "      <td>2021-02-27T23:25:55.040Z</td>\n",
       "      <td>74 km E of Meulaboh, Indonesia</td>\n",
       "      <td>earthquake</td>\n",
       "      <td>5.5</td>\n",
       "      <td>1.7</td>\n",
       "      <td>0.133</td>\n",
       "      <td>16</td>\n",
       "      <td>reviewed</td>\n",
       "      <td>us</td>\n",
       "      <td>us</td>\n",
       "    </tr>\n",
       "    <tr>\n",
       "      <th>16</th>\n",
       "      <td>2020-12-14T14:02:43.159Z</td>\n",
       "      <td>4.4477</td>\n",
       "      <td>96.3535</td>\n",
       "      <td>6.23</td>\n",
       "      <td>4.9</td>\n",
       "      <td>mb</td>\n",
       "      <td>NaN</td>\n",
       "      <td>144</td>\n",
       "      <td>0.975</td>\n",
       "      <td>0.42</td>\n",
       "      <td>...</td>\n",
       "      <td>2021-02-20T16:12:40.040Z</td>\n",
       "      <td>41 km NE of Meulaboh, Indonesia</td>\n",
       "      <td>earthquake</td>\n",
       "      <td>8.3</td>\n",
       "      <td>6.8</td>\n",
       "      <td>0.177</td>\n",
       "      <td>14</td>\n",
       "      <td>reviewed</td>\n",
       "      <td>us</td>\n",
       "      <td>us</td>\n",
       "    </tr>\n",
       "    <tr>\n",
       "      <th>17</th>\n",
       "      <td>2020-12-03T03:50:58.767Z</td>\n",
       "      <td>4.5375</td>\n",
       "      <td>97.7230</td>\n",
       "      <td>10.00</td>\n",
       "      <td>4.8</td>\n",
       "      <td>mb</td>\n",
       "      <td>NaN</td>\n",
       "      <td>32</td>\n",
       "      <td>1.034</td>\n",
       "      <td>0.85</td>\n",
       "      <td>...</td>\n",
       "      <td>2021-02-12T22:38:30.040Z</td>\n",
       "      <td>28 km WNW of Langsa, Indonesia</td>\n",
       "      <td>earthquake</td>\n",
       "      <td>5.1</td>\n",
       "      <td>1.7</td>\n",
       "      <td>0.077</td>\n",
       "      <td>53</td>\n",
       "      <td>reviewed</td>\n",
       "      <td>us</td>\n",
       "      <td>us</td>\n",
       "    </tr>\n",
       "    <tr>\n",
       "      <th>18</th>\n",
       "      <td>2020-11-30T17:14:12.006Z</td>\n",
       "      <td>3.0670</td>\n",
       "      <td>96.1349</td>\n",
       "      <td>27.89</td>\n",
       "      <td>5.0</td>\n",
       "      <td>mb</td>\n",
       "      <td>NaN</td>\n",
       "      <td>59</td>\n",
       "      <td>2.267</td>\n",
       "      <td>0.75</td>\n",
       "      <td>...</td>\n",
       "      <td>2021-02-06T18:29:19.040Z</td>\n",
       "      <td>70 km NNW of Sinabang, Indonesia</td>\n",
       "      <td>earthquake</td>\n",
       "      <td>7.2</td>\n",
       "      <td>4.9</td>\n",
       "      <td>0.067</td>\n",
       "      <td>71</td>\n",
       "      <td>reviewed</td>\n",
       "      <td>us</td>\n",
       "      <td>us</td>\n",
       "    </tr>\n",
       "    <tr>\n",
       "      <th>19</th>\n",
       "      <td>2020-11-28T23:47:33.748Z</td>\n",
       "      <td>5.3123</td>\n",
       "      <td>94.5032</td>\n",
       "      <td>64.82</td>\n",
       "      <td>4.9</td>\n",
       "      <td>mb</td>\n",
       "      <td>NaN</td>\n",
       "      <td>137</td>\n",
       "      <td>2.435</td>\n",
       "      <td>0.72</td>\n",
       "      <td>...</td>\n",
       "      <td>2021-02-06T18:28:53.040Z</td>\n",
       "      <td>95 km WSW of Banda Aceh, Indonesia</td>\n",
       "      <td>earthquake</td>\n",
       "      <td>8.7</td>\n",
       "      <td>8.0</td>\n",
       "      <td>0.080</td>\n",
       "      <td>49</td>\n",
       "      <td>reviewed</td>\n",
       "      <td>us</td>\n",
       "      <td>us</td>\n",
       "    </tr>\n",
       "    <tr>\n",
       "      <th>20</th>\n",
       "      <td>2020-11-13T18:33:07.130Z</td>\n",
       "      <td>5.7913</td>\n",
       "      <td>95.5619</td>\n",
       "      <td>10.00</td>\n",
       "      <td>5.1</td>\n",
       "      <td>mww</td>\n",
       "      <td>NaN</td>\n",
       "      <td>43</td>\n",
       "      <td>1.487</td>\n",
       "      <td>1.10</td>\n",
       "      <td>...</td>\n",
       "      <td>2021-01-27T17:29:05.040Z</td>\n",
       "      <td>29 km ESE of Sabang, Indonesia</td>\n",
       "      <td>earthquake</td>\n",
       "      <td>7.2</td>\n",
       "      <td>1.8</td>\n",
       "      <td>0.075</td>\n",
       "      <td>17</td>\n",
       "      <td>reviewed</td>\n",
       "      <td>us</td>\n",
       "      <td>us</td>\n",
       "    </tr>\n",
       "    <tr>\n",
       "      <th>21</th>\n",
       "      <td>2020-10-26T12:06:08.133Z</td>\n",
       "      <td>3.3538</td>\n",
       "      <td>95.4990</td>\n",
       "      <td>35.00</td>\n",
       "      <td>4.1</td>\n",
       "      <td>mb</td>\n",
       "      <td>NaN</td>\n",
       "      <td>203</td>\n",
       "      <td>2.356</td>\n",
       "      <td>0.44</td>\n",
       "      <td>...</td>\n",
       "      <td>2021-01-09T20:05:42.040Z</td>\n",
       "      <td>111 km SW of Meulaboh, Indonesia</td>\n",
       "      <td>earthquake</td>\n",
       "      <td>6.1</td>\n",
       "      <td>2.0</td>\n",
       "      <td>0.174</td>\n",
       "      <td>9</td>\n",
       "      <td>reviewed</td>\n",
       "      <td>us</td>\n",
       "      <td>us</td>\n",
       "    </tr>\n",
       "    <tr>\n",
       "      <th>22</th>\n",
       "      <td>2020-10-15T04:59:52.829Z</td>\n",
       "      <td>3.9446</td>\n",
       "      <td>95.8698</td>\n",
       "      <td>48.83</td>\n",
       "      <td>4.9</td>\n",
       "      <td>mww</td>\n",
       "      <td>NaN</td>\n",
       "      <td>52</td>\n",
       "      <td>1.667</td>\n",
       "      <td>0.65</td>\n",
       "      <td>...</td>\n",
       "      <td>2020-12-29T23:07:22.040Z</td>\n",
       "      <td>36 km SW of Meulaboh, Indonesia</td>\n",
       "      <td>earthquake</td>\n",
       "      <td>7.7</td>\n",
       "      <td>5.3</td>\n",
       "      <td>0.098</td>\n",
       "      <td>10</td>\n",
       "      <td>reviewed</td>\n",
       "      <td>us</td>\n",
       "      <td>us</td>\n",
       "    </tr>\n",
       "    <tr>\n",
       "      <th>23</th>\n",
       "      <td>2020-10-11T11:09:24.305Z</td>\n",
       "      <td>4.5136</td>\n",
       "      <td>96.6797</td>\n",
       "      <td>154.36</td>\n",
       "      <td>4.7</td>\n",
       "      <td>mb</td>\n",
       "      <td>NaN</td>\n",
       "      <td>141</td>\n",
       "      <td>0.758</td>\n",
       "      <td>0.79</td>\n",
       "      <td>...</td>\n",
       "      <td>2020-12-19T17:22:45.040Z</td>\n",
       "      <td>73 km ENE of Meulaboh, Indonesia</td>\n",
       "      <td>earthquake</td>\n",
       "      <td>8.7</td>\n",
       "      <td>6.8</td>\n",
       "      <td>0.080</td>\n",
       "      <td>47</td>\n",
       "      <td>reviewed</td>\n",
       "      <td>us</td>\n",
       "      <td>us</td>\n",
       "    </tr>\n",
       "    <tr>\n",
       "      <th>24</th>\n",
       "      <td>2020-10-10T20:22:27.940Z</td>\n",
       "      <td>4.7367</td>\n",
       "      <td>95.6557</td>\n",
       "      <td>89.03</td>\n",
       "      <td>4.5</td>\n",
       "      <td>mb</td>\n",
       "      <td>NaN</td>\n",
       "      <td>130</td>\n",
       "      <td>1.376</td>\n",
       "      <td>0.88</td>\n",
       "      <td>...</td>\n",
       "      <td>2020-12-19T17:22:44.040Z</td>\n",
       "      <td>79 km SSW of Sigli, Indonesia</td>\n",
       "      <td>earthquake</td>\n",
       "      <td>7.1</td>\n",
       "      <td>6.3</td>\n",
       "      <td>0.066</td>\n",
       "      <td>67</td>\n",
       "      <td>reviewed</td>\n",
       "      <td>us</td>\n",
       "      <td>us</td>\n",
       "    </tr>\n",
       "    <tr>\n",
       "      <th>25</th>\n",
       "      <td>2020-09-30T18:44:29.341Z</td>\n",
       "      <td>3.6568</td>\n",
       "      <td>97.0207</td>\n",
       "      <td>54.08</td>\n",
       "      <td>4.4</td>\n",
       "      <td>mb</td>\n",
       "      <td>NaN</td>\n",
       "      <td>164</td>\n",
       "      <td>1.563</td>\n",
       "      <td>1.00</td>\n",
       "      <td>...</td>\n",
       "      <td>2020-12-12T22:28:24.040Z</td>\n",
       "      <td>112 km ESE of Meulaboh, Indonesia</td>\n",
       "      <td>earthquake</td>\n",
       "      <td>7.9</td>\n",
       "      <td>3.4</td>\n",
       "      <td>0.112</td>\n",
       "      <td>23</td>\n",
       "      <td>reviewed</td>\n",
       "      <td>us</td>\n",
       "      <td>us</td>\n",
       "    </tr>\n",
       "    <tr>\n",
       "      <th>26</th>\n",
       "      <td>2020-09-29T10:48:54.148Z</td>\n",
       "      <td>3.9044</td>\n",
       "      <td>97.6847</td>\n",
       "      <td>35.00</td>\n",
       "      <td>4.4</td>\n",
       "      <td>mb</td>\n",
       "      <td>NaN</td>\n",
       "      <td>114</td>\n",
       "      <td>1.507</td>\n",
       "      <td>0.60</td>\n",
       "      <td>...</td>\n",
       "      <td>2020-12-05T21:03:06.040Z</td>\n",
       "      <td>northern Sumatra, Indonesia</td>\n",
       "      <td>earthquake</td>\n",
       "      <td>3.4</td>\n",
       "      <td>1.9</td>\n",
       "      <td>0.105</td>\n",
       "      <td>26</td>\n",
       "      <td>reviewed</td>\n",
       "      <td>us</td>\n",
       "      <td>us</td>\n",
       "    </tr>\n",
       "    <tr>\n",
       "      <th>27</th>\n",
       "      <td>2020-09-29T03:00:39.159Z</td>\n",
       "      <td>3.0780</td>\n",
       "      <td>96.7648</td>\n",
       "      <td>35.00</td>\n",
       "      <td>4.2</td>\n",
       "      <td>mb</td>\n",
       "      <td>NaN</td>\n",
       "      <td>142</td>\n",
       "      <td>1.939</td>\n",
       "      <td>0.79</td>\n",
       "      <td>...</td>\n",
       "      <td>2020-12-05T21:03:11.040Z</td>\n",
       "      <td>northern Sumatra, Indonesia</td>\n",
       "      <td>earthquake</td>\n",
       "      <td>6.8</td>\n",
       "      <td>2.0</td>\n",
       "      <td>0.176</td>\n",
       "      <td>9</td>\n",
       "      <td>reviewed</td>\n",
       "      <td>us</td>\n",
       "      <td>us</td>\n",
       "    </tr>\n",
       "    <tr>\n",
       "      <th>28</th>\n",
       "      <td>2020-09-28T18:16:11.571Z</td>\n",
       "      <td>3.9397</td>\n",
       "      <td>97.6972</td>\n",
       "      <td>35.00</td>\n",
       "      <td>4.2</td>\n",
       "      <td>mb</td>\n",
       "      <td>NaN</td>\n",
       "      <td>72</td>\n",
       "      <td>1.482</td>\n",
       "      <td>1.08</td>\n",
       "      <td>...</td>\n",
       "      <td>2020-12-05T21:03:04.040Z</td>\n",
       "      <td>65 km W of Pangkalan Brandan, Indonesia</td>\n",
       "      <td>earthquake</td>\n",
       "      <td>4.4</td>\n",
       "      <td>2.0</td>\n",
       "      <td>0.102</td>\n",
       "      <td>27</td>\n",
       "      <td>reviewed</td>\n",
       "      <td>us</td>\n",
       "      <td>us</td>\n",
       "    </tr>\n",
       "    <tr>\n",
       "      <th>29</th>\n",
       "      <td>2020-09-24T09:34:06.486Z</td>\n",
       "      <td>5.2464</td>\n",
       "      <td>96.6839</td>\n",
       "      <td>218.55</td>\n",
       "      <td>4.1</td>\n",
       "      <td>mb</td>\n",
       "      <td>NaN</td>\n",
       "      <td>66</td>\n",
       "      <td>0.262</td>\n",
       "      <td>1.06</td>\n",
       "      <td>...</td>\n",
       "      <td>2020-12-05T21:03:08.040Z</td>\n",
       "      <td>5 km NNW of Bireun, Indonesia</td>\n",
       "      <td>earthquake</td>\n",
       "      <td>9.9</td>\n",
       "      <td>3.7</td>\n",
       "      <td>0.114</td>\n",
       "      <td>21</td>\n",
       "      <td>reviewed</td>\n",
       "      <td>us</td>\n",
       "      <td>us</td>\n",
       "    </tr>\n",
       "    <tr>\n",
       "      <th>30</th>\n",
       "      <td>2020-09-19T04:50:22.414Z</td>\n",
       "      <td>4.9746</td>\n",
       "      <td>96.4066</td>\n",
       "      <td>10.00</td>\n",
       "      <td>4.5</td>\n",
       "      <td>mb</td>\n",
       "      <td>NaN</td>\n",
       "      <td>69</td>\n",
       "      <td>0.594</td>\n",
       "      <td>1.25</td>\n",
       "      <td>...</td>\n",
       "      <td>2020-11-28T21:31:53.040Z</td>\n",
       "      <td>30 km SSE of Reuleuet, Indonesia</td>\n",
       "      <td>earthquake</td>\n",
       "      <td>7.4</td>\n",
       "      <td>1.9</td>\n",
       "      <td>0.171</td>\n",
       "      <td>10</td>\n",
       "      <td>reviewed</td>\n",
       "      <td>us</td>\n",
       "      <td>us</td>\n",
       "    </tr>\n",
       "    <tr>\n",
       "      <th>31</th>\n",
       "      <td>2020-09-18T10:15:20.553Z</td>\n",
       "      <td>5.2039</td>\n",
       "      <td>94.7511</td>\n",
       "      <td>76.44</td>\n",
       "      <td>4.5</td>\n",
       "      <td>mb</td>\n",
       "      <td>NaN</td>\n",
       "      <td>86</td>\n",
       "      <td>2.187</td>\n",
       "      <td>0.82</td>\n",
       "      <td>...</td>\n",
       "      <td>2020-11-28T21:31:51.040Z</td>\n",
       "      <td>74 km WSW of Banda Aceh, Indonesia</td>\n",
       "      <td>earthquake</td>\n",
       "      <td>5.0</td>\n",
       "      <td>6.9</td>\n",
       "      <td>0.093</td>\n",
       "      <td>34</td>\n",
       "      <td>reviewed</td>\n",
       "      <td>us</td>\n",
       "      <td>us</td>\n",
       "    </tr>\n",
       "    <tr>\n",
       "      <th>32</th>\n",
       "      <td>2020-09-13T18:28:52.194Z</td>\n",
       "      <td>4.2449</td>\n",
       "      <td>96.6838</td>\n",
       "      <td>121.54</td>\n",
       "      <td>5.0</td>\n",
       "      <td>mww</td>\n",
       "      <td>NaN</td>\n",
       "      <td>42</td>\n",
       "      <td>1.012</td>\n",
       "      <td>1.13</td>\n",
       "      <td>...</td>\n",
       "      <td>2020-11-21T20:10:40.040Z</td>\n",
       "      <td>62 km E of Meulaboh, Indonesia</td>\n",
       "      <td>earthquake</td>\n",
       "      <td>7.3</td>\n",
       "      <td>4.2</td>\n",
       "      <td>0.071</td>\n",
       "      <td>19</td>\n",
       "      <td>reviewed</td>\n",
       "      <td>us</td>\n",
       "      <td>us</td>\n",
       "    </tr>\n",
       "    <tr>\n",
       "      <th>33</th>\n",
       "      <td>2020-09-01T11:52:50.668Z</td>\n",
       "      <td>3.0422</td>\n",
       "      <td>95.7332</td>\n",
       "      <td>8.51</td>\n",
       "      <td>4.9</td>\n",
       "      <td>mb</td>\n",
       "      <td>NaN</td>\n",
       "      <td>117</td>\n",
       "      <td>2.486</td>\n",
       "      <td>0.48</td>\n",
       "      <td>...</td>\n",
       "      <td>2020-11-07T18:48:43.040Z</td>\n",
       "      <td>95 km NW of Sinabang, Indonesia</td>\n",
       "      <td>earthquake</td>\n",
       "      <td>4.9</td>\n",
       "      <td>4.5</td>\n",
       "      <td>0.079</td>\n",
       "      <td>50</td>\n",
       "      <td>reviewed</td>\n",
       "      <td>us</td>\n",
       "      <td>us</td>\n",
       "    </tr>\n",
       "    <tr>\n",
       "      <th>34</th>\n",
       "      <td>2020-08-20T13:53:52.144Z</td>\n",
       "      <td>4.8884</td>\n",
       "      <td>96.0874</td>\n",
       "      <td>10.00</td>\n",
       "      <td>4.4</td>\n",
       "      <td>mb</td>\n",
       "      <td>NaN</td>\n",
       "      <td>85</td>\n",
       "      <td>0.920</td>\n",
       "      <td>0.82</td>\n",
       "      <td>...</td>\n",
       "      <td>2020-10-31T19:06:11.040Z</td>\n",
       "      <td>42 km SSW of Reuleuet, Indonesia</td>\n",
       "      <td>earthquake</td>\n",
       "      <td>1.9</td>\n",
       "      <td>1.9</td>\n",
       "      <td>0.095</td>\n",
       "      <td>38</td>\n",
       "      <td>reviewed</td>\n",
       "      <td>us</td>\n",
       "      <td>us</td>\n",
       "    </tr>\n",
       "    <tr>\n",
       "      <th>35</th>\n",
       "      <td>2020-08-06T10:12:56.849Z</td>\n",
       "      <td>3.7417</td>\n",
       "      <td>95.6192</td>\n",
       "      <td>43.50</td>\n",
       "      <td>4.6</td>\n",
       "      <td>mb</td>\n",
       "      <td>NaN</td>\n",
       "      <td>51</td>\n",
       "      <td>1.983</td>\n",
       "      <td>0.77</td>\n",
       "      <td>...</td>\n",
       "      <td>2020-10-21T22:03:54.040Z</td>\n",
       "      <td>71 km SW of Meulaboh, Indonesia</td>\n",
       "      <td>earthquake</td>\n",
       "      <td>7.7</td>\n",
       "      <td>5.7</td>\n",
       "      <td>0.096</td>\n",
       "      <td>32</td>\n",
       "      <td>reviewed</td>\n",
       "      <td>us</td>\n",
       "      <td>us</td>\n",
       "    </tr>\n",
       "    <tr>\n",
       "      <th>36</th>\n",
       "      <td>2020-06-18T10:56:55.720Z</td>\n",
       "      <td>5.7719</td>\n",
       "      <td>95.2875</td>\n",
       "      <td>10.00</td>\n",
       "      <td>4.5</td>\n",
       "      <td>mb</td>\n",
       "      <td>NaN</td>\n",
       "      <td>150</td>\n",
       "      <td>1.738</td>\n",
       "      <td>1.22</td>\n",
       "      <td>...</td>\n",
       "      <td>2020-08-30T00:01:12.040Z</td>\n",
       "      <td>13 km SSW of Sabang, Indonesia</td>\n",
       "      <td>earthquake</td>\n",
       "      <td>10.9</td>\n",
       "      <td>1.9</td>\n",
       "      <td>0.156</td>\n",
       "      <td>15</td>\n",
       "      <td>reviewed</td>\n",
       "      <td>us</td>\n",
       "      <td>us</td>\n",
       "    </tr>\n",
       "    <tr>\n",
       "      <th>37</th>\n",
       "      <td>2020-06-10T04:23:22.554Z</td>\n",
       "      <td>3.5269</td>\n",
       "      <td>98.0192</td>\n",
       "      <td>140.62</td>\n",
       "      <td>4.3</td>\n",
       "      <td>mb</td>\n",
       "      <td>NaN</td>\n",
       "      <td>89</td>\n",
       "      <td>1.225</td>\n",
       "      <td>0.61</td>\n",
       "      <td>...</td>\n",
       "      <td>2020-08-22T19:14:58.040Z</td>\n",
       "      <td>52 km W of Binjai, Indonesia</td>\n",
       "      <td>earthquake</td>\n",
       "      <td>10.4</td>\n",
       "      <td>2.3</td>\n",
       "      <td>0.177</td>\n",
       "      <td>9</td>\n",
       "      <td>reviewed</td>\n",
       "      <td>us</td>\n",
       "      <td>us</td>\n",
       "    </tr>\n",
       "    <tr>\n",
       "      <th>38</th>\n",
       "      <td>2020-06-05T01:23:03.458Z</td>\n",
       "      <td>4.5025</td>\n",
       "      <td>95.1232</td>\n",
       "      <td>50.69</td>\n",
       "      <td>4.5</td>\n",
       "      <td>mb</td>\n",
       "      <td>NaN</td>\n",
       "      <td>139</td>\n",
       "      <td>1.955</td>\n",
       "      <td>0.87</td>\n",
       "      <td>...</td>\n",
       "      <td>2020-08-18T17:58:51.040Z</td>\n",
       "      <td>117 km SSW of Banda Aceh, Indonesia</td>\n",
       "      <td>earthquake</td>\n",
       "      <td>9.2</td>\n",
       "      <td>8.2</td>\n",
       "      <td>0.100</td>\n",
       "      <td>29</td>\n",
       "      <td>reviewed</td>\n",
       "      <td>us</td>\n",
       "      <td>us</td>\n",
       "    </tr>\n",
       "    <tr>\n",
       "      <th>39</th>\n",
       "      <td>2020-06-03T22:30:55.044Z</td>\n",
       "      <td>5.6736</td>\n",
       "      <td>95.1700</td>\n",
       "      <td>10.00</td>\n",
       "      <td>4.6</td>\n",
       "      <td>mb</td>\n",
       "      <td>NaN</td>\n",
       "      <td>87</td>\n",
       "      <td>1.823</td>\n",
       "      <td>0.56</td>\n",
       "      <td>...</td>\n",
       "      <td>2020-08-18T17:58:46.040Z</td>\n",
       "      <td>23 km NW of Banda Aceh, Indonesia</td>\n",
       "      <td>earthquake</td>\n",
       "      <td>7.9</td>\n",
       "      <td>1.9</td>\n",
       "      <td>0.076</td>\n",
       "      <td>52</td>\n",
       "      <td>reviewed</td>\n",
       "      <td>us</td>\n",
       "      <td>us</td>\n",
       "    </tr>\n",
       "    <tr>\n",
       "      <th>40</th>\n",
       "      <td>2020-05-25T10:08:11.583Z</td>\n",
       "      <td>4.9608</td>\n",
       "      <td>94.4496</td>\n",
       "      <td>48.36</td>\n",
       "      <td>4.5</td>\n",
       "      <td>mb</td>\n",
       "      <td>NaN</td>\n",
       "      <td>166</td>\n",
       "      <td>2.502</td>\n",
       "      <td>0.69</td>\n",
       "      <td>...</td>\n",
       "      <td>2020-08-08T18:17:58.040Z</td>\n",
       "      <td>117 km WSW of Banda Aceh, Indonesia</td>\n",
       "      <td>earthquake</td>\n",
       "      <td>10.7</td>\n",
       "      <td>8.2</td>\n",
       "      <td>0.128</td>\n",
       "      <td>18</td>\n",
       "      <td>reviewed</td>\n",
       "      <td>us</td>\n",
       "      <td>us</td>\n",
       "    </tr>\n",
       "  </tbody>\n",
       "</table>\n",
       "<p>41 rows × 22 columns</p>\n",
       "</div>"
      ],
      "text/plain": [
       "                        time  latitude  longitude   depth  mag magType  nst  \\\n",
       "0   2021-05-02T20:49:43.322Z    5.3234    94.6170   63.97  5.0      mb  NaN   \n",
       "1   2021-05-02T13:02:17.751Z    4.0461    95.7566   50.03  4.6      mb  NaN   \n",
       "2   2021-04-17T01:04:53.776Z    5.1158    95.4508  100.74  5.0     mww  NaN   \n",
       "3   2021-04-09T15:14:31.108Z    4.8116    96.2611   27.57  4.3      mb  NaN   \n",
       "4   2021-04-09T08:08:58.946Z    3.0723    96.3738   55.17  4.2      mb  NaN   \n",
       "5   2021-04-08T17:40:42.267Z    3.7847    95.7753   66.13  4.4      mb  NaN   \n",
       "6   2021-04-06T02:36:30.481Z    4.2645    96.0982   67.22  4.0      mb  NaN   \n",
       "7   2021-03-24T06:44:29.347Z    5.1787    94.3998   54.68  4.4      mb  NaN   \n",
       "8   2021-03-16T15:01:32.010Z    4.2565    97.5425  193.78  4.4      mb  NaN   \n",
       "9   2021-03-04T23:36:58.479Z    5.0051    96.0004   10.00  4.5      mb  NaN   \n",
       "10  2021-02-11T15:35:10.916Z    3.5719    96.8983   95.16  4.4      mb  NaN   \n",
       "11  2021-01-30T09:06:44.294Z    4.6586    96.3415   10.00  4.3      mb  NaN   \n",
       "12  2021-01-26T03:36:36.765Z    4.8138    94.3724   35.00  4.2      mb  NaN   \n",
       "13  2021-01-12T04:50:54.625Z    3.8565    95.8590   54.96  4.3      mb  NaN   \n",
       "14  2021-01-08T23:17:13.343Z    5.1995    94.7194   61.29  4.2      mb  NaN   \n",
       "15  2020-12-16T23:35:53.610Z    4.1091    96.7993   10.00  4.3      mb  NaN   \n",
       "16  2020-12-14T14:02:43.159Z    4.4477    96.3535    6.23  4.9      mb  NaN   \n",
       "17  2020-12-03T03:50:58.767Z    4.5375    97.7230   10.00  4.8      mb  NaN   \n",
       "18  2020-11-30T17:14:12.006Z    3.0670    96.1349   27.89  5.0      mb  NaN   \n",
       "19  2020-11-28T23:47:33.748Z    5.3123    94.5032   64.82  4.9      mb  NaN   \n",
       "20  2020-11-13T18:33:07.130Z    5.7913    95.5619   10.00  5.1     mww  NaN   \n",
       "21  2020-10-26T12:06:08.133Z    3.3538    95.4990   35.00  4.1      mb  NaN   \n",
       "22  2020-10-15T04:59:52.829Z    3.9446    95.8698   48.83  4.9     mww  NaN   \n",
       "23  2020-10-11T11:09:24.305Z    4.5136    96.6797  154.36  4.7      mb  NaN   \n",
       "24  2020-10-10T20:22:27.940Z    4.7367    95.6557   89.03  4.5      mb  NaN   \n",
       "25  2020-09-30T18:44:29.341Z    3.6568    97.0207   54.08  4.4      mb  NaN   \n",
       "26  2020-09-29T10:48:54.148Z    3.9044    97.6847   35.00  4.4      mb  NaN   \n",
       "27  2020-09-29T03:00:39.159Z    3.0780    96.7648   35.00  4.2      mb  NaN   \n",
       "28  2020-09-28T18:16:11.571Z    3.9397    97.6972   35.00  4.2      mb  NaN   \n",
       "29  2020-09-24T09:34:06.486Z    5.2464    96.6839  218.55  4.1      mb  NaN   \n",
       "30  2020-09-19T04:50:22.414Z    4.9746    96.4066   10.00  4.5      mb  NaN   \n",
       "31  2020-09-18T10:15:20.553Z    5.2039    94.7511   76.44  4.5      mb  NaN   \n",
       "32  2020-09-13T18:28:52.194Z    4.2449    96.6838  121.54  5.0     mww  NaN   \n",
       "33  2020-09-01T11:52:50.668Z    3.0422    95.7332    8.51  4.9      mb  NaN   \n",
       "34  2020-08-20T13:53:52.144Z    4.8884    96.0874   10.00  4.4      mb  NaN   \n",
       "35  2020-08-06T10:12:56.849Z    3.7417    95.6192   43.50  4.6      mb  NaN   \n",
       "36  2020-06-18T10:56:55.720Z    5.7719    95.2875   10.00  4.5      mb  NaN   \n",
       "37  2020-06-10T04:23:22.554Z    3.5269    98.0192  140.62  4.3      mb  NaN   \n",
       "38  2020-06-05T01:23:03.458Z    4.5025    95.1232   50.69  4.5      mb  NaN   \n",
       "39  2020-06-03T22:30:55.044Z    5.6736    95.1700   10.00  4.6      mb  NaN   \n",
       "40  2020-05-25T10:08:11.583Z    4.9608    94.4496   48.36  4.5      mb  NaN   \n",
       "\n",
       "    gap   dmin   rms  ...                   updated  \\\n",
       "0   132  2.322  0.87  ...  2021-05-02T21:02:32.040Z   \n",
       "1   129  1.669  0.86  ...  2021-05-09T13:22:24.040Z   \n",
       "2    50  1.494  1.13  ...  2021-04-17T02:23:46.858Z   \n",
       "3   167  0.799  1.01  ...  2021-04-25T16:21:42.040Z   \n",
       "4   173  2.127  0.48  ...  2021-04-23T04:41:16.040Z   \n",
       "5    95  1.850  0.82  ...  2021-05-05T14:02:32.040Z   \n",
       "6   178  1.278  0.58  ...  2021-04-20T03:21:44.040Z   \n",
       "7    98  2.537  0.91  ...  2021-04-16T12:30:49.040Z   \n",
       "8    98  1.133  0.75  ...  2021-04-21T13:17:34.040Z   \n",
       "9   174  0.968  0.97  ...  2021-05-13T22:45:52.040Z   \n",
       "10  155  1.646  0.64  ...  2021-04-22T21:53:32.040Z   \n",
       "11  152  0.827  0.41  ...  2021-04-16T19:03:39.040Z   \n",
       "12  194  2.598  0.81  ...  2021-04-13T17:04:06.040Z   \n",
       "13   96  1.742  0.36  ...  2021-03-20T21:24:34.040Z   \n",
       "14  168  2.218  0.54  ...  2021-03-20T21:23:00.040Z   \n",
       "15  117  1.122  0.91  ...  2021-02-27T23:25:55.040Z   \n",
       "16  144  0.975  0.42  ...  2021-02-20T16:12:40.040Z   \n",
       "17   32  1.034  0.85  ...  2021-02-12T22:38:30.040Z   \n",
       "18   59  2.267  0.75  ...  2021-02-06T18:29:19.040Z   \n",
       "19  137  2.435  0.72  ...  2021-02-06T18:28:53.040Z   \n",
       "20   43  1.487  1.10  ...  2021-01-27T17:29:05.040Z   \n",
       "21  203  2.356  0.44  ...  2021-01-09T20:05:42.040Z   \n",
       "22   52  1.667  0.65  ...  2020-12-29T23:07:22.040Z   \n",
       "23  141  0.758  0.79  ...  2020-12-19T17:22:45.040Z   \n",
       "24  130  1.376  0.88  ...  2020-12-19T17:22:44.040Z   \n",
       "25  164  1.563  1.00  ...  2020-12-12T22:28:24.040Z   \n",
       "26  114  1.507  0.60  ...  2020-12-05T21:03:06.040Z   \n",
       "27  142  1.939  0.79  ...  2020-12-05T21:03:11.040Z   \n",
       "28   72  1.482  1.08  ...  2020-12-05T21:03:04.040Z   \n",
       "29   66  0.262  1.06  ...  2020-12-05T21:03:08.040Z   \n",
       "30   69  0.594  1.25  ...  2020-11-28T21:31:53.040Z   \n",
       "31   86  2.187  0.82  ...  2020-11-28T21:31:51.040Z   \n",
       "32   42  1.012  1.13  ...  2020-11-21T20:10:40.040Z   \n",
       "33  117  2.486  0.48  ...  2020-11-07T18:48:43.040Z   \n",
       "34   85  0.920  0.82  ...  2020-10-31T19:06:11.040Z   \n",
       "35   51  1.983  0.77  ...  2020-10-21T22:03:54.040Z   \n",
       "36  150  1.738  1.22  ...  2020-08-30T00:01:12.040Z   \n",
       "37   89  1.225  0.61  ...  2020-08-22T19:14:58.040Z   \n",
       "38  139  1.955  0.87  ...  2020-08-18T17:58:51.040Z   \n",
       "39   87  1.823  0.56  ...  2020-08-18T17:58:46.040Z   \n",
       "40  166  2.502  0.69  ...  2020-08-08T18:17:58.040Z   \n",
       "\n",
       "                                      place        type horizontalError  \\\n",
       "0        82 km WSW of Banda Aceh, Indonesia  earthquake             9.6   \n",
       "1          42 km WSW of Meulaboh, Indonesia  earthquake             7.6   \n",
       "2        48 km SSE of Banda Aceh, Indonesia  earthquake             8.2   \n",
       "3            44 km S of Reuleuet, Indonesia  earthquake             5.9   \n",
       "4            65 km N of Sinabang, Indonesia  earthquake             7.4   \n",
       "5           55 km SW of Meulaboh, Indonesia  earthquake             7.9   \n",
       "6          13 km NNW of Meulaboh, Indonesia  earthquake             7.0   \n",
       "7       110 km WSW of Banda Aceh, Indonesia  earthquake            10.3   \n",
       "8            52 km WSW of Langsa, Indonesia  earthquake             4.3   \n",
       "9           39 km SW of Reuleuet, Indonesia  earthquake             4.6   \n",
       "10         106 km SE of Meulaboh, Indonesia  earthquake             6.8   \n",
       "11         61 km NNE of Meulaboh, Indonesia  earthquake             7.1   \n",
       "12   off the west coast of northern Sumatra  earthquake             8.1   \n",
       "13          43 km SW of Meulaboh, Indonesia  earthquake            10.1   \n",
       "14       77 km WSW of Banda Aceh, Indonesia  earthquake            12.1   \n",
       "15           74 km E of Meulaboh, Indonesia  earthquake             5.5   \n",
       "16          41 km NE of Meulaboh, Indonesia  earthquake             8.3   \n",
       "17           28 km WNW of Langsa, Indonesia  earthquake             5.1   \n",
       "18         70 km NNW of Sinabang, Indonesia  earthquake             7.2   \n",
       "19       95 km WSW of Banda Aceh, Indonesia  earthquake             8.7   \n",
       "20           29 km ESE of Sabang, Indonesia  earthquake             7.2   \n",
       "21         111 km SW of Meulaboh, Indonesia  earthquake             6.1   \n",
       "22          36 km SW of Meulaboh, Indonesia  earthquake             7.7   \n",
       "23         73 km ENE of Meulaboh, Indonesia  earthquake             8.7   \n",
       "24            79 km SSW of Sigli, Indonesia  earthquake             7.1   \n",
       "25        112 km ESE of Meulaboh, Indonesia  earthquake             7.9   \n",
       "26              northern Sumatra, Indonesia  earthquake             3.4   \n",
       "27              northern Sumatra, Indonesia  earthquake             6.8   \n",
       "28  65 km W of Pangkalan Brandan, Indonesia  earthquake             4.4   \n",
       "29            5 km NNW of Bireun, Indonesia  earthquake             9.9   \n",
       "30         30 km SSE of Reuleuet, Indonesia  earthquake             7.4   \n",
       "31       74 km WSW of Banda Aceh, Indonesia  earthquake             5.0   \n",
       "32           62 km E of Meulaboh, Indonesia  earthquake             7.3   \n",
       "33          95 km NW of Sinabang, Indonesia  earthquake             4.9   \n",
       "34         42 km SSW of Reuleuet, Indonesia  earthquake             1.9   \n",
       "35          71 km SW of Meulaboh, Indonesia  earthquake             7.7   \n",
       "36           13 km SSW of Sabang, Indonesia  earthquake            10.9   \n",
       "37             52 km W of Binjai, Indonesia  earthquake            10.4   \n",
       "38      117 km SSW of Banda Aceh, Indonesia  earthquake             9.2   \n",
       "39        23 km NW of Banda Aceh, Indonesia  earthquake             7.9   \n",
       "40      117 km WSW of Banda Aceh, Indonesia  earthquake            10.7   \n",
       "\n",
       "   depthError  magError  magNst    status  locationSource magSource  \n",
       "0         7.6     0.099      32  reviewed              us        us  \n",
       "1         8.2     0.136      16  reviewed              us        us  \n",
       "2         6.3     0.098      10  reviewed              us        us  \n",
       "3         5.9     0.153      14  reviewed              us        us  \n",
       "4         9.2     0.121      19  reviewed              us        us  \n",
       "5         8.3     0.102      28  reviewed              us        us  \n",
       "6         9.7     0.144      13  reviewed              us        us  \n",
       "7         8.4     0.148      13  reviewed              us        us  \n",
       "8         6.9     0.139      15  reviewed              us        us  \n",
       "9         1.9     0.145      14  reviewed              us        us  \n",
       "10        7.6     0.134      19  reviewed              us        us  \n",
       "11        1.9     0.142      14  reviewed              us        us  \n",
       "12        2.0     0.153      12  reviewed              us        us  \n",
       "13        9.1     0.154      12  reviewed              us        us  \n",
       "14        6.5     0.186       8  reviewed              us        us  \n",
       "15        1.7     0.133      16  reviewed              us        us  \n",
       "16        6.8     0.177      14  reviewed              us        us  \n",
       "17        1.7     0.077      53  reviewed              us        us  \n",
       "18        4.9     0.067      71  reviewed              us        us  \n",
       "19        8.0     0.080      49  reviewed              us        us  \n",
       "20        1.8     0.075      17  reviewed              us        us  \n",
       "21        2.0     0.174       9  reviewed              us        us  \n",
       "22        5.3     0.098      10  reviewed              us        us  \n",
       "23        6.8     0.080      47  reviewed              us        us  \n",
       "24        6.3     0.066      67  reviewed              us        us  \n",
       "25        3.4     0.112      23  reviewed              us        us  \n",
       "26        1.9     0.105      26  reviewed              us        us  \n",
       "27        2.0     0.176       9  reviewed              us        us  \n",
       "28        2.0     0.102      27  reviewed              us        us  \n",
       "29        3.7     0.114      21  reviewed              us        us  \n",
       "30        1.9     0.171      10  reviewed              us        us  \n",
       "31        6.9     0.093      34  reviewed              us        us  \n",
       "32        4.2     0.071      19  reviewed              us        us  \n",
       "33        4.5     0.079      50  reviewed              us        us  \n",
       "34        1.9     0.095      38  reviewed              us        us  \n",
       "35        5.7     0.096      32  reviewed              us        us  \n",
       "36        1.9     0.156      15  reviewed              us        us  \n",
       "37        2.3     0.177       9  reviewed              us        us  \n",
       "38        8.2     0.100      29  reviewed              us        us  \n",
       "39        1.9     0.076      52  reviewed              us        us  \n",
       "40        8.2     0.128      18  reviewed              us        us  \n",
       "\n",
       "[41 rows x 22 columns]"
      ]
     },
     "execution_count": 122,
     "metadata": {},
     "output_type": "execute_result"
    }
   ],
   "source": [
    "data = pd.read_csv('earthquake_aceh_usgs.csv')\n",
    "data"
   ]
  },
  {
   "cell_type": "markdown",
   "id": "07885438",
   "metadata": {},
   "source": [
    "We can show the first-five of data by using `[variable].head()` as follows"
   ]
  },
  {
   "cell_type": "code",
   "execution_count": 123,
   "id": "8c1a8d6f",
   "metadata": {
    "scrolled": true
   },
   "outputs": [
    {
     "data": {
      "text/html": [
       "<div>\n",
       "<style scoped>\n",
       "    .dataframe tbody tr th:only-of-type {\n",
       "        vertical-align: middle;\n",
       "    }\n",
       "\n",
       "    .dataframe tbody tr th {\n",
       "        vertical-align: top;\n",
       "    }\n",
       "\n",
       "    .dataframe thead th {\n",
       "        text-align: right;\n",
       "    }\n",
       "</style>\n",
       "<table border=\"1\" class=\"dataframe\">\n",
       "  <thead>\n",
       "    <tr style=\"text-align: right;\">\n",
       "      <th></th>\n",
       "      <th>time</th>\n",
       "      <th>latitude</th>\n",
       "      <th>longitude</th>\n",
       "      <th>depth</th>\n",
       "      <th>mag</th>\n",
       "      <th>magType</th>\n",
       "      <th>nst</th>\n",
       "      <th>gap</th>\n",
       "      <th>dmin</th>\n",
       "      <th>rms</th>\n",
       "      <th>...</th>\n",
       "      <th>updated</th>\n",
       "      <th>place</th>\n",
       "      <th>type</th>\n",
       "      <th>horizontalError</th>\n",
       "      <th>depthError</th>\n",
       "      <th>magError</th>\n",
       "      <th>magNst</th>\n",
       "      <th>status</th>\n",
       "      <th>locationSource</th>\n",
       "      <th>magSource</th>\n",
       "    </tr>\n",
       "  </thead>\n",
       "  <tbody>\n",
       "    <tr>\n",
       "      <th>0</th>\n",
       "      <td>2021-05-02T20:49:43.322Z</td>\n",
       "      <td>5.3234</td>\n",
       "      <td>94.6170</td>\n",
       "      <td>63.97</td>\n",
       "      <td>5.0</td>\n",
       "      <td>mb</td>\n",
       "      <td>NaN</td>\n",
       "      <td>132</td>\n",
       "      <td>2.322</td>\n",
       "      <td>0.87</td>\n",
       "      <td>...</td>\n",
       "      <td>2021-05-02T21:02:32.040Z</td>\n",
       "      <td>82 km WSW of Banda Aceh, Indonesia</td>\n",
       "      <td>earthquake</td>\n",
       "      <td>9.6</td>\n",
       "      <td>7.6</td>\n",
       "      <td>0.099</td>\n",
       "      <td>32</td>\n",
       "      <td>reviewed</td>\n",
       "      <td>us</td>\n",
       "      <td>us</td>\n",
       "    </tr>\n",
       "    <tr>\n",
       "      <th>1</th>\n",
       "      <td>2021-05-02T13:02:17.751Z</td>\n",
       "      <td>4.0461</td>\n",
       "      <td>95.7566</td>\n",
       "      <td>50.03</td>\n",
       "      <td>4.6</td>\n",
       "      <td>mb</td>\n",
       "      <td>NaN</td>\n",
       "      <td>129</td>\n",
       "      <td>1.669</td>\n",
       "      <td>0.86</td>\n",
       "      <td>...</td>\n",
       "      <td>2021-05-09T13:22:24.040Z</td>\n",
       "      <td>42 km WSW of Meulaboh, Indonesia</td>\n",
       "      <td>earthquake</td>\n",
       "      <td>7.6</td>\n",
       "      <td>8.2</td>\n",
       "      <td>0.136</td>\n",
       "      <td>16</td>\n",
       "      <td>reviewed</td>\n",
       "      <td>us</td>\n",
       "      <td>us</td>\n",
       "    </tr>\n",
       "    <tr>\n",
       "      <th>2</th>\n",
       "      <td>2021-04-17T01:04:53.776Z</td>\n",
       "      <td>5.1158</td>\n",
       "      <td>95.4508</td>\n",
       "      <td>100.74</td>\n",
       "      <td>5.0</td>\n",
       "      <td>mww</td>\n",
       "      <td>NaN</td>\n",
       "      <td>50</td>\n",
       "      <td>1.494</td>\n",
       "      <td>1.13</td>\n",
       "      <td>...</td>\n",
       "      <td>2021-04-17T02:23:46.858Z</td>\n",
       "      <td>48 km SSE of Banda Aceh, Indonesia</td>\n",
       "      <td>earthquake</td>\n",
       "      <td>8.2</td>\n",
       "      <td>6.3</td>\n",
       "      <td>0.098</td>\n",
       "      <td>10</td>\n",
       "      <td>reviewed</td>\n",
       "      <td>us</td>\n",
       "      <td>us</td>\n",
       "    </tr>\n",
       "    <tr>\n",
       "      <th>3</th>\n",
       "      <td>2021-04-09T15:14:31.108Z</td>\n",
       "      <td>4.8116</td>\n",
       "      <td>96.2611</td>\n",
       "      <td>27.57</td>\n",
       "      <td>4.3</td>\n",
       "      <td>mb</td>\n",
       "      <td>NaN</td>\n",
       "      <td>167</td>\n",
       "      <td>0.799</td>\n",
       "      <td>1.01</td>\n",
       "      <td>...</td>\n",
       "      <td>2021-04-25T16:21:42.040Z</td>\n",
       "      <td>44 km S of Reuleuet, Indonesia</td>\n",
       "      <td>earthquake</td>\n",
       "      <td>5.9</td>\n",
       "      <td>5.9</td>\n",
       "      <td>0.153</td>\n",
       "      <td>14</td>\n",
       "      <td>reviewed</td>\n",
       "      <td>us</td>\n",
       "      <td>us</td>\n",
       "    </tr>\n",
       "    <tr>\n",
       "      <th>4</th>\n",
       "      <td>2021-04-09T08:08:58.946Z</td>\n",
       "      <td>3.0723</td>\n",
       "      <td>96.3738</td>\n",
       "      <td>55.17</td>\n",
       "      <td>4.2</td>\n",
       "      <td>mb</td>\n",
       "      <td>NaN</td>\n",
       "      <td>173</td>\n",
       "      <td>2.127</td>\n",
       "      <td>0.48</td>\n",
       "      <td>...</td>\n",
       "      <td>2021-04-23T04:41:16.040Z</td>\n",
       "      <td>65 km N of Sinabang, Indonesia</td>\n",
       "      <td>earthquake</td>\n",
       "      <td>7.4</td>\n",
       "      <td>9.2</td>\n",
       "      <td>0.121</td>\n",
       "      <td>19</td>\n",
       "      <td>reviewed</td>\n",
       "      <td>us</td>\n",
       "      <td>us</td>\n",
       "    </tr>\n",
       "  </tbody>\n",
       "</table>\n",
       "<p>5 rows × 22 columns</p>\n",
       "</div>"
      ],
      "text/plain": [
       "                       time  latitude  longitude   depth  mag magType  nst  \\\n",
       "0  2021-05-02T20:49:43.322Z    5.3234    94.6170   63.97  5.0      mb  NaN   \n",
       "1  2021-05-02T13:02:17.751Z    4.0461    95.7566   50.03  4.6      mb  NaN   \n",
       "2  2021-04-17T01:04:53.776Z    5.1158    95.4508  100.74  5.0     mww  NaN   \n",
       "3  2021-04-09T15:14:31.108Z    4.8116    96.2611   27.57  4.3      mb  NaN   \n",
       "4  2021-04-09T08:08:58.946Z    3.0723    96.3738   55.17  4.2      mb  NaN   \n",
       "\n",
       "   gap   dmin   rms  ...                   updated  \\\n",
       "0  132  2.322  0.87  ...  2021-05-02T21:02:32.040Z   \n",
       "1  129  1.669  0.86  ...  2021-05-09T13:22:24.040Z   \n",
       "2   50  1.494  1.13  ...  2021-04-17T02:23:46.858Z   \n",
       "3  167  0.799  1.01  ...  2021-04-25T16:21:42.040Z   \n",
       "4  173  2.127  0.48  ...  2021-04-23T04:41:16.040Z   \n",
       "\n",
       "                                place        type horizontalError depthError  \\\n",
       "0  82 km WSW of Banda Aceh, Indonesia  earthquake             9.6        7.6   \n",
       "1    42 km WSW of Meulaboh, Indonesia  earthquake             7.6        8.2   \n",
       "2  48 km SSE of Banda Aceh, Indonesia  earthquake             8.2        6.3   \n",
       "3      44 km S of Reuleuet, Indonesia  earthquake             5.9        5.9   \n",
       "4      65 km N of Sinabang, Indonesia  earthquake             7.4        9.2   \n",
       "\n",
       "   magError  magNst    status  locationSource magSource  \n",
       "0     0.099      32  reviewed              us        us  \n",
       "1     0.136      16  reviewed              us        us  \n",
       "2     0.098      10  reviewed              us        us  \n",
       "3     0.153      14  reviewed              us        us  \n",
       "4     0.121      19  reviewed              us        us  \n",
       "\n",
       "[5 rows x 22 columns]"
      ]
     },
     "execution_count": 123,
     "metadata": {},
     "output_type": "execute_result"
    }
   ],
   "source": [
    "data.head()"
   ]
  },
  {
   "cell_type": "markdown",
   "id": "23349b03",
   "metadata": {},
   "source": [
    "#### Get an Information File\n",
    "\n",
    "As we can see, there is a lot of data that we are dealing with. We can see a short information from this file by using `[variable].info()` method as follows"
   ]
  },
  {
   "cell_type": "code",
   "execution_count": 124,
   "id": "be040738",
   "metadata": {
    "scrolled": true
   },
   "outputs": [
    {
     "name": "stdout",
     "output_type": "stream",
     "text": [
      "<class 'pandas.core.frame.DataFrame'>\n",
      "RangeIndex: 41 entries, 0 to 40\n",
      "Data columns (total 22 columns):\n",
      " #   Column           Non-Null Count  Dtype  \n",
      "---  ------           --------------  -----  \n",
      " 0   time             41 non-null     object \n",
      " 1   latitude         41 non-null     float64\n",
      " 2   longitude        41 non-null     float64\n",
      " 3   depth            41 non-null     float64\n",
      " 4   mag              41 non-null     float64\n",
      " 5   magType          41 non-null     object \n",
      " 6   nst              0 non-null      float64\n",
      " 7   gap              41 non-null     int64  \n",
      " 8   dmin             41 non-null     float64\n",
      " 9   rms              41 non-null     float64\n",
      " 10  net              41 non-null     object \n",
      " 11  id               41 non-null     object \n",
      " 12  updated          41 non-null     object \n",
      " 13  place            41 non-null     object \n",
      " 14  type             41 non-null     object \n",
      " 15  horizontalError  41 non-null     float64\n",
      " 16  depthError       41 non-null     float64\n",
      " 17  magError         41 non-null     float64\n",
      " 18  magNst           41 non-null     int64  \n",
      " 19  status           41 non-null     object \n",
      " 20  locationSource   41 non-null     object \n",
      " 21  magSource        41 non-null     object \n",
      "dtypes: float64(10), int64(2), object(10)\n",
      "memory usage: 7.2+ KB\n"
     ]
    }
   ],
   "source": [
    "data.info()"
   ]
  },
  {
   "cell_type": "markdown",
   "id": "d0d25458",
   "metadata": {},
   "source": [
    "Here we are. Through this information, we can conclude there are:\n",
    "\n",
    "- 22 columns of data\n",
    "- 41 rows of data\n",
    "- The column of `nst` does not has a data (0 non-null) or NaN\n",
    "- three types data: object, int64  and float64\n",
    "\n",
    "We can easily to find out that how many dimension does this data have by using `[variable].shape` method"
   ]
  },
  {
   "cell_type": "code",
   "execution_count": 125,
   "id": "8b96eba4",
   "metadata": {},
   "outputs": [
    {
     "data": {
      "text/plain": [
       "(41, 22)"
      ]
     },
     "execution_count": 125,
     "metadata": {},
     "output_type": "execute_result"
    }
   ],
   "source": [
    "data.shape"
   ]
  },
  {
   "cell_type": "markdown",
   "id": "e5f23309",
   "metadata": {},
   "source": [
    "#### Remove a Certain Data\n",
    "\n",
    "Because the column of `nst` has a NaN data, we can remove this column and assign to new variable of `new_data`. To remove, we can apply"
   ]
  },
  {
   "cell_type": "code",
   "execution_count": 126,
   "id": "0724f988",
   "metadata": {
    "scrolled": true
   },
   "outputs": [],
   "source": [
    "new_data = data.drop('nst',axis=1)"
   ]
  },
  {
   "cell_type": "code",
   "execution_count": 127,
   "id": "4c9b93ae",
   "metadata": {
    "scrolled": false
   },
   "outputs": [
    {
     "name": "stdout",
     "output_type": "stream",
     "text": [
      "<class 'pandas.core.frame.DataFrame'>\n",
      "RangeIndex: 41 entries, 0 to 40\n",
      "Data columns (total 21 columns):\n",
      " #   Column           Non-Null Count  Dtype  \n",
      "---  ------           --------------  -----  \n",
      " 0   time             41 non-null     object \n",
      " 1   latitude         41 non-null     float64\n",
      " 2   longitude        41 non-null     float64\n",
      " 3   depth            41 non-null     float64\n",
      " 4   mag              41 non-null     float64\n",
      " 5   magType          41 non-null     object \n",
      " 6   gap              41 non-null     int64  \n",
      " 7   dmin             41 non-null     float64\n",
      " 8   rms              41 non-null     float64\n",
      " 9   net              41 non-null     object \n",
      " 10  id               41 non-null     object \n",
      " 11  updated          41 non-null     object \n",
      " 12  place            41 non-null     object \n",
      " 13  type             41 non-null     object \n",
      " 14  horizontalError  41 non-null     float64\n",
      " 15  depthError       41 non-null     float64\n",
      " 16  magError         41 non-null     float64\n",
      " 17  magNst           41 non-null     int64  \n",
      " 18  status           41 non-null     object \n",
      " 19  locationSource   41 non-null     object \n",
      " 20  magSource        41 non-null     object \n",
      "dtypes: float64(9), int64(2), object(10)\n",
      "memory usage: 6.9+ KB\n"
     ]
    }
   ],
   "source": [
    "new_data.info()"
   ]
  },
  {
   "cell_type": "markdown",
   "id": "a8ea08a4",
   "metadata": {},
   "source": [
    "The number of columns has been changed to 21 columns. The axis=1 indicates for column section and axis=0 for row section. Alternative way, if we do not to asign a new variable or just keep the original variable after we remove a certain data, we can add an attribute of `inplace=True` in `[variable].drop()` command as follows:"
   ]
  },
  {
   "cell_type": "code",
   "execution_count": 128,
   "id": "50b89225",
   "metadata": {
    "scrolled": true
   },
   "outputs": [],
   "source": [
    "data.drop('nst', axis=1, inplace=True)"
   ]
  },
  {
   "cell_type": "code",
   "execution_count": 129,
   "id": "3bef84de",
   "metadata": {
    "scrolled": true
   },
   "outputs": [
    {
     "name": "stdout",
     "output_type": "stream",
     "text": [
      "<class 'pandas.core.frame.DataFrame'>\n",
      "RangeIndex: 41 entries, 0 to 40\n",
      "Data columns (total 21 columns):\n",
      " #   Column           Non-Null Count  Dtype  \n",
      "---  ------           --------------  -----  \n",
      " 0   time             41 non-null     object \n",
      " 1   latitude         41 non-null     float64\n",
      " 2   longitude        41 non-null     float64\n",
      " 3   depth            41 non-null     float64\n",
      " 4   mag              41 non-null     float64\n",
      " 5   magType          41 non-null     object \n",
      " 6   gap              41 non-null     int64  \n",
      " 7   dmin             41 non-null     float64\n",
      " 8   rms              41 non-null     float64\n",
      " 9   net              41 non-null     object \n",
      " 10  id               41 non-null     object \n",
      " 11  updated          41 non-null     object \n",
      " 12  place            41 non-null     object \n",
      " 13  type             41 non-null     object \n",
      " 14  horizontalError  41 non-null     float64\n",
      " 15  depthError       41 non-null     float64\n",
      " 16  magError         41 non-null     float64\n",
      " 17  magNst           41 non-null     int64  \n",
      " 18  status           41 non-null     object \n",
      " 19  locationSource   41 non-null     object \n",
      " 20  magSource        41 non-null     object \n",
      "dtypes: float64(9), int64(2), object(10)\n",
      "memory usage: 6.9+ KB\n"
     ]
    }
   ],
   "source": [
    "data.info()"
   ]
  },
  {
   "cell_type": "markdown",
   "id": "624f1db6",
   "metadata": {},
   "source": [
    "For next case, we use `new_data` variable to explore more methods from Pandas library.\n",
    "\n",
    "#### Select Some of Column\n",
    "\n",
    "By using Pandas, we can select some of column and assign to new variable. For example, we want to take the data of `time`, `latitude`,`longitude`,`depth`,`mag`,`magType` and `place`. These data are assigned to `current_data` variable. To do this,"
   ]
  },
  {
   "cell_type": "code",
   "execution_count": 130,
   "id": "580c962e",
   "metadata": {
    "scrolled": true
   },
   "outputs": [],
   "source": [
    "current_data = new_data[['time','latitude','longitude','depth','mag','magType','place']]"
   ]
  },
  {
   "cell_type": "code",
   "execution_count": 131,
   "id": "e1387e4c",
   "metadata": {
    "scrolled": true
   },
   "outputs": [
    {
     "data": {
      "text/html": [
       "<div>\n",
       "<style scoped>\n",
       "    .dataframe tbody tr th:only-of-type {\n",
       "        vertical-align: middle;\n",
       "    }\n",
       "\n",
       "    .dataframe tbody tr th {\n",
       "        vertical-align: top;\n",
       "    }\n",
       "\n",
       "    .dataframe thead th {\n",
       "        text-align: right;\n",
       "    }\n",
       "</style>\n",
       "<table border=\"1\" class=\"dataframe\">\n",
       "  <thead>\n",
       "    <tr style=\"text-align: right;\">\n",
       "      <th></th>\n",
       "      <th>time</th>\n",
       "      <th>latitude</th>\n",
       "      <th>longitude</th>\n",
       "      <th>depth</th>\n",
       "      <th>mag</th>\n",
       "      <th>magType</th>\n",
       "      <th>place</th>\n",
       "    </tr>\n",
       "  </thead>\n",
       "  <tbody>\n",
       "    <tr>\n",
       "      <th>0</th>\n",
       "      <td>2021-05-02T20:49:43.322Z</td>\n",
       "      <td>5.3234</td>\n",
       "      <td>94.6170</td>\n",
       "      <td>63.97</td>\n",
       "      <td>5.0</td>\n",
       "      <td>mb</td>\n",
       "      <td>82 km WSW of Banda Aceh, Indonesia</td>\n",
       "    </tr>\n",
       "    <tr>\n",
       "      <th>1</th>\n",
       "      <td>2021-05-02T13:02:17.751Z</td>\n",
       "      <td>4.0461</td>\n",
       "      <td>95.7566</td>\n",
       "      <td>50.03</td>\n",
       "      <td>4.6</td>\n",
       "      <td>mb</td>\n",
       "      <td>42 km WSW of Meulaboh, Indonesia</td>\n",
       "    </tr>\n",
       "    <tr>\n",
       "      <th>2</th>\n",
       "      <td>2021-04-17T01:04:53.776Z</td>\n",
       "      <td>5.1158</td>\n",
       "      <td>95.4508</td>\n",
       "      <td>100.74</td>\n",
       "      <td>5.0</td>\n",
       "      <td>mww</td>\n",
       "      <td>48 km SSE of Banda Aceh, Indonesia</td>\n",
       "    </tr>\n",
       "    <tr>\n",
       "      <th>3</th>\n",
       "      <td>2021-04-09T15:14:31.108Z</td>\n",
       "      <td>4.8116</td>\n",
       "      <td>96.2611</td>\n",
       "      <td>27.57</td>\n",
       "      <td>4.3</td>\n",
       "      <td>mb</td>\n",
       "      <td>44 km S of Reuleuet, Indonesia</td>\n",
       "    </tr>\n",
       "    <tr>\n",
       "      <th>4</th>\n",
       "      <td>2021-04-09T08:08:58.946Z</td>\n",
       "      <td>3.0723</td>\n",
       "      <td>96.3738</td>\n",
       "      <td>55.17</td>\n",
       "      <td>4.2</td>\n",
       "      <td>mb</td>\n",
       "      <td>65 km N of Sinabang, Indonesia</td>\n",
       "    </tr>\n",
       "  </tbody>\n",
       "</table>\n",
       "</div>"
      ],
      "text/plain": [
       "                       time  latitude  longitude   depth  mag magType  \\\n",
       "0  2021-05-02T20:49:43.322Z    5.3234    94.6170   63.97  5.0      mb   \n",
       "1  2021-05-02T13:02:17.751Z    4.0461    95.7566   50.03  4.6      mb   \n",
       "2  2021-04-17T01:04:53.776Z    5.1158    95.4508  100.74  5.0     mww   \n",
       "3  2021-04-09T15:14:31.108Z    4.8116    96.2611   27.57  4.3      mb   \n",
       "4  2021-04-09T08:08:58.946Z    3.0723    96.3738   55.17  4.2      mb   \n",
       "\n",
       "                                place  \n",
       "0  82 km WSW of Banda Aceh, Indonesia  \n",
       "1    42 km WSW of Meulaboh, Indonesia  \n",
       "2  48 km SSE of Banda Aceh, Indonesia  \n",
       "3      44 km S of Reuleuet, Indonesia  \n",
       "4      65 km N of Sinabang, Indonesia  "
      ]
     },
     "execution_count": 131,
     "metadata": {},
     "output_type": "execute_result"
    }
   ],
   "source": [
    "current_data.head()"
   ]
  },
  {
   "cell_type": "markdown",
   "id": "6977121b",
   "metadata": {},
   "source": [
    "#### Identify Minimum and Maximum of Time"
   ]
  },
  {
   "cell_type": "code",
   "execution_count": 132,
   "id": "3b671012",
   "metadata": {
    "scrolled": true
   },
   "outputs": [
    {
     "data": {
      "text/plain": [
       "'2020-05-25T10:08:11.583Z'"
      ]
     },
     "execution_count": 132,
     "metadata": {},
     "output_type": "execute_result"
    }
   ],
   "source": [
    "current_data['time'].min()"
   ]
  },
  {
   "cell_type": "code",
   "execution_count": 133,
   "id": "1fdc4ecb",
   "metadata": {},
   "outputs": [
    {
     "data": {
      "text/plain": [
       "'2021-05-02T20:49:43.322Z'"
      ]
     },
     "execution_count": 133,
     "metadata": {},
     "output_type": "execute_result"
    }
   ],
   "source": [
    "current_data['time'].max()"
   ]
  },
  {
   "cell_type": "markdown",
   "id": "1244d69d",
   "metadata": {},
   "source": [
    "#### Modify an Attribute of Data\n",
    "\n",
    "##### Rename a Column Name\n",
    "We can modify an attribute of data, such as to rename a old column name to new column name. For example, we change all column names as follows"
   ]
  },
  {
   "cell_type": "code",
   "execution_count": 134,
   "id": "d15dbc58",
   "metadata": {},
   "outputs": [],
   "source": [
    "current_data = current_data.rename(columns={\n",
    "    'time':'Time',\n",
    "    'latitude':'Latitude',\n",
    "    'longitude':'Longitude',\n",
    "    'depth':'Depth',\n",
    "    'mag':'Mag',\n",
    "    'magType':'MagType',\n",
    "    'place':'Place'\n",
    "})"
   ]
  },
  {
   "cell_type": "code",
   "execution_count": 135,
   "id": "fdb6ff62",
   "metadata": {},
   "outputs": [
    {
     "data": {
      "text/html": [
       "<div>\n",
       "<style scoped>\n",
       "    .dataframe tbody tr th:only-of-type {\n",
       "        vertical-align: middle;\n",
       "    }\n",
       "\n",
       "    .dataframe tbody tr th {\n",
       "        vertical-align: top;\n",
       "    }\n",
       "\n",
       "    .dataframe thead th {\n",
       "        text-align: right;\n",
       "    }\n",
       "</style>\n",
       "<table border=\"1\" class=\"dataframe\">\n",
       "  <thead>\n",
       "    <tr style=\"text-align: right;\">\n",
       "      <th></th>\n",
       "      <th>Time</th>\n",
       "      <th>Latitude</th>\n",
       "      <th>Longitude</th>\n",
       "      <th>Depth</th>\n",
       "      <th>Mag</th>\n",
       "      <th>MagType</th>\n",
       "      <th>Place</th>\n",
       "    </tr>\n",
       "  </thead>\n",
       "  <tbody>\n",
       "    <tr>\n",
       "      <th>0</th>\n",
       "      <td>2021-05-02T20:49:43.322Z</td>\n",
       "      <td>5.3234</td>\n",
       "      <td>94.6170</td>\n",
       "      <td>63.97</td>\n",
       "      <td>5.0</td>\n",
       "      <td>mb</td>\n",
       "      <td>82 km WSW of Banda Aceh, Indonesia</td>\n",
       "    </tr>\n",
       "    <tr>\n",
       "      <th>1</th>\n",
       "      <td>2021-05-02T13:02:17.751Z</td>\n",
       "      <td>4.0461</td>\n",
       "      <td>95.7566</td>\n",
       "      <td>50.03</td>\n",
       "      <td>4.6</td>\n",
       "      <td>mb</td>\n",
       "      <td>42 km WSW of Meulaboh, Indonesia</td>\n",
       "    </tr>\n",
       "    <tr>\n",
       "      <th>2</th>\n",
       "      <td>2021-04-17T01:04:53.776Z</td>\n",
       "      <td>5.1158</td>\n",
       "      <td>95.4508</td>\n",
       "      <td>100.74</td>\n",
       "      <td>5.0</td>\n",
       "      <td>mww</td>\n",
       "      <td>48 km SSE of Banda Aceh, Indonesia</td>\n",
       "    </tr>\n",
       "    <tr>\n",
       "      <th>3</th>\n",
       "      <td>2021-04-09T15:14:31.108Z</td>\n",
       "      <td>4.8116</td>\n",
       "      <td>96.2611</td>\n",
       "      <td>27.57</td>\n",
       "      <td>4.3</td>\n",
       "      <td>mb</td>\n",
       "      <td>44 km S of Reuleuet, Indonesia</td>\n",
       "    </tr>\n",
       "    <tr>\n",
       "      <th>4</th>\n",
       "      <td>2021-04-09T08:08:58.946Z</td>\n",
       "      <td>3.0723</td>\n",
       "      <td>96.3738</td>\n",
       "      <td>55.17</td>\n",
       "      <td>4.2</td>\n",
       "      <td>mb</td>\n",
       "      <td>65 km N of Sinabang, Indonesia</td>\n",
       "    </tr>\n",
       "  </tbody>\n",
       "</table>\n",
       "</div>"
      ],
      "text/plain": [
       "                       Time  Latitude  Longitude   Depth  Mag MagType  \\\n",
       "0  2021-05-02T20:49:43.322Z    5.3234    94.6170   63.97  5.0      mb   \n",
       "1  2021-05-02T13:02:17.751Z    4.0461    95.7566   50.03  4.6      mb   \n",
       "2  2021-04-17T01:04:53.776Z    5.1158    95.4508  100.74  5.0     mww   \n",
       "3  2021-04-09T15:14:31.108Z    4.8116    96.2611   27.57  4.3      mb   \n",
       "4  2021-04-09T08:08:58.946Z    3.0723    96.3738   55.17  4.2      mb   \n",
       "\n",
       "                                Place  \n",
       "0  82 km WSW of Banda Aceh, Indonesia  \n",
       "1    42 km WSW of Meulaboh, Indonesia  \n",
       "2  48 km SSE of Banda Aceh, Indonesia  \n",
       "3      44 km S of Reuleuet, Indonesia  \n",
       "4      65 km N of Sinabang, Indonesia  "
      ]
     },
     "execution_count": 135,
     "metadata": {},
     "output_type": "execute_result"
    }
   ],
   "source": [
    "current_data.head()"
   ]
  },
  {
   "cell_type": "markdown",
   "id": "b58d36d9",
   "metadata": {},
   "source": [
    "##### Change a String Format\n",
    "Let's moving on. We see that the content in the `MagType` indicates the unit of earthquake scale. All units are written in lowercase. So, if we want to change these contents to capitalize (uppercase or lowercase), we can use `[variable].str.capitalize` method. First, we  have to select the content of `MagType` column"
   ]
  },
  {
   "cell_type": "code",
   "execution_count": 136,
   "id": "82d97c52",
   "metadata": {},
   "outputs": [
    {
     "data": {
      "text/html": [
       "<div>\n",
       "<style scoped>\n",
       "    .dataframe tbody tr th:only-of-type {\n",
       "        vertical-align: middle;\n",
       "    }\n",
       "\n",
       "    .dataframe tbody tr th {\n",
       "        vertical-align: top;\n",
       "    }\n",
       "\n",
       "    .dataframe thead th {\n",
       "        text-align: right;\n",
       "    }\n",
       "</style>\n",
       "<table border=\"1\" class=\"dataframe\">\n",
       "  <thead>\n",
       "    <tr style=\"text-align: right;\">\n",
       "      <th></th>\n",
       "      <th>Time</th>\n",
       "      <th>Latitude</th>\n",
       "      <th>Longitude</th>\n",
       "      <th>Depth</th>\n",
       "      <th>Mag</th>\n",
       "      <th>MagType</th>\n",
       "      <th>Place</th>\n",
       "    </tr>\n",
       "  </thead>\n",
       "  <tbody>\n",
       "    <tr>\n",
       "      <th>0</th>\n",
       "      <td>2021-05-02T20:49:43.322Z</td>\n",
       "      <td>5.3234</td>\n",
       "      <td>94.6170</td>\n",
       "      <td>63.97</td>\n",
       "      <td>5.0</td>\n",
       "      <td>Mb</td>\n",
       "      <td>82 km WSW of Banda Aceh, Indonesia</td>\n",
       "    </tr>\n",
       "    <tr>\n",
       "      <th>1</th>\n",
       "      <td>2021-05-02T13:02:17.751Z</td>\n",
       "      <td>4.0461</td>\n",
       "      <td>95.7566</td>\n",
       "      <td>50.03</td>\n",
       "      <td>4.6</td>\n",
       "      <td>Mb</td>\n",
       "      <td>42 km WSW of Meulaboh, Indonesia</td>\n",
       "    </tr>\n",
       "    <tr>\n",
       "      <th>2</th>\n",
       "      <td>2021-04-17T01:04:53.776Z</td>\n",
       "      <td>5.1158</td>\n",
       "      <td>95.4508</td>\n",
       "      <td>100.74</td>\n",
       "      <td>5.0</td>\n",
       "      <td>Mww</td>\n",
       "      <td>48 km SSE of Banda Aceh, Indonesia</td>\n",
       "    </tr>\n",
       "    <tr>\n",
       "      <th>3</th>\n",
       "      <td>2021-04-09T15:14:31.108Z</td>\n",
       "      <td>4.8116</td>\n",
       "      <td>96.2611</td>\n",
       "      <td>27.57</td>\n",
       "      <td>4.3</td>\n",
       "      <td>Mb</td>\n",
       "      <td>44 km S of Reuleuet, Indonesia</td>\n",
       "    </tr>\n",
       "    <tr>\n",
       "      <th>4</th>\n",
       "      <td>2021-04-09T08:08:58.946Z</td>\n",
       "      <td>3.0723</td>\n",
       "      <td>96.3738</td>\n",
       "      <td>55.17</td>\n",
       "      <td>4.2</td>\n",
       "      <td>Mb</td>\n",
       "      <td>65 km N of Sinabang, Indonesia</td>\n",
       "    </tr>\n",
       "  </tbody>\n",
       "</table>\n",
       "</div>"
      ],
      "text/plain": [
       "                       Time  Latitude  Longitude   Depth  Mag MagType  \\\n",
       "0  2021-05-02T20:49:43.322Z    5.3234    94.6170   63.97  5.0      Mb   \n",
       "1  2021-05-02T13:02:17.751Z    4.0461    95.7566   50.03  4.6      Mb   \n",
       "2  2021-04-17T01:04:53.776Z    5.1158    95.4508  100.74  5.0     Mww   \n",
       "3  2021-04-09T15:14:31.108Z    4.8116    96.2611   27.57  4.3      Mb   \n",
       "4  2021-04-09T08:08:58.946Z    3.0723    96.3738   55.17  4.2      Mb   \n",
       "\n",
       "                                Place  \n",
       "0  82 km WSW of Banda Aceh, Indonesia  \n",
       "1    42 km WSW of Meulaboh, Indonesia  \n",
       "2  48 km SSE of Banda Aceh, Indonesia  \n",
       "3      44 km S of Reuleuet, Indonesia  \n",
       "4      65 km N of Sinabang, Indonesia  "
      ]
     },
     "execution_count": 136,
     "metadata": {},
     "output_type": "execute_result"
    }
   ],
   "source": [
    "current_data['MagType'] = current_data['MagType'].str.capitalize()\n",
    "current_data.head()"
   ]
  },
  {
   "cell_type": "markdown",
   "id": "a37bd620",
   "metadata": {},
   "source": [
    "The change a content to capitalize (upper or lower), that just can be applied to `string` variable type. In this case the type of `MagType` variable is `string` or commonly is mentioned as `object`."
   ]
  },
  {
   "cell_type": "markdown",
   "id": "7da637e0",
   "metadata": {},
   "source": [
    "##### Time Modification\n",
    "\n",
    "In the `Time` variable, the time is written as `object` type. We can convert it to time format by using `pd.to_datetime(dataframe)`"
   ]
  },
  {
   "cell_type": "code",
   "execution_count": 137,
   "id": "a148baa8",
   "metadata": {},
   "outputs": [
    {
     "name": "stdout",
     "output_type": "stream",
     "text": [
      "<class 'pandas.core.frame.DataFrame'>\n",
      "RangeIndex: 41 entries, 0 to 40\n",
      "Data columns (total 7 columns):\n",
      " #   Column     Non-Null Count  Dtype              \n",
      "---  ------     --------------  -----              \n",
      " 0   Time       41 non-null     datetime64[ns, UTC]\n",
      " 1   Latitude   41 non-null     float64            \n",
      " 2   Longitude  41 non-null     float64            \n",
      " 3   Depth      41 non-null     float64            \n",
      " 4   Mag        41 non-null     float64            \n",
      " 5   MagType    41 non-null     object             \n",
      " 6   Place      41 non-null     object             \n",
      "dtypes: datetime64[ns, UTC](1), float64(4), object(2)\n",
      "memory usage: 2.4+ KB\n"
     ]
    }
   ],
   "source": [
    "current_data['Time'] = pd.to_datetime(current_data['Time'])\n",
    "current_data.info()"
   ]
  },
  {
   "cell_type": "code",
   "execution_count": 138,
   "id": "99430bab",
   "metadata": {},
   "outputs": [
    {
     "data": {
      "text/html": [
       "<div>\n",
       "<style scoped>\n",
       "    .dataframe tbody tr th:only-of-type {\n",
       "        vertical-align: middle;\n",
       "    }\n",
       "\n",
       "    .dataframe tbody tr th {\n",
       "        vertical-align: top;\n",
       "    }\n",
       "\n",
       "    .dataframe thead th {\n",
       "        text-align: right;\n",
       "    }\n",
       "</style>\n",
       "<table border=\"1\" class=\"dataframe\">\n",
       "  <thead>\n",
       "    <tr style=\"text-align: right;\">\n",
       "      <th></th>\n",
       "      <th>Time</th>\n",
       "      <th>Latitude</th>\n",
       "      <th>Longitude</th>\n",
       "      <th>Depth</th>\n",
       "      <th>Mag</th>\n",
       "      <th>MagType</th>\n",
       "      <th>Place</th>\n",
       "    </tr>\n",
       "  </thead>\n",
       "  <tbody>\n",
       "    <tr>\n",
       "      <th>0</th>\n",
       "      <td>2021-05-02 20:49:43.322000+00:00</td>\n",
       "      <td>5.3234</td>\n",
       "      <td>94.6170</td>\n",
       "      <td>63.97</td>\n",
       "      <td>5.0</td>\n",
       "      <td>Mb</td>\n",
       "      <td>82 km WSW of Banda Aceh, Indonesia</td>\n",
       "    </tr>\n",
       "    <tr>\n",
       "      <th>1</th>\n",
       "      <td>2021-05-02 13:02:17.751000+00:00</td>\n",
       "      <td>4.0461</td>\n",
       "      <td>95.7566</td>\n",
       "      <td>50.03</td>\n",
       "      <td>4.6</td>\n",
       "      <td>Mb</td>\n",
       "      <td>42 km WSW of Meulaboh, Indonesia</td>\n",
       "    </tr>\n",
       "    <tr>\n",
       "      <th>2</th>\n",
       "      <td>2021-04-17 01:04:53.776000+00:00</td>\n",
       "      <td>5.1158</td>\n",
       "      <td>95.4508</td>\n",
       "      <td>100.74</td>\n",
       "      <td>5.0</td>\n",
       "      <td>Mww</td>\n",
       "      <td>48 km SSE of Banda Aceh, Indonesia</td>\n",
       "    </tr>\n",
       "    <tr>\n",
       "      <th>3</th>\n",
       "      <td>2021-04-09 15:14:31.108000+00:00</td>\n",
       "      <td>4.8116</td>\n",
       "      <td>96.2611</td>\n",
       "      <td>27.57</td>\n",
       "      <td>4.3</td>\n",
       "      <td>Mb</td>\n",
       "      <td>44 km S of Reuleuet, Indonesia</td>\n",
       "    </tr>\n",
       "    <tr>\n",
       "      <th>4</th>\n",
       "      <td>2021-04-09 08:08:58.946000+00:00</td>\n",
       "      <td>3.0723</td>\n",
       "      <td>96.3738</td>\n",
       "      <td>55.17</td>\n",
       "      <td>4.2</td>\n",
       "      <td>Mb</td>\n",
       "      <td>65 km N of Sinabang, Indonesia</td>\n",
       "    </tr>\n",
       "  </tbody>\n",
       "</table>\n",
       "</div>"
      ],
      "text/plain": [
       "                              Time  Latitude  Longitude   Depth  Mag MagType  \\\n",
       "0 2021-05-02 20:49:43.322000+00:00    5.3234    94.6170   63.97  5.0      Mb   \n",
       "1 2021-05-02 13:02:17.751000+00:00    4.0461    95.7566   50.03  4.6      Mb   \n",
       "2 2021-04-17 01:04:53.776000+00:00    5.1158    95.4508  100.74  5.0     Mww   \n",
       "3 2021-04-09 15:14:31.108000+00:00    4.8116    96.2611   27.57  4.3      Mb   \n",
       "4 2021-04-09 08:08:58.946000+00:00    3.0723    96.3738   55.17  4.2      Mb   \n",
       "\n",
       "                                Place  \n",
       "0  82 km WSW of Banda Aceh, Indonesia  \n",
       "1    42 km WSW of Meulaboh, Indonesia  \n",
       "2  48 km SSE of Banda Aceh, Indonesia  \n",
       "3      44 km S of Reuleuet, Indonesia  \n",
       "4      65 km N of Sinabang, Indonesia  "
      ]
     },
     "execution_count": 138,
     "metadata": {},
     "output_type": "execute_result"
    }
   ],
   "source": [
    "current_data.head()"
   ]
  },
  {
   "cell_type": "markdown",
   "id": "4f9efb86",
   "metadata": {},
   "source": [
    "We can separate the `Time` for each time format, such as year, month and date. To do this, We assign to new column for each time format."
   ]
  },
  {
   "cell_type": "code",
   "execution_count": 139,
   "id": "f59ba3e1",
   "metadata": {},
   "outputs": [],
   "source": [
    "current_data['Year'] = current_data['Time'].dt.year\n",
    "current_data['Month'] = current_data['Time'].dt.month\n",
    "current_data['Day'] = current_data['Time'].dt.day\n",
    "current_data['Hour'] = current_data['Time'].dt.hour\n",
    "current_data['Minutes'] = current_data['Time'].dt.minute\n",
    "current_data['Second'] = current_data['Time'].dt.second"
   ]
  },
  {
   "cell_type": "code",
   "execution_count": 140,
   "id": "b6afff99",
   "metadata": {},
   "outputs": [
    {
     "data": {
      "text/html": [
       "<div>\n",
       "<style scoped>\n",
       "    .dataframe tbody tr th:only-of-type {\n",
       "        vertical-align: middle;\n",
       "    }\n",
       "\n",
       "    .dataframe tbody tr th {\n",
       "        vertical-align: top;\n",
       "    }\n",
       "\n",
       "    .dataframe thead th {\n",
       "        text-align: right;\n",
       "    }\n",
       "</style>\n",
       "<table border=\"1\" class=\"dataframe\">\n",
       "  <thead>\n",
       "    <tr style=\"text-align: right;\">\n",
       "      <th></th>\n",
       "      <th>Time</th>\n",
       "      <th>Latitude</th>\n",
       "      <th>Longitude</th>\n",
       "      <th>Depth</th>\n",
       "      <th>Mag</th>\n",
       "      <th>MagType</th>\n",
       "      <th>Place</th>\n",
       "      <th>Year</th>\n",
       "      <th>Month</th>\n",
       "      <th>Day</th>\n",
       "      <th>Hour</th>\n",
       "      <th>Minutes</th>\n",
       "      <th>Second</th>\n",
       "    </tr>\n",
       "  </thead>\n",
       "  <tbody>\n",
       "    <tr>\n",
       "      <th>0</th>\n",
       "      <td>2021-05-02 20:49:43.322000+00:00</td>\n",
       "      <td>5.3234</td>\n",
       "      <td>94.6170</td>\n",
       "      <td>63.97</td>\n",
       "      <td>5.0</td>\n",
       "      <td>Mb</td>\n",
       "      <td>82 km WSW of Banda Aceh, Indonesia</td>\n",
       "      <td>2021</td>\n",
       "      <td>5</td>\n",
       "      <td>2</td>\n",
       "      <td>20</td>\n",
       "      <td>49</td>\n",
       "      <td>43</td>\n",
       "    </tr>\n",
       "    <tr>\n",
       "      <th>1</th>\n",
       "      <td>2021-05-02 13:02:17.751000+00:00</td>\n",
       "      <td>4.0461</td>\n",
       "      <td>95.7566</td>\n",
       "      <td>50.03</td>\n",
       "      <td>4.6</td>\n",
       "      <td>Mb</td>\n",
       "      <td>42 km WSW of Meulaboh, Indonesia</td>\n",
       "      <td>2021</td>\n",
       "      <td>5</td>\n",
       "      <td>2</td>\n",
       "      <td>13</td>\n",
       "      <td>2</td>\n",
       "      <td>17</td>\n",
       "    </tr>\n",
       "    <tr>\n",
       "      <th>2</th>\n",
       "      <td>2021-04-17 01:04:53.776000+00:00</td>\n",
       "      <td>5.1158</td>\n",
       "      <td>95.4508</td>\n",
       "      <td>100.74</td>\n",
       "      <td>5.0</td>\n",
       "      <td>Mww</td>\n",
       "      <td>48 km SSE of Banda Aceh, Indonesia</td>\n",
       "      <td>2021</td>\n",
       "      <td>4</td>\n",
       "      <td>17</td>\n",
       "      <td>1</td>\n",
       "      <td>4</td>\n",
       "      <td>53</td>\n",
       "    </tr>\n",
       "    <tr>\n",
       "      <th>3</th>\n",
       "      <td>2021-04-09 15:14:31.108000+00:00</td>\n",
       "      <td>4.8116</td>\n",
       "      <td>96.2611</td>\n",
       "      <td>27.57</td>\n",
       "      <td>4.3</td>\n",
       "      <td>Mb</td>\n",
       "      <td>44 km S of Reuleuet, Indonesia</td>\n",
       "      <td>2021</td>\n",
       "      <td>4</td>\n",
       "      <td>9</td>\n",
       "      <td>15</td>\n",
       "      <td>14</td>\n",
       "      <td>31</td>\n",
       "    </tr>\n",
       "    <tr>\n",
       "      <th>4</th>\n",
       "      <td>2021-04-09 08:08:58.946000+00:00</td>\n",
       "      <td>3.0723</td>\n",
       "      <td>96.3738</td>\n",
       "      <td>55.17</td>\n",
       "      <td>4.2</td>\n",
       "      <td>Mb</td>\n",
       "      <td>65 km N of Sinabang, Indonesia</td>\n",
       "      <td>2021</td>\n",
       "      <td>4</td>\n",
       "      <td>9</td>\n",
       "      <td>8</td>\n",
       "      <td>8</td>\n",
       "      <td>58</td>\n",
       "    </tr>\n",
       "  </tbody>\n",
       "</table>\n",
       "</div>"
      ],
      "text/plain": [
       "                              Time  Latitude  Longitude   Depth  Mag MagType  \\\n",
       "0 2021-05-02 20:49:43.322000+00:00    5.3234    94.6170   63.97  5.0      Mb   \n",
       "1 2021-05-02 13:02:17.751000+00:00    4.0461    95.7566   50.03  4.6      Mb   \n",
       "2 2021-04-17 01:04:53.776000+00:00    5.1158    95.4508  100.74  5.0     Mww   \n",
       "3 2021-04-09 15:14:31.108000+00:00    4.8116    96.2611   27.57  4.3      Mb   \n",
       "4 2021-04-09 08:08:58.946000+00:00    3.0723    96.3738   55.17  4.2      Mb   \n",
       "\n",
       "                                Place  Year  Month  Day  Hour  Minutes  Second  \n",
       "0  82 km WSW of Banda Aceh, Indonesia  2021      5    2    20       49      43  \n",
       "1    42 km WSW of Meulaboh, Indonesia  2021      5    2    13        2      17  \n",
       "2  48 km SSE of Banda Aceh, Indonesia  2021      4   17     1        4      53  \n",
       "3      44 km S of Reuleuet, Indonesia  2021      4    9    15       14      31  \n",
       "4      65 km N of Sinabang, Indonesia  2021      4    9     8        8      58  "
      ]
     },
     "execution_count": 140,
     "metadata": {},
     "output_type": "execute_result"
    }
   ],
   "source": [
    "current_data.head()"
   ]
  },
  {
   "cell_type": "markdown",
   "id": "ee3ae0bf",
   "metadata": {},
   "source": [
    "##### Data Sorting\n",
    "\n",
    "By using pandas, we can sort a data from minimum to maximum or vice versa. For example, we sort the `Mag` variable fro maximum to minimum."
   ]
  },
  {
   "cell_type": "code",
   "execution_count": 141,
   "id": "59d3ee99",
   "metadata": {},
   "outputs": [],
   "source": [
    "current_data.sort_values(by='Mag', ascending=False, inplace = True)"
   ]
  },
  {
   "cell_type": "code",
   "execution_count": 142,
   "id": "7ee165f1",
   "metadata": {},
   "outputs": [
    {
     "data": {
      "text/html": [
       "<div>\n",
       "<style scoped>\n",
       "    .dataframe tbody tr th:only-of-type {\n",
       "        vertical-align: middle;\n",
       "    }\n",
       "\n",
       "    .dataframe tbody tr th {\n",
       "        vertical-align: top;\n",
       "    }\n",
       "\n",
       "    .dataframe thead th {\n",
       "        text-align: right;\n",
       "    }\n",
       "</style>\n",
       "<table border=\"1\" class=\"dataframe\">\n",
       "  <thead>\n",
       "    <tr style=\"text-align: right;\">\n",
       "      <th></th>\n",
       "      <th>Time</th>\n",
       "      <th>Latitude</th>\n",
       "      <th>Longitude</th>\n",
       "      <th>Depth</th>\n",
       "      <th>Mag</th>\n",
       "      <th>MagType</th>\n",
       "      <th>Place</th>\n",
       "      <th>Year</th>\n",
       "      <th>Month</th>\n",
       "      <th>Day</th>\n",
       "      <th>Hour</th>\n",
       "      <th>Minutes</th>\n",
       "      <th>Second</th>\n",
       "    </tr>\n",
       "  </thead>\n",
       "  <tbody>\n",
       "    <tr>\n",
       "      <th>20</th>\n",
       "      <td>2020-11-13 18:33:07.130000+00:00</td>\n",
       "      <td>5.7913</td>\n",
       "      <td>95.5619</td>\n",
       "      <td>10.00</td>\n",
       "      <td>5.1</td>\n",
       "      <td>Mww</td>\n",
       "      <td>29 km ESE of Sabang, Indonesia</td>\n",
       "      <td>2020</td>\n",
       "      <td>11</td>\n",
       "      <td>13</td>\n",
       "      <td>18</td>\n",
       "      <td>33</td>\n",
       "      <td>7</td>\n",
       "    </tr>\n",
       "    <tr>\n",
       "      <th>18</th>\n",
       "      <td>2020-11-30 17:14:12.006000+00:00</td>\n",
       "      <td>3.0670</td>\n",
       "      <td>96.1349</td>\n",
       "      <td>27.89</td>\n",
       "      <td>5.0</td>\n",
       "      <td>Mb</td>\n",
       "      <td>70 km NNW of Sinabang, Indonesia</td>\n",
       "      <td>2020</td>\n",
       "      <td>11</td>\n",
       "      <td>30</td>\n",
       "      <td>17</td>\n",
       "      <td>14</td>\n",
       "      <td>12</td>\n",
       "    </tr>\n",
       "    <tr>\n",
       "      <th>32</th>\n",
       "      <td>2020-09-13 18:28:52.194000+00:00</td>\n",
       "      <td>4.2449</td>\n",
       "      <td>96.6838</td>\n",
       "      <td>121.54</td>\n",
       "      <td>5.0</td>\n",
       "      <td>Mww</td>\n",
       "      <td>62 km E of Meulaboh, Indonesia</td>\n",
       "      <td>2020</td>\n",
       "      <td>9</td>\n",
       "      <td>13</td>\n",
       "      <td>18</td>\n",
       "      <td>28</td>\n",
       "      <td>52</td>\n",
       "    </tr>\n",
       "    <tr>\n",
       "      <th>0</th>\n",
       "      <td>2021-05-02 20:49:43.322000+00:00</td>\n",
       "      <td>5.3234</td>\n",
       "      <td>94.6170</td>\n",
       "      <td>63.97</td>\n",
       "      <td>5.0</td>\n",
       "      <td>Mb</td>\n",
       "      <td>82 km WSW of Banda Aceh, Indonesia</td>\n",
       "      <td>2021</td>\n",
       "      <td>5</td>\n",
       "      <td>2</td>\n",
       "      <td>20</td>\n",
       "      <td>49</td>\n",
       "      <td>43</td>\n",
       "    </tr>\n",
       "    <tr>\n",
       "      <th>2</th>\n",
       "      <td>2021-04-17 01:04:53.776000+00:00</td>\n",
       "      <td>5.1158</td>\n",
       "      <td>95.4508</td>\n",
       "      <td>100.74</td>\n",
       "      <td>5.0</td>\n",
       "      <td>Mww</td>\n",
       "      <td>48 km SSE of Banda Aceh, Indonesia</td>\n",
       "      <td>2021</td>\n",
       "      <td>4</td>\n",
       "      <td>17</td>\n",
       "      <td>1</td>\n",
       "      <td>4</td>\n",
       "      <td>53</td>\n",
       "    </tr>\n",
       "  </tbody>\n",
       "</table>\n",
       "</div>"
      ],
      "text/plain": [
       "                               Time  Latitude  Longitude   Depth  Mag MagType  \\\n",
       "20 2020-11-13 18:33:07.130000+00:00    5.7913    95.5619   10.00  5.1     Mww   \n",
       "18 2020-11-30 17:14:12.006000+00:00    3.0670    96.1349   27.89  5.0      Mb   \n",
       "32 2020-09-13 18:28:52.194000+00:00    4.2449    96.6838  121.54  5.0     Mww   \n",
       "0  2021-05-02 20:49:43.322000+00:00    5.3234    94.6170   63.97  5.0      Mb   \n",
       "2  2021-04-17 01:04:53.776000+00:00    5.1158    95.4508  100.74  5.0     Mww   \n",
       "\n",
       "                                 Place  Year  Month  Day  Hour  Minutes  \\\n",
       "20      29 km ESE of Sabang, Indonesia  2020     11   13    18       33   \n",
       "18    70 km NNW of Sinabang, Indonesia  2020     11   30    17       14   \n",
       "32      62 km E of Meulaboh, Indonesia  2020      9   13    18       28   \n",
       "0   82 km WSW of Banda Aceh, Indonesia  2021      5    2    20       49   \n",
       "2   48 km SSE of Banda Aceh, Indonesia  2021      4   17     1        4   \n",
       "\n",
       "    Second  \n",
       "20       7  \n",
       "18      12  \n",
       "32      52  \n",
       "0       43  \n",
       "2       53  "
      ]
     },
     "execution_count": 142,
     "metadata": {},
     "output_type": "execute_result"
    }
   ],
   "source": [
    "current_data.head()"
   ]
  },
  {
   "cell_type": "markdown",
   "id": "5e9f30af",
   "metadata": {},
   "source": [
    "The data has been sorted. As we can see, the index number has been changed to. So, we have to reset the index number as follows"
   ]
  },
  {
   "cell_type": "code",
   "execution_count": 143,
   "id": "f20e4bf2",
   "metadata": {},
   "outputs": [],
   "source": [
    "current_data.reset_index(inplace=True)"
   ]
  },
  {
   "cell_type": "code",
   "execution_count": 144,
   "id": "d1907d90",
   "metadata": {},
   "outputs": [
    {
     "data": {
      "text/html": [
       "<div>\n",
       "<style scoped>\n",
       "    .dataframe tbody tr th:only-of-type {\n",
       "        vertical-align: middle;\n",
       "    }\n",
       "\n",
       "    .dataframe tbody tr th {\n",
       "        vertical-align: top;\n",
       "    }\n",
       "\n",
       "    .dataframe thead th {\n",
       "        text-align: right;\n",
       "    }\n",
       "</style>\n",
       "<table border=\"1\" class=\"dataframe\">\n",
       "  <thead>\n",
       "    <tr style=\"text-align: right;\">\n",
       "      <th></th>\n",
       "      <th>index</th>\n",
       "      <th>Time</th>\n",
       "      <th>Latitude</th>\n",
       "      <th>Longitude</th>\n",
       "      <th>Depth</th>\n",
       "      <th>Mag</th>\n",
       "      <th>MagType</th>\n",
       "      <th>Place</th>\n",
       "      <th>Year</th>\n",
       "      <th>Month</th>\n",
       "      <th>Day</th>\n",
       "      <th>Hour</th>\n",
       "      <th>Minutes</th>\n",
       "      <th>Second</th>\n",
       "    </tr>\n",
       "  </thead>\n",
       "  <tbody>\n",
       "    <tr>\n",
       "      <th>0</th>\n",
       "      <td>20</td>\n",
       "      <td>2020-11-13 18:33:07.130000+00:00</td>\n",
       "      <td>5.7913</td>\n",
       "      <td>95.5619</td>\n",
       "      <td>10.00</td>\n",
       "      <td>5.1</td>\n",
       "      <td>Mww</td>\n",
       "      <td>29 km ESE of Sabang, Indonesia</td>\n",
       "      <td>2020</td>\n",
       "      <td>11</td>\n",
       "      <td>13</td>\n",
       "      <td>18</td>\n",
       "      <td>33</td>\n",
       "      <td>7</td>\n",
       "    </tr>\n",
       "    <tr>\n",
       "      <th>1</th>\n",
       "      <td>18</td>\n",
       "      <td>2020-11-30 17:14:12.006000+00:00</td>\n",
       "      <td>3.0670</td>\n",
       "      <td>96.1349</td>\n",
       "      <td>27.89</td>\n",
       "      <td>5.0</td>\n",
       "      <td>Mb</td>\n",
       "      <td>70 km NNW of Sinabang, Indonesia</td>\n",
       "      <td>2020</td>\n",
       "      <td>11</td>\n",
       "      <td>30</td>\n",
       "      <td>17</td>\n",
       "      <td>14</td>\n",
       "      <td>12</td>\n",
       "    </tr>\n",
       "    <tr>\n",
       "      <th>2</th>\n",
       "      <td>32</td>\n",
       "      <td>2020-09-13 18:28:52.194000+00:00</td>\n",
       "      <td>4.2449</td>\n",
       "      <td>96.6838</td>\n",
       "      <td>121.54</td>\n",
       "      <td>5.0</td>\n",
       "      <td>Mww</td>\n",
       "      <td>62 km E of Meulaboh, Indonesia</td>\n",
       "      <td>2020</td>\n",
       "      <td>9</td>\n",
       "      <td>13</td>\n",
       "      <td>18</td>\n",
       "      <td>28</td>\n",
       "      <td>52</td>\n",
       "    </tr>\n",
       "    <tr>\n",
       "      <th>3</th>\n",
       "      <td>0</td>\n",
       "      <td>2021-05-02 20:49:43.322000+00:00</td>\n",
       "      <td>5.3234</td>\n",
       "      <td>94.6170</td>\n",
       "      <td>63.97</td>\n",
       "      <td>5.0</td>\n",
       "      <td>Mb</td>\n",
       "      <td>82 km WSW of Banda Aceh, Indonesia</td>\n",
       "      <td>2021</td>\n",
       "      <td>5</td>\n",
       "      <td>2</td>\n",
       "      <td>20</td>\n",
       "      <td>49</td>\n",
       "      <td>43</td>\n",
       "    </tr>\n",
       "    <tr>\n",
       "      <th>4</th>\n",
       "      <td>2</td>\n",
       "      <td>2021-04-17 01:04:53.776000+00:00</td>\n",
       "      <td>5.1158</td>\n",
       "      <td>95.4508</td>\n",
       "      <td>100.74</td>\n",
       "      <td>5.0</td>\n",
       "      <td>Mww</td>\n",
       "      <td>48 km SSE of Banda Aceh, Indonesia</td>\n",
       "      <td>2021</td>\n",
       "      <td>4</td>\n",
       "      <td>17</td>\n",
       "      <td>1</td>\n",
       "      <td>4</td>\n",
       "      <td>53</td>\n",
       "    </tr>\n",
       "  </tbody>\n",
       "</table>\n",
       "</div>"
      ],
      "text/plain": [
       "   index                             Time  Latitude  Longitude   Depth  Mag  \\\n",
       "0     20 2020-11-13 18:33:07.130000+00:00    5.7913    95.5619   10.00  5.1   \n",
       "1     18 2020-11-30 17:14:12.006000+00:00    3.0670    96.1349   27.89  5.0   \n",
       "2     32 2020-09-13 18:28:52.194000+00:00    4.2449    96.6838  121.54  5.0   \n",
       "3      0 2021-05-02 20:49:43.322000+00:00    5.3234    94.6170   63.97  5.0   \n",
       "4      2 2021-04-17 01:04:53.776000+00:00    5.1158    95.4508  100.74  5.0   \n",
       "\n",
       "  MagType                               Place  Year  Month  Day  Hour  \\\n",
       "0     Mww      29 km ESE of Sabang, Indonesia  2020     11   13    18   \n",
       "1      Mb    70 km NNW of Sinabang, Indonesia  2020     11   30    17   \n",
       "2     Mww      62 km E of Meulaboh, Indonesia  2020      9   13    18   \n",
       "3      Mb  82 km WSW of Banda Aceh, Indonesia  2021      5    2    20   \n",
       "4     Mww  48 km SSE of Banda Aceh, Indonesia  2021      4   17     1   \n",
       "\n",
       "   Minutes  Second  \n",
       "0       33       7  \n",
       "1       14      12  \n",
       "2       28      52  \n",
       "3       49      43  \n",
       "4        4      53  "
      ]
     },
     "execution_count": 144,
     "metadata": {},
     "output_type": "execute_result"
    }
   ],
   "source": [
    "current_data.head()"
   ]
  },
  {
   "cell_type": "markdown",
   "id": "449bb8fb",
   "metadata": {},
   "source": [
    "Then, we remove the old index column"
   ]
  },
  {
   "cell_type": "code",
   "execution_count": 145,
   "id": "8c2b1bb6",
   "metadata": {},
   "outputs": [],
   "source": [
    "current_data.drop('index',axis=1,inplace=True)"
   ]
  },
  {
   "cell_type": "code",
   "execution_count": 146,
   "id": "f8475c8f",
   "metadata": {
    "scrolled": true
   },
   "outputs": [
    {
     "data": {
      "text/html": [
       "<div>\n",
       "<style scoped>\n",
       "    .dataframe tbody tr th:only-of-type {\n",
       "        vertical-align: middle;\n",
       "    }\n",
       "\n",
       "    .dataframe tbody tr th {\n",
       "        vertical-align: top;\n",
       "    }\n",
       "\n",
       "    .dataframe thead th {\n",
       "        text-align: right;\n",
       "    }\n",
       "</style>\n",
       "<table border=\"1\" class=\"dataframe\">\n",
       "  <thead>\n",
       "    <tr style=\"text-align: right;\">\n",
       "      <th></th>\n",
       "      <th>Time</th>\n",
       "      <th>Latitude</th>\n",
       "      <th>Longitude</th>\n",
       "      <th>Depth</th>\n",
       "      <th>Mag</th>\n",
       "      <th>MagType</th>\n",
       "      <th>Place</th>\n",
       "      <th>Year</th>\n",
       "      <th>Month</th>\n",
       "      <th>Day</th>\n",
       "      <th>Hour</th>\n",
       "      <th>Minutes</th>\n",
       "      <th>Second</th>\n",
       "    </tr>\n",
       "  </thead>\n",
       "  <tbody>\n",
       "    <tr>\n",
       "      <th>0</th>\n",
       "      <td>2020-11-13 18:33:07.130000+00:00</td>\n",
       "      <td>5.7913</td>\n",
       "      <td>95.5619</td>\n",
       "      <td>10.00</td>\n",
       "      <td>5.1</td>\n",
       "      <td>Mww</td>\n",
       "      <td>29 km ESE of Sabang, Indonesia</td>\n",
       "      <td>2020</td>\n",
       "      <td>11</td>\n",
       "      <td>13</td>\n",
       "      <td>18</td>\n",
       "      <td>33</td>\n",
       "      <td>7</td>\n",
       "    </tr>\n",
       "    <tr>\n",
       "      <th>1</th>\n",
       "      <td>2020-11-30 17:14:12.006000+00:00</td>\n",
       "      <td>3.0670</td>\n",
       "      <td>96.1349</td>\n",
       "      <td>27.89</td>\n",
       "      <td>5.0</td>\n",
       "      <td>Mb</td>\n",
       "      <td>70 km NNW of Sinabang, Indonesia</td>\n",
       "      <td>2020</td>\n",
       "      <td>11</td>\n",
       "      <td>30</td>\n",
       "      <td>17</td>\n",
       "      <td>14</td>\n",
       "      <td>12</td>\n",
       "    </tr>\n",
       "    <tr>\n",
       "      <th>2</th>\n",
       "      <td>2020-09-13 18:28:52.194000+00:00</td>\n",
       "      <td>4.2449</td>\n",
       "      <td>96.6838</td>\n",
       "      <td>121.54</td>\n",
       "      <td>5.0</td>\n",
       "      <td>Mww</td>\n",
       "      <td>62 km E of Meulaboh, Indonesia</td>\n",
       "      <td>2020</td>\n",
       "      <td>9</td>\n",
       "      <td>13</td>\n",
       "      <td>18</td>\n",
       "      <td>28</td>\n",
       "      <td>52</td>\n",
       "    </tr>\n",
       "    <tr>\n",
       "      <th>3</th>\n",
       "      <td>2021-05-02 20:49:43.322000+00:00</td>\n",
       "      <td>5.3234</td>\n",
       "      <td>94.6170</td>\n",
       "      <td>63.97</td>\n",
       "      <td>5.0</td>\n",
       "      <td>Mb</td>\n",
       "      <td>82 km WSW of Banda Aceh, Indonesia</td>\n",
       "      <td>2021</td>\n",
       "      <td>5</td>\n",
       "      <td>2</td>\n",
       "      <td>20</td>\n",
       "      <td>49</td>\n",
       "      <td>43</td>\n",
       "    </tr>\n",
       "    <tr>\n",
       "      <th>4</th>\n",
       "      <td>2021-04-17 01:04:53.776000+00:00</td>\n",
       "      <td>5.1158</td>\n",
       "      <td>95.4508</td>\n",
       "      <td>100.74</td>\n",
       "      <td>5.0</td>\n",
       "      <td>Mww</td>\n",
       "      <td>48 km SSE of Banda Aceh, Indonesia</td>\n",
       "      <td>2021</td>\n",
       "      <td>4</td>\n",
       "      <td>17</td>\n",
       "      <td>1</td>\n",
       "      <td>4</td>\n",
       "      <td>53</td>\n",
       "    </tr>\n",
       "  </tbody>\n",
       "</table>\n",
       "</div>"
      ],
      "text/plain": [
       "                              Time  Latitude  Longitude   Depth  Mag MagType  \\\n",
       "0 2020-11-13 18:33:07.130000+00:00    5.7913    95.5619   10.00  5.1     Mww   \n",
       "1 2020-11-30 17:14:12.006000+00:00    3.0670    96.1349   27.89  5.0      Mb   \n",
       "2 2020-09-13 18:28:52.194000+00:00    4.2449    96.6838  121.54  5.0     Mww   \n",
       "3 2021-05-02 20:49:43.322000+00:00    5.3234    94.6170   63.97  5.0      Mb   \n",
       "4 2021-04-17 01:04:53.776000+00:00    5.1158    95.4508  100.74  5.0     Mww   \n",
       "\n",
       "                                Place  Year  Month  Day  Hour  Minutes  Second  \n",
       "0      29 km ESE of Sabang, Indonesia  2020     11   13    18       33       7  \n",
       "1    70 km NNW of Sinabang, Indonesia  2020     11   30    17       14      12  \n",
       "2      62 km E of Meulaboh, Indonesia  2020      9   13    18       28      52  \n",
       "3  82 km WSW of Banda Aceh, Indonesia  2021      5    2    20       49      43  \n",
       "4  48 km SSE of Banda Aceh, Indonesia  2021      4   17     1        4      53  "
      ]
     },
     "execution_count": 146,
     "metadata": {},
     "output_type": "execute_result"
    }
   ],
   "source": [
    "current_data.head()"
   ]
  },
  {
   "cell_type": "markdown",
   "id": "ebb789a5",
   "metadata": {},
   "source": [
    "#### Filter Data\n",
    "\n",
    "The advantage that we get from Pandas is the easy way to filter data. Sometimes, we have to filter unnecessary data in order to get a good result. For example, we want to filter that the `Mag` is above 5 for all `MagType`."
   ]
  },
  {
   "cell_type": "code",
   "execution_count": 147,
   "id": "c8c12f7c",
   "metadata": {},
   "outputs": [
    {
     "data": {
      "text/plain": [
       "(41, 13)"
      ]
     },
     "execution_count": 147,
     "metadata": {},
     "output_type": "execute_result"
    }
   ],
   "source": [
    "current_data.shape"
   ]
  },
  {
   "cell_type": "code",
   "execution_count": 148,
   "id": "4779ea5f",
   "metadata": {},
   "outputs": [],
   "source": [
    "mag_data = current_data[current_data['Mag'] >= 5]"
   ]
  },
  {
   "cell_type": "code",
   "execution_count": 149,
   "id": "471899cc",
   "metadata": {
    "scrolled": false
   },
   "outputs": [
    {
     "data": {
      "text/html": [
       "<div>\n",
       "<style scoped>\n",
       "    .dataframe tbody tr th:only-of-type {\n",
       "        vertical-align: middle;\n",
       "    }\n",
       "\n",
       "    .dataframe tbody tr th {\n",
       "        vertical-align: top;\n",
       "    }\n",
       "\n",
       "    .dataframe thead th {\n",
       "        text-align: right;\n",
       "    }\n",
       "</style>\n",
       "<table border=\"1\" class=\"dataframe\">\n",
       "  <thead>\n",
       "    <tr style=\"text-align: right;\">\n",
       "      <th></th>\n",
       "      <th>Time</th>\n",
       "      <th>Latitude</th>\n",
       "      <th>Longitude</th>\n",
       "      <th>Depth</th>\n",
       "      <th>Mag</th>\n",
       "      <th>MagType</th>\n",
       "      <th>Place</th>\n",
       "      <th>Year</th>\n",
       "      <th>Month</th>\n",
       "      <th>Day</th>\n",
       "      <th>Hour</th>\n",
       "      <th>Minutes</th>\n",
       "      <th>Second</th>\n",
       "    </tr>\n",
       "  </thead>\n",
       "  <tbody>\n",
       "    <tr>\n",
       "      <th>0</th>\n",
       "      <td>2020-11-13 18:33:07.130000+00:00</td>\n",
       "      <td>5.7913</td>\n",
       "      <td>95.5619</td>\n",
       "      <td>10.00</td>\n",
       "      <td>5.1</td>\n",
       "      <td>Mww</td>\n",
       "      <td>29 km ESE of Sabang, Indonesia</td>\n",
       "      <td>2020</td>\n",
       "      <td>11</td>\n",
       "      <td>13</td>\n",
       "      <td>18</td>\n",
       "      <td>33</td>\n",
       "      <td>7</td>\n",
       "    </tr>\n",
       "    <tr>\n",
       "      <th>1</th>\n",
       "      <td>2020-11-30 17:14:12.006000+00:00</td>\n",
       "      <td>3.0670</td>\n",
       "      <td>96.1349</td>\n",
       "      <td>27.89</td>\n",
       "      <td>5.0</td>\n",
       "      <td>Mb</td>\n",
       "      <td>70 km NNW of Sinabang, Indonesia</td>\n",
       "      <td>2020</td>\n",
       "      <td>11</td>\n",
       "      <td>30</td>\n",
       "      <td>17</td>\n",
       "      <td>14</td>\n",
       "      <td>12</td>\n",
       "    </tr>\n",
       "    <tr>\n",
       "      <th>2</th>\n",
       "      <td>2020-09-13 18:28:52.194000+00:00</td>\n",
       "      <td>4.2449</td>\n",
       "      <td>96.6838</td>\n",
       "      <td>121.54</td>\n",
       "      <td>5.0</td>\n",
       "      <td>Mww</td>\n",
       "      <td>62 km E of Meulaboh, Indonesia</td>\n",
       "      <td>2020</td>\n",
       "      <td>9</td>\n",
       "      <td>13</td>\n",
       "      <td>18</td>\n",
       "      <td>28</td>\n",
       "      <td>52</td>\n",
       "    </tr>\n",
       "    <tr>\n",
       "      <th>3</th>\n",
       "      <td>2021-05-02 20:49:43.322000+00:00</td>\n",
       "      <td>5.3234</td>\n",
       "      <td>94.6170</td>\n",
       "      <td>63.97</td>\n",
       "      <td>5.0</td>\n",
       "      <td>Mb</td>\n",
       "      <td>82 km WSW of Banda Aceh, Indonesia</td>\n",
       "      <td>2021</td>\n",
       "      <td>5</td>\n",
       "      <td>2</td>\n",
       "      <td>20</td>\n",
       "      <td>49</td>\n",
       "      <td>43</td>\n",
       "    </tr>\n",
       "    <tr>\n",
       "      <th>4</th>\n",
       "      <td>2021-04-17 01:04:53.776000+00:00</td>\n",
       "      <td>5.1158</td>\n",
       "      <td>95.4508</td>\n",
       "      <td>100.74</td>\n",
       "      <td>5.0</td>\n",
       "      <td>Mww</td>\n",
       "      <td>48 km SSE of Banda Aceh, Indonesia</td>\n",
       "      <td>2021</td>\n",
       "      <td>4</td>\n",
       "      <td>17</td>\n",
       "      <td>1</td>\n",
       "      <td>4</td>\n",
       "      <td>53</td>\n",
       "    </tr>\n",
       "  </tbody>\n",
       "</table>\n",
       "</div>"
      ],
      "text/plain": [
       "                              Time  Latitude  Longitude   Depth  Mag MagType  \\\n",
       "0 2020-11-13 18:33:07.130000+00:00    5.7913    95.5619   10.00  5.1     Mww   \n",
       "1 2020-11-30 17:14:12.006000+00:00    3.0670    96.1349   27.89  5.0      Mb   \n",
       "2 2020-09-13 18:28:52.194000+00:00    4.2449    96.6838  121.54  5.0     Mww   \n",
       "3 2021-05-02 20:49:43.322000+00:00    5.3234    94.6170   63.97  5.0      Mb   \n",
       "4 2021-04-17 01:04:53.776000+00:00    5.1158    95.4508  100.74  5.0     Mww   \n",
       "\n",
       "                                Place  Year  Month  Day  Hour  Minutes  Second  \n",
       "0      29 km ESE of Sabang, Indonesia  2020     11   13    18       33       7  \n",
       "1    70 km NNW of Sinabang, Indonesia  2020     11   30    17       14      12  \n",
       "2      62 km E of Meulaboh, Indonesia  2020      9   13    18       28      52  \n",
       "3  82 km WSW of Banda Aceh, Indonesia  2021      5    2    20       49      43  \n",
       "4  48 km SSE of Banda Aceh, Indonesia  2021      4   17     1        4      53  "
      ]
     },
     "execution_count": 149,
     "metadata": {},
     "output_type": "execute_result"
    }
   ],
   "source": [
    "mag_data.head()"
   ]
  },
  {
   "cell_type": "code",
   "execution_count": 150,
   "id": "02202dc6",
   "metadata": {},
   "outputs": [
    {
     "data": {
      "text/plain": [
       "(5, 13)"
      ]
     },
     "execution_count": 150,
     "metadata": {},
     "output_type": "execute_result"
    }
   ],
   "source": [
    "mag_data.shape"
   ]
  },
  {
   "cell_type": "markdown",
   "id": "e2911767",
   "metadata": {},
   "source": [
    "We can apply multiple condition for filter data. For example, we want to filter a data that `Mag` above 5 and `MagType`is Mb."
   ]
  },
  {
   "cell_type": "code",
   "execution_count": 151,
   "id": "f37b2d43",
   "metadata": {},
   "outputs": [],
   "source": [
    "multiple_filter = current_data[(current_data['Mag'] >= 5) & (current_data['MagType'] == 'Mb')]"
   ]
  },
  {
   "cell_type": "code",
   "execution_count": 152,
   "id": "9961367d",
   "metadata": {},
   "outputs": [
    {
     "data": {
      "text/html": [
       "<div>\n",
       "<style scoped>\n",
       "    .dataframe tbody tr th:only-of-type {\n",
       "        vertical-align: middle;\n",
       "    }\n",
       "\n",
       "    .dataframe tbody tr th {\n",
       "        vertical-align: top;\n",
       "    }\n",
       "\n",
       "    .dataframe thead th {\n",
       "        text-align: right;\n",
       "    }\n",
       "</style>\n",
       "<table border=\"1\" class=\"dataframe\">\n",
       "  <thead>\n",
       "    <tr style=\"text-align: right;\">\n",
       "      <th></th>\n",
       "      <th>Time</th>\n",
       "      <th>Latitude</th>\n",
       "      <th>Longitude</th>\n",
       "      <th>Depth</th>\n",
       "      <th>Mag</th>\n",
       "      <th>MagType</th>\n",
       "      <th>Place</th>\n",
       "      <th>Year</th>\n",
       "      <th>Month</th>\n",
       "      <th>Day</th>\n",
       "      <th>Hour</th>\n",
       "      <th>Minutes</th>\n",
       "      <th>Second</th>\n",
       "    </tr>\n",
       "  </thead>\n",
       "  <tbody>\n",
       "    <tr>\n",
       "      <th>1</th>\n",
       "      <td>2020-11-30 17:14:12.006000+00:00</td>\n",
       "      <td>3.0670</td>\n",
       "      <td>96.1349</td>\n",
       "      <td>27.89</td>\n",
       "      <td>5.0</td>\n",
       "      <td>Mb</td>\n",
       "      <td>70 km NNW of Sinabang, Indonesia</td>\n",
       "      <td>2020</td>\n",
       "      <td>11</td>\n",
       "      <td>30</td>\n",
       "      <td>17</td>\n",
       "      <td>14</td>\n",
       "      <td>12</td>\n",
       "    </tr>\n",
       "    <tr>\n",
       "      <th>3</th>\n",
       "      <td>2021-05-02 20:49:43.322000+00:00</td>\n",
       "      <td>5.3234</td>\n",
       "      <td>94.6170</td>\n",
       "      <td>63.97</td>\n",
       "      <td>5.0</td>\n",
       "      <td>Mb</td>\n",
       "      <td>82 km WSW of Banda Aceh, Indonesia</td>\n",
       "      <td>2021</td>\n",
       "      <td>5</td>\n",
       "      <td>2</td>\n",
       "      <td>20</td>\n",
       "      <td>49</td>\n",
       "      <td>43</td>\n",
       "    </tr>\n",
       "  </tbody>\n",
       "</table>\n",
       "</div>"
      ],
      "text/plain": [
       "                              Time  Latitude  Longitude  Depth  Mag MagType  \\\n",
       "1 2020-11-30 17:14:12.006000+00:00    3.0670    96.1349  27.89  5.0      Mb   \n",
       "3 2021-05-02 20:49:43.322000+00:00    5.3234    94.6170  63.97  5.0      Mb   \n",
       "\n",
       "                                Place  Year  Month  Day  Hour  Minutes  Second  \n",
       "1    70 km NNW of Sinabang, Indonesia  2020     11   30    17       14      12  \n",
       "3  82 km WSW of Banda Aceh, Indonesia  2021      5    2    20       49      43  "
      ]
     },
     "execution_count": 152,
     "metadata": {},
     "output_type": "execute_result"
    }
   ],
   "source": [
    "multiple_filter.head()"
   ]
  },
  {
   "cell_type": "code",
   "execution_count": 153,
   "id": "380361a4",
   "metadata": {},
   "outputs": [
    {
     "data": {
      "text/plain": [
       "(2, 13)"
      ]
     },
     "execution_count": 153,
     "metadata": {},
     "output_type": "execute_result"
    }
   ],
   "source": [
    "multiple_filter.shape"
   ]
  },
  {
   "cell_type": "markdown",
   "id": "1c0b3b32",
   "metadata": {},
   "source": [
    "This method can be applied in all variables."
   ]
  },
  {
   "cell_type": "markdown",
   "id": "5855a1ea",
   "metadata": {},
   "source": [
    "### More Pandas's Method\n",
    "\n",
    "For more information about method in Pandas, we can type `dir(pd)` if we use Pandas's alias."
   ]
  },
  {
   "cell_type": "markdown",
   "id": "e077eb33",
   "metadata": {},
   "source": [
    "### 3. Matplotlib\n",
    "\n",
    "Matplotlib is a Python library that used for plot a data become a graphic such as, line, bar, pie and much more. This will help us to understand an information of data. In this tutorial, we will plot the earthquake data that has been explained in Pandas section. For remainder, the earthquake data is assigned to `current_data` as follows"
   ]
  },
  {
   "cell_type": "code",
   "execution_count": 154,
   "id": "8ed219bb",
   "metadata": {},
   "outputs": [
    {
     "data": {
      "text/html": [
       "<div>\n",
       "<style scoped>\n",
       "    .dataframe tbody tr th:only-of-type {\n",
       "        vertical-align: middle;\n",
       "    }\n",
       "\n",
       "    .dataframe tbody tr th {\n",
       "        vertical-align: top;\n",
       "    }\n",
       "\n",
       "    .dataframe thead th {\n",
       "        text-align: right;\n",
       "    }\n",
       "</style>\n",
       "<table border=\"1\" class=\"dataframe\">\n",
       "  <thead>\n",
       "    <tr style=\"text-align: right;\">\n",
       "      <th></th>\n",
       "      <th>Time</th>\n",
       "      <th>Latitude</th>\n",
       "      <th>Longitude</th>\n",
       "      <th>Depth</th>\n",
       "      <th>Mag</th>\n",
       "      <th>MagType</th>\n",
       "      <th>Place</th>\n",
       "      <th>Year</th>\n",
       "      <th>Month</th>\n",
       "      <th>Day</th>\n",
       "      <th>Hour</th>\n",
       "      <th>Minutes</th>\n",
       "      <th>Second</th>\n",
       "    </tr>\n",
       "  </thead>\n",
       "  <tbody>\n",
       "    <tr>\n",
       "      <th>0</th>\n",
       "      <td>2020-11-13 18:33:07.130000+00:00</td>\n",
       "      <td>5.7913</td>\n",
       "      <td>95.5619</td>\n",
       "      <td>10.00</td>\n",
       "      <td>5.1</td>\n",
       "      <td>Mww</td>\n",
       "      <td>29 km ESE of Sabang, Indonesia</td>\n",
       "      <td>2020</td>\n",
       "      <td>11</td>\n",
       "      <td>13</td>\n",
       "      <td>18</td>\n",
       "      <td>33</td>\n",
       "      <td>7</td>\n",
       "    </tr>\n",
       "    <tr>\n",
       "      <th>1</th>\n",
       "      <td>2020-11-30 17:14:12.006000+00:00</td>\n",
       "      <td>3.0670</td>\n",
       "      <td>96.1349</td>\n",
       "      <td>27.89</td>\n",
       "      <td>5.0</td>\n",
       "      <td>Mb</td>\n",
       "      <td>70 km NNW of Sinabang, Indonesia</td>\n",
       "      <td>2020</td>\n",
       "      <td>11</td>\n",
       "      <td>30</td>\n",
       "      <td>17</td>\n",
       "      <td>14</td>\n",
       "      <td>12</td>\n",
       "    </tr>\n",
       "    <tr>\n",
       "      <th>2</th>\n",
       "      <td>2020-09-13 18:28:52.194000+00:00</td>\n",
       "      <td>4.2449</td>\n",
       "      <td>96.6838</td>\n",
       "      <td>121.54</td>\n",
       "      <td>5.0</td>\n",
       "      <td>Mww</td>\n",
       "      <td>62 km E of Meulaboh, Indonesia</td>\n",
       "      <td>2020</td>\n",
       "      <td>9</td>\n",
       "      <td>13</td>\n",
       "      <td>18</td>\n",
       "      <td>28</td>\n",
       "      <td>52</td>\n",
       "    </tr>\n",
       "    <tr>\n",
       "      <th>3</th>\n",
       "      <td>2021-05-02 20:49:43.322000+00:00</td>\n",
       "      <td>5.3234</td>\n",
       "      <td>94.6170</td>\n",
       "      <td>63.97</td>\n",
       "      <td>5.0</td>\n",
       "      <td>Mb</td>\n",
       "      <td>82 km WSW of Banda Aceh, Indonesia</td>\n",
       "      <td>2021</td>\n",
       "      <td>5</td>\n",
       "      <td>2</td>\n",
       "      <td>20</td>\n",
       "      <td>49</td>\n",
       "      <td>43</td>\n",
       "    </tr>\n",
       "    <tr>\n",
       "      <th>4</th>\n",
       "      <td>2021-04-17 01:04:53.776000+00:00</td>\n",
       "      <td>5.1158</td>\n",
       "      <td>95.4508</td>\n",
       "      <td>100.74</td>\n",
       "      <td>5.0</td>\n",
       "      <td>Mww</td>\n",
       "      <td>48 km SSE of Banda Aceh, Indonesia</td>\n",
       "      <td>2021</td>\n",
       "      <td>4</td>\n",
       "      <td>17</td>\n",
       "      <td>1</td>\n",
       "      <td>4</td>\n",
       "      <td>53</td>\n",
       "    </tr>\n",
       "  </tbody>\n",
       "</table>\n",
       "</div>"
      ],
      "text/plain": [
       "                              Time  Latitude  Longitude   Depth  Mag MagType  \\\n",
       "0 2020-11-13 18:33:07.130000+00:00    5.7913    95.5619   10.00  5.1     Mww   \n",
       "1 2020-11-30 17:14:12.006000+00:00    3.0670    96.1349   27.89  5.0      Mb   \n",
       "2 2020-09-13 18:28:52.194000+00:00    4.2449    96.6838  121.54  5.0     Mww   \n",
       "3 2021-05-02 20:49:43.322000+00:00    5.3234    94.6170   63.97  5.0      Mb   \n",
       "4 2021-04-17 01:04:53.776000+00:00    5.1158    95.4508  100.74  5.0     Mww   \n",
       "\n",
       "                                Place  Year  Month  Day  Hour  Minutes  Second  \n",
       "0      29 km ESE of Sabang, Indonesia  2020     11   13    18       33       7  \n",
       "1    70 km NNW of Sinabang, Indonesia  2020     11   30    17       14      12  \n",
       "2      62 km E of Meulaboh, Indonesia  2020      9   13    18       28      52  \n",
       "3  82 km WSW of Banda Aceh, Indonesia  2021      5    2    20       49      43  \n",
       "4  48 km SSE of Banda Aceh, Indonesia  2021      4   17     1        4      53  "
      ]
     },
     "execution_count": 154,
     "metadata": {},
     "output_type": "execute_result"
    }
   ],
   "source": [
    "current_data.head()"
   ]
  },
  {
   "cell_type": "code",
   "execution_count": 155,
   "id": "0f443597",
   "metadata": {},
   "outputs": [
    {
     "data": {
      "text/plain": [
       "(41, 13)"
      ]
     },
     "execution_count": 155,
     "metadata": {},
     "output_type": "execute_result"
    }
   ],
   "source": [
    "current_data.shape"
   ]
  },
  {
   "cell_type": "markdown",
   "id": "082eb824",
   "metadata": {},
   "source": [
    "To use Matplotlib, we have to import this library and write its alias as `plt`"
   ]
  },
  {
   "cell_type": "code",
   "execution_count": 156,
   "id": "e1f336e8",
   "metadata": {},
   "outputs": [],
   "source": [
    "import matplotlib.pyplot as plt"
   ]
  },
  {
   "cell_type": "markdown",
   "id": "0d2ef222",
   "metadata": {},
   "source": [
    "#### Plot\n",
    "\n",
    "First, for simple plot, we start to plot the `Mag` value for each `Depth` by using `plot` command"
   ]
  },
  {
   "cell_type": "code",
   "execution_count": 157,
   "id": "ecc8acfb",
   "metadata": {},
   "outputs": [
    {
     "data": {
      "text/plain": [
       "Text(0.5, 1.0, 'Depth vs Magnitude')"
      ]
     },
     "execution_count": 157,
     "metadata": {},
     "output_type": "execute_result"
    },
    {
     "data": {
      "image/png": "[encoded data removed]",
      "text/plain": [
       "<Figure size 432x288 with 1 Axes>"
      ]
     },
     "metadata": {
      "needs_background": "light"
     },
     "output_type": "display_data"
    }
   ],
   "source": [
    "plt.plot(current_data['Mag'],current_data['Depth'],'+',markersize=10, color='r')\n",
    "plt.xlabel('Magnitude')\n",
    "plt.ylabel('Depth')\n",
    "plt.title('Depth vs Magnitude')"
   ]
  },
  {
   "cell_type": "markdown",
   "id": "f5db27aa",
   "metadata": {},
   "source": [
    "#### Scatter\n",
    "\n",
    "Next, we are going to plot the coordinate (Longitude and Latitude) of the earthquake data with scatter style. Longitude is in x-axis and Latitude is in y-axis."
   ]
  },
  {
   "cell_type": "code",
   "execution_count": 158,
   "id": "b2eb9471",
   "metadata": {},
   "outputs": [
    {
     "data": {
      "text/plain": [
       "Text(0.5, 1.0, 'Scatter Plot')"
      ]
     },
     "execution_count": 158,
     "metadata": {},
     "output_type": "execute_result"
    },
    {
     "data": {
      "image/png": "[encoded data removed]",
      "text/plain": [
       "<Figure size 432x288 with 1 Axes>"
      ]
     },
     "metadata": {
      "needs_background": "light"
     },
     "output_type": "display_data"
    }
   ],
   "source": [
    "plt.scatter(current_data['Longitude'],current_data['Latitude'], s = 50, c = 'orange')\n",
    "plt.xlabel('Longitude')\n",
    "plt.ylabel('Latitude')\n",
    "plt.title('Scatter Plot')"
   ]
  },
  {
   "cell_type": "markdown",
   "id": "40416a14",
   "metadata": {},
   "source": [
    "#### Bar\n",
    "\n",
    "We are going to next step to plot a data by using bar plot. In this case we will plot a frequency `Mag` for each `Year`. To do this, we have to use `Pandas` library and then plot by using `Matplotlib`.\n",
    "\n",
    "First, we have to identify what years are include in this data. To apply this, we use `.gropuby` method and `.agg` (aggrgate) method from `Pandas` as follows"
   ]
  },
  {
   "cell_type": "code",
   "execution_count": 159,
   "id": "7c72bb4f",
   "metadata": {},
   "outputs": [],
   "source": [
    "mag_group_in_year = current_data.groupby(by='Year').agg({\n",
    "    'Mag': 'count'\n",
    "}).reset_index()"
   ]
  },
  {
   "cell_type": "code",
   "execution_count": 160,
   "id": "0848f805",
   "metadata": {
    "scrolled": false
   },
   "outputs": [
    {
     "data": {
      "text/html": [
       "<div>\n",
       "<style scoped>\n",
       "    .dataframe tbody tr th:only-of-type {\n",
       "        vertical-align: middle;\n",
       "    }\n",
       "\n",
       "    .dataframe tbody tr th {\n",
       "        vertical-align: top;\n",
       "    }\n",
       "\n",
       "    .dataframe thead th {\n",
       "        text-align: right;\n",
       "    }\n",
       "</style>\n",
       "<table border=\"1\" class=\"dataframe\">\n",
       "  <thead>\n",
       "    <tr style=\"text-align: right;\">\n",
       "      <th></th>\n",
       "      <th>Year</th>\n",
       "      <th>Mag</th>\n",
       "    </tr>\n",
       "  </thead>\n",
       "  <tbody>\n",
       "    <tr>\n",
       "      <th>0</th>\n",
       "      <td>2020</td>\n",
       "      <td>26</td>\n",
       "    </tr>\n",
       "    <tr>\n",
       "      <th>1</th>\n",
       "      <td>2021</td>\n",
       "      <td>15</td>\n",
       "    </tr>\n",
       "  </tbody>\n",
       "</table>\n",
       "</div>"
      ],
      "text/plain": [
       "   Year  Mag\n",
       "0  2020   26\n",
       "1  2021   15"
      ]
     },
     "execution_count": 160,
     "metadata": {},
     "output_type": "execute_result"
    }
   ],
   "source": [
    "mag_group_in_year.head()"
   ]
  },
  {
   "cell_type": "code",
   "execution_count": 161,
   "id": "a22103e7",
   "metadata": {},
   "outputs": [
    {
     "data": {
      "image/png": "[encoded data removed]",
      "text/plain": [
       "<Figure size 432x288 with 1 Axes>"
      ]
     },
     "metadata": {
      "needs_background": "light"
     },
     "output_type": "display_data"
    }
   ],
   "source": [
    "mag_group_in_year.plot.bar('Year','Mag',rot=0)\n",
    "plt.title('Event Count For Each Year')\n",
    "plt.grid()"
   ]
  },
  {
   "cell_type": "markdown",
   "id": "ac356357",
   "metadata": {},
   "source": [
    "#### Pie"
   ]
  },
  {
   "cell_type": "markdown",
   "id": "24271f67",
   "metadata": {},
   "source": [
    "We use `mag_group_in_year` variable to plot in pie chart. But, we apply little bit modification of its index name. We use `Year` column as the new index and assign to new variable of `mag_pie` as follows"
   ]
  },
  {
   "cell_type": "code",
   "execution_count": 162,
   "id": "0710586f",
   "metadata": {},
   "outputs": [],
   "source": [
    "mag_pie = mag_group_in_year.set_index('Year')"
   ]
  },
  {
   "cell_type": "code",
   "execution_count": 163,
   "id": "0d44cb17",
   "metadata": {
    "scrolled": true
   },
   "outputs": [
    {
     "data": {
      "text/plain": [
       "<AxesSubplot:ylabel='Mag'>"
      ]
     },
     "execution_count": 163,
     "metadata": {},
     "output_type": "execute_result"
    },
    {
     "data": {
      "image/png": "[encoded data removed]",
      "text/plain": [
       "<Figure size 432x288 with 1 Axes>"
      ]
     },
     "metadata": {},
     "output_type": "display_data"
    }
   ],
   "source": [
    "mag_pie.plot.pie(y='Mag', autopct='%1.1f%%')"
   ]
  },
  {
   "cell_type": "markdown",
   "id": "99405a1e",
   "metadata": {},
   "source": [
    "### 4. Basic Algorithm in Python"
   ]
  },
  {
   "cell_type": "markdown",
   "id": "65dae84c",
   "metadata": {},
   "source": [
    "Yey!!!, you have explored and studied about fundamental of some Python libraries such as Numpy, Pandas and Matplotlib. Now, you are going to learn about basic algorithm in Python. If you ever have learn about basic algorithm from another programming language, it might be help you for this tutorial.\n",
    "\n",
    "Algorithm is sequance of a structure statements to help solve a problems computationally [[reference]](https://www.merriam-webster.com/dictionary/algorithm). A mathematics process is behind an algorithm. For instances, the calculator in your smartphone is an product of algorithm, which is the behind of calculator program is mathematics. You could conduct summation, subtraction, multiplication, division and much more. That is one simple example. Let's imagine that you are dealing with a complex mathematics equation that to be calculated with some dependent variables manually. It will take a time to process. The solution is, you could create an algorithm to solve this complex mathematics equation.\n",
    "\n",
    "In this subchapter, we will learn some of topics as follows:\n",
    "\n",
    "- Type of Data\n",
    "- Looping/Iteration\n",
    "- Conditional Statement/Logical Statement\n",
    "\n",
    "So, have a good luck!!!"
   ]
  },
  {
   "cell_type": "markdown",
   "id": "96e43252",
   "metadata": {},
   "source": [
    "#### 4.1 Type of Data"
   ]
  },
  {
   "cell_type": "markdown",
   "id": "0219fde9",
   "metadata": {},
   "source": [
    "When you are dealing with an algorithm, write some a an algorithm by using any programming language, you will face some type of data as follows:\n",
    "\n",
    "1. String (Character)\n",
    "2. Float\n",
    "3. Integer\n",
    "4. Complex\n",
    "\n",
    "So, what are these type of data means?"
   ]
  },
  {
   "cell_type": "markdown",
   "id": "a1a21e4a",
   "metadata": {},
   "source": [
    "##### 4.1.1 String"
   ]
  },
  {
   "cell_type": "markdown",
   "id": "3de8ca18",
   "metadata": {},
   "source": [
    "String or Character is a type of data that contain a text format. It can be a words or combination between words with numbers. In Python, the string is written with quotion mark ('type your string here'). For instances"
   ]
  },
  {
   "cell_type": "code",
   "execution_count": 164,
   "id": "d89513a7",
   "metadata": {},
   "outputs": [
    {
     "data": {
      "text/plain": [
       "'This is a string 1'"
      ]
     },
     "execution_count": 164,
     "metadata": {},
     "output_type": "execute_result"
    }
   ],
   "source": [
    "string_1 = 'This is a string 1'\n",
    "string_1"
   ]
  },
  {
   "cell_type": "code",
   "execution_count": 165,
   "id": "b910bcf8",
   "metadata": {},
   "outputs": [
    {
     "data": {
      "text/plain": [
       "'12345678910 is a string 2'"
      ]
     },
     "execution_count": 165,
     "metadata": {},
     "output_type": "execute_result"
    }
   ],
   "source": [
    "string_2 = '12345678910 is a string 2'\n",
    "string_2"
   ]
  },
  {
   "cell_type": "markdown",
   "id": "54a06909",
   "metadata": {},
   "source": [
    "You can identify a length of string data by using `len()` command as follows"
   ]
  },
  {
   "cell_type": "code",
   "execution_count": 166,
   "id": "5e912eaa",
   "metadata": {},
   "outputs": [
    {
     "data": {
      "text/plain": [
       "18"
      ]
     },
     "execution_count": 166,
     "metadata": {},
     "output_type": "execute_result"
    }
   ],
   "source": [
    "len_string_1 = len(string_1)\n",
    "len_string_1"
   ]
  },
  {
   "cell_type": "code",
   "execution_count": 167,
   "id": "65da8f78",
   "metadata": {},
   "outputs": [
    {
     "data": {
      "text/plain": [
       "25"
      ]
     },
     "execution_count": 167,
     "metadata": {},
     "output_type": "execute_result"
    }
   ],
   "source": [
    "len_string_2 = len(string_2)\n",
    "len_string_2"
   ]
  },
  {
   "cell_type": "markdown",
   "id": "5b184491",
   "metadata": {},
   "source": [
    " You can slice the string data by using its index number. In this case, the `string_1` has 18 length of string data and `string_2` has 25 length of string data. These length numbers are maximum index number for each string data. For instances,"
   ]
  },
  {
   "cell_type": "code",
   "execution_count": 168,
   "id": "6025c941",
   "metadata": {},
   "outputs": [
    {
     "data": {
      "text/plain": [
       "'This is'"
      ]
     },
     "execution_count": 168,
     "metadata": {},
     "output_type": "execute_result"
    }
   ],
   "source": [
    "slice_1 = string_1[0:7]\n",
    "slice_1"
   ]
  },
  {
   "cell_type": "code",
   "execution_count": 169,
   "id": "f39e376e",
   "metadata": {},
   "outputs": [
    {
     "data": {
      "text/plain": [
       "'string 2'"
      ]
     },
     "execution_count": 169,
     "metadata": {},
     "output_type": "execute_result"
    }
   ],
   "source": [
    "slice_2 = string_2[17:25]\n",
    "slice_2"
   ]
  },
  {
   "cell_type": "markdown",
   "id": "bf1c3015",
   "metadata": {},
   "source": [
    "In Python, you can add two string data by using `+` as follows"
   ]
  },
  {
   "cell_type": "code",
   "execution_count": 170,
   "id": "3c59fb2a",
   "metadata": {},
   "outputs": [
    {
     "data": {
      "text/plain": [
       "'This isstring 2'"
      ]
     },
     "execution_count": 170,
     "metadata": {},
     "output_type": "execute_result"
    }
   ],
   "source": [
    "add_string = slice_1 + slice_2\n",
    "add_string"
   ]
  },
  {
   "cell_type": "code",
   "execution_count": 171,
   "id": "b8ae4e70",
   "metadata": {},
   "outputs": [
    {
     "data": {
      "text/plain": [
       "'This is string 2'"
      ]
     },
     "execution_count": 171,
     "metadata": {},
     "output_type": "execute_result"
    }
   ],
   "source": [
    "add_string = slice_1 +' '+ slice_2\n",
    "add_string"
   ]
  },
  {
   "cell_type": "code",
   "execution_count": 177,
   "id": "45ec124c",
   "metadata": {},
   "outputs": [
    {
     "data": {
      "text/plain": [
       "str"
      ]
     },
     "execution_count": 177,
     "metadata": {},
     "output_type": "execute_result"
    }
   ],
   "source": [
    "type(add_string)"
   ]
  },
  {
   "cell_type": "markdown",
   "id": "639b472b",
   "metadata": {},
   "source": [
    "You also can write the multiple string in a list/array as follows"
   ]
  },
  {
   "cell_type": "code",
   "execution_count": 174,
   "id": "78760217",
   "metadata": {},
   "outputs": [
    {
     "data": {
      "text/plain": [
       "['String 1', 'String_2', 'String_3']"
      ]
     },
     "execution_count": 174,
     "metadata": {},
     "output_type": "execute_result"
    }
   ],
   "source": [
    "string_list = ['String 1', 'String_2', 'String_3']\n",
    "string_list"
   ]
  },
  {
   "cell_type": "markdown",
   "id": "c519a92f",
   "metadata": {},
   "source": [
    "##### 4.1.2 Float"
   ]
  },
  {
   "cell_type": "markdown",
   "id": "08b81f99",
   "metadata": {},
   "source": [
    "Float is fractional number type of data, such as `2.4, 5.2, 7.0, etc`. For instances,"
   ]
  },
  {
   "cell_type": "code",
   "execution_count": 175,
   "id": "efee6922",
   "metadata": {},
   "outputs": [
    {
     "data": {
      "text/plain": [
       "2.5"
      ]
     },
     "execution_count": 175,
     "metadata": {},
     "output_type": "execute_result"
    }
   ],
   "source": [
    "float_1 = 2.5\n",
    "float_1"
   ]
  },
  {
   "cell_type": "code",
   "execution_count": 176,
   "id": "76230238",
   "metadata": {},
   "outputs": [
    {
     "data": {
      "text/plain": [
       "float"
      ]
     },
     "execution_count": 176,
     "metadata": {},
     "output_type": "execute_result"
    }
   ],
   "source": [
    "type(float_1)"
   ]
  },
  {
   "cell_type": "code",
   "execution_count": 178,
   "id": "d36c86d2",
   "metadata": {},
   "outputs": [
    {
     "data": {
      "text/plain": [
       "7.3"
      ]
     },
     "execution_count": 178,
     "metadata": {},
     "output_type": "execute_result"
    }
   ],
   "source": [
    "float_2 = 7.3\n",
    "float_2"
   ]
  },
  {
   "cell_type": "markdown",
   "id": "63450832",
   "metadata": {},
   "source": [
    "You can apply the mathematics operation to this type of data"
   ]
  },
  {
   "cell_type": "code",
   "execution_count": 179,
   "id": "b1fd089c",
   "metadata": {},
   "outputs": [
    {
     "data": {
      "text/plain": [
       "9.8"
      ]
     },
     "execution_count": 179,
     "metadata": {},
     "output_type": "execute_result"
    }
   ],
   "source": [
    "add_float = float_1 + float_2\n",
    "add_float"
   ]
  },
  {
   "cell_type": "markdown",
   "id": "37518b0e",
   "metadata": {},
   "source": [
    "You also can create a list/array that contain some float numbers"
   ]
  },
  {
   "cell_type": "code",
   "execution_count": 180,
   "id": "ad68d084",
   "metadata": {},
   "outputs": [
    {
     "data": {
      "text/plain": [
       "[1.2, 2.6, 4.8]"
      ]
     },
     "execution_count": 180,
     "metadata": {},
     "output_type": "execute_result"
    }
   ],
   "source": [
    "list_float = [1.2, 2.6, 4.8]\n",
    "list_float"
   ]
  },
  {
   "cell_type": "markdown",
   "id": "5d2e2a51",
   "metadata": {},
   "source": [
    "##### 4.1.3 Integer"
   ]
  },
  {
   "cell_type": "markdown",
   "id": "6d4a1714",
   "metadata": {},
   "source": [
    "Integer is not a frational number, such as `20, 10, 18, 16`. For instances,"
   ]
  },
  {
   "cell_type": "code",
   "execution_count": 182,
   "id": "3e71410f",
   "metadata": {},
   "outputs": [
    {
     "data": {
      "text/plain": [
       "12"
      ]
     },
     "execution_count": 182,
     "metadata": {},
     "output_type": "execute_result"
    }
   ],
   "source": [
    "integer_1 = 12\n",
    "integer_1"
   ]
  },
  {
   "cell_type": "code",
   "execution_count": 183,
   "id": "d413db62",
   "metadata": {},
   "outputs": [
    {
     "data": {
      "text/plain": [
       "18"
      ]
     },
     "execution_count": 183,
     "metadata": {},
     "output_type": "execute_result"
    }
   ],
   "source": [
    "integer_2 = 18\n",
    "integer_2"
   ]
  },
  {
   "cell_type": "markdown",
   "id": "f3ad8840",
   "metadata": {},
   "source": [
    "You can apply the mathematics operation in this type of data"
   ]
  },
  {
   "cell_type": "code",
   "execution_count": 184,
   "id": "fdadfc2c",
   "metadata": {},
   "outputs": [
    {
     "data": {
      "text/plain": [
       "30"
      ]
     },
     "execution_count": 184,
     "metadata": {},
     "output_type": "execute_result"
    }
   ],
   "source": [
    "add_integer = integer_1 + integer_2\n",
    "add_integer"
   ]
  },
  {
   "cell_type": "markdown",
   "id": "370e7f24",
   "metadata": {},
   "source": [
    "You also can create a list/array that contain some integer numbers"
   ]
  },
  {
   "cell_type": "code",
   "execution_count": 186,
   "id": "90f70598",
   "metadata": {},
   "outputs": [
    {
     "data": {
      "text/plain": [
       "[12, 16, 28]"
      ]
     },
     "execution_count": 186,
     "metadata": {},
     "output_type": "execute_result"
    }
   ],
   "source": [
    "list_integer = [12, 16, 28]\n",
    "list_integer"
   ]
  },
  {
   "cell_type": "markdown",
   "id": "3554265e",
   "metadata": {},
   "source": [
    "##### 4.1.4 Complex"
   ]
  },
  {
   "cell_type": "markdown",
   "id": "6b5271bd",
   "metadata": {},
   "source": [
    "Complex is a combination between real number with imaginary number. The complex number is written in the form `c = a + bj`, where the `j` refer to imaginary nubmer. For instances,"
   ]
  },
  {
   "cell_type": "code",
   "execution_count": 192,
   "id": "f6cd60eb",
   "metadata": {
    "scrolled": true
   },
   "outputs": [
    {
     "data": {
      "text/plain": [
       "(2.5+4j)"
      ]
     },
     "execution_count": 192,
     "metadata": {},
     "output_type": "execute_result"
    }
   ],
   "source": [
    "complex_1 = 2.5 + 4j\n",
    "complex_1"
   ]
  },
  {
   "cell_type": "markdown",
   "id": "a21065fd",
   "metadata": {},
   "source": [
    "You can separate the component of complex data to each type (real and imaginary) by using Numpy as follows"
   ]
  },
  {
   "cell_type": "code",
   "execution_count": 193,
   "id": "6473b386",
   "metadata": {},
   "outputs": [
    {
     "data": {
      "text/plain": [
       "2.5"
      ]
     },
     "execution_count": 193,
     "metadata": {},
     "output_type": "execute_result"
    }
   ],
   "source": [
    "real_complex = np.real(complex_1)\n",
    "real_complex"
   ]
  },
  {
   "cell_type": "code",
   "execution_count": 194,
   "id": "7d75279c",
   "metadata": {},
   "outputs": [
    {
     "data": {
      "text/plain": [
       "4.0"
      ]
     },
     "execution_count": 194,
     "metadata": {},
     "output_type": "execute_result"
    }
   ],
   "source": [
    "imag_complex = np.imag(complex_1)\n",
    "imag_complex"
   ]
  },
  {
   "cell_type": "markdown",
   "id": "063c66bb",
   "metadata": {},
   "source": [
    "**_NOTE: All type of data can be combined in the same list/array_**"
   ]
  },
  {
   "cell_type": "code",
   "execution_count": 197,
   "id": "4811ea01",
   "metadata": {},
   "outputs": [
    {
     "data": {
      "text/plain": [
       "[1.5, 8, 'abc', (3+2j)]"
      ]
     },
     "execution_count": 197,
     "metadata": {},
     "output_type": "execute_result"
    }
   ],
   "source": [
    "combine_data = [1.5, 8, 'abc', 3+2j]\n",
    "combine_data"
   ]
  },
  {
   "cell_type": "code",
   "execution_count": null,
   "id": "5caf09e4",
   "metadata": {},
   "outputs": [],
   "source": []
  }
 ],
 "metadata": {
  "kernelspec": {
   "display_name": "Python 3",
   "language": "python",
   "name": "python3"
  },
  "language_info": {
   "codemirror_mode": {
    "name": "ipython",
    "version": 3
   },
   "file_extension": ".py",
   "mimetype": "text/x-python",
   "name": "python",
   "nbconvert_exporter": "python",
   "pygments_lexer": "ipython3",
   "version": "3.8.7"
  }
 },
 "nbformat": 4,
 "nbformat_minor": 5
}
