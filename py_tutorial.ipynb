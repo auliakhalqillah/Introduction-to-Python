{
 "cells": [
  {
   "cell_type": "markdown",
   "source": [
    "<img align=\"left\" width=\"500\" height=\"500\" src=\"https://www.python.org/static/community_logos/python-logo-inkscape.svg\">"
   ],
   "metadata": {}
  },
  {
   "cell_type": "markdown",
   "source": [
    "<div align=\"left\">\n",
    "    <h1>Tutorial Python 3</h1>\n",
    "</div>\n",
    "\n",
    "<div align=\"left\">\n",
    "    <h3>Written by: Aulia Khalqillah, S.Si., M.Si</h3>\n",
    "</div>"
   ],
   "metadata": {}
  },
  {
   "cell_type": "markdown",
   "source": [
    "## Table of Contents\r\n",
    "\r\n",
    "[Working With Libraries](#Working-With-Libraries)\r\n",
    "\r\n",
    "- [1. Numpy](#1.-Numpy)\r\n",
    "    * [1.1 Generating Array](#Generating-Array)\r\n",
    "        + [1.1.1 Arange](#1.1.1-Arange)\r\n",
    "        + [1.1.2 Linspace](#1.1.2-Linspace)\r\n",
    "        + [1.1.3 List](#1.1.3-List)\r\n",
    "    * [1.2 Generating 'Zeros' Element of Array](#1.2-Generating-'Zeros'-Element-of-Array)\r\n",
    "    * [1.3 Generating 'Ones' Element of Array](#1.3-Generating-'Ones'-Element-of-Array)\r\n",
    "    * [1.4 Array Index](#1.4-Array-Index)\r\n",
    "    * [1.5 Generating Random Array](#1.5-Generating-Random-Array)\r\n",
    "        + [1.5.1 One Dimensional Array](#1.5.1.-One-Dimensional-Array)\r\n",
    "        + [1.5.2 Two Domensional Array](#1.5.2.-Two-Dimensional-Array)\r\n",
    "    * [1.6 Array Modification](#1.6-Array-Modification)\r\n",
    "        + [1.6.1 Change Element of 1D Array](#1.6.1-Change-Element-of-1D-array)\r\n",
    "        + [1.6.2 Change Element of 2D Array](#1.6.2-Change-element-of-2D-array)\r\n",
    "    * [1.7 Slice an Array](#1.7-Slice-an-Array)\r\n",
    "        + [1.7.1 1D Array](#1.7.1-1D-Array)\r\n",
    "        + [1.7.2 2D Array](#1.7.2-2D-Array)\r\n",
    "    * [1.8 Basic Mathematics Operations](#1.8-Basic-Mathematics-Operations)\r\n",
    "    * [1.9 More Numpy's Methods](#1.9-More-Numpy's-Methods)\r\n",
    " \r\n",
    " \r\n",
    "- [2. Pandas](#2.-Pandas)\r\n",
    "    * [2.1 Read and Save CSV File](#2.1-Read-and-Save-CSV-File)\r\n",
    "        + [2.1.1 Get an Information File](#2.1.1-Get-an-Information-File)\r\n",
    "        + [2.1.2 Removing a Certain Data](#R2.1.2-emove-a-Certain-Data)\r\n",
    "        + [2.1.3 Selecting Column](#2.1.3-Selecting-Column)\r\n",
    "        + [2.1.4 Minimum and Maximum](#2.1.4-Minimum-and-Maximum)\r\n",
    "        + [2.1.5 Attribute Modification](#2.1.5-Attribute-Modification)\r\n",
    "            - [2.1.5.1 Rename a Column Name](#2.1.5.1-Rename-a-Column-Name)\r\n",
    "            - [2.1.5.2 Change a String Fromat](#2.1.5.2-Change-a-String-Format)\r\n",
    "            - [2.1.5.3 Time Modification](#2.1.5.3-Time-Modification)\r\n",
    "            - [2.1.5.4 Data Sorting](#2.1.5.4-Data-Sorting)\r\n",
    "    * [2.2 Data Filtering](#2.2-Data-Filtering)\r\n",
    "    * [2.3 More Pandas's Method](#2.3-More-Pandas's-Method)\r\n",
    " \r\n",
    " \r\n",
    "- [3. Matplotlib](#3.-Matplotlib)\r\n",
    "    * [3.1 Plot](#3.1-Plot)\r\n",
    "    * [3.2 Scatter](#3.2-Scatter)\r\n",
    "    * [3.3 Bar](#3.3-Bar)\r\n",
    "    * [3.4 Pie](#3.4-Pie)\r\n",
    "\r\n",
    "\r\n",
    "- [4. Basic Algorithm in Python](#4.-Basic-Algorithm-in-Python)\r\n",
    "    * [4.1 Type of Data](#4.1-Type-of-Data)\r\n",
    "        + [4.1.1 String](#4.1.1-String)\r\n",
    "        + [4.1.2 Float](#4.1.2-Float)\r\n",
    "        + [4.1.3 Integer](#4.1.3-Integer)\r\n",
    "        + [4.1.4 Complex](#4.1.4-Complex)\r\n",
    "        + [4.1.5 Dictionary](#4.1.5-Dictionary)\r\n",
    "    * [4.2 Looping/Iteration](#4.2-Looping/Iteration)\r\n",
    "    * [4.3 Conditional Statement](#4.3-Conditional-Statement)\r\n",
    "    * [4.4 Function](#4.4-Function)"
   ],
   "metadata": {}
  },
  {
   "cell_type": "markdown",
   "source": [
    "## Working With Libraries\r\n",
    "### 1. Numpy\r\n",
    "Type the following command to import Numpy library"
   ],
   "metadata": {}
  },
  {
   "cell_type": "code",
   "execution_count": 1,
   "source": [
    "import numpy as np"
   ],
   "outputs": [],
   "metadata": {
    "scrolled": true
   }
  },
  {
   "cell_type": "markdown",
   "source": [
    "The `np` is the alias of numpy library. This alias can be modified with any alias name.Type `np.(method)` to call a method/function from numpy library. "
   ],
   "metadata": {}
  },
  {
   "cell_type": "markdown",
   "source": [
    "#### 1.1 Generating Array\r\n",
    "\r\n",
    "Array can be created by using two methods that are \r\n",
    "1. `arange`\r\n",
    "2. `linspace`\r\n",
    "\r\n",
    "##### 1.1.1. Arange\r\n",
    "\r\n",
    "The format of `np.arange` is `np.arange(start, stop, step)`. For example, We generate an array without using `step` and asign the result to `arr` variable as follows"
   ],
   "metadata": {}
  },
  {
   "cell_type": "code",
   "execution_count": 2,
   "source": [
    "arr = np.arange(0,10)\r\n",
    "arr"
   ],
   "outputs": [
    {
     "output_type": "execute_result",
     "data": {
      "text/plain": [
       "array([0, 1, 2, 3, 4, 5, 6, 7, 8, 9])"
      ]
     },
     "metadata": {},
     "execution_count": 2
    }
   ],
   "metadata": {
    "scrolled": true
   }
  },
  {
   "cell_type": "markdown",
   "source": [
    "if `step = 2`"
   ],
   "metadata": {}
  },
  {
   "cell_type": "code",
   "execution_count": 3,
   "source": [
    "arr_step = np.arange(0,10,2)\r\n",
    "arr_step"
   ],
   "outputs": [
    {
     "output_type": "execute_result",
     "data": {
      "text/plain": [
       "array([0, 2, 4, 6, 8])"
      ]
     },
     "metadata": {},
     "execution_count": 3
    }
   ],
   "metadata": {
    "scrolled": true
   }
  },
  {
   "cell_type": "code",
   "execution_count": 4,
   "source": [
    "arr_odd = np.arange(1,10,2)\r\n",
    "arr_odd"
   ],
   "outputs": [
    {
     "output_type": "execute_result",
     "data": {
      "text/plain": [
       "array([1, 3, 5, 7, 9])"
      ]
     },
     "metadata": {},
     "execution_count": 4
    }
   ],
   "metadata": {}
  },
  {
   "cell_type": "markdown",
   "source": [
    "the result is even array."
   ],
   "metadata": {}
  },
  {
   "cell_type": "markdown",
   "source": [
    "##### 1.1.2 Linspace\r\n",
    "\r\n",
    "The format of `np.linspace` is `np.linspace(start,stop,length of data)`. First, We generate an array without input a length of data and assign the result to `arr_linspace` variable as follows"
   ],
   "metadata": {}
  },
  {
   "cell_type": "code",
   "execution_count": 5,
   "source": [
    "arr_linspace = np.linspace(0,0.5)\r\n",
    "arr_linspace"
   ],
   "outputs": [
    {
     "output_type": "execute_result",
     "data": {
      "text/plain": [
       "array([0.        , 0.01020408, 0.02040816, 0.03061224, 0.04081633,\n",
       "       0.05102041, 0.06122449, 0.07142857, 0.08163265, 0.09183673,\n",
       "       0.10204082, 0.1122449 , 0.12244898, 0.13265306, 0.14285714,\n",
       "       0.15306122, 0.16326531, 0.17346939, 0.18367347, 0.19387755,\n",
       "       0.20408163, 0.21428571, 0.2244898 , 0.23469388, 0.24489796,\n",
       "       0.25510204, 0.26530612, 0.2755102 , 0.28571429, 0.29591837,\n",
       "       0.30612245, 0.31632653, 0.32653061, 0.33673469, 0.34693878,\n",
       "       0.35714286, 0.36734694, 0.37755102, 0.3877551 , 0.39795918,\n",
       "       0.40816327, 0.41836735, 0.42857143, 0.43877551, 0.44897959,\n",
       "       0.45918367, 0.46938776, 0.47959184, 0.48979592, 0.5       ])"
      ]
     },
     "metadata": {},
     "execution_count": 5
    }
   ],
   "metadata": {
    "scrolled": false
   }
  },
  {
   "cell_type": "markdown",
   "source": [
    "to check the length of data, you can type the `len(variable name)` function as follows"
   ],
   "metadata": {}
  },
  {
   "cell_type": "code",
   "execution_count": 6,
   "source": [
    "len(arr_linspace)"
   ],
   "outputs": [
    {
     "output_type": "execute_result",
     "data": {
      "text/plain": [
       "50"
      ]
     },
     "metadata": {},
     "execution_count": 6
    }
   ],
   "metadata": {
    "scrolled": true
   }
  },
  {
   "cell_type": "markdown",
   "source": [
    "as we can see, the array has been generated start from 0 to 0.5 for 50 length of data as default configuration. Next, We generate an array with input a length of data e.g. 70 data and assign the result to `arr_linspace_length` variable as follows"
   ],
   "metadata": {}
  },
  {
   "cell_type": "code",
   "execution_count": 7,
   "source": [
    "arr_linspace_length = np.linspace(0,0.5,70)\r\n",
    "arr_linspace_length"
   ],
   "outputs": [
    {
     "output_type": "execute_result",
     "data": {
      "text/plain": [
       "array([0.        , 0.00724638, 0.01449275, 0.02173913, 0.02898551,\n",
       "       0.03623188, 0.04347826, 0.05072464, 0.05797101, 0.06521739,\n",
       "       0.07246377, 0.07971014, 0.08695652, 0.0942029 , 0.10144928,\n",
       "       0.10869565, 0.11594203, 0.12318841, 0.13043478, 0.13768116,\n",
       "       0.14492754, 0.15217391, 0.15942029, 0.16666667, 0.17391304,\n",
       "       0.18115942, 0.1884058 , 0.19565217, 0.20289855, 0.21014493,\n",
       "       0.2173913 , 0.22463768, 0.23188406, 0.23913043, 0.24637681,\n",
       "       0.25362319, 0.26086957, 0.26811594, 0.27536232, 0.2826087 ,\n",
       "       0.28985507, 0.29710145, 0.30434783, 0.3115942 , 0.31884058,\n",
       "       0.32608696, 0.33333333, 0.34057971, 0.34782609, 0.35507246,\n",
       "       0.36231884, 0.36956522, 0.37681159, 0.38405797, 0.39130435,\n",
       "       0.39855072, 0.4057971 , 0.41304348, 0.42028986, 0.42753623,\n",
       "       0.43478261, 0.44202899, 0.44927536, 0.45652174, 0.46376812,\n",
       "       0.47101449, 0.47826087, 0.48550725, 0.49275362, 0.5       ])"
      ]
     },
     "metadata": {},
     "execution_count": 7
    }
   ],
   "metadata": {
    "scrolled": true
   }
  },
  {
   "cell_type": "markdown",
   "source": [
    "##### 1.1.3 List\n",
    "\n",
    "We can also convert an array data type to list data type as follows"
   ],
   "metadata": {}
  },
  {
   "cell_type": "code",
   "execution_count": 8,
   "source": [
    "list(arr_linspace)"
   ],
   "outputs": [
    {
     "output_type": "execute_result",
     "data": {
      "text/plain": [
       "[0.0,\n",
       " 0.01020408163265306,\n",
       " 0.02040816326530612,\n",
       " 0.030612244897959183,\n",
       " 0.04081632653061224,\n",
       " 0.0510204081632653,\n",
       " 0.061224489795918366,\n",
       " 0.07142857142857142,\n",
       " 0.08163265306122448,\n",
       " 0.09183673469387754,\n",
       " 0.1020408163265306,\n",
       " 0.11224489795918366,\n",
       " 0.12244897959183673,\n",
       " 0.13265306122448978,\n",
       " 0.14285714285714285,\n",
       " 0.1530612244897959,\n",
       " 0.16326530612244897,\n",
       " 0.17346938775510204,\n",
       " 0.18367346938775508,\n",
       " 0.19387755102040816,\n",
       " 0.2040816326530612,\n",
       " 0.21428571428571427,\n",
       " 0.22448979591836732,\n",
       " 0.2346938775510204,\n",
       " 0.24489795918367346,\n",
       " 0.25510204081632654,\n",
       " 0.26530612244897955,\n",
       " 0.2755102040816326,\n",
       " 0.2857142857142857,\n",
       " 0.29591836734693877,\n",
       " 0.3061224489795918,\n",
       " 0.31632653061224486,\n",
       " 0.32653061224489793,\n",
       " 0.336734693877551,\n",
       " 0.3469387755102041,\n",
       " 0.3571428571428571,\n",
       " 0.36734693877551017,\n",
       " 0.37755102040816324,\n",
       " 0.3877551020408163,\n",
       " 0.39795918367346933,\n",
       " 0.4081632653061224,\n",
       " 0.4183673469387755,\n",
       " 0.42857142857142855,\n",
       " 0.4387755102040816,\n",
       " 0.44897959183673464,\n",
       " 0.4591836734693877,\n",
       " 0.4693877551020408,\n",
       " 0.47959183673469385,\n",
       " 0.4897959183673469,\n",
       " 0.5]"
      ]
     },
     "metadata": {},
     "execution_count": 8
    }
   ],
   "metadata": {}
  },
  {
   "cell_type": "markdown",
   "source": [
    "#### 1.2 Generating 'Zeros' Element of Array\r\n",
    "\r\n",
    "The easy to generate an array that contain of zero by using `np.zeros(length of data)` method."
   ],
   "metadata": {}
  },
  {
   "cell_type": "code",
   "execution_count": 9,
   "source": [
    "arr_zeros = np.zeros(10)\r\n",
    "arr_zeros"
   ],
   "outputs": [
    {
     "output_type": "execute_result",
     "data": {
      "text/plain": [
       "array([0., 0., 0., 0., 0., 0., 0., 0., 0., 0.])"
      ]
     },
     "metadata": {},
     "execution_count": 9
    }
   ],
   "metadata": {
    "scrolled": true
   }
  },
  {
   "cell_type": "markdown",
   "source": [
    "#### 1.3 Generating 'Ones' Element of Array"
   ],
   "metadata": {}
  },
  {
   "cell_type": "code",
   "execution_count": 10,
   "source": [
    "arr_ones = np.ones(10)\r\n",
    "arr_ones"
   ],
   "outputs": [
    {
     "output_type": "execute_result",
     "data": {
      "text/plain": [
       "array([1., 1., 1., 1., 1., 1., 1., 1., 1., 1.])"
      ]
     },
     "metadata": {},
     "execution_count": 10
    }
   ],
   "metadata": {
    "scrolled": true
   }
  },
  {
   "cell_type": "markdown",
   "source": [
    "#### 1.4 Array Index\r\n",
    "\r\n",
    "If we want to access a specific value from the array, we have to identify its index number. In Python, the first index number is started from 0, the second index is 1 and so on. For example, we create a new array that assigned to `array_select`. The array start from 0 to 10 where the step is 2."
   ],
   "metadata": {}
  },
  {
   "cell_type": "code",
   "execution_count": 11,
   "source": [
    "array_select = np.arange(0,10,2)\r\n",
    "array_select"
   ],
   "outputs": [
    {
     "output_type": "execute_result",
     "data": {
      "text/plain": [
       "array([0, 2, 4, 6, 8])"
      ]
     },
     "metadata": {},
     "execution_count": 11
    }
   ],
   "metadata": {
    "scrolled": true
   }
  },
  {
   "cell_type": "markdown",
   "source": [
    "we take the third data which is 4. This data is in index number of 2."
   ],
   "metadata": {}
  },
  {
   "cell_type": "code",
   "execution_count": 12,
   "source": [
    "array_select[2]"
   ],
   "outputs": [
    {
     "output_type": "execute_result",
     "data": {
      "text/plain": [
       "4"
      ]
     },
     "metadata": {},
     "execution_count": 12
    }
   ],
   "metadata": {}
  },
  {
   "cell_type": "markdown",
   "source": [
    "_**Remember, in Python, the first index is started from 0**_. "
   ],
   "metadata": {}
  },
  {
   "cell_type": "markdown",
   "source": [
    "#### 1.5 Generating Random Array\r\n",
    "\r\n",
    "##### 1.5.1 One Dimensional Array\r\n",
    "\r\n",
    "Numpy has a random method to generate a random array values. The format to call this method is `np.random.[method](length of data)`. Generally, there are three methods in random class, `rand`, `randn`, and `randint`. \r\n",
    "\r\n",
    "1. `rand(row,col)`    : generate a standard random array.\r\n",
    "2. `randn(row,col)`   : generate a random array based on normal distribution.\r\n",
    "3. `randint(low, high=None, size=None)` : generate a single integer random number as default."
   ],
   "metadata": {}
  },
  {
   "cell_type": "code",
   "execution_count": 13,
   "source": [
    "arr_random = np.random.rand(5)\r\n",
    "arr_random"
   ],
   "outputs": [
    {
     "output_type": "execute_result",
     "data": {
      "text/plain": [
       "array([0.90022676, 0.22417264, 0.32403378, 0.36732793, 0.88093517])"
      ]
     },
     "metadata": {},
     "execution_count": 13
    }
   ],
   "metadata": {
    "scrolled": true
   }
  },
  {
   "cell_type": "code",
   "execution_count": 14,
   "source": [
    "arr_randn = np.random.randn(5)\r\n",
    "arr_randn"
   ],
   "outputs": [
    {
     "output_type": "execute_result",
     "data": {
      "text/plain": [
       "array([ 0.40970403,  0.27031669, -0.7018042 , -0.20312626,  1.34566041])"
      ]
     },
     "metadata": {},
     "execution_count": 14
    }
   ],
   "metadata": {
    "scrolled": true
   }
  },
  {
   "cell_type": "code",
   "execution_count": 15,
   "source": [
    "arr_randint = np.random.randint(2,5,size=10)\r\n",
    "arr_randint"
   ],
   "outputs": [
    {
     "output_type": "execute_result",
     "data": {
      "text/plain": [
       "array([2, 3, 4, 3, 2, 2, 3, 3, 4, 3])"
      ]
     },
     "metadata": {},
     "execution_count": 15
    }
   ],
   "metadata": {
    "scrolled": true
   }
  },
  {
   "cell_type": "markdown",
   "source": [
    "##### 1.5.2 Two Dimensional Array\r\n",
    "\r\n",
    "We have generated a 1D array. Next, we generate a 2D array by using numpy library. To do this, we apply an `array` method as the following command."
   ],
   "metadata": {}
  },
  {
   "cell_type": "code",
   "execution_count": 16,
   "source": [
    "arr_2d = np.array([[1,2,3,4,5],[6,7,8,9,10]])\r\n",
    "arr_2d"
   ],
   "outputs": [
    {
     "output_type": "execute_result",
     "data": {
      "text/plain": [
       "array([[ 1,  2,  3,  4,  5],\n",
       "       [ 6,  7,  8,  9, 10]])"
      ]
     },
     "metadata": {},
     "execution_count": 16
    }
   ],
   "metadata": {
    "scrolled": true
   }
  },
  {
   "cell_type": "markdown",
   "source": [
    "Now, we have 2D array that contains 2 rows and 5 columns. By using array method, we have to set the element of array manually as above command. We can use a `random.rand()` or `random.randn()` method to generate a random 2D array. For example, we generate array that contains 5 rows and 5 columns."
   ],
   "metadata": {}
  },
  {
   "cell_type": "code",
   "execution_count": 17,
   "source": [
    "arr_2d_random = np.random.rand(5,5)\r\n",
    "arr_2d_random"
   ],
   "outputs": [
    {
     "output_type": "execute_result",
     "data": {
      "text/plain": [
       "array([[0.5555139 , 0.85471785, 0.73958349, 0.77465948, 0.13971381],\n",
       "       [0.58507723, 0.30383857, 0.45714341, 0.48466396, 0.67879786],\n",
       "       [0.23206128, 0.45351292, 0.53072836, 0.63151041, 0.03496032],\n",
       "       [0.35654549, 0.78389237, 0.22888981, 0.6419262 , 0.16701122],\n",
       "       [0.76313648, 0.05833152, 0.840314  , 0.64645914, 0.64715967]])"
      ]
     },
     "metadata": {},
     "execution_count": 17
    }
   ],
   "metadata": {
    "scrolled": true
   }
  },
  {
   "cell_type": "markdown",
   "source": [
    "#### 1.6 Array Modification\n",
    "\n",
    "##### 1.6.1 Element Change of 1D array\n",
    "An element in an array can be modified or changed to another value. For example, we use `arr_random` variable that has been created previously."
   ],
   "metadata": {}
  },
  {
   "cell_type": "code",
   "execution_count": 18,
   "source": [
    "arr_random"
   ],
   "outputs": [
    {
     "output_type": "execute_result",
     "data": {
      "text/plain": [
       "array([0.90022676, 0.22417264, 0.32403378, 0.36732793, 0.88093517])"
      ]
     },
     "metadata": {},
     "execution_count": 18
    }
   ],
   "metadata": {
    "scrolled": true
   }
  },
  {
   "cell_type": "markdown",
   "source": [
    "We take a value which in the third data or equal to index number of 2 as follows"
   ],
   "metadata": {}
  },
  {
   "cell_type": "code",
   "execution_count": 19,
   "source": [
    "arr_random[2]"
   ],
   "outputs": [
    {
     "output_type": "execute_result",
     "data": {
      "text/plain": [
       "0.32403377562594715"
      ]
     },
     "metadata": {},
     "execution_count": 19
    }
   ],
   "metadata": {
    "scrolled": true
   }
  },
  {
   "cell_type": "markdown",
   "source": [
    "and to change this value (e.g. 100), we can write by following command"
   ],
   "metadata": {}
  },
  {
   "cell_type": "code",
   "execution_count": 20,
   "source": [
    "arr_random[2] = 100\r\n",
    "arr_random"
   ],
   "outputs": [
    {
     "output_type": "execute_result",
     "data": {
      "text/plain": [
       "array([  0.90022676,   0.22417264, 100.        ,   0.36732793,\n",
       "         0.88093517])"
      ]
     },
     "metadata": {},
     "execution_count": 20
    }
   ],
   "metadata": {
    "scrolled": true
   }
  },
  {
   "cell_type": "markdown",
   "source": [
    "and now, the value has been changed.\n",
    "\n",
    "##### 1.6.2 Element Change of 2D Array\n",
    "\n",
    "We have generated a 2D array that assign to `arr_2d` and `arr_2d_random` variables. To show an element of 2D array, we use the format `variable[row index][column index]`. Let's use the `arr_2d` variable for example."
   ],
   "metadata": {}
  },
  {
   "cell_type": "code",
   "execution_count": 21,
   "source": [
    "arr_2d"
   ],
   "outputs": [
    {
     "output_type": "execute_result",
     "data": {
      "text/plain": [
       "array([[ 1,  2,  3,  4,  5],\n",
       "       [ 6,  7,  8,  9, 10]])"
      ]
     },
     "metadata": {},
     "execution_count": 21
    }
   ],
   "metadata": {
    "scrolled": true
   }
  },
  {
   "cell_type": "markdown",
   "source": [
    "We want to take a value of 4 from the `arr_2d` variable. The value of 4 is in the first row (index of 0) and the forth column (index of 3). Then, we get this value and assign to `value` variable by using command bellow"
   ],
   "metadata": {}
  },
  {
   "cell_type": "code",
   "execution_count": 22,
   "source": [
    "value = arr_2d[0][3]\r\n",
    "value"
   ],
   "outputs": [
    {
     "output_type": "execute_result",
     "data": {
      "text/plain": [
       "4"
      ]
     },
     "metadata": {},
     "execution_count": 22
    }
   ],
   "metadata": {
    "scrolled": true
   }
  },
  {
   "cell_type": "markdown",
   "source": [
    "To change this element just type"
   ],
   "metadata": {}
  },
  {
   "cell_type": "code",
   "execution_count": 23,
   "source": [
    "arr_2d[0][3] = 10\r\n",
    "arr_2d"
   ],
   "outputs": [
    {
     "output_type": "execute_result",
     "data": {
      "text/plain": [
       "array([[ 1,  2,  3, 10,  5],\n",
       "       [ 6,  7,  8,  9, 10]])"
      ]
     },
     "metadata": {},
     "execution_count": 23
    }
   ],
   "metadata": {
    "scrolled": true
   }
  },
  {
   "cell_type": "markdown",
   "source": [
    "the value of 4 has been changed become 10."
   ],
   "metadata": {}
  },
  {
   "cell_type": "markdown",
   "source": [
    "#### 1.7 Slicing an Array\r\n",
    "\r\n",
    "##### 1.7.1 1D Array\r\n",
    "\r\n",
    "We can slice a few element of an array based on its index. We use \r\n",
    "\r\n",
    "1. `variable[:index number]` to slice all values in array from first index to index number (the data at this index number is not include in the result),\r\n",
    "2. `variable[index number:]` to slice all values in array from index number to end of index and\r\n",
    "3. `variable[start index number: stop index number]` to slice an array in between index number (the data at this stop index number is not include in the result)\r\n",
    "\r\n",
    "Let's try to `array_select` variable to apply this slice methods."
   ],
   "metadata": {}
  },
  {
   "cell_type": "code",
   "execution_count": 24,
   "source": [
    "array_select"
   ],
   "outputs": [
    {
     "output_type": "execute_result",
     "data": {
      "text/plain": [
       "array([0, 2, 4, 6, 8])"
      ]
     },
     "metadata": {},
     "execution_count": 24
    }
   ],
   "metadata": {}
  },
  {
   "cell_type": "code",
   "execution_count": 25,
   "source": [
    "arr_slice_first = array_select[:3]\r\n",
    "arr_slice_first"
   ],
   "outputs": [
    {
     "output_type": "execute_result",
     "data": {
      "text/plain": [
       "array([0, 2, 4])"
      ]
     },
     "metadata": {},
     "execution_count": 25
    }
   ],
   "metadata": {
    "scrolled": true
   }
  },
  {
   "cell_type": "code",
   "execution_count": 26,
   "source": [
    "arr_slice_end = array_select[3:]\r\n",
    "arr_slice_end"
   ],
   "outputs": [
    {
     "output_type": "execute_result",
     "data": {
      "text/plain": [
       "array([6, 8])"
      ]
     },
     "metadata": {},
     "execution_count": 26
    }
   ],
   "metadata": {
    "scrolled": true
   }
  },
  {
   "cell_type": "code",
   "execution_count": 27,
   "source": [
    "arr_slice_between = array_select[2:4]\r\n",
    "arr_slice_between"
   ],
   "outputs": [
    {
     "output_type": "execute_result",
     "data": {
      "text/plain": [
       "array([4, 6])"
      ]
     },
     "metadata": {},
     "execution_count": 27
    }
   ],
   "metadata": {
    "scrolled": true
   }
  },
  {
   "cell_type": "markdown",
   "source": [
    "##### 1.7.2 2D Array\r\n",
    "\r\n",
    "We are going to slice 2D array from `arr_2d` variable and get a sub array from it."
   ],
   "metadata": {}
  },
  {
   "cell_type": "code",
   "execution_count": 28,
   "source": [
    "arr_2d"
   ],
   "outputs": [
    {
     "output_type": "execute_result",
     "data": {
      "text/plain": [
       "array([[ 1,  2,  3, 10,  5],\n",
       "       [ 6,  7,  8,  9, 10]])"
      ]
     },
     "metadata": {},
     "execution_count": 28
    }
   ],
   "metadata": {
    "scrolled": true
   }
  },
  {
   "cell_type": "markdown",
   "source": [
    "We want to get the element of 1, 2, 6 and 7 of 2D array where:\r\n",
    "    \r\n",
    "    - the value of 1 is in the first row (index of 0) and the first column (index of 0),\r\n",
    "    - the value of 2 is in the first row (index of 0) and the second column (index of 1),\r\n",
    "    - the value of 6 is in the second row (index of 1) and the first column (index of 0),\r\n",
    "    - the value of 7 is in the second row (index of 1) and the second column (index of 1).\r\n",
    "  \r\n",
    " Then we can assign these values to `arr_2d_new` as follows"
   ],
   "metadata": {}
  },
  {
   "cell_type": "code",
   "execution_count": 29,
   "source": [
    "arr_2d_new = arr_2d[0:2,0:2]\r\n",
    "\r\n",
    "arr_2d_new"
   ],
   "outputs": [
    {
     "output_type": "execute_result",
     "data": {
      "text/plain": [
       "array([[1, 2],\n",
       "       [6, 7]])"
      ]
     },
     "metadata": {},
     "execution_count": 29
    }
   ],
   "metadata": {
    "scrolled": true
   }
  },
  {
   "cell_type": "markdown",
   "source": [
    "_Remember that, to get the last value of each dimension (e.g. 2 and 7 these values are in the second data of column which is index of 1 in Python order. So, the index number that you have to write to slice it is 1+1=2)_"
   ],
   "metadata": {}
  },
  {
   "cell_type": "markdown",
   "source": [
    "#### 1.8 Basic Mathematics Operations\n",
    "\n",
    "We can apply basic mathematical operation in array, such as summation, subtraction, multiplication and division. In Python, array can be calculated directly with another array or value. For example, we use `arr_randint` variable that has been created previous [sub-chapter](#1.-One-Dimensional-Array)."
   ],
   "metadata": {}
  },
  {
   "cell_type": "code",
   "execution_count": 30,
   "source": [
    "arr_randint"
   ],
   "outputs": [
    {
     "output_type": "execute_result",
     "data": {
      "text/plain": [
       "array([2, 3, 4, 3, 2, 2, 3, 3, 4, 3])"
      ]
     },
     "metadata": {},
     "execution_count": 30
    }
   ],
   "metadata": {
    "scrolled": true
   }
  },
  {
   "cell_type": "markdown",
   "source": [
    "Then, we create a new array that has same size with `arr_randint` which is 10."
   ],
   "metadata": {}
  },
  {
   "cell_type": "code",
   "execution_count": 31,
   "source": [
    "arr_new = np.random.randint(1,10,size=10)\r\n",
    "arr_new"
   ],
   "outputs": [
    {
     "output_type": "execute_result",
     "data": {
      "text/plain": [
       "array([6, 2, 9, 1, 6, 3, 5, 2, 3, 3])"
      ]
     },
     "metadata": {},
     "execution_count": 31
    }
   ],
   "metadata": {
    "scrolled": true
   }
  },
  {
   "cell_type": "markdown",
   "source": [
    "##### 1.8.1 Summation and Subtraction\n",
    "\n",
    "To add these two arrays, we can apply a simple way"
   ],
   "metadata": {}
  },
  {
   "cell_type": "code",
   "execution_count": 32,
   "source": [
    "arr_addition = arr_randint + arr_new\r\n",
    "arr_addition"
   ],
   "outputs": [
    {
     "output_type": "execute_result",
     "data": {
      "text/plain": [
       "array([ 8,  5, 13,  4,  8,  5,  8,  5,  7,  6])"
      ]
     },
     "metadata": {},
     "execution_count": 32
    }
   ],
   "metadata": {
    "scrolled": true
   }
  },
  {
   "cell_type": "markdown",
   "source": [
    "and to suctraction"
   ],
   "metadata": {}
  },
  {
   "cell_type": "code",
   "execution_count": 33,
   "source": [
    "arr_subtraction = arr_randint - arr_new\r\n",
    "arr_subtraction"
   ],
   "outputs": [
    {
     "output_type": "execute_result",
     "data": {
      "text/plain": [
       "array([-4,  1, -5,  2, -4, -1, -2,  1,  1,  0])"
      ]
     },
     "metadata": {},
     "execution_count": 33
    }
   ],
   "metadata": {
    "scrolled": true
   }
  },
  {
   "cell_type": "markdown",
   "source": [
    "Then, we add the `arr_randint` to a value = 5"
   ],
   "metadata": {}
  },
  {
   "cell_type": "code",
   "execution_count": 34,
   "source": [
    "value = 5"
   ],
   "outputs": [],
   "metadata": {
    "scrolled": true
   }
  },
  {
   "cell_type": "code",
   "execution_count": 35,
   "source": [
    "arr_addition_value = arr_randint + value\r\n",
    "arr_addition_value"
   ],
   "outputs": [
    {
     "output_type": "execute_result",
     "data": {
      "text/plain": [
       "array([7, 8, 9, 8, 7, 7, 8, 8, 9, 8])"
      ]
     },
     "metadata": {},
     "execution_count": 35
    }
   ],
   "metadata": {
    "scrolled": true
   }
  },
  {
   "cell_type": "markdown",
   "source": [
    "and subtraction"
   ],
   "metadata": {}
  },
  {
   "cell_type": "code",
   "execution_count": 36,
   "source": [
    "arr_subtraction_value = arr_randint - value\r\n",
    "arr_subtraction_value"
   ],
   "outputs": [
    {
     "output_type": "execute_result",
     "data": {
      "text/plain": [
       "array([-3, -2, -1, -2, -3, -3, -2, -2, -1, -2])"
      ]
     },
     "metadata": {},
     "execution_count": 36
    }
   ],
   "metadata": {
    "scrolled": true
   }
  },
  {
   "cell_type": "markdown",
   "source": [
    "##### 1.8.2 Multiplication and Division\n",
    "\n",
    "Next, we apply a multiplication in these two arrays (`arr_randint` and `arr_new`)"
   ],
   "metadata": {}
  },
  {
   "cell_type": "code",
   "execution_count": 37,
   "source": [
    "arr_multiplication = arr_randint * arr_new\r\n",
    "arr_multiplication"
   ],
   "outputs": [
    {
     "output_type": "execute_result",
     "data": {
      "text/plain": [
       "array([12,  6, 36,  3, 12,  6, 15,  6, 12,  9])"
      ]
     },
     "metadata": {},
     "execution_count": 37
    }
   ],
   "metadata": {
    "scrolled": true
   }
  },
  {
   "cell_type": "markdown",
   "source": [
    "The multiplication process between two arrays will multiply for each pair element and this process also applies in division process"
   ],
   "metadata": {}
  },
  {
   "cell_type": "code",
   "execution_count": 38,
   "source": [
    "arr_division = arr_randint / arr_new\r\n",
    "arr_division"
   ],
   "outputs": [
    {
     "output_type": "execute_result",
     "data": {
      "text/plain": [
       "array([0.33333333, 1.5       , 0.44444444, 3.        , 0.33333333,\n",
       "       0.66666667, 0.6       , 1.5       , 1.33333333, 1.        ])"
      ]
     },
     "metadata": {},
     "execution_count": 38
    }
   ],
   "metadata": {
    "scrolled": true
   }
  },
  {
   "cell_type": "markdown",
   "source": [
    "The multiplication or division of array to a value also can be applied, where"
   ],
   "metadata": {}
  },
  {
   "cell_type": "code",
   "execution_count": 39,
   "source": [
    "value"
   ],
   "outputs": [
    {
     "output_type": "execute_result",
     "data": {
      "text/plain": [
       "5"
      ]
     },
     "metadata": {},
     "execution_count": 39
    }
   ],
   "metadata": {
    "scrolled": true
   }
  },
  {
   "cell_type": "code",
   "execution_count": 40,
   "source": [
    "arr_multiplication_value = arr_randint * value\r\n",
    "arr_multiplication_value"
   ],
   "outputs": [
    {
     "output_type": "execute_result",
     "data": {
      "text/plain": [
       "array([10, 15, 20, 15, 10, 10, 15, 15, 20, 15])"
      ]
     },
     "metadata": {},
     "execution_count": 40
    }
   ],
   "metadata": {
    "scrolled": true
   }
  },
  {
   "cell_type": "code",
   "execution_count": 41,
   "source": [
    "arr_division_value = arr_randint / value\r\n",
    "arr_division_value"
   ],
   "outputs": [
    {
     "output_type": "execute_result",
     "data": {
      "text/plain": [
       "array([0.4, 0.6, 0.8, 0.6, 0.4, 0.4, 0.6, 0.6, 0.8, 0.6])"
      ]
     },
     "metadata": {},
     "execution_count": 41
    }
   ],
   "metadata": {
    "scrolled": true
   }
  },
  {
   "cell_type": "markdown",
   "source": [
    "##### 1.8.3 Trigonometry\n",
    "\n",
    "The numpy library has a method to calculate trigonometry cases, such as sin, cos tan and much more. For example,"
   ],
   "metadata": {}
  },
  {
   "cell_type": "code",
   "execution_count": 42,
   "source": [
    "mat_sin = np.sin(90)\r\n",
    "mat_sin"
   ],
   "outputs": [
    {
     "output_type": "execute_result",
     "data": {
      "text/plain": [
       "0.8939966636005579"
      ]
     },
     "metadata": {},
     "execution_count": 42
    }
   ],
   "metadata": {
    "scrolled": true
   }
  },
  {
   "cell_type": "markdown",
   "source": [
    "as we can see, the result of sin(90) is 0.89 as degree unit. If we want to get the result as radian unit, we have to convert it by multiplying `np.pi/180` as follows"
   ],
   "metadata": {}
  },
  {
   "cell_type": "code",
   "execution_count": 43,
   "source": [
    "mat_sin_degree = np.sin(90*(np.pi/180))\r\n",
    "mat_sin_degree"
   ],
   "outputs": [
    {
     "output_type": "execute_result",
     "data": {
      "text/plain": [
       "1.0"
      ]
     },
     "metadata": {},
     "execution_count": 43
    }
   ],
   "metadata": {
    "scrolled": true
   }
  },
  {
   "cell_type": "markdown",
   "source": [
    "we also can calculate the inverse of sin to degree unit by multiplying the radian with `180/np.i` as follows"
   ],
   "metadata": {}
  },
  {
   "cell_type": "code",
   "execution_count": 44,
   "source": [
    "mat_inv_sin_degree = np.arcsin(1)*(180/np.pi)\r\n",
    "mat_inv_sin_degree"
   ],
   "outputs": [
    {
     "output_type": "execute_result",
     "data": {
      "text/plain": [
       "90.0"
      ]
     },
     "metadata": {},
     "execution_count": 44
    }
   ],
   "metadata": {
    "scrolled": true
   }
  },
  {
   "cell_type": "markdown",
   "source": [
    "the constant of pi is called by `np.pi` from numpy library.\n",
    "\n",
    "#### 1.9 More Numpy's Methods\n",
    "\n",
    "You can find out more the methods in Numpy library by type `dir(np)` in Python shell or this notebook if you use its alias."
   ],
   "metadata": {}
  },
  {
   "cell_type": "markdown",
   "source": [
    "### 2. Pandas\r\n",
    "\r\n",
    "[Pandas](https://pandas.pydata.org/) is one of many Python libraries. This library is very helpful when we are working with a sturcture data such as in CSV/Excel file format. We can easily read a file that containt a lot of data. Firts, we have to import the Pandas and write the `pd` as its alias."
   ],
   "metadata": {}
  },
  {
   "cell_type": "markdown",
   "source": [
    "#### 2.1 Read and Save CSV File"
   ],
   "metadata": {}
  },
  {
   "cell_type": "code",
   "execution_count": 45,
   "source": [
    "import pandas as pd"
   ],
   "outputs": [],
   "metadata": {
    "scrolled": true
   }
  },
  {
   "cell_type": "markdown",
   "source": [
    "In this case, We use an earthquake data around Aceh that  has been downloaded from [Earthquake Catalog of USGS](https://earthquake.usgs.gov/earthquakes/search/). The file name has been saved as `earthquake_aceh_usgs.csv`. So, we are going to read this file by using `pd.read_csv` method from Pandas and assign this file to `data` variable as follows"
   ],
   "metadata": {}
  },
  {
   "cell_type": "code",
   "execution_count": 46,
   "source": [
    "data = pd.read_csv('earthquake_aceh_usgs.csv')\r\n",
    "data.head()"
   ],
   "outputs": [
    {
     "output_type": "execute_result",
     "data": {
      "text/plain": [
       "                       time  latitude  longitude   depth  mag magType  nst  \\\n",
       "0  2021-05-02T20:49:43.322Z    5.3234    94.6170   63.97  5.0      mb  NaN   \n",
       "1  2021-05-02T13:02:17.751Z    4.0461    95.7566   50.03  4.6      mb  NaN   \n",
       "2  2021-04-17T01:04:53.776Z    5.1158    95.4508  100.74  5.0     mww  NaN   \n",
       "3  2021-04-09T15:14:31.108Z    4.8116    96.2611   27.57  4.3      mb  NaN   \n",
       "4  2021-04-09T08:08:58.946Z    3.0723    96.3738   55.17  4.2      mb  NaN   \n",
       "\n",
       "   gap   dmin   rms  ...                   updated  \\\n",
       "0  132  2.322  0.87  ...  2021-05-02T21:02:32.040Z   \n",
       "1  129  1.669  0.86  ...  2021-05-09T13:22:24.040Z   \n",
       "2   50  1.494  1.13  ...  2021-04-17T02:23:46.858Z   \n",
       "3  167  0.799  1.01  ...  2021-04-25T16:21:42.040Z   \n",
       "4  173  2.127  0.48  ...  2021-04-23T04:41:16.040Z   \n",
       "\n",
       "                                place        type horizontalError depthError  \\\n",
       "0  82 km WSW of Banda Aceh, Indonesia  earthquake             9.6        7.6   \n",
       "1    42 km WSW of Meulaboh, Indonesia  earthquake             7.6        8.2   \n",
       "2  48 km SSE of Banda Aceh, Indonesia  earthquake             8.2        6.3   \n",
       "3      44 km S of Reuleuet, Indonesia  earthquake             5.9        5.9   \n",
       "4      65 km N of Sinabang, Indonesia  earthquake             7.4        9.2   \n",
       "\n",
       "   magError  magNst    status  locationSource magSource  \n",
       "0     0.099      32  reviewed              us        us  \n",
       "1     0.136      16  reviewed              us        us  \n",
       "2     0.098      10  reviewed              us        us  \n",
       "3     0.153      14  reviewed              us        us  \n",
       "4     0.121      19  reviewed              us        us  \n",
       "\n",
       "[5 rows x 22 columns]"
      ],
      "text/html": [
       "<div>\n",
       "<style scoped>\n",
       "    .dataframe tbody tr th:only-of-type {\n",
       "        vertical-align: middle;\n",
       "    }\n",
       "\n",
       "    .dataframe tbody tr th {\n",
       "        vertical-align: top;\n",
       "    }\n",
       "\n",
       "    .dataframe thead th {\n",
       "        text-align: right;\n",
       "    }\n",
       "</style>\n",
       "<table border=\"1\" class=\"dataframe\">\n",
       "  <thead>\n",
       "    <tr style=\"text-align: right;\">\n",
       "      <th></th>\n",
       "      <th>time</th>\n",
       "      <th>latitude</th>\n",
       "      <th>longitude</th>\n",
       "      <th>depth</th>\n",
       "      <th>mag</th>\n",
       "      <th>magType</th>\n",
       "      <th>nst</th>\n",
       "      <th>gap</th>\n",
       "      <th>dmin</th>\n",
       "      <th>rms</th>\n",
       "      <th>...</th>\n",
       "      <th>updated</th>\n",
       "      <th>place</th>\n",
       "      <th>type</th>\n",
       "      <th>horizontalError</th>\n",
       "      <th>depthError</th>\n",
       "      <th>magError</th>\n",
       "      <th>magNst</th>\n",
       "      <th>status</th>\n",
       "      <th>locationSource</th>\n",
       "      <th>magSource</th>\n",
       "    </tr>\n",
       "  </thead>\n",
       "  <tbody>\n",
       "    <tr>\n",
       "      <th>0</th>\n",
       "      <td>2021-05-02T20:49:43.322Z</td>\n",
       "      <td>5.3234</td>\n",
       "      <td>94.6170</td>\n",
       "      <td>63.97</td>\n",
       "      <td>5.0</td>\n",
       "      <td>mb</td>\n",
       "      <td>NaN</td>\n",
       "      <td>132</td>\n",
       "      <td>2.322</td>\n",
       "      <td>0.87</td>\n",
       "      <td>...</td>\n",
       "      <td>2021-05-02T21:02:32.040Z</td>\n",
       "      <td>82 km WSW of Banda Aceh, Indonesia</td>\n",
       "      <td>earthquake</td>\n",
       "      <td>9.6</td>\n",
       "      <td>7.6</td>\n",
       "      <td>0.099</td>\n",
       "      <td>32</td>\n",
       "      <td>reviewed</td>\n",
       "      <td>us</td>\n",
       "      <td>us</td>\n",
       "    </tr>\n",
       "    <tr>\n",
       "      <th>1</th>\n",
       "      <td>2021-05-02T13:02:17.751Z</td>\n",
       "      <td>4.0461</td>\n",
       "      <td>95.7566</td>\n",
       "      <td>50.03</td>\n",
       "      <td>4.6</td>\n",
       "      <td>mb</td>\n",
       "      <td>NaN</td>\n",
       "      <td>129</td>\n",
       "      <td>1.669</td>\n",
       "      <td>0.86</td>\n",
       "      <td>...</td>\n",
       "      <td>2021-05-09T13:22:24.040Z</td>\n",
       "      <td>42 km WSW of Meulaboh, Indonesia</td>\n",
       "      <td>earthquake</td>\n",
       "      <td>7.6</td>\n",
       "      <td>8.2</td>\n",
       "      <td>0.136</td>\n",
       "      <td>16</td>\n",
       "      <td>reviewed</td>\n",
       "      <td>us</td>\n",
       "      <td>us</td>\n",
       "    </tr>\n",
       "    <tr>\n",
       "      <th>2</th>\n",
       "      <td>2021-04-17T01:04:53.776Z</td>\n",
       "      <td>5.1158</td>\n",
       "      <td>95.4508</td>\n",
       "      <td>100.74</td>\n",
       "      <td>5.0</td>\n",
       "      <td>mww</td>\n",
       "      <td>NaN</td>\n",
       "      <td>50</td>\n",
       "      <td>1.494</td>\n",
       "      <td>1.13</td>\n",
       "      <td>...</td>\n",
       "      <td>2021-04-17T02:23:46.858Z</td>\n",
       "      <td>48 km SSE of Banda Aceh, Indonesia</td>\n",
       "      <td>earthquake</td>\n",
       "      <td>8.2</td>\n",
       "      <td>6.3</td>\n",
       "      <td>0.098</td>\n",
       "      <td>10</td>\n",
       "      <td>reviewed</td>\n",
       "      <td>us</td>\n",
       "      <td>us</td>\n",
       "    </tr>\n",
       "    <tr>\n",
       "      <th>3</th>\n",
       "      <td>2021-04-09T15:14:31.108Z</td>\n",
       "      <td>4.8116</td>\n",
       "      <td>96.2611</td>\n",
       "      <td>27.57</td>\n",
       "      <td>4.3</td>\n",
       "      <td>mb</td>\n",
       "      <td>NaN</td>\n",
       "      <td>167</td>\n",
       "      <td>0.799</td>\n",
       "      <td>1.01</td>\n",
       "      <td>...</td>\n",
       "      <td>2021-04-25T16:21:42.040Z</td>\n",
       "      <td>44 km S of Reuleuet, Indonesia</td>\n",
       "      <td>earthquake</td>\n",
       "      <td>5.9</td>\n",
       "      <td>5.9</td>\n",
       "      <td>0.153</td>\n",
       "      <td>14</td>\n",
       "      <td>reviewed</td>\n",
       "      <td>us</td>\n",
       "      <td>us</td>\n",
       "    </tr>\n",
       "    <tr>\n",
       "      <th>4</th>\n",
       "      <td>2021-04-09T08:08:58.946Z</td>\n",
       "      <td>3.0723</td>\n",
       "      <td>96.3738</td>\n",
       "      <td>55.17</td>\n",
       "      <td>4.2</td>\n",
       "      <td>mb</td>\n",
       "      <td>NaN</td>\n",
       "      <td>173</td>\n",
       "      <td>2.127</td>\n",
       "      <td>0.48</td>\n",
       "      <td>...</td>\n",
       "      <td>2021-04-23T04:41:16.040Z</td>\n",
       "      <td>65 km N of Sinabang, Indonesia</td>\n",
       "      <td>earthquake</td>\n",
       "      <td>7.4</td>\n",
       "      <td>9.2</td>\n",
       "      <td>0.121</td>\n",
       "      <td>19</td>\n",
       "      <td>reviewed</td>\n",
       "      <td>us</td>\n",
       "      <td>us</td>\n",
       "    </tr>\n",
       "  </tbody>\n",
       "</table>\n",
       "<p>5 rows × 22 columns</p>\n",
       "</div>"
      ]
     },
     "metadata": {},
     "execution_count": 46
    }
   ],
   "metadata": {
    "scrolled": false
   }
  },
  {
   "cell_type": "markdown",
   "source": [
    "The the `.head()` method is used to show only first-five from the data."
   ],
   "metadata": {}
  },
  {
   "cell_type": "markdown",
   "source": [
    "#### 2.1.1 Get an Information File\r\n",
    "\r\n",
    "The first thing to deal with a data, we have to know about the data information. Ti get the data information in pandas, we can use `.info()` method as follows"
   ],
   "metadata": {}
  },
  {
   "cell_type": "code",
   "execution_count": 47,
   "source": [
    "data.info()"
   ],
   "outputs": [
    {
     "output_type": "stream",
     "name": "stdout",
     "text": [
      "<class 'pandas.core.frame.DataFrame'>\n",
      "RangeIndex: 41 entries, 0 to 40\n",
      "Data columns (total 22 columns):\n",
      " #   Column           Non-Null Count  Dtype  \n",
      "---  ------           --------------  -----  \n",
      " 0   time             41 non-null     object \n",
      " 1   latitude         41 non-null     float64\n",
      " 2   longitude        41 non-null     float64\n",
      " 3   depth            41 non-null     float64\n",
      " 4   mag              41 non-null     float64\n",
      " 5   magType          41 non-null     object \n",
      " 6   nst              0 non-null      float64\n",
      " 7   gap              41 non-null     int64  \n",
      " 8   dmin             41 non-null     float64\n",
      " 9   rms              41 non-null     float64\n",
      " 10  net              41 non-null     object \n",
      " 11  id               41 non-null     object \n",
      " 12  updated          41 non-null     object \n",
      " 13  place            41 non-null     object \n",
      " 14  type             41 non-null     object \n",
      " 15  horizontalError  41 non-null     float64\n",
      " 16  depthError       41 non-null     float64\n",
      " 17  magError         41 non-null     float64\n",
      " 18  magNst           41 non-null     int64  \n",
      " 19  status           41 non-null     object \n",
      " 20  locationSource   41 non-null     object \n",
      " 21  magSource        41 non-null     object \n",
      "dtypes: float64(10), int64(2), object(10)\n",
      "memory usage: 7.2+ KB\n"
     ]
    }
   ],
   "metadata": {
    "scrolled": true
   }
  },
  {
   "cell_type": "markdown",
   "source": [
    "Here we are. Through this information, we can conclude there are:\r\n",
    "\r\n",
    "- 22 columns of data\r\n",
    "- 41 rows of data\r\n",
    "- The column of `nst` does not has a data (0 non-null) or NaN\r\n",
    "- three types data: object, int64  and float64\r\n",
    "\r\n",
    "We can easily to find out that how many dimension does this data have by using `[variable].shape` method"
   ],
   "metadata": {}
  },
  {
   "cell_type": "code",
   "execution_count": 48,
   "source": [
    "data.shape"
   ],
   "outputs": [
    {
     "output_type": "execute_result",
     "data": {
      "text/plain": [
       "(41, 22)"
      ]
     },
     "metadata": {},
     "execution_count": 48
    }
   ],
   "metadata": {}
  },
  {
   "cell_type": "markdown",
   "source": [
    "#### 2.1.2 Removing a Certain Data\n",
    "\n",
    "Because the column of `nst` has a NaN data, we can remove this column and assign to new variable of `new_data`. To remove, we can apply"
   ],
   "metadata": {}
  },
  {
   "cell_type": "code",
   "execution_count": 49,
   "source": [
    "new_data = data.drop('nst',axis=1)"
   ],
   "outputs": [],
   "metadata": {
    "scrolled": true
   }
  },
  {
   "cell_type": "code",
   "execution_count": 50,
   "source": [
    "new_data.info()"
   ],
   "outputs": [
    {
     "output_type": "stream",
     "name": "stdout",
     "text": [
      "<class 'pandas.core.frame.DataFrame'>\n",
      "RangeIndex: 41 entries, 0 to 40\n",
      "Data columns (total 21 columns):\n",
      " #   Column           Non-Null Count  Dtype  \n",
      "---  ------           --------------  -----  \n",
      " 0   time             41 non-null     object \n",
      " 1   latitude         41 non-null     float64\n",
      " 2   longitude        41 non-null     float64\n",
      " 3   depth            41 non-null     float64\n",
      " 4   mag              41 non-null     float64\n",
      " 5   magType          41 non-null     object \n",
      " 6   gap              41 non-null     int64  \n",
      " 7   dmin             41 non-null     float64\n",
      " 8   rms              41 non-null     float64\n",
      " 9   net              41 non-null     object \n",
      " 10  id               41 non-null     object \n",
      " 11  updated          41 non-null     object \n",
      " 12  place            41 non-null     object \n",
      " 13  type             41 non-null     object \n",
      " 14  horizontalError  41 non-null     float64\n",
      " 15  depthError       41 non-null     float64\n",
      " 16  magError         41 non-null     float64\n",
      " 17  magNst           41 non-null     int64  \n",
      " 18  status           41 non-null     object \n",
      " 19  locationSource   41 non-null     object \n",
      " 20  magSource        41 non-null     object \n",
      "dtypes: float64(9), int64(2), object(10)\n",
      "memory usage: 6.9+ KB\n"
     ]
    }
   ],
   "metadata": {
    "scrolled": false
   }
  },
  {
   "cell_type": "markdown",
   "source": [
    "The number of columns has been changed to 21 columns. The axis=1 indicates for column section and axis=0 for row section. If we do not to asign a new variable or just keep the original variable after we remove a certain data, we can add an attribute of `inplace=True` in `[variable].drop()` command as follows:"
   ],
   "metadata": {}
  },
  {
   "cell_type": "code",
   "execution_count": 51,
   "source": [
    "data.drop('nst', axis=1, inplace=True)"
   ],
   "outputs": [],
   "metadata": {
    "scrolled": true
   }
  },
  {
   "cell_type": "code",
   "execution_count": 52,
   "source": [
    "data.info()"
   ],
   "outputs": [
    {
     "output_type": "stream",
     "name": "stdout",
     "text": [
      "<class 'pandas.core.frame.DataFrame'>\n",
      "RangeIndex: 41 entries, 0 to 40\n",
      "Data columns (total 21 columns):\n",
      " #   Column           Non-Null Count  Dtype  \n",
      "---  ------           --------------  -----  \n",
      " 0   time             41 non-null     object \n",
      " 1   latitude         41 non-null     float64\n",
      " 2   longitude        41 non-null     float64\n",
      " 3   depth            41 non-null     float64\n",
      " 4   mag              41 non-null     float64\n",
      " 5   magType          41 non-null     object \n",
      " 6   gap              41 non-null     int64  \n",
      " 7   dmin             41 non-null     float64\n",
      " 8   rms              41 non-null     float64\n",
      " 9   net              41 non-null     object \n",
      " 10  id               41 non-null     object \n",
      " 11  updated          41 non-null     object \n",
      " 12  place            41 non-null     object \n",
      " 13  type             41 non-null     object \n",
      " 14  horizontalError  41 non-null     float64\n",
      " 15  depthError       41 non-null     float64\n",
      " 16  magError         41 non-null     float64\n",
      " 17  magNst           41 non-null     int64  \n",
      " 18  status           41 non-null     object \n",
      " 19  locationSource   41 non-null     object \n",
      " 20  magSource        41 non-null     object \n",
      "dtypes: float64(9), int64(2), object(10)\n",
      "memory usage: 6.9+ KB\n"
     ]
    }
   ],
   "metadata": {
    "scrolled": true
   }
  },
  {
   "cell_type": "markdown",
   "source": [
    "For next case, we use `new_data` variable to explore more methods from Pandas library.\r\n",
    "\r\n",
    "#### 2.1.3 Selecting Column\r\n",
    "\r\n",
    "By using Pandas, we can select some of column and assign to new variable. For example, we want to take the data of `time`, `latitude`, `longitude`, `depth`, `mag`, `magType` and `place`. These data are assigned to `current_data` variable."
   ],
   "metadata": {}
  },
  {
   "cell_type": "code",
   "execution_count": 53,
   "source": [
    "current_data = new_data[['time','latitude','longitude','depth','mag','magType','place']]"
   ],
   "outputs": [],
   "metadata": {
    "scrolled": true
   }
  },
  {
   "cell_type": "code",
   "execution_count": 54,
   "source": [
    "current_data.head()"
   ],
   "outputs": [
    {
     "output_type": "execute_result",
     "data": {
      "text/plain": [
       "                       time  latitude  longitude   depth  mag magType  \\\n",
       "0  2021-05-02T20:49:43.322Z    5.3234    94.6170   63.97  5.0      mb   \n",
       "1  2021-05-02T13:02:17.751Z    4.0461    95.7566   50.03  4.6      mb   \n",
       "2  2021-04-17T01:04:53.776Z    5.1158    95.4508  100.74  5.0     mww   \n",
       "3  2021-04-09T15:14:31.108Z    4.8116    96.2611   27.57  4.3      mb   \n",
       "4  2021-04-09T08:08:58.946Z    3.0723    96.3738   55.17  4.2      mb   \n",
       "\n",
       "                                place  \n",
       "0  82 km WSW of Banda Aceh, Indonesia  \n",
       "1    42 km WSW of Meulaboh, Indonesia  \n",
       "2  48 km SSE of Banda Aceh, Indonesia  \n",
       "3      44 km S of Reuleuet, Indonesia  \n",
       "4      65 km N of Sinabang, Indonesia  "
      ],
      "text/html": [
       "<div>\n",
       "<style scoped>\n",
       "    .dataframe tbody tr th:only-of-type {\n",
       "        vertical-align: middle;\n",
       "    }\n",
       "\n",
       "    .dataframe tbody tr th {\n",
       "        vertical-align: top;\n",
       "    }\n",
       "\n",
       "    .dataframe thead th {\n",
       "        text-align: right;\n",
       "    }\n",
       "</style>\n",
       "<table border=\"1\" class=\"dataframe\">\n",
       "  <thead>\n",
       "    <tr style=\"text-align: right;\">\n",
       "      <th></th>\n",
       "      <th>time</th>\n",
       "      <th>latitude</th>\n",
       "      <th>longitude</th>\n",
       "      <th>depth</th>\n",
       "      <th>mag</th>\n",
       "      <th>magType</th>\n",
       "      <th>place</th>\n",
       "    </tr>\n",
       "  </thead>\n",
       "  <tbody>\n",
       "    <tr>\n",
       "      <th>0</th>\n",
       "      <td>2021-05-02T20:49:43.322Z</td>\n",
       "      <td>5.3234</td>\n",
       "      <td>94.6170</td>\n",
       "      <td>63.97</td>\n",
       "      <td>5.0</td>\n",
       "      <td>mb</td>\n",
       "      <td>82 km WSW of Banda Aceh, Indonesia</td>\n",
       "    </tr>\n",
       "    <tr>\n",
       "      <th>1</th>\n",
       "      <td>2021-05-02T13:02:17.751Z</td>\n",
       "      <td>4.0461</td>\n",
       "      <td>95.7566</td>\n",
       "      <td>50.03</td>\n",
       "      <td>4.6</td>\n",
       "      <td>mb</td>\n",
       "      <td>42 km WSW of Meulaboh, Indonesia</td>\n",
       "    </tr>\n",
       "    <tr>\n",
       "      <th>2</th>\n",
       "      <td>2021-04-17T01:04:53.776Z</td>\n",
       "      <td>5.1158</td>\n",
       "      <td>95.4508</td>\n",
       "      <td>100.74</td>\n",
       "      <td>5.0</td>\n",
       "      <td>mww</td>\n",
       "      <td>48 km SSE of Banda Aceh, Indonesia</td>\n",
       "    </tr>\n",
       "    <tr>\n",
       "      <th>3</th>\n",
       "      <td>2021-04-09T15:14:31.108Z</td>\n",
       "      <td>4.8116</td>\n",
       "      <td>96.2611</td>\n",
       "      <td>27.57</td>\n",
       "      <td>4.3</td>\n",
       "      <td>mb</td>\n",
       "      <td>44 km S of Reuleuet, Indonesia</td>\n",
       "    </tr>\n",
       "    <tr>\n",
       "      <th>4</th>\n",
       "      <td>2021-04-09T08:08:58.946Z</td>\n",
       "      <td>3.0723</td>\n",
       "      <td>96.3738</td>\n",
       "      <td>55.17</td>\n",
       "      <td>4.2</td>\n",
       "      <td>mb</td>\n",
       "      <td>65 km N of Sinabang, Indonesia</td>\n",
       "    </tr>\n",
       "  </tbody>\n",
       "</table>\n",
       "</div>"
      ]
     },
     "metadata": {},
     "execution_count": 54
    }
   ],
   "metadata": {
    "scrolled": true
   }
  },
  {
   "cell_type": "markdown",
   "source": [
    "#### 2.1.4 Minimum and Maximum"
   ],
   "metadata": {}
  },
  {
   "cell_type": "code",
   "execution_count": 55,
   "source": [
    "current_data['time'].min()"
   ],
   "outputs": [
    {
     "output_type": "execute_result",
     "data": {
      "text/plain": [
       "'2020-05-25T10:08:11.583Z'"
      ]
     },
     "metadata": {},
     "execution_count": 55
    }
   ],
   "metadata": {
    "scrolled": true
   }
  },
  {
   "cell_type": "code",
   "execution_count": 56,
   "source": [
    "current_data[current_data['time'] == current_data['time'].min()]"
   ],
   "outputs": [
    {
     "output_type": "execute_result",
     "data": {
      "text/plain": [
       "                        time  latitude  longitude  depth  mag magType  \\\n",
       "40  2020-05-25T10:08:11.583Z    4.9608    94.4496  48.36  4.5      mb   \n",
       "\n",
       "                                  place  \n",
       "40  117 km WSW of Banda Aceh, Indonesia  "
      ],
      "text/html": [
       "<div>\n",
       "<style scoped>\n",
       "    .dataframe tbody tr th:only-of-type {\n",
       "        vertical-align: middle;\n",
       "    }\n",
       "\n",
       "    .dataframe tbody tr th {\n",
       "        vertical-align: top;\n",
       "    }\n",
       "\n",
       "    .dataframe thead th {\n",
       "        text-align: right;\n",
       "    }\n",
       "</style>\n",
       "<table border=\"1\" class=\"dataframe\">\n",
       "  <thead>\n",
       "    <tr style=\"text-align: right;\">\n",
       "      <th></th>\n",
       "      <th>time</th>\n",
       "      <th>latitude</th>\n",
       "      <th>longitude</th>\n",
       "      <th>depth</th>\n",
       "      <th>mag</th>\n",
       "      <th>magType</th>\n",
       "      <th>place</th>\n",
       "    </tr>\n",
       "  </thead>\n",
       "  <tbody>\n",
       "    <tr>\n",
       "      <th>40</th>\n",
       "      <td>2020-05-25T10:08:11.583Z</td>\n",
       "      <td>4.9608</td>\n",
       "      <td>94.4496</td>\n",
       "      <td>48.36</td>\n",
       "      <td>4.5</td>\n",
       "      <td>mb</td>\n",
       "      <td>117 km WSW of Banda Aceh, Indonesia</td>\n",
       "    </tr>\n",
       "  </tbody>\n",
       "</table>\n",
       "</div>"
      ]
     },
     "metadata": {},
     "execution_count": 56
    }
   ],
   "metadata": {}
  },
  {
   "cell_type": "code",
   "execution_count": 57,
   "source": [
    "current_data['time'].max()"
   ],
   "outputs": [
    {
     "output_type": "execute_result",
     "data": {
      "text/plain": [
       "'2021-05-02T20:49:43.322Z'"
      ]
     },
     "metadata": {},
     "execution_count": 57
    }
   ],
   "metadata": {}
  },
  {
   "cell_type": "code",
   "execution_count": 58,
   "source": [
    "current_data[current_data['time'] == current_data['time'].max()]"
   ],
   "outputs": [
    {
     "output_type": "execute_result",
     "data": {
      "text/plain": [
       "                       time  latitude  longitude  depth  mag magType  \\\n",
       "0  2021-05-02T20:49:43.322Z    5.3234     94.617  63.97  5.0      mb   \n",
       "\n",
       "                                place  \n",
       "0  82 km WSW of Banda Aceh, Indonesia  "
      ],
      "text/html": [
       "<div>\n",
       "<style scoped>\n",
       "    .dataframe tbody tr th:only-of-type {\n",
       "        vertical-align: middle;\n",
       "    }\n",
       "\n",
       "    .dataframe tbody tr th {\n",
       "        vertical-align: top;\n",
       "    }\n",
       "\n",
       "    .dataframe thead th {\n",
       "        text-align: right;\n",
       "    }\n",
       "</style>\n",
       "<table border=\"1\" class=\"dataframe\">\n",
       "  <thead>\n",
       "    <tr style=\"text-align: right;\">\n",
       "      <th></th>\n",
       "      <th>time</th>\n",
       "      <th>latitude</th>\n",
       "      <th>longitude</th>\n",
       "      <th>depth</th>\n",
       "      <th>mag</th>\n",
       "      <th>magType</th>\n",
       "      <th>place</th>\n",
       "    </tr>\n",
       "  </thead>\n",
       "  <tbody>\n",
       "    <tr>\n",
       "      <th>0</th>\n",
       "      <td>2021-05-02T20:49:43.322Z</td>\n",
       "      <td>5.3234</td>\n",
       "      <td>94.617</td>\n",
       "      <td>63.97</td>\n",
       "      <td>5.0</td>\n",
       "      <td>mb</td>\n",
       "      <td>82 km WSW of Banda Aceh, Indonesia</td>\n",
       "    </tr>\n",
       "  </tbody>\n",
       "</table>\n",
       "</div>"
      ]
     },
     "metadata": {},
     "execution_count": 58
    }
   ],
   "metadata": {}
  },
  {
   "cell_type": "markdown",
   "source": [
    "#### 2.1.5 Attribute Modification"
   ],
   "metadata": {}
  },
  {
   "cell_type": "markdown",
   "source": [
    "##### 2.1.5.1 Rename a Column Name\r\n",
    "We can modify an attribute of data, such as to rename an old column name to a new column name. For example, we change all column names of `current_data` as follows"
   ],
   "metadata": {}
  },
  {
   "cell_type": "code",
   "execution_count": 59,
   "source": [
    "current_data = current_data.rename(columns={\r\n",
    "    'time':'Time',\r\n",
    "    'latitude':'Latitude',\r\n",
    "    'longitude':'Longitude',\r\n",
    "    'depth':'Depth',\r\n",
    "    'mag':'Mag',\r\n",
    "    'magType':'MagType',\r\n",
    "    'place':'Place'\r\n",
    "})"
   ],
   "outputs": [],
   "metadata": {}
  },
  {
   "cell_type": "code",
   "execution_count": 60,
   "source": [
    "current_data.head()"
   ],
   "outputs": [
    {
     "output_type": "execute_result",
     "data": {
      "text/plain": [
       "                       Time  Latitude  Longitude   Depth  Mag MagType  \\\n",
       "0  2021-05-02T20:49:43.322Z    5.3234    94.6170   63.97  5.0      mb   \n",
       "1  2021-05-02T13:02:17.751Z    4.0461    95.7566   50.03  4.6      mb   \n",
       "2  2021-04-17T01:04:53.776Z    5.1158    95.4508  100.74  5.0     mww   \n",
       "3  2021-04-09T15:14:31.108Z    4.8116    96.2611   27.57  4.3      mb   \n",
       "4  2021-04-09T08:08:58.946Z    3.0723    96.3738   55.17  4.2      mb   \n",
       "\n",
       "                                Place  \n",
       "0  82 km WSW of Banda Aceh, Indonesia  \n",
       "1    42 km WSW of Meulaboh, Indonesia  \n",
       "2  48 km SSE of Banda Aceh, Indonesia  \n",
       "3      44 km S of Reuleuet, Indonesia  \n",
       "4      65 km N of Sinabang, Indonesia  "
      ],
      "text/html": [
       "<div>\n",
       "<style scoped>\n",
       "    .dataframe tbody tr th:only-of-type {\n",
       "        vertical-align: middle;\n",
       "    }\n",
       "\n",
       "    .dataframe tbody tr th {\n",
       "        vertical-align: top;\n",
       "    }\n",
       "\n",
       "    .dataframe thead th {\n",
       "        text-align: right;\n",
       "    }\n",
       "</style>\n",
       "<table border=\"1\" class=\"dataframe\">\n",
       "  <thead>\n",
       "    <tr style=\"text-align: right;\">\n",
       "      <th></th>\n",
       "      <th>Time</th>\n",
       "      <th>Latitude</th>\n",
       "      <th>Longitude</th>\n",
       "      <th>Depth</th>\n",
       "      <th>Mag</th>\n",
       "      <th>MagType</th>\n",
       "      <th>Place</th>\n",
       "    </tr>\n",
       "  </thead>\n",
       "  <tbody>\n",
       "    <tr>\n",
       "      <th>0</th>\n",
       "      <td>2021-05-02T20:49:43.322Z</td>\n",
       "      <td>5.3234</td>\n",
       "      <td>94.6170</td>\n",
       "      <td>63.97</td>\n",
       "      <td>5.0</td>\n",
       "      <td>mb</td>\n",
       "      <td>82 km WSW of Banda Aceh, Indonesia</td>\n",
       "    </tr>\n",
       "    <tr>\n",
       "      <th>1</th>\n",
       "      <td>2021-05-02T13:02:17.751Z</td>\n",
       "      <td>4.0461</td>\n",
       "      <td>95.7566</td>\n",
       "      <td>50.03</td>\n",
       "      <td>4.6</td>\n",
       "      <td>mb</td>\n",
       "      <td>42 km WSW of Meulaboh, Indonesia</td>\n",
       "    </tr>\n",
       "    <tr>\n",
       "      <th>2</th>\n",
       "      <td>2021-04-17T01:04:53.776Z</td>\n",
       "      <td>5.1158</td>\n",
       "      <td>95.4508</td>\n",
       "      <td>100.74</td>\n",
       "      <td>5.0</td>\n",
       "      <td>mww</td>\n",
       "      <td>48 km SSE of Banda Aceh, Indonesia</td>\n",
       "    </tr>\n",
       "    <tr>\n",
       "      <th>3</th>\n",
       "      <td>2021-04-09T15:14:31.108Z</td>\n",
       "      <td>4.8116</td>\n",
       "      <td>96.2611</td>\n",
       "      <td>27.57</td>\n",
       "      <td>4.3</td>\n",
       "      <td>mb</td>\n",
       "      <td>44 km S of Reuleuet, Indonesia</td>\n",
       "    </tr>\n",
       "    <tr>\n",
       "      <th>4</th>\n",
       "      <td>2021-04-09T08:08:58.946Z</td>\n",
       "      <td>3.0723</td>\n",
       "      <td>96.3738</td>\n",
       "      <td>55.17</td>\n",
       "      <td>4.2</td>\n",
       "      <td>mb</td>\n",
       "      <td>65 km N of Sinabang, Indonesia</td>\n",
       "    </tr>\n",
       "  </tbody>\n",
       "</table>\n",
       "</div>"
      ]
     },
     "metadata": {},
     "execution_count": 60
    }
   ],
   "metadata": {}
  },
  {
   "cell_type": "markdown",
   "source": [
    "##### 2.1.5.2 Change a String Format\r\n",
    "Let's moving on. We see that the content in the `MagType` is the unit of earthquake scale. All units are written in lowercase. So, if we want to change these contents to capitalize (uppercase or lowercase), we can use `[variable].str.capitalize` method. First, we  have to select the content of `MagType` column"
   ],
   "metadata": {}
  },
  {
   "cell_type": "code",
   "execution_count": 61,
   "source": [
    "current_data['MagType'] = current_data['MagType'].str.capitalize()\r\n",
    "current_data.head()"
   ],
   "outputs": [
    {
     "output_type": "execute_result",
     "data": {
      "text/plain": [
       "                       Time  Latitude  Longitude   Depth  Mag MagType  \\\n",
       "0  2021-05-02T20:49:43.322Z    5.3234    94.6170   63.97  5.0      Mb   \n",
       "1  2021-05-02T13:02:17.751Z    4.0461    95.7566   50.03  4.6      Mb   \n",
       "2  2021-04-17T01:04:53.776Z    5.1158    95.4508  100.74  5.0     Mww   \n",
       "3  2021-04-09T15:14:31.108Z    4.8116    96.2611   27.57  4.3      Mb   \n",
       "4  2021-04-09T08:08:58.946Z    3.0723    96.3738   55.17  4.2      Mb   \n",
       "\n",
       "                                Place  \n",
       "0  82 km WSW of Banda Aceh, Indonesia  \n",
       "1    42 km WSW of Meulaboh, Indonesia  \n",
       "2  48 km SSE of Banda Aceh, Indonesia  \n",
       "3      44 km S of Reuleuet, Indonesia  \n",
       "4      65 km N of Sinabang, Indonesia  "
      ],
      "text/html": [
       "<div>\n",
       "<style scoped>\n",
       "    .dataframe tbody tr th:only-of-type {\n",
       "        vertical-align: middle;\n",
       "    }\n",
       "\n",
       "    .dataframe tbody tr th {\n",
       "        vertical-align: top;\n",
       "    }\n",
       "\n",
       "    .dataframe thead th {\n",
       "        text-align: right;\n",
       "    }\n",
       "</style>\n",
       "<table border=\"1\" class=\"dataframe\">\n",
       "  <thead>\n",
       "    <tr style=\"text-align: right;\">\n",
       "      <th></th>\n",
       "      <th>Time</th>\n",
       "      <th>Latitude</th>\n",
       "      <th>Longitude</th>\n",
       "      <th>Depth</th>\n",
       "      <th>Mag</th>\n",
       "      <th>MagType</th>\n",
       "      <th>Place</th>\n",
       "    </tr>\n",
       "  </thead>\n",
       "  <tbody>\n",
       "    <tr>\n",
       "      <th>0</th>\n",
       "      <td>2021-05-02T20:49:43.322Z</td>\n",
       "      <td>5.3234</td>\n",
       "      <td>94.6170</td>\n",
       "      <td>63.97</td>\n",
       "      <td>5.0</td>\n",
       "      <td>Mb</td>\n",
       "      <td>82 km WSW of Banda Aceh, Indonesia</td>\n",
       "    </tr>\n",
       "    <tr>\n",
       "      <th>1</th>\n",
       "      <td>2021-05-02T13:02:17.751Z</td>\n",
       "      <td>4.0461</td>\n",
       "      <td>95.7566</td>\n",
       "      <td>50.03</td>\n",
       "      <td>4.6</td>\n",
       "      <td>Mb</td>\n",
       "      <td>42 km WSW of Meulaboh, Indonesia</td>\n",
       "    </tr>\n",
       "    <tr>\n",
       "      <th>2</th>\n",
       "      <td>2021-04-17T01:04:53.776Z</td>\n",
       "      <td>5.1158</td>\n",
       "      <td>95.4508</td>\n",
       "      <td>100.74</td>\n",
       "      <td>5.0</td>\n",
       "      <td>Mww</td>\n",
       "      <td>48 km SSE of Banda Aceh, Indonesia</td>\n",
       "    </tr>\n",
       "    <tr>\n",
       "      <th>3</th>\n",
       "      <td>2021-04-09T15:14:31.108Z</td>\n",
       "      <td>4.8116</td>\n",
       "      <td>96.2611</td>\n",
       "      <td>27.57</td>\n",
       "      <td>4.3</td>\n",
       "      <td>Mb</td>\n",
       "      <td>44 km S of Reuleuet, Indonesia</td>\n",
       "    </tr>\n",
       "    <tr>\n",
       "      <th>4</th>\n",
       "      <td>2021-04-09T08:08:58.946Z</td>\n",
       "      <td>3.0723</td>\n",
       "      <td>96.3738</td>\n",
       "      <td>55.17</td>\n",
       "      <td>4.2</td>\n",
       "      <td>Mb</td>\n",
       "      <td>65 km N of Sinabang, Indonesia</td>\n",
       "    </tr>\n",
       "  </tbody>\n",
       "</table>\n",
       "</div>"
      ]
     },
     "metadata": {},
     "execution_count": 61
    }
   ],
   "metadata": {}
  },
  {
   "cell_type": "markdown",
   "source": [
    "The content change to capitalize (upper or lower), that can just be applied to `string` variable type. In this case the type of `MagType` variable is `string` or commonly is mentioned as `object` in Python."
   ],
   "metadata": {}
  },
  {
   "cell_type": "markdown",
   "source": [
    "##### 2.1.5.3 Time Modification\r\n",
    "\r\n",
    "In the `Time` variable, the time is written as `object` type. We can convert it to time format by using `pd.to_datetime(variable of dataframe)`"
   ],
   "metadata": {}
  },
  {
   "cell_type": "code",
   "execution_count": 62,
   "source": [
    "current_data['Time'] = pd.to_datetime(current_data['Time'])\r\n",
    "current_data.info()"
   ],
   "outputs": [
    {
     "output_type": "stream",
     "name": "stdout",
     "text": [
      "<class 'pandas.core.frame.DataFrame'>\n",
      "RangeIndex: 41 entries, 0 to 40\n",
      "Data columns (total 7 columns):\n",
      " #   Column     Non-Null Count  Dtype              \n",
      "---  ------     --------------  -----              \n",
      " 0   Time       41 non-null     datetime64[ns, UTC]\n",
      " 1   Latitude   41 non-null     float64            \n",
      " 2   Longitude  41 non-null     float64            \n",
      " 3   Depth      41 non-null     float64            \n",
      " 4   Mag        41 non-null     float64            \n",
      " 5   MagType    41 non-null     object             \n",
      " 6   Place      41 non-null     object             \n",
      "dtypes: datetime64[ns, UTC](1), float64(4), object(2)\n",
      "memory usage: 2.4+ KB\n"
     ]
    }
   ],
   "metadata": {}
  },
  {
   "cell_type": "code",
   "execution_count": 63,
   "source": [
    "current_data.head()"
   ],
   "outputs": [
    {
     "output_type": "execute_result",
     "data": {
      "text/plain": [
       "                              Time  Latitude  Longitude   Depth  Mag MagType  \\\n",
       "0 2021-05-02 20:49:43.322000+00:00    5.3234    94.6170   63.97  5.0      Mb   \n",
       "1 2021-05-02 13:02:17.751000+00:00    4.0461    95.7566   50.03  4.6      Mb   \n",
       "2 2021-04-17 01:04:53.776000+00:00    5.1158    95.4508  100.74  5.0     Mww   \n",
       "3 2021-04-09 15:14:31.108000+00:00    4.8116    96.2611   27.57  4.3      Mb   \n",
       "4 2021-04-09 08:08:58.946000+00:00    3.0723    96.3738   55.17  4.2      Mb   \n",
       "\n",
       "                                Place  \n",
       "0  82 km WSW of Banda Aceh, Indonesia  \n",
       "1    42 km WSW of Meulaboh, Indonesia  \n",
       "2  48 km SSE of Banda Aceh, Indonesia  \n",
       "3      44 km S of Reuleuet, Indonesia  \n",
       "4      65 km N of Sinabang, Indonesia  "
      ],
      "text/html": [
       "<div>\n",
       "<style scoped>\n",
       "    .dataframe tbody tr th:only-of-type {\n",
       "        vertical-align: middle;\n",
       "    }\n",
       "\n",
       "    .dataframe tbody tr th {\n",
       "        vertical-align: top;\n",
       "    }\n",
       "\n",
       "    .dataframe thead th {\n",
       "        text-align: right;\n",
       "    }\n",
       "</style>\n",
       "<table border=\"1\" class=\"dataframe\">\n",
       "  <thead>\n",
       "    <tr style=\"text-align: right;\">\n",
       "      <th></th>\n",
       "      <th>Time</th>\n",
       "      <th>Latitude</th>\n",
       "      <th>Longitude</th>\n",
       "      <th>Depth</th>\n",
       "      <th>Mag</th>\n",
       "      <th>MagType</th>\n",
       "      <th>Place</th>\n",
       "    </tr>\n",
       "  </thead>\n",
       "  <tbody>\n",
       "    <tr>\n",
       "      <th>0</th>\n",
       "      <td>2021-05-02 20:49:43.322000+00:00</td>\n",
       "      <td>5.3234</td>\n",
       "      <td>94.6170</td>\n",
       "      <td>63.97</td>\n",
       "      <td>5.0</td>\n",
       "      <td>Mb</td>\n",
       "      <td>82 km WSW of Banda Aceh, Indonesia</td>\n",
       "    </tr>\n",
       "    <tr>\n",
       "      <th>1</th>\n",
       "      <td>2021-05-02 13:02:17.751000+00:00</td>\n",
       "      <td>4.0461</td>\n",
       "      <td>95.7566</td>\n",
       "      <td>50.03</td>\n",
       "      <td>4.6</td>\n",
       "      <td>Mb</td>\n",
       "      <td>42 km WSW of Meulaboh, Indonesia</td>\n",
       "    </tr>\n",
       "    <tr>\n",
       "      <th>2</th>\n",
       "      <td>2021-04-17 01:04:53.776000+00:00</td>\n",
       "      <td>5.1158</td>\n",
       "      <td>95.4508</td>\n",
       "      <td>100.74</td>\n",
       "      <td>5.0</td>\n",
       "      <td>Mww</td>\n",
       "      <td>48 km SSE of Banda Aceh, Indonesia</td>\n",
       "    </tr>\n",
       "    <tr>\n",
       "      <th>3</th>\n",
       "      <td>2021-04-09 15:14:31.108000+00:00</td>\n",
       "      <td>4.8116</td>\n",
       "      <td>96.2611</td>\n",
       "      <td>27.57</td>\n",
       "      <td>4.3</td>\n",
       "      <td>Mb</td>\n",
       "      <td>44 km S of Reuleuet, Indonesia</td>\n",
       "    </tr>\n",
       "    <tr>\n",
       "      <th>4</th>\n",
       "      <td>2021-04-09 08:08:58.946000+00:00</td>\n",
       "      <td>3.0723</td>\n",
       "      <td>96.3738</td>\n",
       "      <td>55.17</td>\n",
       "      <td>4.2</td>\n",
       "      <td>Mb</td>\n",
       "      <td>65 km N of Sinabang, Indonesia</td>\n",
       "    </tr>\n",
       "  </tbody>\n",
       "</table>\n",
       "</div>"
      ]
     },
     "metadata": {},
     "execution_count": 63
    }
   ],
   "metadata": {}
  },
  {
   "cell_type": "markdown",
   "source": [
    "We can separate the `Time` for each time format, such as year, month and date. To do this, We assign to new column for each time format."
   ],
   "metadata": {}
  },
  {
   "cell_type": "code",
   "execution_count": 64,
   "source": [
    "current_data['Year'] = current_data['Time'].dt.year\r\n",
    "current_data['Month'] = current_data['Time'].dt.month\r\n",
    "current_data['Day'] = current_data['Time'].dt.day\r\n",
    "current_data['Hour'] = current_data['Time'].dt.hour\r\n",
    "current_data['Minutes'] = current_data['Time'].dt.minute\r\n",
    "current_data['Second'] = current_data['Time'].dt.second"
   ],
   "outputs": [],
   "metadata": {}
  },
  {
   "cell_type": "code",
   "execution_count": 65,
   "source": [
    "current_data.head()"
   ],
   "outputs": [
    {
     "output_type": "execute_result",
     "data": {
      "text/plain": [
       "                              Time  Latitude  Longitude   Depth  Mag MagType  \\\n",
       "0 2021-05-02 20:49:43.322000+00:00    5.3234    94.6170   63.97  5.0      Mb   \n",
       "1 2021-05-02 13:02:17.751000+00:00    4.0461    95.7566   50.03  4.6      Mb   \n",
       "2 2021-04-17 01:04:53.776000+00:00    5.1158    95.4508  100.74  5.0     Mww   \n",
       "3 2021-04-09 15:14:31.108000+00:00    4.8116    96.2611   27.57  4.3      Mb   \n",
       "4 2021-04-09 08:08:58.946000+00:00    3.0723    96.3738   55.17  4.2      Mb   \n",
       "\n",
       "                                Place  Year  Month  Day  Hour  Minutes  Second  \n",
       "0  82 km WSW of Banda Aceh, Indonesia  2021      5    2    20       49      43  \n",
       "1    42 km WSW of Meulaboh, Indonesia  2021      5    2    13        2      17  \n",
       "2  48 km SSE of Banda Aceh, Indonesia  2021      4   17     1        4      53  \n",
       "3      44 km S of Reuleuet, Indonesia  2021      4    9    15       14      31  \n",
       "4      65 km N of Sinabang, Indonesia  2021      4    9     8        8      58  "
      ],
      "text/html": [
       "<div>\n",
       "<style scoped>\n",
       "    .dataframe tbody tr th:only-of-type {\n",
       "        vertical-align: middle;\n",
       "    }\n",
       "\n",
       "    .dataframe tbody tr th {\n",
       "        vertical-align: top;\n",
       "    }\n",
       "\n",
       "    .dataframe thead th {\n",
       "        text-align: right;\n",
       "    }\n",
       "</style>\n",
       "<table border=\"1\" class=\"dataframe\">\n",
       "  <thead>\n",
       "    <tr style=\"text-align: right;\">\n",
       "      <th></th>\n",
       "      <th>Time</th>\n",
       "      <th>Latitude</th>\n",
       "      <th>Longitude</th>\n",
       "      <th>Depth</th>\n",
       "      <th>Mag</th>\n",
       "      <th>MagType</th>\n",
       "      <th>Place</th>\n",
       "      <th>Year</th>\n",
       "      <th>Month</th>\n",
       "      <th>Day</th>\n",
       "      <th>Hour</th>\n",
       "      <th>Minutes</th>\n",
       "      <th>Second</th>\n",
       "    </tr>\n",
       "  </thead>\n",
       "  <tbody>\n",
       "    <tr>\n",
       "      <th>0</th>\n",
       "      <td>2021-05-02 20:49:43.322000+00:00</td>\n",
       "      <td>5.3234</td>\n",
       "      <td>94.6170</td>\n",
       "      <td>63.97</td>\n",
       "      <td>5.0</td>\n",
       "      <td>Mb</td>\n",
       "      <td>82 km WSW of Banda Aceh, Indonesia</td>\n",
       "      <td>2021</td>\n",
       "      <td>5</td>\n",
       "      <td>2</td>\n",
       "      <td>20</td>\n",
       "      <td>49</td>\n",
       "      <td>43</td>\n",
       "    </tr>\n",
       "    <tr>\n",
       "      <th>1</th>\n",
       "      <td>2021-05-02 13:02:17.751000+00:00</td>\n",
       "      <td>4.0461</td>\n",
       "      <td>95.7566</td>\n",
       "      <td>50.03</td>\n",
       "      <td>4.6</td>\n",
       "      <td>Mb</td>\n",
       "      <td>42 km WSW of Meulaboh, Indonesia</td>\n",
       "      <td>2021</td>\n",
       "      <td>5</td>\n",
       "      <td>2</td>\n",
       "      <td>13</td>\n",
       "      <td>2</td>\n",
       "      <td>17</td>\n",
       "    </tr>\n",
       "    <tr>\n",
       "      <th>2</th>\n",
       "      <td>2021-04-17 01:04:53.776000+00:00</td>\n",
       "      <td>5.1158</td>\n",
       "      <td>95.4508</td>\n",
       "      <td>100.74</td>\n",
       "      <td>5.0</td>\n",
       "      <td>Mww</td>\n",
       "      <td>48 km SSE of Banda Aceh, Indonesia</td>\n",
       "      <td>2021</td>\n",
       "      <td>4</td>\n",
       "      <td>17</td>\n",
       "      <td>1</td>\n",
       "      <td>4</td>\n",
       "      <td>53</td>\n",
       "    </tr>\n",
       "    <tr>\n",
       "      <th>3</th>\n",
       "      <td>2021-04-09 15:14:31.108000+00:00</td>\n",
       "      <td>4.8116</td>\n",
       "      <td>96.2611</td>\n",
       "      <td>27.57</td>\n",
       "      <td>4.3</td>\n",
       "      <td>Mb</td>\n",
       "      <td>44 km S of Reuleuet, Indonesia</td>\n",
       "      <td>2021</td>\n",
       "      <td>4</td>\n",
       "      <td>9</td>\n",
       "      <td>15</td>\n",
       "      <td>14</td>\n",
       "      <td>31</td>\n",
       "    </tr>\n",
       "    <tr>\n",
       "      <th>4</th>\n",
       "      <td>2021-04-09 08:08:58.946000+00:00</td>\n",
       "      <td>3.0723</td>\n",
       "      <td>96.3738</td>\n",
       "      <td>55.17</td>\n",
       "      <td>4.2</td>\n",
       "      <td>Mb</td>\n",
       "      <td>65 km N of Sinabang, Indonesia</td>\n",
       "      <td>2021</td>\n",
       "      <td>4</td>\n",
       "      <td>9</td>\n",
       "      <td>8</td>\n",
       "      <td>8</td>\n",
       "      <td>58</td>\n",
       "    </tr>\n",
       "  </tbody>\n",
       "</table>\n",
       "</div>"
      ]
     },
     "metadata": {},
     "execution_count": 65
    }
   ],
   "metadata": {}
  },
  {
   "cell_type": "markdown",
   "source": [
    "##### 2.1.5.4 Data Sorting\n",
    "\n",
    "By using pandas, we can sort a data from minimum to maximum or vice versa. For example, we sort the `Mag` variable fro maximum to minimum."
   ],
   "metadata": {}
  },
  {
   "cell_type": "code",
   "execution_count": 66,
   "source": [
    "current_data.sort_values(by='Mag', ascending=False, inplace = True)"
   ],
   "outputs": [],
   "metadata": {}
  },
  {
   "cell_type": "code",
   "execution_count": 67,
   "source": [
    "current_data.head()"
   ],
   "outputs": [
    {
     "output_type": "execute_result",
     "data": {
      "text/plain": [
       "                               Time  Latitude  Longitude   Depth  Mag MagType  \\\n",
       "20 2020-11-13 18:33:07.130000+00:00    5.7913    95.5619   10.00  5.1     Mww   \n",
       "18 2020-11-30 17:14:12.006000+00:00    3.0670    96.1349   27.89  5.0      Mb   \n",
       "32 2020-09-13 18:28:52.194000+00:00    4.2449    96.6838  121.54  5.0     Mww   \n",
       "0  2021-05-02 20:49:43.322000+00:00    5.3234    94.6170   63.97  5.0      Mb   \n",
       "2  2021-04-17 01:04:53.776000+00:00    5.1158    95.4508  100.74  5.0     Mww   \n",
       "\n",
       "                                 Place  Year  Month  Day  Hour  Minutes  \\\n",
       "20      29 km ESE of Sabang, Indonesia  2020     11   13    18       33   \n",
       "18    70 km NNW of Sinabang, Indonesia  2020     11   30    17       14   \n",
       "32      62 km E of Meulaboh, Indonesia  2020      9   13    18       28   \n",
       "0   82 km WSW of Banda Aceh, Indonesia  2021      5    2    20       49   \n",
       "2   48 km SSE of Banda Aceh, Indonesia  2021      4   17     1        4   \n",
       "\n",
       "    Second  \n",
       "20       7  \n",
       "18      12  \n",
       "32      52  \n",
       "0       43  \n",
       "2       53  "
      ],
      "text/html": [
       "<div>\n",
       "<style scoped>\n",
       "    .dataframe tbody tr th:only-of-type {\n",
       "        vertical-align: middle;\n",
       "    }\n",
       "\n",
       "    .dataframe tbody tr th {\n",
       "        vertical-align: top;\n",
       "    }\n",
       "\n",
       "    .dataframe thead th {\n",
       "        text-align: right;\n",
       "    }\n",
       "</style>\n",
       "<table border=\"1\" class=\"dataframe\">\n",
       "  <thead>\n",
       "    <tr style=\"text-align: right;\">\n",
       "      <th></th>\n",
       "      <th>Time</th>\n",
       "      <th>Latitude</th>\n",
       "      <th>Longitude</th>\n",
       "      <th>Depth</th>\n",
       "      <th>Mag</th>\n",
       "      <th>MagType</th>\n",
       "      <th>Place</th>\n",
       "      <th>Year</th>\n",
       "      <th>Month</th>\n",
       "      <th>Day</th>\n",
       "      <th>Hour</th>\n",
       "      <th>Minutes</th>\n",
       "      <th>Second</th>\n",
       "    </tr>\n",
       "  </thead>\n",
       "  <tbody>\n",
       "    <tr>\n",
       "      <th>20</th>\n",
       "      <td>2020-11-13 18:33:07.130000+00:00</td>\n",
       "      <td>5.7913</td>\n",
       "      <td>95.5619</td>\n",
       "      <td>10.00</td>\n",
       "      <td>5.1</td>\n",
       "      <td>Mww</td>\n",
       "      <td>29 km ESE of Sabang, Indonesia</td>\n",
       "      <td>2020</td>\n",
       "      <td>11</td>\n",
       "      <td>13</td>\n",
       "      <td>18</td>\n",
       "      <td>33</td>\n",
       "      <td>7</td>\n",
       "    </tr>\n",
       "    <tr>\n",
       "      <th>18</th>\n",
       "      <td>2020-11-30 17:14:12.006000+00:00</td>\n",
       "      <td>3.0670</td>\n",
       "      <td>96.1349</td>\n",
       "      <td>27.89</td>\n",
       "      <td>5.0</td>\n",
       "      <td>Mb</td>\n",
       "      <td>70 km NNW of Sinabang, Indonesia</td>\n",
       "      <td>2020</td>\n",
       "      <td>11</td>\n",
       "      <td>30</td>\n",
       "      <td>17</td>\n",
       "      <td>14</td>\n",
       "      <td>12</td>\n",
       "    </tr>\n",
       "    <tr>\n",
       "      <th>32</th>\n",
       "      <td>2020-09-13 18:28:52.194000+00:00</td>\n",
       "      <td>4.2449</td>\n",
       "      <td>96.6838</td>\n",
       "      <td>121.54</td>\n",
       "      <td>5.0</td>\n",
       "      <td>Mww</td>\n",
       "      <td>62 km E of Meulaboh, Indonesia</td>\n",
       "      <td>2020</td>\n",
       "      <td>9</td>\n",
       "      <td>13</td>\n",
       "      <td>18</td>\n",
       "      <td>28</td>\n",
       "      <td>52</td>\n",
       "    </tr>\n",
       "    <tr>\n",
       "      <th>0</th>\n",
       "      <td>2021-05-02 20:49:43.322000+00:00</td>\n",
       "      <td>5.3234</td>\n",
       "      <td>94.6170</td>\n",
       "      <td>63.97</td>\n",
       "      <td>5.0</td>\n",
       "      <td>Mb</td>\n",
       "      <td>82 km WSW of Banda Aceh, Indonesia</td>\n",
       "      <td>2021</td>\n",
       "      <td>5</td>\n",
       "      <td>2</td>\n",
       "      <td>20</td>\n",
       "      <td>49</td>\n",
       "      <td>43</td>\n",
       "    </tr>\n",
       "    <tr>\n",
       "      <th>2</th>\n",
       "      <td>2021-04-17 01:04:53.776000+00:00</td>\n",
       "      <td>5.1158</td>\n",
       "      <td>95.4508</td>\n",
       "      <td>100.74</td>\n",
       "      <td>5.0</td>\n",
       "      <td>Mww</td>\n",
       "      <td>48 km SSE of Banda Aceh, Indonesia</td>\n",
       "      <td>2021</td>\n",
       "      <td>4</td>\n",
       "      <td>17</td>\n",
       "      <td>1</td>\n",
       "      <td>4</td>\n",
       "      <td>53</td>\n",
       "    </tr>\n",
       "  </tbody>\n",
       "</table>\n",
       "</div>"
      ]
     },
     "metadata": {},
     "execution_count": 67
    }
   ],
   "metadata": {}
  },
  {
   "cell_type": "markdown",
   "source": [
    "The data has been sorted. As we can see, the index number has been changed too. So, we have to reset the index number as follows"
   ],
   "metadata": {}
  },
  {
   "cell_type": "code",
   "execution_count": 68,
   "source": [
    "current_data.reset_index(inplace=True)"
   ],
   "outputs": [],
   "metadata": {}
  },
  {
   "cell_type": "code",
   "execution_count": 69,
   "source": [
    "current_data.head()"
   ],
   "outputs": [
    {
     "output_type": "execute_result",
     "data": {
      "text/plain": [
       "   index                             Time  Latitude  Longitude   Depth  Mag  \\\n",
       "0     20 2020-11-13 18:33:07.130000+00:00    5.7913    95.5619   10.00  5.1   \n",
       "1     18 2020-11-30 17:14:12.006000+00:00    3.0670    96.1349   27.89  5.0   \n",
       "2     32 2020-09-13 18:28:52.194000+00:00    4.2449    96.6838  121.54  5.0   \n",
       "3      0 2021-05-02 20:49:43.322000+00:00    5.3234    94.6170   63.97  5.0   \n",
       "4      2 2021-04-17 01:04:53.776000+00:00    5.1158    95.4508  100.74  5.0   \n",
       "\n",
       "  MagType                               Place  Year  Month  Day  Hour  \\\n",
       "0     Mww      29 km ESE of Sabang, Indonesia  2020     11   13    18   \n",
       "1      Mb    70 km NNW of Sinabang, Indonesia  2020     11   30    17   \n",
       "2     Mww      62 km E of Meulaboh, Indonesia  2020      9   13    18   \n",
       "3      Mb  82 km WSW of Banda Aceh, Indonesia  2021      5    2    20   \n",
       "4     Mww  48 km SSE of Banda Aceh, Indonesia  2021      4   17     1   \n",
       "\n",
       "   Minutes  Second  \n",
       "0       33       7  \n",
       "1       14      12  \n",
       "2       28      52  \n",
       "3       49      43  \n",
       "4        4      53  "
      ],
      "text/html": [
       "<div>\n",
       "<style scoped>\n",
       "    .dataframe tbody tr th:only-of-type {\n",
       "        vertical-align: middle;\n",
       "    }\n",
       "\n",
       "    .dataframe tbody tr th {\n",
       "        vertical-align: top;\n",
       "    }\n",
       "\n",
       "    .dataframe thead th {\n",
       "        text-align: right;\n",
       "    }\n",
       "</style>\n",
       "<table border=\"1\" class=\"dataframe\">\n",
       "  <thead>\n",
       "    <tr style=\"text-align: right;\">\n",
       "      <th></th>\n",
       "      <th>index</th>\n",
       "      <th>Time</th>\n",
       "      <th>Latitude</th>\n",
       "      <th>Longitude</th>\n",
       "      <th>Depth</th>\n",
       "      <th>Mag</th>\n",
       "      <th>MagType</th>\n",
       "      <th>Place</th>\n",
       "      <th>Year</th>\n",
       "      <th>Month</th>\n",
       "      <th>Day</th>\n",
       "      <th>Hour</th>\n",
       "      <th>Minutes</th>\n",
       "      <th>Second</th>\n",
       "    </tr>\n",
       "  </thead>\n",
       "  <tbody>\n",
       "    <tr>\n",
       "      <th>0</th>\n",
       "      <td>20</td>\n",
       "      <td>2020-11-13 18:33:07.130000+00:00</td>\n",
       "      <td>5.7913</td>\n",
       "      <td>95.5619</td>\n",
       "      <td>10.00</td>\n",
       "      <td>5.1</td>\n",
       "      <td>Mww</td>\n",
       "      <td>29 km ESE of Sabang, Indonesia</td>\n",
       "      <td>2020</td>\n",
       "      <td>11</td>\n",
       "      <td>13</td>\n",
       "      <td>18</td>\n",
       "      <td>33</td>\n",
       "      <td>7</td>\n",
       "    </tr>\n",
       "    <tr>\n",
       "      <th>1</th>\n",
       "      <td>18</td>\n",
       "      <td>2020-11-30 17:14:12.006000+00:00</td>\n",
       "      <td>3.0670</td>\n",
       "      <td>96.1349</td>\n",
       "      <td>27.89</td>\n",
       "      <td>5.0</td>\n",
       "      <td>Mb</td>\n",
       "      <td>70 km NNW of Sinabang, Indonesia</td>\n",
       "      <td>2020</td>\n",
       "      <td>11</td>\n",
       "      <td>30</td>\n",
       "      <td>17</td>\n",
       "      <td>14</td>\n",
       "      <td>12</td>\n",
       "    </tr>\n",
       "    <tr>\n",
       "      <th>2</th>\n",
       "      <td>32</td>\n",
       "      <td>2020-09-13 18:28:52.194000+00:00</td>\n",
       "      <td>4.2449</td>\n",
       "      <td>96.6838</td>\n",
       "      <td>121.54</td>\n",
       "      <td>5.0</td>\n",
       "      <td>Mww</td>\n",
       "      <td>62 km E of Meulaboh, Indonesia</td>\n",
       "      <td>2020</td>\n",
       "      <td>9</td>\n",
       "      <td>13</td>\n",
       "      <td>18</td>\n",
       "      <td>28</td>\n",
       "      <td>52</td>\n",
       "    </tr>\n",
       "    <tr>\n",
       "      <th>3</th>\n",
       "      <td>0</td>\n",
       "      <td>2021-05-02 20:49:43.322000+00:00</td>\n",
       "      <td>5.3234</td>\n",
       "      <td>94.6170</td>\n",
       "      <td>63.97</td>\n",
       "      <td>5.0</td>\n",
       "      <td>Mb</td>\n",
       "      <td>82 km WSW of Banda Aceh, Indonesia</td>\n",
       "      <td>2021</td>\n",
       "      <td>5</td>\n",
       "      <td>2</td>\n",
       "      <td>20</td>\n",
       "      <td>49</td>\n",
       "      <td>43</td>\n",
       "    </tr>\n",
       "    <tr>\n",
       "      <th>4</th>\n",
       "      <td>2</td>\n",
       "      <td>2021-04-17 01:04:53.776000+00:00</td>\n",
       "      <td>5.1158</td>\n",
       "      <td>95.4508</td>\n",
       "      <td>100.74</td>\n",
       "      <td>5.0</td>\n",
       "      <td>Mww</td>\n",
       "      <td>48 km SSE of Banda Aceh, Indonesia</td>\n",
       "      <td>2021</td>\n",
       "      <td>4</td>\n",
       "      <td>17</td>\n",
       "      <td>1</td>\n",
       "      <td>4</td>\n",
       "      <td>53</td>\n",
       "    </tr>\n",
       "  </tbody>\n",
       "</table>\n",
       "</div>"
      ]
     },
     "metadata": {},
     "execution_count": 69
    }
   ],
   "metadata": {}
  },
  {
   "cell_type": "markdown",
   "source": [
    "Then, we remove the old index column"
   ],
   "metadata": {}
  },
  {
   "cell_type": "code",
   "execution_count": 70,
   "source": [
    "current_data.drop('index',axis=1,inplace=True)"
   ],
   "outputs": [],
   "metadata": {}
  },
  {
   "cell_type": "code",
   "execution_count": 71,
   "source": [
    "current_data.head()"
   ],
   "outputs": [
    {
     "output_type": "execute_result",
     "data": {
      "text/plain": [
       "                              Time  Latitude  Longitude   Depth  Mag MagType  \\\n",
       "0 2020-11-13 18:33:07.130000+00:00    5.7913    95.5619   10.00  5.1     Mww   \n",
       "1 2020-11-30 17:14:12.006000+00:00    3.0670    96.1349   27.89  5.0      Mb   \n",
       "2 2020-09-13 18:28:52.194000+00:00    4.2449    96.6838  121.54  5.0     Mww   \n",
       "3 2021-05-02 20:49:43.322000+00:00    5.3234    94.6170   63.97  5.0      Mb   \n",
       "4 2021-04-17 01:04:53.776000+00:00    5.1158    95.4508  100.74  5.0     Mww   \n",
       "\n",
       "                                Place  Year  Month  Day  Hour  Minutes  Second  \n",
       "0      29 km ESE of Sabang, Indonesia  2020     11   13    18       33       7  \n",
       "1    70 km NNW of Sinabang, Indonesia  2020     11   30    17       14      12  \n",
       "2      62 km E of Meulaboh, Indonesia  2020      9   13    18       28      52  \n",
       "3  82 km WSW of Banda Aceh, Indonesia  2021      5    2    20       49      43  \n",
       "4  48 km SSE of Banda Aceh, Indonesia  2021      4   17     1        4      53  "
      ],
      "text/html": [
       "<div>\n",
       "<style scoped>\n",
       "    .dataframe tbody tr th:only-of-type {\n",
       "        vertical-align: middle;\n",
       "    }\n",
       "\n",
       "    .dataframe tbody tr th {\n",
       "        vertical-align: top;\n",
       "    }\n",
       "\n",
       "    .dataframe thead th {\n",
       "        text-align: right;\n",
       "    }\n",
       "</style>\n",
       "<table border=\"1\" class=\"dataframe\">\n",
       "  <thead>\n",
       "    <tr style=\"text-align: right;\">\n",
       "      <th></th>\n",
       "      <th>Time</th>\n",
       "      <th>Latitude</th>\n",
       "      <th>Longitude</th>\n",
       "      <th>Depth</th>\n",
       "      <th>Mag</th>\n",
       "      <th>MagType</th>\n",
       "      <th>Place</th>\n",
       "      <th>Year</th>\n",
       "      <th>Month</th>\n",
       "      <th>Day</th>\n",
       "      <th>Hour</th>\n",
       "      <th>Minutes</th>\n",
       "      <th>Second</th>\n",
       "    </tr>\n",
       "  </thead>\n",
       "  <tbody>\n",
       "    <tr>\n",
       "      <th>0</th>\n",
       "      <td>2020-11-13 18:33:07.130000+00:00</td>\n",
       "      <td>5.7913</td>\n",
       "      <td>95.5619</td>\n",
       "      <td>10.00</td>\n",
       "      <td>5.1</td>\n",
       "      <td>Mww</td>\n",
       "      <td>29 km ESE of Sabang, Indonesia</td>\n",
       "      <td>2020</td>\n",
       "      <td>11</td>\n",
       "      <td>13</td>\n",
       "      <td>18</td>\n",
       "      <td>33</td>\n",
       "      <td>7</td>\n",
       "    </tr>\n",
       "    <tr>\n",
       "      <th>1</th>\n",
       "      <td>2020-11-30 17:14:12.006000+00:00</td>\n",
       "      <td>3.0670</td>\n",
       "      <td>96.1349</td>\n",
       "      <td>27.89</td>\n",
       "      <td>5.0</td>\n",
       "      <td>Mb</td>\n",
       "      <td>70 km NNW of Sinabang, Indonesia</td>\n",
       "      <td>2020</td>\n",
       "      <td>11</td>\n",
       "      <td>30</td>\n",
       "      <td>17</td>\n",
       "      <td>14</td>\n",
       "      <td>12</td>\n",
       "    </tr>\n",
       "    <tr>\n",
       "      <th>2</th>\n",
       "      <td>2020-09-13 18:28:52.194000+00:00</td>\n",
       "      <td>4.2449</td>\n",
       "      <td>96.6838</td>\n",
       "      <td>121.54</td>\n",
       "      <td>5.0</td>\n",
       "      <td>Mww</td>\n",
       "      <td>62 km E of Meulaboh, Indonesia</td>\n",
       "      <td>2020</td>\n",
       "      <td>9</td>\n",
       "      <td>13</td>\n",
       "      <td>18</td>\n",
       "      <td>28</td>\n",
       "      <td>52</td>\n",
       "    </tr>\n",
       "    <tr>\n",
       "      <th>3</th>\n",
       "      <td>2021-05-02 20:49:43.322000+00:00</td>\n",
       "      <td>5.3234</td>\n",
       "      <td>94.6170</td>\n",
       "      <td>63.97</td>\n",
       "      <td>5.0</td>\n",
       "      <td>Mb</td>\n",
       "      <td>82 km WSW of Banda Aceh, Indonesia</td>\n",
       "      <td>2021</td>\n",
       "      <td>5</td>\n",
       "      <td>2</td>\n",
       "      <td>20</td>\n",
       "      <td>49</td>\n",
       "      <td>43</td>\n",
       "    </tr>\n",
       "    <tr>\n",
       "      <th>4</th>\n",
       "      <td>2021-04-17 01:04:53.776000+00:00</td>\n",
       "      <td>5.1158</td>\n",
       "      <td>95.4508</td>\n",
       "      <td>100.74</td>\n",
       "      <td>5.0</td>\n",
       "      <td>Mww</td>\n",
       "      <td>48 km SSE of Banda Aceh, Indonesia</td>\n",
       "      <td>2021</td>\n",
       "      <td>4</td>\n",
       "      <td>17</td>\n",
       "      <td>1</td>\n",
       "      <td>4</td>\n",
       "      <td>53</td>\n",
       "    </tr>\n",
       "  </tbody>\n",
       "</table>\n",
       "</div>"
      ]
     },
     "metadata": {},
     "execution_count": 71
    }
   ],
   "metadata": {
    "scrolled": true
   }
  },
  {
   "cell_type": "markdown",
   "source": [
    "#### 2.2 Data Filtering\n",
    "\n",
    "The advantage that we get from Pandas is the easy way to filter data. Sometimes, we have to filter unnecessary data in order to get a good result. For example, we want to filter that the `Mag` is above 5 for all `MagType`."
   ],
   "metadata": {}
  },
  {
   "cell_type": "code",
   "execution_count": 72,
   "source": [
    "current_data.shape"
   ],
   "outputs": [
    {
     "output_type": "execute_result",
     "data": {
      "text/plain": [
       "(41, 13)"
      ]
     },
     "metadata": {},
     "execution_count": 72
    }
   ],
   "metadata": {}
  },
  {
   "cell_type": "code",
   "execution_count": 73,
   "source": [
    "mag_data = current_data[current_data['Mag'] >= 5]"
   ],
   "outputs": [],
   "metadata": {}
  },
  {
   "cell_type": "code",
   "execution_count": 74,
   "source": [
    "mag_data.head()"
   ],
   "outputs": [
    {
     "output_type": "execute_result",
     "data": {
      "text/plain": [
       "                              Time  Latitude  Longitude   Depth  Mag MagType  \\\n",
       "0 2020-11-13 18:33:07.130000+00:00    5.7913    95.5619   10.00  5.1     Mww   \n",
       "1 2020-11-30 17:14:12.006000+00:00    3.0670    96.1349   27.89  5.0      Mb   \n",
       "2 2020-09-13 18:28:52.194000+00:00    4.2449    96.6838  121.54  5.0     Mww   \n",
       "3 2021-05-02 20:49:43.322000+00:00    5.3234    94.6170   63.97  5.0      Mb   \n",
       "4 2021-04-17 01:04:53.776000+00:00    5.1158    95.4508  100.74  5.0     Mww   \n",
       "\n",
       "                                Place  Year  Month  Day  Hour  Minutes  Second  \n",
       "0      29 km ESE of Sabang, Indonesia  2020     11   13    18       33       7  \n",
       "1    70 km NNW of Sinabang, Indonesia  2020     11   30    17       14      12  \n",
       "2      62 km E of Meulaboh, Indonesia  2020      9   13    18       28      52  \n",
       "3  82 km WSW of Banda Aceh, Indonesia  2021      5    2    20       49      43  \n",
       "4  48 km SSE of Banda Aceh, Indonesia  2021      4   17     1        4      53  "
      ],
      "text/html": [
       "<div>\n",
       "<style scoped>\n",
       "    .dataframe tbody tr th:only-of-type {\n",
       "        vertical-align: middle;\n",
       "    }\n",
       "\n",
       "    .dataframe tbody tr th {\n",
       "        vertical-align: top;\n",
       "    }\n",
       "\n",
       "    .dataframe thead th {\n",
       "        text-align: right;\n",
       "    }\n",
       "</style>\n",
       "<table border=\"1\" class=\"dataframe\">\n",
       "  <thead>\n",
       "    <tr style=\"text-align: right;\">\n",
       "      <th></th>\n",
       "      <th>Time</th>\n",
       "      <th>Latitude</th>\n",
       "      <th>Longitude</th>\n",
       "      <th>Depth</th>\n",
       "      <th>Mag</th>\n",
       "      <th>MagType</th>\n",
       "      <th>Place</th>\n",
       "      <th>Year</th>\n",
       "      <th>Month</th>\n",
       "      <th>Day</th>\n",
       "      <th>Hour</th>\n",
       "      <th>Minutes</th>\n",
       "      <th>Second</th>\n",
       "    </tr>\n",
       "  </thead>\n",
       "  <tbody>\n",
       "    <tr>\n",
       "      <th>0</th>\n",
       "      <td>2020-11-13 18:33:07.130000+00:00</td>\n",
       "      <td>5.7913</td>\n",
       "      <td>95.5619</td>\n",
       "      <td>10.00</td>\n",
       "      <td>5.1</td>\n",
       "      <td>Mww</td>\n",
       "      <td>29 km ESE of Sabang, Indonesia</td>\n",
       "      <td>2020</td>\n",
       "      <td>11</td>\n",
       "      <td>13</td>\n",
       "      <td>18</td>\n",
       "      <td>33</td>\n",
       "      <td>7</td>\n",
       "    </tr>\n",
       "    <tr>\n",
       "      <th>1</th>\n",
       "      <td>2020-11-30 17:14:12.006000+00:00</td>\n",
       "      <td>3.0670</td>\n",
       "      <td>96.1349</td>\n",
       "      <td>27.89</td>\n",
       "      <td>5.0</td>\n",
       "      <td>Mb</td>\n",
       "      <td>70 km NNW of Sinabang, Indonesia</td>\n",
       "      <td>2020</td>\n",
       "      <td>11</td>\n",
       "      <td>30</td>\n",
       "      <td>17</td>\n",
       "      <td>14</td>\n",
       "      <td>12</td>\n",
       "    </tr>\n",
       "    <tr>\n",
       "      <th>2</th>\n",
       "      <td>2020-09-13 18:28:52.194000+00:00</td>\n",
       "      <td>4.2449</td>\n",
       "      <td>96.6838</td>\n",
       "      <td>121.54</td>\n",
       "      <td>5.0</td>\n",
       "      <td>Mww</td>\n",
       "      <td>62 km E of Meulaboh, Indonesia</td>\n",
       "      <td>2020</td>\n",
       "      <td>9</td>\n",
       "      <td>13</td>\n",
       "      <td>18</td>\n",
       "      <td>28</td>\n",
       "      <td>52</td>\n",
       "    </tr>\n",
       "    <tr>\n",
       "      <th>3</th>\n",
       "      <td>2021-05-02 20:49:43.322000+00:00</td>\n",
       "      <td>5.3234</td>\n",
       "      <td>94.6170</td>\n",
       "      <td>63.97</td>\n",
       "      <td>5.0</td>\n",
       "      <td>Mb</td>\n",
       "      <td>82 km WSW of Banda Aceh, Indonesia</td>\n",
       "      <td>2021</td>\n",
       "      <td>5</td>\n",
       "      <td>2</td>\n",
       "      <td>20</td>\n",
       "      <td>49</td>\n",
       "      <td>43</td>\n",
       "    </tr>\n",
       "    <tr>\n",
       "      <th>4</th>\n",
       "      <td>2021-04-17 01:04:53.776000+00:00</td>\n",
       "      <td>5.1158</td>\n",
       "      <td>95.4508</td>\n",
       "      <td>100.74</td>\n",
       "      <td>5.0</td>\n",
       "      <td>Mww</td>\n",
       "      <td>48 km SSE of Banda Aceh, Indonesia</td>\n",
       "      <td>2021</td>\n",
       "      <td>4</td>\n",
       "      <td>17</td>\n",
       "      <td>1</td>\n",
       "      <td>4</td>\n",
       "      <td>53</td>\n",
       "    </tr>\n",
       "  </tbody>\n",
       "</table>\n",
       "</div>"
      ]
     },
     "metadata": {},
     "execution_count": 74
    }
   ],
   "metadata": {
    "scrolled": false
   }
  },
  {
   "cell_type": "code",
   "execution_count": 75,
   "source": [
    "mag_data.shape"
   ],
   "outputs": [
    {
     "output_type": "execute_result",
     "data": {
      "text/plain": [
       "(5, 13)"
      ]
     },
     "metadata": {},
     "execution_count": 75
    }
   ],
   "metadata": {}
  },
  {
   "cell_type": "markdown",
   "source": [
    "We can apply multiple condition for filter data. For example, we want to filter a data that `Mag` above 5 and `MagType`is Mb."
   ],
   "metadata": {}
  },
  {
   "cell_type": "code",
   "execution_count": 76,
   "source": [
    "multiple_filter = current_data[(current_data['Mag'] >= 5) & (current_data['MagType'] == 'Mb')]"
   ],
   "outputs": [],
   "metadata": {}
  },
  {
   "cell_type": "code",
   "execution_count": 77,
   "source": [
    "multiple_filter.head()"
   ],
   "outputs": [
    {
     "output_type": "execute_result",
     "data": {
      "text/plain": [
       "                              Time  Latitude  Longitude  Depth  Mag MagType  \\\n",
       "1 2020-11-30 17:14:12.006000+00:00    3.0670    96.1349  27.89  5.0      Mb   \n",
       "3 2021-05-02 20:49:43.322000+00:00    5.3234    94.6170  63.97  5.0      Mb   \n",
       "\n",
       "                                Place  Year  Month  Day  Hour  Minutes  Second  \n",
       "1    70 km NNW of Sinabang, Indonesia  2020     11   30    17       14      12  \n",
       "3  82 km WSW of Banda Aceh, Indonesia  2021      5    2    20       49      43  "
      ],
      "text/html": [
       "<div>\n",
       "<style scoped>\n",
       "    .dataframe tbody tr th:only-of-type {\n",
       "        vertical-align: middle;\n",
       "    }\n",
       "\n",
       "    .dataframe tbody tr th {\n",
       "        vertical-align: top;\n",
       "    }\n",
       "\n",
       "    .dataframe thead th {\n",
       "        text-align: right;\n",
       "    }\n",
       "</style>\n",
       "<table border=\"1\" class=\"dataframe\">\n",
       "  <thead>\n",
       "    <tr style=\"text-align: right;\">\n",
       "      <th></th>\n",
       "      <th>Time</th>\n",
       "      <th>Latitude</th>\n",
       "      <th>Longitude</th>\n",
       "      <th>Depth</th>\n",
       "      <th>Mag</th>\n",
       "      <th>MagType</th>\n",
       "      <th>Place</th>\n",
       "      <th>Year</th>\n",
       "      <th>Month</th>\n",
       "      <th>Day</th>\n",
       "      <th>Hour</th>\n",
       "      <th>Minutes</th>\n",
       "      <th>Second</th>\n",
       "    </tr>\n",
       "  </thead>\n",
       "  <tbody>\n",
       "    <tr>\n",
       "      <th>1</th>\n",
       "      <td>2020-11-30 17:14:12.006000+00:00</td>\n",
       "      <td>3.0670</td>\n",
       "      <td>96.1349</td>\n",
       "      <td>27.89</td>\n",
       "      <td>5.0</td>\n",
       "      <td>Mb</td>\n",
       "      <td>70 km NNW of Sinabang, Indonesia</td>\n",
       "      <td>2020</td>\n",
       "      <td>11</td>\n",
       "      <td>30</td>\n",
       "      <td>17</td>\n",
       "      <td>14</td>\n",
       "      <td>12</td>\n",
       "    </tr>\n",
       "    <tr>\n",
       "      <th>3</th>\n",
       "      <td>2021-05-02 20:49:43.322000+00:00</td>\n",
       "      <td>5.3234</td>\n",
       "      <td>94.6170</td>\n",
       "      <td>63.97</td>\n",
       "      <td>5.0</td>\n",
       "      <td>Mb</td>\n",
       "      <td>82 km WSW of Banda Aceh, Indonesia</td>\n",
       "      <td>2021</td>\n",
       "      <td>5</td>\n",
       "      <td>2</td>\n",
       "      <td>20</td>\n",
       "      <td>49</td>\n",
       "      <td>43</td>\n",
       "    </tr>\n",
       "  </tbody>\n",
       "</table>\n",
       "</div>"
      ]
     },
     "metadata": {},
     "execution_count": 77
    }
   ],
   "metadata": {}
  },
  {
   "cell_type": "code",
   "execution_count": 78,
   "source": [
    "multiple_filter.shape"
   ],
   "outputs": [
    {
     "output_type": "execute_result",
     "data": {
      "text/plain": [
       "(2, 13)"
      ]
     },
     "metadata": {},
     "execution_count": 78
    }
   ],
   "metadata": {}
  },
  {
   "cell_type": "markdown",
   "source": [
    "This method can be applied in all variables."
   ],
   "metadata": {}
  },
  {
   "cell_type": "markdown",
   "source": [
    "#### 2.3 More Pandas's Method\r\n",
    "\r\n",
    "For more information about method in Pandas, we can type `dir(pd)` if we use its alias name."
   ],
   "metadata": {}
  },
  {
   "cell_type": "markdown",
   "source": [
    "### 3. Matplotlib\n",
    "\n",
    "Matplotlib is a Python library that used for plot a data become a graphic such as, line, bar, pie and much more. This will help us to understand an information of data. In this tutorial, we will plot the earthquake data that has been explained in Pandas section. For remainder, the earthquake data is assigned to `current_data` as follows"
   ],
   "metadata": {}
  },
  {
   "cell_type": "code",
   "execution_count": 79,
   "source": [
    "current_data.head()"
   ],
   "outputs": [
    {
     "output_type": "execute_result",
     "data": {
      "text/plain": [
       "                              Time  Latitude  Longitude   Depth  Mag MagType  \\\n",
       "0 2020-11-13 18:33:07.130000+00:00    5.7913    95.5619   10.00  5.1     Mww   \n",
       "1 2020-11-30 17:14:12.006000+00:00    3.0670    96.1349   27.89  5.0      Mb   \n",
       "2 2020-09-13 18:28:52.194000+00:00    4.2449    96.6838  121.54  5.0     Mww   \n",
       "3 2021-05-02 20:49:43.322000+00:00    5.3234    94.6170   63.97  5.0      Mb   \n",
       "4 2021-04-17 01:04:53.776000+00:00    5.1158    95.4508  100.74  5.0     Mww   \n",
       "\n",
       "                                Place  Year  Month  Day  Hour  Minutes  Second  \n",
       "0      29 km ESE of Sabang, Indonesia  2020     11   13    18       33       7  \n",
       "1    70 km NNW of Sinabang, Indonesia  2020     11   30    17       14      12  \n",
       "2      62 km E of Meulaboh, Indonesia  2020      9   13    18       28      52  \n",
       "3  82 km WSW of Banda Aceh, Indonesia  2021      5    2    20       49      43  \n",
       "4  48 km SSE of Banda Aceh, Indonesia  2021      4   17     1        4      53  "
      ],
      "text/html": [
       "<div>\n",
       "<style scoped>\n",
       "    .dataframe tbody tr th:only-of-type {\n",
       "        vertical-align: middle;\n",
       "    }\n",
       "\n",
       "    .dataframe tbody tr th {\n",
       "        vertical-align: top;\n",
       "    }\n",
       "\n",
       "    .dataframe thead th {\n",
       "        text-align: right;\n",
       "    }\n",
       "</style>\n",
       "<table border=\"1\" class=\"dataframe\">\n",
       "  <thead>\n",
       "    <tr style=\"text-align: right;\">\n",
       "      <th></th>\n",
       "      <th>Time</th>\n",
       "      <th>Latitude</th>\n",
       "      <th>Longitude</th>\n",
       "      <th>Depth</th>\n",
       "      <th>Mag</th>\n",
       "      <th>MagType</th>\n",
       "      <th>Place</th>\n",
       "      <th>Year</th>\n",
       "      <th>Month</th>\n",
       "      <th>Day</th>\n",
       "      <th>Hour</th>\n",
       "      <th>Minutes</th>\n",
       "      <th>Second</th>\n",
       "    </tr>\n",
       "  </thead>\n",
       "  <tbody>\n",
       "    <tr>\n",
       "      <th>0</th>\n",
       "      <td>2020-11-13 18:33:07.130000+00:00</td>\n",
       "      <td>5.7913</td>\n",
       "      <td>95.5619</td>\n",
       "      <td>10.00</td>\n",
       "      <td>5.1</td>\n",
       "      <td>Mww</td>\n",
       "      <td>29 km ESE of Sabang, Indonesia</td>\n",
       "      <td>2020</td>\n",
       "      <td>11</td>\n",
       "      <td>13</td>\n",
       "      <td>18</td>\n",
       "      <td>33</td>\n",
       "      <td>7</td>\n",
       "    </tr>\n",
       "    <tr>\n",
       "      <th>1</th>\n",
       "      <td>2020-11-30 17:14:12.006000+00:00</td>\n",
       "      <td>3.0670</td>\n",
       "      <td>96.1349</td>\n",
       "      <td>27.89</td>\n",
       "      <td>5.0</td>\n",
       "      <td>Mb</td>\n",
       "      <td>70 km NNW of Sinabang, Indonesia</td>\n",
       "      <td>2020</td>\n",
       "      <td>11</td>\n",
       "      <td>30</td>\n",
       "      <td>17</td>\n",
       "      <td>14</td>\n",
       "      <td>12</td>\n",
       "    </tr>\n",
       "    <tr>\n",
       "      <th>2</th>\n",
       "      <td>2020-09-13 18:28:52.194000+00:00</td>\n",
       "      <td>4.2449</td>\n",
       "      <td>96.6838</td>\n",
       "      <td>121.54</td>\n",
       "      <td>5.0</td>\n",
       "      <td>Mww</td>\n",
       "      <td>62 km E of Meulaboh, Indonesia</td>\n",
       "      <td>2020</td>\n",
       "      <td>9</td>\n",
       "      <td>13</td>\n",
       "      <td>18</td>\n",
       "      <td>28</td>\n",
       "      <td>52</td>\n",
       "    </tr>\n",
       "    <tr>\n",
       "      <th>3</th>\n",
       "      <td>2021-05-02 20:49:43.322000+00:00</td>\n",
       "      <td>5.3234</td>\n",
       "      <td>94.6170</td>\n",
       "      <td>63.97</td>\n",
       "      <td>5.0</td>\n",
       "      <td>Mb</td>\n",
       "      <td>82 km WSW of Banda Aceh, Indonesia</td>\n",
       "      <td>2021</td>\n",
       "      <td>5</td>\n",
       "      <td>2</td>\n",
       "      <td>20</td>\n",
       "      <td>49</td>\n",
       "      <td>43</td>\n",
       "    </tr>\n",
       "    <tr>\n",
       "      <th>4</th>\n",
       "      <td>2021-04-17 01:04:53.776000+00:00</td>\n",
       "      <td>5.1158</td>\n",
       "      <td>95.4508</td>\n",
       "      <td>100.74</td>\n",
       "      <td>5.0</td>\n",
       "      <td>Mww</td>\n",
       "      <td>48 km SSE of Banda Aceh, Indonesia</td>\n",
       "      <td>2021</td>\n",
       "      <td>4</td>\n",
       "      <td>17</td>\n",
       "      <td>1</td>\n",
       "      <td>4</td>\n",
       "      <td>53</td>\n",
       "    </tr>\n",
       "  </tbody>\n",
       "</table>\n",
       "</div>"
      ]
     },
     "metadata": {},
     "execution_count": 79
    }
   ],
   "metadata": {}
  },
  {
   "cell_type": "code",
   "execution_count": 80,
   "source": [
    "current_data.shape"
   ],
   "outputs": [
    {
     "output_type": "execute_result",
     "data": {
      "text/plain": [
       "(41, 13)"
      ]
     },
     "metadata": {},
     "execution_count": 80
    }
   ],
   "metadata": {}
  },
  {
   "cell_type": "markdown",
   "source": [
    "If we want to save the current data to CSV format (data frame), we can type as the following command"
   ],
   "metadata": {}
  },
  {
   "cell_type": "code",
   "execution_count": 81,
   "source": [
    "current_data.to_csv('earthquake_data.csv',index=False)"
   ],
   "outputs": [],
   "metadata": {}
  },
  {
   "cell_type": "markdown",
   "source": [
    "To use Matplotlib, we have to import this library and write its alias as `plt`"
   ],
   "metadata": {}
  },
  {
   "cell_type": "code",
   "execution_count": 82,
   "source": [
    "import matplotlib.pyplot as plt"
   ],
   "outputs": [],
   "metadata": {}
  },
  {
   "cell_type": "markdown",
   "source": [
    "#### 3.1 Plot\n",
    "\n",
    "First, for simple plot, we start to plot the `Mag` value for each `Depth` by using `plot` command"
   ],
   "metadata": {}
  },
  {
   "cell_type": "code",
   "execution_count": 83,
   "source": [
    "plt.plot(current_data['Mag'],current_data['Depth'],'+',markersize=10, color='r')\r\n",
    "plt.xlabel('Magnitude')\r\n",
    "plt.ylabel('Depth')\r\n",
    "plt.title('Depth vs Magnitude')"
   ],
   "outputs": [
    {
     "output_type": "execute_result",
     "data": {
      "text/plain": [
       "Text(0.5, 1.0, 'Depth vs Magnitude')"
      ]
     },
     "metadata": {},
     "execution_count": 83
    },
    {
     "output_type": "display_data",
     "data": {
      "text/plain": [
       "<Figure size 432x288 with 1 Axes>"
      ],
      "image/svg+xml": "<?xml version=\"1.0\" encoding=\"utf-8\" standalone=\"no\"?>\r\n<!DOCTYPE svg PUBLIC \"-//W3C//DTD SVG 1.1//EN\"\r\n  \"http://www.w3.org/Graphics/SVG/1.1/DTD/svg11.dtd\">\r\n<svg height=\"277.314375pt\" version=\"1.1\" viewBox=\"0 0 388.965625 277.314375\" width=\"388.965625pt\" xmlns=\"http://www.w3.org/2000/svg\" xmlns:xlink=\"http://www.w3.org/1999/xlink\">\r\n <metadata>\r\n  <rdf:RDF xmlns:cc=\"http://creativecommons.org/ns#\" xmlns:dc=\"http://purl.org/dc/elements/1.1/\" xmlns:rdf=\"http://www.w3.org/1999/02/22-rdf-syntax-ns#\">\r\n   <cc:Work>\r\n    <dc:type rdf:resource=\"http://purl.org/dc/dcmitype/StillImage\"/>\r\n    <dc:date>2021-08-29T15:04:48.867284</dc:date>\r\n    <dc:format>image/svg+xml</dc:format>\r\n    <dc:creator>\r\n     <cc:Agent>\r\n      <dc:title>Matplotlib v3.4.1, https://matplotlib.org/</dc:title>\r\n     </cc:Agent>\r\n    </dc:creator>\r\n   </cc:Work>\r\n  </rdf:RDF>\r\n </metadata>\r\n <defs>\r\n  <style type=\"text/css\">*{stroke-linecap:butt;stroke-linejoin:round;}</style>\r\n </defs>\r\n <g id=\"figure_1\">\r\n  <g id=\"patch_1\">\r\n   <path d=\"M 0 277.314375 \r\nL 388.965625 277.314375 \r\nL 388.965625 0 \r\nL 0 0 \r\nz\r\n\" style=\"fill:none;\"/>\r\n  </g>\r\n  <g id=\"axes_1\">\r\n   <g id=\"patch_2\">\r\n    <path d=\"M 46.965625 239.758125 \r\nL 381.765625 239.758125 \r\nL 381.765625 22.318125 \r\nL 46.965625 22.318125 \r\nz\r\n\" style=\"fill:#ffffff;\"/>\r\n   </g>\r\n   <g id=\"matplotlib.axis_1\">\r\n    <g id=\"xtick_1\">\r\n     <g id=\"line2d_1\">\r\n      <defs>\r\n       <path d=\"M 0 0 \r\nL 0 3.5 \r\n\" id=\"m3dcf8c88e0\" style=\"stroke:#000000;stroke-width:0.8;\"/>\r\n      </defs>\r\n      <g>\r\n       <use style=\"stroke:#000000;stroke-width:0.8;\" x=\"62.183807\" xlink:href=\"#m3dcf8c88e0\" y=\"239.758125\"/>\r\n      </g>\r\n     </g>\r\n     <g id=\"text_1\">\r\n      <!-- 4.0 -->\r\n      <g transform=\"translate(54.232244 254.356562)scale(0.1 -0.1)\">\r\n       <defs>\r\n        <path d=\"M 2419 4116 \r\nL 825 1625 \r\nL 2419 1625 \r\nL 2419 4116 \r\nz\r\nM 2253 4666 \r\nL 3047 4666 \r\nL 3047 1625 \r\nL 3713 1625 \r\nL 3713 1100 \r\nL 3047 1100 \r\nL 3047 0 \r\nL 2419 0 \r\nL 2419 1100 \r\nL 313 1100 \r\nL 313 1709 \r\nL 2253 4666 \r\nz\r\n\" id=\"DejaVuSans-34\" transform=\"scale(0.015625)\"/>\r\n        <path d=\"M 684 794 \r\nL 1344 794 \r\nL 1344 0 \r\nL 684 0 \r\nL 684 794 \r\nz\r\n\" id=\"DejaVuSans-2e\" transform=\"scale(0.015625)\"/>\r\n        <path d=\"M 2034 4250 \r\nQ 1547 4250 1301 3770 \r\nQ 1056 3291 1056 2328 \r\nQ 1056 1369 1301 889 \r\nQ 1547 409 2034 409 \r\nQ 2525 409 2770 889 \r\nQ 3016 1369 3016 2328 \r\nQ 3016 3291 2770 3770 \r\nQ 2525 4250 2034 4250 \r\nz\r\nM 2034 4750 \r\nQ 2819 4750 3233 4129 \r\nQ 3647 3509 3647 2328 \r\nQ 3647 1150 3233 529 \r\nQ 2819 -91 2034 -91 \r\nQ 1250 -91 836 529 \r\nQ 422 1150 422 2328 \r\nQ 422 3509 836 4129 \r\nQ 1250 4750 2034 4750 \r\nz\r\n\" id=\"DejaVuSans-30\" transform=\"scale(0.015625)\"/>\r\n       </defs>\r\n       <use xlink:href=\"#DejaVuSans-34\"/>\r\n       <use x=\"63.623047\" xlink:href=\"#DejaVuSans-2e\"/>\r\n       <use x=\"95.410156\" xlink:href=\"#DejaVuSans-30\"/>\r\n      </g>\r\n     </g>\r\n    </g>\r\n    <g id=\"xtick_2\">\r\n     <g id=\"line2d_2\">\r\n      <g>\r\n       <use style=\"stroke:#000000;stroke-width:0.8;\" x=\"117.52265\" xlink:href=\"#m3dcf8c88e0\" y=\"239.758125\"/>\r\n      </g>\r\n     </g>\r\n     <g id=\"text_2\">\r\n      <!-- 4.2 -->\r\n      <g transform=\"translate(109.571087 254.356562)scale(0.1 -0.1)\">\r\n       <defs>\r\n        <path d=\"M 1228 531 \r\nL 3431 531 \r\nL 3431 0 \r\nL 469 0 \r\nL 469 531 \r\nQ 828 903 1448 1529 \r\nQ 2069 2156 2228 2338 \r\nQ 2531 2678 2651 2914 \r\nQ 2772 3150 2772 3378 \r\nQ 2772 3750 2511 3984 \r\nQ 2250 4219 1831 4219 \r\nQ 1534 4219 1204 4116 \r\nQ 875 4013 500 3803 \r\nL 500 4441 \r\nQ 881 4594 1212 4672 \r\nQ 1544 4750 1819 4750 \r\nQ 2544 4750 2975 4387 \r\nQ 3406 4025 3406 3419 \r\nQ 3406 3131 3298 2873 \r\nQ 3191 2616 2906 2266 \r\nQ 2828 2175 2409 1742 \r\nQ 1991 1309 1228 531 \r\nz\r\n\" id=\"DejaVuSans-32\" transform=\"scale(0.015625)\"/>\r\n       </defs>\r\n       <use xlink:href=\"#DejaVuSans-34\"/>\r\n       <use x=\"63.623047\" xlink:href=\"#DejaVuSans-2e\"/>\r\n       <use x=\"95.410156\" xlink:href=\"#DejaVuSans-32\"/>\r\n      </g>\r\n     </g>\r\n    </g>\r\n    <g id=\"xtick_3\">\r\n     <g id=\"line2d_3\">\r\n      <g>\r\n       <use style=\"stroke:#000000;stroke-width:0.8;\" x=\"172.861493\" xlink:href=\"#m3dcf8c88e0\" y=\"239.758125\"/>\r\n      </g>\r\n     </g>\r\n     <g id=\"text_3\">\r\n      <!-- 4.4 -->\r\n      <g transform=\"translate(164.90993 254.356562)scale(0.1 -0.1)\">\r\n       <use xlink:href=\"#DejaVuSans-34\"/>\r\n       <use x=\"63.623047\" xlink:href=\"#DejaVuSans-2e\"/>\r\n       <use x=\"95.410156\" xlink:href=\"#DejaVuSans-34\"/>\r\n      </g>\r\n     </g>\r\n    </g>\r\n    <g id=\"xtick_4\">\r\n     <g id=\"line2d_4\">\r\n      <g>\r\n       <use style=\"stroke:#000000;stroke-width:0.8;\" x=\"228.200336\" xlink:href=\"#m3dcf8c88e0\" y=\"239.758125\"/>\r\n      </g>\r\n     </g>\r\n     <g id=\"text_4\">\r\n      <!-- 4.6 -->\r\n      <g transform=\"translate(220.248773 254.356562)scale(0.1 -0.1)\">\r\n       <defs>\r\n        <path d=\"M 2113 2584 \r\nQ 1688 2584 1439 2293 \r\nQ 1191 2003 1191 1497 \r\nQ 1191 994 1439 701 \r\nQ 1688 409 2113 409 \r\nQ 2538 409 2786 701 \r\nQ 3034 994 3034 1497 \r\nQ 3034 2003 2786 2293 \r\nQ 2538 2584 2113 2584 \r\nz\r\nM 3366 4563 \r\nL 3366 3988 \r\nQ 3128 4100 2886 4159 \r\nQ 2644 4219 2406 4219 \r\nQ 1781 4219 1451 3797 \r\nQ 1122 3375 1075 2522 \r\nQ 1259 2794 1537 2939 \r\nQ 1816 3084 2150 3084 \r\nQ 2853 3084 3261 2657 \r\nQ 3669 2231 3669 1497 \r\nQ 3669 778 3244 343 \r\nQ 2819 -91 2113 -91 \r\nQ 1303 -91 875 529 \r\nQ 447 1150 447 2328 \r\nQ 447 3434 972 4092 \r\nQ 1497 4750 2381 4750 \r\nQ 2619 4750 2861 4703 \r\nQ 3103 4656 3366 4563 \r\nz\r\n\" id=\"DejaVuSans-36\" transform=\"scale(0.015625)\"/>\r\n       </defs>\r\n       <use xlink:href=\"#DejaVuSans-34\"/>\r\n       <use x=\"63.623047\" xlink:href=\"#DejaVuSans-2e\"/>\r\n       <use x=\"95.410156\" xlink:href=\"#DejaVuSans-36\"/>\r\n      </g>\r\n     </g>\r\n    </g>\r\n    <g id=\"xtick_5\">\r\n     <g id=\"line2d_5\">\r\n      <g>\r\n       <use style=\"stroke:#000000;stroke-width:0.8;\" x=\"283.539179\" xlink:href=\"#m3dcf8c88e0\" y=\"239.758125\"/>\r\n      </g>\r\n     </g>\r\n     <g id=\"text_5\">\r\n      <!-- 4.8 -->\r\n      <g transform=\"translate(275.587616 254.356562)scale(0.1 -0.1)\">\r\n       <defs>\r\n        <path d=\"M 2034 2216 \r\nQ 1584 2216 1326 1975 \r\nQ 1069 1734 1069 1313 \r\nQ 1069 891 1326 650 \r\nQ 1584 409 2034 409 \r\nQ 2484 409 2743 651 \r\nQ 3003 894 3003 1313 \r\nQ 3003 1734 2745 1975 \r\nQ 2488 2216 2034 2216 \r\nz\r\nM 1403 2484 \r\nQ 997 2584 770 2862 \r\nQ 544 3141 544 3541 \r\nQ 544 4100 942 4425 \r\nQ 1341 4750 2034 4750 \r\nQ 2731 4750 3128 4425 \r\nQ 3525 4100 3525 3541 \r\nQ 3525 3141 3298 2862 \r\nQ 3072 2584 2669 2484 \r\nQ 3125 2378 3379 2068 \r\nQ 3634 1759 3634 1313 \r\nQ 3634 634 3220 271 \r\nQ 2806 -91 2034 -91 \r\nQ 1263 -91 848 271 \r\nQ 434 634 434 1313 \r\nQ 434 1759 690 2068 \r\nQ 947 2378 1403 2484 \r\nz\r\nM 1172 3481 \r\nQ 1172 3119 1398 2916 \r\nQ 1625 2713 2034 2713 \r\nQ 2441 2713 2670 2916 \r\nQ 2900 3119 2900 3481 \r\nQ 2900 3844 2670 4047 \r\nQ 2441 4250 2034 4250 \r\nQ 1625 4250 1398 4047 \r\nQ 1172 3844 1172 3481 \r\nz\r\n\" id=\"DejaVuSans-38\" transform=\"scale(0.015625)\"/>\r\n       </defs>\r\n       <use xlink:href=\"#DejaVuSans-34\"/>\r\n       <use x=\"63.623047\" xlink:href=\"#DejaVuSans-2e\"/>\r\n       <use x=\"95.410156\" xlink:href=\"#DejaVuSans-38\"/>\r\n      </g>\r\n     </g>\r\n    </g>\r\n    <g id=\"xtick_6\">\r\n     <g id=\"line2d_6\">\r\n      <g>\r\n       <use style=\"stroke:#000000;stroke-width:0.8;\" x=\"338.878022\" xlink:href=\"#m3dcf8c88e0\" y=\"239.758125\"/>\r\n      </g>\r\n     </g>\r\n     <g id=\"text_6\">\r\n      <!-- 5.0 -->\r\n      <g transform=\"translate(330.926459 254.356562)scale(0.1 -0.1)\">\r\n       <defs>\r\n        <path d=\"M 691 4666 \r\nL 3169 4666 \r\nL 3169 4134 \r\nL 1269 4134 \r\nL 1269 2991 \r\nQ 1406 3038 1543 3061 \r\nQ 1681 3084 1819 3084 \r\nQ 2600 3084 3056 2656 \r\nQ 3513 2228 3513 1497 \r\nQ 3513 744 3044 326 \r\nQ 2575 -91 1722 -91 \r\nQ 1428 -91 1123 -41 \r\nQ 819 9 494 109 \r\nL 494 744 \r\nQ 775 591 1075 516 \r\nQ 1375 441 1709 441 \r\nQ 2250 441 2565 725 \r\nQ 2881 1009 2881 1497 \r\nQ 2881 1984 2565 2268 \r\nQ 2250 2553 1709 2553 \r\nQ 1456 2553 1204 2497 \r\nQ 953 2441 691 2322 \r\nL 691 4666 \r\nz\r\n\" id=\"DejaVuSans-35\" transform=\"scale(0.015625)\"/>\r\n       </defs>\r\n       <use xlink:href=\"#DejaVuSans-35\"/>\r\n       <use x=\"63.623047\" xlink:href=\"#DejaVuSans-2e\"/>\r\n       <use x=\"95.410156\" xlink:href=\"#DejaVuSans-30\"/>\r\n      </g>\r\n     </g>\r\n    </g>\r\n    <g id=\"text_7\">\r\n     <!-- Magnitude -->\r\n     <g transform=\"translate(187.875781 268.034687)scale(0.1 -0.1)\">\r\n      <defs>\r\n       <path d=\"M 628 4666 \r\nL 1569 4666 \r\nL 2759 1491 \r\nL 3956 4666 \r\nL 4897 4666 \r\nL 4897 0 \r\nL 4281 0 \r\nL 4281 4097 \r\nL 3078 897 \r\nL 2444 897 \r\nL 1241 4097 \r\nL 1241 0 \r\nL 628 0 \r\nL 628 4666 \r\nz\r\n\" id=\"DejaVuSans-4d\" transform=\"scale(0.015625)\"/>\r\n       <path d=\"M 2194 1759 \r\nQ 1497 1759 1228 1600 \r\nQ 959 1441 959 1056 \r\nQ 959 750 1161 570 \r\nQ 1363 391 1709 391 \r\nQ 2188 391 2477 730 \r\nQ 2766 1069 2766 1631 \r\nL 2766 1759 \r\nL 2194 1759 \r\nz\r\nM 3341 1997 \r\nL 3341 0 \r\nL 2766 0 \r\nL 2766 531 \r\nQ 2569 213 2275 61 \r\nQ 1981 -91 1556 -91 \r\nQ 1019 -91 701 211 \r\nQ 384 513 384 1019 \r\nQ 384 1609 779 1909 \r\nQ 1175 2209 1959 2209 \r\nL 2766 2209 \r\nL 2766 2266 \r\nQ 2766 2663 2505 2880 \r\nQ 2244 3097 1772 3097 \r\nQ 1472 3097 1187 3025 \r\nQ 903 2953 641 2809 \r\nL 641 3341 \r\nQ 956 3463 1253 3523 \r\nQ 1550 3584 1831 3584 \r\nQ 2591 3584 2966 3190 \r\nQ 3341 2797 3341 1997 \r\nz\r\n\" id=\"DejaVuSans-61\" transform=\"scale(0.015625)\"/>\r\n       <path d=\"M 2906 1791 \r\nQ 2906 2416 2648 2759 \r\nQ 2391 3103 1925 3103 \r\nQ 1463 3103 1205 2759 \r\nQ 947 2416 947 1791 \r\nQ 947 1169 1205 825 \r\nQ 1463 481 1925 481 \r\nQ 2391 481 2648 825 \r\nQ 2906 1169 2906 1791 \r\nz\r\nM 3481 434 \r\nQ 3481 -459 3084 -895 \r\nQ 2688 -1331 1869 -1331 \r\nQ 1566 -1331 1297 -1286 \r\nQ 1028 -1241 775 -1147 \r\nL 775 -588 \r\nQ 1028 -725 1275 -790 \r\nQ 1522 -856 1778 -856 \r\nQ 2344 -856 2625 -561 \r\nQ 2906 -266 2906 331 \r\nL 2906 616 \r\nQ 2728 306 2450 153 \r\nQ 2172 0 1784 0 \r\nQ 1141 0 747 490 \r\nQ 353 981 353 1791 \r\nQ 353 2603 747 3093 \r\nQ 1141 3584 1784 3584 \r\nQ 2172 3584 2450 3431 \r\nQ 2728 3278 2906 2969 \r\nL 2906 3500 \r\nL 3481 3500 \r\nL 3481 434 \r\nz\r\n\" id=\"DejaVuSans-67\" transform=\"scale(0.015625)\"/>\r\n       <path d=\"M 3513 2113 \r\nL 3513 0 \r\nL 2938 0 \r\nL 2938 2094 \r\nQ 2938 2591 2744 2837 \r\nQ 2550 3084 2163 3084 \r\nQ 1697 3084 1428 2787 \r\nQ 1159 2491 1159 1978 \r\nL 1159 0 \r\nL 581 0 \r\nL 581 3500 \r\nL 1159 3500 \r\nL 1159 2956 \r\nQ 1366 3272 1645 3428 \r\nQ 1925 3584 2291 3584 \r\nQ 2894 3584 3203 3211 \r\nQ 3513 2838 3513 2113 \r\nz\r\n\" id=\"DejaVuSans-6e\" transform=\"scale(0.015625)\"/>\r\n       <path d=\"M 603 3500 \r\nL 1178 3500 \r\nL 1178 0 \r\nL 603 0 \r\nL 603 3500 \r\nz\r\nM 603 4863 \r\nL 1178 4863 \r\nL 1178 4134 \r\nL 603 4134 \r\nL 603 4863 \r\nz\r\n\" id=\"DejaVuSans-69\" transform=\"scale(0.015625)\"/>\r\n       <path d=\"M 1172 4494 \r\nL 1172 3500 \r\nL 2356 3500 \r\nL 2356 3053 \r\nL 1172 3053 \r\nL 1172 1153 \r\nQ 1172 725 1289 603 \r\nQ 1406 481 1766 481 \r\nL 2356 481 \r\nL 2356 0 \r\nL 1766 0 \r\nQ 1100 0 847 248 \r\nQ 594 497 594 1153 \r\nL 594 3053 \r\nL 172 3053 \r\nL 172 3500 \r\nL 594 3500 \r\nL 594 4494 \r\nL 1172 4494 \r\nz\r\n\" id=\"DejaVuSans-74\" transform=\"scale(0.015625)\"/>\r\n       <path d=\"M 544 1381 \r\nL 544 3500 \r\nL 1119 3500 \r\nL 1119 1403 \r\nQ 1119 906 1312 657 \r\nQ 1506 409 1894 409 \r\nQ 2359 409 2629 706 \r\nQ 2900 1003 2900 1516 \r\nL 2900 3500 \r\nL 3475 3500 \r\nL 3475 0 \r\nL 2900 0 \r\nL 2900 538 \r\nQ 2691 219 2414 64 \r\nQ 2138 -91 1772 -91 \r\nQ 1169 -91 856 284 \r\nQ 544 659 544 1381 \r\nz\r\nM 1991 3584 \r\nL 1991 3584 \r\nz\r\n\" id=\"DejaVuSans-75\" transform=\"scale(0.015625)\"/>\r\n       <path d=\"M 2906 2969 \r\nL 2906 4863 \r\nL 3481 4863 \r\nL 3481 0 \r\nL 2906 0 \r\nL 2906 525 \r\nQ 2725 213 2448 61 \r\nQ 2172 -91 1784 -91 \r\nQ 1150 -91 751 415 \r\nQ 353 922 353 1747 \r\nQ 353 2572 751 3078 \r\nQ 1150 3584 1784 3584 \r\nQ 2172 3584 2448 3432 \r\nQ 2725 3281 2906 2969 \r\nz\r\nM 947 1747 \r\nQ 947 1113 1208 752 \r\nQ 1469 391 1925 391 \r\nQ 2381 391 2643 752 \r\nQ 2906 1113 2906 1747 \r\nQ 2906 2381 2643 2742 \r\nQ 2381 3103 1925 3103 \r\nQ 1469 3103 1208 2742 \r\nQ 947 2381 947 1747 \r\nz\r\n\" id=\"DejaVuSans-64\" transform=\"scale(0.015625)\"/>\r\n       <path d=\"M 3597 1894 \r\nL 3597 1613 \r\nL 953 1613 \r\nQ 991 1019 1311 708 \r\nQ 1631 397 2203 397 \r\nQ 2534 397 2845 478 \r\nQ 3156 559 3463 722 \r\nL 3463 178 \r\nQ 3153 47 2828 -22 \r\nQ 2503 -91 2169 -91 \r\nQ 1331 -91 842 396 \r\nQ 353 884 353 1716 \r\nQ 353 2575 817 3079 \r\nQ 1281 3584 2069 3584 \r\nQ 2775 3584 3186 3129 \r\nQ 3597 2675 3597 1894 \r\nz\r\nM 3022 2063 \r\nQ 3016 2534 2758 2815 \r\nQ 2500 3097 2075 3097 \r\nQ 1594 3097 1305 2825 \r\nQ 1016 2553 972 2059 \r\nL 3022 2063 \r\nz\r\n\" id=\"DejaVuSans-65\" transform=\"scale(0.015625)\"/>\r\n      </defs>\r\n      <use xlink:href=\"#DejaVuSans-4d\"/>\r\n      <use x=\"86.279297\" xlink:href=\"#DejaVuSans-61\"/>\r\n      <use x=\"147.558594\" xlink:href=\"#DejaVuSans-67\"/>\r\n      <use x=\"211.035156\" xlink:href=\"#DejaVuSans-6e\"/>\r\n      <use x=\"274.414062\" xlink:href=\"#DejaVuSans-69\"/>\r\n      <use x=\"302.197266\" xlink:href=\"#DejaVuSans-74\"/>\r\n      <use x=\"341.40625\" xlink:href=\"#DejaVuSans-75\"/>\r\n      <use x=\"404.785156\" xlink:href=\"#DejaVuSans-64\"/>\r\n      <use x=\"468.261719\" xlink:href=\"#DejaVuSans-65\"/>\r\n     </g>\r\n    </g>\r\n   </g>\r\n   <g id=\"matplotlib.axis_2\">\r\n    <g id=\"ytick_1\">\r\n     <g id=\"line2d_7\">\r\n      <defs>\r\n       <path d=\"M 0 0 \r\nL -3.5 0 \r\n\" id=\"m0a75e0d27f\" style=\"stroke:#000000;stroke-width:0.8;\"/>\r\n      </defs>\r\n      <g>\r\n       <use style=\"stroke:#000000;stroke-width:0.8;\" x=\"46.965625\" xlink:href=\"#m0a75e0d27f\" y=\"235.674701\"/>\r\n      </g>\r\n     </g>\r\n     <g id=\"text_8\">\r\n      <!-- 0 -->\r\n      <g transform=\"translate(33.603125 239.47392)scale(0.1 -0.1)\">\r\n       <use xlink:href=\"#DejaVuSans-30\"/>\r\n      </g>\r\n     </g>\r\n    </g>\r\n    <g id=\"ytick_2\">\r\n     <g id=\"line2d_8\">\r\n      <g>\r\n       <use style=\"stroke:#000000;stroke-width:0.8;\" x=\"46.965625\" xlink:href=\"#m0a75e0d27f\" y=\"189.12404\"/>\r\n      </g>\r\n     </g>\r\n     <g id=\"text_9\">\r\n      <!-- 50 -->\r\n      <g transform=\"translate(27.240625 192.923259)scale(0.1 -0.1)\">\r\n       <use xlink:href=\"#DejaVuSans-35\"/>\r\n       <use x=\"63.623047\" xlink:href=\"#DejaVuSans-30\"/>\r\n      </g>\r\n     </g>\r\n    </g>\r\n    <g id=\"ytick_3\">\r\n     <g id=\"line2d_9\">\r\n      <g>\r\n       <use style=\"stroke:#000000;stroke-width:0.8;\" x=\"46.965625\" xlink:href=\"#m0a75e0d27f\" y=\"142.573379\"/>\r\n      </g>\r\n     </g>\r\n     <g id=\"text_10\">\r\n      <!-- 100 -->\r\n      <g transform=\"translate(20.878125 146.372598)scale(0.1 -0.1)\">\r\n       <defs>\r\n        <path d=\"M 794 531 \r\nL 1825 531 \r\nL 1825 4091 \r\nL 703 3866 \r\nL 703 4441 \r\nL 1819 4666 \r\nL 2450 4666 \r\nL 2450 531 \r\nL 3481 531 \r\nL 3481 0 \r\nL 794 0 \r\nL 794 531 \r\nz\r\n\" id=\"DejaVuSans-31\" transform=\"scale(0.015625)\"/>\r\n       </defs>\r\n       <use xlink:href=\"#DejaVuSans-31\"/>\r\n       <use x=\"63.623047\" xlink:href=\"#DejaVuSans-30\"/>\r\n       <use x=\"127.246094\" xlink:href=\"#DejaVuSans-30\"/>\r\n      </g>\r\n     </g>\r\n    </g>\r\n    <g id=\"ytick_4\">\r\n     <g id=\"line2d_10\">\r\n      <g>\r\n       <use style=\"stroke:#000000;stroke-width:0.8;\" x=\"46.965625\" xlink:href=\"#m0a75e0d27f\" y=\"96.022718\"/>\r\n      </g>\r\n     </g>\r\n     <g id=\"text_11\">\r\n      <!-- 150 -->\r\n      <g transform=\"translate(20.878125 99.821936)scale(0.1 -0.1)\">\r\n       <use xlink:href=\"#DejaVuSans-31\"/>\r\n       <use x=\"63.623047\" xlink:href=\"#DejaVuSans-35\"/>\r\n       <use x=\"127.246094\" xlink:href=\"#DejaVuSans-30\"/>\r\n      </g>\r\n     </g>\r\n    </g>\r\n    <g id=\"ytick_5\">\r\n     <g id=\"line2d_11\">\r\n      <g>\r\n       <use style=\"stroke:#000000;stroke-width:0.8;\" x=\"46.965625\" xlink:href=\"#m0a75e0d27f\" y=\"49.472057\"/>\r\n      </g>\r\n     </g>\r\n     <g id=\"text_12\">\r\n      <!-- 200 -->\r\n      <g transform=\"translate(20.878125 53.271275)scale(0.1 -0.1)\">\r\n       <use xlink:href=\"#DejaVuSans-32\"/>\r\n       <use x=\"63.623047\" xlink:href=\"#DejaVuSans-30\"/>\r\n       <use x=\"127.246094\" xlink:href=\"#DejaVuSans-30\"/>\r\n      </g>\r\n     </g>\r\n    </g>\r\n    <g id=\"text_13\">\r\n     <!-- Depth -->\r\n     <g transform=\"translate(14.798438 146.267812)rotate(-90)scale(0.1 -0.1)\">\r\n      <defs>\r\n       <path d=\"M 1259 4147 \r\nL 1259 519 \r\nL 2022 519 \r\nQ 2988 519 3436 956 \r\nQ 3884 1394 3884 2338 \r\nQ 3884 3275 3436 3711 \r\nQ 2988 4147 2022 4147 \r\nL 1259 4147 \r\nz\r\nM 628 4666 \r\nL 1925 4666 \r\nQ 3281 4666 3915 4102 \r\nQ 4550 3538 4550 2338 \r\nQ 4550 1131 3912 565 \r\nQ 3275 0 1925 0 \r\nL 628 0 \r\nL 628 4666 \r\nz\r\n\" id=\"DejaVuSans-44\" transform=\"scale(0.015625)\"/>\r\n       <path d=\"M 1159 525 \r\nL 1159 -1331 \r\nL 581 -1331 \r\nL 581 3500 \r\nL 1159 3500 \r\nL 1159 2969 \r\nQ 1341 3281 1617 3432 \r\nQ 1894 3584 2278 3584 \r\nQ 2916 3584 3314 3078 \r\nQ 3713 2572 3713 1747 \r\nQ 3713 922 3314 415 \r\nQ 2916 -91 2278 -91 \r\nQ 1894 -91 1617 61 \r\nQ 1341 213 1159 525 \r\nz\r\nM 3116 1747 \r\nQ 3116 2381 2855 2742 \r\nQ 2594 3103 2138 3103 \r\nQ 1681 3103 1420 2742 \r\nQ 1159 2381 1159 1747 \r\nQ 1159 1113 1420 752 \r\nQ 1681 391 2138 391 \r\nQ 2594 391 2855 752 \r\nQ 3116 1113 3116 1747 \r\nz\r\n\" id=\"DejaVuSans-70\" transform=\"scale(0.015625)\"/>\r\n       <path d=\"M 3513 2113 \r\nL 3513 0 \r\nL 2938 0 \r\nL 2938 2094 \r\nQ 2938 2591 2744 2837 \r\nQ 2550 3084 2163 3084 \r\nQ 1697 3084 1428 2787 \r\nQ 1159 2491 1159 1978 \r\nL 1159 0 \r\nL 581 0 \r\nL 581 4863 \r\nL 1159 4863 \r\nL 1159 2956 \r\nQ 1366 3272 1645 3428 \r\nQ 1925 3584 2291 3584 \r\nQ 2894 3584 3203 3211 \r\nQ 3513 2838 3513 2113 \r\nz\r\n\" id=\"DejaVuSans-68\" transform=\"scale(0.015625)\"/>\r\n      </defs>\r\n      <use xlink:href=\"#DejaVuSans-44\"/>\r\n      <use x=\"77.001953\" xlink:href=\"#DejaVuSans-65\"/>\r\n      <use x=\"138.525391\" xlink:href=\"#DejaVuSans-70\"/>\r\n      <use x=\"202.001953\" xlink:href=\"#DejaVuSans-74\"/>\r\n      <use x=\"241.210938\" xlink:href=\"#DejaVuSans-68\"/>\r\n     </g>\r\n    </g>\r\n   </g>\r\n   <g id=\"line2d_12\">\r\n    <defs>\r\n     <path d=\"M -5 0 \r\nL 5 0 \r\nM 0 5 \r\nL 0 -5 \r\n\" id=\"m22488dffbb\" style=\"stroke:#ff0000;\"/>\r\n    </defs>\r\n    <g clip-path=\"url(#p4cbe45fc98)\">\r\n     <use style=\"fill:#ff0000;stroke:#ff0000;\" x=\"366.547443\" xlink:href=\"#m22488dffbb\" y=\"226.364569\"/>\r\n     <use style=\"fill:#ff0000;stroke:#ff0000;\" x=\"338.878022\" xlink:href=\"#m22488dffbb\" y=\"209.708742\"/>\r\n     <use style=\"fill:#ff0000;stroke:#ff0000;\" x=\"338.878022\" xlink:href=\"#m22488dffbb\" y=\"122.519354\"/>\r\n     <use style=\"fill:#ff0000;stroke:#ff0000;\" x=\"338.878022\" xlink:href=\"#m22488dffbb\" y=\"176.117785\"/>\r\n     <use style=\"fill:#ff0000;stroke:#ff0000;\" x=\"338.878022\" xlink:href=\"#m22488dffbb\" y=\"141.884429\"/>\r\n     <use style=\"fill:#ff0000;stroke:#ff0000;\" x=\"311.2086\" xlink:href=\"#m22488dffbb\" y=\"190.213325\"/>\r\n     <use style=\"fill:#ff0000;stroke:#ff0000;\" x=\"311.2086\" xlink:href=\"#m22488dffbb\" y=\"175.326424\"/>\r\n     <use style=\"fill:#ff0000;stroke:#ff0000;\" x=\"311.2086\" xlink:href=\"#m22488dffbb\" y=\"227.751778\"/>\r\n     <use style=\"fill:#ff0000;stroke:#ff0000;\" x=\"311.2086\" xlink:href=\"#m22488dffbb\" y=\"229.874489\"/>\r\n     <use style=\"fill:#ff0000;stroke:#ff0000;\" x=\"283.539179\" xlink:href=\"#m22488dffbb\" y=\"226.364569\"/>\r\n     <use style=\"fill:#ff0000;stroke:#ff0000;\" x=\"255.869757\" xlink:href=\"#m22488dffbb\" y=\"91.9635\"/>\r\n     <use style=\"fill:#ff0000;stroke:#ff0000;\" x=\"228.200336\" xlink:href=\"#m22488dffbb\" y=\"226.364569\"/>\r\n     <use style=\"fill:#ff0000;stroke:#ff0000;\" x=\"228.200336\" xlink:href=\"#m22488dffbb\" y=\"195.175626\"/>\r\n     <use style=\"fill:#ff0000;stroke:#ff0000;\" x=\"228.200336\" xlink:href=\"#m22488dffbb\" y=\"189.09611\"/>\r\n     <use style=\"fill:#ff0000;stroke:#ff0000;\" x=\"200.530914\" xlink:href=\"#m22488dffbb\" y=\"188.481641\"/>\r\n     <use style=\"fill:#ff0000;stroke:#ff0000;\" x=\"200.530914\" xlink:href=\"#m22488dffbb\" y=\"226.364569\"/>\r\n     <use style=\"fill:#ff0000;stroke:#ff0000;\" x=\"200.530914\" xlink:href=\"#m22488dffbb\" y=\"164.50805\"/>\r\n     <use style=\"fill:#ff0000;stroke:#ff0000;\" x=\"200.530914\" xlink:href=\"#m22488dffbb\" y=\"226.364569\"/>\r\n     <use style=\"fill:#ff0000;stroke:#ff0000;\" x=\"200.530914\" xlink:href=\"#m22488dffbb\" y=\"152.786594\"/>\r\n     <use style=\"fill:#ff0000;stroke:#ff0000;\" x=\"200.530914\" xlink:href=\"#m22488dffbb\" y=\"190.650902\"/>\r\n     <use style=\"fill:#ff0000;stroke:#ff0000;\" x=\"200.530914\" xlink:href=\"#m22488dffbb\" y=\"226.364569\"/>\r\n     <use style=\"fill:#ff0000;stroke:#ff0000;\" x=\"172.861493\" xlink:href=\"#m22488dffbb\" y=\"174.106797\"/>\r\n     <use style=\"fill:#ff0000;stroke:#ff0000;\" x=\"172.861493\" xlink:href=\"#m22488dffbb\" y=\"184.766898\"/>\r\n     <use style=\"fill:#ff0000;stroke:#ff0000;\" x=\"172.861493\" xlink:href=\"#m22488dffbb\" y=\"185.325506\"/>\r\n     <use style=\"fill:#ff0000;stroke:#ff0000;\" x=\"172.861493\" xlink:href=\"#m22488dffbb\" y=\"203.089238\"/>\r\n     <use style=\"fill:#ff0000;stroke:#ff0000;\" x=\"172.861493\" xlink:href=\"#m22488dffbb\" y=\"55.262959\"/>\r\n     <use style=\"fill:#ff0000;stroke:#ff0000;\" x=\"172.861493\" xlink:href=\"#m22488dffbb\" y=\"226.364569\"/>\r\n     <use style=\"fill:#ff0000;stroke:#ff0000;\" x=\"172.861493\" xlink:href=\"#m22488dffbb\" y=\"147.079483\"/>\r\n     <use style=\"fill:#ff0000;stroke:#ff0000;\" x=\"145.192071\" xlink:href=\"#m22488dffbb\" y=\"210.006666\"/>\r\n     <use style=\"fill:#ff0000;stroke:#ff0000;\" x=\"145.192071\" xlink:href=\"#m22488dffbb\" y=\"226.364569\"/>\r\n     <use style=\"fill:#ff0000;stroke:#ff0000;\" x=\"145.192071\" xlink:href=\"#m22488dffbb\" y=\"104.755622\"/>\r\n     <use style=\"fill:#ff0000;stroke:#ff0000;\" x=\"145.192071\" xlink:href=\"#m22488dffbb\" y=\"184.506214\"/>\r\n     <use style=\"fill:#ff0000;stroke:#ff0000;\" x=\"145.192071\" xlink:href=\"#m22488dffbb\" y=\"226.364569\"/>\r\n     <use style=\"fill:#ff0000;stroke:#ff0000;\" x=\"117.52265\" xlink:href=\"#m22488dffbb\" y=\"203.089238\"/>\r\n     <use style=\"fill:#ff0000;stroke:#ff0000;\" x=\"117.52265\" xlink:href=\"#m22488dffbb\" y=\"203.089238\"/>\r\n     <use style=\"fill:#ff0000;stroke:#ff0000;\" x=\"117.52265\" xlink:href=\"#m22488dffbb\" y=\"203.089238\"/>\r\n     <use style=\"fill:#ff0000;stroke:#ff0000;\" x=\"117.52265\" xlink:href=\"#m22488dffbb\" y=\"178.612901\"/>\r\n     <use style=\"fill:#ff0000;stroke:#ff0000;\" x=\"117.52265\" xlink:href=\"#m22488dffbb\" y=\"184.310702\"/>\r\n     <use style=\"fill:#ff0000;stroke:#ff0000;\" x=\"89.853228\" xlink:href=\"#m22488dffbb\" y=\"203.089238\"/>\r\n     <use style=\"fill:#ff0000;stroke:#ff0000;\" x=\"89.853228\" xlink:href=\"#m22488dffbb\" y=\"32.201761\"/>\r\n     <use style=\"fill:#ff0000;stroke:#ff0000;\" x=\"62.183807\" xlink:href=\"#m22488dffbb\" y=\"173.091992\"/>\r\n    </g>\r\n   </g>\r\n   <g id=\"patch_3\">\r\n    <path d=\"M 46.965625 239.758125 \r\nL 46.965625 22.318125 \r\n\" style=\"fill:none;stroke:#000000;stroke-linecap:square;stroke-linejoin:miter;stroke-width:0.8;\"/>\r\n   </g>\r\n   <g id=\"patch_4\">\r\n    <path d=\"M 381.765625 239.758125 \r\nL 381.765625 22.318125 \r\n\" style=\"fill:none;stroke:#000000;stroke-linecap:square;stroke-linejoin:miter;stroke-width:0.8;\"/>\r\n   </g>\r\n   <g id=\"patch_5\">\r\n    <path d=\"M 46.965625 239.758125 \r\nL 381.765625 239.758125 \r\n\" style=\"fill:none;stroke:#000000;stroke-linecap:square;stroke-linejoin:miter;stroke-width:0.8;\"/>\r\n   </g>\r\n   <g id=\"patch_6\">\r\n    <path d=\"M 46.965625 22.318125 \r\nL 381.765625 22.318125 \r\n\" style=\"fill:none;stroke:#000000;stroke-linecap:square;stroke-linejoin:miter;stroke-width:0.8;\"/>\r\n   </g>\r\n   <g id=\"text_14\">\r\n    <!-- Depth vs Magnitude -->\r\n    <g transform=\"translate(153.811563 16.318125)scale(0.12 -0.12)\">\r\n     <defs>\r\n      <path id=\"DejaVuSans-20\" transform=\"scale(0.015625)\"/>\r\n      <path d=\"M 191 3500 \r\nL 800 3500 \r\nL 1894 563 \r\nL 2988 3500 \r\nL 3597 3500 \r\nL 2284 0 \r\nL 1503 0 \r\nL 191 3500 \r\nz\r\n\" id=\"DejaVuSans-76\" transform=\"scale(0.015625)\"/>\r\n      <path d=\"M 2834 3397 \r\nL 2834 2853 \r\nQ 2591 2978 2328 3040 \r\nQ 2066 3103 1784 3103 \r\nQ 1356 3103 1142 2972 \r\nQ 928 2841 928 2578 \r\nQ 928 2378 1081 2264 \r\nQ 1234 2150 1697 2047 \r\nL 1894 2003 \r\nQ 2506 1872 2764 1633 \r\nQ 3022 1394 3022 966 \r\nQ 3022 478 2636 193 \r\nQ 2250 -91 1575 -91 \r\nQ 1294 -91 989 -36 \r\nQ 684 19 347 128 \r\nL 347 722 \r\nQ 666 556 975 473 \r\nQ 1284 391 1588 391 \r\nQ 1994 391 2212 530 \r\nQ 2431 669 2431 922 \r\nQ 2431 1156 2273 1281 \r\nQ 2116 1406 1581 1522 \r\nL 1381 1569 \r\nQ 847 1681 609 1914 \r\nQ 372 2147 372 2553 \r\nQ 372 3047 722 3315 \r\nQ 1072 3584 1716 3584 \r\nQ 2034 3584 2315 3537 \r\nQ 2597 3491 2834 3397 \r\nz\r\n\" id=\"DejaVuSans-73\" transform=\"scale(0.015625)\"/>\r\n     </defs>\r\n     <use xlink:href=\"#DejaVuSans-44\"/>\r\n     <use x=\"77.001953\" xlink:href=\"#DejaVuSans-65\"/>\r\n     <use x=\"138.525391\" xlink:href=\"#DejaVuSans-70\"/>\r\n     <use x=\"202.001953\" xlink:href=\"#DejaVuSans-74\"/>\r\n     <use x=\"241.210938\" xlink:href=\"#DejaVuSans-68\"/>\r\n     <use x=\"304.589844\" xlink:href=\"#DejaVuSans-20\"/>\r\n     <use x=\"336.376953\" xlink:href=\"#DejaVuSans-76\"/>\r\n     <use x=\"395.556641\" xlink:href=\"#DejaVuSans-73\"/>\r\n     <use x=\"447.65625\" xlink:href=\"#DejaVuSans-20\"/>\r\n     <use x=\"479.443359\" xlink:href=\"#DejaVuSans-4d\"/>\r\n     <use x=\"565.722656\" xlink:href=\"#DejaVuSans-61\"/>\r\n     <use x=\"627.001953\" xlink:href=\"#DejaVuSans-67\"/>\r\n     <use x=\"690.478516\" xlink:href=\"#DejaVuSans-6e\"/>\r\n     <use x=\"753.857422\" xlink:href=\"#DejaVuSans-69\"/>\r\n     <use x=\"781.640625\" xlink:href=\"#DejaVuSans-74\"/>\r\n     <use x=\"820.849609\" xlink:href=\"#DejaVuSans-75\"/>\r\n     <use x=\"884.228516\" xlink:href=\"#DejaVuSans-64\"/>\r\n     <use x=\"947.705078\" xlink:href=\"#DejaVuSans-65\"/>\r\n    </g>\r\n   </g>\r\n  </g>\r\n </g>\r\n <defs>\r\n  <clipPath id=\"p4cbe45fc98\">\r\n   <rect height=\"217.44\" width=\"334.8\" x=\"46.965625\" y=\"22.318125\"/>\r\n  </clipPath>\r\n </defs>\r\n</svg>\r\n",
      "image/png": "[encoded data removed]"
     },
     "metadata": {
      "needs_background": "light"
     }
    }
   ],
   "metadata": {}
  },
  {
   "cell_type": "markdown",
   "source": [
    "#### 3.2 Scatter"
   ],
   "metadata": {}
  },
  {
   "cell_type": "code",
   "execution_count": 84,
   "source": [
    "plt.scatter(current_data['Longitude'],current_data['Latitude'], s = 50, c = 'orange')\r\n",
    "plt.xlabel('Longitude')\r\n",
    "plt.ylabel('Latitude')\r\n",
    "plt.title('Scatter Plot')"
   ],
   "outputs": [
    {
     "output_type": "execute_result",
     "data": {
      "text/plain": [
       "Text(0.5, 1.0, 'Scatter Plot')"
      ]
     },
     "metadata": {},
     "execution_count": 84
    },
    {
     "output_type": "display_data",
     "data": {
      "text/plain": [
       "<Figure size 432x288 with 1 Axes>"
      ],
      "image/svg+xml": "<?xml version=\"1.0\" encoding=\"utf-8\" standalone=\"no\"?>\r\n<!DOCTYPE svg PUBLIC \"-//W3C//DTD SVG 1.1//EN\"\r\n  \"http://www.w3.org/Graphics/SVG/1.1/DTD/svg11.dtd\">\r\n<svg height=\"277.314375pt\" version=\"1.1\" viewBox=\"0 0 385.78125 277.314375\" width=\"385.78125pt\" xmlns=\"http://www.w3.org/2000/svg\" xmlns:xlink=\"http://www.w3.org/1999/xlink\">\r\n <metadata>\r\n  <rdf:RDF xmlns:cc=\"http://creativecommons.org/ns#\" xmlns:dc=\"http://purl.org/dc/elements/1.1/\" xmlns:rdf=\"http://www.w3.org/1999/02/22-rdf-syntax-ns#\">\r\n   <cc:Work>\r\n    <dc:type rdf:resource=\"http://purl.org/dc/dcmitype/StillImage\"/>\r\n    <dc:date>2021-08-29T15:04:49.166672</dc:date>\r\n    <dc:format>image/svg+xml</dc:format>\r\n    <dc:creator>\r\n     <cc:Agent>\r\n      <dc:title>Matplotlib v3.4.1, https://matplotlib.org/</dc:title>\r\n     </cc:Agent>\r\n    </dc:creator>\r\n   </cc:Work>\r\n  </rdf:RDF>\r\n </metadata>\r\n <defs>\r\n  <style type=\"text/css\">*{stroke-linecap:butt;stroke-linejoin:round;}</style>\r\n </defs>\r\n <g id=\"figure_1\">\r\n  <g id=\"patch_1\">\r\n   <path d=\"M 0 277.314375 \r\nL 385.78125 277.314375 \r\nL 385.78125 0 \r\nL 0 0 \r\nz\r\n\" style=\"fill:none;\"/>\r\n  </g>\r\n  <g id=\"axes_1\">\r\n   <g id=\"patch_2\">\r\n    <path d=\"M 43.78125 239.758125 \r\nL 378.58125 239.758125 \r\nL 378.58125 22.318125 \r\nL 43.78125 22.318125 \r\nz\r\n\" style=\"fill:#ffffff;\"/>\r\n   </g>\r\n   <g id=\"PathCollection_1\">\r\n    <defs>\r\n     <path d=\"M 0 3.535534 \r\nC 0.937635 3.535534 1.836992 3.163008 2.5 2.5 \r\nC 3.163008 1.836992 3.535534 0.937635 3.535534 0 \r\nC 3.535534 -0.937635 3.163008 -1.836992 2.5 -2.5 \r\nC 1.836992 -3.163008 0.937635 -3.535534 0 -3.535534 \r\nC -0.937635 -3.535534 -1.836992 -3.163008 -2.5 -2.5 \r\nC -3.163008 -1.836992 -3.535534 -0.937635 -3.535534 0 \r\nC -3.535534 0.937635 -3.163008 1.836992 -2.5 2.5 \r\nC -1.836992 3.163008 -0.937635 3.535534 0 3.535534 \r\nz\r\n\" id=\"m39e385abd4\" style=\"stroke:#ffa500;\"/>\r\n    </defs>\r\n    <g clip-path=\"url(#p52774d0955)\">\r\n     <use style=\"fill:#ffa500;stroke:#ffa500;\" x=\"158.275659\" xlink:href=\"#m39e385abd4\" y=\"32.201761\"/>\r\n     <use style=\"fill:#ffa500;stroke:#ffa500;\" x=\"206.098507\" xlink:href=\"#m39e385abd4\" y=\"228.091256\"/>\r\n     <use style=\"fill:#ffa500;stroke:#ffa500;\" x=\"251.909959\" xlink:href=\"#m39e385abd4\" y=\"143.394917\"/>\r\n     <use style=\"fill:#ffa500;stroke:#ffa500;\" x=\"79.413862\" xlink:href=\"#m39e385abd4\" y=\"65.845888\"/>\r\n     <use style=\"fill:#ffa500;stroke:#ffa500;\" x=\"149.003201\" xlink:href=\"#m39e385abd4\" y=\"80.773267\"/>\r\n     <use style=\"fill:#ffa500;stroke:#ffa500;\" x=\"183.973137\" xlink:href=\"#m39e385abd4\" y=\"164.987846\"/>\r\n     <use style=\"fill:#ffa500;stroke:#ffa500;\" x=\"69.916061\" xlink:href=\"#m39e385abd4\" y=\"66.644028\"/>\r\n     <use style=\"fill:#ffa500;stroke:#ffa500;\" x=\"172.572437\" xlink:href=\"#m39e385abd4\" y=\"229.874489\"/>\r\n     <use style=\"fill:#ffa500;stroke:#ffa500;\" x=\"224.342966\" xlink:href=\"#m39e385abd4\" y=\"128.81268\"/>\r\n     <use style=\"fill:#ffa500;stroke:#ffa500;\" x=\"338.642077\" xlink:href=\"#m39e385abd4\" y=\"122.355654\"/>\r\n     <use style=\"fill:#ffa500;stroke:#ffa500;\" x=\"251.567771\" xlink:href=\"#m39e385abd4\" y=\"124.074172\"/>\r\n     <use style=\"fill:#ffa500;stroke:#ffa500;\" x=\"125.567501\" xlink:href=\"#m39e385abd4\" y=\"40.664924\"/>\r\n     <use style=\"fill:#ffa500;stroke:#ffa500;\" x=\"163.057944\" xlink:href=\"#m39e385abd4\" y=\"179.577274\"/>\r\n     <use style=\"fill:#ffa500;stroke:#ffa500;\" x=\"174.525412\" xlink:href=\"#m39e385abd4\" y=\"157.689537\"/>\r\n     <use style=\"fill:#ffa500;stroke:#ffa500;\" x=\"121.661552\" xlink:href=\"#m39e385abd4\" y=\"124.872312\"/>\r\n     <use style=\"fill:#ffa500;stroke:#ffa500;\" x=\"135.374107\" xlink:href=\"#m39e385abd4\" y=\"33.596709\"/>\r\n     <use style=\"fill:#ffa500;stroke:#ffa500;\" x=\"90.605911\" xlink:href=\"#m39e385abd4\" y=\"74.438479\"/>\r\n     <use style=\"fill:#ffa500;stroke:#ffa500;\" x=\"228.774717\" xlink:href=\"#m39e385abd4\" y=\"90.926186\"/>\r\n     <use style=\"fill:#ffa500;stroke:#ffa500;\" x=\"166.104251\" xlink:href=\"#m39e385abd4\" y=\"108.032273\"/>\r\n     <use style=\"fill:#ffa500;stroke:#ffa500;\" x=\"65.44258\" xlink:href=\"#m39e385abd4\" y=\"91.918469\"/>\r\n     <use style=\"fill:#ffa500;stroke:#ffa500;\" x=\"194.873074\" xlink:href=\"#m39e385abd4\" y=\"88.733098\"/>\r\n     <use style=\"fill:#ffa500;stroke:#ffa500;\" x=\"176.086123\" xlink:href=\"#m39e385abd4\" y=\"176.485379\"/>\r\n     <use style=\"fill:#ffa500;stroke:#ffa500;\" x=\"61.286249\" xlink:href=\"#m39e385abd4\" y=\"76.250473\"/>\r\n     <use style=\"fill:#ffa500;stroke:#ffa500;\" x=\"280.02779\" xlink:href=\"#m39e385abd4\" y=\"185.681968\"/>\r\n     <use style=\"fill:#ffa500;stroke:#ffa500;\" x=\"335.445541\" xlink:href=\"#m39e385abd4\" y=\"167.878408\"/>\r\n     <use style=\"fill:#ffa500;stroke:#ffa500;\" x=\"323.577463\" xlink:href=\"#m39e385abd4\" y=\"142.560825\"/>\r\n     <use style=\"fill:#ffa500;stroke:#ffa500;\" x=\"202.134135\" xlink:href=\"#m39e385abd4\" y=\"97.124356\"/>\r\n     <use style=\"fill:#ffa500;stroke:#ffa500;\" x=\"269.812229\" xlink:href=\"#m39e385abd4\" y=\"191.786662\"/>\r\n     <use style=\"fill:#ffa500;stroke:#ffa500;\" x=\"216.631219\" xlink:href=\"#m39e385abd4\" y=\"102.646624\"/>\r\n     <use style=\"fill:#ffa500;stroke:#ffa500;\" x=\"223.34144\" xlink:href=\"#m39e385abd4\" y=\"113.648016\"/>\r\n     <use style=\"fill:#ffa500;stroke:#ffa500;\" x=\"363.363068\" xlink:href=\"#m39e385abd4\" y=\"195.022366\"/>\r\n     <use style=\"fill:#ffa500;stroke:#ffa500;\" x=\"183.071764\" xlink:href=\"#m39e385abd4\" y=\"171.322635\"/>\r\n     <use style=\"fill:#ffa500;stroke:#ffa500;\" x=\"261.549643\" xlink:href=\"#m39e385abd4\" y=\"153.159552\"/>\r\n     <use style=\"fill:#ffa500;stroke:#ffa500;\" x=\"58.999432\" xlink:href=\"#m39e385abd4\" y=\"102.488434\"/>\r\n     <use style=\"fill:#ffa500;stroke:#ffa500;\" x=\"336.488797\" xlink:href=\"#m39e385abd4\" y=\"165.340178\"/>\r\n     <use style=\"fill:#ffa500;stroke:#ffa500;\" x=\"258.670257\" xlink:href=\"#m39e385abd4\" y=\"227.300307\"/>\r\n     <use style=\"fill:#ffa500;stroke:#ffa500;\" x=\"87.960214\" xlink:href=\"#m39e385abd4\" y=\"74.754859\"/>\r\n     <use style=\"fill:#ffa500;stroke:#ffa500;\" x=\"226.037213\" xlink:href=\"#m39e385abd4\" y=\"227.710162\"/>\r\n     <use style=\"fill:#ffa500;stroke:#ffa500;\" x=\"153.025996\" xlink:href=\"#m39e385abd4\" y=\"207.469039\"/>\r\n     <use style=\"fill:#ffa500;stroke:#ffa500;\" x=\"251.918305\" xlink:href=\"#m39e385abd4\" y=\"71.382537\"/>\r\n     <use style=\"fill:#ffa500;stroke:#ffa500;\" x=\"203.035508\" xlink:href=\"#m39e385abd4\" y=\"141.985589\"/>\r\n    </g>\r\n   </g>\r\n   <g id=\"matplotlib.axis_1\">\r\n    <g id=\"xtick_1\">\r\n     <g id=\"line2d_1\">\r\n      <defs>\r\n       <path d=\"M 0 0 \r\nL 0 3.5 \r\n\" id=\"ma71ac25814\" style=\"stroke:#000000;stroke-width:0.8;\"/>\r\n      </defs>\r\n      <g>\r\n       <use style=\"stroke:#000000;stroke-width:0.8;\" x=\"69.648988\" xlink:href=\"#ma71ac25814\" y=\"239.758125\"/>\r\n      </g>\r\n     </g>\r\n     <g id=\"text_1\">\r\n      <!-- 94.5 -->\r\n      <g transform=\"translate(58.516175 254.356562)scale(0.1 -0.1)\">\r\n       <defs>\r\n        <path d=\"M 703 97 \r\nL 703 672 \r\nQ 941 559 1184 500 \r\nQ 1428 441 1663 441 \r\nQ 2288 441 2617 861 \r\nQ 2947 1281 2994 2138 \r\nQ 2813 1869 2534 1725 \r\nQ 2256 1581 1919 1581 \r\nQ 1219 1581 811 2004 \r\nQ 403 2428 403 3163 \r\nQ 403 3881 828 4315 \r\nQ 1253 4750 1959 4750 \r\nQ 2769 4750 3195 4129 \r\nQ 3622 3509 3622 2328 \r\nQ 3622 1225 3098 567 \r\nQ 2575 -91 1691 -91 \r\nQ 1453 -91 1209 -44 \r\nQ 966 3 703 97 \r\nz\r\nM 1959 2075 \r\nQ 2384 2075 2632 2365 \r\nQ 2881 2656 2881 3163 \r\nQ 2881 3666 2632 3958 \r\nQ 2384 4250 1959 4250 \r\nQ 1534 4250 1286 3958 \r\nQ 1038 3666 1038 3163 \r\nQ 1038 2656 1286 2365 \r\nQ 1534 2075 1959 2075 \r\nz\r\n\" id=\"DejaVuSans-39\" transform=\"scale(0.015625)\"/>\r\n        <path d=\"M 2419 4116 \r\nL 825 1625 \r\nL 2419 1625 \r\nL 2419 4116 \r\nz\r\nM 2253 4666 \r\nL 3047 4666 \r\nL 3047 1625 \r\nL 3713 1625 \r\nL 3713 1100 \r\nL 3047 1100 \r\nL 3047 0 \r\nL 2419 0 \r\nL 2419 1100 \r\nL 313 1100 \r\nL 313 1709 \r\nL 2253 4666 \r\nz\r\n\" id=\"DejaVuSans-34\" transform=\"scale(0.015625)\"/>\r\n        <path d=\"M 684 794 \r\nL 1344 794 \r\nL 1344 0 \r\nL 684 0 \r\nL 684 794 \r\nz\r\n\" id=\"DejaVuSans-2e\" transform=\"scale(0.015625)\"/>\r\n        <path d=\"M 691 4666 \r\nL 3169 4666 \r\nL 3169 4134 \r\nL 1269 4134 \r\nL 1269 2991 \r\nQ 1406 3038 1543 3061 \r\nQ 1681 3084 1819 3084 \r\nQ 2600 3084 3056 2656 \r\nQ 3513 2228 3513 1497 \r\nQ 3513 744 3044 326 \r\nQ 2575 -91 1722 -91 \r\nQ 1428 -91 1123 -41 \r\nQ 819 9 494 109 \r\nL 494 744 \r\nQ 775 591 1075 516 \r\nQ 1375 441 1709 441 \r\nQ 2250 441 2565 725 \r\nQ 2881 1009 2881 1497 \r\nQ 2881 1984 2565 2268 \r\nQ 2250 2553 1709 2553 \r\nQ 1456 2553 1204 2497 \r\nQ 953 2441 691 2322 \r\nL 691 4666 \r\nz\r\n\" id=\"DejaVuSans-35\" transform=\"scale(0.015625)\"/>\r\n       </defs>\r\n       <use xlink:href=\"#DejaVuSans-39\"/>\r\n       <use x=\"63.623047\" xlink:href=\"#DejaVuSans-34\"/>\r\n       <use x=\"127.246094\" xlink:href=\"#DejaVuSans-2e\"/>\r\n       <use x=\"159.033203\" xlink:href=\"#DejaVuSans-35\"/>\r\n      </g>\r\n     </g>\r\n    </g>\r\n    <g id=\"xtick_2\">\r\n     <g id=\"line2d_2\">\r\n      <g>\r\n       <use style=\"stroke:#000000;stroke-width:0.8;\" x=\"111.379222\" xlink:href=\"#ma71ac25814\" y=\"239.758125\"/>\r\n      </g>\r\n     </g>\r\n     <g id=\"text_2\">\r\n      <!-- 95.0 -->\r\n      <g transform=\"translate(100.246409 254.356562)scale(0.1 -0.1)\">\r\n       <defs>\r\n        <path d=\"M 2034 4250 \r\nQ 1547 4250 1301 3770 \r\nQ 1056 3291 1056 2328 \r\nQ 1056 1369 1301 889 \r\nQ 1547 409 2034 409 \r\nQ 2525 409 2770 889 \r\nQ 3016 1369 3016 2328 \r\nQ 3016 3291 2770 3770 \r\nQ 2525 4250 2034 4250 \r\nz\r\nM 2034 4750 \r\nQ 2819 4750 3233 4129 \r\nQ 3647 3509 3647 2328 \r\nQ 3647 1150 3233 529 \r\nQ 2819 -91 2034 -91 \r\nQ 1250 -91 836 529 \r\nQ 422 1150 422 2328 \r\nQ 422 3509 836 4129 \r\nQ 1250 4750 2034 4750 \r\nz\r\n\" id=\"DejaVuSans-30\" transform=\"scale(0.015625)\"/>\r\n       </defs>\r\n       <use xlink:href=\"#DejaVuSans-39\"/>\r\n       <use x=\"63.623047\" xlink:href=\"#DejaVuSans-35\"/>\r\n       <use x=\"127.246094\" xlink:href=\"#DejaVuSans-2e\"/>\r\n       <use x=\"159.033203\" xlink:href=\"#DejaVuSans-30\"/>\r\n      </g>\r\n     </g>\r\n    </g>\r\n    <g id=\"xtick_3\">\r\n     <g id=\"line2d_3\">\r\n      <g>\r\n       <use style=\"stroke:#000000;stroke-width:0.8;\" x=\"153.109456\" xlink:href=\"#ma71ac25814\" y=\"239.758125\"/>\r\n      </g>\r\n     </g>\r\n     <g id=\"text_3\">\r\n      <!-- 95.5 -->\r\n      <g transform=\"translate(141.976644 254.356562)scale(0.1 -0.1)\">\r\n       <use xlink:href=\"#DejaVuSans-39\"/>\r\n       <use x=\"63.623047\" xlink:href=\"#DejaVuSans-35\"/>\r\n       <use x=\"127.246094\" xlink:href=\"#DejaVuSans-2e\"/>\r\n       <use x=\"159.033203\" xlink:href=\"#DejaVuSans-35\"/>\r\n      </g>\r\n     </g>\r\n    </g>\r\n    <g id=\"xtick_4\">\r\n     <g id=\"line2d_4\">\r\n      <g>\r\n       <use style=\"stroke:#000000;stroke-width:0.8;\" x=\"194.83969\" xlink:href=\"#ma71ac25814\" y=\"239.758125\"/>\r\n      </g>\r\n     </g>\r\n     <g id=\"text_4\">\r\n      <!-- 96.0 -->\r\n      <g transform=\"translate(183.706878 254.356562)scale(0.1 -0.1)\">\r\n       <defs>\r\n        <path d=\"M 2113 2584 \r\nQ 1688 2584 1439 2293 \r\nQ 1191 2003 1191 1497 \r\nQ 1191 994 1439 701 \r\nQ 1688 409 2113 409 \r\nQ 2538 409 2786 701 \r\nQ 3034 994 3034 1497 \r\nQ 3034 2003 2786 2293 \r\nQ 2538 2584 2113 2584 \r\nz\r\nM 3366 4563 \r\nL 3366 3988 \r\nQ 3128 4100 2886 4159 \r\nQ 2644 4219 2406 4219 \r\nQ 1781 4219 1451 3797 \r\nQ 1122 3375 1075 2522 \r\nQ 1259 2794 1537 2939 \r\nQ 1816 3084 2150 3084 \r\nQ 2853 3084 3261 2657 \r\nQ 3669 2231 3669 1497 \r\nQ 3669 778 3244 343 \r\nQ 2819 -91 2113 -91 \r\nQ 1303 -91 875 529 \r\nQ 447 1150 447 2328 \r\nQ 447 3434 972 4092 \r\nQ 1497 4750 2381 4750 \r\nQ 2619 4750 2861 4703 \r\nQ 3103 4656 3366 4563 \r\nz\r\n\" id=\"DejaVuSans-36\" transform=\"scale(0.015625)\"/>\r\n       </defs>\r\n       <use xlink:href=\"#DejaVuSans-39\"/>\r\n       <use x=\"63.623047\" xlink:href=\"#DejaVuSans-36\"/>\r\n       <use x=\"127.246094\" xlink:href=\"#DejaVuSans-2e\"/>\r\n       <use x=\"159.033203\" xlink:href=\"#DejaVuSans-30\"/>\r\n      </g>\r\n     </g>\r\n    </g>\r\n    <g id=\"xtick_5\">\r\n     <g id=\"line2d_5\">\r\n      <g>\r\n       <use style=\"stroke:#000000;stroke-width:0.8;\" x=\"236.569925\" xlink:href=\"#ma71ac25814\" y=\"239.758125\"/>\r\n      </g>\r\n     </g>\r\n     <g id=\"text_5\">\r\n      <!-- 96.5 -->\r\n      <g transform=\"translate(225.437112 254.356562)scale(0.1 -0.1)\">\r\n       <use xlink:href=\"#DejaVuSans-39\"/>\r\n       <use x=\"63.623047\" xlink:href=\"#DejaVuSans-36\"/>\r\n       <use x=\"127.246094\" xlink:href=\"#DejaVuSans-2e\"/>\r\n       <use x=\"159.033203\" xlink:href=\"#DejaVuSans-35\"/>\r\n      </g>\r\n     </g>\r\n    </g>\r\n    <g id=\"xtick_6\">\r\n     <g id=\"line2d_6\">\r\n      <g>\r\n       <use style=\"stroke:#000000;stroke-width:0.8;\" x=\"278.300159\" xlink:href=\"#ma71ac25814\" y=\"239.758125\"/>\r\n      </g>\r\n     </g>\r\n     <g id=\"text_6\">\r\n      <!-- 97.0 -->\r\n      <g transform=\"translate(267.167346 254.356562)scale(0.1 -0.1)\">\r\n       <defs>\r\n        <path d=\"M 525 4666 \r\nL 3525 4666 \r\nL 3525 4397 \r\nL 1831 0 \r\nL 1172 0 \r\nL 2766 4134 \r\nL 525 4134 \r\nL 525 4666 \r\nz\r\n\" id=\"DejaVuSans-37\" transform=\"scale(0.015625)\"/>\r\n       </defs>\r\n       <use xlink:href=\"#DejaVuSans-39\"/>\r\n       <use x=\"63.623047\" xlink:href=\"#DejaVuSans-37\"/>\r\n       <use x=\"127.246094\" xlink:href=\"#DejaVuSans-2e\"/>\r\n       <use x=\"159.033203\" xlink:href=\"#DejaVuSans-30\"/>\r\n      </g>\r\n     </g>\r\n    </g>\r\n    <g id=\"xtick_7\">\r\n     <g id=\"line2d_7\">\r\n      <g>\r\n       <use style=\"stroke:#000000;stroke-width:0.8;\" x=\"320.030393\" xlink:href=\"#ma71ac25814\" y=\"239.758125\"/>\r\n      </g>\r\n     </g>\r\n     <g id=\"text_7\">\r\n      <!-- 97.5 -->\r\n      <g transform=\"translate(308.89758 254.356562)scale(0.1 -0.1)\">\r\n       <use xlink:href=\"#DejaVuSans-39\"/>\r\n       <use x=\"63.623047\" xlink:href=\"#DejaVuSans-37\"/>\r\n       <use x=\"127.246094\" xlink:href=\"#DejaVuSans-2e\"/>\r\n       <use x=\"159.033203\" xlink:href=\"#DejaVuSans-35\"/>\r\n      </g>\r\n     </g>\r\n    </g>\r\n    <g id=\"xtick_8\">\r\n     <g id=\"line2d_8\">\r\n      <g>\r\n       <use style=\"stroke:#000000;stroke-width:0.8;\" x=\"361.760627\" xlink:href=\"#ma71ac25814\" y=\"239.758125\"/>\r\n      </g>\r\n     </g>\r\n     <g id=\"text_8\">\r\n      <!-- 98.0 -->\r\n      <g transform=\"translate(350.627815 254.356562)scale(0.1 -0.1)\">\r\n       <defs>\r\n        <path d=\"M 2034 2216 \r\nQ 1584 2216 1326 1975 \r\nQ 1069 1734 1069 1313 \r\nQ 1069 891 1326 650 \r\nQ 1584 409 2034 409 \r\nQ 2484 409 2743 651 \r\nQ 3003 894 3003 1313 \r\nQ 3003 1734 2745 1975 \r\nQ 2488 2216 2034 2216 \r\nz\r\nM 1403 2484 \r\nQ 997 2584 770 2862 \r\nQ 544 3141 544 3541 \r\nQ 544 4100 942 4425 \r\nQ 1341 4750 2034 4750 \r\nQ 2731 4750 3128 4425 \r\nQ 3525 4100 3525 3541 \r\nQ 3525 3141 3298 2862 \r\nQ 3072 2584 2669 2484 \r\nQ 3125 2378 3379 2068 \r\nQ 3634 1759 3634 1313 \r\nQ 3634 634 3220 271 \r\nQ 2806 -91 2034 -91 \r\nQ 1263 -91 848 271 \r\nQ 434 634 434 1313 \r\nQ 434 1759 690 2068 \r\nQ 947 2378 1403 2484 \r\nz\r\nM 1172 3481 \r\nQ 1172 3119 1398 2916 \r\nQ 1625 2713 2034 2713 \r\nQ 2441 2713 2670 2916 \r\nQ 2900 3119 2900 3481 \r\nQ 2900 3844 2670 4047 \r\nQ 2441 4250 2034 4250 \r\nQ 1625 4250 1398 4047 \r\nQ 1172 3844 1172 3481 \r\nz\r\n\" id=\"DejaVuSans-38\" transform=\"scale(0.015625)\"/>\r\n       </defs>\r\n       <use xlink:href=\"#DejaVuSans-39\"/>\r\n       <use x=\"63.623047\" xlink:href=\"#DejaVuSans-38\"/>\r\n       <use x=\"127.246094\" xlink:href=\"#DejaVuSans-2e\"/>\r\n       <use x=\"159.033203\" xlink:href=\"#DejaVuSans-30\"/>\r\n      </g>\r\n     </g>\r\n    </g>\r\n    <g id=\"text_9\">\r\n     <!-- Longitude -->\r\n     <g transform=\"translate(186.311719 268.034687)scale(0.1 -0.1)\">\r\n      <defs>\r\n       <path d=\"M 628 4666 \r\nL 1259 4666 \r\nL 1259 531 \r\nL 3531 531 \r\nL 3531 0 \r\nL 628 0 \r\nL 628 4666 \r\nz\r\n\" id=\"DejaVuSans-4c\" transform=\"scale(0.015625)\"/>\r\n       <path d=\"M 1959 3097 \r\nQ 1497 3097 1228 2736 \r\nQ 959 2375 959 1747 \r\nQ 959 1119 1226 758 \r\nQ 1494 397 1959 397 \r\nQ 2419 397 2687 759 \r\nQ 2956 1122 2956 1747 \r\nQ 2956 2369 2687 2733 \r\nQ 2419 3097 1959 3097 \r\nz\r\nM 1959 3584 \r\nQ 2709 3584 3137 3096 \r\nQ 3566 2609 3566 1747 \r\nQ 3566 888 3137 398 \r\nQ 2709 -91 1959 -91 \r\nQ 1206 -91 779 398 \r\nQ 353 888 353 1747 \r\nQ 353 2609 779 3096 \r\nQ 1206 3584 1959 3584 \r\nz\r\n\" id=\"DejaVuSans-6f\" transform=\"scale(0.015625)\"/>\r\n       <path d=\"M 3513 2113 \r\nL 3513 0 \r\nL 2938 0 \r\nL 2938 2094 \r\nQ 2938 2591 2744 2837 \r\nQ 2550 3084 2163 3084 \r\nQ 1697 3084 1428 2787 \r\nQ 1159 2491 1159 1978 \r\nL 1159 0 \r\nL 581 0 \r\nL 581 3500 \r\nL 1159 3500 \r\nL 1159 2956 \r\nQ 1366 3272 1645 3428 \r\nQ 1925 3584 2291 3584 \r\nQ 2894 3584 3203 3211 \r\nQ 3513 2838 3513 2113 \r\nz\r\n\" id=\"DejaVuSans-6e\" transform=\"scale(0.015625)\"/>\r\n       <path d=\"M 2906 1791 \r\nQ 2906 2416 2648 2759 \r\nQ 2391 3103 1925 3103 \r\nQ 1463 3103 1205 2759 \r\nQ 947 2416 947 1791 \r\nQ 947 1169 1205 825 \r\nQ 1463 481 1925 481 \r\nQ 2391 481 2648 825 \r\nQ 2906 1169 2906 1791 \r\nz\r\nM 3481 434 \r\nQ 3481 -459 3084 -895 \r\nQ 2688 -1331 1869 -1331 \r\nQ 1566 -1331 1297 -1286 \r\nQ 1028 -1241 775 -1147 \r\nL 775 -588 \r\nQ 1028 -725 1275 -790 \r\nQ 1522 -856 1778 -856 \r\nQ 2344 -856 2625 -561 \r\nQ 2906 -266 2906 331 \r\nL 2906 616 \r\nQ 2728 306 2450 153 \r\nQ 2172 0 1784 0 \r\nQ 1141 0 747 490 \r\nQ 353 981 353 1791 \r\nQ 353 2603 747 3093 \r\nQ 1141 3584 1784 3584 \r\nQ 2172 3584 2450 3431 \r\nQ 2728 3278 2906 2969 \r\nL 2906 3500 \r\nL 3481 3500 \r\nL 3481 434 \r\nz\r\n\" id=\"DejaVuSans-67\" transform=\"scale(0.015625)\"/>\r\n       <path d=\"M 603 3500 \r\nL 1178 3500 \r\nL 1178 0 \r\nL 603 0 \r\nL 603 3500 \r\nz\r\nM 603 4863 \r\nL 1178 4863 \r\nL 1178 4134 \r\nL 603 4134 \r\nL 603 4863 \r\nz\r\n\" id=\"DejaVuSans-69\" transform=\"scale(0.015625)\"/>\r\n       <path d=\"M 1172 4494 \r\nL 1172 3500 \r\nL 2356 3500 \r\nL 2356 3053 \r\nL 1172 3053 \r\nL 1172 1153 \r\nQ 1172 725 1289 603 \r\nQ 1406 481 1766 481 \r\nL 2356 481 \r\nL 2356 0 \r\nL 1766 0 \r\nQ 1100 0 847 248 \r\nQ 594 497 594 1153 \r\nL 594 3053 \r\nL 172 3053 \r\nL 172 3500 \r\nL 594 3500 \r\nL 594 4494 \r\nL 1172 4494 \r\nz\r\n\" id=\"DejaVuSans-74\" transform=\"scale(0.015625)\"/>\r\n       <path d=\"M 544 1381 \r\nL 544 3500 \r\nL 1119 3500 \r\nL 1119 1403 \r\nQ 1119 906 1312 657 \r\nQ 1506 409 1894 409 \r\nQ 2359 409 2629 706 \r\nQ 2900 1003 2900 1516 \r\nL 2900 3500 \r\nL 3475 3500 \r\nL 3475 0 \r\nL 2900 0 \r\nL 2900 538 \r\nQ 2691 219 2414 64 \r\nQ 2138 -91 1772 -91 \r\nQ 1169 -91 856 284 \r\nQ 544 659 544 1381 \r\nz\r\nM 1991 3584 \r\nL 1991 3584 \r\nz\r\n\" id=\"DejaVuSans-75\" transform=\"scale(0.015625)\"/>\r\n       <path d=\"M 2906 2969 \r\nL 2906 4863 \r\nL 3481 4863 \r\nL 3481 0 \r\nL 2906 0 \r\nL 2906 525 \r\nQ 2725 213 2448 61 \r\nQ 2172 -91 1784 -91 \r\nQ 1150 -91 751 415 \r\nQ 353 922 353 1747 \r\nQ 353 2572 751 3078 \r\nQ 1150 3584 1784 3584 \r\nQ 2172 3584 2448 3432 \r\nQ 2725 3281 2906 2969 \r\nz\r\nM 947 1747 \r\nQ 947 1113 1208 752 \r\nQ 1469 391 1925 391 \r\nQ 2381 391 2643 752 \r\nQ 2906 1113 2906 1747 \r\nQ 2906 2381 2643 2742 \r\nQ 2381 3103 1925 3103 \r\nQ 1469 3103 1208 2742 \r\nQ 947 2381 947 1747 \r\nz\r\n\" id=\"DejaVuSans-64\" transform=\"scale(0.015625)\"/>\r\n       <path d=\"M 3597 1894 \r\nL 3597 1613 \r\nL 953 1613 \r\nQ 991 1019 1311 708 \r\nQ 1631 397 2203 397 \r\nQ 2534 397 2845 478 \r\nQ 3156 559 3463 722 \r\nL 3463 178 \r\nQ 3153 47 2828 -22 \r\nQ 2503 -91 2169 -91 \r\nQ 1331 -91 842 396 \r\nQ 353 884 353 1716 \r\nQ 353 2575 817 3079 \r\nQ 1281 3584 2069 3584 \r\nQ 2775 3584 3186 3129 \r\nQ 3597 2675 3597 1894 \r\nz\r\nM 3022 2063 \r\nQ 3016 2534 2758 2815 \r\nQ 2500 3097 2075 3097 \r\nQ 1594 3097 1305 2825 \r\nQ 1016 2553 972 2059 \r\nL 3022 2063 \r\nz\r\n\" id=\"DejaVuSans-65\" transform=\"scale(0.015625)\"/>\r\n      </defs>\r\n      <use xlink:href=\"#DejaVuSans-4c\"/>\r\n      <use x=\"53.962891\" xlink:href=\"#DejaVuSans-6f\"/>\r\n      <use x=\"115.144531\" xlink:href=\"#DejaVuSans-6e\"/>\r\n      <use x=\"178.523438\" xlink:href=\"#DejaVuSans-67\"/>\r\n      <use x=\"242\" xlink:href=\"#DejaVuSans-69\"/>\r\n      <use x=\"269.783203\" xlink:href=\"#DejaVuSans-74\"/>\r\n      <use x=\"308.992188\" xlink:href=\"#DejaVuSans-75\"/>\r\n      <use x=\"372.371094\" xlink:href=\"#DejaVuSans-64\"/>\r\n      <use x=\"435.847656\" xlink:href=\"#DejaVuSans-65\"/>\r\n     </g>\r\n    </g>\r\n   </g>\r\n   <g id=\"matplotlib.axis_2\">\r\n    <g id=\"ytick_1\">\r\n     <g id=\"line2d_9\">\r\n      <defs>\r\n       <path d=\"M 0 0 \r\nL -3.5 0 \r\n\" id=\"m45f44f0442\" style=\"stroke:#000000;stroke-width:0.8;\"/>\r\n      </defs>\r\n      <g>\r\n       <use style=\"stroke:#000000;stroke-width:0.8;\" x=\"43.78125\" xlink:href=\"#m45f44f0442\" y=\"232.90886\"/>\r\n      </g>\r\n     </g>\r\n     <g id=\"text_10\">\r\n      <!-- 3.0 -->\r\n      <g transform=\"translate(20.878125 236.708078)scale(0.1 -0.1)\">\r\n       <defs>\r\n        <path d=\"M 2597 2516 \r\nQ 3050 2419 3304 2112 \r\nQ 3559 1806 3559 1356 \r\nQ 3559 666 3084 287 \r\nQ 2609 -91 1734 -91 \r\nQ 1441 -91 1130 -33 \r\nQ 819 25 488 141 \r\nL 488 750 \r\nQ 750 597 1062 519 \r\nQ 1375 441 1716 441 \r\nQ 2309 441 2620 675 \r\nQ 2931 909 2931 1356 \r\nQ 2931 1769 2642 2001 \r\nQ 2353 2234 1838 2234 \r\nL 1294 2234 \r\nL 1294 2753 \r\nL 1863 2753 \r\nQ 2328 2753 2575 2939 \r\nQ 2822 3125 2822 3475 \r\nQ 2822 3834 2567 4026 \r\nQ 2313 4219 1838 4219 \r\nQ 1578 4219 1281 4162 \r\nQ 984 4106 628 3988 \r\nL 628 4550 \r\nQ 988 4650 1302 4700 \r\nQ 1616 4750 1894 4750 \r\nQ 2613 4750 3031 4423 \r\nQ 3450 4097 3450 3541 \r\nQ 3450 3153 3228 2886 \r\nQ 3006 2619 2597 2516 \r\nz\r\n\" id=\"DejaVuSans-33\" transform=\"scale(0.015625)\"/>\r\n       </defs>\r\n       <use xlink:href=\"#DejaVuSans-33\"/>\r\n       <use x=\"63.623047\" xlink:href=\"#DejaVuSans-2e\"/>\r\n       <use x=\"95.410156\" xlink:href=\"#DejaVuSans-30\"/>\r\n      </g>\r\n     </g>\r\n    </g>\r\n    <g id=\"ytick_2\">\r\n     <g id=\"line2d_10\">\r\n      <g>\r\n       <use style=\"stroke:#000000;stroke-width:0.8;\" x=\"43.78125\" xlink:href=\"#m45f44f0442\" y=\"196.956597\"/>\r\n      </g>\r\n     </g>\r\n     <g id=\"text_11\">\r\n      <!-- 3.5 -->\r\n      <g transform=\"translate(20.878125 200.755816)scale(0.1 -0.1)\">\r\n       <use xlink:href=\"#DejaVuSans-33\"/>\r\n       <use x=\"63.623047\" xlink:href=\"#DejaVuSans-2e\"/>\r\n       <use x=\"95.410156\" xlink:href=\"#DejaVuSans-35\"/>\r\n      </g>\r\n     </g>\r\n    </g>\r\n    <g id=\"ytick_3\">\r\n     <g id=\"line2d_11\">\r\n      <g>\r\n       <use style=\"stroke:#000000;stroke-width:0.8;\" x=\"43.78125\" xlink:href=\"#m45f44f0442\" y=\"161.004335\"/>\r\n      </g>\r\n     </g>\r\n     <g id=\"text_12\">\r\n      <!-- 4.0 -->\r\n      <g transform=\"translate(20.878125 164.803554)scale(0.1 -0.1)\">\r\n       <use xlink:href=\"#DejaVuSans-34\"/>\r\n       <use x=\"63.623047\" xlink:href=\"#DejaVuSans-2e\"/>\r\n       <use x=\"95.410156\" xlink:href=\"#DejaVuSans-30\"/>\r\n      </g>\r\n     </g>\r\n    </g>\r\n    <g id=\"ytick_4\">\r\n     <g id=\"line2d_12\">\r\n      <g>\r\n       <use style=\"stroke:#000000;stroke-width:0.8;\" x=\"43.78125\" xlink:href=\"#m45f44f0442\" y=\"125.052073\"/>\r\n      </g>\r\n     </g>\r\n     <g id=\"text_13\">\r\n      <!-- 4.5 -->\r\n      <g transform=\"translate(20.878125 128.851292)scale(0.1 -0.1)\">\r\n       <use xlink:href=\"#DejaVuSans-34\"/>\r\n       <use x=\"63.623047\" xlink:href=\"#DejaVuSans-2e\"/>\r\n       <use x=\"95.410156\" xlink:href=\"#DejaVuSans-35\"/>\r\n      </g>\r\n     </g>\r\n    </g>\r\n    <g id=\"ytick_5\">\r\n     <g id=\"line2d_13\">\r\n      <g>\r\n       <use style=\"stroke:#000000;stroke-width:0.8;\" x=\"43.78125\" xlink:href=\"#m45f44f0442\" y=\"89.099811\"/>\r\n      </g>\r\n     </g>\r\n     <g id=\"text_14\">\r\n      <!-- 5.0 -->\r\n      <g transform=\"translate(20.878125 92.89903)scale(0.1 -0.1)\">\r\n       <use xlink:href=\"#DejaVuSans-35\"/>\r\n       <use x=\"63.623047\" xlink:href=\"#DejaVuSans-2e\"/>\r\n       <use x=\"95.410156\" xlink:href=\"#DejaVuSans-30\"/>\r\n      </g>\r\n     </g>\r\n    </g>\r\n    <g id=\"ytick_6\">\r\n     <g id=\"line2d_14\">\r\n      <g>\r\n       <use style=\"stroke:#000000;stroke-width:0.8;\" x=\"43.78125\" xlink:href=\"#m45f44f0442\" y=\"53.147549\"/>\r\n      </g>\r\n     </g>\r\n     <g id=\"text_15\">\r\n      <!-- 5.5 -->\r\n      <g transform=\"translate(20.878125 56.946768)scale(0.1 -0.1)\">\r\n       <use xlink:href=\"#DejaVuSans-35\"/>\r\n       <use x=\"63.623047\" xlink:href=\"#DejaVuSans-2e\"/>\r\n       <use x=\"95.410156\" xlink:href=\"#DejaVuSans-35\"/>\r\n      </g>\r\n     </g>\r\n    </g>\r\n    <g id=\"text_16\">\r\n     <!-- Latitude -->\r\n     <g transform=\"translate(14.798438 151.617031)rotate(-90)scale(0.1 -0.1)\">\r\n      <defs>\r\n       <path d=\"M 2194 1759 \r\nQ 1497 1759 1228 1600 \r\nQ 959 1441 959 1056 \r\nQ 959 750 1161 570 \r\nQ 1363 391 1709 391 \r\nQ 2188 391 2477 730 \r\nQ 2766 1069 2766 1631 \r\nL 2766 1759 \r\nL 2194 1759 \r\nz\r\nM 3341 1997 \r\nL 3341 0 \r\nL 2766 0 \r\nL 2766 531 \r\nQ 2569 213 2275 61 \r\nQ 1981 -91 1556 -91 \r\nQ 1019 -91 701 211 \r\nQ 384 513 384 1019 \r\nQ 384 1609 779 1909 \r\nQ 1175 2209 1959 2209 \r\nL 2766 2209 \r\nL 2766 2266 \r\nQ 2766 2663 2505 2880 \r\nQ 2244 3097 1772 3097 \r\nQ 1472 3097 1187 3025 \r\nQ 903 2953 641 2809 \r\nL 641 3341 \r\nQ 956 3463 1253 3523 \r\nQ 1550 3584 1831 3584 \r\nQ 2591 3584 2966 3190 \r\nQ 3341 2797 3341 1997 \r\nz\r\n\" id=\"DejaVuSans-61\" transform=\"scale(0.015625)\"/>\r\n      </defs>\r\n      <use xlink:href=\"#DejaVuSans-4c\"/>\r\n      <use x=\"55.712891\" xlink:href=\"#DejaVuSans-61\"/>\r\n      <use x=\"116.992188\" xlink:href=\"#DejaVuSans-74\"/>\r\n      <use x=\"156.201172\" xlink:href=\"#DejaVuSans-69\"/>\r\n      <use x=\"183.984375\" xlink:href=\"#DejaVuSans-74\"/>\r\n      <use x=\"223.193359\" xlink:href=\"#DejaVuSans-75\"/>\r\n      <use x=\"286.572266\" xlink:href=\"#DejaVuSans-64\"/>\r\n      <use x=\"350.048828\" xlink:href=\"#DejaVuSans-65\"/>\r\n     </g>\r\n    </g>\r\n   </g>\r\n   <g id=\"patch_3\">\r\n    <path d=\"M 43.78125 239.758125 \r\nL 43.78125 22.318125 \r\n\" style=\"fill:none;stroke:#000000;stroke-linecap:square;stroke-linejoin:miter;stroke-width:0.8;\"/>\r\n   </g>\r\n   <g id=\"patch_4\">\r\n    <path d=\"M 378.58125 239.758125 \r\nL 378.58125 22.318125 \r\n\" style=\"fill:none;stroke:#000000;stroke-linecap:square;stroke-linejoin:miter;stroke-width:0.8;\"/>\r\n   </g>\r\n   <g id=\"patch_5\">\r\n    <path d=\"M 43.78125 239.758125 \r\nL 378.58125 239.758125 \r\n\" style=\"fill:none;stroke:#000000;stroke-linecap:square;stroke-linejoin:miter;stroke-width:0.8;\"/>\r\n   </g>\r\n   <g id=\"patch_6\">\r\n    <path d=\"M 43.78125 22.318125 \r\nL 378.58125 22.318125 \r\n\" style=\"fill:none;stroke:#000000;stroke-linecap:square;stroke-linejoin:miter;stroke-width:0.8;\"/>\r\n   </g>\r\n   <g id=\"text_17\">\r\n    <!-- Scatter Plot -->\r\n    <g transform=\"translate(176.318438 16.318125)scale(0.12 -0.12)\">\r\n     <defs>\r\n      <path d=\"M 3425 4513 \r\nL 3425 3897 \r\nQ 3066 4069 2747 4153 \r\nQ 2428 4238 2131 4238 \r\nQ 1616 4238 1336 4038 \r\nQ 1056 3838 1056 3469 \r\nQ 1056 3159 1242 3001 \r\nQ 1428 2844 1947 2747 \r\nL 2328 2669 \r\nQ 3034 2534 3370 2195 \r\nQ 3706 1856 3706 1288 \r\nQ 3706 609 3251 259 \r\nQ 2797 -91 1919 -91 \r\nQ 1588 -91 1214 -16 \r\nQ 841 59 441 206 \r\nL 441 856 \r\nQ 825 641 1194 531 \r\nQ 1563 422 1919 422 \r\nQ 2459 422 2753 634 \r\nQ 3047 847 3047 1241 \r\nQ 3047 1584 2836 1778 \r\nQ 2625 1972 2144 2069 \r\nL 1759 2144 \r\nQ 1053 2284 737 2584 \r\nQ 422 2884 422 3419 \r\nQ 422 4038 858 4394 \r\nQ 1294 4750 2059 4750 \r\nQ 2388 4750 2728 4690 \r\nQ 3069 4631 3425 4513 \r\nz\r\n\" id=\"DejaVuSans-53\" transform=\"scale(0.015625)\"/>\r\n      <path d=\"M 3122 3366 \r\nL 3122 2828 \r\nQ 2878 2963 2633 3030 \r\nQ 2388 3097 2138 3097 \r\nQ 1578 3097 1268 2742 \r\nQ 959 2388 959 1747 \r\nQ 959 1106 1268 751 \r\nQ 1578 397 2138 397 \r\nQ 2388 397 2633 464 \r\nQ 2878 531 3122 666 \r\nL 3122 134 \r\nQ 2881 22 2623 -34 \r\nQ 2366 -91 2075 -91 \r\nQ 1284 -91 818 406 \r\nQ 353 903 353 1747 \r\nQ 353 2603 823 3093 \r\nQ 1294 3584 2113 3584 \r\nQ 2378 3584 2631 3529 \r\nQ 2884 3475 3122 3366 \r\nz\r\n\" id=\"DejaVuSans-63\" transform=\"scale(0.015625)\"/>\r\n      <path d=\"M 2631 2963 \r\nQ 2534 3019 2420 3045 \r\nQ 2306 3072 2169 3072 \r\nQ 1681 3072 1420 2755 \r\nQ 1159 2438 1159 1844 \r\nL 1159 0 \r\nL 581 0 \r\nL 581 3500 \r\nL 1159 3500 \r\nL 1159 2956 \r\nQ 1341 3275 1631 3429 \r\nQ 1922 3584 2338 3584 \r\nQ 2397 3584 2469 3576 \r\nQ 2541 3569 2628 3553 \r\nL 2631 2963 \r\nz\r\n\" id=\"DejaVuSans-72\" transform=\"scale(0.015625)\"/>\r\n      <path id=\"DejaVuSans-20\" transform=\"scale(0.015625)\"/>\r\n      <path d=\"M 1259 4147 \r\nL 1259 2394 \r\nL 2053 2394 \r\nQ 2494 2394 2734 2622 \r\nQ 2975 2850 2975 3272 \r\nQ 2975 3691 2734 3919 \r\nQ 2494 4147 2053 4147 \r\nL 1259 4147 \r\nz\r\nM 628 4666 \r\nL 2053 4666 \r\nQ 2838 4666 3239 4311 \r\nQ 3641 3956 3641 3272 \r\nQ 3641 2581 3239 2228 \r\nQ 2838 1875 2053 1875 \r\nL 1259 1875 \r\nL 1259 0 \r\nL 628 0 \r\nL 628 4666 \r\nz\r\n\" id=\"DejaVuSans-50\" transform=\"scale(0.015625)\"/>\r\n      <path d=\"M 603 4863 \r\nL 1178 4863 \r\nL 1178 0 \r\nL 603 0 \r\nL 603 4863 \r\nz\r\n\" id=\"DejaVuSans-6c\" transform=\"scale(0.015625)\"/>\r\n     </defs>\r\n     <use xlink:href=\"#DejaVuSans-53\"/>\r\n     <use x=\"63.476562\" xlink:href=\"#DejaVuSans-63\"/>\r\n     <use x=\"118.457031\" xlink:href=\"#DejaVuSans-61\"/>\r\n     <use x=\"179.736328\" xlink:href=\"#DejaVuSans-74\"/>\r\n     <use x=\"218.945312\" xlink:href=\"#DejaVuSans-74\"/>\r\n     <use x=\"258.154297\" xlink:href=\"#DejaVuSans-65\"/>\r\n     <use x=\"319.677734\" xlink:href=\"#DejaVuSans-72\"/>\r\n     <use x=\"360.791016\" xlink:href=\"#DejaVuSans-20\"/>\r\n     <use x=\"392.578125\" xlink:href=\"#DejaVuSans-50\"/>\r\n     <use x=\"452.880859\" xlink:href=\"#DejaVuSans-6c\"/>\r\n     <use x=\"480.664062\" xlink:href=\"#DejaVuSans-6f\"/>\r\n     <use x=\"541.845703\" xlink:href=\"#DejaVuSans-74\"/>\r\n    </g>\r\n   </g>\r\n  </g>\r\n </g>\r\n <defs>\r\n  <clipPath id=\"p52774d0955\">\r\n   <rect height=\"217.44\" width=\"334.8\" x=\"43.78125\" y=\"22.318125\"/>\r\n  </clipPath>\r\n </defs>\r\n</svg>\r\n",
      "image/png": "[encoded data removed]"
     },
     "metadata": {
      "needs_background": "light"
     }
    }
   ],
   "metadata": {}
  },
  {
   "cell_type": "markdown",
   "source": [
    "We can plot multiple graphs by using subplot"
   ],
   "metadata": {}
  },
  {
   "cell_type": "code",
   "execution_count": 153,
   "source": [
    "plt.figure(figsize=(10,5))\r\n",
    "plt.subplot(1,2,1)\r\n",
    "plt.plot(current_data['Mag'],current_data['Depth'], '+', markersize=10)\r\n",
    "plt.xlabel('Magnitude')\r\n",
    "plt.ylabel('Depth')\r\n",
    "plt.title('Mag vs Depth')\r\n",
    "\r\n",
    "\r\n",
    "plt.subplot(1,2,2)\r\n",
    "plt.plot(current_data['Longitude'],current_data['Latitude'], '.', markersize=10)\r\n",
    "plt.xlabel('Longitude')\r\n",
    "plt.ylabel('Latitude')\r\n",
    "plt.title('Coordinate')"
   ],
   "outputs": [
    {
     "output_type": "execute_result",
     "data": {
      "text/plain": [
       "Text(0.5, 1.0, 'Coordinate')"
      ]
     },
     "metadata": {},
     "execution_count": 153
    },
    {
     "output_type": "display_data",
     "data": {
      "text/plain": [
       "<Figure size 720x360 with 2 Axes>"
      ],
      "image/svg+xml": "<?xml version=\"1.0\" encoding=\"utf-8\" standalone=\"no\"?>\r\n<!DOCTYPE svg PUBLIC \"-//W3C//DTD SVG 1.1//EN\"\r\n  \"http://www.w3.org/Graphics/SVG/1.1/DTD/svg11.dtd\">\r\n<svg height=\"331.674375pt\" version=\"1.1\" viewBox=\"0 0 612.165625 331.674375\" width=\"612.165625pt\" xmlns=\"http://www.w3.org/2000/svg\" xmlns:xlink=\"http://www.w3.org/1999/xlink\">\r\n <metadata>\r\n  <rdf:RDF xmlns:cc=\"http://creativecommons.org/ns#\" xmlns:dc=\"http://purl.org/dc/elements/1.1/\" xmlns:rdf=\"http://www.w3.org/1999/02/22-rdf-syntax-ns#\">\r\n   <cc:Work>\r\n    <dc:type rdf:resource=\"http://purl.org/dc/dcmitype/StillImage\"/>\r\n    <dc:date>2021-08-29T15:21:26.876747</dc:date>\r\n    <dc:format>image/svg+xml</dc:format>\r\n    <dc:creator>\r\n     <cc:Agent>\r\n      <dc:title>Matplotlib v3.4.1, https://matplotlib.org/</dc:title>\r\n     </cc:Agent>\r\n    </dc:creator>\r\n   </cc:Work>\r\n  </rdf:RDF>\r\n </metadata>\r\n <defs>\r\n  <style type=\"text/css\">*{stroke-linecap:butt;stroke-linejoin:round;}</style>\r\n </defs>\r\n <g id=\"figure_1\">\r\n  <g id=\"patch_1\">\r\n   <path d=\"M 0 331.674375 \r\nL 612.165625 331.674375 \r\nL 612.165625 0 \r\nL 0 0 \r\nz\r\n\" style=\"fill:none;\"/>\r\n  </g>\r\n  <g id=\"axes_1\">\r\n   <g id=\"patch_2\">\r\n    <path d=\"M 46.965625 294.118125 \r\nL 300.601989 294.118125 \r\nL 300.601989 22.318125 \r\nL 46.965625 22.318125 \r\nz\r\n\" style=\"fill:#ffffff;\"/>\r\n   </g>\r\n   <g id=\"matplotlib.axis_1\">\r\n    <g id=\"xtick_1\">\r\n     <g id=\"line2d_1\">\r\n      <defs>\r\n       <path d=\"M 0 0 \r\nL 0 3.5 \r\n\" id=\"mbd1270b33c\" style=\"stroke:#000000;stroke-width:0.8;\"/>\r\n      </defs>\r\n      <g>\r\n       <use style=\"stroke:#000000;stroke-width:0.8;\" x=\"58.494551\" xlink:href=\"#mbd1270b33c\" y=\"294.118125\"/>\r\n      </g>\r\n     </g>\r\n     <g id=\"text_1\">\r\n      <!-- 4.0 -->\r\n      <g transform=\"translate(50.542988 308.716563)scale(0.1 -0.1)\">\r\n       <defs>\r\n        <path d=\"M 2419 4116 \r\nL 825 1625 \r\nL 2419 1625 \r\nL 2419 4116 \r\nz\r\nM 2253 4666 \r\nL 3047 4666 \r\nL 3047 1625 \r\nL 3713 1625 \r\nL 3713 1100 \r\nL 3047 1100 \r\nL 3047 0 \r\nL 2419 0 \r\nL 2419 1100 \r\nL 313 1100 \r\nL 313 1709 \r\nL 2253 4666 \r\nz\r\n\" id=\"DejaVuSans-34\" transform=\"scale(0.015625)\"/>\r\n        <path d=\"M 684 794 \r\nL 1344 794 \r\nL 1344 0 \r\nL 684 0 \r\nL 684 794 \r\nz\r\n\" id=\"DejaVuSans-2e\" transform=\"scale(0.015625)\"/>\r\n        <path d=\"M 2034 4250 \r\nQ 1547 4250 1301 3770 \r\nQ 1056 3291 1056 2328 \r\nQ 1056 1369 1301 889 \r\nQ 1547 409 2034 409 \r\nQ 2525 409 2770 889 \r\nQ 3016 1369 3016 2328 \r\nQ 3016 3291 2770 3770 \r\nQ 2525 4250 2034 4250 \r\nz\r\nM 2034 4750 \r\nQ 2819 4750 3233 4129 \r\nQ 3647 3509 3647 2328 \r\nQ 3647 1150 3233 529 \r\nQ 2819 -91 2034 -91 \r\nQ 1250 -91 836 529 \r\nQ 422 1150 422 2328 \r\nQ 422 3509 836 4129 \r\nQ 1250 4750 2034 4750 \r\nz\r\n\" id=\"DejaVuSans-30\" transform=\"scale(0.015625)\"/>\r\n       </defs>\r\n       <use xlink:href=\"#DejaVuSans-34\"/>\r\n       <use x=\"63.623047\" xlink:href=\"#DejaVuSans-2e\"/>\r\n       <use x=\"95.410156\" xlink:href=\"#DejaVuSans-30\"/>\r\n      </g>\r\n     </g>\r\n    </g>\r\n    <g id=\"xtick_2\">\r\n     <g id=\"line2d_2\">\r\n      <g>\r\n       <use style=\"stroke:#000000;stroke-width:0.8;\" x=\"100.417917\" xlink:href=\"#mbd1270b33c\" y=\"294.118125\"/>\r\n      </g>\r\n     </g>\r\n     <g id=\"text_2\">\r\n      <!-- 4.2 -->\r\n      <g transform=\"translate(92.466354 308.716563)scale(0.1 -0.1)\">\r\n       <defs>\r\n        <path d=\"M 1228 531 \r\nL 3431 531 \r\nL 3431 0 \r\nL 469 0 \r\nL 469 531 \r\nQ 828 903 1448 1529 \r\nQ 2069 2156 2228 2338 \r\nQ 2531 2678 2651 2914 \r\nQ 2772 3150 2772 3378 \r\nQ 2772 3750 2511 3984 \r\nQ 2250 4219 1831 4219 \r\nQ 1534 4219 1204 4116 \r\nQ 875 4013 500 3803 \r\nL 500 4441 \r\nQ 881 4594 1212 4672 \r\nQ 1544 4750 1819 4750 \r\nQ 2544 4750 2975 4387 \r\nQ 3406 4025 3406 3419 \r\nQ 3406 3131 3298 2873 \r\nQ 3191 2616 2906 2266 \r\nQ 2828 2175 2409 1742 \r\nQ 1991 1309 1228 531 \r\nz\r\n\" id=\"DejaVuSans-32\" transform=\"scale(0.015625)\"/>\r\n       </defs>\r\n       <use xlink:href=\"#DejaVuSans-34\"/>\r\n       <use x=\"63.623047\" xlink:href=\"#DejaVuSans-2e\"/>\r\n       <use x=\"95.410156\" xlink:href=\"#DejaVuSans-32\"/>\r\n      </g>\r\n     </g>\r\n    </g>\r\n    <g id=\"xtick_3\">\r\n     <g id=\"line2d_3\">\r\n      <g>\r\n       <use style=\"stroke:#000000;stroke-width:0.8;\" x=\"142.341282\" xlink:href=\"#mbd1270b33c\" y=\"294.118125\"/>\r\n      </g>\r\n     </g>\r\n     <g id=\"text_3\">\r\n      <!-- 4.4 -->\r\n      <g transform=\"translate(134.38972 308.716563)scale(0.1 -0.1)\">\r\n       <use xlink:href=\"#DejaVuSans-34\"/>\r\n       <use x=\"63.623047\" xlink:href=\"#DejaVuSans-2e\"/>\r\n       <use x=\"95.410156\" xlink:href=\"#DejaVuSans-34\"/>\r\n      </g>\r\n     </g>\r\n    </g>\r\n    <g id=\"xtick_4\">\r\n     <g id=\"line2d_4\">\r\n      <g>\r\n       <use style=\"stroke:#000000;stroke-width:0.8;\" x=\"184.264648\" xlink:href=\"#mbd1270b33c\" y=\"294.118125\"/>\r\n      </g>\r\n     </g>\r\n     <g id=\"text_4\">\r\n      <!-- 4.6 -->\r\n      <g transform=\"translate(176.313086 308.716563)scale(0.1 -0.1)\">\r\n       <defs>\r\n        <path d=\"M 2113 2584 \r\nQ 1688 2584 1439 2293 \r\nQ 1191 2003 1191 1497 \r\nQ 1191 994 1439 701 \r\nQ 1688 409 2113 409 \r\nQ 2538 409 2786 701 \r\nQ 3034 994 3034 1497 \r\nQ 3034 2003 2786 2293 \r\nQ 2538 2584 2113 2584 \r\nz\r\nM 3366 4563 \r\nL 3366 3988 \r\nQ 3128 4100 2886 4159 \r\nQ 2644 4219 2406 4219 \r\nQ 1781 4219 1451 3797 \r\nQ 1122 3375 1075 2522 \r\nQ 1259 2794 1537 2939 \r\nQ 1816 3084 2150 3084 \r\nQ 2853 3084 3261 2657 \r\nQ 3669 2231 3669 1497 \r\nQ 3669 778 3244 343 \r\nQ 2819 -91 2113 -91 \r\nQ 1303 -91 875 529 \r\nQ 447 1150 447 2328 \r\nQ 447 3434 972 4092 \r\nQ 1497 4750 2381 4750 \r\nQ 2619 4750 2861 4703 \r\nQ 3103 4656 3366 4563 \r\nz\r\n\" id=\"DejaVuSans-36\" transform=\"scale(0.015625)\"/>\r\n       </defs>\r\n       <use xlink:href=\"#DejaVuSans-34\"/>\r\n       <use x=\"63.623047\" xlink:href=\"#DejaVuSans-2e\"/>\r\n       <use x=\"95.410156\" xlink:href=\"#DejaVuSans-36\"/>\r\n      </g>\r\n     </g>\r\n    </g>\r\n    <g id=\"xtick_5\">\r\n     <g id=\"line2d_5\">\r\n      <g>\r\n       <use style=\"stroke:#000000;stroke-width:0.8;\" x=\"226.188014\" xlink:href=\"#mbd1270b33c\" y=\"294.118125\"/>\r\n      </g>\r\n     </g>\r\n     <g id=\"text_5\">\r\n      <!-- 4.8 -->\r\n      <g transform=\"translate(218.236452 308.716563)scale(0.1 -0.1)\">\r\n       <defs>\r\n        <path d=\"M 2034 2216 \r\nQ 1584 2216 1326 1975 \r\nQ 1069 1734 1069 1313 \r\nQ 1069 891 1326 650 \r\nQ 1584 409 2034 409 \r\nQ 2484 409 2743 651 \r\nQ 3003 894 3003 1313 \r\nQ 3003 1734 2745 1975 \r\nQ 2488 2216 2034 2216 \r\nz\r\nM 1403 2484 \r\nQ 997 2584 770 2862 \r\nQ 544 3141 544 3541 \r\nQ 544 4100 942 4425 \r\nQ 1341 4750 2034 4750 \r\nQ 2731 4750 3128 4425 \r\nQ 3525 4100 3525 3541 \r\nQ 3525 3141 3298 2862 \r\nQ 3072 2584 2669 2484 \r\nQ 3125 2378 3379 2068 \r\nQ 3634 1759 3634 1313 \r\nQ 3634 634 3220 271 \r\nQ 2806 -91 2034 -91 \r\nQ 1263 -91 848 271 \r\nQ 434 634 434 1313 \r\nQ 434 1759 690 2068 \r\nQ 947 2378 1403 2484 \r\nz\r\nM 1172 3481 \r\nQ 1172 3119 1398 2916 \r\nQ 1625 2713 2034 2713 \r\nQ 2441 2713 2670 2916 \r\nQ 2900 3119 2900 3481 \r\nQ 2900 3844 2670 4047 \r\nQ 2441 4250 2034 4250 \r\nQ 1625 4250 1398 4047 \r\nQ 1172 3844 1172 3481 \r\nz\r\n\" id=\"DejaVuSans-38\" transform=\"scale(0.015625)\"/>\r\n       </defs>\r\n       <use xlink:href=\"#DejaVuSans-34\"/>\r\n       <use x=\"63.623047\" xlink:href=\"#DejaVuSans-2e\"/>\r\n       <use x=\"95.410156\" xlink:href=\"#DejaVuSans-38\"/>\r\n      </g>\r\n     </g>\r\n    </g>\r\n    <g id=\"xtick_6\">\r\n     <g id=\"line2d_6\">\r\n      <g>\r\n       <use style=\"stroke:#000000;stroke-width:0.8;\" x=\"268.11138\" xlink:href=\"#mbd1270b33c\" y=\"294.118125\"/>\r\n      </g>\r\n     </g>\r\n     <g id=\"text_6\">\r\n      <!-- 5.0 -->\r\n      <g transform=\"translate(260.159818 308.716563)scale(0.1 -0.1)\">\r\n       <defs>\r\n        <path d=\"M 691 4666 \r\nL 3169 4666 \r\nL 3169 4134 \r\nL 1269 4134 \r\nL 1269 2991 \r\nQ 1406 3038 1543 3061 \r\nQ 1681 3084 1819 3084 \r\nQ 2600 3084 3056 2656 \r\nQ 3513 2228 3513 1497 \r\nQ 3513 744 3044 326 \r\nQ 2575 -91 1722 -91 \r\nQ 1428 -91 1123 -41 \r\nQ 819 9 494 109 \r\nL 494 744 \r\nQ 775 591 1075 516 \r\nQ 1375 441 1709 441 \r\nQ 2250 441 2565 725 \r\nQ 2881 1009 2881 1497 \r\nQ 2881 1984 2565 2268 \r\nQ 2250 2553 1709 2553 \r\nQ 1456 2553 1204 2497 \r\nQ 953 2441 691 2322 \r\nL 691 4666 \r\nz\r\n\" id=\"DejaVuSans-35\" transform=\"scale(0.015625)\"/>\r\n       </defs>\r\n       <use xlink:href=\"#DejaVuSans-35\"/>\r\n       <use x=\"63.623047\" xlink:href=\"#DejaVuSans-2e\"/>\r\n       <use x=\"95.410156\" xlink:href=\"#DejaVuSans-30\"/>\r\n      </g>\r\n     </g>\r\n    </g>\r\n    <g id=\"text_7\">\r\n     <!-- Magnitude -->\r\n     <g transform=\"translate(147.293963 322.394687)scale(0.1 -0.1)\">\r\n      <defs>\r\n       <path d=\"M 628 4666 \r\nL 1569 4666 \r\nL 2759 1491 \r\nL 3956 4666 \r\nL 4897 4666 \r\nL 4897 0 \r\nL 4281 0 \r\nL 4281 4097 \r\nL 3078 897 \r\nL 2444 897 \r\nL 1241 4097 \r\nL 1241 0 \r\nL 628 0 \r\nL 628 4666 \r\nz\r\n\" id=\"DejaVuSans-4d\" transform=\"scale(0.015625)\"/>\r\n       <path d=\"M 2194 1759 \r\nQ 1497 1759 1228 1600 \r\nQ 959 1441 959 1056 \r\nQ 959 750 1161 570 \r\nQ 1363 391 1709 391 \r\nQ 2188 391 2477 730 \r\nQ 2766 1069 2766 1631 \r\nL 2766 1759 \r\nL 2194 1759 \r\nz\r\nM 3341 1997 \r\nL 3341 0 \r\nL 2766 0 \r\nL 2766 531 \r\nQ 2569 213 2275 61 \r\nQ 1981 -91 1556 -91 \r\nQ 1019 -91 701 211 \r\nQ 384 513 384 1019 \r\nQ 384 1609 779 1909 \r\nQ 1175 2209 1959 2209 \r\nL 2766 2209 \r\nL 2766 2266 \r\nQ 2766 2663 2505 2880 \r\nQ 2244 3097 1772 3097 \r\nQ 1472 3097 1187 3025 \r\nQ 903 2953 641 2809 \r\nL 641 3341 \r\nQ 956 3463 1253 3523 \r\nQ 1550 3584 1831 3584 \r\nQ 2591 3584 2966 3190 \r\nQ 3341 2797 3341 1997 \r\nz\r\n\" id=\"DejaVuSans-61\" transform=\"scale(0.015625)\"/>\r\n       <path d=\"M 2906 1791 \r\nQ 2906 2416 2648 2759 \r\nQ 2391 3103 1925 3103 \r\nQ 1463 3103 1205 2759 \r\nQ 947 2416 947 1791 \r\nQ 947 1169 1205 825 \r\nQ 1463 481 1925 481 \r\nQ 2391 481 2648 825 \r\nQ 2906 1169 2906 1791 \r\nz\r\nM 3481 434 \r\nQ 3481 -459 3084 -895 \r\nQ 2688 -1331 1869 -1331 \r\nQ 1566 -1331 1297 -1286 \r\nQ 1028 -1241 775 -1147 \r\nL 775 -588 \r\nQ 1028 -725 1275 -790 \r\nQ 1522 -856 1778 -856 \r\nQ 2344 -856 2625 -561 \r\nQ 2906 -266 2906 331 \r\nL 2906 616 \r\nQ 2728 306 2450 153 \r\nQ 2172 0 1784 0 \r\nQ 1141 0 747 490 \r\nQ 353 981 353 1791 \r\nQ 353 2603 747 3093 \r\nQ 1141 3584 1784 3584 \r\nQ 2172 3584 2450 3431 \r\nQ 2728 3278 2906 2969 \r\nL 2906 3500 \r\nL 3481 3500 \r\nL 3481 434 \r\nz\r\n\" id=\"DejaVuSans-67\" transform=\"scale(0.015625)\"/>\r\n       <path d=\"M 3513 2113 \r\nL 3513 0 \r\nL 2938 0 \r\nL 2938 2094 \r\nQ 2938 2591 2744 2837 \r\nQ 2550 3084 2163 3084 \r\nQ 1697 3084 1428 2787 \r\nQ 1159 2491 1159 1978 \r\nL 1159 0 \r\nL 581 0 \r\nL 581 3500 \r\nL 1159 3500 \r\nL 1159 2956 \r\nQ 1366 3272 1645 3428 \r\nQ 1925 3584 2291 3584 \r\nQ 2894 3584 3203 3211 \r\nQ 3513 2838 3513 2113 \r\nz\r\n\" id=\"DejaVuSans-6e\" transform=\"scale(0.015625)\"/>\r\n       <path d=\"M 603 3500 \r\nL 1178 3500 \r\nL 1178 0 \r\nL 603 0 \r\nL 603 3500 \r\nz\r\nM 603 4863 \r\nL 1178 4863 \r\nL 1178 4134 \r\nL 603 4134 \r\nL 603 4863 \r\nz\r\n\" id=\"DejaVuSans-69\" transform=\"scale(0.015625)\"/>\r\n       <path d=\"M 1172 4494 \r\nL 1172 3500 \r\nL 2356 3500 \r\nL 2356 3053 \r\nL 1172 3053 \r\nL 1172 1153 \r\nQ 1172 725 1289 603 \r\nQ 1406 481 1766 481 \r\nL 2356 481 \r\nL 2356 0 \r\nL 1766 0 \r\nQ 1100 0 847 248 \r\nQ 594 497 594 1153 \r\nL 594 3053 \r\nL 172 3053 \r\nL 172 3500 \r\nL 594 3500 \r\nL 594 4494 \r\nL 1172 4494 \r\nz\r\n\" id=\"DejaVuSans-74\" transform=\"scale(0.015625)\"/>\r\n       <path d=\"M 544 1381 \r\nL 544 3500 \r\nL 1119 3500 \r\nL 1119 1403 \r\nQ 1119 906 1312 657 \r\nQ 1506 409 1894 409 \r\nQ 2359 409 2629 706 \r\nQ 2900 1003 2900 1516 \r\nL 2900 3500 \r\nL 3475 3500 \r\nL 3475 0 \r\nL 2900 0 \r\nL 2900 538 \r\nQ 2691 219 2414 64 \r\nQ 2138 -91 1772 -91 \r\nQ 1169 -91 856 284 \r\nQ 544 659 544 1381 \r\nz\r\nM 1991 3584 \r\nL 1991 3584 \r\nz\r\n\" id=\"DejaVuSans-75\" transform=\"scale(0.015625)\"/>\r\n       <path d=\"M 2906 2969 \r\nL 2906 4863 \r\nL 3481 4863 \r\nL 3481 0 \r\nL 2906 0 \r\nL 2906 525 \r\nQ 2725 213 2448 61 \r\nQ 2172 -91 1784 -91 \r\nQ 1150 -91 751 415 \r\nQ 353 922 353 1747 \r\nQ 353 2572 751 3078 \r\nQ 1150 3584 1784 3584 \r\nQ 2172 3584 2448 3432 \r\nQ 2725 3281 2906 2969 \r\nz\r\nM 947 1747 \r\nQ 947 1113 1208 752 \r\nQ 1469 391 1925 391 \r\nQ 2381 391 2643 752 \r\nQ 2906 1113 2906 1747 \r\nQ 2906 2381 2643 2742 \r\nQ 2381 3103 1925 3103 \r\nQ 1469 3103 1208 2742 \r\nQ 947 2381 947 1747 \r\nz\r\n\" id=\"DejaVuSans-64\" transform=\"scale(0.015625)\"/>\r\n       <path d=\"M 3597 1894 \r\nL 3597 1613 \r\nL 953 1613 \r\nQ 991 1019 1311 708 \r\nQ 1631 397 2203 397 \r\nQ 2534 397 2845 478 \r\nQ 3156 559 3463 722 \r\nL 3463 178 \r\nQ 3153 47 2828 -22 \r\nQ 2503 -91 2169 -91 \r\nQ 1331 -91 842 396 \r\nQ 353 884 353 1716 \r\nQ 353 2575 817 3079 \r\nQ 1281 3584 2069 3584 \r\nQ 2775 3584 3186 3129 \r\nQ 3597 2675 3597 1894 \r\nz\r\nM 3022 2063 \r\nQ 3016 2534 2758 2815 \r\nQ 2500 3097 2075 3097 \r\nQ 1594 3097 1305 2825 \r\nQ 1016 2553 972 2059 \r\nL 3022 2063 \r\nz\r\n\" id=\"DejaVuSans-65\" transform=\"scale(0.015625)\"/>\r\n      </defs>\r\n      <use xlink:href=\"#DejaVuSans-4d\"/>\r\n      <use x=\"86.279297\" xlink:href=\"#DejaVuSans-61\"/>\r\n      <use x=\"147.558594\" xlink:href=\"#DejaVuSans-67\"/>\r\n      <use x=\"211.035156\" xlink:href=\"#DejaVuSans-6e\"/>\r\n      <use x=\"274.414062\" xlink:href=\"#DejaVuSans-69\"/>\r\n      <use x=\"302.197266\" xlink:href=\"#DejaVuSans-74\"/>\r\n      <use x=\"341.40625\" xlink:href=\"#DejaVuSans-75\"/>\r\n      <use x=\"404.785156\" xlink:href=\"#DejaVuSans-64\"/>\r\n      <use x=\"468.261719\" xlink:href=\"#DejaVuSans-65\"/>\r\n     </g>\r\n    </g>\r\n   </g>\r\n   <g id=\"matplotlib.axis_2\">\r\n    <g id=\"ytick_1\">\r\n     <g id=\"line2d_7\">\r\n      <defs>\r\n       <path d=\"M 0 0 \r\nL -3.5 0 \r\n\" id=\"mc679163fb2\" style=\"stroke:#000000;stroke-width:0.8;\"/>\r\n      </defs>\r\n      <g>\r\n       <use style=\"stroke:#000000;stroke-width:0.8;\" x=\"46.965625\" xlink:href=\"#mc679163fb2\" y=\"289.013845\"/>\r\n      </g>\r\n     </g>\r\n     <g id=\"text_8\">\r\n      <!-- 0 -->\r\n      <g transform=\"translate(33.603125 292.813064)scale(0.1 -0.1)\">\r\n       <use xlink:href=\"#DejaVuSans-30\"/>\r\n      </g>\r\n     </g>\r\n    </g>\r\n    <g id=\"ytick_2\">\r\n     <g id=\"line2d_8\">\r\n      <g>\r\n       <use style=\"stroke:#000000;stroke-width:0.8;\" x=\"46.965625\" xlink:href=\"#mc679163fb2\" y=\"230.825519\"/>\r\n      </g>\r\n     </g>\r\n     <g id=\"text_9\">\r\n      <!-- 50 -->\r\n      <g transform=\"translate(27.240625 234.624737)scale(0.1 -0.1)\">\r\n       <use xlink:href=\"#DejaVuSans-35\"/>\r\n       <use x=\"63.623047\" xlink:href=\"#DejaVuSans-30\"/>\r\n      </g>\r\n     </g>\r\n    </g>\r\n    <g id=\"ytick_3\">\r\n     <g id=\"line2d_9\">\r\n      <g>\r\n       <use style=\"stroke:#000000;stroke-width:0.8;\" x=\"46.965625\" xlink:href=\"#mc679163fb2\" y=\"172.637192\"/>\r\n      </g>\r\n     </g>\r\n     <g id=\"text_10\">\r\n      <!-- 100 -->\r\n      <g transform=\"translate(20.878125 176.436411)scale(0.1 -0.1)\">\r\n       <defs>\r\n        <path d=\"M 794 531 \r\nL 1825 531 \r\nL 1825 4091 \r\nL 703 3866 \r\nL 703 4441 \r\nL 1819 4666 \r\nL 2450 4666 \r\nL 2450 531 \r\nL 3481 531 \r\nL 3481 0 \r\nL 794 0 \r\nL 794 531 \r\nz\r\n\" id=\"DejaVuSans-31\" transform=\"scale(0.015625)\"/>\r\n       </defs>\r\n       <use xlink:href=\"#DejaVuSans-31\"/>\r\n       <use x=\"63.623047\" xlink:href=\"#DejaVuSans-30\"/>\r\n       <use x=\"127.246094\" xlink:href=\"#DejaVuSans-30\"/>\r\n      </g>\r\n     </g>\r\n    </g>\r\n    <g id=\"ytick_4\">\r\n     <g id=\"line2d_10\">\r\n      <g>\r\n       <use style=\"stroke:#000000;stroke-width:0.8;\" x=\"46.965625\" xlink:href=\"#mc679163fb2\" y=\"114.448866\"/>\r\n      </g>\r\n     </g>\r\n     <g id=\"text_11\">\r\n      <!-- 150 -->\r\n      <g transform=\"translate(20.878125 118.248085)scale(0.1 -0.1)\">\r\n       <use xlink:href=\"#DejaVuSans-31\"/>\r\n       <use x=\"63.623047\" xlink:href=\"#DejaVuSans-35\"/>\r\n       <use x=\"127.246094\" xlink:href=\"#DejaVuSans-30\"/>\r\n      </g>\r\n     </g>\r\n    </g>\r\n    <g id=\"ytick_5\">\r\n     <g id=\"line2d_11\">\r\n      <g>\r\n       <use style=\"stroke:#000000;stroke-width:0.8;\" x=\"46.965625\" xlink:href=\"#mc679163fb2\" y=\"56.26054\"/>\r\n      </g>\r\n     </g>\r\n     <g id=\"text_12\">\r\n      <!-- 200 -->\r\n      <g transform=\"translate(20.878125 60.059758)scale(0.1 -0.1)\">\r\n       <use xlink:href=\"#DejaVuSans-32\"/>\r\n       <use x=\"63.623047\" xlink:href=\"#DejaVuSans-30\"/>\r\n       <use x=\"127.246094\" xlink:href=\"#DejaVuSans-30\"/>\r\n      </g>\r\n     </g>\r\n    </g>\r\n    <g id=\"text_13\">\r\n     <!-- Depth -->\r\n     <g transform=\"translate(14.798437 173.447813)rotate(-90)scale(0.1 -0.1)\">\r\n      <defs>\r\n       <path d=\"M 1259 4147 \r\nL 1259 519 \r\nL 2022 519 \r\nQ 2988 519 3436 956 \r\nQ 3884 1394 3884 2338 \r\nQ 3884 3275 3436 3711 \r\nQ 2988 4147 2022 4147 \r\nL 1259 4147 \r\nz\r\nM 628 4666 \r\nL 1925 4666 \r\nQ 3281 4666 3915 4102 \r\nQ 4550 3538 4550 2338 \r\nQ 4550 1131 3912 565 \r\nQ 3275 0 1925 0 \r\nL 628 0 \r\nL 628 4666 \r\nz\r\n\" id=\"DejaVuSans-44\" transform=\"scale(0.015625)\"/>\r\n       <path d=\"M 1159 525 \r\nL 1159 -1331 \r\nL 581 -1331 \r\nL 581 3500 \r\nL 1159 3500 \r\nL 1159 2969 \r\nQ 1341 3281 1617 3432 \r\nQ 1894 3584 2278 3584 \r\nQ 2916 3584 3314 3078 \r\nQ 3713 2572 3713 1747 \r\nQ 3713 922 3314 415 \r\nQ 2916 -91 2278 -91 \r\nQ 1894 -91 1617 61 \r\nQ 1341 213 1159 525 \r\nz\r\nM 3116 1747 \r\nQ 3116 2381 2855 2742 \r\nQ 2594 3103 2138 3103 \r\nQ 1681 3103 1420 2742 \r\nQ 1159 2381 1159 1747 \r\nQ 1159 1113 1420 752 \r\nQ 1681 391 2138 391 \r\nQ 2594 391 2855 752 \r\nQ 3116 1113 3116 1747 \r\nz\r\n\" id=\"DejaVuSans-70\" transform=\"scale(0.015625)\"/>\r\n       <path d=\"M 3513 2113 \r\nL 3513 0 \r\nL 2938 0 \r\nL 2938 2094 \r\nQ 2938 2591 2744 2837 \r\nQ 2550 3084 2163 3084 \r\nQ 1697 3084 1428 2787 \r\nQ 1159 2491 1159 1978 \r\nL 1159 0 \r\nL 581 0 \r\nL 581 4863 \r\nL 1159 4863 \r\nL 1159 2956 \r\nQ 1366 3272 1645 3428 \r\nQ 1925 3584 2291 3584 \r\nQ 2894 3584 3203 3211 \r\nQ 3513 2838 3513 2113 \r\nz\r\n\" id=\"DejaVuSans-68\" transform=\"scale(0.015625)\"/>\r\n      </defs>\r\n      <use xlink:href=\"#DejaVuSans-44\"/>\r\n      <use x=\"77.001953\" xlink:href=\"#DejaVuSans-65\"/>\r\n      <use x=\"138.525391\" xlink:href=\"#DejaVuSans-70\"/>\r\n      <use x=\"202.001953\" xlink:href=\"#DejaVuSans-74\"/>\r\n      <use x=\"241.210938\" xlink:href=\"#DejaVuSans-68\"/>\r\n     </g>\r\n    </g>\r\n   </g>\r\n   <g id=\"line2d_12\">\r\n    <defs>\r\n     <path d=\"M -5 0 \r\nL 5 0 \r\nM 0 5 \r\nL 0 -5 \r\n\" id=\"m0bb1dd1bfc\" style=\"stroke:#1f77b4;\"/>\r\n    </defs>\r\n    <g clip-path=\"url(#pb3fd90d615)\">\r\n     <use style=\"fill:#1f77b4;stroke:#1f77b4;\" x=\"289.073063\" xlink:href=\"#m0bb1dd1bfc\" y=\"277.37618\"/>\r\n     <use style=\"fill:#1f77b4;stroke:#1f77b4;\" x=\"268.11138\" xlink:href=\"#m0bb1dd1bfc\" y=\"256.556397\"/>\r\n     <use style=\"fill:#1f77b4;stroke:#1f77b4;\" x=\"268.11138\" xlink:href=\"#m0bb1dd1bfc\" y=\"147.569661\"/>\r\n     <use style=\"fill:#1f77b4;stroke:#1f77b4;\" x=\"268.11138\" xlink:href=\"#m0bb1dd1bfc\" y=\"214.5677\"/>\r\n     <use style=\"fill:#1f77b4;stroke:#1f77b4;\" x=\"268.11138\" xlink:href=\"#m0bb1dd1bfc\" y=\"171.776005\"/>\r\n     <use style=\"fill:#1f77b4;stroke:#1f77b4;\" x=\"247.149697\" xlink:href=\"#m0bb1dd1bfc\" y=\"232.187125\"/>\r\n     <use style=\"fill:#1f77b4;stroke:#1f77b4;\" x=\"247.149697\" xlink:href=\"#m0bb1dd1bfc\" y=\"213.578499\"/>\r\n     <use style=\"fill:#1f77b4;stroke:#1f77b4;\" x=\"247.149697\" xlink:href=\"#m0bb1dd1bfc\" y=\"279.110192\"/>\r\n     <use style=\"fill:#1f77b4;stroke:#1f77b4;\" x=\"247.149697\" xlink:href=\"#m0bb1dd1bfc\" y=\"281.76358\"/>\r\n     <use style=\"fill:#1f77b4;stroke:#1f77b4;\" x=\"226.188014\" xlink:href=\"#m0bb1dd1bfc\" y=\"277.37618\"/>\r\n     <use style=\"fill:#1f77b4;stroke:#1f77b4;\" x=\"205.226331\" xlink:href=\"#m0bb1dd1bfc\" y=\"109.374844\"/>\r\n     <use style=\"fill:#1f77b4;stroke:#1f77b4;\" x=\"184.264648\" xlink:href=\"#m0bb1dd1bfc\" y=\"277.37618\"/>\r\n     <use style=\"fill:#1f77b4;stroke:#1f77b4;\" x=\"184.264648\" xlink:href=\"#m0bb1dd1bfc\" y=\"238.390001\"/>\r\n     <use style=\"fill:#1f77b4;stroke:#1f77b4;\" x=\"184.264648\" xlink:href=\"#m0bb1dd1bfc\" y=\"230.790606\"/>\r\n     <use style=\"fill:#1f77b4;stroke:#1f77b4;\" x=\"163.302965\" xlink:href=\"#m0bb1dd1bfc\" y=\"230.02252\"/>\r\n     <use style=\"fill:#1f77b4;stroke:#1f77b4;\" x=\"163.302965\" xlink:href=\"#m0bb1dd1bfc\" y=\"277.37618\"/>\r\n     <use style=\"fill:#1f77b4;stroke:#1f77b4;\" x=\"163.302965\" xlink:href=\"#m0bb1dd1bfc\" y=\"200.055532\"/>\r\n     <use style=\"fill:#1f77b4;stroke:#1f77b4;\" x=\"163.302965\" xlink:href=\"#m0bb1dd1bfc\" y=\"277.37618\"/>\r\n     <use style=\"fill:#1f77b4;stroke:#1f77b4;\" x=\"163.302965\" xlink:href=\"#m0bb1dd1bfc\" y=\"185.403711\"/>\r\n     <use style=\"fill:#1f77b4;stroke:#1f77b4;\" x=\"163.302965\" xlink:href=\"#m0bb1dd1bfc\" y=\"232.734096\"/>\r\n     <use style=\"fill:#1f77b4;stroke:#1f77b4;\" x=\"163.302965\" xlink:href=\"#m0bb1dd1bfc\" y=\"277.37618\"/>\r\n     <use style=\"fill:#1f77b4;stroke:#1f77b4;\" x=\"142.341282\" xlink:href=\"#m0bb1dd1bfc\" y=\"212.053965\"/>\r\n     <use style=\"fill:#1f77b4;stroke:#1f77b4;\" x=\"142.341282\" xlink:href=\"#m0bb1dd1bfc\" y=\"225.379091\"/>\r\n     <use style=\"fill:#1f77b4;stroke:#1f77b4;\" x=\"142.341282\" xlink:href=\"#m0bb1dd1bfc\" y=\"226.077351\"/>\r\n     <use style=\"fill:#1f77b4;stroke:#1f77b4;\" x=\"142.341282\" xlink:href=\"#m0bb1dd1bfc\" y=\"248.282017\"/>\r\n     <use style=\"fill:#1f77b4;stroke:#1f77b4;\" x=\"142.341282\" xlink:href=\"#m0bb1dd1bfc\" y=\"63.499167\"/>\r\n     <use style=\"fill:#1f77b4;stroke:#1f77b4;\" x=\"142.341282\" xlink:href=\"#m0bb1dd1bfc\" y=\"277.37618\"/>\r\n     <use style=\"fill:#1f77b4;stroke:#1f77b4;\" x=\"142.341282\" xlink:href=\"#m0bb1dd1bfc\" y=\"178.269822\"/>\r\n     <use style=\"fill:#1f77b4;stroke:#1f77b4;\" x=\"121.379599\" xlink:href=\"#m0bb1dd1bfc\" y=\"256.928802\"/>\r\n     <use style=\"fill:#1f77b4;stroke:#1f77b4;\" x=\"121.379599\" xlink:href=\"#m0bb1dd1bfc\" y=\"277.37618\"/>\r\n     <use style=\"fill:#1f77b4;stroke:#1f77b4;\" x=\"121.379599\" xlink:href=\"#m0bb1dd1bfc\" y=\"125.364996\"/>\r\n     <use style=\"fill:#1f77b4;stroke:#1f77b4;\" x=\"121.379599\" xlink:href=\"#m0bb1dd1bfc\" y=\"225.053237\"/>\r\n     <use style=\"fill:#1f77b4;stroke:#1f77b4;\" x=\"121.379599\" xlink:href=\"#m0bb1dd1bfc\" y=\"277.37618\"/>\r\n     <use style=\"fill:#1f77b4;stroke:#1f77b4;\" x=\"100.417917\" xlink:href=\"#m0bb1dd1bfc\" y=\"248.282017\"/>\r\n     <use style=\"fill:#1f77b4;stroke:#1f77b4;\" x=\"100.417917\" xlink:href=\"#m0bb1dd1bfc\" y=\"248.282017\"/>\r\n     <use style=\"fill:#1f77b4;stroke:#1f77b4;\" x=\"100.417917\" xlink:href=\"#m0bb1dd1bfc\" y=\"248.282017\"/>\r\n     <use style=\"fill:#1f77b4;stroke:#1f77b4;\" x=\"100.417917\" xlink:href=\"#m0bb1dd1bfc\" y=\"217.686595\"/>\r\n     <use style=\"fill:#1f77b4;stroke:#1f77b4;\" x=\"100.417917\" xlink:href=\"#m0bb1dd1bfc\" y=\"224.808846\"/>\r\n     <use style=\"fill:#1f77b4;stroke:#1f77b4;\" x=\"79.456234\" xlink:href=\"#m0bb1dd1bfc\" y=\"248.282017\"/>\r\n     <use style=\"fill:#1f77b4;stroke:#1f77b4;\" x=\"79.456234\" xlink:href=\"#m0bb1dd1bfc\" y=\"34.67267\"/>\r\n     <use style=\"fill:#1f77b4;stroke:#1f77b4;\" x=\"58.494551\" xlink:href=\"#m0bb1dd1bfc\" y=\"210.785459\"/>\r\n    </g>\r\n   </g>\r\n   <g id=\"patch_3\">\r\n    <path d=\"M 46.965625 294.118125 \r\nL 46.965625 22.318125 \r\n\" style=\"fill:none;stroke:#000000;stroke-linecap:square;stroke-linejoin:miter;stroke-width:0.8;\"/>\r\n   </g>\r\n   <g id=\"patch_4\">\r\n    <path d=\"M 300.601989 294.118125 \r\nL 300.601989 22.318125 \r\n\" style=\"fill:none;stroke:#000000;stroke-linecap:square;stroke-linejoin:miter;stroke-width:0.8;\"/>\r\n   </g>\r\n   <g id=\"patch_5\">\r\n    <path d=\"M 46.965625 294.118125 \r\nL 300.601989 294.118125 \r\n\" style=\"fill:none;stroke:#000000;stroke-linecap:square;stroke-linejoin:miter;stroke-width:0.8;\"/>\r\n   </g>\r\n   <g id=\"patch_6\">\r\n    <path d=\"M 46.965625 22.318125 \r\nL 300.601989 22.318125 \r\n\" style=\"fill:none;stroke:#000000;stroke-linecap:square;stroke-linejoin:miter;stroke-width:0.8;\"/>\r\n   </g>\r\n   <g id=\"text_14\">\r\n    <!-- Mag vs Depth -->\r\n    <g transform=\"translate(132.354744 16.318125)scale(0.12 -0.12)\">\r\n     <defs>\r\n      <path id=\"DejaVuSans-20\" transform=\"scale(0.015625)\"/>\r\n      <path d=\"M 191 3500 \r\nL 800 3500 \r\nL 1894 563 \r\nL 2988 3500 \r\nL 3597 3500 \r\nL 2284 0 \r\nL 1503 0 \r\nL 191 3500 \r\nz\r\n\" id=\"DejaVuSans-76\" transform=\"scale(0.015625)\"/>\r\n      <path d=\"M 2834 3397 \r\nL 2834 2853 \r\nQ 2591 2978 2328 3040 \r\nQ 2066 3103 1784 3103 \r\nQ 1356 3103 1142 2972 \r\nQ 928 2841 928 2578 \r\nQ 928 2378 1081 2264 \r\nQ 1234 2150 1697 2047 \r\nL 1894 2003 \r\nQ 2506 1872 2764 1633 \r\nQ 3022 1394 3022 966 \r\nQ 3022 478 2636 193 \r\nQ 2250 -91 1575 -91 \r\nQ 1294 -91 989 -36 \r\nQ 684 19 347 128 \r\nL 347 722 \r\nQ 666 556 975 473 \r\nQ 1284 391 1588 391 \r\nQ 1994 391 2212 530 \r\nQ 2431 669 2431 922 \r\nQ 2431 1156 2273 1281 \r\nQ 2116 1406 1581 1522 \r\nL 1381 1569 \r\nQ 847 1681 609 1914 \r\nQ 372 2147 372 2553 \r\nQ 372 3047 722 3315 \r\nQ 1072 3584 1716 3584 \r\nQ 2034 3584 2315 3537 \r\nQ 2597 3491 2834 3397 \r\nz\r\n\" id=\"DejaVuSans-73\" transform=\"scale(0.015625)\"/>\r\n     </defs>\r\n     <use xlink:href=\"#DejaVuSans-4d\"/>\r\n     <use x=\"86.279297\" xlink:href=\"#DejaVuSans-61\"/>\r\n     <use x=\"147.558594\" xlink:href=\"#DejaVuSans-67\"/>\r\n     <use x=\"211.035156\" xlink:href=\"#DejaVuSans-20\"/>\r\n     <use x=\"242.822266\" xlink:href=\"#DejaVuSans-76\"/>\r\n     <use x=\"302.001953\" xlink:href=\"#DejaVuSans-73\"/>\r\n     <use x=\"354.101562\" xlink:href=\"#DejaVuSans-20\"/>\r\n     <use x=\"385.888672\" xlink:href=\"#DejaVuSans-44\"/>\r\n     <use x=\"462.890625\" xlink:href=\"#DejaVuSans-65\"/>\r\n     <use x=\"524.414062\" xlink:href=\"#DejaVuSans-70\"/>\r\n     <use x=\"587.890625\" xlink:href=\"#DejaVuSans-74\"/>\r\n     <use x=\"627.099609\" xlink:href=\"#DejaVuSans-68\"/>\r\n    </g>\r\n   </g>\r\n  </g>\r\n  <g id=\"axes_2\">\r\n   <g id=\"patch_7\">\r\n    <path d=\"M 351.329261 294.118125 \r\nL 604.965625 294.118125 \r\nL 604.965625 22.318125 \r\nL 351.329261 22.318125 \r\nz\r\n\" style=\"fill:#ffffff;\"/>\r\n   </g>\r\n   <g id=\"matplotlib.axis_3\">\r\n    <g id=\"xtick_7\">\r\n     <g id=\"line2d_13\">\r\n      <g>\r\n       <use style=\"stroke:#000000;stroke-width:0.8;\" x=\"402.539846\" xlink:href=\"#mbd1270b33c\" y=\"294.118125\"/>\r\n      </g>\r\n     </g>\r\n     <g id=\"text_15\">\r\n      <!-- 95 -->\r\n      <g transform=\"translate(396.177346 308.716563)scale(0.1 -0.1)\">\r\n       <defs>\r\n        <path d=\"M 703 97 \r\nL 703 672 \r\nQ 941 559 1184 500 \r\nQ 1428 441 1663 441 \r\nQ 2288 441 2617 861 \r\nQ 2947 1281 2994 2138 \r\nQ 2813 1869 2534 1725 \r\nQ 2256 1581 1919 1581 \r\nQ 1219 1581 811 2004 \r\nQ 403 2428 403 3163 \r\nQ 403 3881 828 4315 \r\nQ 1253 4750 1959 4750 \r\nQ 2769 4750 3195 4129 \r\nQ 3622 3509 3622 2328 \r\nQ 3622 1225 3098 567 \r\nQ 2575 -91 1691 -91 \r\nQ 1453 -91 1209 -44 \r\nQ 966 3 703 97 \r\nz\r\nM 1959 2075 \r\nQ 2384 2075 2632 2365 \r\nQ 2881 2656 2881 3163 \r\nQ 2881 3666 2632 3958 \r\nQ 2384 4250 1959 4250 \r\nQ 1534 4250 1286 3958 \r\nQ 1038 3666 1038 3163 \r\nQ 1038 2656 1286 2365 \r\nQ 1534 2075 1959 2075 \r\nz\r\n\" id=\"DejaVuSans-39\" transform=\"scale(0.015625)\"/>\r\n       </defs>\r\n       <use xlink:href=\"#DejaVuSans-39\"/>\r\n       <use x=\"63.623047\" xlink:href=\"#DejaVuSans-35\"/>\r\n      </g>\r\n     </g>\r\n    </g>\r\n    <g id=\"xtick_8\">\r\n     <g id=\"line2d_14\">\r\n      <g>\r\n       <use style=\"stroke:#000000;stroke-width:0.8;\" x=\"465.767474\" xlink:href=\"#mbd1270b33c\" y=\"294.118125\"/>\r\n      </g>\r\n     </g>\r\n     <g id=\"text_16\">\r\n      <!-- 96 -->\r\n      <g transform=\"translate(459.404974 308.716563)scale(0.1 -0.1)\">\r\n       <use xlink:href=\"#DejaVuSans-39\"/>\r\n       <use x=\"63.623047\" xlink:href=\"#DejaVuSans-36\"/>\r\n      </g>\r\n     </g>\r\n    </g>\r\n    <g id=\"xtick_9\">\r\n     <g id=\"line2d_15\">\r\n      <g>\r\n       <use style=\"stroke:#000000;stroke-width:0.8;\" x=\"528.995101\" xlink:href=\"#mbd1270b33c\" y=\"294.118125\"/>\r\n      </g>\r\n     </g>\r\n     <g id=\"text_17\">\r\n      <!-- 97 -->\r\n      <g transform=\"translate(522.632601 308.716563)scale(0.1 -0.1)\">\r\n       <defs>\r\n        <path d=\"M 525 4666 \r\nL 3525 4666 \r\nL 3525 4397 \r\nL 1831 0 \r\nL 1172 0 \r\nL 2766 4134 \r\nL 525 4134 \r\nL 525 4666 \r\nz\r\n\" id=\"DejaVuSans-37\" transform=\"scale(0.015625)\"/>\r\n       </defs>\r\n       <use xlink:href=\"#DejaVuSans-39\"/>\r\n       <use x=\"63.623047\" xlink:href=\"#DejaVuSans-37\"/>\r\n      </g>\r\n     </g>\r\n    </g>\r\n    <g id=\"xtick_10\">\r\n     <g id=\"line2d_16\">\r\n      <g>\r\n       <use style=\"stroke:#000000;stroke-width:0.8;\" x=\"592.222729\" xlink:href=\"#mbd1270b33c\" y=\"294.118125\"/>\r\n      </g>\r\n     </g>\r\n     <g id=\"text_18\">\r\n      <!-- 98 -->\r\n      <g transform=\"translate(585.860229 308.716563)scale(0.1 -0.1)\">\r\n       <use xlink:href=\"#DejaVuSans-39\"/>\r\n       <use x=\"63.623047\" xlink:href=\"#DejaVuSans-38\"/>\r\n      </g>\r\n     </g>\r\n    </g>\r\n    <g id=\"text_19\">\r\n     <!-- Longitude -->\r\n     <g transform=\"translate(453.277912 322.394687)scale(0.1 -0.1)\">\r\n      <defs>\r\n       <path d=\"M 628 4666 \r\nL 1259 4666 \r\nL 1259 531 \r\nL 3531 531 \r\nL 3531 0 \r\nL 628 0 \r\nL 628 4666 \r\nz\r\n\" id=\"DejaVuSans-4c\" transform=\"scale(0.015625)\"/>\r\n       <path d=\"M 1959 3097 \r\nQ 1497 3097 1228 2736 \r\nQ 959 2375 959 1747 \r\nQ 959 1119 1226 758 \r\nQ 1494 397 1959 397 \r\nQ 2419 397 2687 759 \r\nQ 2956 1122 2956 1747 \r\nQ 2956 2369 2687 2733 \r\nQ 2419 3097 1959 3097 \r\nz\r\nM 1959 3584 \r\nQ 2709 3584 3137 3096 \r\nQ 3566 2609 3566 1747 \r\nQ 3566 888 3137 398 \r\nQ 2709 -91 1959 -91 \r\nQ 1206 -91 779 398 \r\nQ 353 888 353 1747 \r\nQ 353 2609 779 3096 \r\nQ 1206 3584 1959 3584 \r\nz\r\n\" id=\"DejaVuSans-6f\" transform=\"scale(0.015625)\"/>\r\n      </defs>\r\n      <use xlink:href=\"#DejaVuSans-4c\"/>\r\n      <use x=\"53.962891\" xlink:href=\"#DejaVuSans-6f\"/>\r\n      <use x=\"115.144531\" xlink:href=\"#DejaVuSans-6e\"/>\r\n      <use x=\"178.523438\" xlink:href=\"#DejaVuSans-67\"/>\r\n      <use x=\"242\" xlink:href=\"#DejaVuSans-69\"/>\r\n      <use x=\"269.783203\" xlink:href=\"#DejaVuSans-74\"/>\r\n      <use x=\"308.992188\" xlink:href=\"#DejaVuSans-75\"/>\r\n      <use x=\"372.371094\" xlink:href=\"#DejaVuSans-64\"/>\r\n      <use x=\"435.847656\" xlink:href=\"#DejaVuSans-65\"/>\r\n     </g>\r\n    </g>\r\n   </g>\r\n   <g id=\"matplotlib.axis_4\">\r\n    <g id=\"ytick_6\">\r\n     <g id=\"line2d_17\">\r\n      <g>\r\n       <use style=\"stroke:#000000;stroke-width:0.8;\" x=\"351.329261\" xlink:href=\"#mc679163fb2\" y=\"285.556543\"/>\r\n      </g>\r\n     </g>\r\n     <g id=\"text_20\">\r\n      <!-- 3.0 -->\r\n      <g transform=\"translate(328.426136 289.355762)scale(0.1 -0.1)\">\r\n       <defs>\r\n        <path d=\"M 2597 2516 \r\nQ 3050 2419 3304 2112 \r\nQ 3559 1806 3559 1356 \r\nQ 3559 666 3084 287 \r\nQ 2609 -91 1734 -91 \r\nQ 1441 -91 1130 -33 \r\nQ 819 25 488 141 \r\nL 488 750 \r\nQ 750 597 1062 519 \r\nQ 1375 441 1716 441 \r\nQ 2309 441 2620 675 \r\nQ 2931 909 2931 1356 \r\nQ 2931 1769 2642 2001 \r\nQ 2353 2234 1838 2234 \r\nL 1294 2234 \r\nL 1294 2753 \r\nL 1863 2753 \r\nQ 2328 2753 2575 2939 \r\nQ 2822 3125 2822 3475 \r\nQ 2822 3834 2567 4026 \r\nQ 2313 4219 1838 4219 \r\nQ 1578 4219 1281 4162 \r\nQ 984 4106 628 3988 \r\nL 628 4550 \r\nQ 988 4650 1302 4700 \r\nQ 1616 4750 1894 4750 \r\nQ 2613 4750 3031 4423 \r\nQ 3450 4097 3450 3541 \r\nQ 3450 3153 3228 2886 \r\nQ 3006 2619 2597 2516 \r\nz\r\n\" id=\"DejaVuSans-33\" transform=\"scale(0.015625)\"/>\r\n       </defs>\r\n       <use xlink:href=\"#DejaVuSans-33\"/>\r\n       <use x=\"63.623047\" xlink:href=\"#DejaVuSans-2e\"/>\r\n       <use x=\"95.410156\" xlink:href=\"#DejaVuSans-30\"/>\r\n      </g>\r\n     </g>\r\n    </g>\r\n    <g id=\"ytick_7\">\r\n     <g id=\"line2d_18\">\r\n      <g>\r\n       <use style=\"stroke:#000000;stroke-width:0.8;\" x=\"351.329261\" xlink:href=\"#mc679163fb2\" y=\"240.616216\"/>\r\n      </g>\r\n     </g>\r\n     <g id=\"text_21\">\r\n      <!-- 3.5 -->\r\n      <g transform=\"translate(328.426136 244.415434)scale(0.1 -0.1)\">\r\n       <use xlink:href=\"#DejaVuSans-33\"/>\r\n       <use x=\"63.623047\" xlink:href=\"#DejaVuSans-2e\"/>\r\n       <use x=\"95.410156\" xlink:href=\"#DejaVuSans-35\"/>\r\n      </g>\r\n     </g>\r\n    </g>\r\n    <g id=\"ytick_8\">\r\n     <g id=\"line2d_19\">\r\n      <g>\r\n       <use style=\"stroke:#000000;stroke-width:0.8;\" x=\"351.329261\" xlink:href=\"#mc679163fb2\" y=\"195.675888\"/>\r\n      </g>\r\n     </g>\r\n     <g id=\"text_22\">\r\n      <!-- 4.0 -->\r\n      <g transform=\"translate(328.426136 199.475107)scale(0.1 -0.1)\">\r\n       <use xlink:href=\"#DejaVuSans-34\"/>\r\n       <use x=\"63.623047\" xlink:href=\"#DejaVuSans-2e\"/>\r\n       <use x=\"95.410156\" xlink:href=\"#DejaVuSans-30\"/>\r\n      </g>\r\n     </g>\r\n    </g>\r\n    <g id=\"ytick_9\">\r\n     <g id=\"line2d_20\">\r\n      <g>\r\n       <use style=\"stroke:#000000;stroke-width:0.8;\" x=\"351.329261\" xlink:href=\"#mc679163fb2\" y=\"150.73556\"/>\r\n      </g>\r\n     </g>\r\n     <g id=\"text_23\">\r\n      <!-- 4.5 -->\r\n      <g transform=\"translate(328.426136 154.534779)scale(0.1 -0.1)\">\r\n       <use xlink:href=\"#DejaVuSans-34\"/>\r\n       <use x=\"63.623047\" xlink:href=\"#DejaVuSans-2e\"/>\r\n       <use x=\"95.410156\" xlink:href=\"#DejaVuSans-35\"/>\r\n      </g>\r\n     </g>\r\n    </g>\r\n    <g id=\"ytick_10\">\r\n     <g id=\"line2d_21\">\r\n      <g>\r\n       <use style=\"stroke:#000000;stroke-width:0.8;\" x=\"351.329261\" xlink:href=\"#mc679163fb2\" y=\"105.795233\"/>\r\n      </g>\r\n     </g>\r\n     <g id=\"text_24\">\r\n      <!-- 5.0 -->\r\n      <g transform=\"translate(328.426136 109.594452)scale(0.1 -0.1)\">\r\n       <use xlink:href=\"#DejaVuSans-35\"/>\r\n       <use x=\"63.623047\" xlink:href=\"#DejaVuSans-2e\"/>\r\n       <use x=\"95.410156\" xlink:href=\"#DejaVuSans-30\"/>\r\n      </g>\r\n     </g>\r\n    </g>\r\n    <g id=\"ytick_11\">\r\n     <g id=\"line2d_22\">\r\n      <g>\r\n       <use style=\"stroke:#000000;stroke-width:0.8;\" x=\"351.329261\" xlink:href=\"#mc679163fb2\" y=\"60.854905\"/>\r\n      </g>\r\n     </g>\r\n     <g id=\"text_25\">\r\n      <!-- 5.5 -->\r\n      <g transform=\"translate(328.426136 64.654124)scale(0.1 -0.1)\">\r\n       <use xlink:href=\"#DejaVuSans-35\"/>\r\n       <use x=\"63.623047\" xlink:href=\"#DejaVuSans-2e\"/>\r\n       <use x=\"95.410156\" xlink:href=\"#DejaVuSans-35\"/>\r\n      </g>\r\n     </g>\r\n    </g>\r\n    <g id=\"text_26\">\r\n     <!-- Latitude -->\r\n     <g transform=\"translate(322.346449 178.797031)rotate(-90)scale(0.1 -0.1)\">\r\n      <use xlink:href=\"#DejaVuSans-4c\"/>\r\n      <use x=\"55.712891\" xlink:href=\"#DejaVuSans-61\"/>\r\n      <use x=\"116.992188\" xlink:href=\"#DejaVuSans-74\"/>\r\n      <use x=\"156.201172\" xlink:href=\"#DejaVuSans-69\"/>\r\n      <use x=\"183.984375\" xlink:href=\"#DejaVuSans-74\"/>\r\n      <use x=\"223.193359\" xlink:href=\"#DejaVuSans-75\"/>\r\n      <use x=\"286.572266\" xlink:href=\"#DejaVuSans-64\"/>\r\n      <use x=\"350.048828\" xlink:href=\"#DejaVuSans-65\"/>\r\n     </g>\r\n    </g>\r\n   </g>\r\n   <g id=\"line2d_23\">\r\n    <defs>\r\n     <path d=\"M 0 2.5 \r\nC 0.663008 2.5 1.29895 2.236584 1.767767 1.767767 \r\nC 2.236584 1.29895 2.5 0.663008 2.5 0 \r\nC 2.5 -0.663008 2.236584 -1.29895 1.767767 -1.767767 \r\nC 1.29895 -2.236584 0.663008 -2.5 0 -2.5 \r\nC -0.663008 -2.5 -1.29895 -2.236584 -1.767767 -1.767767 \r\nC -2.236584 -1.29895 -2.5 -0.663008 -2.5 0 \r\nC -2.5 0.663008 -2.236584 1.29895 -1.767767 1.767767 \r\nC -1.29895 2.236584 -0.663008 2.5 0 2.5 \r\nz\r\n\" id=\"m1b8f1bb16f\" style=\"stroke:#1f77b4;\"/>\r\n    </defs>\r\n    <g clip-path=\"url(#pd1ff83df07)\">\r\n     <use style=\"fill:#1f77b4;stroke:#1f77b4;\" x=\"438.06745\" xlink:href=\"#m1b8f1bb16f\" y=\"34.67267\"/>\r\n     <use style=\"fill:#1f77b4;stroke:#1f77b4;\" x=\"474.296881\" xlink:href=\"#m1b8f1bb16f\" y=\"279.534539\"/>\r\n     <use style=\"fill:#1f77b4;stroke:#1f77b4;\" x=\"509.002525\" xlink:href=\"#m1b8f1bb16f\" y=\"173.664116\"/>\r\n     <use style=\"fill:#1f77b4;stroke:#1f77b4;\" x=\"378.323665\" xlink:href=\"#m1b8f1bb16f\" y=\"76.727829\"/>\r\n     <use style=\"fill:#1f77b4;stroke:#1f77b4;\" x=\"431.042861\" xlink:href=\"#m1b8f1bb16f\" y=\"95.387053\"/>\r\n     <use style=\"fill:#1f77b4;stroke:#1f77b4;\" x=\"457.535237\" xlink:href=\"#m1b8f1bb16f\" y=\"200.655276\"/>\r\n     <use style=\"fill:#1f77b4;stroke:#1f77b4;\" x=\"371.128361\" xlink:href=\"#m1b8f1bb16f\" y=\"77.725504\"/>\r\n     <use style=\"fill:#1f77b4;stroke:#1f77b4;\" x=\"448.898343\" xlink:href=\"#m1b8f1bb16f\" y=\"281.76358\"/>\r\n     <use style=\"fill:#1f77b4;stroke:#1f77b4;\" x=\"488.11844\" xlink:href=\"#m1b8f1bb16f\" y=\"155.436319\"/>\r\n     <use style=\"fill:#1f77b4;stroke:#1f77b4;\" x=\"574.708676\" xlink:href=\"#m1b8f1bb16f\" y=\"147.365036\"/>\r\n     <use style=\"fill:#1f77b4;stroke:#1f77b4;\" x=\"508.743292\" xlink:href=\"#m1b8f1bb16f\" y=\"149.513184\"/>\r\n     <use style=\"fill:#1f77b4;stroke:#1f77b4;\" x=\"413.288543\" xlink:href=\"#m1b8f1bb16f\" y=\"45.251624\"/>\r\n     <use style=\"fill:#1f77b4;stroke:#1f77b4;\" x=\"441.690393\" xlink:href=\"#m1b8f1bb16f\" y=\"218.892061\"/>\r\n     <use style=\"fill:#1f77b4;stroke:#1f77b4;\" x=\"450.377869\" xlink:href=\"#m1b8f1bb16f\" y=\"191.53239\"/>\r\n     <use style=\"fill:#1f77b4;stroke:#1f77b4;\" x=\"410.32949\" xlink:href=\"#m1b8f1bb16f\" y=\"150.510859\"/>\r\n     <use style=\"fill:#1f77b4;stroke:#1f77b4;\" x=\"420.717789\" xlink:href=\"#m1b8f1bb16f\" y=\"36.416355\"/>\r\n     <use style=\"fill:#1f77b4;stroke:#1f77b4;\" x=\"386.80249\" xlink:href=\"#m1b8f1bb16f\" y=\"87.468567\"/>\r\n     <use style=\"fill:#1f77b4;stroke:#1f77b4;\" x=\"491.475827\" xlink:href=\"#m1b8f1bb16f\" y=\"108.078202\"/>\r\n     <use style=\"fill:#1f77b4;stroke:#1f77b4;\" x=\"443.998202\" xlink:href=\"#m1b8f1bb16f\" y=\"129.460809\"/>\r\n     <use style=\"fill:#1f77b4;stroke:#1f77b4;\" x=\"367.73936\" xlink:href=\"#m1b8f1bb16f\" y=\"109.318555\"/>\r\n     <use style=\"fill:#1f77b4;stroke:#1f77b4;\" x=\"465.792765\" xlink:href=\"#m1b8f1bb16f\" y=\"105.336842\"/>\r\n     <use style=\"fill:#1f77b4;stroke:#1f77b4;\" x=\"451.560226\" xlink:href=\"#m1b8f1bb16f\" y=\"215.027193\"/>\r\n     <use style=\"fill:#1f77b4;stroke:#1f77b4;\" x=\"364.590624\" xlink:href=\"#m1b8f1bb16f\" y=\"89.73356\"/>\r\n     <use style=\"fill:#1f77b4;stroke:#1f77b4;\" x=\"530.303913\" xlink:href=\"#m1b8f1bb16f\" y=\"226.522929\"/>\r\n     <use style=\"fill:#1f77b4;stroke:#1f77b4;\" x=\"572.287058\" xlink:href=\"#m1b8f1bb16f\" y=\"204.268479\"/>\r\n     <use style=\"fill:#1f77b4;stroke:#1f77b4;\" x=\"563.296089\" xlink:href=\"#m1b8f1bb16f\" y=\"172.6215\"/>\r\n     <use style=\"fill:#1f77b4;stroke:#1f77b4;\" x=\"471.293568\" xlink:href=\"#m1b8f1bb16f\" y=\"115.825914\"/>\r\n     <use style=\"fill:#1f77b4;stroke:#1f77b4;\" x=\"522.564852\" xlink:href=\"#m1b8f1bb16f\" y=\"234.153797\"/>\r\n     <use style=\"fill:#1f77b4;stroke:#1f77b4;\" x=\"482.276207\" xlink:href=\"#m1b8f1bb16f\" y=\"122.728748\"/>\r\n     <use style=\"fill:#1f77b4;stroke:#1f77b4;\" x=\"487.359709\" xlink:href=\"#m1b8f1bb16f\" y=\"136.480489\"/>\r\n     <use style=\"fill:#1f77b4;stroke:#1f77b4;\" x=\"593.436699\" xlink:href=\"#m1b8f1bb16f\" y=\"238.198426\"/>\r\n     <use style=\"fill:#1f77b4;stroke:#1f77b4;\" x=\"456.852378\" xlink:href=\"#m1b8f1bb16f\" y=\"208.573762\"/>\r\n     <use style=\"fill:#1f77b4;stroke:#1f77b4;\" x=\"516.305316\" xlink:href=\"#m1b8f1bb16f\" y=\"185.869909\"/>\r\n     <use style=\"fill:#1f77b4;stroke:#1f77b4;\" x=\"362.858187\" xlink:href=\"#m1b8f1bb16f\" y=\"122.531011\"/>\r\n     <use style=\"fill:#1f77b4;stroke:#1f77b4;\" x=\"573.077403\" xlink:href=\"#m1b8f1bb16f\" y=\"201.095692\"/>\r\n     <use style=\"fill:#1f77b4;stroke:#1f77b4;\" x=\"514.123963\" xlink:href=\"#m1b8f1bb16f\" y=\"278.545852\"/>\r\n     <use style=\"fill:#1f77b4;stroke:#1f77b4;\" x=\"384.798174\" xlink:href=\"#m1b8f1bb16f\" y=\"87.864042\"/>\r\n     <use style=\"fill:#1f77b4;stroke:#1f77b4;\" x=\"489.401961\" xlink:href=\"#m1b8f1bb16f\" y=\"279.058172\"/>\r\n     <use style=\"fill:#1f77b4;stroke:#1f77b4;\" x=\"434.090432\" xlink:href=\"#m1b8f1bb16f\" y=\"253.756767\"/>\r\n     <use style=\"fill:#1f77b4;stroke:#1f77b4;\" x=\"509.008848\" xlink:href=\"#m1b8f1bb16f\" y=\"83.648639\"/>\r\n     <use style=\"fill:#1f77b4;stroke:#1f77b4;\" x=\"471.976427\" xlink:href=\"#m1b8f1bb16f\" y=\"171.902455\"/>\r\n    </g>\r\n   </g>\r\n   <g id=\"patch_8\">\r\n    <path d=\"M 351.329261 294.118125 \r\nL 351.329261 22.318125 \r\n\" style=\"fill:none;stroke:#000000;stroke-linecap:square;stroke-linejoin:miter;stroke-width:0.8;\"/>\r\n   </g>\r\n   <g id=\"patch_9\">\r\n    <path d=\"M 604.965625 294.118125 \r\nL 604.965625 22.318125 \r\n\" style=\"fill:none;stroke:#000000;stroke-linecap:square;stroke-linejoin:miter;stroke-width:0.8;\"/>\r\n   </g>\r\n   <g id=\"patch_10\">\r\n    <path d=\"M 351.329261 294.118125 \r\nL 604.965625 294.118125 \r\n\" style=\"fill:none;stroke:#000000;stroke-linecap:square;stroke-linejoin:miter;stroke-width:0.8;\"/>\r\n   </g>\r\n   <g id=\"patch_11\">\r\n    <path d=\"M 351.329261 22.318125 \r\nL 604.965625 22.318125 \r\n\" style=\"fill:none;stroke:#000000;stroke-linecap:square;stroke-linejoin:miter;stroke-width:0.8;\"/>\r\n   </g>\r\n   <g id=\"text_27\">\r\n    <!-- Coordinate -->\r\n    <g transform=\"translate(445.254318 16.318125)scale(0.12 -0.12)\">\r\n     <defs>\r\n      <path d=\"M 4122 4306 \r\nL 4122 3641 \r\nQ 3803 3938 3442 4084 \r\nQ 3081 4231 2675 4231 \r\nQ 1875 4231 1450 3742 \r\nQ 1025 3253 1025 2328 \r\nQ 1025 1406 1450 917 \r\nQ 1875 428 2675 428 \r\nQ 3081 428 3442 575 \r\nQ 3803 722 4122 1019 \r\nL 4122 359 \r\nQ 3791 134 3420 21 \r\nQ 3050 -91 2638 -91 \r\nQ 1578 -91 968 557 \r\nQ 359 1206 359 2328 \r\nQ 359 3453 968 4101 \r\nQ 1578 4750 2638 4750 \r\nQ 3056 4750 3426 4639 \r\nQ 3797 4528 4122 4306 \r\nz\r\n\" id=\"DejaVuSans-43\" transform=\"scale(0.015625)\"/>\r\n      <path d=\"M 2631 2963 \r\nQ 2534 3019 2420 3045 \r\nQ 2306 3072 2169 3072 \r\nQ 1681 3072 1420 2755 \r\nQ 1159 2438 1159 1844 \r\nL 1159 0 \r\nL 581 0 \r\nL 581 3500 \r\nL 1159 3500 \r\nL 1159 2956 \r\nQ 1341 3275 1631 3429 \r\nQ 1922 3584 2338 3584 \r\nQ 2397 3584 2469 3576 \r\nQ 2541 3569 2628 3553 \r\nL 2631 2963 \r\nz\r\n\" id=\"DejaVuSans-72\" transform=\"scale(0.015625)\"/>\r\n     </defs>\r\n     <use xlink:href=\"#DejaVuSans-43\"/>\r\n     <use x=\"69.824219\" xlink:href=\"#DejaVuSans-6f\"/>\r\n     <use x=\"131.005859\" xlink:href=\"#DejaVuSans-6f\"/>\r\n     <use x=\"192.1875\" xlink:href=\"#DejaVuSans-72\"/>\r\n     <use x=\"231.550781\" xlink:href=\"#DejaVuSans-64\"/>\r\n     <use x=\"295.027344\" xlink:href=\"#DejaVuSans-69\"/>\r\n     <use x=\"322.810547\" xlink:href=\"#DejaVuSans-6e\"/>\r\n     <use x=\"386.189453\" xlink:href=\"#DejaVuSans-61\"/>\r\n     <use x=\"447.46875\" xlink:href=\"#DejaVuSans-74\"/>\r\n     <use x=\"486.677734\" xlink:href=\"#DejaVuSans-65\"/>\r\n    </g>\r\n   </g>\r\n  </g>\r\n </g>\r\n <defs>\r\n  <clipPath id=\"pb3fd90d615\">\r\n   <rect height=\"271.8\" width=\"253.636364\" x=\"46.965625\" y=\"22.318125\"/>\r\n  </clipPath>\r\n  <clipPath id=\"pd1ff83df07\">\r\n   <rect height=\"271.8\" width=\"253.636364\" x=\"351.329261\" y=\"22.318125\"/>\r\n  </clipPath>\r\n </defs>\r\n</svg>\r\n",
      "image/png": "[encoded data removed]"
     },
     "metadata": {
      "needs_background": "light"
     }
    }
   ],
   "metadata": {}
  },
  {
   "cell_type": "code",
   "execution_count": 147,
   "source": [
    "fig,axes = plt.subplots(nrows=1, ncols=2, figsize=(10,5))\r\n",
    "axes[0].plot(current_data['Mag'],current_data['Depth'], '+', markersize=10)\r\n",
    "axes[0].set_xlabel('Mag')\r\n",
    "axes[0].set_ylabel('Depth')\r\n",
    "axes[0].set_title('Mag vs Depth')\r\n",
    "\r\n",
    "axes[1].plot(current_data['Longitude'],current_data['Latitude'], '.', markersize=10, color='r')\r\n",
    "axes[1].set_xlabel('Longitude')\r\n",
    "axes[1].set_ylabel('Latitude')\r\n",
    "axes[1].set_title('Coordinate')\r\n",
    "\r\n",
    "plt.tight_layout()"
   ],
   "outputs": [
    {
     "output_type": "display_data",
     "data": {
      "text/plain": [
       "<Figure size 720x360 with 2 Axes>"
      ],
      "image/svg+xml": "<?xml version=\"1.0\" encoding=\"utf-8\" standalone=\"no\"?>\r\n<!DOCTYPE svg PUBLIC \"-//W3C//DTD SVG 1.1//EN\"\r\n  \"http://www.w3.org/Graphics/SVG/1.1/DTD/svg11.dtd\">\r\n<svg height=\"351.274375pt\" version=\"1.1\" viewBox=\"0 0 712.565625 351.274375\" width=\"712.565625pt\" xmlns=\"http://www.w3.org/2000/svg\" xmlns:xlink=\"http://www.w3.org/1999/xlink\">\r\n <metadata>\r\n  <rdf:RDF xmlns:cc=\"http://creativecommons.org/ns#\" xmlns:dc=\"http://purl.org/dc/elements/1.1/\" xmlns:rdf=\"http://www.w3.org/1999/02/22-rdf-syntax-ns#\">\r\n   <cc:Work>\r\n    <dc:type rdf:resource=\"http://purl.org/dc/dcmitype/StillImage\"/>\r\n    <dc:date>2021-08-29T15:17:18.265857</dc:date>\r\n    <dc:format>image/svg+xml</dc:format>\r\n    <dc:creator>\r\n     <cc:Agent>\r\n      <dc:title>Matplotlib v3.4.1, https://matplotlib.org/</dc:title>\r\n     </cc:Agent>\r\n    </dc:creator>\r\n   </cc:Work>\r\n  </rdf:RDF>\r\n </metadata>\r\n <defs>\r\n  <style type=\"text/css\">*{stroke-linecap:butt;stroke-linejoin:round;}</style>\r\n </defs>\r\n <g id=\"figure_1\">\r\n  <g id=\"patch_1\">\r\n   <path d=\"M 0 351.274375 \r\nL 712.565625 351.274375 \r\nL 712.565625 0 \r\nL 0 0 \r\nz\r\n\" style=\"fill:none;\"/>\r\n  </g>\r\n  <g id=\"axes_1\">\r\n   <g id=\"patch_2\">\r\n    <path d=\"M 46.965625 313.718125 \r\nL 352.265625 313.718125 \r\nL 352.265625 22.318125 \r\nL 46.965625 22.318125 \r\nz\r\n\" style=\"fill:#ffffff;\"/>\r\n   </g>\r\n   <g id=\"matplotlib.axis_1\">\r\n    <g id=\"xtick_1\">\r\n     <g id=\"line2d_1\">\r\n      <defs>\r\n       <path d=\"M 0 0 \r\nL 0 3.5 \r\n\" id=\"m66b1c7bc0e\" style=\"stroke:#000000;stroke-width:0.8;\"/>\r\n      </defs>\r\n      <g>\r\n       <use style=\"stroke:#000000;stroke-width:0.8;\" x=\"60.842898\" xlink:href=\"#m66b1c7bc0e\" y=\"313.718125\"/>\r\n      </g>\r\n     </g>\r\n     <g id=\"text_1\">\r\n      <!-- 4.0 -->\r\n      <g transform=\"translate(52.891335 328.316562)scale(0.1 -0.1)\">\r\n       <defs>\r\n        <path d=\"M 2419 4116 \r\nL 825 1625 \r\nL 2419 1625 \r\nL 2419 4116 \r\nz\r\nM 2253 4666 \r\nL 3047 4666 \r\nL 3047 1625 \r\nL 3713 1625 \r\nL 3713 1100 \r\nL 3047 1100 \r\nL 3047 0 \r\nL 2419 0 \r\nL 2419 1100 \r\nL 313 1100 \r\nL 313 1709 \r\nL 2253 4666 \r\nz\r\n\" id=\"DejaVuSans-34\" transform=\"scale(0.015625)\"/>\r\n        <path d=\"M 684 794 \r\nL 1344 794 \r\nL 1344 0 \r\nL 684 0 \r\nL 684 794 \r\nz\r\n\" id=\"DejaVuSans-2e\" transform=\"scale(0.015625)\"/>\r\n        <path d=\"M 2034 4250 \r\nQ 1547 4250 1301 3770 \r\nQ 1056 3291 1056 2328 \r\nQ 1056 1369 1301 889 \r\nQ 1547 409 2034 409 \r\nQ 2525 409 2770 889 \r\nQ 3016 1369 3016 2328 \r\nQ 3016 3291 2770 3770 \r\nQ 2525 4250 2034 4250 \r\nz\r\nM 2034 4750 \r\nQ 2819 4750 3233 4129 \r\nQ 3647 3509 3647 2328 \r\nQ 3647 1150 3233 529 \r\nQ 2819 -91 2034 -91 \r\nQ 1250 -91 836 529 \r\nQ 422 1150 422 2328 \r\nQ 422 3509 836 4129 \r\nQ 1250 4750 2034 4750 \r\nz\r\n\" id=\"DejaVuSans-30\" transform=\"scale(0.015625)\"/>\r\n       </defs>\r\n       <use xlink:href=\"#DejaVuSans-34\"/>\r\n       <use x=\"63.623047\" xlink:href=\"#DejaVuSans-2e\"/>\r\n       <use x=\"95.410156\" xlink:href=\"#DejaVuSans-30\"/>\r\n      </g>\r\n     </g>\r\n    </g>\r\n    <g id=\"xtick_2\">\r\n     <g id=\"line2d_2\">\r\n      <g>\r\n       <use style=\"stroke:#000000;stroke-width:0.8;\" x=\"111.305708\" xlink:href=\"#m66b1c7bc0e\" y=\"313.718125\"/>\r\n      </g>\r\n     </g>\r\n     <g id=\"text_2\">\r\n      <!-- 4.2 -->\r\n      <g transform=\"translate(103.354145 328.316562)scale(0.1 -0.1)\">\r\n       <defs>\r\n        <path d=\"M 1228 531 \r\nL 3431 531 \r\nL 3431 0 \r\nL 469 0 \r\nL 469 531 \r\nQ 828 903 1448 1529 \r\nQ 2069 2156 2228 2338 \r\nQ 2531 2678 2651 2914 \r\nQ 2772 3150 2772 3378 \r\nQ 2772 3750 2511 3984 \r\nQ 2250 4219 1831 4219 \r\nQ 1534 4219 1204 4116 \r\nQ 875 4013 500 3803 \r\nL 500 4441 \r\nQ 881 4594 1212 4672 \r\nQ 1544 4750 1819 4750 \r\nQ 2544 4750 2975 4387 \r\nQ 3406 4025 3406 3419 \r\nQ 3406 3131 3298 2873 \r\nQ 3191 2616 2906 2266 \r\nQ 2828 2175 2409 1742 \r\nQ 1991 1309 1228 531 \r\nz\r\n\" id=\"DejaVuSans-32\" transform=\"scale(0.015625)\"/>\r\n       </defs>\r\n       <use xlink:href=\"#DejaVuSans-34\"/>\r\n       <use x=\"63.623047\" xlink:href=\"#DejaVuSans-2e\"/>\r\n       <use x=\"95.410156\" xlink:href=\"#DejaVuSans-32\"/>\r\n      </g>\r\n     </g>\r\n    </g>\r\n    <g id=\"xtick_3\">\r\n     <g id=\"line2d_3\">\r\n      <g>\r\n       <use style=\"stroke:#000000;stroke-width:0.8;\" x=\"161.768518\" xlink:href=\"#m66b1c7bc0e\" y=\"313.718125\"/>\r\n      </g>\r\n     </g>\r\n     <g id=\"text_3\">\r\n      <!-- 4.4 -->\r\n      <g transform=\"translate(153.816955 328.316562)scale(0.1 -0.1)\">\r\n       <use xlink:href=\"#DejaVuSans-34\"/>\r\n       <use x=\"63.623047\" xlink:href=\"#DejaVuSans-2e\"/>\r\n       <use x=\"95.410156\" xlink:href=\"#DejaVuSans-34\"/>\r\n      </g>\r\n     </g>\r\n    </g>\r\n    <g id=\"xtick_4\">\r\n     <g id=\"line2d_4\">\r\n      <g>\r\n       <use style=\"stroke:#000000;stroke-width:0.8;\" x=\"212.231327\" xlink:href=\"#m66b1c7bc0e\" y=\"313.718125\"/>\r\n      </g>\r\n     </g>\r\n     <g id=\"text_4\">\r\n      <!-- 4.6 -->\r\n      <g transform=\"translate(204.279765 328.316562)scale(0.1 -0.1)\">\r\n       <defs>\r\n        <path d=\"M 2113 2584 \r\nQ 1688 2584 1439 2293 \r\nQ 1191 2003 1191 1497 \r\nQ 1191 994 1439 701 \r\nQ 1688 409 2113 409 \r\nQ 2538 409 2786 701 \r\nQ 3034 994 3034 1497 \r\nQ 3034 2003 2786 2293 \r\nQ 2538 2584 2113 2584 \r\nz\r\nM 3366 4563 \r\nL 3366 3988 \r\nQ 3128 4100 2886 4159 \r\nQ 2644 4219 2406 4219 \r\nQ 1781 4219 1451 3797 \r\nQ 1122 3375 1075 2522 \r\nQ 1259 2794 1537 2939 \r\nQ 1816 3084 2150 3084 \r\nQ 2853 3084 3261 2657 \r\nQ 3669 2231 3669 1497 \r\nQ 3669 778 3244 343 \r\nQ 2819 -91 2113 -91 \r\nQ 1303 -91 875 529 \r\nQ 447 1150 447 2328 \r\nQ 447 3434 972 4092 \r\nQ 1497 4750 2381 4750 \r\nQ 2619 4750 2861 4703 \r\nQ 3103 4656 3366 4563 \r\nz\r\n\" id=\"DejaVuSans-36\" transform=\"scale(0.015625)\"/>\r\n       </defs>\r\n       <use xlink:href=\"#DejaVuSans-34\"/>\r\n       <use x=\"63.623047\" xlink:href=\"#DejaVuSans-2e\"/>\r\n       <use x=\"95.410156\" xlink:href=\"#DejaVuSans-36\"/>\r\n      </g>\r\n     </g>\r\n    </g>\r\n    <g id=\"xtick_5\">\r\n     <g id=\"line2d_5\">\r\n      <g>\r\n       <use style=\"stroke:#000000;stroke-width:0.8;\" x=\"262.694137\" xlink:href=\"#m66b1c7bc0e\" y=\"313.718125\"/>\r\n      </g>\r\n     </g>\r\n     <g id=\"text_5\">\r\n      <!-- 4.8 -->\r\n      <g transform=\"translate(254.742575 328.316562)scale(0.1 -0.1)\">\r\n       <defs>\r\n        <path d=\"M 2034 2216 \r\nQ 1584 2216 1326 1975 \r\nQ 1069 1734 1069 1313 \r\nQ 1069 891 1326 650 \r\nQ 1584 409 2034 409 \r\nQ 2484 409 2743 651 \r\nQ 3003 894 3003 1313 \r\nQ 3003 1734 2745 1975 \r\nQ 2488 2216 2034 2216 \r\nz\r\nM 1403 2484 \r\nQ 997 2584 770 2862 \r\nQ 544 3141 544 3541 \r\nQ 544 4100 942 4425 \r\nQ 1341 4750 2034 4750 \r\nQ 2731 4750 3128 4425 \r\nQ 3525 4100 3525 3541 \r\nQ 3525 3141 3298 2862 \r\nQ 3072 2584 2669 2484 \r\nQ 3125 2378 3379 2068 \r\nQ 3634 1759 3634 1313 \r\nQ 3634 634 3220 271 \r\nQ 2806 -91 2034 -91 \r\nQ 1263 -91 848 271 \r\nQ 434 634 434 1313 \r\nQ 434 1759 690 2068 \r\nQ 947 2378 1403 2484 \r\nz\r\nM 1172 3481 \r\nQ 1172 3119 1398 2916 \r\nQ 1625 2713 2034 2713 \r\nQ 2441 2713 2670 2916 \r\nQ 2900 3119 2900 3481 \r\nQ 2900 3844 2670 4047 \r\nQ 2441 4250 2034 4250 \r\nQ 1625 4250 1398 4047 \r\nQ 1172 3844 1172 3481 \r\nz\r\n\" id=\"DejaVuSans-38\" transform=\"scale(0.015625)\"/>\r\n       </defs>\r\n       <use xlink:href=\"#DejaVuSans-34\"/>\r\n       <use x=\"63.623047\" xlink:href=\"#DejaVuSans-2e\"/>\r\n       <use x=\"95.410156\" xlink:href=\"#DejaVuSans-38\"/>\r\n      </g>\r\n     </g>\r\n    </g>\r\n    <g id=\"xtick_6\">\r\n     <g id=\"line2d_6\">\r\n      <g>\r\n       <use style=\"stroke:#000000;stroke-width:0.8;\" x=\"313.156947\" xlink:href=\"#m66b1c7bc0e\" y=\"313.718125\"/>\r\n      </g>\r\n     </g>\r\n     <g id=\"text_6\">\r\n      <!-- 5.0 -->\r\n      <g transform=\"translate(305.205385 328.316562)scale(0.1 -0.1)\">\r\n       <defs>\r\n        <path d=\"M 691 4666 \r\nL 3169 4666 \r\nL 3169 4134 \r\nL 1269 4134 \r\nL 1269 2991 \r\nQ 1406 3038 1543 3061 \r\nQ 1681 3084 1819 3084 \r\nQ 2600 3084 3056 2656 \r\nQ 3513 2228 3513 1497 \r\nQ 3513 744 3044 326 \r\nQ 2575 -91 1722 -91 \r\nQ 1428 -91 1123 -41 \r\nQ 819 9 494 109 \r\nL 494 744 \r\nQ 775 591 1075 516 \r\nQ 1375 441 1709 441 \r\nQ 2250 441 2565 725 \r\nQ 2881 1009 2881 1497 \r\nQ 2881 1984 2565 2268 \r\nQ 2250 2553 1709 2553 \r\nQ 1456 2553 1204 2497 \r\nQ 953 2441 691 2322 \r\nL 691 4666 \r\nz\r\n\" id=\"DejaVuSans-35\" transform=\"scale(0.015625)\"/>\r\n       </defs>\r\n       <use xlink:href=\"#DejaVuSans-35\"/>\r\n       <use x=\"63.623047\" xlink:href=\"#DejaVuSans-2e\"/>\r\n       <use x=\"95.410156\" xlink:href=\"#DejaVuSans-30\"/>\r\n      </g>\r\n     </g>\r\n    </g>\r\n    <g id=\"text_7\">\r\n     <!-- Mag -->\r\n     <g transform=\"translate(189.063281 341.994687)scale(0.1 -0.1)\">\r\n      <defs>\r\n       <path d=\"M 628 4666 \r\nL 1569 4666 \r\nL 2759 1491 \r\nL 3956 4666 \r\nL 4897 4666 \r\nL 4897 0 \r\nL 4281 0 \r\nL 4281 4097 \r\nL 3078 897 \r\nL 2444 897 \r\nL 1241 4097 \r\nL 1241 0 \r\nL 628 0 \r\nL 628 4666 \r\nz\r\n\" id=\"DejaVuSans-4d\" transform=\"scale(0.015625)\"/>\r\n       <path d=\"M 2194 1759 \r\nQ 1497 1759 1228 1600 \r\nQ 959 1441 959 1056 \r\nQ 959 750 1161 570 \r\nQ 1363 391 1709 391 \r\nQ 2188 391 2477 730 \r\nQ 2766 1069 2766 1631 \r\nL 2766 1759 \r\nL 2194 1759 \r\nz\r\nM 3341 1997 \r\nL 3341 0 \r\nL 2766 0 \r\nL 2766 531 \r\nQ 2569 213 2275 61 \r\nQ 1981 -91 1556 -91 \r\nQ 1019 -91 701 211 \r\nQ 384 513 384 1019 \r\nQ 384 1609 779 1909 \r\nQ 1175 2209 1959 2209 \r\nL 2766 2209 \r\nL 2766 2266 \r\nQ 2766 2663 2505 2880 \r\nQ 2244 3097 1772 3097 \r\nQ 1472 3097 1187 3025 \r\nQ 903 2953 641 2809 \r\nL 641 3341 \r\nQ 956 3463 1253 3523 \r\nQ 1550 3584 1831 3584 \r\nQ 2591 3584 2966 3190 \r\nQ 3341 2797 3341 1997 \r\nz\r\n\" id=\"DejaVuSans-61\" transform=\"scale(0.015625)\"/>\r\n       <path d=\"M 2906 1791 \r\nQ 2906 2416 2648 2759 \r\nQ 2391 3103 1925 3103 \r\nQ 1463 3103 1205 2759 \r\nQ 947 2416 947 1791 \r\nQ 947 1169 1205 825 \r\nQ 1463 481 1925 481 \r\nQ 2391 481 2648 825 \r\nQ 2906 1169 2906 1791 \r\nz\r\nM 3481 434 \r\nQ 3481 -459 3084 -895 \r\nQ 2688 -1331 1869 -1331 \r\nQ 1566 -1331 1297 -1286 \r\nQ 1028 -1241 775 -1147 \r\nL 775 -588 \r\nQ 1028 -725 1275 -790 \r\nQ 1522 -856 1778 -856 \r\nQ 2344 -856 2625 -561 \r\nQ 2906 -266 2906 331 \r\nL 2906 616 \r\nQ 2728 306 2450 153 \r\nQ 2172 0 1784 0 \r\nQ 1141 0 747 490 \r\nQ 353 981 353 1791 \r\nQ 353 2603 747 3093 \r\nQ 1141 3584 1784 3584 \r\nQ 2172 3584 2450 3431 \r\nQ 2728 3278 2906 2969 \r\nL 2906 3500 \r\nL 3481 3500 \r\nL 3481 434 \r\nz\r\n\" id=\"DejaVuSans-67\" transform=\"scale(0.015625)\"/>\r\n      </defs>\r\n      <use xlink:href=\"#DejaVuSans-4d\"/>\r\n      <use x=\"86.279297\" xlink:href=\"#DejaVuSans-61\"/>\r\n      <use x=\"147.558594\" xlink:href=\"#DejaVuSans-67\"/>\r\n     </g>\r\n    </g>\r\n   </g>\r\n   <g id=\"matplotlib.axis_2\">\r\n    <g id=\"ytick_1\">\r\n     <g id=\"line2d_7\">\r\n      <defs>\r\n       <path d=\"M 0 0 \r\nL -3.5 0 \r\n\" id=\"m3da0517166\" style=\"stroke:#000000;stroke-width:0.8;\"/>\r\n      </defs>\r\n      <g>\r\n       <use style=\"stroke:#000000;stroke-width:0.8;\" x=\"46.965625\" xlink:href=\"#m3da0517166\" y=\"308.245766\"/>\r\n      </g>\r\n     </g>\r\n     <g id=\"text_8\">\r\n      <!-- 0 -->\r\n      <g transform=\"translate(33.603125 312.044985)scale(0.1 -0.1)\">\r\n       <use xlink:href=\"#DejaVuSans-30\"/>\r\n      </g>\r\n     </g>\r\n    </g>\r\n    <g id=\"ytick_2\">\r\n     <g id=\"line2d_8\">\r\n      <g>\r\n       <use style=\"stroke:#000000;stroke-width:0.8;\" x=\"46.965625\" xlink:href=\"#m3da0517166\" y=\"245.861372\"/>\r\n      </g>\r\n     </g>\r\n     <g id=\"text_9\">\r\n      <!-- 50 -->\r\n      <g transform=\"translate(27.240625 249.660591)scale(0.1 -0.1)\">\r\n       <use xlink:href=\"#DejaVuSans-35\"/>\r\n       <use x=\"63.623047\" xlink:href=\"#DejaVuSans-30\"/>\r\n      </g>\r\n     </g>\r\n    </g>\r\n    <g id=\"ytick_3\">\r\n     <g id=\"line2d_9\">\r\n      <g>\r\n       <use style=\"stroke:#000000;stroke-width:0.8;\" x=\"46.965625\" xlink:href=\"#m3da0517166\" y=\"183.476978\"/>\r\n      </g>\r\n     </g>\r\n     <g id=\"text_10\">\r\n      <!-- 100 -->\r\n      <g transform=\"translate(20.878125 187.276197)scale(0.1 -0.1)\">\r\n       <defs>\r\n        <path d=\"M 794 531 \r\nL 1825 531 \r\nL 1825 4091 \r\nL 703 3866 \r\nL 703 4441 \r\nL 1819 4666 \r\nL 2450 4666 \r\nL 2450 531 \r\nL 3481 531 \r\nL 3481 0 \r\nL 794 0 \r\nL 794 531 \r\nz\r\n\" id=\"DejaVuSans-31\" transform=\"scale(0.015625)\"/>\r\n       </defs>\r\n       <use xlink:href=\"#DejaVuSans-31\"/>\r\n       <use x=\"63.623047\" xlink:href=\"#DejaVuSans-30\"/>\r\n       <use x=\"127.246094\" xlink:href=\"#DejaVuSans-30\"/>\r\n      </g>\r\n     </g>\r\n    </g>\r\n    <g id=\"ytick_4\">\r\n     <g id=\"line2d_10\">\r\n      <g>\r\n       <use style=\"stroke:#000000;stroke-width:0.8;\" x=\"46.965625\" xlink:href=\"#m3da0517166\" y=\"121.092584\"/>\r\n      </g>\r\n     </g>\r\n     <g id=\"text_11\">\r\n      <!-- 150 -->\r\n      <g transform=\"translate(20.878125 124.891803)scale(0.1 -0.1)\">\r\n       <use xlink:href=\"#DejaVuSans-31\"/>\r\n       <use x=\"63.623047\" xlink:href=\"#DejaVuSans-35\"/>\r\n       <use x=\"127.246094\" xlink:href=\"#DejaVuSans-30\"/>\r\n      </g>\r\n     </g>\r\n    </g>\r\n    <g id=\"ytick_5\">\r\n     <g id=\"line2d_11\">\r\n      <g>\r\n       <use style=\"stroke:#000000;stroke-width:0.8;\" x=\"46.965625\" xlink:href=\"#m3da0517166\" y=\"58.70819\"/>\r\n      </g>\r\n     </g>\r\n     <g id=\"text_12\">\r\n      <!-- 200 -->\r\n      <g transform=\"translate(20.878125 62.507408)scale(0.1 -0.1)\">\r\n       <use xlink:href=\"#DejaVuSans-32\"/>\r\n       <use x=\"63.623047\" xlink:href=\"#DejaVuSans-30\"/>\r\n       <use x=\"127.246094\" xlink:href=\"#DejaVuSans-30\"/>\r\n      </g>\r\n     </g>\r\n    </g>\r\n    <g id=\"text_13\">\r\n     <!-- Depth -->\r\n     <g transform=\"translate(14.798438 183.247812)rotate(-90)scale(0.1 -0.1)\">\r\n      <defs>\r\n       <path d=\"M 1259 4147 \r\nL 1259 519 \r\nL 2022 519 \r\nQ 2988 519 3436 956 \r\nQ 3884 1394 3884 2338 \r\nQ 3884 3275 3436 3711 \r\nQ 2988 4147 2022 4147 \r\nL 1259 4147 \r\nz\r\nM 628 4666 \r\nL 1925 4666 \r\nQ 3281 4666 3915 4102 \r\nQ 4550 3538 4550 2338 \r\nQ 4550 1131 3912 565 \r\nQ 3275 0 1925 0 \r\nL 628 0 \r\nL 628 4666 \r\nz\r\n\" id=\"DejaVuSans-44\" transform=\"scale(0.015625)\"/>\r\n       <path d=\"M 3597 1894 \r\nL 3597 1613 \r\nL 953 1613 \r\nQ 991 1019 1311 708 \r\nQ 1631 397 2203 397 \r\nQ 2534 397 2845 478 \r\nQ 3156 559 3463 722 \r\nL 3463 178 \r\nQ 3153 47 2828 -22 \r\nQ 2503 -91 2169 -91 \r\nQ 1331 -91 842 396 \r\nQ 353 884 353 1716 \r\nQ 353 2575 817 3079 \r\nQ 1281 3584 2069 3584 \r\nQ 2775 3584 3186 3129 \r\nQ 3597 2675 3597 1894 \r\nz\r\nM 3022 2063 \r\nQ 3016 2534 2758 2815 \r\nQ 2500 3097 2075 3097 \r\nQ 1594 3097 1305 2825 \r\nQ 1016 2553 972 2059 \r\nL 3022 2063 \r\nz\r\n\" id=\"DejaVuSans-65\" transform=\"scale(0.015625)\"/>\r\n       <path d=\"M 1159 525 \r\nL 1159 -1331 \r\nL 581 -1331 \r\nL 581 3500 \r\nL 1159 3500 \r\nL 1159 2969 \r\nQ 1341 3281 1617 3432 \r\nQ 1894 3584 2278 3584 \r\nQ 2916 3584 3314 3078 \r\nQ 3713 2572 3713 1747 \r\nQ 3713 922 3314 415 \r\nQ 2916 -91 2278 -91 \r\nQ 1894 -91 1617 61 \r\nQ 1341 213 1159 525 \r\nz\r\nM 3116 1747 \r\nQ 3116 2381 2855 2742 \r\nQ 2594 3103 2138 3103 \r\nQ 1681 3103 1420 2742 \r\nQ 1159 2381 1159 1747 \r\nQ 1159 1113 1420 752 \r\nQ 1681 391 2138 391 \r\nQ 2594 391 2855 752 \r\nQ 3116 1113 3116 1747 \r\nz\r\n\" id=\"DejaVuSans-70\" transform=\"scale(0.015625)\"/>\r\n       <path d=\"M 1172 4494 \r\nL 1172 3500 \r\nL 2356 3500 \r\nL 2356 3053 \r\nL 1172 3053 \r\nL 1172 1153 \r\nQ 1172 725 1289 603 \r\nQ 1406 481 1766 481 \r\nL 2356 481 \r\nL 2356 0 \r\nL 1766 0 \r\nQ 1100 0 847 248 \r\nQ 594 497 594 1153 \r\nL 594 3053 \r\nL 172 3053 \r\nL 172 3500 \r\nL 594 3500 \r\nL 594 4494 \r\nL 1172 4494 \r\nz\r\n\" id=\"DejaVuSans-74\" transform=\"scale(0.015625)\"/>\r\n       <path d=\"M 3513 2113 \r\nL 3513 0 \r\nL 2938 0 \r\nL 2938 2094 \r\nQ 2938 2591 2744 2837 \r\nQ 2550 3084 2163 3084 \r\nQ 1697 3084 1428 2787 \r\nQ 1159 2491 1159 1978 \r\nL 1159 0 \r\nL 581 0 \r\nL 581 4863 \r\nL 1159 4863 \r\nL 1159 2956 \r\nQ 1366 3272 1645 3428 \r\nQ 1925 3584 2291 3584 \r\nQ 2894 3584 3203 3211 \r\nQ 3513 2838 3513 2113 \r\nz\r\n\" id=\"DejaVuSans-68\" transform=\"scale(0.015625)\"/>\r\n      </defs>\r\n      <use xlink:href=\"#DejaVuSans-44\"/>\r\n      <use x=\"77.001953\" xlink:href=\"#DejaVuSans-65\"/>\r\n      <use x=\"138.525391\" xlink:href=\"#DejaVuSans-70\"/>\r\n      <use x=\"202.001953\" xlink:href=\"#DejaVuSans-74\"/>\r\n      <use x=\"241.210938\" xlink:href=\"#DejaVuSans-68\"/>\r\n     </g>\r\n    </g>\r\n   </g>\r\n   <g id=\"line2d_12\">\r\n    <defs>\r\n     <path d=\"M -5 0 \r\nL 5 0 \r\nM 0 5 \r\nL 0 -5 \r\n\" id=\"m1de046917e\" style=\"stroke:#1f77b4;\"/>\r\n    </defs>\r\n    <g clip-path=\"url(#p55ae0cc16c)\">\r\n     <use style=\"fill:#1f77b4;stroke:#1f77b4;\" x=\"338.388352\" xlink:href=\"#m1de046917e\" y=\"295.768887\"/>\r\n     <use style=\"fill:#1f77b4;stroke:#1f77b4;\" x=\"313.156947\" xlink:href=\"#m1de046917e\" y=\"273.447751\"/>\r\n     <use style=\"fill:#1f77b4;stroke:#1f77b4;\" x=\"313.156947\" xlink:href=\"#m1de046917e\" y=\"156.601781\"/>\r\n     <use style=\"fill:#1f77b4;stroke:#1f77b4;\" x=\"313.156947\" xlink:href=\"#m1de046917e\" y=\"228.431172\"/>\r\n     <use style=\"fill:#1f77b4;stroke:#1f77b4;\" x=\"313.156947\" xlink:href=\"#m1de046917e\" y=\"182.553689\"/>\r\n     <use style=\"fill:#1f77b4;stroke:#1f77b4;\" x=\"287.925542\" xlink:href=\"#m1de046917e\" y=\"247.321167\"/>\r\n     <use style=\"fill:#1f77b4;stroke:#1f77b4;\" x=\"287.925542\" xlink:href=\"#m1de046917e\" y=\"227.370638\"/>\r\n     <use style=\"fill:#1f77b4;stroke:#1f77b4;\" x=\"287.925542\" xlink:href=\"#m1de046917e\" y=\"297.627942\"/>\r\n     <use style=\"fill:#1f77b4;stroke:#1f77b4;\" x=\"287.925542\" xlink:href=\"#m1de046917e\" y=\"300.47267\"/>\r\n     <use style=\"fill:#1f77b4;stroke:#1f77b4;\" x=\"262.694137\" xlink:href=\"#m1de046917e\" y=\"295.768887\"/>\r\n     <use style=\"fill:#1f77b4;stroke:#1f77b4;\" x=\"237.462732\" xlink:href=\"#m1de046917e\" y=\"115.652665\"/>\r\n     <use style=\"fill:#1f77b4;stroke:#1f77b4;\" x=\"212.231327\" xlink:href=\"#m1de046917e\" y=\"295.768887\"/>\r\n     <use style=\"fill:#1f77b4;stroke:#1f77b4;\" x=\"212.231327\" xlink:href=\"#m1de046917e\" y=\"253.971343\"/>\r\n     <use style=\"fill:#1f77b4;stroke:#1f77b4;\" x=\"212.231327\" xlink:href=\"#m1de046917e\" y=\"245.823941\"/>\r\n     <use style=\"fill:#1f77b4;stroke:#1f77b4;\" x=\"186.999923\" xlink:href=\"#m1de046917e\" y=\"245.000467\"/>\r\n     <use style=\"fill:#1f77b4;stroke:#1f77b4;\" x=\"186.999923\" xlink:href=\"#m1de046917e\" y=\"295.768887\"/>\r\n     <use style=\"fill:#1f77b4;stroke:#1f77b4;\" x=\"186.999923\" xlink:href=\"#m1de046917e\" y=\"212.872504\"/>\r\n     <use style=\"fill:#1f77b4;stroke:#1f77b4;\" x=\"186.999923\" xlink:href=\"#m1de046917e\" y=\"295.768887\"/>\r\n     <use style=\"fill:#1f77b4;stroke:#1f77b4;\" x=\"186.999923\" xlink:href=\"#m1de046917e\" y=\"197.164114\"/>\r\n     <use style=\"fill:#1f77b4;stroke:#1f77b4;\" x=\"186.999923\" xlink:href=\"#m1de046917e\" y=\"247.90758\"/>\r\n     <use style=\"fill:#1f77b4;stroke:#1f77b4;\" x=\"186.999923\" xlink:href=\"#m1de046917e\" y=\"295.768887\"/>\r\n     <use style=\"fill:#1f77b4;stroke:#1f77b4;\" x=\"161.768518\" xlink:href=\"#m1de046917e\" y=\"225.736166\"/>\r\n     <use style=\"fill:#1f77b4;stroke:#1f77b4;\" x=\"161.768518\" xlink:href=\"#m1de046917e\" y=\"240.022193\"/>\r\n     <use style=\"fill:#1f77b4;stroke:#1f77b4;\" x=\"161.768518\" xlink:href=\"#m1de046917e\" y=\"240.770805\"/>\r\n     <use style=\"fill:#1f77b4;stroke:#1f77b4;\" x=\"161.768518\" xlink:href=\"#m1de046917e\" y=\"264.57669\"/>\r\n     <use style=\"fill:#1f77b4;stroke:#1f77b4;\" x=\"161.768518\" xlink:href=\"#m1de046917e\" y=\"66.468808\"/>\r\n     <use style=\"fill:#1f77b4;stroke:#1f77b4;\" x=\"161.768518\" xlink:href=\"#m1de046917e\" y=\"295.768887\"/>\r\n     <use style=\"fill:#1f77b4;stroke:#1f77b4;\" x=\"161.768518\" xlink:href=\"#m1de046917e\" y=\"189.515787\"/>\r\n     <use style=\"fill:#1f77b4;stroke:#1f77b4;\" x=\"136.537113\" xlink:href=\"#m1de046917e\" y=\"273.847011\"/>\r\n     <use style=\"fill:#1f77b4;stroke:#1f77b4;\" x=\"136.537113\" xlink:href=\"#m1de046917e\" y=\"295.768887\"/>\r\n     <use style=\"fill:#1f77b4;stroke:#1f77b4;\" x=\"136.537113\" xlink:href=\"#m1de046917e\" y=\"132.795896\"/>\r\n     <use style=\"fill:#1f77b4;stroke:#1f77b4;\" x=\"136.537113\" xlink:href=\"#m1de046917e\" y=\"239.67284\"/>\r\n     <use style=\"fill:#1f77b4;stroke:#1f77b4;\" x=\"136.537113\" xlink:href=\"#m1de046917e\" y=\"295.768887\"/>\r\n     <use style=\"fill:#1f77b4;stroke:#1f77b4;\" x=\"111.305708\" xlink:href=\"#m1de046917e\" y=\"264.57669\"/>\r\n     <use style=\"fill:#1f77b4;stroke:#1f77b4;\" x=\"111.305708\" xlink:href=\"#m1de046917e\" y=\"264.57669\"/>\r\n     <use style=\"fill:#1f77b4;stroke:#1f77b4;\" x=\"111.305708\" xlink:href=\"#m1de046917e\" y=\"264.57669\"/>\r\n     <use style=\"fill:#1f77b4;stroke:#1f77b4;\" x=\"111.305708\" xlink:href=\"#m1de046917e\" y=\"231.774976\"/>\r\n     <use style=\"fill:#1f77b4;stroke:#1f77b4;\" x=\"111.305708\" xlink:href=\"#m1de046917e\" y=\"239.410826\"/>\r\n     <use style=\"fill:#1f77b4;stroke:#1f77b4;\" x=\"86.074303\" xlink:href=\"#m1de046917e\" y=\"264.57669\"/>\r\n     <use style=\"fill:#1f77b4;stroke:#1f77b4;\" x=\"86.074303\" xlink:href=\"#m1de046917e\" y=\"35.56358\"/>\r\n     <use style=\"fill:#1f77b4;stroke:#1f77b4;\" x=\"60.842898\" xlink:href=\"#m1de046917e\" y=\"224.376187\"/>\r\n    </g>\r\n   </g>\r\n   <g id=\"patch_3\">\r\n    <path d=\"M 46.965625 313.718125 \r\nL 46.965625 22.318125 \r\n\" style=\"fill:none;stroke:#000000;stroke-linecap:square;stroke-linejoin:miter;stroke-width:0.8;\"/>\r\n   </g>\r\n   <g id=\"patch_4\">\r\n    <path d=\"M 352.265625 313.718125 \r\nL 352.265625 22.318125 \r\n\" style=\"fill:none;stroke:#000000;stroke-linecap:square;stroke-linejoin:miter;stroke-width:0.8;\"/>\r\n   </g>\r\n   <g id=\"patch_5\">\r\n    <path d=\"M 46.965625 313.718125 \r\nL 352.265625 313.718125 \r\n\" style=\"fill:none;stroke:#000000;stroke-linecap:square;stroke-linejoin:miter;stroke-width:0.8;\"/>\r\n   </g>\r\n   <g id=\"patch_6\">\r\n    <path d=\"M 46.965625 22.318125 \r\nL 352.265625 22.318125 \r\n\" style=\"fill:none;stroke:#000000;stroke-linecap:square;stroke-linejoin:miter;stroke-width:0.8;\"/>\r\n   </g>\r\n   <g id=\"text_14\">\r\n    <!-- Mag vs Depth -->\r\n    <g transform=\"translate(158.186562 16.318125)scale(0.12 -0.12)\">\r\n     <defs>\r\n      <path id=\"DejaVuSans-20\" transform=\"scale(0.015625)\"/>\r\n      <path d=\"M 191 3500 \r\nL 800 3500 \r\nL 1894 563 \r\nL 2988 3500 \r\nL 3597 3500 \r\nL 2284 0 \r\nL 1503 0 \r\nL 191 3500 \r\nz\r\n\" id=\"DejaVuSans-76\" transform=\"scale(0.015625)\"/>\r\n      <path d=\"M 2834 3397 \r\nL 2834 2853 \r\nQ 2591 2978 2328 3040 \r\nQ 2066 3103 1784 3103 \r\nQ 1356 3103 1142 2972 \r\nQ 928 2841 928 2578 \r\nQ 928 2378 1081 2264 \r\nQ 1234 2150 1697 2047 \r\nL 1894 2003 \r\nQ 2506 1872 2764 1633 \r\nQ 3022 1394 3022 966 \r\nQ 3022 478 2636 193 \r\nQ 2250 -91 1575 -91 \r\nQ 1294 -91 989 -36 \r\nQ 684 19 347 128 \r\nL 347 722 \r\nQ 666 556 975 473 \r\nQ 1284 391 1588 391 \r\nQ 1994 391 2212 530 \r\nQ 2431 669 2431 922 \r\nQ 2431 1156 2273 1281 \r\nQ 2116 1406 1581 1522 \r\nL 1381 1569 \r\nQ 847 1681 609 1914 \r\nQ 372 2147 372 2553 \r\nQ 372 3047 722 3315 \r\nQ 1072 3584 1716 3584 \r\nQ 2034 3584 2315 3537 \r\nQ 2597 3491 2834 3397 \r\nz\r\n\" id=\"DejaVuSans-73\" transform=\"scale(0.015625)\"/>\r\n     </defs>\r\n     <use xlink:href=\"#DejaVuSans-4d\"/>\r\n     <use x=\"86.279297\" xlink:href=\"#DejaVuSans-61\"/>\r\n     <use x=\"147.558594\" xlink:href=\"#DejaVuSans-67\"/>\r\n     <use x=\"211.035156\" xlink:href=\"#DejaVuSans-20\"/>\r\n     <use x=\"242.822266\" xlink:href=\"#DejaVuSans-76\"/>\r\n     <use x=\"302.001953\" xlink:href=\"#DejaVuSans-73\"/>\r\n     <use x=\"354.101562\" xlink:href=\"#DejaVuSans-20\"/>\r\n     <use x=\"385.888672\" xlink:href=\"#DejaVuSans-44\"/>\r\n     <use x=\"462.890625\" xlink:href=\"#DejaVuSans-65\"/>\r\n     <use x=\"524.414062\" xlink:href=\"#DejaVuSans-70\"/>\r\n     <use x=\"587.890625\" xlink:href=\"#DejaVuSans-74\"/>\r\n     <use x=\"627.099609\" xlink:href=\"#DejaVuSans-68\"/>\r\n    </g>\r\n   </g>\r\n  </g>\r\n  <g id=\"axes_2\">\r\n   <g id=\"patch_7\">\r\n    <path d=\"M 400.065625 313.718125 \r\nL 705.365625 313.718125 \r\nL 705.365625 22.318125 \r\nL 400.065625 22.318125 \r\nz\r\n\" style=\"fill:#ffffff;\"/>\r\n   </g>\r\n   <g id=\"matplotlib.axis_3\">\r\n    <g id=\"xtick_7\">\r\n     <g id=\"line2d_13\">\r\n      <g>\r\n       <use style=\"stroke:#000000;stroke-width:0.8;\" x=\"423.654097\" xlink:href=\"#m66b1c7bc0e\" y=\"313.718125\"/>\r\n      </g>\r\n     </g>\r\n     <g id=\"text_15\">\r\n      <!-- 94.5 -->\r\n      <g transform=\"translate(412.521284 328.316562)scale(0.1 -0.1)\">\r\n       <defs>\r\n        <path d=\"M 703 97 \r\nL 703 672 \r\nQ 941 559 1184 500 \r\nQ 1428 441 1663 441 \r\nQ 2288 441 2617 861 \r\nQ 2947 1281 2994 2138 \r\nQ 2813 1869 2534 1725 \r\nQ 2256 1581 1919 1581 \r\nQ 1219 1581 811 2004 \r\nQ 403 2428 403 3163 \r\nQ 403 3881 828 4315 \r\nQ 1253 4750 1959 4750 \r\nQ 2769 4750 3195 4129 \r\nQ 3622 3509 3622 2328 \r\nQ 3622 1225 3098 567 \r\nQ 2575 -91 1691 -91 \r\nQ 1453 -91 1209 -44 \r\nQ 966 3 703 97 \r\nz\r\nM 1959 2075 \r\nQ 2384 2075 2632 2365 \r\nQ 2881 2656 2881 3163 \r\nQ 2881 3666 2632 3958 \r\nQ 2384 4250 1959 4250 \r\nQ 1534 4250 1286 3958 \r\nQ 1038 3666 1038 3163 \r\nQ 1038 2656 1286 2365 \r\nQ 1534 2075 1959 2075 \r\nz\r\n\" id=\"DejaVuSans-39\" transform=\"scale(0.015625)\"/>\r\n       </defs>\r\n       <use xlink:href=\"#DejaVuSans-39\"/>\r\n       <use x=\"63.623047\" xlink:href=\"#DejaVuSans-34\"/>\r\n       <use x=\"127.246094\" xlink:href=\"#DejaVuSans-2e\"/>\r\n       <use x=\"159.033203\" xlink:href=\"#DejaVuSans-35\"/>\r\n      </g>\r\n     </g>\r\n    </g>\r\n    <g id=\"xtick_8\">\r\n     <g id=\"line2d_14\">\r\n      <g>\r\n       <use style=\"stroke:#000000;stroke-width:0.8;\" x=\"461.707384\" xlink:href=\"#m66b1c7bc0e\" y=\"313.718125\"/>\r\n      </g>\r\n     </g>\r\n     <g id=\"text_16\">\r\n      <!-- 95.0 -->\r\n      <g transform=\"translate(450.574571 328.316562)scale(0.1 -0.1)\">\r\n       <use xlink:href=\"#DejaVuSans-39\"/>\r\n       <use x=\"63.623047\" xlink:href=\"#DejaVuSans-35\"/>\r\n       <use x=\"127.246094\" xlink:href=\"#DejaVuSans-2e\"/>\r\n       <use x=\"159.033203\" xlink:href=\"#DejaVuSans-30\"/>\r\n      </g>\r\n     </g>\r\n    </g>\r\n    <g id=\"xtick_9\">\r\n     <g id=\"line2d_15\">\r\n      <g>\r\n       <use style=\"stroke:#000000;stroke-width:0.8;\" x=\"499.760671\" xlink:href=\"#m66b1c7bc0e\" y=\"313.718125\"/>\r\n      </g>\r\n     </g>\r\n     <g id=\"text_17\">\r\n      <!-- 95.5 -->\r\n      <g transform=\"translate(488.627858 328.316562)scale(0.1 -0.1)\">\r\n       <use xlink:href=\"#DejaVuSans-39\"/>\r\n       <use x=\"63.623047\" xlink:href=\"#DejaVuSans-35\"/>\r\n       <use x=\"127.246094\" xlink:href=\"#DejaVuSans-2e\"/>\r\n       <use x=\"159.033203\" xlink:href=\"#DejaVuSans-35\"/>\r\n      </g>\r\n     </g>\r\n    </g>\r\n    <g id=\"xtick_10\">\r\n     <g id=\"line2d_16\">\r\n      <g>\r\n       <use style=\"stroke:#000000;stroke-width:0.8;\" x=\"537.813958\" xlink:href=\"#m66b1c7bc0e\" y=\"313.718125\"/>\r\n      </g>\r\n     </g>\r\n     <g id=\"text_18\">\r\n      <!-- 96.0 -->\r\n      <g transform=\"translate(526.681145 328.316562)scale(0.1 -0.1)\">\r\n       <use xlink:href=\"#DejaVuSans-39\"/>\r\n       <use x=\"63.623047\" xlink:href=\"#DejaVuSans-36\"/>\r\n       <use x=\"127.246094\" xlink:href=\"#DejaVuSans-2e\"/>\r\n       <use x=\"159.033203\" xlink:href=\"#DejaVuSans-30\"/>\r\n      </g>\r\n     </g>\r\n    </g>\r\n    <g id=\"xtick_11\">\r\n     <g id=\"line2d_17\">\r\n      <g>\r\n       <use style=\"stroke:#000000;stroke-width:0.8;\" x=\"575.867245\" xlink:href=\"#m66b1c7bc0e\" y=\"313.718125\"/>\r\n      </g>\r\n     </g>\r\n     <g id=\"text_19\">\r\n      <!-- 96.5 -->\r\n      <g transform=\"translate(564.734432 328.316562)scale(0.1 -0.1)\">\r\n       <use xlink:href=\"#DejaVuSans-39\"/>\r\n       <use x=\"63.623047\" xlink:href=\"#DejaVuSans-36\"/>\r\n       <use x=\"127.246094\" xlink:href=\"#DejaVuSans-2e\"/>\r\n       <use x=\"159.033203\" xlink:href=\"#DejaVuSans-35\"/>\r\n      </g>\r\n     </g>\r\n    </g>\r\n    <g id=\"xtick_12\">\r\n     <g id=\"line2d_18\">\r\n      <g>\r\n       <use style=\"stroke:#000000;stroke-width:0.8;\" x=\"613.920532\" xlink:href=\"#m66b1c7bc0e\" y=\"313.718125\"/>\r\n      </g>\r\n     </g>\r\n     <g id=\"text_20\">\r\n      <!-- 97.0 -->\r\n      <g transform=\"translate(602.787719 328.316562)scale(0.1 -0.1)\">\r\n       <defs>\r\n        <path d=\"M 525 4666 \r\nL 3525 4666 \r\nL 3525 4397 \r\nL 1831 0 \r\nL 1172 0 \r\nL 2766 4134 \r\nL 525 4134 \r\nL 525 4666 \r\nz\r\n\" id=\"DejaVuSans-37\" transform=\"scale(0.015625)\"/>\r\n       </defs>\r\n       <use xlink:href=\"#DejaVuSans-39\"/>\r\n       <use x=\"63.623047\" xlink:href=\"#DejaVuSans-37\"/>\r\n       <use x=\"127.246094\" xlink:href=\"#DejaVuSans-2e\"/>\r\n       <use x=\"159.033203\" xlink:href=\"#DejaVuSans-30\"/>\r\n      </g>\r\n     </g>\r\n    </g>\r\n    <g id=\"xtick_13\">\r\n     <g id=\"line2d_19\">\r\n      <g>\r\n       <use style=\"stroke:#000000;stroke-width:0.8;\" x=\"651.973819\" xlink:href=\"#m66b1c7bc0e\" y=\"313.718125\"/>\r\n      </g>\r\n     </g>\r\n     <g id=\"text_21\">\r\n      <!-- 97.5 -->\r\n      <g transform=\"translate(640.841006 328.316562)scale(0.1 -0.1)\">\r\n       <use xlink:href=\"#DejaVuSans-39\"/>\r\n       <use x=\"63.623047\" xlink:href=\"#DejaVuSans-37\"/>\r\n       <use x=\"127.246094\" xlink:href=\"#DejaVuSans-2e\"/>\r\n       <use x=\"159.033203\" xlink:href=\"#DejaVuSans-35\"/>\r\n      </g>\r\n     </g>\r\n    </g>\r\n    <g id=\"xtick_14\">\r\n     <g id=\"line2d_20\">\r\n      <g>\r\n       <use style=\"stroke:#000000;stroke-width:0.8;\" x=\"690.027106\" xlink:href=\"#m66b1c7bc0e\" y=\"313.718125\"/>\r\n      </g>\r\n     </g>\r\n     <g id=\"text_22\">\r\n      <!-- 98.0 -->\r\n      <g transform=\"translate(678.894294 328.316562)scale(0.1 -0.1)\">\r\n       <use xlink:href=\"#DejaVuSans-39\"/>\r\n       <use x=\"63.623047\" xlink:href=\"#DejaVuSans-38\"/>\r\n       <use x=\"127.246094\" xlink:href=\"#DejaVuSans-2e\"/>\r\n       <use x=\"159.033203\" xlink:href=\"#DejaVuSans-30\"/>\r\n      </g>\r\n     </g>\r\n    </g>\r\n    <g id=\"text_23\">\r\n     <!-- Longitude -->\r\n     <g transform=\"translate(527.846094 341.994687)scale(0.1 -0.1)\">\r\n      <defs>\r\n       <path d=\"M 628 4666 \r\nL 1259 4666 \r\nL 1259 531 \r\nL 3531 531 \r\nL 3531 0 \r\nL 628 0 \r\nL 628 4666 \r\nz\r\n\" id=\"DejaVuSans-4c\" transform=\"scale(0.015625)\"/>\r\n       <path d=\"M 1959 3097 \r\nQ 1497 3097 1228 2736 \r\nQ 959 2375 959 1747 \r\nQ 959 1119 1226 758 \r\nQ 1494 397 1959 397 \r\nQ 2419 397 2687 759 \r\nQ 2956 1122 2956 1747 \r\nQ 2956 2369 2687 2733 \r\nQ 2419 3097 1959 3097 \r\nz\r\nM 1959 3584 \r\nQ 2709 3584 3137 3096 \r\nQ 3566 2609 3566 1747 \r\nQ 3566 888 3137 398 \r\nQ 2709 -91 1959 -91 \r\nQ 1206 -91 779 398 \r\nQ 353 888 353 1747 \r\nQ 353 2609 779 3096 \r\nQ 1206 3584 1959 3584 \r\nz\r\n\" id=\"DejaVuSans-6f\" transform=\"scale(0.015625)\"/>\r\n       <path d=\"M 3513 2113 \r\nL 3513 0 \r\nL 2938 0 \r\nL 2938 2094 \r\nQ 2938 2591 2744 2837 \r\nQ 2550 3084 2163 3084 \r\nQ 1697 3084 1428 2787 \r\nQ 1159 2491 1159 1978 \r\nL 1159 0 \r\nL 581 0 \r\nL 581 3500 \r\nL 1159 3500 \r\nL 1159 2956 \r\nQ 1366 3272 1645 3428 \r\nQ 1925 3584 2291 3584 \r\nQ 2894 3584 3203 3211 \r\nQ 3513 2838 3513 2113 \r\nz\r\n\" id=\"DejaVuSans-6e\" transform=\"scale(0.015625)\"/>\r\n       <path d=\"M 603 3500 \r\nL 1178 3500 \r\nL 1178 0 \r\nL 603 0 \r\nL 603 3500 \r\nz\r\nM 603 4863 \r\nL 1178 4863 \r\nL 1178 4134 \r\nL 603 4134 \r\nL 603 4863 \r\nz\r\n\" id=\"DejaVuSans-69\" transform=\"scale(0.015625)\"/>\r\n       <path d=\"M 544 1381 \r\nL 544 3500 \r\nL 1119 3500 \r\nL 1119 1403 \r\nQ 1119 906 1312 657 \r\nQ 1506 409 1894 409 \r\nQ 2359 409 2629 706 \r\nQ 2900 1003 2900 1516 \r\nL 2900 3500 \r\nL 3475 3500 \r\nL 3475 0 \r\nL 2900 0 \r\nL 2900 538 \r\nQ 2691 219 2414 64 \r\nQ 2138 -91 1772 -91 \r\nQ 1169 -91 856 284 \r\nQ 544 659 544 1381 \r\nz\r\nM 1991 3584 \r\nL 1991 3584 \r\nz\r\n\" id=\"DejaVuSans-75\" transform=\"scale(0.015625)\"/>\r\n       <path d=\"M 2906 2969 \r\nL 2906 4863 \r\nL 3481 4863 \r\nL 3481 0 \r\nL 2906 0 \r\nL 2906 525 \r\nQ 2725 213 2448 61 \r\nQ 2172 -91 1784 -91 \r\nQ 1150 -91 751 415 \r\nQ 353 922 353 1747 \r\nQ 353 2572 751 3078 \r\nQ 1150 3584 1784 3584 \r\nQ 2172 3584 2448 3432 \r\nQ 2725 3281 2906 2969 \r\nz\r\nM 947 1747 \r\nQ 947 1113 1208 752 \r\nQ 1469 391 1925 391 \r\nQ 2381 391 2643 752 \r\nQ 2906 1113 2906 1747 \r\nQ 2906 2381 2643 2742 \r\nQ 2381 3103 1925 3103 \r\nQ 1469 3103 1208 2742 \r\nQ 947 2381 947 1747 \r\nz\r\n\" id=\"DejaVuSans-64\" transform=\"scale(0.015625)\"/>\r\n      </defs>\r\n      <use xlink:href=\"#DejaVuSans-4c\"/>\r\n      <use x=\"53.962891\" xlink:href=\"#DejaVuSans-6f\"/>\r\n      <use x=\"115.144531\" xlink:href=\"#DejaVuSans-6e\"/>\r\n      <use x=\"178.523438\" xlink:href=\"#DejaVuSans-67\"/>\r\n      <use x=\"242\" xlink:href=\"#DejaVuSans-69\"/>\r\n      <use x=\"269.783203\" xlink:href=\"#DejaVuSans-74\"/>\r\n      <use x=\"308.992188\" xlink:href=\"#DejaVuSans-75\"/>\r\n      <use x=\"372.371094\" xlink:href=\"#DejaVuSans-64\"/>\r\n      <use x=\"435.847656\" xlink:href=\"#DejaVuSans-65\"/>\r\n     </g>\r\n    </g>\r\n   </g>\r\n   <g id=\"matplotlib.axis_4\">\r\n    <g id=\"ytick_6\">\r\n     <g id=\"line2d_21\">\r\n      <g>\r\n       <use style=\"stroke:#000000;stroke-width:0.8;\" x=\"400.065625\" xlink:href=\"#m3da0517166\" y=\"304.539152\"/>\r\n      </g>\r\n     </g>\r\n     <g id=\"text_24\">\r\n      <!-- 3.0 -->\r\n      <g transform=\"translate(377.1625 308.33837)scale(0.1 -0.1)\">\r\n       <defs>\r\n        <path d=\"M 2597 2516 \r\nQ 3050 2419 3304 2112 \r\nQ 3559 1806 3559 1356 \r\nQ 3559 666 3084 287 \r\nQ 2609 -91 1734 -91 \r\nQ 1441 -91 1130 -33 \r\nQ 819 25 488 141 \r\nL 488 750 \r\nQ 750 597 1062 519 \r\nQ 1375 441 1716 441 \r\nQ 2309 441 2620 675 \r\nQ 2931 909 2931 1356 \r\nQ 2931 1769 2642 2001 \r\nQ 2353 2234 1838 2234 \r\nL 1294 2234 \r\nL 1294 2753 \r\nL 1863 2753 \r\nQ 2328 2753 2575 2939 \r\nQ 2822 3125 2822 3475 \r\nQ 2822 3834 2567 4026 \r\nQ 2313 4219 1838 4219 \r\nQ 1578 4219 1281 4162 \r\nQ 984 4106 628 3988 \r\nL 628 4550 \r\nQ 988 4650 1302 4700 \r\nQ 1616 4750 1894 4750 \r\nQ 2613 4750 3031 4423 \r\nQ 3450 4097 3450 3541 \r\nQ 3450 3153 3228 2886 \r\nQ 3006 2619 2597 2516 \r\nz\r\n\" id=\"DejaVuSans-33\" transform=\"scale(0.015625)\"/>\r\n       </defs>\r\n       <use xlink:href=\"#DejaVuSans-33\"/>\r\n       <use x=\"63.623047\" xlink:href=\"#DejaVuSans-2e\"/>\r\n       <use x=\"95.410156\" xlink:href=\"#DejaVuSans-30\"/>\r\n      </g>\r\n     </g>\r\n    </g>\r\n    <g id=\"ytick_7\">\r\n     <g id=\"line2d_22\">\r\n      <g>\r\n       <use style=\"stroke:#000000;stroke-width:0.8;\" x=\"400.065625\" xlink:href=\"#m3da0517166\" y=\"256.358094\"/>\r\n      </g>\r\n     </g>\r\n     <g id=\"text_25\">\r\n      <!-- 3.5 -->\r\n      <g transform=\"translate(377.1625 260.157313)scale(0.1 -0.1)\">\r\n       <use xlink:href=\"#DejaVuSans-33\"/>\r\n       <use x=\"63.623047\" xlink:href=\"#DejaVuSans-2e\"/>\r\n       <use x=\"95.410156\" xlink:href=\"#DejaVuSans-35\"/>\r\n      </g>\r\n     </g>\r\n    </g>\r\n    <g id=\"ytick_8\">\r\n     <g id=\"line2d_23\">\r\n      <g>\r\n       <use style=\"stroke:#000000;stroke-width:0.8;\" x=\"400.065625\" xlink:href=\"#m3da0517166\" y=\"208.177037\"/>\r\n      </g>\r\n     </g>\r\n     <g id=\"text_26\">\r\n      <!-- 4.0 -->\r\n      <g transform=\"translate(377.1625 211.976255)scale(0.1 -0.1)\">\r\n       <use xlink:href=\"#DejaVuSans-34\"/>\r\n       <use x=\"63.623047\" xlink:href=\"#DejaVuSans-2e\"/>\r\n       <use x=\"95.410156\" xlink:href=\"#DejaVuSans-30\"/>\r\n      </g>\r\n     </g>\r\n    </g>\r\n    <g id=\"ytick_9\">\r\n     <g id=\"line2d_24\">\r\n      <g>\r\n       <use style=\"stroke:#000000;stroke-width:0.8;\" x=\"400.065625\" xlink:href=\"#m3da0517166\" y=\"159.995979\"/>\r\n      </g>\r\n     </g>\r\n     <g id=\"text_27\">\r\n      <!-- 4.5 -->\r\n      <g transform=\"translate(377.1625 163.795198)scale(0.1 -0.1)\">\r\n       <use xlink:href=\"#DejaVuSans-34\"/>\r\n       <use x=\"63.623047\" xlink:href=\"#DejaVuSans-2e\"/>\r\n       <use x=\"95.410156\" xlink:href=\"#DejaVuSans-35\"/>\r\n      </g>\r\n     </g>\r\n    </g>\r\n    <g id=\"ytick_10\">\r\n     <g id=\"line2d_25\">\r\n      <g>\r\n       <use style=\"stroke:#000000;stroke-width:0.8;\" x=\"400.065625\" xlink:href=\"#m3da0517166\" y=\"111.814921\"/>\r\n      </g>\r\n     </g>\r\n     <g id=\"text_28\">\r\n      <!-- 5.0 -->\r\n      <g transform=\"translate(377.1625 115.61414)scale(0.1 -0.1)\">\r\n       <use xlink:href=\"#DejaVuSans-35\"/>\r\n       <use x=\"63.623047\" xlink:href=\"#DejaVuSans-2e\"/>\r\n       <use x=\"95.410156\" xlink:href=\"#DejaVuSans-30\"/>\r\n      </g>\r\n     </g>\r\n    </g>\r\n    <g id=\"ytick_11\">\r\n     <g id=\"line2d_26\">\r\n      <g>\r\n       <use style=\"stroke:#000000;stroke-width:0.8;\" x=\"400.065625\" xlink:href=\"#m3da0517166\" y=\"63.633864\"/>\r\n      </g>\r\n     </g>\r\n     <g id=\"text_29\">\r\n      <!-- 5.5 -->\r\n      <g transform=\"translate(377.1625 67.433082)scale(0.1 -0.1)\">\r\n       <use xlink:href=\"#DejaVuSans-35\"/>\r\n       <use x=\"63.623047\" xlink:href=\"#DejaVuSans-2e\"/>\r\n       <use x=\"95.410156\" xlink:href=\"#DejaVuSans-35\"/>\r\n      </g>\r\n     </g>\r\n    </g>\r\n    <g id=\"text_30\">\r\n     <!-- Latitude -->\r\n     <g transform=\"translate(371.082813 188.597031)rotate(-90)scale(0.1 -0.1)\">\r\n      <use xlink:href=\"#DejaVuSans-4c\"/>\r\n      <use x=\"55.712891\" xlink:href=\"#DejaVuSans-61\"/>\r\n      <use x=\"116.992188\" xlink:href=\"#DejaVuSans-74\"/>\r\n      <use x=\"156.201172\" xlink:href=\"#DejaVuSans-69\"/>\r\n      <use x=\"183.984375\" xlink:href=\"#DejaVuSans-74\"/>\r\n      <use x=\"223.193359\" xlink:href=\"#DejaVuSans-75\"/>\r\n      <use x=\"286.572266\" xlink:href=\"#DejaVuSans-64\"/>\r\n      <use x=\"350.048828\" xlink:href=\"#DejaVuSans-65\"/>\r\n     </g>\r\n    </g>\r\n   </g>\r\n   <g id=\"line2d_27\">\r\n    <defs>\r\n     <path d=\"M 0 2.5 \r\nC 0.663008 2.5 1.29895 2.236584 1.767767 1.767767 \r\nC 2.236584 1.29895 2.5 0.663008 2.5 0 \r\nC 2.5 -0.663008 2.236584 -1.29895 1.767767 -1.767767 \r\nC 1.29895 -2.236584 0.663008 -2.5 0 -2.5 \r\nC -0.663008 -2.5 -1.29895 -2.236584 -1.767767 -1.767767 \r\nC -2.236584 -1.29895 -2.5 -0.663008 -2.5 0 \r\nC -2.5 0.663008 -2.236584 1.29895 -1.767767 1.767767 \r\nC -1.29895 2.236584 -0.663008 2.5 0 2.5 \r\nz\r\n\" id=\"mf12d86748e\" style=\"stroke:#ff0000;\"/>\r\n    </defs>\r\n    <g clip-path=\"url(#pa11e6fcfe5)\">\r\n     <use style=\"fill:#ff0000;stroke:#ff0000;\" x=\"504.471668\" xlink:href=\"#mf12d86748e\" y=\"35.56358\"/>\r\n     <use style=\"fill:#ff0000;stroke:#ff0000;\" x=\"548.080735\" xlink:href=\"#mf12d86748e\" y=\"298.08289\"/>\r\n     <use style=\"fill:#ff0000;stroke:#ff0000;\" x=\"589.855633\" xlink:href=\"#mf12d86748e\" y=\"184.577954\"/>\r\n     <use style=\"fill:#ff0000;stroke:#ff0000;\" x=\"432.558566\" xlink:href=\"#mf12d86748e\" y=\"80.651413\"/>\r\n     <use style=\"fill:#ff0000;stroke:#ff0000;\" x=\"496.016227\" xlink:href=\"#mf12d86748e\" y=\"100.656188\"/>\r\n     <use style=\"fill:#ff0000;stroke:#ff0000;\" x=\"527.904882\" xlink:href=\"#mf12d86748e\" y=\"213.515498\"/>\r\n     <use style=\"fill:#ff0000;stroke:#ff0000;\" x=\"423.897638\" xlink:href=\"#mf12d86748e\" y=\"81.721033\"/>\r\n     <use style=\"fill:#ff0000;stroke:#ff0000;\" x=\"517.508724\" xlink:href=\"#mf12d86748e\" y=\"300.47267\"/>\r\n     <use style=\"fill:#ff0000;stroke:#ff0000;\" x=\"564.717632\" xlink:href=\"#mf12d86748e\" y=\"165.035718\"/>\r\n     <use style=\"fill:#ff0000;stroke:#ff0000;\" x=\"668.945585\" xlink:href=\"#mf12d86748e\" y=\"156.3824\"/>\r\n     <use style=\"fill:#ff0000;stroke:#ff0000;\" x=\"589.543596\" xlink:href=\"#mf12d86748e\" y=\"158.685454\"/>\r\n     <use style=\"fill:#ff0000;stroke:#ff0000;\" x=\"474.645501\" xlink:href=\"#mf12d86748e\" y=\"46.905401\"/>\r\n     <use style=\"fill:#ff0000;stroke:#ff0000;\" x=\"508.832574\" xlink:href=\"#mf12d86748e\" y=\"233.067371\"/>\r\n     <use style=\"fill:#ff0000;stroke:#ff0000;\" x=\"519.289618\" xlink:href=\"#mf12d86748e\" y=\"203.734743\"/>\r\n     <use style=\"fill:#ff0000;stroke:#ff0000;\" x=\"471.083714\" xlink:href=\"#mf12d86748e\" y=\"159.755074\"/>\r\n     <use style=\"fill:#ff0000;stroke:#ff0000;\" x=\"483.588024\" xlink:href=\"#mf12d86748e\" y=\"37.433005\"/>\r\n     <use style=\"fill:#ff0000;stroke:#ff0000;\" x=\"442.764457\" xlink:href=\"#mf12d86748e\" y=\"92.166686\"/>\r\n     <use style=\"fill:#ff0000;stroke:#ff0000;\" x=\"568.758891\" xlink:href=\"#mf12d86748e\" y=\"114.262519\"/>\r\n     <use style=\"fill:#ff0000;stroke:#ff0000;\" x=\"511.610464\" xlink:href=\"#mf12d86748e\" y=\"137.187066\"/>\r\n     <use style=\"fill:#ff0000;stroke:#ff0000;\" x=\"419.818325\" xlink:href=\"#mf12d86748e\" y=\"115.592316\"/>\r\n     <use style=\"fill:#ff0000;stroke:#ff0000;\" x=\"537.8444\" xlink:href=\"#mf12d86748e\" y=\"111.323475\"/>\r\n     <use style=\"fill:#ff0000;stroke:#ff0000;\" x=\"520.712811\" xlink:href=\"#mf12d86748e\" y=\"228.9238\"/>\r\n     <use style=\"fill:#ff0000;stroke:#ff0000;\" x=\"416.028218\" xlink:href=\"#mf12d86748e\" y=\"94.595011\"/>\r\n     <use style=\"fill:#ff0000;stroke:#ff0000;\" x=\"615.495938\" xlink:href=\"#mf12d86748e\" y=\"241.248514\"/>\r\n     <use style=\"fill:#ff0000;stroke:#ff0000;\" x=\"666.030703\" xlink:href=\"#mf12d86748e\" y=\"217.389255\"/>\r\n     <use style=\"fill:#ff0000;stroke:#ff0000;\" x=\"655.208348\" xlink:href=\"#mf12d86748e\" y=\"183.460154\"/>\r\n     <use style=\"fill:#ff0000;stroke:#ff0000;\" x=\"544.465672\" xlink:href=\"#mf12d86748e\" y=\"122.568933\"/>\r\n     <use style=\"fill:#ff0000;stroke:#ff0000;\" x=\"606.180493\" xlink:href=\"#mf12d86748e\" y=\"249.429658\"/>\r\n     <use style=\"fill:#ff0000;stroke:#ff0000;\" x=\"557.685384\" xlink:href=\"#mf12d86748e\" y=\"129.969544\"/>\r\n     <use style=\"fill:#ff0000;stroke:#ff0000;\" x=\"563.804353\" xlink:href=\"#mf12d86748e\" y=\"144.712947\"/>\r\n     <use style=\"fill:#ff0000;stroke:#ff0000;\" x=\"691.488352\" xlink:href=\"#mf12d86748e\" y=\"253.765953\"/>\r\n     <use style=\"fill:#ff0000;stroke:#ff0000;\" x=\"527.082931\" xlink:href=\"#mf12d86748e\" y=\"222.005\"/>\r\n     <use style=\"fill:#ff0000;stroke:#ff0000;\" x=\"598.645942\" xlink:href=\"#mf12d86748e\" y=\"197.66393\"/>\r\n     <use style=\"fill:#ff0000;stroke:#ff0000;\" x=\"413.942898\" xlink:href=\"#mf12d86748e\" y=\"129.757547\"/>\r\n     <use style=\"fill:#ff0000;stroke:#ff0000;\" x=\"666.982035\" xlink:href=\"#mf12d86748e\" y=\"213.987672\"/>\r\n     <use style=\"fill:#ff0000;stroke:#ff0000;\" x=\"596.020266\" xlink:href=\"#mf12d86748e\" y=\"297.022907\"/>\r\n     <use style=\"fill:#ff0000;stroke:#ff0000;\" x=\"440.351879\" xlink:href=\"#mf12d86748e\" y=\"92.590679\"/>\r\n     <use style=\"fill:#ff0000;stroke:#ff0000;\" x=\"566.262595\" xlink:href=\"#mf12d86748e\" y=\"297.572171\"/>\r\n     <use style=\"fill:#ff0000;stroke:#ff0000;\" x=\"499.684564\" xlink:href=\"#mf12d86748e\" y=\"270.446235\"/>\r\n     <use style=\"fill:#ff0000;stroke:#ff0000;\" x=\"589.863244\" xlink:href=\"#mf12d86748e\" y=\"88.071296\"/>\r\n     <use style=\"fill:#ff0000;stroke:#ff0000;\" x=\"545.287623\" xlink:href=\"#mf12d86748e\" y=\"182.689257\"/>\r\n    </g>\r\n   </g>\r\n   <g id=\"patch_8\">\r\n    <path d=\"M 400.065625 313.718125 \r\nL 400.065625 22.318125 \r\n\" style=\"fill:none;stroke:#000000;stroke-linecap:square;stroke-linejoin:miter;stroke-width:0.8;\"/>\r\n   </g>\r\n   <g id=\"patch_9\">\r\n    <path d=\"M 705.365625 313.718125 \r\nL 705.365625 22.318125 \r\n\" style=\"fill:none;stroke:#000000;stroke-linecap:square;stroke-linejoin:miter;stroke-width:0.8;\"/>\r\n   </g>\r\n   <g id=\"patch_10\">\r\n    <path d=\"M 400.065625 313.718125 \r\nL 705.365625 313.718125 \r\n\" style=\"fill:none;stroke:#000000;stroke-linecap:square;stroke-linejoin:miter;stroke-width:0.8;\"/>\r\n   </g>\r\n   <g id=\"patch_11\">\r\n    <path d=\"M 400.065625 22.318125 \r\nL 705.365625 22.318125 \r\n\" style=\"fill:none;stroke:#000000;stroke-linecap:square;stroke-linejoin:miter;stroke-width:0.8;\"/>\r\n   </g>\r\n   <g id=\"text_31\">\r\n    <!-- Coordinate -->\r\n    <g transform=\"translate(519.8225 16.318125)scale(0.12 -0.12)\">\r\n     <defs>\r\n      <path d=\"M 4122 4306 \r\nL 4122 3641 \r\nQ 3803 3938 3442 4084 \r\nQ 3081 4231 2675 4231 \r\nQ 1875 4231 1450 3742 \r\nQ 1025 3253 1025 2328 \r\nQ 1025 1406 1450 917 \r\nQ 1875 428 2675 428 \r\nQ 3081 428 3442 575 \r\nQ 3803 722 4122 1019 \r\nL 4122 359 \r\nQ 3791 134 3420 21 \r\nQ 3050 -91 2638 -91 \r\nQ 1578 -91 968 557 \r\nQ 359 1206 359 2328 \r\nQ 359 3453 968 4101 \r\nQ 1578 4750 2638 4750 \r\nQ 3056 4750 3426 4639 \r\nQ 3797 4528 4122 4306 \r\nz\r\n\" id=\"DejaVuSans-43\" transform=\"scale(0.015625)\"/>\r\n      <path d=\"M 2631 2963 \r\nQ 2534 3019 2420 3045 \r\nQ 2306 3072 2169 3072 \r\nQ 1681 3072 1420 2755 \r\nQ 1159 2438 1159 1844 \r\nL 1159 0 \r\nL 581 0 \r\nL 581 3500 \r\nL 1159 3500 \r\nL 1159 2956 \r\nQ 1341 3275 1631 3429 \r\nQ 1922 3584 2338 3584 \r\nQ 2397 3584 2469 3576 \r\nQ 2541 3569 2628 3553 \r\nL 2631 2963 \r\nz\r\n\" id=\"DejaVuSans-72\" transform=\"scale(0.015625)\"/>\r\n     </defs>\r\n     <use xlink:href=\"#DejaVuSans-43\"/>\r\n     <use x=\"69.824219\" xlink:href=\"#DejaVuSans-6f\"/>\r\n     <use x=\"131.005859\" xlink:href=\"#DejaVuSans-6f\"/>\r\n     <use x=\"192.1875\" xlink:href=\"#DejaVuSans-72\"/>\r\n     <use x=\"231.550781\" xlink:href=\"#DejaVuSans-64\"/>\r\n     <use x=\"295.027344\" xlink:href=\"#DejaVuSans-69\"/>\r\n     <use x=\"322.810547\" xlink:href=\"#DejaVuSans-6e\"/>\r\n     <use x=\"386.189453\" xlink:href=\"#DejaVuSans-61\"/>\r\n     <use x=\"447.46875\" xlink:href=\"#DejaVuSans-74\"/>\r\n     <use x=\"486.677734\" xlink:href=\"#DejaVuSans-65\"/>\r\n    </g>\r\n   </g>\r\n  </g>\r\n </g>\r\n <defs>\r\n  <clipPath id=\"p55ae0cc16c\">\r\n   <rect height=\"291.4\" width=\"305.3\" x=\"46.965625\" y=\"22.318125\"/>\r\n  </clipPath>\r\n  <clipPath id=\"pa11e6fcfe5\">\r\n   <rect height=\"291.4\" width=\"305.3\" x=\"400.065625\" y=\"22.318125\"/>\r\n  </clipPath>\r\n </defs>\r\n</svg>\r\n",
      "image/png": "[encoded data removed]"
     },
     "metadata": {
      "needs_background": "light"
     }
    }
   ],
   "metadata": {}
  },
  {
   "cell_type": "markdown",
   "source": [
    "#### 3.3 Bar\r\n",
    "\r\n",
    "Next, we plot a data by using bar plot. In this case we will plot an earthquake frequency for each `Year`. To do this, we have to use `Pandas` library and then plot by using `Matplotlib` through simple plot."
   ],
   "metadata": {}
  },
  {
   "cell_type": "code",
   "execution_count": 178,
   "source": [
    "event_count = current_data['Year'].value_counts()"
   ],
   "outputs": [],
   "metadata": {}
  },
  {
   "cell_type": "code",
   "execution_count": 195,
   "source": [
    "event_count"
   ],
   "outputs": [
    {
     "output_type": "execute_result",
     "data": {
      "text/plain": [
       "2020    26\n",
       "2021    15\n",
       "Name: Year, dtype: int64"
      ]
     },
     "metadata": {},
     "execution_count": 195
    }
   ],
   "metadata": {}
  },
  {
   "cell_type": "code",
   "execution_count": 182,
   "source": [
    "event_count.plot.bar(rot=0)\r\n",
    "plt.title('Earthquake Count')\r\n",
    "plt.legend()"
   ],
   "outputs": [
    {
     "output_type": "execute_result",
     "data": {
      "text/plain": [
       "<matplotlib.legend.Legend at 0x28ed01b1ac0>"
      ]
     },
     "metadata": {},
     "execution_count": 182
    },
    {
     "output_type": "display_data",
     "data": {
      "text/plain": [
       "<Figure size 432x288 with 1 Axes>"
      ],
      "image/svg+xml": "<?xml version=\"1.0\" encoding=\"utf-8\" standalone=\"no\"?>\r\n<!DOCTYPE svg PUBLIC \"-//W3C//DTD SVG 1.1//EN\"\r\n  \"http://www.w3.org/Graphics/SVG/1.1/DTD/svg11.dtd\">\r\n<svg height=\"263.63625pt\" version=\"1.1\" viewBox=\"0 0 368.925 263.63625\" width=\"368.925pt\" xmlns=\"http://www.w3.org/2000/svg\" xmlns:xlink=\"http://www.w3.org/1999/xlink\">\r\n <metadata>\r\n  <rdf:RDF xmlns:cc=\"http://creativecommons.org/ns#\" xmlns:dc=\"http://purl.org/dc/elements/1.1/\" xmlns:rdf=\"http://www.w3.org/1999/02/22-rdf-syntax-ns#\">\r\n   <cc:Work>\r\n    <dc:type rdf:resource=\"http://purl.org/dc/dcmitype/StillImage\"/>\r\n    <dc:date>2021-08-29T15:57:02.208961</dc:date>\r\n    <dc:format>image/svg+xml</dc:format>\r\n    <dc:creator>\r\n     <cc:Agent>\r\n      <dc:title>Matplotlib v3.4.1, https://matplotlib.org/</dc:title>\r\n     </cc:Agent>\r\n    </dc:creator>\r\n   </cc:Work>\r\n  </rdf:RDF>\r\n </metadata>\r\n <defs>\r\n  <style type=\"text/css\">*{stroke-linecap:butt;stroke-linejoin:round;}</style>\r\n </defs>\r\n <g id=\"figure_1\">\r\n  <g id=\"patch_1\">\r\n   <path d=\"M -0 263.63625 \r\nL 368.925 263.63625 \r\nL 368.925 0 \r\nL -0 0 \r\nz\r\n\" style=\"fill:none;\"/>\r\n  </g>\r\n  <g id=\"axes_1\">\r\n   <g id=\"patch_2\">\r\n    <path d=\"M 26.925 239.758125 \r\nL 361.725 239.758125 \r\nL 361.725 22.318125 \r\nL 26.925 22.318125 \r\nz\r\n\" style=\"fill:#ffffff;\"/>\r\n   </g>\r\n   <g id=\"patch_3\">\r\n    <path clip-path=\"url(#p16f233e522)\" d=\"M 68.775 239.758125 \r\nL 152.475 239.758125 \r\nL 152.475 32.672411 \r\nL 68.775 32.672411 \r\nz\r\n\" style=\"fill:#1f77b4;\"/>\r\n   </g>\r\n   <g id=\"patch_4\">\r\n    <path clip-path=\"url(#p16f233e522)\" d=\"M 236.175 239.758125 \r\nL 319.875 239.758125 \r\nL 319.875 120.285598 \r\nL 236.175 120.285598 \r\nz\r\n\" style=\"fill:#1f77b4;\"/>\r\n   </g>\r\n   <g id=\"matplotlib.axis_1\">\r\n    <g id=\"xtick_1\">\r\n     <g id=\"line2d_1\">\r\n      <defs>\r\n       <path d=\"M 0 0 \r\nL 0 3.5 \r\n\" id=\"m3cc3dd4cd3\" style=\"stroke:#000000;stroke-width:0.8;\"/>\r\n      </defs>\r\n      <g>\r\n       <use style=\"stroke:#000000;stroke-width:0.8;\" x=\"110.625\" xlink:href=\"#m3cc3dd4cd3\" y=\"239.758125\"/>\r\n      </g>\r\n     </g>\r\n     <g id=\"text_1\">\r\n      <!-- 2020 -->\r\n      <g transform=\"translate(97.9 254.356563)scale(0.1 -0.1)\">\r\n       <defs>\r\n        <path d=\"M 1228 531 \r\nL 3431 531 \r\nL 3431 0 \r\nL 469 0 \r\nL 469 531 \r\nQ 828 903 1448 1529 \r\nQ 2069 2156 2228 2338 \r\nQ 2531 2678 2651 2914 \r\nQ 2772 3150 2772 3378 \r\nQ 2772 3750 2511 3984 \r\nQ 2250 4219 1831 4219 \r\nQ 1534 4219 1204 4116 \r\nQ 875 4013 500 3803 \r\nL 500 4441 \r\nQ 881 4594 1212 4672 \r\nQ 1544 4750 1819 4750 \r\nQ 2544 4750 2975 4387 \r\nQ 3406 4025 3406 3419 \r\nQ 3406 3131 3298 2873 \r\nQ 3191 2616 2906 2266 \r\nQ 2828 2175 2409 1742 \r\nQ 1991 1309 1228 531 \r\nz\r\n\" id=\"DejaVuSans-32\" transform=\"scale(0.015625)\"/>\r\n        <path d=\"M 2034 4250 \r\nQ 1547 4250 1301 3770 \r\nQ 1056 3291 1056 2328 \r\nQ 1056 1369 1301 889 \r\nQ 1547 409 2034 409 \r\nQ 2525 409 2770 889 \r\nQ 3016 1369 3016 2328 \r\nQ 3016 3291 2770 3770 \r\nQ 2525 4250 2034 4250 \r\nz\r\nM 2034 4750 \r\nQ 2819 4750 3233 4129 \r\nQ 3647 3509 3647 2328 \r\nQ 3647 1150 3233 529 \r\nQ 2819 -91 2034 -91 \r\nQ 1250 -91 836 529 \r\nQ 422 1150 422 2328 \r\nQ 422 3509 836 4129 \r\nQ 1250 4750 2034 4750 \r\nz\r\n\" id=\"DejaVuSans-30\" transform=\"scale(0.015625)\"/>\r\n       </defs>\r\n       <use xlink:href=\"#DejaVuSans-32\"/>\r\n       <use x=\"63.623047\" xlink:href=\"#DejaVuSans-30\"/>\r\n       <use x=\"127.246094\" xlink:href=\"#DejaVuSans-32\"/>\r\n       <use x=\"190.869141\" xlink:href=\"#DejaVuSans-30\"/>\r\n      </g>\r\n     </g>\r\n    </g>\r\n    <g id=\"xtick_2\">\r\n     <g id=\"line2d_2\">\r\n      <g>\r\n       <use style=\"stroke:#000000;stroke-width:0.8;\" x=\"278.025\" xlink:href=\"#m3cc3dd4cd3\" y=\"239.758125\"/>\r\n      </g>\r\n     </g>\r\n     <g id=\"text_2\">\r\n      <!-- 2021 -->\r\n      <g transform=\"translate(265.3 254.356563)scale(0.1 -0.1)\">\r\n       <defs>\r\n        <path d=\"M 794 531 \r\nL 1825 531 \r\nL 1825 4091 \r\nL 703 3866 \r\nL 703 4441 \r\nL 1819 4666 \r\nL 2450 4666 \r\nL 2450 531 \r\nL 3481 531 \r\nL 3481 0 \r\nL 794 0 \r\nL 794 531 \r\nz\r\n\" id=\"DejaVuSans-31\" transform=\"scale(0.015625)\"/>\r\n       </defs>\r\n       <use xlink:href=\"#DejaVuSans-32\"/>\r\n       <use x=\"63.623047\" xlink:href=\"#DejaVuSans-30\"/>\r\n       <use x=\"127.246094\" xlink:href=\"#DejaVuSans-32\"/>\r\n       <use x=\"190.869141\" xlink:href=\"#DejaVuSans-31\"/>\r\n      </g>\r\n     </g>\r\n    </g>\r\n   </g>\r\n   <g id=\"matplotlib.axis_2\">\r\n    <g id=\"ytick_1\">\r\n     <g id=\"line2d_3\">\r\n      <defs>\r\n       <path d=\"M 0 0 \r\nL -3.5 0 \r\n\" id=\"m85c8bfbfb8\" style=\"stroke:#000000;stroke-width:0.8;\"/>\r\n      </defs>\r\n      <g>\r\n       <use style=\"stroke:#000000;stroke-width:0.8;\" x=\"26.925\" xlink:href=\"#m85c8bfbfb8\" y=\"239.758125\"/>\r\n      </g>\r\n     </g>\r\n     <g id=\"text_3\">\r\n      <!-- 0 -->\r\n      <g transform=\"translate(13.5625 243.557344)scale(0.1 -0.1)\">\r\n       <use xlink:href=\"#DejaVuSans-30\"/>\r\n      </g>\r\n     </g>\r\n    </g>\r\n    <g id=\"ytick_2\">\r\n     <g id=\"line2d_4\">\r\n      <g>\r\n       <use style=\"stroke:#000000;stroke-width:0.8;\" x=\"26.925\" xlink:href=\"#m85c8bfbfb8\" y=\"199.933949\"/>\r\n      </g>\r\n     </g>\r\n     <g id=\"text_4\">\r\n      <!-- 5 -->\r\n      <g transform=\"translate(13.5625 203.733168)scale(0.1 -0.1)\">\r\n       <defs>\r\n        <path d=\"M 691 4666 \r\nL 3169 4666 \r\nL 3169 4134 \r\nL 1269 4134 \r\nL 1269 2991 \r\nQ 1406 3038 1543 3061 \r\nQ 1681 3084 1819 3084 \r\nQ 2600 3084 3056 2656 \r\nQ 3513 2228 3513 1497 \r\nQ 3513 744 3044 326 \r\nQ 2575 -91 1722 -91 \r\nQ 1428 -91 1123 -41 \r\nQ 819 9 494 109 \r\nL 494 744 \r\nQ 775 591 1075 516 \r\nQ 1375 441 1709 441 \r\nQ 2250 441 2565 725 \r\nQ 2881 1009 2881 1497 \r\nQ 2881 1984 2565 2268 \r\nQ 2250 2553 1709 2553 \r\nQ 1456 2553 1204 2497 \r\nQ 953 2441 691 2322 \r\nL 691 4666 \r\nz\r\n\" id=\"DejaVuSans-35\" transform=\"scale(0.015625)\"/>\r\n       </defs>\r\n       <use xlink:href=\"#DejaVuSans-35\"/>\r\n      </g>\r\n     </g>\r\n    </g>\r\n    <g id=\"ytick_3\">\r\n     <g id=\"line2d_5\">\r\n      <g>\r\n       <use style=\"stroke:#000000;stroke-width:0.8;\" x=\"26.925\" xlink:href=\"#m85c8bfbfb8\" y=\"160.109773\"/>\r\n      </g>\r\n     </g>\r\n     <g id=\"text_5\">\r\n      <!-- 10 -->\r\n      <g transform=\"translate(7.2 163.908992)scale(0.1 -0.1)\">\r\n       <use xlink:href=\"#DejaVuSans-31\"/>\r\n       <use x=\"63.623047\" xlink:href=\"#DejaVuSans-30\"/>\r\n      </g>\r\n     </g>\r\n    </g>\r\n    <g id=\"ytick_4\">\r\n     <g id=\"line2d_6\">\r\n      <g>\r\n       <use style=\"stroke:#000000;stroke-width:0.8;\" x=\"26.925\" xlink:href=\"#m85c8bfbfb8\" y=\"120.285598\"/>\r\n      </g>\r\n     </g>\r\n     <g id=\"text_6\">\r\n      <!-- 15 -->\r\n      <g transform=\"translate(7.2 124.084816)scale(0.1 -0.1)\">\r\n       <use xlink:href=\"#DejaVuSans-31\"/>\r\n       <use x=\"63.623047\" xlink:href=\"#DejaVuSans-35\"/>\r\n      </g>\r\n     </g>\r\n    </g>\r\n    <g id=\"ytick_5\">\r\n     <g id=\"line2d_7\">\r\n      <g>\r\n       <use style=\"stroke:#000000;stroke-width:0.8;\" x=\"26.925\" xlink:href=\"#m85c8bfbfb8\" y=\"80.461422\"/>\r\n      </g>\r\n     </g>\r\n     <g id=\"text_7\">\r\n      <!-- 20 -->\r\n      <g transform=\"translate(7.2 84.26064)scale(0.1 -0.1)\">\r\n       <use xlink:href=\"#DejaVuSans-32\"/>\r\n       <use x=\"63.623047\" xlink:href=\"#DejaVuSans-30\"/>\r\n      </g>\r\n     </g>\r\n    </g>\r\n    <g id=\"ytick_6\">\r\n     <g id=\"line2d_8\">\r\n      <g>\r\n       <use style=\"stroke:#000000;stroke-width:0.8;\" x=\"26.925\" xlink:href=\"#m85c8bfbfb8\" y=\"40.637246\"/>\r\n      </g>\r\n     </g>\r\n     <g id=\"text_8\">\r\n      <!-- 25 -->\r\n      <g transform=\"translate(7.2 44.436465)scale(0.1 -0.1)\">\r\n       <use xlink:href=\"#DejaVuSans-32\"/>\r\n       <use x=\"63.623047\" xlink:href=\"#DejaVuSans-35\"/>\r\n      </g>\r\n     </g>\r\n    </g>\r\n   </g>\r\n   <g id=\"patch_5\">\r\n    <path d=\"M 26.925 239.758125 \r\nL 26.925 22.318125 \r\n\" style=\"fill:none;stroke:#000000;stroke-linecap:square;stroke-linejoin:miter;stroke-width:0.8;\"/>\r\n   </g>\r\n   <g id=\"patch_6\">\r\n    <path d=\"M 361.725 239.758125 \r\nL 361.725 22.318125 \r\n\" style=\"fill:none;stroke:#000000;stroke-linecap:square;stroke-linejoin:miter;stroke-width:0.8;\"/>\r\n   </g>\r\n   <g id=\"patch_7\">\r\n    <path d=\"M 26.925 239.758125 \r\nL 361.725 239.758125 \r\n\" style=\"fill:none;stroke:#000000;stroke-linecap:square;stroke-linejoin:miter;stroke-width:0.8;\"/>\r\n   </g>\r\n   <g id=\"patch_8\">\r\n    <path d=\"M 26.925 22.318125 \r\nL 361.725 22.318125 \r\n\" style=\"fill:none;stroke:#000000;stroke-linecap:square;stroke-linejoin:miter;stroke-width:0.8;\"/>\r\n   </g>\r\n   <g id=\"text_9\">\r\n    <!-- Earthquake Count -->\r\n    <g transform=\"translate(140.273438 16.318125)scale(0.12 -0.12)\">\r\n     <defs>\r\n      <path d=\"M 628 4666 \r\nL 3578 4666 \r\nL 3578 4134 \r\nL 1259 4134 \r\nL 1259 2753 \r\nL 3481 2753 \r\nL 3481 2222 \r\nL 1259 2222 \r\nL 1259 531 \r\nL 3634 531 \r\nL 3634 0 \r\nL 628 0 \r\nL 628 4666 \r\nz\r\n\" id=\"DejaVuSans-45\" transform=\"scale(0.015625)\"/>\r\n      <path d=\"M 2194 1759 \r\nQ 1497 1759 1228 1600 \r\nQ 959 1441 959 1056 \r\nQ 959 750 1161 570 \r\nQ 1363 391 1709 391 \r\nQ 2188 391 2477 730 \r\nQ 2766 1069 2766 1631 \r\nL 2766 1759 \r\nL 2194 1759 \r\nz\r\nM 3341 1997 \r\nL 3341 0 \r\nL 2766 0 \r\nL 2766 531 \r\nQ 2569 213 2275 61 \r\nQ 1981 -91 1556 -91 \r\nQ 1019 -91 701 211 \r\nQ 384 513 384 1019 \r\nQ 384 1609 779 1909 \r\nQ 1175 2209 1959 2209 \r\nL 2766 2209 \r\nL 2766 2266 \r\nQ 2766 2663 2505 2880 \r\nQ 2244 3097 1772 3097 \r\nQ 1472 3097 1187 3025 \r\nQ 903 2953 641 2809 \r\nL 641 3341 \r\nQ 956 3463 1253 3523 \r\nQ 1550 3584 1831 3584 \r\nQ 2591 3584 2966 3190 \r\nQ 3341 2797 3341 1997 \r\nz\r\n\" id=\"DejaVuSans-61\" transform=\"scale(0.015625)\"/>\r\n      <path d=\"M 2631 2963 \r\nQ 2534 3019 2420 3045 \r\nQ 2306 3072 2169 3072 \r\nQ 1681 3072 1420 2755 \r\nQ 1159 2438 1159 1844 \r\nL 1159 0 \r\nL 581 0 \r\nL 581 3500 \r\nL 1159 3500 \r\nL 1159 2956 \r\nQ 1341 3275 1631 3429 \r\nQ 1922 3584 2338 3584 \r\nQ 2397 3584 2469 3576 \r\nQ 2541 3569 2628 3553 \r\nL 2631 2963 \r\nz\r\n\" id=\"DejaVuSans-72\" transform=\"scale(0.015625)\"/>\r\n      <path d=\"M 1172 4494 \r\nL 1172 3500 \r\nL 2356 3500 \r\nL 2356 3053 \r\nL 1172 3053 \r\nL 1172 1153 \r\nQ 1172 725 1289 603 \r\nQ 1406 481 1766 481 \r\nL 2356 481 \r\nL 2356 0 \r\nL 1766 0 \r\nQ 1100 0 847 248 \r\nQ 594 497 594 1153 \r\nL 594 3053 \r\nL 172 3053 \r\nL 172 3500 \r\nL 594 3500 \r\nL 594 4494 \r\nL 1172 4494 \r\nz\r\n\" id=\"DejaVuSans-74\" transform=\"scale(0.015625)\"/>\r\n      <path d=\"M 3513 2113 \r\nL 3513 0 \r\nL 2938 0 \r\nL 2938 2094 \r\nQ 2938 2591 2744 2837 \r\nQ 2550 3084 2163 3084 \r\nQ 1697 3084 1428 2787 \r\nQ 1159 2491 1159 1978 \r\nL 1159 0 \r\nL 581 0 \r\nL 581 4863 \r\nL 1159 4863 \r\nL 1159 2956 \r\nQ 1366 3272 1645 3428 \r\nQ 1925 3584 2291 3584 \r\nQ 2894 3584 3203 3211 \r\nQ 3513 2838 3513 2113 \r\nz\r\n\" id=\"DejaVuSans-68\" transform=\"scale(0.015625)\"/>\r\n      <path d=\"M 947 1747 \r\nQ 947 1113 1208 752 \r\nQ 1469 391 1925 391 \r\nQ 2381 391 2643 752 \r\nQ 2906 1113 2906 1747 \r\nQ 2906 2381 2643 2742 \r\nQ 2381 3103 1925 3103 \r\nQ 1469 3103 1208 2742 \r\nQ 947 2381 947 1747 \r\nz\r\nM 2906 525 \r\nQ 2725 213 2448 61 \r\nQ 2172 -91 1784 -91 \r\nQ 1150 -91 751 415 \r\nQ 353 922 353 1747 \r\nQ 353 2572 751 3078 \r\nQ 1150 3584 1784 3584 \r\nQ 2172 3584 2448 3432 \r\nQ 2725 3281 2906 2969 \r\nL 2906 3500 \r\nL 3481 3500 \r\nL 3481 -1331 \r\nL 2906 -1331 \r\nL 2906 525 \r\nz\r\n\" id=\"DejaVuSans-71\" transform=\"scale(0.015625)\"/>\r\n      <path d=\"M 544 1381 \r\nL 544 3500 \r\nL 1119 3500 \r\nL 1119 1403 \r\nQ 1119 906 1312 657 \r\nQ 1506 409 1894 409 \r\nQ 2359 409 2629 706 \r\nQ 2900 1003 2900 1516 \r\nL 2900 3500 \r\nL 3475 3500 \r\nL 3475 0 \r\nL 2900 0 \r\nL 2900 538 \r\nQ 2691 219 2414 64 \r\nQ 2138 -91 1772 -91 \r\nQ 1169 -91 856 284 \r\nQ 544 659 544 1381 \r\nz\r\nM 1991 3584 \r\nL 1991 3584 \r\nz\r\n\" id=\"DejaVuSans-75\" transform=\"scale(0.015625)\"/>\r\n      <path d=\"M 581 4863 \r\nL 1159 4863 \r\nL 1159 1991 \r\nL 2875 3500 \r\nL 3609 3500 \r\nL 1753 1863 \r\nL 3688 0 \r\nL 2938 0 \r\nL 1159 1709 \r\nL 1159 0 \r\nL 581 0 \r\nL 581 4863 \r\nz\r\n\" id=\"DejaVuSans-6b\" transform=\"scale(0.015625)\"/>\r\n      <path d=\"M 3597 1894 \r\nL 3597 1613 \r\nL 953 1613 \r\nQ 991 1019 1311 708 \r\nQ 1631 397 2203 397 \r\nQ 2534 397 2845 478 \r\nQ 3156 559 3463 722 \r\nL 3463 178 \r\nQ 3153 47 2828 -22 \r\nQ 2503 -91 2169 -91 \r\nQ 1331 -91 842 396 \r\nQ 353 884 353 1716 \r\nQ 353 2575 817 3079 \r\nQ 1281 3584 2069 3584 \r\nQ 2775 3584 3186 3129 \r\nQ 3597 2675 3597 1894 \r\nz\r\nM 3022 2063 \r\nQ 3016 2534 2758 2815 \r\nQ 2500 3097 2075 3097 \r\nQ 1594 3097 1305 2825 \r\nQ 1016 2553 972 2059 \r\nL 3022 2063 \r\nz\r\n\" id=\"DejaVuSans-65\" transform=\"scale(0.015625)\"/>\r\n      <path id=\"DejaVuSans-20\" transform=\"scale(0.015625)\"/>\r\n      <path d=\"M 4122 4306 \r\nL 4122 3641 \r\nQ 3803 3938 3442 4084 \r\nQ 3081 4231 2675 4231 \r\nQ 1875 4231 1450 3742 \r\nQ 1025 3253 1025 2328 \r\nQ 1025 1406 1450 917 \r\nQ 1875 428 2675 428 \r\nQ 3081 428 3442 575 \r\nQ 3803 722 4122 1019 \r\nL 4122 359 \r\nQ 3791 134 3420 21 \r\nQ 3050 -91 2638 -91 \r\nQ 1578 -91 968 557 \r\nQ 359 1206 359 2328 \r\nQ 359 3453 968 4101 \r\nQ 1578 4750 2638 4750 \r\nQ 3056 4750 3426 4639 \r\nQ 3797 4528 4122 4306 \r\nz\r\n\" id=\"DejaVuSans-43\" transform=\"scale(0.015625)\"/>\r\n      <path d=\"M 1959 3097 \r\nQ 1497 3097 1228 2736 \r\nQ 959 2375 959 1747 \r\nQ 959 1119 1226 758 \r\nQ 1494 397 1959 397 \r\nQ 2419 397 2687 759 \r\nQ 2956 1122 2956 1747 \r\nQ 2956 2369 2687 2733 \r\nQ 2419 3097 1959 3097 \r\nz\r\nM 1959 3584 \r\nQ 2709 3584 3137 3096 \r\nQ 3566 2609 3566 1747 \r\nQ 3566 888 3137 398 \r\nQ 2709 -91 1959 -91 \r\nQ 1206 -91 779 398 \r\nQ 353 888 353 1747 \r\nQ 353 2609 779 3096 \r\nQ 1206 3584 1959 3584 \r\nz\r\n\" id=\"DejaVuSans-6f\" transform=\"scale(0.015625)\"/>\r\n      <path d=\"M 3513 2113 \r\nL 3513 0 \r\nL 2938 0 \r\nL 2938 2094 \r\nQ 2938 2591 2744 2837 \r\nQ 2550 3084 2163 3084 \r\nQ 1697 3084 1428 2787 \r\nQ 1159 2491 1159 1978 \r\nL 1159 0 \r\nL 581 0 \r\nL 581 3500 \r\nL 1159 3500 \r\nL 1159 2956 \r\nQ 1366 3272 1645 3428 \r\nQ 1925 3584 2291 3584 \r\nQ 2894 3584 3203 3211 \r\nQ 3513 2838 3513 2113 \r\nz\r\n\" id=\"DejaVuSans-6e\" transform=\"scale(0.015625)\"/>\r\n     </defs>\r\n     <use xlink:href=\"#DejaVuSans-45\"/>\r\n     <use x=\"63.183594\" xlink:href=\"#DejaVuSans-61\"/>\r\n     <use x=\"124.462891\" xlink:href=\"#DejaVuSans-72\"/>\r\n     <use x=\"165.576172\" xlink:href=\"#DejaVuSans-74\"/>\r\n     <use x=\"204.785156\" xlink:href=\"#DejaVuSans-68\"/>\r\n     <use x=\"268.164062\" xlink:href=\"#DejaVuSans-71\"/>\r\n     <use x=\"331.640625\" xlink:href=\"#DejaVuSans-75\"/>\r\n     <use x=\"395.019531\" xlink:href=\"#DejaVuSans-61\"/>\r\n     <use x=\"456.298828\" xlink:href=\"#DejaVuSans-6b\"/>\r\n     <use x=\"510.583984\" xlink:href=\"#DejaVuSans-65\"/>\r\n     <use x=\"572.107422\" xlink:href=\"#DejaVuSans-20\"/>\r\n     <use x=\"603.894531\" xlink:href=\"#DejaVuSans-43\"/>\r\n     <use x=\"673.71875\" xlink:href=\"#DejaVuSans-6f\"/>\r\n     <use x=\"734.900391\" xlink:href=\"#DejaVuSans-75\"/>\r\n     <use x=\"798.279297\" xlink:href=\"#DejaVuSans-6e\"/>\r\n     <use x=\"861.658203\" xlink:href=\"#DejaVuSans-74\"/>\r\n    </g>\r\n   </g>\r\n   <g id=\"legend_1\">\r\n    <g id=\"patch_9\">\r\n     <path d=\"M 301.55 44.99625 \r\nL 354.725 44.99625 \r\nQ 356.725 44.99625 356.725 42.99625 \r\nL 356.725 29.318125 \r\nQ 356.725 27.318125 354.725 27.318125 \r\nL 301.55 27.318125 \r\nQ 299.55 27.318125 299.55 29.318125 \r\nL 299.55 42.99625 \r\nQ 299.55 44.99625 301.55 44.99625 \r\nz\r\n\" style=\"fill:#ffffff;opacity:0.8;stroke:#cccccc;stroke-linejoin:miter;\"/>\r\n    </g>\r\n    <g id=\"patch_10\">\r\n     <path d=\"M 303.55 38.916562 \r\nL 323.55 38.916562 \r\nL 323.55 31.916562 \r\nL 303.55 31.916562 \r\nz\r\n\" style=\"fill:#1f77b4;\"/>\r\n    </g>\r\n    <g id=\"text_10\">\r\n     <!-- Year -->\r\n     <g transform=\"translate(331.55 38.916562)scale(0.1 -0.1)\">\r\n      <defs>\r\n       <path d=\"M -13 4666 \r\nL 666 4666 \r\nL 1959 2747 \r\nL 3244 4666 \r\nL 3922 4666 \r\nL 2272 2222 \r\nL 2272 0 \r\nL 1638 0 \r\nL 1638 2222 \r\nL -13 4666 \r\nz\r\n\" id=\"DejaVuSans-59\" transform=\"scale(0.015625)\"/>\r\n      </defs>\r\n      <use xlink:href=\"#DejaVuSans-59\"/>\r\n      <use x=\"47.833984\" xlink:href=\"#DejaVuSans-65\"/>\r\n      <use x=\"109.357422\" xlink:href=\"#DejaVuSans-61\"/>\r\n      <use x=\"170.636719\" xlink:href=\"#DejaVuSans-72\"/>\r\n     </g>\r\n    </g>\r\n   </g>\r\n  </g>\r\n </g>\r\n <defs>\r\n  <clipPath id=\"p16f233e522\">\r\n   <rect height=\"217.44\" width=\"334.8\" x=\"26.925\" y=\"22.318125\"/>\r\n  </clipPath>\r\n </defs>\r\n</svg>\r\n",
      "image/png": "[encoded data removed]"
     },
     "metadata": {
      "needs_background": "light"
     }
    }
   ],
   "metadata": {}
  },
  {
   "cell_type": "markdown",
   "source": [
    "Another way, we can use `groupby` and use aggregate method to count the earthquake frequency for each year as follows"
   ],
   "metadata": {}
  },
  {
   "cell_type": "code",
   "execution_count": 183,
   "source": [
    "mag_group_in_year = current_data.groupby(by='Year').agg({\r\n",
    "    'Time': 'count'\r\n",
    "}).reset_index()"
   ],
   "outputs": [],
   "metadata": {}
  },
  {
   "cell_type": "code",
   "execution_count": 187,
   "source": [
    "mag_group_in_year.head()"
   ],
   "outputs": [
    {
     "output_type": "execute_result",
     "data": {
      "text/plain": [
       "   Year  Time\n",
       "0  2020    26\n",
       "1  2021    15"
      ],
      "text/html": [
       "<div>\n",
       "<style scoped>\n",
       "    .dataframe tbody tr th:only-of-type {\n",
       "        vertical-align: middle;\n",
       "    }\n",
       "\n",
       "    .dataframe tbody tr th {\n",
       "        vertical-align: top;\n",
       "    }\n",
       "\n",
       "    .dataframe thead th {\n",
       "        text-align: right;\n",
       "    }\n",
       "</style>\n",
       "<table border=\"1\" class=\"dataframe\">\n",
       "  <thead>\n",
       "    <tr style=\"text-align: right;\">\n",
       "      <th></th>\n",
       "      <th>Year</th>\n",
       "      <th>Time</th>\n",
       "    </tr>\n",
       "  </thead>\n",
       "  <tbody>\n",
       "    <tr>\n",
       "      <th>0</th>\n",
       "      <td>2020</td>\n",
       "      <td>26</td>\n",
       "    </tr>\n",
       "    <tr>\n",
       "      <th>1</th>\n",
       "      <td>2021</td>\n",
       "      <td>15</td>\n",
       "    </tr>\n",
       "  </tbody>\n",
       "</table>\n",
       "</div>"
      ]
     },
     "metadata": {},
     "execution_count": 187
    }
   ],
   "metadata": {}
  },
  {
   "cell_type": "markdown",
   "source": [
    "#### 3.4 Pie"
   ],
   "metadata": {}
  },
  {
   "cell_type": "markdown",
   "source": [
    "We use `mag_group_in_year` variable to plot in pie chart. But, we apply little bit modification of its index name. We use `Year` column as the new index and assign to new variable of `mag_pie` as follows"
   ],
   "metadata": {}
  },
  {
   "cell_type": "code",
   "execution_count": 88,
   "source": [
    "mag_pie = mag_group_in_year.set_index('Year')"
   ],
   "outputs": [],
   "metadata": {}
  },
  {
   "cell_type": "code",
   "execution_count": 89,
   "source": [
    "mag_pie.plot.pie(y='Mag', autopct='%.2f%%')\r\n",
    "plt.ylabel('')"
   ],
   "outputs": [
    {
     "output_type": "execute_result",
     "data": {
      "text/plain": [
       "Text(0, 0.5, '')"
      ]
     },
     "metadata": {},
     "execution_count": 89
    },
    {
     "output_type": "display_data",
     "data": {
      "text/plain": [
       "<Figure size 432x288 with 1 Axes>"
      ],
      "image/svg+xml": "<?xml version=\"1.0\" encoding=\"utf-8\" standalone=\"no\"?>\r\n<!DOCTYPE svg PUBLIC \"-//W3C//DTD SVG 1.1//EN\"\r\n  \"http://www.w3.org/Graphics/SVG/1.1/DTD/svg11.dtd\">\r\n<svg height=\"231.84pt\" version=\"1.1\" viewBox=\"0 0 231.84 231.84\" width=\"231.84pt\" xmlns=\"http://www.w3.org/2000/svg\" xmlns:xlink=\"http://www.w3.org/1999/xlink\">\r\n <metadata>\r\n  <rdf:RDF xmlns:cc=\"http://creativecommons.org/ns#\" xmlns:dc=\"http://purl.org/dc/elements/1.1/\" xmlns:rdf=\"http://www.w3.org/1999/02/22-rdf-syntax-ns#\">\r\n   <cc:Work>\r\n    <dc:type rdf:resource=\"http://purl.org/dc/dcmitype/StillImage\"/>\r\n    <dc:date>2021-08-29T15:04:49.934263</dc:date>\r\n    <dc:format>image/svg+xml</dc:format>\r\n    <dc:creator>\r\n     <cc:Agent>\r\n      <dc:title>Matplotlib v3.4.1, https://matplotlib.org/</dc:title>\r\n     </cc:Agent>\r\n    </dc:creator>\r\n   </cc:Work>\r\n  </rdf:RDF>\r\n </metadata>\r\n <defs>\r\n  <style type=\"text/css\">*{stroke-linecap:butt;stroke-linejoin:round;}</style>\r\n </defs>\r\n <g id=\"figure_1\">\r\n  <g id=\"patch_1\">\r\n   <path d=\"M 0 231.84 \r\nL 231.84 231.84 \r\nL 231.84 0 \r\nL 0 0 \r\nz\r\n\" style=\"fill:none;\"/>\r\n  </g>\r\n  <g id=\"axes_1\">\r\n   <g id=\"patch_2\">\r\n    <path d=\"M 202.896 115.92 \r\nC 202.896 101.406115 199.263052 87.120467 192.329482 74.369842 \r\nC 185.395912 61.619216 175.379785 50.80463 163.197332 42.915353 \r\nC 151.014879 35.026076 137.049248 30.310232 122.57795 29.199205 \r\nC 108.106652 28.088178 93.584821 30.61691 80.340848 36.554084 \r\nC 67.096876 42.491259 55.547295 51.650148 46.748609 63.192936 \r\nC 37.949923 74.735725 32.178857 88.299384 29.963322 102.643172 \r\nC 27.747788 116.98696 29.157464 131.659754 34.063402 145.319352 \r\nC 38.969339 158.978951 47.217241 171.195749 58.052628 180.85221 \r\nL 115.92 115.92 \r\nL 202.896 115.92 \r\nz\r\n\" style=\"fill:#1f77b4;\"/>\r\n   </g>\r\n   <g id=\"patch_3\">\r\n    <path d=\"M 58.052628 180.85221 \r\nC 70.576014 192.01301 86.064827 199.315994 102.643172 201.876678 \r\nC 119.221518 204.437361 136.191957 202.148017 151.499152 195.285916 \r\nC 166.806346 188.423814 179.806333 177.277638 188.924647 163.197332 \r\nC 198.04296 149.117027 202.896 132.694941 202.896 115.92 \r\nL 115.92 115.92 \r\nL 58.052628 180.85221 \r\nz\r\n\" style=\"fill:#ff7f0e;\"/>\r\n   </g>\r\n   <g id=\"matplotlib.axis_1\"/>\r\n   <g id=\"matplotlib.axis_2\"/>\r\n   <g id=\"text_1\">\r\n    <!-- 2020 -->\r\n    <g transform=\"translate(51.332933 31.376868)scale(0.1 -0.1)\">\r\n     <defs>\r\n      <path d=\"M 1228 531 \r\nL 3431 531 \r\nL 3431 0 \r\nL 469 0 \r\nL 469 531 \r\nQ 828 903 1448 1529 \r\nQ 2069 2156 2228 2338 \r\nQ 2531 2678 2651 2914 \r\nQ 2772 3150 2772 3378 \r\nQ 2772 3750 2511 3984 \r\nQ 2250 4219 1831 4219 \r\nQ 1534 4219 1204 4116 \r\nQ 875 4013 500 3803 \r\nL 500 4441 \r\nQ 881 4594 1212 4672 \r\nQ 1544 4750 1819 4750 \r\nQ 2544 4750 2975 4387 \r\nQ 3406 4025 3406 3419 \r\nQ 3406 3131 3298 2873 \r\nQ 3191 2616 2906 2266 \r\nQ 2828 2175 2409 1742 \r\nQ 1991 1309 1228 531 \r\nz\r\n\" id=\"DejaVuSans-32\" transform=\"scale(0.015625)\"/>\r\n      <path d=\"M 2034 4250 \r\nQ 1547 4250 1301 3770 \r\nQ 1056 3291 1056 2328 \r\nQ 1056 1369 1301 889 \r\nQ 1547 409 2034 409 \r\nQ 2525 409 2770 889 \r\nQ 3016 1369 3016 2328 \r\nQ 3016 3291 2770 3770 \r\nQ 2525 4250 2034 4250 \r\nz\r\nM 2034 4750 \r\nQ 2819 4750 3233 4129 \r\nQ 3647 3509 3647 2328 \r\nQ 3647 1150 3233 529 \r\nQ 2819 -91 2034 -91 \r\nQ 1250 -91 836 529 \r\nQ 422 1150 422 2328 \r\nQ 422 3509 836 4129 \r\nQ 1250 4750 2034 4750 \r\nz\r\n\" id=\"DejaVuSans-30\" transform=\"scale(0.015625)\"/>\r\n     </defs>\r\n     <use xlink:href=\"#DejaVuSans-32\"/>\r\n     <use x=\"63.623047\" xlink:href=\"#DejaVuSans-30\"/>\r\n     <use x=\"127.246094\" xlink:href=\"#DejaVuSans-32\"/>\r\n     <use x=\"190.869141\" xlink:href=\"#DejaVuSans-30\"/>\r\n    </g>\r\n   </g>\r\n   <g id=\"text_2\">\r\n    <!-- 63.41% -->\r\n    <g transform=\"translate(75.507665 71.059826)scale(0.1 -0.1)\">\r\n     <defs>\r\n      <path d=\"M 2113 2584 \r\nQ 1688 2584 1439 2293 \r\nQ 1191 2003 1191 1497 \r\nQ 1191 994 1439 701 \r\nQ 1688 409 2113 409 \r\nQ 2538 409 2786 701 \r\nQ 3034 994 3034 1497 \r\nQ 3034 2003 2786 2293 \r\nQ 2538 2584 2113 2584 \r\nz\r\nM 3366 4563 \r\nL 3366 3988 \r\nQ 3128 4100 2886 4159 \r\nQ 2644 4219 2406 4219 \r\nQ 1781 4219 1451 3797 \r\nQ 1122 3375 1075 2522 \r\nQ 1259 2794 1537 2939 \r\nQ 1816 3084 2150 3084 \r\nQ 2853 3084 3261 2657 \r\nQ 3669 2231 3669 1497 \r\nQ 3669 778 3244 343 \r\nQ 2819 -91 2113 -91 \r\nQ 1303 -91 875 529 \r\nQ 447 1150 447 2328 \r\nQ 447 3434 972 4092 \r\nQ 1497 4750 2381 4750 \r\nQ 2619 4750 2861 4703 \r\nQ 3103 4656 3366 4563 \r\nz\r\n\" id=\"DejaVuSans-36\" transform=\"scale(0.015625)\"/>\r\n      <path d=\"M 2597 2516 \r\nQ 3050 2419 3304 2112 \r\nQ 3559 1806 3559 1356 \r\nQ 3559 666 3084 287 \r\nQ 2609 -91 1734 -91 \r\nQ 1441 -91 1130 -33 \r\nQ 819 25 488 141 \r\nL 488 750 \r\nQ 750 597 1062 519 \r\nQ 1375 441 1716 441 \r\nQ 2309 441 2620 675 \r\nQ 2931 909 2931 1356 \r\nQ 2931 1769 2642 2001 \r\nQ 2353 2234 1838 2234 \r\nL 1294 2234 \r\nL 1294 2753 \r\nL 1863 2753 \r\nQ 2328 2753 2575 2939 \r\nQ 2822 3125 2822 3475 \r\nQ 2822 3834 2567 4026 \r\nQ 2313 4219 1838 4219 \r\nQ 1578 4219 1281 4162 \r\nQ 984 4106 628 3988 \r\nL 628 4550 \r\nQ 988 4650 1302 4700 \r\nQ 1616 4750 1894 4750 \r\nQ 2613 4750 3031 4423 \r\nQ 3450 4097 3450 3541 \r\nQ 3450 3153 3228 2886 \r\nQ 3006 2619 2597 2516 \r\nz\r\n\" id=\"DejaVuSans-33\" transform=\"scale(0.015625)\"/>\r\n      <path d=\"M 684 794 \r\nL 1344 794 \r\nL 1344 0 \r\nL 684 0 \r\nL 684 794 \r\nz\r\n\" id=\"DejaVuSans-2e\" transform=\"scale(0.015625)\"/>\r\n      <path d=\"M 2419 4116 \r\nL 825 1625 \r\nL 2419 1625 \r\nL 2419 4116 \r\nz\r\nM 2253 4666 \r\nL 3047 4666 \r\nL 3047 1625 \r\nL 3713 1625 \r\nL 3713 1100 \r\nL 3047 1100 \r\nL 3047 0 \r\nL 2419 0 \r\nL 2419 1100 \r\nL 313 1100 \r\nL 313 1709 \r\nL 2253 4666 \r\nz\r\n\" id=\"DejaVuSans-34\" transform=\"scale(0.015625)\"/>\r\n      <path d=\"M 794 531 \r\nL 1825 531 \r\nL 1825 4091 \r\nL 703 3866 \r\nL 703 4441 \r\nL 1819 4666 \r\nL 2450 4666 \r\nL 2450 531 \r\nL 3481 531 \r\nL 3481 0 \r\nL 794 0 \r\nL 794 531 \r\nz\r\n\" id=\"DejaVuSans-31\" transform=\"scale(0.015625)\"/>\r\n      <path d=\"M 4653 2053 \r\nQ 4381 2053 4226 1822 \r\nQ 4072 1591 4072 1178 \r\nQ 4072 772 4226 539 \r\nQ 4381 306 4653 306 \r\nQ 4919 306 5073 539 \r\nQ 5228 772 5228 1178 \r\nQ 5228 1588 5073 1820 \r\nQ 4919 2053 4653 2053 \r\nz\r\nM 4653 2450 \r\nQ 5147 2450 5437 2106 \r\nQ 5728 1763 5728 1178 \r\nQ 5728 594 5436 251 \r\nQ 5144 -91 4653 -91 \r\nQ 4153 -91 3862 251 \r\nQ 3572 594 3572 1178 \r\nQ 3572 1766 3864 2108 \r\nQ 4156 2450 4653 2450 \r\nz\r\nM 1428 4353 \r\nQ 1159 4353 1004 4120 \r\nQ 850 3888 850 3481 \r\nQ 850 3069 1003 2837 \r\nQ 1156 2606 1428 2606 \r\nQ 1700 2606 1854 2837 \r\nQ 2009 3069 2009 3481 \r\nQ 2009 3884 1853 4118 \r\nQ 1697 4353 1428 4353 \r\nz\r\nM 4250 4750 \r\nL 4750 4750 \r\nL 1831 -91 \r\nL 1331 -91 \r\nL 4250 4750 \r\nz\r\nM 1428 4750 \r\nQ 1922 4750 2215 4408 \r\nQ 2509 4066 2509 3481 \r\nQ 2509 2891 2217 2550 \r\nQ 1925 2209 1428 2209 \r\nQ 931 2209 642 2551 \r\nQ 353 2894 353 3481 \r\nQ 353 4063 643 4406 \r\nQ 934 4750 1428 4750 \r\nz\r\n\" id=\"DejaVuSans-25\" transform=\"scale(0.015625)\"/>\r\n     </defs>\r\n     <use xlink:href=\"#DejaVuSans-36\"/>\r\n     <use x=\"63.623047\" xlink:href=\"#DejaVuSans-33\"/>\r\n     <use x=\"127.246094\" xlink:href=\"#DejaVuSans-2e\"/>\r\n     <use x=\"159.033203\" xlink:href=\"#DejaVuSans-34\"/>\r\n     <use x=\"222.65625\" xlink:href=\"#DejaVuSans-31\"/>\r\n     <use x=\"286.279297\" xlink:href=\"#DejaVuSans-25\"/>\r\n    </g>\r\n   </g>\r\n   <g id=\"text_3\">\r\n    <!-- 2021 -->\r\n    <g transform=\"translate(155.057067 205.981882)scale(0.1 -0.1)\">\r\n     <use xlink:href=\"#DejaVuSans-32\"/>\r\n     <use x=\"63.623047\" xlink:href=\"#DejaVuSans-30\"/>\r\n     <use x=\"127.246094\" xlink:href=\"#DejaVuSans-32\"/>\r\n     <use x=\"190.869141\" xlink:href=\"#DejaVuSans-31\"/>\r\n    </g>\r\n   </g>\r\n   <g id=\"text_4\">\r\n    <!-- 36.59% -->\r\n    <g transform=\"translate(118.202647 166.298924)scale(0.1 -0.1)\">\r\n     <defs>\r\n      <path d=\"M 691 4666 \r\nL 3169 4666 \r\nL 3169 4134 \r\nL 1269 4134 \r\nL 1269 2991 \r\nQ 1406 3038 1543 3061 \r\nQ 1681 3084 1819 3084 \r\nQ 2600 3084 3056 2656 \r\nQ 3513 2228 3513 1497 \r\nQ 3513 744 3044 326 \r\nQ 2575 -91 1722 -91 \r\nQ 1428 -91 1123 -41 \r\nQ 819 9 494 109 \r\nL 494 744 \r\nQ 775 591 1075 516 \r\nQ 1375 441 1709 441 \r\nQ 2250 441 2565 725 \r\nQ 2881 1009 2881 1497 \r\nQ 2881 1984 2565 2268 \r\nQ 2250 2553 1709 2553 \r\nQ 1456 2553 1204 2497 \r\nQ 953 2441 691 2322 \r\nL 691 4666 \r\nz\r\n\" id=\"DejaVuSans-35\" transform=\"scale(0.015625)\"/>\r\n      <path d=\"M 703 97 \r\nL 703 672 \r\nQ 941 559 1184 500 \r\nQ 1428 441 1663 441 \r\nQ 2288 441 2617 861 \r\nQ 2947 1281 2994 2138 \r\nQ 2813 1869 2534 1725 \r\nQ 2256 1581 1919 1581 \r\nQ 1219 1581 811 2004 \r\nQ 403 2428 403 3163 \r\nQ 403 3881 828 4315 \r\nQ 1253 4750 1959 4750 \r\nQ 2769 4750 3195 4129 \r\nQ 3622 3509 3622 2328 \r\nQ 3622 1225 3098 567 \r\nQ 2575 -91 1691 -91 \r\nQ 1453 -91 1209 -44 \r\nQ 966 3 703 97 \r\nz\r\nM 1959 2075 \r\nQ 2384 2075 2632 2365 \r\nQ 2881 2656 2881 3163 \r\nQ 2881 3666 2632 3958 \r\nQ 2384 4250 1959 4250 \r\nQ 1534 4250 1286 3958 \r\nQ 1038 3666 1038 3163 \r\nQ 1038 2656 1286 2365 \r\nQ 1534 2075 1959 2075 \r\nz\r\n\" id=\"DejaVuSans-39\" transform=\"scale(0.015625)\"/>\r\n     </defs>\r\n     <use xlink:href=\"#DejaVuSans-33\"/>\r\n     <use x=\"63.623047\" xlink:href=\"#DejaVuSans-36\"/>\r\n     <use x=\"127.246094\" xlink:href=\"#DejaVuSans-2e\"/>\r\n     <use x=\"159.033203\" xlink:href=\"#DejaVuSans-35\"/>\r\n     <use x=\"222.65625\" xlink:href=\"#DejaVuSans-39\"/>\r\n     <use x=\"286.279297\" xlink:href=\"#DejaVuSans-25\"/>\r\n    </g>\r\n   </g>\r\n   <g id=\"legend_1\">\r\n    <g id=\"patch_4\">\r\n     <path d=\"M 160.19 44.55625 \r\nL 217.64 44.55625 \r\nQ 219.64 44.55625 219.64 42.55625 \r\nL 219.64 14.2 \r\nQ 219.64 12.2 217.64 12.2 \r\nL 160.19 12.2 \r\nQ 158.19 12.2 158.19 14.2 \r\nL 158.19 42.55625 \r\nQ 158.19 44.55625 160.19 44.55625 \r\nz\r\n\" style=\"fill:#ffffff;opacity:0.8;stroke:#cccccc;stroke-linejoin:miter;\"/>\r\n    </g>\r\n    <g id=\"patch_5\">\r\n     <path d=\"M 162.19 23.798437 \r\nL 182.19 23.798437 \r\nL 182.19 16.798437 \r\nL 162.19 16.798437 \r\nz\r\n\" style=\"fill:#1f77b4;\"/>\r\n    </g>\r\n    <g id=\"text_5\">\r\n     <!-- 2020 -->\r\n     <g transform=\"translate(190.19 23.798437)scale(0.1 -0.1)\">\r\n      <use xlink:href=\"#DejaVuSans-32\"/>\r\n      <use x=\"63.623047\" xlink:href=\"#DejaVuSans-30\"/>\r\n      <use x=\"127.246094\" xlink:href=\"#DejaVuSans-32\"/>\r\n      <use x=\"190.869141\" xlink:href=\"#DejaVuSans-30\"/>\r\n     </g>\r\n    </g>\r\n    <g id=\"patch_6\">\r\n     <path d=\"M 162.19 38.476562 \r\nL 182.19 38.476562 \r\nL 182.19 31.476562 \r\nL 162.19 31.476562 \r\nz\r\n\" style=\"fill:#ff7f0e;\"/>\r\n    </g>\r\n    <g id=\"text_6\">\r\n     <!-- 2021 -->\r\n     <g transform=\"translate(190.19 38.476562)scale(0.1 -0.1)\">\r\n      <use xlink:href=\"#DejaVuSans-32\"/>\r\n      <use x=\"63.623047\" xlink:href=\"#DejaVuSans-30\"/>\r\n      <use x=\"127.246094\" xlink:href=\"#DejaVuSans-32\"/>\r\n      <use x=\"190.869141\" xlink:href=\"#DejaVuSans-31\"/>\r\n     </g>\r\n    </g>\r\n   </g>\r\n  </g>\r\n </g>\r\n</svg>\r\n",
      "image/png": "[encoded data removed]"
     },
     "metadata": {}
    }
   ],
   "metadata": {
    "scrolled": true
   }
  },
  {
   "cell_type": "markdown",
   "source": [
    "### 4. Basic Algorithm in Python"
   ],
   "metadata": {}
  },
  {
   "cell_type": "markdown",
   "source": [
    "Yey!!!, you have explored and studied about fundamental of some Python libraries such as Numpy, Pandas and Matplotlib. Now, you are going to learn about basic algorithm in Python. If you ever have learn about basic algorithm from another programming language, it might be help you for this tutorial.\r\n",
    "\r\n",
    "Algorithm is sequance of a structure statements to help solve a problems computationally [[reference]](https://www.merriam-webster.com/dictionary/algorithm). A mathematics process is behind an algorithm. For instances, the calculator in your smartphone is an product of algorithm, which is the behind of calculator program is mathematics. You could conduct summation, subtraction, multiplication, division and much more. That is one simple example. Let's imagine that you are dealing with a complex mathematics equation that to be calculated with some dependent variables manually. It will take a time to process. The solution is, you could create an algorithm to solve this complex mathematics equation.\r\n",
    "\r\n",
    "In this subchapter, we will learn some of topics as follows:\r\n",
    "\r\n",
    "- Type of Data\r\n",
    "- Looping/Iteration\r\n",
    "- Conditional Statement/Logical Statement\r\n",
    "\r\n",
    "So, have a good luck!!!"
   ],
   "metadata": {}
  },
  {
   "cell_type": "markdown",
   "source": [
    "#### 4.1 Type of Data"
   ],
   "metadata": {}
  },
  {
   "cell_type": "markdown",
   "source": [
    "When you are dealing with an algorithm, write some an algorithm by using any programming language, you will face some type of data as follows:\r\n",
    "\r\n",
    "1. String (Character)\r\n",
    "2. Float\r\n",
    "3. Integer\r\n",
    "4. Complex\r\n",
    "5. Dictionary\r\n",
    "\r\n",
    "So, what are these type of data means?"
   ],
   "metadata": {}
  },
  {
   "cell_type": "markdown",
   "source": [
    "##### 4.1.1 String"
   ],
   "metadata": {}
  },
  {
   "cell_type": "markdown",
   "source": [
    "String or Character is a type of data that contain a text format. It can be a words or combination between words with numbers. In Python, the string is written with quotion mark ('type your string here'). For instances"
   ],
   "metadata": {}
  },
  {
   "cell_type": "code",
   "execution_count": 90,
   "source": [
    "string_1 = 'This is a string 1'\r\n",
    "string_1"
   ],
   "outputs": [
    {
     "output_type": "execute_result",
     "data": {
      "text/plain": [
       "'This is a string 1'"
      ]
     },
     "metadata": {},
     "execution_count": 90
    }
   ],
   "metadata": {}
  },
  {
   "cell_type": "code",
   "execution_count": 91,
   "source": [
    "string_2 = '12345678910 is a string 2'\r\n",
    "string_2"
   ],
   "outputs": [
    {
     "output_type": "execute_result",
     "data": {
      "text/plain": [
       "'12345678910 is a string 2'"
      ]
     },
     "metadata": {},
     "execution_count": 91
    }
   ],
   "metadata": {}
  },
  {
   "cell_type": "markdown",
   "source": [
    "You can identify a length of string data by using `len()` command as follows"
   ],
   "metadata": {}
  },
  {
   "cell_type": "code",
   "execution_count": 92,
   "source": [
    "len_string_1 = len(string_1)\r\n",
    "len_string_1"
   ],
   "outputs": [
    {
     "output_type": "execute_result",
     "data": {
      "text/plain": [
       "18"
      ]
     },
     "metadata": {},
     "execution_count": 92
    }
   ],
   "metadata": {}
  },
  {
   "cell_type": "code",
   "execution_count": 93,
   "source": [
    "len_string_2 = len(string_2)\r\n",
    "len_string_2"
   ],
   "outputs": [
    {
     "output_type": "execute_result",
     "data": {
      "text/plain": [
       "25"
      ]
     },
     "metadata": {},
     "execution_count": 93
    }
   ],
   "metadata": {}
  },
  {
   "cell_type": "markdown",
   "source": [
    " You can slice the string data by using its index number. In this case, the `string_1` has 18 length of string data and `string_2` has 25 length of string data. These length numbers are maximum index number for each string data. For instances,"
   ],
   "metadata": {}
  },
  {
   "cell_type": "code",
   "execution_count": 94,
   "source": [
    "slice_1 = string_1[0:7]\r\n",
    "slice_1"
   ],
   "outputs": [
    {
     "output_type": "execute_result",
     "data": {
      "text/plain": [
       "'This is'"
      ]
     },
     "metadata": {},
     "execution_count": 94
    }
   ],
   "metadata": {}
  },
  {
   "cell_type": "code",
   "execution_count": 95,
   "source": [
    "slice_2 = string_2[17:25]\r\n",
    "slice_2"
   ],
   "outputs": [
    {
     "output_type": "execute_result",
     "data": {
      "text/plain": [
       "'string 2'"
      ]
     },
     "metadata": {},
     "execution_count": 95
    }
   ],
   "metadata": {}
  },
  {
   "cell_type": "code",
   "execution_count": 96,
   "source": [
    "string_1.split()"
   ],
   "outputs": [
    {
     "output_type": "execute_result",
     "data": {
      "text/plain": [
       "['This', 'is', 'a', 'string', '1']"
      ]
     },
     "metadata": {},
     "execution_count": 96
    }
   ],
   "metadata": {}
  },
  {
   "cell_type": "markdown",
   "source": [
    "In Python, you can add two string data by using `+` as follows"
   ],
   "metadata": {}
  },
  {
   "cell_type": "code",
   "execution_count": 97,
   "source": [
    "add_string = slice_1 + slice_2\r\n",
    "add_string"
   ],
   "outputs": [
    {
     "output_type": "execute_result",
     "data": {
      "text/plain": [
       "'This isstring 2'"
      ]
     },
     "metadata": {},
     "execution_count": 97
    }
   ],
   "metadata": {}
  },
  {
   "cell_type": "code",
   "execution_count": 98,
   "source": [
    "add_string = slice_1 +' '+ slice_2\r\n",
    "add_string"
   ],
   "outputs": [
    {
     "output_type": "execute_result",
     "data": {
      "text/plain": [
       "'This is string 2'"
      ]
     },
     "metadata": {},
     "execution_count": 98
    }
   ],
   "metadata": {}
  },
  {
   "cell_type": "code",
   "execution_count": 99,
   "source": [
    "type(add_string)"
   ],
   "outputs": [
    {
     "output_type": "execute_result",
     "data": {
      "text/plain": [
       "str"
      ]
     },
     "metadata": {},
     "execution_count": 99
    }
   ],
   "metadata": {}
  },
  {
   "cell_type": "markdown",
   "source": [
    "You also can write the multiple string in a list/array as follows"
   ],
   "metadata": {}
  },
  {
   "cell_type": "code",
   "execution_count": 100,
   "source": [
    "string_list = ['String 1', 'String_2', 'String_3']\r\n",
    "string_list"
   ],
   "outputs": [
    {
     "output_type": "execute_result",
     "data": {
      "text/plain": [
       "['String 1', 'String_2', 'String_3']"
      ]
     },
     "metadata": {},
     "execution_count": 100
    }
   ],
   "metadata": {}
  },
  {
   "cell_type": "markdown",
   "source": [
    "##### 4.1.2 Float"
   ],
   "metadata": {}
  },
  {
   "cell_type": "markdown",
   "source": [
    "Float is fractional number type of data, such as `2.4, 5.2, 7.0, etc`. For instances,"
   ],
   "metadata": {}
  },
  {
   "cell_type": "code",
   "execution_count": 101,
   "source": [
    "float_1 = 2.5\r\n",
    "float_1"
   ],
   "outputs": [
    {
     "output_type": "execute_result",
     "data": {
      "text/plain": [
       "2.5"
      ]
     },
     "metadata": {},
     "execution_count": 101
    }
   ],
   "metadata": {}
  },
  {
   "cell_type": "code",
   "execution_count": 102,
   "source": [
    "type(float_1)"
   ],
   "outputs": [
    {
     "output_type": "execute_result",
     "data": {
      "text/plain": [
       "float"
      ]
     },
     "metadata": {},
     "execution_count": 102
    }
   ],
   "metadata": {}
  },
  {
   "cell_type": "code",
   "execution_count": 103,
   "source": [
    "float_2 = 7.3\r\n",
    "float_2"
   ],
   "outputs": [
    {
     "output_type": "execute_result",
     "data": {
      "text/plain": [
       "7.3"
      ]
     },
     "metadata": {},
     "execution_count": 103
    }
   ],
   "metadata": {}
  },
  {
   "cell_type": "markdown",
   "source": [
    "You can apply the mathematics operation to this type of data"
   ],
   "metadata": {}
  },
  {
   "cell_type": "code",
   "execution_count": 104,
   "source": [
    "add_float = float_1 + float_2\r\n",
    "add_float"
   ],
   "outputs": [
    {
     "output_type": "execute_result",
     "data": {
      "text/plain": [
       "9.8"
      ]
     },
     "metadata": {},
     "execution_count": 104
    }
   ],
   "metadata": {}
  },
  {
   "cell_type": "markdown",
   "source": [
    "You also can create a list/array that contain some float numbers"
   ],
   "metadata": {}
  },
  {
   "cell_type": "code",
   "execution_count": 105,
   "source": [
    "list_float = [1.2, 2.6, 4.8]\r\n",
    "list_float"
   ],
   "outputs": [
    {
     "output_type": "execute_result",
     "data": {
      "text/plain": [
       "[1.2, 2.6, 4.8]"
      ]
     },
     "metadata": {},
     "execution_count": 105
    }
   ],
   "metadata": {}
  },
  {
   "cell_type": "markdown",
   "source": [
    "##### 4.1.3 Integer"
   ],
   "metadata": {}
  },
  {
   "cell_type": "markdown",
   "source": [
    "Integer is not a frational number, such as `20, 10, 18, 16`. For instances,"
   ],
   "metadata": {}
  },
  {
   "cell_type": "code",
   "execution_count": 106,
   "source": [
    "integer_1 = 12\r\n",
    "integer_1"
   ],
   "outputs": [
    {
     "output_type": "execute_result",
     "data": {
      "text/plain": [
       "12"
      ]
     },
     "metadata": {},
     "execution_count": 106
    }
   ],
   "metadata": {}
  },
  {
   "cell_type": "code",
   "execution_count": 107,
   "source": [
    "integer_2 = 18\r\n",
    "integer_2"
   ],
   "outputs": [
    {
     "output_type": "execute_result",
     "data": {
      "text/plain": [
       "18"
      ]
     },
     "metadata": {},
     "execution_count": 107
    }
   ],
   "metadata": {}
  },
  {
   "cell_type": "markdown",
   "source": [
    "You can apply the mathematics operation in this type of data"
   ],
   "metadata": {}
  },
  {
   "cell_type": "code",
   "execution_count": 108,
   "source": [
    "add_integer = integer_1 + integer_2\r\n",
    "add_integer"
   ],
   "outputs": [
    {
     "output_type": "execute_result",
     "data": {
      "text/plain": [
       "30"
      ]
     },
     "metadata": {},
     "execution_count": 108
    }
   ],
   "metadata": {}
  },
  {
   "cell_type": "markdown",
   "source": [
    "You also can create a list/array that contain some integer numbers"
   ],
   "metadata": {}
  },
  {
   "cell_type": "code",
   "execution_count": 109,
   "source": [
    "list_integer = [12, 16, 28]\r\n",
    "list_integer"
   ],
   "outputs": [
    {
     "output_type": "execute_result",
     "data": {
      "text/plain": [
       "[12, 16, 28]"
      ]
     },
     "metadata": {},
     "execution_count": 109
    }
   ],
   "metadata": {}
  },
  {
   "cell_type": "markdown",
   "source": [
    "##### 4.1.4 Complex"
   ],
   "metadata": {}
  },
  {
   "cell_type": "markdown",
   "source": [
    "Complex is a combination between real number with imaginary number. The complex number is written in the form `c = a + bj`, where the `j` refer to imaginary nubmer. For instances,"
   ],
   "metadata": {}
  },
  {
   "cell_type": "code",
   "execution_count": 110,
   "source": [
    "complex_1 = 2.5 + 4j\r\n",
    "complex_1"
   ],
   "outputs": [
    {
     "output_type": "execute_result",
     "data": {
      "text/plain": [
       "(2.5+4j)"
      ]
     },
     "metadata": {},
     "execution_count": 110
    }
   ],
   "metadata": {
    "scrolled": true
   }
  },
  {
   "cell_type": "markdown",
   "source": [
    "You can separate the component of complex data to each type (real and imaginary) by using Numpy as follows"
   ],
   "metadata": {}
  },
  {
   "cell_type": "code",
   "execution_count": 111,
   "source": [
    "real_complex = np.real(complex_1)\r\n",
    "real_complex"
   ],
   "outputs": [
    {
     "output_type": "execute_result",
     "data": {
      "text/plain": [
       "2.5"
      ]
     },
     "metadata": {},
     "execution_count": 111
    }
   ],
   "metadata": {}
  },
  {
   "cell_type": "code",
   "execution_count": 112,
   "source": [
    "imag_complex = np.imag(complex_1)\r\n",
    "imag_complex"
   ],
   "outputs": [
    {
     "output_type": "execute_result",
     "data": {
      "text/plain": [
       "4.0"
      ]
     },
     "metadata": {},
     "execution_count": 112
    }
   ],
   "metadata": {}
  },
  {
   "cell_type": "markdown",
   "source": [
    "##### 4.1.5 Dictionary\n",
    "\n",
    "Dictionary is a type of data that has a key-value in its element. For instance, a people has their own names, their own ages, their own nationalities and other their personality informations. To create this, the curl bracket is used with a key and a value as follows \n",
    "\n",
    "`{key:value}`"
   ],
   "metadata": {}
  },
  {
   "cell_type": "code",
   "execution_count": 113,
   "source": [
    "dict_1 = {'name':'Mono','age':27}"
   ],
   "outputs": [],
   "metadata": {}
  },
  {
   "cell_type": "code",
   "execution_count": 114,
   "source": [
    "dict_1"
   ],
   "outputs": [
    {
     "output_type": "execute_result",
     "data": {
      "text/plain": [
       "{'name': 'Mono', 'age': 27}"
      ]
     },
     "metadata": {},
     "execution_count": 114
    }
   ],
   "metadata": {}
  },
  {
   "cell_type": "markdown",
   "source": [
    "Type the certain key name to call it"
   ],
   "metadata": {}
  },
  {
   "cell_type": "code",
   "execution_count": 115,
   "source": [
    "dict_1['age']"
   ],
   "outputs": [
    {
     "output_type": "execute_result",
     "data": {
      "text/plain": [
       "27"
      ]
     },
     "metadata": {},
     "execution_count": 115
    }
   ],
   "metadata": {}
  },
  {
   "cell_type": "markdown",
   "source": [
    "You can change its element as follows"
   ],
   "metadata": {}
  },
  {
   "cell_type": "code",
   "execution_count": 116,
   "source": [
    "dict_1['age'] = 25\r\n",
    "dict_1"
   ],
   "outputs": [
    {
     "output_type": "execute_result",
     "data": {
      "text/plain": [
       "{'name': 'Mono', 'age': 25}"
      ]
     },
     "metadata": {},
     "execution_count": 116
    }
   ],
   "metadata": {}
  },
  {
   "cell_type": "markdown",
   "source": [
    "The dictionary type can be written in list as follows"
   ],
   "metadata": {}
  },
  {
   "cell_type": "code",
   "execution_count": 117,
   "source": [
    "dict_2 = [{'name':'Mono','age':27},{'name':'Jack','age':29}]"
   ],
   "outputs": [],
   "metadata": {}
  },
  {
   "cell_type": "code",
   "execution_count": 118,
   "source": [
    "dict_2[0].keys()"
   ],
   "outputs": [
    {
     "output_type": "execute_result",
     "data": {
      "text/plain": [
       "dict_keys(['name', 'age'])"
      ]
     },
     "metadata": {},
     "execution_count": 118
    }
   ],
   "metadata": {
    "scrolled": true
   }
  },
  {
   "cell_type": "code",
   "execution_count": 119,
   "source": [
    "dict_2[0].values()"
   ],
   "outputs": [
    {
     "output_type": "execute_result",
     "data": {
      "text/plain": [
       "dict_values(['Mono', 27])"
      ]
     },
     "metadata": {},
     "execution_count": 119
    }
   ],
   "metadata": {}
  },
  {
   "cell_type": "markdown",
   "source": [
    "**_NOTE: All type of data can be combined in the same list/array_**"
   ],
   "metadata": {}
  },
  {
   "cell_type": "code",
   "execution_count": 120,
   "source": [
    "combined_data = [1.5, 8, 'abc', 3+2j, {'Number':2}]\r\n",
    "combined_data"
   ],
   "outputs": [
    {
     "output_type": "execute_result",
     "data": {
      "text/plain": [
       "[1.5, 8, 'abc', (3+2j), {'Number': 2}]"
      ]
     },
     "metadata": {},
     "execution_count": 120
    }
   ],
   "metadata": {}
  },
  {
   "cell_type": "markdown",
   "source": [
    "#### 4.2 Looping/Iteration"
   ],
   "metadata": {}
  },
  {
   "cell_type": "markdown",
   "source": [
    "In algorihtm, looping or iteration is very important. It will help us to solve many repetition calculation if we have a hundred or maybe more data. The looping method in Python can be written in `for` form\n",
    "\n",
    "```\n",
    "for i in range(numbr of repetition):\n",
    "    statements here\n",
    "```\n",
    "\n",
    "For instance, we use `combined_data` variable to apply the looping process. As we know, the `combined_data` has 4 length of data. So, we can print for each data by using looping as follows"
   ],
   "metadata": {}
  },
  {
   "cell_type": "code",
   "execution_count": 121,
   "source": [
    "n = len(combined_data)\r\n",
    "\r\n",
    "for i in range(n):\r\n",
    "    print(combined_data[i])    "
   ],
   "outputs": [
    {
     "output_type": "stream",
     "name": "stdout",
     "text": [
      "1.5\n",
      "8\n",
      "abc\n",
      "(3+2j)\n",
      "{'Number': 2}\n"
     ]
    }
   ],
   "metadata": {}
  },
  {
   "cell_type": "markdown",
   "source": [
    "Another looping method in Python can be written in `while` form as follows\n",
    "\n",
    "```\n",
    "    while (A condition B):\n",
    "        statements here\n",
    "```\n",
    "\n",
    "where the condition can be used one of:\n",
    "\n",
    "    1. > (greater than)\n",
    "    2. < (less than)\n",
    "    3. == (equal to)\n",
    "    4. >= (greater than and equal to)\n",
    "    5. <= (less than and equal to)\n",
    "    6. != (not equal to)\n",
    "\n",
    "for instance"
   ],
   "metadata": {}
  },
  {
   "cell_type": "code",
   "execution_count": 122,
   "source": [
    "j = 0\r\n",
    "while (j < n):\r\n",
    "    print(combined_data[j])\r\n",
    "    j = j + 1"
   ],
   "outputs": [
    {
     "output_type": "stream",
     "name": "stdout",
     "text": [
      "1.5\n",
      "8\n",
      "abc\n",
      "(3+2j)\n",
      "{'Number': 2}\n"
     ]
    }
   ],
   "metadata": {}
  },
  {
   "cell_type": "markdown",
   "source": [
    "The difference between `for` and `while` are, the `while` method has to be configured initial of index number (e.g. j = 0), whereas the `for` method is not to be. Then, the each index number of `j` has to be updated to the next index number through `j = j + 1`."
   ],
   "metadata": {}
  },
  {
   "cell_type": "markdown",
   "source": [
    "#### 4.3 Conditional Satement/Logical Statement"
   ],
   "metadata": {}
  },
  {
   "cell_type": "markdown",
   "source": [
    "The conditional statement is the statement that has been fulfilled based on its condition options and just one condition as a result. The condition options are:\n",
    "\n",
    "    1. > (greater than)\n",
    "    2. < (less than)\n",
    "    3. == (equal to)\n",
    "    4. >= (greater than and equal to)\n",
    "    5. <= (less than and equal to)\n",
    "    6. != (not equal to)\n",
    "    \n",
    "\n",
    "The conditional statement form in Python is\n",
    "\n",
    "```\n",
    "if (var1 [condition] var2):\n",
    "    True statement\n",
    "else:\n",
    "    False statement\n",
    "```\n",
    "    \n",
    "For instance, given variable of V1 = 5 and V2 = 10. Then we use the condition of `>` and the conditional statement can be written in Python as follows\n",
    "\n",
    "```\n",
    "if (V1 > V2):\n",
    "    print('Statement 1: V1 is greater than V2')\n",
    "else:\n",
    "    print('Statement 2: V1 is less than V2')\n",
    "```"
   ],
   "metadata": {}
  },
  {
   "cell_type": "code",
   "execution_count": 123,
   "source": [
    "V1 = 5\r\n",
    "V2 = 10\r\n",
    "\r\n",
    "if (V1 > V2):\r\n",
    "    print('Satement 1: V1 is greater than V2')\r\n",
    "else:\r\n",
    "    print('Statement 2: V1 is less than V2')"
   ],
   "outputs": [
    {
     "output_type": "stream",
     "name": "stdout",
     "text": [
      "Statement 2: V1 is less than V2\n"
     ]
    }
   ],
   "metadata": {}
  },
  {
   "cell_type": "markdown",
   "source": [
    "If we have more statements and conditions, we have to add the connection (`and` or `or`) in between. For instance, We add a new variable of V3 = 3 from the previous example"
   ],
   "metadata": {}
  },
  {
   "cell_type": "code",
   "execution_count": 124,
   "source": [
    "V3 = 3\r\n",
    "\r\n",
    "if ((V1 > V2) and (V1 < V3)):\r\n",
    "    print('Statement 1: The V1 is out of range V2 and V3')\r\n",
    "else:\r\n",
    "    print('Statement 2: The V1 is in of range V2 and V3')"
   ],
   "outputs": [
    {
     "output_type": "stream",
     "name": "stdout",
     "text": [
      "Statement 2: The V1 is in of range V2 and V3\n"
     ]
    }
   ],
   "metadata": {}
  },
  {
   "cell_type": "markdown",
   "source": [
    "If the two statements are connected with `and` or `or`, there is certain result for each pair statement as follows\n",
    "\n",
    "![tf_table](tf_table.jpg)"
   ],
   "metadata": {}
  },
  {
   "cell_type": "markdown",
   "source": [
    "where the `(V1 > V2)` is the first statement and we can note this as A, the `(V1 < V3)` is the second statement and we can note this as B. Let's take a look for each statement as follows"
   ],
   "metadata": {}
  },
  {
   "cell_type": "code",
   "execution_count": 125,
   "source": [
    "A = V1 > V2\r\n",
    "A"
   ],
   "outputs": [
    {
     "output_type": "execute_result",
     "data": {
      "text/plain": [
       "False"
      ]
     },
     "metadata": {},
     "execution_count": 125
    }
   ],
   "metadata": {}
  },
  {
   "cell_type": "code",
   "execution_count": 126,
   "source": [
    "B = V1 < V3\r\n",
    "B"
   ],
   "outputs": [
    {
     "output_type": "execute_result",
     "data": {
      "text/plain": [
       "False"
      ]
     },
     "metadata": {},
     "execution_count": 126
    }
   ],
   "metadata": {}
  },
  {
   "cell_type": "markdown",
   "source": [
    "Because the statement results of A is False and B is False either, then the result of conditional both statements with `and` connection is False (see Table above), therefore the result is in False statement."
   ],
   "metadata": {}
  },
  {
   "cell_type": "markdown",
   "source": [
    "#### 4.4 Function\n",
    "\n",
    "Function is a method to call a certain algortihm and it can be used in any time by calling a function name. The function form in Python can be written as follows\n",
    "\n",
    "```\n",
    "def function_name(input):\n",
    "    ...algorithm here...\n",
    "    return output\n",
    "```\n",
    "\n",
    "input and output can more than one variables. Previous sub-chapter, you have known that how the basic mathematics operation works does in Python. You can create a simple function to calculate a simple mathematics operation. Let say, the function name that will be created is `summation`."
   ],
   "metadata": {}
  },
  {
   "cell_type": "code",
   "execution_count": 127,
   "source": [
    "def summation(a,b):\r\n",
    "    return a+b"
   ],
   "outputs": [],
   "metadata": {}
  },
  {
   "cell_type": "markdown",
   "source": [
    "to call the function `summation`"
   ],
   "metadata": {}
  },
  {
   "cell_type": "code",
   "execution_count": 128,
   "source": [
    "c = summation(7,3)\r\n",
    "c"
   ],
   "outputs": [
    {
     "output_type": "execute_result",
     "data": {
      "text/plain": [
       "10"
      ]
     },
     "metadata": {},
     "execution_count": 128
    }
   ],
   "metadata": {}
  },
  {
   "cell_type": "markdown",
   "source": [
    "A lot of cases, the Function method above is implemented to complex algorithm. When you create a simple function, Python provides another method option that is called `lambda`. "
   ],
   "metadata": {}
  },
  {
   "cell_type": "code",
   "execution_count": 129,
   "source": [
    "c = lambda a,b: a+b\r\n",
    "c(7,3)"
   ],
   "outputs": [
    {
     "output_type": "execute_result",
     "data": {
      "text/plain": [
       "10"
      ]
     },
     "metadata": {},
     "execution_count": 129
    }
   ],
   "metadata": {}
  },
  {
   "cell_type": "code",
   "execution_count": 130,
   "source": [
    "sqr = lambda x: x**2"
   ],
   "outputs": [],
   "metadata": {}
  },
  {
   "cell_type": "code",
   "execution_count": 131,
   "source": [
    "sqr(4)"
   ],
   "outputs": [
    {
     "output_type": "execute_result",
     "data": {
      "text/plain": [
       "16"
      ]
     },
     "metadata": {},
     "execution_count": 131
    }
   ],
   "metadata": {}
  }
 ],
 "metadata": {
  "kernelspec": {
   "name": "python3",
   "display_name": "Python 3.8.7 64-bit"
  },
  "language_info": {
   "codemirror_mode": {
    "name": "ipython",
    "version": 3
   },
   "file_extension": ".py",
   "mimetype": "text/x-python",
   "name": "python",
   "nbconvert_exporter": "python",
   "pygments_lexer": "ipython3",
   "version": "3.8.7"
  },
  "interpreter": {
   "hash": "e69d00bb00a3c57c68d32a779445829bd31553aaa0c5d1d90f5fdd3563894b91"
  }
 },
 "nbformat": 4,
 "nbformat_minor": 5
}