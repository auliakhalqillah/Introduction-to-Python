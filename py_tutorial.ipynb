{
 "cells": [
  {
   "cell_type": "markdown",
   "id": "667d6093",
   "metadata": {},
   "source": [
    "# Tutorial Python 3\n",
    "\n",
    "Written by: Aulia Khalqillah, S.Si., M.Si"
   ]
  },
  {
   "cell_type": "markdown",
   "id": "4beecac5",
   "metadata": {},
   "source": [
    "## Table of Contents\n",
    "\n",
    "[Working With Libraries](#Working-With-Libraries)\n",
    "\n",
    "- [1. Numpy](#1.-Numpy)\n",
    "    * [Generate Array](#Generate-Array)\n",
    "    * [Array Index](#Array-Index)\n",
    "    * [Generate Random Array](#Generate-Random-Array)\n",
    "    * [Modification an Array](#Modification-an-Array)\n",
    "    * [Slice an Array](#Slice-an-Array)\n",
    "    * [Basic Mathematical Operation](#Basic-Mathematical-Operation)"
   ]
  },
  {
   "cell_type": "markdown",
   "id": "4176087e",
   "metadata": {},
   "source": [
    "## Working With Libraries\n",
    "### 1. Numpy\n",
    "Import a numpy library by type the following command"
   ]
  },
  {
   "cell_type": "code",
   "execution_count": 2,
   "id": "9e4e9bcc",
   "metadata": {},
   "outputs": [],
   "source": [
    "import numpy as np"
   ]
  },
  {
   "cell_type": "markdown",
   "id": "746a387e",
   "metadata": {},
   "source": [
    "The `np` in command above is the alias of numpy library that I write. This alias can be modified with any alias name. So, we just type `np.(method)` to call a method from numpy library. "
   ]
  },
  {
   "cell_type": "markdown",
   "id": "d24814d8",
   "metadata": {},
   "source": [
    "#### Generate Array\n",
    "\n",
    "I'm going to create an array by using two method that are `arange` method and `linspace` method.\n",
    "\n",
    "##### a. arange\n",
    "\n",
    "The format of `np.arange` is `np.arange(start, stop, step)`. For example, I generate an array without using `step` and the result will be asign to `arr` variable as follows"
   ]
  },
  {
   "cell_type": "code",
   "execution_count": 3,
   "id": "ec1a3471",
   "metadata": {},
   "outputs": [
    {
     "data": {
      "text/plain": [
       "array([0, 1, 2, 3, 4, 5, 6, 7, 8, 9])"
      ]
     },
     "execution_count": 3,
     "metadata": {},
     "output_type": "execute_result"
    }
   ],
   "source": [
    "arr = np.arange(0,10)\n",
    "arr"
   ]
  },
  {
   "cell_type": "markdown",
   "id": "4871a6d6",
   "metadata": {},
   "source": [
    "with `step` where the value is 2 and I assign the result to `arr_step` variable"
   ]
  },
  {
   "cell_type": "code",
   "execution_count": 4,
   "id": "f2a78d7e",
   "metadata": {},
   "outputs": [
    {
     "data": {
      "text/plain": [
       "array([0, 2, 4, 6, 8])"
      ]
     },
     "execution_count": 4,
     "metadata": {},
     "output_type": "execute_result"
    }
   ],
   "source": [
    "arr_step = np.arange(0,10,2)\n",
    "arr_step"
   ]
  },
  {
   "cell_type": "markdown",
   "id": "175dcf84",
   "metadata": {},
   "source": [
    "the result is even array."
   ]
  },
  {
   "cell_type": "markdown",
   "id": "3a96e01c",
   "metadata": {},
   "source": [
    "##### b. linspace\n",
    "\n",
    "Now, I'm going to generate an array by using `linspace` method. The format of `np.linspace` is `np.linspace(start,stop,length of data)`. First, I generate an array without input a length of data and I assign the result to `arr_linspace` variable as follows"
   ]
  },
  {
   "cell_type": "code",
   "execution_count": 5,
   "id": "eb22d9f5",
   "metadata": {},
   "outputs": [
    {
     "data": {
      "text/plain": [
       "array([0.        , 0.01020408, 0.02040816, 0.03061224, 0.04081633,\n",
       "       0.05102041, 0.06122449, 0.07142857, 0.08163265, 0.09183673,\n",
       "       0.10204082, 0.1122449 , 0.12244898, 0.13265306, 0.14285714,\n",
       "       0.15306122, 0.16326531, 0.17346939, 0.18367347, 0.19387755,\n",
       "       0.20408163, 0.21428571, 0.2244898 , 0.23469388, 0.24489796,\n",
       "       0.25510204, 0.26530612, 0.2755102 , 0.28571429, 0.29591837,\n",
       "       0.30612245, 0.31632653, 0.32653061, 0.33673469, 0.34693878,\n",
       "       0.35714286, 0.36734694, 0.37755102, 0.3877551 , 0.39795918,\n",
       "       0.40816327, 0.41836735, 0.42857143, 0.43877551, 0.44897959,\n",
       "       0.45918367, 0.46938776, 0.47959184, 0.48979592, 0.5       ])"
      ]
     },
     "execution_count": 5,
     "metadata": {},
     "output_type": "execute_result"
    }
   ],
   "source": [
    "arr_linspace = np.linspace(0,0.5)\n",
    "arr_linspace"
   ]
  },
  {
   "cell_type": "code",
   "execution_count": 6,
   "id": "c970aee7",
   "metadata": {},
   "outputs": [
    {
     "data": {
      "text/plain": [
       "50"
      ]
     },
     "execution_count": 6,
     "metadata": {},
     "output_type": "execute_result"
    }
   ],
   "source": [
    "len(arr_linspace)"
   ]
  },
  {
   "cell_type": "markdown",
   "id": "25b30007",
   "metadata": {},
   "source": [
    "as we can see, the array has been generated start from 0 to 0.5 in 50 length of data as default configuration. Next, I generate an array with input a length of data e.g. 70 values and I assign the result to `arr_linspace_length` variable as follows"
   ]
  },
  {
   "cell_type": "code",
   "execution_count": 7,
   "id": "c0844422",
   "metadata": {},
   "outputs": [
    {
     "data": {
      "text/plain": [
       "array([0.        , 0.00724638, 0.01449275, 0.02173913, 0.02898551,\n",
       "       0.03623188, 0.04347826, 0.05072464, 0.05797101, 0.06521739,\n",
       "       0.07246377, 0.07971014, 0.08695652, 0.0942029 , 0.10144928,\n",
       "       0.10869565, 0.11594203, 0.12318841, 0.13043478, 0.13768116,\n",
       "       0.14492754, 0.15217391, 0.15942029, 0.16666667, 0.17391304,\n",
       "       0.18115942, 0.1884058 , 0.19565217, 0.20289855, 0.21014493,\n",
       "       0.2173913 , 0.22463768, 0.23188406, 0.23913043, 0.24637681,\n",
       "       0.25362319, 0.26086957, 0.26811594, 0.27536232, 0.2826087 ,\n",
       "       0.28985507, 0.29710145, 0.30434783, 0.3115942 , 0.31884058,\n",
       "       0.32608696, 0.33333333, 0.34057971, 0.34782609, 0.35507246,\n",
       "       0.36231884, 0.36956522, 0.37681159, 0.38405797, 0.39130435,\n",
       "       0.39855072, 0.4057971 , 0.41304348, 0.42028986, 0.42753623,\n",
       "       0.43478261, 0.44202899, 0.44927536, 0.45652174, 0.46376812,\n",
       "       0.47101449, 0.47826087, 0.48550725, 0.49275362, 0.5       ])"
      ]
     },
     "execution_count": 7,
     "metadata": {},
     "output_type": "execute_result"
    }
   ],
   "source": [
    "arr_linspace_length = np.linspace(0,0.5,70)\n",
    "arr_linspace_length"
   ]
  },
  {
   "cell_type": "markdown",
   "id": "a308c206",
   "metadata": {},
   "source": [
    "to check the length of data, you can type the `len(variable name)` function as follows"
   ]
  },
  {
   "cell_type": "markdown",
   "id": "f1b994e4",
   "metadata": {},
   "source": [
    "#### Array Index\n",
    "\n",
    "We already have generate an array as previous methods. Now, if we want to access a specific value in the array, we have to identify its index number. In Python, the first index number is started from 0, the second index is 1 and so on. For example, we use a variable of `arr_linspace_length` to get a specific value from the second index which is 1. By typing the following command where the index number is written inside a bracket."
   ]
  },
  {
   "cell_type": "code",
   "execution_count": 8,
   "id": "4cbe427e",
   "metadata": {},
   "outputs": [
    {
     "data": {
      "text/plain": [
       "0.007246376811594203"
      ]
     },
     "execution_count": 8,
     "metadata": {},
     "output_type": "execute_result"
    }
   ],
   "source": [
    "arr_linspace_length[1]"
   ]
  },
  {
   "cell_type": "markdown",
   "id": "b18642c9",
   "metadata": {},
   "source": [
    "_**Remember, in Python, the first index is started from 0**_. \n",
    "\n",
    "We can take the last value from `arr_linspace_length` variable as follows command"
   ]
  },
  {
   "cell_type": "code",
   "execution_count": 9,
   "id": "78e6addc",
   "metadata": {},
   "outputs": [
    {
     "data": {
      "text/plain": [
       "0.5"
      ]
     },
     "execution_count": 9,
     "metadata": {},
     "output_type": "execute_result"
    }
   ],
   "source": [
    "arr_linspace_length[69]"
   ]
  },
  {
   "cell_type": "markdown",
   "id": "89838630",
   "metadata": {},
   "source": [
    "where the 69 is the last index of this array. For the simplicity, the last index number is `the length of data - 1`. If we want to take a value from index number of 10, we can type"
   ]
  },
  {
   "cell_type": "code",
   "execution_count": 10,
   "id": "85c187e6",
   "metadata": {},
   "outputs": [
    {
     "data": {
      "text/plain": [
       "0.07246376811594203"
      ]
     },
     "execution_count": 10,
     "metadata": {},
     "output_type": "execute_result"
    }
   ],
   "source": [
    "arr_linspace_length[10]"
   ]
  },
  {
   "cell_type": "markdown",
   "id": "af42f310",
   "metadata": {},
   "source": [
    "#### Generate Random Array\n",
    "\n",
    "##### 1. One Dimensional Array\n",
    "\n",
    "Numpy has a random method to generate a random array values. The format to call this method is `np.random.(method)(length of data)`. Generally, there are three methods in random class, `rand`, `randn`, and `randint`. \n",
    "\n",
    "1. `rand(row,col)`    : generate a standard random array.\n",
    "2. `randn(row,col)`   : generate a random array based on normal distribution.\n",
    "3. `randint(low, high=None, size=None)` : generate a single integer random number as default."
   ]
  },
  {
   "cell_type": "code",
   "execution_count": 11,
   "id": "291c244a",
   "metadata": {},
   "outputs": [
    {
     "data": {
      "text/plain": [
       "array([0.23296407, 0.61078641, 0.69628091, 0.27688235, 0.10497399])"
      ]
     },
     "execution_count": 11,
     "metadata": {},
     "output_type": "execute_result"
    }
   ],
   "source": [
    "arr_random = np.random.rand(5)\n",
    "arr_random"
   ]
  },
  {
   "cell_type": "code",
   "execution_count": 12,
   "id": "a1959e05",
   "metadata": {},
   "outputs": [
    {
     "data": {
      "text/plain": [
       "array([-0.00871528, -0.51242791,  1.11659062, -0.27380606,  0.0349029 ])"
      ]
     },
     "execution_count": 12,
     "metadata": {},
     "output_type": "execute_result"
    }
   ],
   "source": [
    "arr_randn = np.random.randn(5)\n",
    "arr_randn"
   ]
  },
  {
   "cell_type": "code",
   "execution_count": 29,
   "id": "cb0b1999",
   "metadata": {},
   "outputs": [
    {
     "data": {
      "text/plain": [
       "array([4, 4, 3, 4, 4, 4, 4, 2, 3, 3])"
      ]
     },
     "execution_count": 29,
     "metadata": {},
     "output_type": "execute_result"
    }
   ],
   "source": [
    "arr_randint = np.random.randint(2,5,size=10)\n",
    "arr_randint"
   ]
  },
  {
   "cell_type": "markdown",
   "id": "97d5f77a",
   "metadata": {},
   "source": [
    "##### 2. Two Dimensional Array\n",
    "\n",
    "We have done to generate a 1D array. Next, we generate a 2D array by using numpy library. To do this, we apply an `array` method as the following command."
   ]
  },
  {
   "cell_type": "code",
   "execution_count": 47,
   "id": "2ed8335b",
   "metadata": {},
   "outputs": [
    {
     "data": {
      "text/plain": [
       "array([[ 1,  2,  3,  4,  5],\n",
       "       [ 6,  7,  8,  9, 10]])"
      ]
     },
     "execution_count": 47,
     "metadata": {},
     "output_type": "execute_result"
    }
   ],
   "source": [
    "arr_2d = np.array([[1,2,3,4,5],[6,7,8,9,10]])\n",
    "arr_2d"
   ]
  },
  {
   "cell_type": "markdown",
   "id": "003532bc",
   "metadata": {},
   "source": [
    "Now, we have 2D array that means we have 2 rows and 5 columns. By using array method, we have to set the element of array manually as above command. We can use a `random.rand()` or `random.randn()` method to generate a 2D array. "
   ]
  },
  {
   "cell_type": "code",
   "execution_count": 60,
   "id": "25c0569e",
   "metadata": {},
   "outputs": [
    {
     "data": {
      "text/plain": [
       "array([[0.36795572, 0.51059874, 0.20548504, 0.53970193, 0.86993833],\n",
       "       [0.03424501, 0.80409979, 0.53929206, 0.9213842 , 0.03423215],\n",
       "       [0.84005594, 0.00954885, 0.77376995, 0.35108692, 0.68051205],\n",
       "       [0.35149807, 0.72377094, 0.96321797, 0.12156189, 0.75127439],\n",
       "       [0.70455978, 0.63599347, 0.93538269, 0.5299932 , 0.37429075]])"
      ]
     },
     "execution_count": 60,
     "metadata": {},
     "output_type": "execute_result"
    }
   ],
   "source": [
    "arr_2d_random = np.random.rand(5,5)\n",
    "arr_2d_random"
   ]
  },
  {
   "cell_type": "markdown",
   "id": "4729ae46",
   "metadata": {},
   "source": [
    "#### Modification an Array\n",
    "\n",
    "##### Change element of 1D array\n",
    "An element in an array can be modified or changed to another value. For example, we use `arr_random` variable that has been created previously."
   ]
  },
  {
   "cell_type": "code",
   "execution_count": 16,
   "id": "f14a25a0",
   "metadata": {},
   "outputs": [
    {
     "data": {
      "text/plain": [
       "array([0.23296407, 0.61078641, 0.69628091, 0.27688235, 0.10497399])"
      ]
     },
     "execution_count": 16,
     "metadata": {},
     "output_type": "execute_result"
    }
   ],
   "source": [
    "arr_random"
   ]
  },
  {
   "cell_type": "markdown",
   "id": "2a930517",
   "metadata": {},
   "source": [
    "We take a value which in the third index or equal to index number of 2 as follows"
   ]
  },
  {
   "cell_type": "code",
   "execution_count": 18,
   "id": "1f0bba60",
   "metadata": {},
   "outputs": [
    {
     "data": {
      "text/plain": [
       "0.6962809094875644"
      ]
     },
     "execution_count": 18,
     "metadata": {},
     "output_type": "execute_result"
    }
   ],
   "source": [
    "arr_random[2]"
   ]
  },
  {
   "cell_type": "markdown",
   "id": "3a1df78b",
   "metadata": {},
   "source": [
    "and to change this value (e.g. 100), we can write the following command"
   ]
  },
  {
   "cell_type": "code",
   "execution_count": 19,
   "id": "309fe9cb",
   "metadata": {},
   "outputs": [
    {
     "data": {
      "text/plain": [
       "array([  0.23296407,   0.61078641, 100.        ,   0.27688235,\n",
       "         0.10497399])"
      ]
     },
     "execution_count": 19,
     "metadata": {},
     "output_type": "execute_result"
    }
   ],
   "source": [
    "arr_random[2] = 100\n",
    "arr_random"
   ]
  },
  {
   "cell_type": "markdown",
   "id": "59606f3b",
   "metadata": {},
   "source": [
    "and now, the value has been changed.\n",
    "\n",
    "##### Change element of 2D array\n",
    "\n",
    "We have generated a 2D array that assign to `arr_2d` and `arr_2d_random` variables. To show an element of 2D array, we use the format `variable[row index][column index]`. Let's use the `arr_2d` variable for example."
   ]
  },
  {
   "cell_type": "code",
   "execution_count": 62,
   "id": "2c6f748d",
   "metadata": {},
   "outputs": [
    {
     "data": {
      "text/plain": [
       "array([[ 1,  2,  3,  4,  5],\n",
       "       [ 6,  7,  8,  9, 10]])"
      ]
     },
     "execution_count": 62,
     "metadata": {},
     "output_type": "execute_result"
    }
   ],
   "source": [
    "arr_2d"
   ]
  },
  {
   "cell_type": "markdown",
   "id": "e4c0a89d",
   "metadata": {},
   "source": [
    "We want to take a value of 4 from the `arr_2d` variable. The value of 4 is in the first row (index of 0) and the forth column (index of 3). Then, we get this value and assign to `value` variable by using command bellow"
   ]
  },
  {
   "cell_type": "code",
   "execution_count": 65,
   "id": "8f69a45a",
   "metadata": {},
   "outputs": [
    {
     "data": {
      "text/plain": [
       "4"
      ]
     },
     "execution_count": 65,
     "metadata": {},
     "output_type": "execute_result"
    }
   ],
   "source": [
    "value = arr_2d[0][3]\n",
    "value"
   ]
  },
  {
   "cell_type": "markdown",
   "id": "45a12719",
   "metadata": {},
   "source": [
    "To change this element just type"
   ]
  },
  {
   "cell_type": "code",
   "execution_count": 67,
   "id": "2519ec7c",
   "metadata": {},
   "outputs": [
    {
     "data": {
      "text/plain": [
       "array([[ 1,  2,  3, 10,  5],\n",
       "       [ 6,  7,  8,  9, 10]])"
      ]
     },
     "execution_count": 67,
     "metadata": {},
     "output_type": "execute_result"
    }
   ],
   "source": [
    "arr_2d[0][3] = 10\n",
    "arr_2d"
   ]
  },
  {
   "cell_type": "markdown",
   "id": "bf720107",
   "metadata": {},
   "source": [
    "the value of 4 has been changed become 10."
   ]
  },
  {
   "cell_type": "markdown",
   "id": "25d9bd77",
   "metadata": {},
   "source": [
    "#### Slice an Array\n",
    "\n",
    "##### 1. 1D Array\n",
    "\n",
    "We can slice a few element of an array based on its index. We use \n",
    "\n",
    "1. `variable[:index number]` to slice all values in array from first index to index number (the index number is not include in the result),\n",
    "2. `variable[index number:]` to slice all values in array an array from index number to end of index and\n",
    "3. `variable[start index number: stop index number]` to slice an array in between index number (the stop index number is not include in the result)\n",
    "\n",
    "Let's try to `arr_random` variable to apply this slice methods."
   ]
  },
  {
   "cell_type": "code",
   "execution_count": 26,
   "id": "58b9f205",
   "metadata": {},
   "outputs": [
    {
     "data": {
      "text/plain": [
       "array([  0.23296407,   0.61078641, 100.        ])"
      ]
     },
     "execution_count": 26,
     "metadata": {},
     "output_type": "execute_result"
    }
   ],
   "source": [
    "arr_slice_first = arr_random[:3]\n",
    "arr_slice_first"
   ]
  },
  {
   "cell_type": "code",
   "execution_count": 27,
   "id": "051812ee",
   "metadata": {},
   "outputs": [
    {
     "data": {
      "text/plain": [
       "array([0.27688235, 0.10497399])"
      ]
     },
     "execution_count": 27,
     "metadata": {},
     "output_type": "execute_result"
    }
   ],
   "source": [
    "arr_slice_end = arr_random[3:]\n",
    "arr_slice_end"
   ]
  },
  {
   "cell_type": "code",
   "execution_count": 28,
   "id": "325b5f05",
   "metadata": {},
   "outputs": [
    {
     "data": {
      "text/plain": [
       "array([100.        ,   0.27688235])"
      ]
     },
     "execution_count": 28,
     "metadata": {},
     "output_type": "execute_result"
    }
   ],
   "source": [
    "arr_slice_between = arr_random[2:4]\n",
    "arr_slice_between"
   ]
  },
  {
   "cell_type": "markdown",
   "id": "d565243f",
   "metadata": {},
   "source": [
    "##### 2. 2D Array\n",
    "\n",
    "We are going further to slice 2D array from `arr_2d` variable and get a sub array from it."
   ]
  },
  {
   "cell_type": "code",
   "execution_count": 105,
   "id": "facdc2d9",
   "metadata": {},
   "outputs": [
    {
     "data": {
      "text/plain": [
       "array([[ 1,  2,  3, 10,  5],\n",
       "       [ 6,  7,  8,  9, 10]])"
      ]
     },
     "execution_count": 105,
     "metadata": {},
     "output_type": "execute_result"
    }
   ],
   "source": [
    "arr_2d"
   ]
  },
  {
   "cell_type": "markdown",
   "id": "c27db035",
   "metadata": {},
   "source": [
    "We want to get the element of 2D array of 1, 2, 6 and 7 where:\n",
    "    \n",
    "    - the value of 1 is in the first row (index of 0) and the first column (index of 0),\n",
    "    - the value of 2 is in the first row (index of 0) and the second column (index of 1),\n",
    "    - the value of 6 is in the second row (index of 1) and the first column (index of 0),\n",
    "    - the value of 7 is in the second row (index of 1) and the second column (index of 1).\n",
    "  \n",
    " Then we can assign these values to `arr_2d_new` as follows"
   ]
  },
  {
   "cell_type": "code",
   "execution_count": 104,
   "id": "1dc2e6bf",
   "metadata": {},
   "outputs": [
    {
     "data": {
      "text/plain": [
       "array([[1, 2],\n",
       "       [6, 7]])"
      ]
     },
     "execution_count": 104,
     "metadata": {},
     "output_type": "execute_result"
    }
   ],
   "source": [
    "arr_2d_new = arr_2d[0:2,0:2]\n",
    "arr_2d_new"
   ]
  },
  {
   "cell_type": "markdown",
   "id": "63b3e534",
   "metadata": {},
   "source": [
    "_Remember that, to get the last value of each dimensional (e.g. 2 and 7 these values are in the second index of column which is index of 1 in Python order. So, the index number that you have to write to slice it is 1+1=2)_"
   ]
  },
  {
   "cell_type": "markdown",
   "id": "56584181",
   "metadata": {},
   "source": [
    "#### Basic Mathematical Operation\n",
    "\n",
    "We can apply basic mathematical operation in array, such as summation, subtraction, multiplication and division. In Python, array can be calculated directly with another array or value. For example, we use `arr_randint` variable that has been created previous [sub-chapter](#1.-One-Dimensional-Array)."
   ]
  },
  {
   "cell_type": "code",
   "execution_count": 109,
   "id": "e02c0dbe",
   "metadata": {},
   "outputs": [
    {
     "data": {
      "text/plain": [
       "array([4, 4, 3, 4, 4, 4, 4, 2, 3, 3])"
      ]
     },
     "execution_count": 109,
     "metadata": {},
     "output_type": "execute_result"
    }
   ],
   "source": [
    "arr_randint"
   ]
  },
  {
   "cell_type": "markdown",
   "id": "81412c20",
   "metadata": {},
   "source": [
    "Then, we create a new array that has same size with `arr_randint` which is 10."
   ]
  },
  {
   "cell_type": "code",
   "execution_count": 112,
   "id": "a1b3db52",
   "metadata": {},
   "outputs": [
    {
     "data": {
      "text/plain": [
       "array([6, 4, 9, 2, 4, 9, 6, 5, 5, 6])"
      ]
     },
     "execution_count": 112,
     "metadata": {},
     "output_type": "execute_result"
    }
   ],
   "source": [
    "arr_new = np.random.randint(1,10,size=10)\n",
    "arr_new"
   ]
  },
  {
   "cell_type": "markdown",
   "id": "2cc05660",
   "metadata": {},
   "source": [
    "**Summation and Subtraction**\n",
    "\n",
    "To add these two arrays, we can apply a simple way"
   ]
  },
  {
   "cell_type": "code",
   "execution_count": 113,
   "id": "a723850d",
   "metadata": {},
   "outputs": [
    {
     "data": {
      "text/plain": [
       "array([10,  8, 12,  6,  8, 13, 10,  7,  8,  9])"
      ]
     },
     "execution_count": 113,
     "metadata": {},
     "output_type": "execute_result"
    }
   ],
   "source": [
    "arr_addition = arr_randint + arr_new\n",
    "arr_addition"
   ]
  },
  {
   "cell_type": "markdown",
   "id": "899f57b1",
   "metadata": {},
   "source": [
    "and to suctraction"
   ]
  },
  {
   "cell_type": "code",
   "execution_count": 114,
   "id": "5e02451e",
   "metadata": {},
   "outputs": [
    {
     "data": {
      "text/plain": [
       "array([-2,  0, -6,  2,  0, -5, -2, -3, -2, -3])"
      ]
     },
     "execution_count": 114,
     "metadata": {},
     "output_type": "execute_result"
    }
   ],
   "source": [
    "arr_subtraction = arr_randint - arr_new\n",
    "arr_subtraction"
   ]
  },
  {
   "cell_type": "markdown",
   "id": "3a97306b",
   "metadata": {},
   "source": [
    "Then, we add the `arr_randint` with a value = 5"
   ]
  },
  {
   "cell_type": "code",
   "execution_count": 116,
   "id": "f46b15b5",
   "metadata": {},
   "outputs": [],
   "source": [
    "value = 5"
   ]
  },
  {
   "cell_type": "code",
   "execution_count": 117,
   "id": "d0ab92fd",
   "metadata": {},
   "outputs": [
    {
     "data": {
      "text/plain": [
       "array([9, 9, 8, 9, 9, 9, 9, 7, 8, 8])"
      ]
     },
     "execution_count": 117,
     "metadata": {},
     "output_type": "execute_result"
    }
   ],
   "source": [
    "arr_addition_value = arr_randint + value\n",
    "arr_addition_value"
   ]
  },
  {
   "cell_type": "markdown",
   "id": "ef31ec28",
   "metadata": {},
   "source": [
    "and subtraction"
   ]
  },
  {
   "cell_type": "code",
   "execution_count": 118,
   "id": "367715d1",
   "metadata": {},
   "outputs": [
    {
     "data": {
      "text/plain": [
       "array([-1, -1, -2, -1, -1, -1, -1, -3, -2, -2])"
      ]
     },
     "execution_count": 118,
     "metadata": {},
     "output_type": "execute_result"
    }
   ],
   "source": [
    "arr_subtraction_value = arr_randint - value\n",
    "arr_subtraction_value"
   ]
  },
  {
   "cell_type": "markdown",
   "id": "f5028545",
   "metadata": {},
   "source": [
    "**Multiplication and Division**\n",
    "\n",
    "Next, we apply a multiplication in these two arrays (`arr_randint` and `arr_new`)"
   ]
  },
  {
   "cell_type": "code",
   "execution_count": 120,
   "id": "96f659be",
   "metadata": {},
   "outputs": [
    {
     "data": {
      "text/plain": [
       "array([24, 16, 27,  8, 16, 36, 24, 10, 15, 18])"
      ]
     },
     "execution_count": 120,
     "metadata": {},
     "output_type": "execute_result"
    }
   ],
   "source": [
    "arr_multiplication = arr_randint * arr_new\n",
    "arr_multiplication"
   ]
  },
  {
   "cell_type": "markdown",
   "id": "29d94d92",
   "metadata": {},
   "source": [
    "The multiplication process between two arrays will multiply for each pair element and this process also applies in division process"
   ]
  },
  {
   "cell_type": "code",
   "execution_count": 126,
   "id": "d01cf990",
   "metadata": {},
   "outputs": [
    {
     "data": {
      "text/plain": [
       "array([0.66666667, 1.        , 0.33333333, 2.        , 1.        ,\n",
       "       0.44444444, 0.66666667, 0.4       , 0.6       , 0.5       ])"
      ]
     },
     "execution_count": 126,
     "metadata": {},
     "output_type": "execute_result"
    }
   ],
   "source": [
    "arr_division = arr_randint / arr_new\n",
    "arr_division"
   ]
  },
  {
   "cell_type": "markdown",
   "id": "cfaace70",
   "metadata": {},
   "source": [
    "The multiplication or division of array with a value also can be applied, where"
   ]
  },
  {
   "cell_type": "code",
   "execution_count": 128,
   "id": "4ea3525d",
   "metadata": {},
   "outputs": [
    {
     "data": {
      "text/plain": [
       "5"
      ]
     },
     "execution_count": 128,
     "metadata": {},
     "output_type": "execute_result"
    }
   ],
   "source": [
    "value"
   ]
  },
  {
   "cell_type": "code",
   "execution_count": 127,
   "id": "b27fafe9",
   "metadata": {},
   "outputs": [
    {
     "data": {
      "text/plain": [
       "array([20, 20, 15, 20, 20, 20, 20, 10, 15, 15])"
      ]
     },
     "execution_count": 127,
     "metadata": {},
     "output_type": "execute_result"
    }
   ],
   "source": [
    "arr_multiplication_value = arr_randint * value\n",
    "arr_multiplication_value"
   ]
  },
  {
   "cell_type": "code",
   "execution_count": 129,
   "id": "b6167ebc",
   "metadata": {},
   "outputs": [
    {
     "data": {
      "text/plain": [
       "array([0.8, 0.8, 0.6, 0.8, 0.8, 0.8, 0.8, 0.4, 0.6, 0.6])"
      ]
     },
     "execution_count": 129,
     "metadata": {},
     "output_type": "execute_result"
    }
   ],
   "source": [
    "arr_division_value = arr_randint / value\n",
    "arr_division_value"
   ]
  },
  {
   "cell_type": "code",
   "execution_count": null,
   "id": "050dd770",
   "metadata": {},
   "outputs": [],
   "source": []
  }
 ],
 "metadata": {
  "kernelspec": {
   "display_name": "Python 3",
   "language": "python",
   "name": "python3"
  },
  "language_info": {
   "codemirror_mode": {
    "name": "ipython",
    "version": 3
   },
   "file_extension": ".py",
   "mimetype": "text/x-python",
   "name": "python",
   "nbconvert_exporter": "python",
   "pygments_lexer": "ipython3",
   "version": "3.8.7"
  }
 },
 "nbformat": 4,
 "nbformat_minor": 5
}
