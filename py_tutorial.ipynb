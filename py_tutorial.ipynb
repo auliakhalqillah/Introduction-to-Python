{
  "nbformat": 4,
  "nbformat_minor": 5,
  "metadata": {
    "kernelspec": {
      "display_name": "Python 3",
      "language": "python",
      "name": "python3"
    },
    "language_info": {
      "codemirror_mode": {
        "name": "ipython",
        "version": 3
      },
      "file_extension": ".py",
      "mimetype": "text/x-python",
      "name": "python",
      "nbconvert_exporter": "python",
      "pygments_lexer": "ipython3",
      "version": "3.8.7"
    },
    "colab": {
      "name": "py_tutorial.ipynb",
      "provenance": []
    }
  },
  "cells": [
    {
      "cell_type": "markdown",
      "metadata": {
        "id": "667d6093"
      },
      "source": [
        "<img align=\"left\" width=\"1000\" height=\"250\" src=\"https://www.python.org/static/community_logos/python-logo-inkscape.svg\">"
      ],
      "id": "667d6093"
    },
    {
      "cell_type": "markdown",
      "metadata": {
        "id": "e8fcf7ef"
      },
      "source": [
        "<div align=\"left\">\n",
        "    <h1>Tutorial Python 3</h1>\n",
        "</div>\n",
        "\n",
        "<div align=\"left\">\n",
        "    <h3>Written by: Aulia Khalqillah, S.Si., M.Si</h3>\n",
        "</div>"
      ],
      "id": "e8fcf7ef"
    },
    {
      "cell_type": "markdown",
      "metadata": {
        "id": "4beecac5"
      },
      "source": [
        "## Table of Contents\n",
        "\n",
        "[Working With Libraries](#Working-With-Libraries)\n",
        "\n",
        "- [1. Numpy](#1.-Numpy)\n",
        "    * [Generate Array](#Generate-Array)\n",
        "    * [Array Index](#Array-Index)\n",
        "    * [Generate Random Array](#Generate-Random-Array)\n",
        "        + [1. One Dimensional Array](#1.-One-Dimensional-Array)\n",
        "        + [2. Two Domensional Array](#2.-Two-Dimensional-Array)\n",
        "    * [Modification an Array](#Modification-an-Array)\n",
        "        + [Change Element of 1D Array](#Change-element-of-1D-array)\n",
        "        + [Change Element of 2D Array](#Change-element-of-2D-array)\n",
        "    * [Slice an Array](#Slice-an-Array)\n",
        "        + [1D Array](#1.-1D-Array)\n",
        "        + [2D Array](#2.-2D-Array)\n",
        "    * [Basic Mathematical Operation](#Basic-Mathematical-Operation)\n",
        "    * [More Numpy's Methods](#More-Numpy's-Methods)\n",
        " \n",
        " \n",
        "- [2. Pandas](#2.-Pandas)\n",
        "    * [Read CSV File](#Read-CSV-File)\n",
        "    * [Get an Information File](#Get-an-Information-File)\n",
        "    * [Remove a Certain Data](#Remove-a-Certain-Data)\n",
        "    * [Select Some of Data](#Select-Some-of-Data)\n",
        "    * [Modify an Attribute of Data](#Modify-an-Attribute-of-Data)\n",
        "        + [Rename a Column Name](#Rename-a-Column-Name)\n",
        "        + [Change a String Fromat](#Change-a-String-Format)\n",
        "        + [Time Modification](#Time-Modification)\n",
        "        + [Data Sorting](#Data-Sorting)"
      ],
      "id": "4beecac5"
    },
    {
      "cell_type": "markdown",
      "metadata": {
        "id": "4176087e"
      },
      "source": [
        "## Working With Libraries\n",
        "### 1. Numpy\n",
        "Import a numpy library by type the following command"
      ],
      "id": "4176087e"
    },
    {
      "cell_type": "code",
      "metadata": {
        "scrolled": true,
        "id": "9e4e9bcc"
      },
      "source": [
        "import numpy as np"
      ],
      "id": "9e4e9bcc",
      "execution_count": 1,
      "outputs": []
    },
    {
      "cell_type": "markdown",
      "metadata": {
        "id": "746a387e"
      },
      "source": [
        "The `np` in command above is the alias of numpy library that I write. This alias can be modified with any alias name. So, we just type `np.(method)` to call a method from numpy library. "
      ],
      "id": "746a387e"
    },
    {
      "cell_type": "markdown",
      "metadata": {
        "id": "d24814d8"
      },
      "source": [
        "#### Generate Array\n",
        "\n",
        "I'm going to create an array by using two method that are `arange` method and `linspace` method."
      ],
      "id": "d24814d8"
    },
    {
      "cell_type": "markdown",
      "metadata": {
        "id": "itAlyLoMK26w"
      },
      "source": [
        "##### a. arange\n",
        "\n",
        "The format of `np.arange` is `np.arange(start, stop, step)`. For example, I generate an array without using `step` and the result will be asign to `arr` variable as follows"
      ],
      "id": "itAlyLoMK26w"
    },
    {
      "cell_type": "code",
      "metadata": {
        "colab": {
          "base_uri": "https://localhost:8080/"
        },
        "id": "3Vs_VM7ZKcgv",
        "outputId": "cd1400f3-dfd3-4c45-d2dc-910e05e7fd2f"
      },
      "source": [
        "arr = np.arange(0,10)\n",
        "arr"
      ],
      "id": "3Vs_VM7ZKcgv",
      "execution_count": 3,
      "outputs": [
        {
          "output_type": "execute_result",
          "data": {
            "text/plain": [
              "array([0, 1, 2, 3, 4, 5, 6, 7, 8, 9])"
            ]
          },
          "metadata": {
            "tags": []
          },
          "execution_count": 3
        }
      ]
    },
    {
      "cell_type": "code",
      "metadata": {
        "scrolled": true,
        "id": "f2a78d7e",
        "outputId": "074a5032-cfcc-4e26-aba8-e429b7f6e375"
      },
      "source": [
        "arr_step = np.arange(0,10,2)\n",
        "arr_step"
      ],
      "id": "f2a78d7e",
      "execution_count": null,
      "outputs": [
        {
          "output_type": "execute_result",
          "data": {
            "text/plain": [
              "array([0, 2, 4, 6, 8])"
            ]
          },
          "metadata": {
            "tags": []
          },
          "execution_count": 284
        }
      ]
    },
    {
      "cell_type": "markdown",
      "metadata": {
        "id": "175dcf84"
      },
      "source": [
        "the result is even array."
      ],
      "id": "175dcf84"
    },
    {
      "cell_type": "markdown",
      "metadata": {
        "id": "3a96e01c"
      },
      "source": [
        "##### b. linspace\n",
        "\n",
        "Now, I'm going to generate an array by using `linspace` method. The format of `np.linspace` is `np.linspace(start,stop,length of data)`. First, I generate an array without input a length of data and I assign the result to `arr_linspace` variable as follows"
      ],
      "id": "3a96e01c"
    },
    {
      "cell_type": "code",
      "metadata": {
        "scrolled": false,
        "id": "eb22d9f5",
        "outputId": "de8ab49c-5389-47aa-b2dd-5303829f59a9"
      },
      "source": [
        "arr_linspace = np.linspace(0,0.5)\n",
        "arr_linspace"
      ],
      "id": "eb22d9f5",
      "execution_count": null,
      "outputs": [
        {
          "output_type": "execute_result",
          "data": {
            "text/plain": [
              "array([0.        , 0.01020408, 0.02040816, 0.03061224, 0.04081633,\n",
              "       0.05102041, 0.06122449, 0.07142857, 0.08163265, 0.09183673,\n",
              "       0.10204082, 0.1122449 , 0.12244898, 0.13265306, 0.14285714,\n",
              "       0.15306122, 0.16326531, 0.17346939, 0.18367347, 0.19387755,\n",
              "       0.20408163, 0.21428571, 0.2244898 , 0.23469388, 0.24489796,\n",
              "       0.25510204, 0.26530612, 0.2755102 , 0.28571429, 0.29591837,\n",
              "       0.30612245, 0.31632653, 0.32653061, 0.33673469, 0.34693878,\n",
              "       0.35714286, 0.36734694, 0.37755102, 0.3877551 , 0.39795918,\n",
              "       0.40816327, 0.41836735, 0.42857143, 0.43877551, 0.44897959,\n",
              "       0.45918367, 0.46938776, 0.47959184, 0.48979592, 0.5       ])"
            ]
          },
          "metadata": {
            "tags": []
          },
          "execution_count": 285
        }
      ]
    },
    {
      "cell_type": "markdown",
      "metadata": {
        "id": "1018e3ab"
      },
      "source": [
        "to check the length of data, you can type the `len(variable name)` function as follows"
      ],
      "id": "1018e3ab"
    },
    {
      "cell_type": "code",
      "metadata": {
        "scrolled": true,
        "id": "c970aee7",
        "outputId": "28fbd2c1-c5f0-46d6-9fd2-39c3e96ac43f"
      },
      "source": [
        "len(arr_linspace)"
      ],
      "id": "c970aee7",
      "execution_count": null,
      "outputs": [
        {
          "output_type": "execute_result",
          "data": {
            "text/plain": [
              "50"
            ]
          },
          "metadata": {
            "tags": []
          },
          "execution_count": 286
        }
      ]
    },
    {
      "cell_type": "markdown",
      "metadata": {
        "id": "25b30007"
      },
      "source": [
        "as we can see, the array has been generated start from 0 to 0.5 in 50 length of data as default configuration. Next, I generate an array with input a length of data e.g. 70 values and I assign the result to `arr_linspace_length` variable as follows"
      ],
      "id": "25b30007"
    },
    {
      "cell_type": "code",
      "metadata": {
        "scrolled": true,
        "id": "c0844422",
        "outputId": "219afe8b-597e-4a5a-e68f-eeb958b175be"
      },
      "source": [
        "arr_linspace_length = np.linspace(0,0.5,70)\n",
        "arr_linspace_length"
      ],
      "id": "c0844422",
      "execution_count": null,
      "outputs": [
        {
          "output_type": "execute_result",
          "data": {
            "text/plain": [
              "array([0.        , 0.00724638, 0.01449275, 0.02173913, 0.02898551,\n",
              "       0.03623188, 0.04347826, 0.05072464, 0.05797101, 0.06521739,\n",
              "       0.07246377, 0.07971014, 0.08695652, 0.0942029 , 0.10144928,\n",
              "       0.10869565, 0.11594203, 0.12318841, 0.13043478, 0.13768116,\n",
              "       0.14492754, 0.15217391, 0.15942029, 0.16666667, 0.17391304,\n",
              "       0.18115942, 0.1884058 , 0.19565217, 0.20289855, 0.21014493,\n",
              "       0.2173913 , 0.22463768, 0.23188406, 0.23913043, 0.24637681,\n",
              "       0.25362319, 0.26086957, 0.26811594, 0.27536232, 0.2826087 ,\n",
              "       0.28985507, 0.29710145, 0.30434783, 0.3115942 , 0.31884058,\n",
              "       0.32608696, 0.33333333, 0.34057971, 0.34782609, 0.35507246,\n",
              "       0.36231884, 0.36956522, 0.37681159, 0.38405797, 0.39130435,\n",
              "       0.39855072, 0.4057971 , 0.41304348, 0.42028986, 0.42753623,\n",
              "       0.43478261, 0.44202899, 0.44927536, 0.45652174, 0.46376812,\n",
              "       0.47101449, 0.47826087, 0.48550725, 0.49275362, 0.5       ])"
            ]
          },
          "metadata": {
            "tags": []
          },
          "execution_count": 287
        }
      ]
    },
    {
      "cell_type": "markdown",
      "metadata": {
        "id": "f7ad376c"
      },
      "source": [
        "We can also convert an array data type to list data type as follows"
      ],
      "id": "f7ad376c"
    },
    {
      "cell_type": "code",
      "metadata": {
        "id": "77814690",
        "outputId": "02ff49cb-47af-4055-d56d-0e69e75eefef"
      },
      "source": [
        "list(arr_linspace)"
      ],
      "id": "77814690",
      "execution_count": null,
      "outputs": [
        {
          "output_type": "execute_result",
          "data": {
            "text/plain": [
              "[0.0,\n",
              " 0.01020408163265306,\n",
              " 0.02040816326530612,\n",
              " 0.030612244897959183,\n",
              " 0.04081632653061224,\n",
              " 0.0510204081632653,\n",
              " 0.061224489795918366,\n",
              " 0.07142857142857142,\n",
              " 0.08163265306122448,\n",
              " 0.09183673469387754,\n",
              " 0.1020408163265306,\n",
              " 0.11224489795918366,\n",
              " 0.12244897959183673,\n",
              " 0.13265306122448978,\n",
              " 0.14285714285714285,\n",
              " 0.1530612244897959,\n",
              " 0.16326530612244897,\n",
              " 0.17346938775510204,\n",
              " 0.18367346938775508,\n",
              " 0.19387755102040816,\n",
              " 0.2040816326530612,\n",
              " 0.21428571428571427,\n",
              " 0.22448979591836732,\n",
              " 0.2346938775510204,\n",
              " 0.24489795918367346,\n",
              " 0.25510204081632654,\n",
              " 0.26530612244897955,\n",
              " 0.2755102040816326,\n",
              " 0.2857142857142857,\n",
              " 0.29591836734693877,\n",
              " 0.3061224489795918,\n",
              " 0.31632653061224486,\n",
              " 0.32653061224489793,\n",
              " 0.336734693877551,\n",
              " 0.3469387755102041,\n",
              " 0.3571428571428571,\n",
              " 0.36734693877551017,\n",
              " 0.37755102040816324,\n",
              " 0.3877551020408163,\n",
              " 0.39795918367346933,\n",
              " 0.4081632653061224,\n",
              " 0.4183673469387755,\n",
              " 0.42857142857142855,\n",
              " 0.4387755102040816,\n",
              " 0.44897959183673464,\n",
              " 0.4591836734693877,\n",
              " 0.4693877551020408,\n",
              " 0.47959183673469385,\n",
              " 0.4897959183673469,\n",
              " 0.5]"
            ]
          },
          "metadata": {
            "tags": []
          },
          "execution_count": 349
        }
      ]
    },
    {
      "cell_type": "markdown",
      "metadata": {
        "id": "eaa28b9e"
      },
      "source": [
        "#### Generate 'Zeros' Element of  Array\n",
        "\n",
        "We can easy to generate an array that contain of zero by using `np.zeros(length of data)` method. For example, I generate a zero array for 10 length of data as follows"
      ],
      "id": "eaa28b9e"
    },
    {
      "cell_type": "code",
      "metadata": {
        "scrolled": true,
        "id": "e9961b9d",
        "outputId": "12195d43-9940-42b4-e212-594c8ec9ff47"
      },
      "source": [
        "arr_zeros = np.zeros(10)\n",
        "arr_zeros"
      ],
      "id": "e9961b9d",
      "execution_count": null,
      "outputs": [
        {
          "output_type": "execute_result",
          "data": {
            "text/plain": [
              "array([0., 0., 0., 0., 0., 0., 0., 0., 0., 0.])"
            ]
          },
          "metadata": {
            "tags": []
          },
          "execution_count": 288
        }
      ]
    },
    {
      "cell_type": "markdown",
      "metadata": {
        "id": "09da1f22"
      },
      "source": [
        "#### Generate 'Ones' Element of Array\n",
        "\n",
        "The same way when we want to generate an array that contain element of 1 for entire array element by using `np.ones(length of data)` method. For example"
      ],
      "id": "09da1f22"
    },
    {
      "cell_type": "code",
      "metadata": {
        "scrolled": true,
        "id": "0d7d2f02",
        "outputId": "bd01ae29-e796-4377-84d8-434d8b73a848"
      },
      "source": [
        "arr_ones = np.ones(10)\n",
        "arr_ones"
      ],
      "id": "0d7d2f02",
      "execution_count": null,
      "outputs": [
        {
          "output_type": "execute_result",
          "data": {
            "text/plain": [
              "array([1., 1., 1., 1., 1., 1., 1., 1., 1., 1.])"
            ]
          },
          "metadata": {
            "tags": []
          },
          "execution_count": 289
        }
      ]
    },
    {
      "cell_type": "markdown",
      "metadata": {
        "id": "f1b994e4"
      },
      "source": [
        "#### Array Index\n",
        "\n",
        "We already have generate an array as previous methods. Now, if we want to access a specific value in the array, we have to identify its index number. In Python, the first index number is started from 0, the second index is 1 and so on. For example, we use a variable of `arr_linspace_length` to get a specific value from the second index which is 1. By typing the following command where the index number is written inside a bracket."
      ],
      "id": "f1b994e4"
    },
    {
      "cell_type": "code",
      "metadata": {
        "scrolled": true,
        "id": "4cbe427e",
        "outputId": "db38063a-fd2f-43cd-cf63-fa029f736516"
      },
      "source": [
        "arr_linspace_length[1]"
      ],
      "id": "4cbe427e",
      "execution_count": null,
      "outputs": [
        {
          "output_type": "execute_result",
          "data": {
            "text/plain": [
              "0.007246376811594203"
            ]
          },
          "metadata": {
            "tags": []
          },
          "execution_count": 290
        }
      ]
    },
    {
      "cell_type": "markdown",
      "metadata": {
        "id": "b18642c9"
      },
      "source": [
        "_**Remember, in Python, the first index is started from 0**_. \n",
        "\n",
        "We can take the last value from `arr_linspace_length` variable as follows command"
      ],
      "id": "b18642c9"
    },
    {
      "cell_type": "code",
      "metadata": {
        "scrolled": true,
        "id": "78e6addc",
        "outputId": "e70463f5-dd5c-40a8-a057-aace288d7d08"
      },
      "source": [
        "arr_linspace_length[69]"
      ],
      "id": "78e6addc",
      "execution_count": null,
      "outputs": [
        {
          "output_type": "execute_result",
          "data": {
            "text/plain": [
              "0.5"
            ]
          },
          "metadata": {
            "tags": []
          },
          "execution_count": 291
        }
      ]
    },
    {
      "cell_type": "markdown",
      "metadata": {
        "id": "89838630"
      },
      "source": [
        "where the 69 is the last index of this array. For the simplicity, the last index number is `the length of data - 1`. If we want to take a value from index number of 10, we can type"
      ],
      "id": "89838630"
    },
    {
      "cell_type": "code",
      "metadata": {
        "scrolled": true,
        "id": "85c187e6",
        "outputId": "79b38239-47a5-4437-8ce3-a09345303dfe"
      },
      "source": [
        "arr_linspace_length[10]"
      ],
      "id": "85c187e6",
      "execution_count": null,
      "outputs": [
        {
          "output_type": "execute_result",
          "data": {
            "text/plain": [
              "0.07246376811594203"
            ]
          },
          "metadata": {
            "tags": []
          },
          "execution_count": 292
        }
      ]
    },
    {
      "cell_type": "markdown",
      "metadata": {
        "id": "af42f310"
      },
      "source": [
        "#### Generate Random Array"
      ],
      "id": "af42f310"
    },
    {
      "cell_type": "markdown",
      "metadata": {
        "id": "Hnq2q8jnLPbe"
      },
      "source": [
        "##### 1. One Dimensional Array\n",
        "\n",
        "Numpy has a random method to generate a random array values. The format to call this method is `np.random.(method)(length of data)`. Generally, there are three methods in random class, `rand`, `randn`, and `randint`. \n",
        "\n",
        "1. `rand(row,col)`    : generate a standard random array.\n",
        "2. `randn(row,col)`   : generate a random array based on normal distribution.\n",
        "3. `randint(low, high=None, size=None)` : generate a single integer random number as default."
      ],
      "id": "Hnq2q8jnLPbe"
    },
    {
      "cell_type": "code",
      "metadata": {
        "scrolled": true,
        "id": "291c244a",
        "outputId": "14e905fd-f1ee-4e0d-dc4b-2ed99e18ba91"
      },
      "source": [
        "arr_random = np.random.rand(5)\n",
        "arr_random"
      ],
      "id": "291c244a",
      "execution_count": null,
      "outputs": [
        {
          "output_type": "execute_result",
          "data": {
            "text/plain": [
              "array([0.0597942 , 0.43665863, 0.31475775, 0.36632682, 0.9136528 ])"
            ]
          },
          "metadata": {
            "tags": []
          },
          "execution_count": 293
        }
      ]
    },
    {
      "cell_type": "code",
      "metadata": {
        "scrolled": true,
        "id": "a1959e05",
        "outputId": "6f056c4d-d542-4bfb-d5f0-e637c9faebe6"
      },
      "source": [
        "arr_randn = np.random.randn(5)\n",
        "arr_randn"
      ],
      "id": "a1959e05",
      "execution_count": null,
      "outputs": [
        {
          "output_type": "execute_result",
          "data": {
            "text/plain": [
              "array([-1.63633259, -1.20869251,  1.02397941,  0.08078858, -0.45452591])"
            ]
          },
          "metadata": {
            "tags": []
          },
          "execution_count": 294
        }
      ]
    },
    {
      "cell_type": "code",
      "metadata": {
        "scrolled": true,
        "id": "cb0b1999",
        "outputId": "fe74ee20-e765-4f9c-f178-b932eeb990c7"
      },
      "source": [
        "arr_randint = np.random.randint(2,5,size=10)\n",
        "arr_randint"
      ],
      "id": "cb0b1999",
      "execution_count": null,
      "outputs": [
        {
          "output_type": "execute_result",
          "data": {
            "text/plain": [
              "array([4, 2, 3, 4, 4, 2, 2, 4, 4, 2])"
            ]
          },
          "metadata": {
            "tags": []
          },
          "execution_count": 295
        }
      ]
    },
    {
      "cell_type": "markdown",
      "metadata": {
        "id": "97d5f77a"
      },
      "source": [
        "##### 2. Two Dimensional Array\n",
        "\n",
        "We have done to generate a 1D array. Next, we generate a 2D array by using numpy library. To do this, we apply an `array` method as the following command."
      ],
      "id": "97d5f77a"
    },
    {
      "cell_type": "code",
      "metadata": {
        "scrolled": true,
        "id": "2ed8335b",
        "outputId": "95af459b-119d-4b30-f966-db4ef46ca124"
      },
      "source": [
        "arr_2d = np.array([[1,2,3,4,5],[6,7,8,9,10]])\n",
        "arr_2d"
      ],
      "id": "2ed8335b",
      "execution_count": null,
      "outputs": [
        {
          "output_type": "execute_result",
          "data": {
            "text/plain": [
              "array([[ 1,  2,  3,  4,  5],\n",
              "       [ 6,  7,  8,  9, 10]])"
            ]
          },
          "metadata": {
            "tags": []
          },
          "execution_count": 296
        }
      ]
    },
    {
      "cell_type": "markdown",
      "metadata": {
        "id": "003532bc"
      },
      "source": [
        "Now, we have 2D array that means we have 2 rows and 5 columns. By using array method, we have to set the element of array manually as above command. We can use a `random.rand()` or `random.randn()` method to generate a 2D array. "
      ],
      "id": "003532bc"
    },
    {
      "cell_type": "code",
      "metadata": {
        "scrolled": true,
        "id": "25c0569e",
        "outputId": "9dcf5188-5122-43b2-87df-718b7011c43a"
      },
      "source": [
        "arr_2d_random = np.random.rand(5,5)\n",
        "arr_2d_random"
      ],
      "id": "25c0569e",
      "execution_count": null,
      "outputs": [
        {
          "output_type": "execute_result",
          "data": {
            "text/plain": [
              "array([[0.06041188, 0.46824881, 0.27848492, 0.43939302, 0.23156948],\n",
              "       [0.83099545, 0.93557565, 0.24911599, 0.32273711, 0.16268538],\n",
              "       [0.6891951 , 0.68294689, 0.42855669, 0.98389189, 0.85673664],\n",
              "       [0.92547451, 0.12210899, 0.5244153 , 0.44107802, 0.65407268],\n",
              "       [0.82954825, 0.10401751, 0.35226337, 0.18574262, 0.20665535]])"
            ]
          },
          "metadata": {
            "tags": []
          },
          "execution_count": 297
        }
      ]
    },
    {
      "cell_type": "markdown",
      "metadata": {
        "id": "4729ae46"
      },
      "source": [
        "#### Modification an Array"
      ],
      "id": "4729ae46"
    },
    {
      "cell_type": "markdown",
      "metadata": {
        "id": "iUfTBT7VLS9Y"
      },
      "source": [
        "##### Change element of 1D array\n",
        "An element in an array can be modified or changed to another value. For example, we use `arr_random` variable that has been created previously."
      ],
      "id": "iUfTBT7VLS9Y"
    },
    {
      "cell_type": "code",
      "metadata": {
        "scrolled": true,
        "id": "f14a25a0"
      },
      "source": [
        "arr_random"
      ],
      "id": "f14a25a0",
      "execution_count": null,
      "outputs": []
    },
    {
      "cell_type": "markdown",
      "metadata": {
        "id": "2a930517"
      },
      "source": [
        "We take a value which in the third index or equal to index number of 2 as follows"
      ],
      "id": "2a930517"
    },
    {
      "cell_type": "code",
      "metadata": {
        "scrolled": true,
        "id": "1f0bba60",
        "outputId": "f3e3b08e-4c8d-4ae5-a7da-4e9d86f5f7e9"
      },
      "source": [
        "arr_random[2]"
      ],
      "id": "1f0bba60",
      "execution_count": null,
      "outputs": [
        {
          "output_type": "execute_result",
          "data": {
            "text/plain": [
              "0.31475775379298265"
            ]
          },
          "metadata": {
            "tags": []
          },
          "execution_count": 299
        }
      ]
    },
    {
      "cell_type": "markdown",
      "metadata": {
        "id": "3a1df78b"
      },
      "source": [
        "and to change this value (e.g. 100), we can write the following command"
      ],
      "id": "3a1df78b"
    },
    {
      "cell_type": "code",
      "metadata": {
        "scrolled": true,
        "id": "309fe9cb",
        "outputId": "811afd58-a6a7-40cd-b182-f4d65f2ddce1"
      },
      "source": [
        "arr_random[2] = 100\n",
        "arr_random"
      ],
      "id": "309fe9cb",
      "execution_count": null,
      "outputs": [
        {
          "output_type": "execute_result",
          "data": {
            "text/plain": [
              "array([5.97942029e-02, 4.36658629e-01, 1.00000000e+02, 3.66326819e-01,\n",
              "       9.13652796e-01])"
            ]
          },
          "metadata": {
            "tags": []
          },
          "execution_count": 300
        }
      ]
    },
    {
      "cell_type": "markdown",
      "metadata": {
        "id": "59606f3b"
      },
      "source": [
        "and now, the value has been changed.\n",
        "\n",
        "##### Change element of 2D array\n",
        "\n",
        "We have generated a 2D array that assign to `arr_2d` and `arr_2d_random` variables. To show an element of 2D array, we use the format `variable[row index][column index]`. Let's use the `arr_2d` variable for example."
      ],
      "id": "59606f3b"
    },
    {
      "cell_type": "code",
      "metadata": {
        "scrolled": true,
        "id": "2c6f748d",
        "outputId": "85c866bc-f424-4f5c-cdc5-c9213723db8e"
      },
      "source": [
        "arr_2d"
      ],
      "id": "2c6f748d",
      "execution_count": null,
      "outputs": [
        {
          "output_type": "execute_result",
          "data": {
            "text/plain": [
              "array([[ 1,  2,  3,  4,  5],\n",
              "       [ 6,  7,  8,  9, 10]])"
            ]
          },
          "metadata": {
            "tags": []
          },
          "execution_count": 301
        }
      ]
    },
    {
      "cell_type": "markdown",
      "metadata": {
        "id": "e4c0a89d"
      },
      "source": [
        "We want to take a value of 4 from the `arr_2d` variable. The value of 4 is in the first row (index of 0) and the forth column (index of 3). Then, we get this value and assign to `value` variable by using command bellow"
      ],
      "id": "e4c0a89d"
    },
    {
      "cell_type": "code",
      "metadata": {
        "scrolled": true,
        "id": "8f69a45a",
        "outputId": "2a70d6fa-3821-4e16-febb-78e7f97c4e80"
      },
      "source": [
        "value = arr_2d[0][3]\n",
        "value"
      ],
      "id": "8f69a45a",
      "execution_count": null,
      "outputs": [
        {
          "output_type": "execute_result",
          "data": {
            "text/plain": [
              "4"
            ]
          },
          "metadata": {
            "tags": []
          },
          "execution_count": 302
        }
      ]
    },
    {
      "cell_type": "markdown",
      "metadata": {
        "id": "45a12719"
      },
      "source": [
        "To change this element just type"
      ],
      "id": "45a12719"
    },
    {
      "cell_type": "code",
      "metadata": {
        "scrolled": true,
        "id": "2519ec7c",
        "outputId": "83159c44-f67c-47dd-9aed-bcc8b96ebf1c"
      },
      "source": [
        "arr_2d[0][3] = 10\n",
        "arr_2d"
      ],
      "id": "2519ec7c",
      "execution_count": null,
      "outputs": [
        {
          "output_type": "execute_result",
          "data": {
            "text/plain": [
              "array([[ 1,  2,  3, 10,  5],\n",
              "       [ 6,  7,  8,  9, 10]])"
            ]
          },
          "metadata": {
            "tags": []
          },
          "execution_count": 303
        }
      ]
    },
    {
      "cell_type": "markdown",
      "metadata": {
        "id": "bf720107"
      },
      "source": [
        "the value of 4 has been changed become 10."
      ],
      "id": "bf720107"
    },
    {
      "cell_type": "markdown",
      "metadata": {
        "id": "25d9bd77"
      },
      "source": [
        "#### Slice an Array"
      ],
      "id": "25d9bd77"
    },
    {
      "cell_type": "markdown",
      "metadata": {
        "id": "77nmGUD0LK8Q"
      },
      "source": [
        "##### 1. 1D Array\n",
        "\n",
        "We can slice a few element of an array based on its index. We use \n",
        "\n",
        "1. `variable[:index number]` to slice all values in array from first index to index number (the index number is not include in the result),\n",
        "2. `variable[index number:]` to slice all values in array an array from index number to end of index and\n",
        "3. `variable[start index number: stop index number]` to slice an array in between index number (the stop index number is not include in the result)\n",
        "\n",
        "Let's try to `arr_random` variable to apply this slice methods."
      ],
      "id": "77nmGUD0LK8Q"
    },
    {
      "cell_type": "code",
      "metadata": {
        "scrolled": true,
        "id": "58b9f205",
        "outputId": "cad72f86-907c-45fe-8135-356bf486bdf5"
      },
      "source": [
        "arr_slice_first = arr_random[:3]\n",
        "arr_slice_first"
      ],
      "id": "58b9f205",
      "execution_count": null,
      "outputs": [
        {
          "output_type": "execute_result",
          "data": {
            "text/plain": [
              "array([5.97942029e-02, 4.36658629e-01, 1.00000000e+02])"
            ]
          },
          "metadata": {
            "tags": []
          },
          "execution_count": 304
        }
      ]
    },
    {
      "cell_type": "code",
      "metadata": {
        "scrolled": true,
        "id": "051812ee",
        "outputId": "fdc38f37-32de-4010-c8c9-4a4e96205e42"
      },
      "source": [
        "arr_slice_end = arr_random[3:]\n",
        "arr_slice_end"
      ],
      "id": "051812ee",
      "execution_count": null,
      "outputs": [
        {
          "output_type": "execute_result",
          "data": {
            "text/plain": [
              "array([0.36632682, 0.9136528 ])"
            ]
          },
          "metadata": {
            "tags": []
          },
          "execution_count": 305
        }
      ]
    },
    {
      "cell_type": "code",
      "metadata": {
        "scrolled": true,
        "id": "325b5f05",
        "outputId": "e4b27af2-a55b-4acf-d2c2-6db5ed43273e"
      },
      "source": [
        "arr_slice_between = arr_random[2:4]\n",
        "arr_slice_between"
      ],
      "id": "325b5f05",
      "execution_count": null,
      "outputs": [
        {
          "output_type": "execute_result",
          "data": {
            "text/plain": [
              "array([100.        ,   0.36632682])"
            ]
          },
          "metadata": {
            "tags": []
          },
          "execution_count": 306
        }
      ]
    },
    {
      "cell_type": "markdown",
      "metadata": {
        "id": "d565243f"
      },
      "source": [
        "##### 2. 2D Array\n",
        "\n",
        "We are going further to slice 2D array from `arr_2d` variable and get a sub array from it."
      ],
      "id": "d565243f"
    },
    {
      "cell_type": "code",
      "metadata": {
        "scrolled": true,
        "id": "facdc2d9",
        "outputId": "e86ddd8f-b272-4aae-a2d8-c20dc601172c"
      },
      "source": [
        "arr_2d"
      ],
      "id": "facdc2d9",
      "execution_count": null,
      "outputs": [
        {
          "output_type": "execute_result",
          "data": {
            "text/plain": [
              "array([[ 1,  2,  3, 10,  5],\n",
              "       [ 6,  7,  8,  9, 10]])"
            ]
          },
          "metadata": {
            "tags": []
          },
          "execution_count": 307
        }
      ]
    },
    {
      "cell_type": "markdown",
      "metadata": {
        "id": "c27db035"
      },
      "source": [
        "We want to get the element of 2D array of 1, 2, 6 and 7 where:\n",
        "    \n",
        "    - the value of 1 is in the first row (index of 0) and the first column (index of 0),\n",
        "    - the value of 2 is in the first row (index of 0) and the second column (index of 1),\n",
        "    - the value of 6 is in the second row (index of 1) and the first column (index of 0),\n",
        "    - the value of 7 is in the second row (index of 1) and the second column (index of 1).\n",
        "  \n",
        " Then we can assign these values to `arr_2d_new` as follows"
      ],
      "id": "c27db035"
    },
    {
      "cell_type": "code",
      "metadata": {
        "scrolled": true,
        "id": "1dc2e6bf",
        "outputId": "2ca4ab4c-7ea2-48f9-b1d6-89009ea1aee5"
      },
      "source": [
        "arr_2d_new = arr_2d[0:2,0:2]\n",
        "arr_2d_new"
      ],
      "id": "1dc2e6bf",
      "execution_count": null,
      "outputs": [
        {
          "output_type": "execute_result",
          "data": {
            "text/plain": [
              "array([[1, 2],\n",
              "       [6, 7]])"
            ]
          },
          "metadata": {
            "tags": []
          },
          "execution_count": 308
        }
      ]
    },
    {
      "cell_type": "markdown",
      "metadata": {
        "id": "63b3e534"
      },
      "source": [
        "_Remember that, to get the last value of each dimensional (e.g. 2 and 7 these values are in the second index of column which is index of 1 in Python order. So, the index number that you have to write to slice it is 1+1=2)_"
      ],
      "id": "63b3e534"
    },
    {
      "cell_type": "markdown",
      "metadata": {
        "id": "56584181"
      },
      "source": [
        "#### Basic Mathematical Operation\n",
        "\n",
        "We can apply basic mathematical operation in array, such as summation, subtraction, multiplication and division. In Python, array can be calculated directly with another array or value. For example, we use `arr_randint` variable that has been created previous [sub-chapter](#1.-One-Dimensional-Array)."
      ],
      "id": "56584181"
    },
    {
      "cell_type": "code",
      "metadata": {
        "scrolled": true,
        "id": "e02c0dbe",
        "outputId": "611391a3-8487-4f34-e942-45d7ee606866"
      },
      "source": [
        "arr_randint"
      ],
      "id": "e02c0dbe",
      "execution_count": null,
      "outputs": [
        {
          "output_type": "execute_result",
          "data": {
            "text/plain": [
              "array([4, 2, 3, 4, 4, 2, 2, 4, 4, 2])"
            ]
          },
          "metadata": {
            "tags": []
          },
          "execution_count": 309
        }
      ]
    },
    {
      "cell_type": "markdown",
      "metadata": {
        "id": "81412c20"
      },
      "source": [
        "Then, we create a new array that has same size with `arr_randint` which is 10."
      ],
      "id": "81412c20"
    },
    {
      "cell_type": "code",
      "metadata": {
        "scrolled": true,
        "id": "a1b3db52",
        "outputId": "b5c1f6e8-75e5-4387-8cb4-e14a8d0870d5"
      },
      "source": [
        "arr_new = np.random.randint(1,10,size=10)\n",
        "arr_new"
      ],
      "id": "a1b3db52",
      "execution_count": null,
      "outputs": [
        {
          "output_type": "execute_result",
          "data": {
            "text/plain": [
              "array([1, 3, 3, 1, 4, 3, 3, 8, 6, 7])"
            ]
          },
          "metadata": {
            "tags": []
          },
          "execution_count": 310
        }
      ]
    },
    {
      "cell_type": "markdown",
      "metadata": {
        "id": "2cc05660"
      },
      "source": [
        "##### Summation and Subtraction\n",
        "\n",
        "To add these two arrays, we can apply a simple way"
      ],
      "id": "2cc05660"
    },
    {
      "cell_type": "code",
      "metadata": {
        "scrolled": true,
        "id": "a723850d",
        "outputId": "d3b7ef5f-3ddc-46c1-b8a9-09ab2644cb00"
      },
      "source": [
        "arr_addition = arr_randint + arr_new\n",
        "arr_addition"
      ],
      "id": "a723850d",
      "execution_count": null,
      "outputs": [
        {
          "output_type": "execute_result",
          "data": {
            "text/plain": [
              "array([ 5,  5,  6,  5,  8,  5,  5, 12, 10,  9])"
            ]
          },
          "metadata": {
            "tags": []
          },
          "execution_count": 311
        }
      ]
    },
    {
      "cell_type": "markdown",
      "metadata": {
        "id": "899f57b1"
      },
      "source": [
        "and to suctraction"
      ],
      "id": "899f57b1"
    },
    {
      "cell_type": "code",
      "metadata": {
        "scrolled": true,
        "id": "5e02451e",
        "outputId": "7c024773-0fa8-4ae8-c5a7-51956ad9bb0a"
      },
      "source": [
        "arr_subtraction = arr_randint - arr_new\n",
        "arr_subtraction"
      ],
      "id": "5e02451e",
      "execution_count": null,
      "outputs": [
        {
          "output_type": "execute_result",
          "data": {
            "text/plain": [
              "array([ 3, -1,  0,  3,  0, -1, -1, -4, -2, -5])"
            ]
          },
          "metadata": {
            "tags": []
          },
          "execution_count": 312
        }
      ]
    },
    {
      "cell_type": "markdown",
      "metadata": {
        "id": "3a97306b"
      },
      "source": [
        "Then, we add the `arr_randint` with a value = 5"
      ],
      "id": "3a97306b"
    },
    {
      "cell_type": "code",
      "metadata": {
        "scrolled": true,
        "id": "f46b15b5"
      },
      "source": [
        "value = 5"
      ],
      "id": "f46b15b5",
      "execution_count": null,
      "outputs": []
    },
    {
      "cell_type": "code",
      "metadata": {
        "scrolled": true,
        "id": "d0ab92fd",
        "outputId": "05e007be-f43e-4667-c582-c1ad4e5b710b"
      },
      "source": [
        "arr_addition_value = arr_randint + value\n",
        "arr_addition_value"
      ],
      "id": "d0ab92fd",
      "execution_count": null,
      "outputs": [
        {
          "output_type": "execute_result",
          "data": {
            "text/plain": [
              "array([9, 7, 8, 9, 9, 7, 7, 9, 9, 7])"
            ]
          },
          "metadata": {
            "tags": []
          },
          "execution_count": 314
        }
      ]
    },
    {
      "cell_type": "markdown",
      "metadata": {
        "id": "ef31ec28"
      },
      "source": [
        "and subtraction"
      ],
      "id": "ef31ec28"
    },
    {
      "cell_type": "code",
      "metadata": {
        "scrolled": true,
        "id": "367715d1",
        "outputId": "4bce9df4-008e-4e8a-b350-01cf1b8bb843"
      },
      "source": [
        "arr_subtraction_value = arr_randint - value\n",
        "arr_subtraction_value"
      ],
      "id": "367715d1",
      "execution_count": null,
      "outputs": [
        {
          "output_type": "execute_result",
          "data": {
            "text/plain": [
              "array([-1, -3, -2, -1, -1, -3, -3, -1, -1, -3])"
            ]
          },
          "metadata": {
            "tags": []
          },
          "execution_count": 315
        }
      ]
    },
    {
      "cell_type": "markdown",
      "metadata": {
        "id": "f5028545"
      },
      "source": [
        "##### Multiplication and Division\n",
        "\n",
        "Next, we apply a multiplication in these two arrays (`arr_randint` and `arr_new`)"
      ],
      "id": "f5028545"
    },
    {
      "cell_type": "code",
      "metadata": {
        "scrolled": true,
        "id": "96f659be",
        "outputId": "c6bcc41b-2920-48a3-e5d3-bc8f0504eb84"
      },
      "source": [
        "arr_multiplication = arr_randint * arr_new\n",
        "arr_multiplication"
      ],
      "id": "96f659be",
      "execution_count": null,
      "outputs": [
        {
          "output_type": "execute_result",
          "data": {
            "text/plain": [
              "array([ 4,  6,  9,  4, 16,  6,  6, 32, 24, 14])"
            ]
          },
          "metadata": {
            "tags": []
          },
          "execution_count": 316
        }
      ]
    },
    {
      "cell_type": "markdown",
      "metadata": {
        "id": "29d94d92"
      },
      "source": [
        "The multiplication process between two arrays will multiply for each pair element and this process also applies in division process"
      ],
      "id": "29d94d92"
    },
    {
      "cell_type": "code",
      "metadata": {
        "scrolled": true,
        "id": "d01cf990",
        "outputId": "6114dfaa-f2ac-4c58-818c-971f50bdffdb"
      },
      "source": [
        "arr_division = arr_randint / arr_new\n",
        "arr_division"
      ],
      "id": "d01cf990",
      "execution_count": null,
      "outputs": [
        {
          "output_type": "execute_result",
          "data": {
            "text/plain": [
              "array([4.        , 0.66666667, 1.        , 4.        , 1.        ,\n",
              "       0.66666667, 0.66666667, 0.5       , 0.66666667, 0.28571429])"
            ]
          },
          "metadata": {
            "tags": []
          },
          "execution_count": 317
        }
      ]
    },
    {
      "cell_type": "markdown",
      "metadata": {
        "id": "cfaace70"
      },
      "source": [
        "The multiplication or division of array with a value also can be applied, where"
      ],
      "id": "cfaace70"
    },
    {
      "cell_type": "code",
      "metadata": {
        "scrolled": true,
        "id": "4ea3525d",
        "outputId": "b56924f5-b478-4094-b5c0-5f1777d9acd5"
      },
      "source": [
        "value"
      ],
      "id": "4ea3525d",
      "execution_count": null,
      "outputs": [
        {
          "output_type": "execute_result",
          "data": {
            "text/plain": [
              "5"
            ]
          },
          "metadata": {
            "tags": []
          },
          "execution_count": 318
        }
      ]
    },
    {
      "cell_type": "code",
      "metadata": {
        "scrolled": true,
        "id": "b27fafe9",
        "outputId": "8224843a-cf20-46ee-e2a8-46aa03a02e84"
      },
      "source": [
        "arr_multiplication_value = arr_randint * value\n",
        "arr_multiplication_value"
      ],
      "id": "b27fafe9",
      "execution_count": null,
      "outputs": [
        {
          "output_type": "execute_result",
          "data": {
            "text/plain": [
              "array([20, 10, 15, 20, 20, 10, 10, 20, 20, 10])"
            ]
          },
          "metadata": {
            "tags": []
          },
          "execution_count": 319
        }
      ]
    },
    {
      "cell_type": "code",
      "metadata": {
        "scrolled": true,
        "id": "b6167ebc",
        "outputId": "b7478f33-88f5-4514-cdec-5b64dfc47317"
      },
      "source": [
        "arr_division_value = arr_randint / value\n",
        "arr_division_value"
      ],
      "id": "b6167ebc",
      "execution_count": null,
      "outputs": [
        {
          "output_type": "execute_result",
          "data": {
            "text/plain": [
              "array([0.8, 0.4, 0.6, 0.8, 0.8, 0.4, 0.4, 0.8, 0.8, 0.4])"
            ]
          },
          "metadata": {
            "tags": []
          },
          "execution_count": 320
        }
      ]
    },
    {
      "cell_type": "markdown",
      "metadata": {
        "id": "fe6ac0e5"
      },
      "source": [
        "##### Trigonometry\n",
        "\n",
        "The numpy library has a method to calculate trigonometry cases, such as sin, cos tan and much more. For example,"
      ],
      "id": "fe6ac0e5"
    },
    {
      "cell_type": "code",
      "metadata": {
        "scrolled": true,
        "id": "580b41e2",
        "outputId": "015084b2-f146-44f2-c6ed-8e2bbe29d1f0"
      },
      "source": [
        "mat_sin = np.sin(90)\n",
        "mat_sin"
      ],
      "id": "580b41e2",
      "execution_count": null,
      "outputs": [
        {
          "output_type": "execute_result",
          "data": {
            "text/plain": [
              "0.8939966636005579"
            ]
          },
          "metadata": {
            "tags": []
          },
          "execution_count": 321
        }
      ]
    },
    {
      "cell_type": "markdown",
      "metadata": {
        "id": "8e99100c"
      },
      "source": [
        "as we can see, the result of sin(90) is 0.89 in degree unit. If we want to get the result in radian unit, we have to convert it by multiply `np.pi/180` as follows"
      ],
      "id": "8e99100c"
    },
    {
      "cell_type": "code",
      "metadata": {
        "scrolled": true,
        "id": "1850ed17",
        "outputId": "fd511250-121e-42f5-a356-eaa9f39e252d"
      },
      "source": [
        "mat_sin_degree = np.sin(90*(np.pi/180))\n",
        "mat_sin_degree"
      ],
      "id": "1850ed17",
      "execution_count": null,
      "outputs": [
        {
          "output_type": "execute_result",
          "data": {
            "text/plain": [
              "1.0"
            ]
          },
          "metadata": {
            "tags": []
          },
          "execution_count": 322
        }
      ]
    },
    {
      "cell_type": "markdown",
      "metadata": {
        "id": "746400da"
      },
      "source": [
        "we also can calculate the inverse of sin to degree unit by multiply the radian with `180/np.i` as follows"
      ],
      "id": "746400da"
    },
    {
      "cell_type": "code",
      "metadata": {
        "scrolled": true,
        "id": "213ee008",
        "outputId": "fe9e1c92-9c0f-4362-d841-dfbd77bfc302"
      },
      "source": [
        "mat_inv_sin_degree = np.arcsin(1)*(180/np.pi)\n",
        "mat_inv_sin_degree"
      ],
      "id": "213ee008",
      "execution_count": null,
      "outputs": [
        {
          "output_type": "execute_result",
          "data": {
            "text/plain": [
              "90.0"
            ]
          },
          "metadata": {
            "tags": []
          },
          "execution_count": 323
        }
      ]
    },
    {
      "cell_type": "markdown",
      "metadata": {
        "id": "6a5e8a2e"
      },
      "source": [
        "the constant of pi is called by `np.pi` from numpy library.\n",
        "\n",
        "### More Numpy's Methods\n",
        "\n",
        "You can find out more the methods in Numpy library by type `dir(np)` in Python shell or this notebook if you use its alias."
      ],
      "id": "6a5e8a2e"
    },
    {
      "cell_type": "code",
      "metadata": {
        "scrolled": false,
        "id": "16a9dd89",
        "outputId": "594b05b7-7b9e-48c5-9b48-b5bb6be38df4"
      },
      "source": [
        "dir(np)"
      ],
      "id": "16a9dd89",
      "execution_count": null,
      "outputs": [
        {
          "output_type": "execute_result",
          "data": {
            "text/plain": [
              "['ALLOW_THREADS',\n",
              " 'AxisError',\n",
              " 'BUFSIZE',\n",
              " 'Bytes0',\n",
              " 'CLIP',\n",
              " 'ComplexWarning',\n",
              " 'DataSource',\n",
              " 'Datetime64',\n",
              " 'ERR_CALL',\n",
              " 'ERR_DEFAULT',\n",
              " 'ERR_IGNORE',\n",
              " 'ERR_LOG',\n",
              " 'ERR_PRINT',\n",
              " 'ERR_RAISE',\n",
              " 'ERR_WARN',\n",
              " 'FLOATING_POINT_SUPPORT',\n",
              " 'FPE_DIVIDEBYZERO',\n",
              " 'FPE_INVALID',\n",
              " 'FPE_OVERFLOW',\n",
              " 'FPE_UNDERFLOW',\n",
              " 'False_',\n",
              " 'Inf',\n",
              " 'Infinity',\n",
              " 'MAXDIMS',\n",
              " 'MAY_SHARE_BOUNDS',\n",
              " 'MAY_SHARE_EXACT',\n",
              " 'MachAr',\n",
              " 'ModuleDeprecationWarning',\n",
              " 'NAN',\n",
              " 'NINF',\n",
              " 'NZERO',\n",
              " 'NaN',\n",
              " 'PINF',\n",
              " 'PZERO',\n",
              " 'RAISE',\n",
              " 'RankWarning',\n",
              " 'SHIFT_DIVIDEBYZERO',\n",
              " 'SHIFT_INVALID',\n",
              " 'SHIFT_OVERFLOW',\n",
              " 'SHIFT_UNDERFLOW',\n",
              " 'ScalarType',\n",
              " 'Str0',\n",
              " 'Tester',\n",
              " 'TooHardError',\n",
              " 'True_',\n",
              " 'UFUNC_BUFSIZE_DEFAULT',\n",
              " 'UFUNC_PYVALS_NAME',\n",
              " 'Uint64',\n",
              " 'VisibleDeprecationWarning',\n",
              " 'WRAP',\n",
              " '_NoValue',\n",
              " '_UFUNC_API',\n",
              " '__NUMPY_SETUP__',\n",
              " '__all__',\n",
              " '__builtins__',\n",
              " '__cached__',\n",
              " '__config__',\n",
              " '__deprecated_attrs__',\n",
              " '__dir__',\n",
              " '__doc__',\n",
              " '__expired_functions__',\n",
              " '__file__',\n",
              " '__getattr__',\n",
              " '__git_revision__',\n",
              " '__loader__',\n",
              " '__name__',\n",
              " '__package__',\n",
              " '__path__',\n",
              " '__spec__',\n",
              " '__version__',\n",
              " '_add_newdoc_ufunc',\n",
              " '_distributor_init',\n",
              " '_financial_names',\n",
              " '_globals',\n",
              " '_mat',\n",
              " '_pytesttester',\n",
              " 'abs',\n",
              " 'absolute',\n",
              " 'add',\n",
              " 'add_docstring',\n",
              " 'add_newdoc',\n",
              " 'add_newdoc_ufunc',\n",
              " 'alen',\n",
              " 'all',\n",
              " 'allclose',\n",
              " 'alltrue',\n",
              " 'amax',\n",
              " 'amin',\n",
              " 'angle',\n",
              " 'any',\n",
              " 'append',\n",
              " 'apply_along_axis',\n",
              " 'apply_over_axes',\n",
              " 'arange',\n",
              " 'arccos',\n",
              " 'arccosh',\n",
              " 'arcsin',\n",
              " 'arcsinh',\n",
              " 'arctan',\n",
              " 'arctan2',\n",
              " 'arctanh',\n",
              " 'argmax',\n",
              " 'argmin',\n",
              " 'argpartition',\n",
              " 'argsort',\n",
              " 'argwhere',\n",
              " 'around',\n",
              " 'array',\n",
              " 'array2string',\n",
              " 'array_equal',\n",
              " 'array_equiv',\n",
              " 'array_repr',\n",
              " 'array_split',\n",
              " 'array_str',\n",
              " 'asanyarray',\n",
              " 'asarray',\n",
              " 'asarray_chkfinite',\n",
              " 'ascontiguousarray',\n",
              " 'asfarray',\n",
              " 'asfortranarray',\n",
              " 'asmatrix',\n",
              " 'asscalar',\n",
              " 'atleast_1d',\n",
              " 'atleast_2d',\n",
              " 'atleast_3d',\n",
              " 'average',\n",
              " 'bartlett',\n",
              " 'base_repr',\n",
              " 'binary_repr',\n",
              " 'bincount',\n",
              " 'bitwise_and',\n",
              " 'bitwise_not',\n",
              " 'bitwise_or',\n",
              " 'bitwise_xor',\n",
              " 'blackman',\n",
              " 'block',\n",
              " 'bmat',\n",
              " 'bool8',\n",
              " 'bool_',\n",
              " 'broadcast',\n",
              " 'broadcast_arrays',\n",
              " 'broadcast_shapes',\n",
              " 'broadcast_to',\n",
              " 'busday_count',\n",
              " 'busday_offset',\n",
              " 'busdaycalendar',\n",
              " 'byte',\n",
              " 'byte_bounds',\n",
              " 'bytes0',\n",
              " 'bytes_',\n",
              " 'c_',\n",
              " 'can_cast',\n",
              " 'cast',\n",
              " 'cbrt',\n",
              " 'cdouble',\n",
              " 'ceil',\n",
              " 'cfloat',\n",
              " 'char',\n",
              " 'character',\n",
              " 'chararray',\n",
              " 'choose',\n",
              " 'clip',\n",
              " 'clongdouble',\n",
              " 'clongfloat',\n",
              " 'column_stack',\n",
              " 'common_type',\n",
              " 'compare_chararrays',\n",
              " 'compat',\n",
              " 'complex128',\n",
              " 'complex64',\n",
              " 'complex_',\n",
              " 'complexfloating',\n",
              " 'compress',\n",
              " 'concatenate',\n",
              " 'conj',\n",
              " 'conjugate',\n",
              " 'convolve',\n",
              " 'copy',\n",
              " 'copysign',\n",
              " 'copyto',\n",
              " 'core',\n",
              " 'corrcoef',\n",
              " 'correlate',\n",
              " 'cos',\n",
              " 'cosh',\n",
              " 'count_nonzero',\n",
              " 'cov',\n",
              " 'cross',\n",
              " 'csingle',\n",
              " 'ctypeslib',\n",
              " 'cumprod',\n",
              " 'cumproduct',\n",
              " 'cumsum',\n",
              " 'datetime64',\n",
              " 'datetime_as_string',\n",
              " 'datetime_data',\n",
              " 'deg2rad',\n",
              " 'degrees',\n",
              " 'delete',\n",
              " 'deprecate',\n",
              " 'deprecate_with_doc',\n",
              " 'diag',\n",
              " 'diag_indices',\n",
              " 'diag_indices_from',\n",
              " 'diagflat',\n",
              " 'diagonal',\n",
              " 'diff',\n",
              " 'digitize',\n",
              " 'disp',\n",
              " 'divide',\n",
              " 'divmod',\n",
              " 'dot',\n",
              " 'double',\n",
              " 'dsplit',\n",
              " 'dstack',\n",
              " 'dtype',\n",
              " 'e',\n",
              " 'ediff1d',\n",
              " 'einsum',\n",
              " 'einsum_path',\n",
              " 'emath',\n",
              " 'empty',\n",
              " 'empty_like',\n",
              " 'equal',\n",
              " 'errstate',\n",
              " 'euler_gamma',\n",
              " 'exp',\n",
              " 'exp2',\n",
              " 'expand_dims',\n",
              " 'expm1',\n",
              " 'extract',\n",
              " 'eye',\n",
              " 'fabs',\n",
              " 'fastCopyAndTranspose',\n",
              " 'fft',\n",
              " 'fill_diagonal',\n",
              " 'find_common_type',\n",
              " 'finfo',\n",
              " 'fix',\n",
              " 'flatiter',\n",
              " 'flatnonzero',\n",
              " 'flexible',\n",
              " 'flip',\n",
              " 'fliplr',\n",
              " 'flipud',\n",
              " 'float16',\n",
              " 'float32',\n",
              " 'float64',\n",
              " 'float_',\n",
              " 'float_power',\n",
              " 'floating',\n",
              " 'floor',\n",
              " 'floor_divide',\n",
              " 'fmax',\n",
              " 'fmin',\n",
              " 'fmod',\n",
              " 'format_float_positional',\n",
              " 'format_float_scientific',\n",
              " 'format_parser',\n",
              " 'frexp',\n",
              " 'frombuffer',\n",
              " 'fromfile',\n",
              " 'fromfunction',\n",
              " 'fromiter',\n",
              " 'frompyfunc',\n",
              " 'fromregex',\n",
              " 'fromstring',\n",
              " 'full',\n",
              " 'full_like',\n",
              " 'gcd',\n",
              " 'generic',\n",
              " 'genfromtxt',\n",
              " 'geomspace',\n",
              " 'get_array_wrap',\n",
              " 'get_include',\n",
              " 'get_printoptions',\n",
              " 'getbufsize',\n",
              " 'geterr',\n",
              " 'geterrcall',\n",
              " 'geterrobj',\n",
              " 'gradient',\n",
              " 'greater',\n",
              " 'greater_equal',\n",
              " 'half',\n",
              " 'hamming',\n",
              " 'hanning',\n",
              " 'heaviside',\n",
              " 'histogram',\n",
              " 'histogram2d',\n",
              " 'histogram_bin_edges',\n",
              " 'histogramdd',\n",
              " 'hsplit',\n",
              " 'hstack',\n",
              " 'hypot',\n",
              " 'i0',\n",
              " 'identity',\n",
              " 'iinfo',\n",
              " 'imag',\n",
              " 'in1d',\n",
              " 'index_exp',\n",
              " 'indices',\n",
              " 'inexact',\n",
              " 'inf',\n",
              " 'info',\n",
              " 'infty',\n",
              " 'inner',\n",
              " 'insert',\n",
              " 'int0',\n",
              " 'int16',\n",
              " 'int32',\n",
              " 'int64',\n",
              " 'int8',\n",
              " 'int_',\n",
              " 'intc',\n",
              " 'integer',\n",
              " 'interp',\n",
              " 'intersect1d',\n",
              " 'intp',\n",
              " 'invert',\n",
              " 'is_busday',\n",
              " 'isclose',\n",
              " 'iscomplex',\n",
              " 'iscomplexobj',\n",
              " 'isfinite',\n",
              " 'isfortran',\n",
              " 'isin',\n",
              " 'isinf',\n",
              " 'isnan',\n",
              " 'isnat',\n",
              " 'isneginf',\n",
              " 'isposinf',\n",
              " 'isreal',\n",
              " 'isrealobj',\n",
              " 'isscalar',\n",
              " 'issctype',\n",
              " 'issubclass_',\n",
              " 'issubdtype',\n",
              " 'issubsctype',\n",
              " 'iterable',\n",
              " 'ix_',\n",
              " 'kaiser',\n",
              " 'kron',\n",
              " 'lcm',\n",
              " 'ldexp',\n",
              " 'left_shift',\n",
              " 'less',\n",
              " 'less_equal',\n",
              " 'lexsort',\n",
              " 'lib',\n",
              " 'linalg',\n",
              " 'linspace',\n",
              " 'little_endian',\n",
              " 'load',\n",
              " 'loads',\n",
              " 'loadtxt',\n",
              " 'log',\n",
              " 'log10',\n",
              " 'log1p',\n",
              " 'log2',\n",
              " 'logaddexp',\n",
              " 'logaddexp2',\n",
              " 'logical_and',\n",
              " 'logical_not',\n",
              " 'logical_or',\n",
              " 'logical_xor',\n",
              " 'logspace',\n",
              " 'longcomplex',\n",
              " 'longdouble',\n",
              " 'longfloat',\n",
              " 'longlong',\n",
              " 'lookfor',\n",
              " 'ma',\n",
              " 'mafromtxt',\n",
              " 'mask_indices',\n",
              " 'mat',\n",
              " 'math',\n",
              " 'matmul',\n",
              " 'matrix',\n",
              " 'matrixlib',\n",
              " 'max',\n",
              " 'maximum',\n",
              " 'maximum_sctype',\n",
              " 'may_share_memory',\n",
              " 'mean',\n",
              " 'median',\n",
              " 'memmap',\n",
              " 'meshgrid',\n",
              " 'mgrid',\n",
              " 'min',\n",
              " 'min_scalar_type',\n",
              " 'minimum',\n",
              " 'mintypecode',\n",
              " 'mod',\n",
              " 'modf',\n",
              " 'moveaxis',\n",
              " 'msort',\n",
              " 'multiply',\n",
              " 'nan',\n",
              " 'nan_to_num',\n",
              " 'nanargmax',\n",
              " 'nanargmin',\n",
              " 'nancumprod',\n",
              " 'nancumsum',\n",
              " 'nanmax',\n",
              " 'nanmean',\n",
              " 'nanmedian',\n",
              " 'nanmin',\n",
              " 'nanpercentile',\n",
              " 'nanprod',\n",
              " 'nanquantile',\n",
              " 'nanstd',\n",
              " 'nansum',\n",
              " 'nanvar',\n",
              " 'nbytes',\n",
              " 'ndarray',\n",
              " 'ndenumerate',\n",
              " 'ndfromtxt',\n",
              " 'ndim',\n",
              " 'ndindex',\n",
              " 'nditer',\n",
              " 'negative',\n",
              " 'nested_iters',\n",
              " 'newaxis',\n",
              " 'nextafter',\n",
              " 'nonzero',\n",
              " 'not_equal',\n",
              " 'numarray',\n",
              " 'number',\n",
              " 'obj2sctype',\n",
              " 'object0',\n",
              " 'object_',\n",
              " 'ogrid',\n",
              " 'oldnumeric',\n",
              " 'ones',\n",
              " 'ones_like',\n",
              " 'os',\n",
              " 'outer',\n",
              " 'packbits',\n",
              " 'pad',\n",
              " 'partition',\n",
              " 'percentile',\n",
              " 'pi',\n",
              " 'piecewise',\n",
              " 'place',\n",
              " 'poly',\n",
              " 'poly1d',\n",
              " 'polyadd',\n",
              " 'polyder',\n",
              " 'polydiv',\n",
              " 'polyfit',\n",
              " 'polyint',\n",
              " 'polymul',\n",
              " 'polynomial',\n",
              " 'polysub',\n",
              " 'polyval',\n",
              " 'positive',\n",
              " 'power',\n",
              " 'printoptions',\n",
              " 'prod',\n",
              " 'product',\n",
              " 'promote_types',\n",
              " 'ptp',\n",
              " 'put',\n",
              " 'put_along_axis',\n",
              " 'putmask',\n",
              " 'quantile',\n",
              " 'r_',\n",
              " 'rad2deg',\n",
              " 'radians',\n",
              " 'random',\n",
              " 'ravel',\n",
              " 'ravel_multi_index',\n",
              " 'real',\n",
              " 'real_if_close',\n",
              " 'rec',\n",
              " 'recarray',\n",
              " 'recfromcsv',\n",
              " 'recfromtxt',\n",
              " 'reciprocal',\n",
              " 'record',\n",
              " 'remainder',\n",
              " 'repeat',\n",
              " 'require',\n",
              " 'reshape',\n",
              " 'resize',\n",
              " 'result_type',\n",
              " 'right_shift',\n",
              " 'rint',\n",
              " 'roll',\n",
              " 'rollaxis',\n",
              " 'roots',\n",
              " 'rot90',\n",
              " 'round',\n",
              " 'round_',\n",
              " 'row_stack',\n",
              " 's_',\n",
              " 'safe_eval',\n",
              " 'save',\n",
              " 'savetxt',\n",
              " 'savez',\n",
              " 'savez_compressed',\n",
              " 'sctype2char',\n",
              " 'sctypeDict',\n",
              " 'sctypes',\n",
              " 'searchsorted',\n",
              " 'select',\n",
              " 'set_numeric_ops',\n",
              " 'set_printoptions',\n",
              " 'set_string_function',\n",
              " 'setbufsize',\n",
              " 'setdiff1d',\n",
              " 'seterr',\n",
              " 'seterrcall',\n",
              " 'seterrobj',\n",
              " 'setxor1d',\n",
              " 'shape',\n",
              " 'shares_memory',\n",
              " 'short',\n",
              " 'show_config',\n",
              " 'sign',\n",
              " 'signbit',\n",
              " 'signedinteger',\n",
              " 'sin',\n",
              " 'sinc',\n",
              " 'single',\n",
              " 'singlecomplex',\n",
              " 'sinh',\n",
              " 'size',\n",
              " 'sometrue',\n",
              " 'sort',\n",
              " 'sort_complex',\n",
              " 'source',\n",
              " 'spacing',\n",
              " 'split',\n",
              " 'sqrt',\n",
              " 'square',\n",
              " 'squeeze',\n",
              " 'stack',\n",
              " 'std',\n",
              " 'str0',\n",
              " 'str_',\n",
              " 'string_',\n",
              " 'subtract',\n",
              " 'sum',\n",
              " 'swapaxes',\n",
              " 'sys',\n",
              " 'take',\n",
              " 'take_along_axis',\n",
              " 'tan',\n",
              " 'tanh',\n",
              " 'tensordot',\n",
              " 'test',\n",
              " 'testing',\n",
              " 'tile',\n",
              " 'timedelta64',\n",
              " 'trace',\n",
              " 'tracemalloc_domain',\n",
              " 'transpose',\n",
              " 'trapz',\n",
              " 'tri',\n",
              " 'tril',\n",
              " 'tril_indices',\n",
              " 'tril_indices_from',\n",
              " 'trim_zeros',\n",
              " 'triu',\n",
              " 'triu_indices',\n",
              " 'triu_indices_from',\n",
              " 'true_divide',\n",
              " 'trunc',\n",
              " 'typeDict',\n",
              " 'typecodes',\n",
              " 'typename',\n",
              " 'ubyte',\n",
              " 'ufunc',\n",
              " 'uint',\n",
              " 'uint0',\n",
              " 'uint16',\n",
              " 'uint32',\n",
              " 'uint64',\n",
              " 'uint8',\n",
              " 'uintc',\n",
              " 'uintp',\n",
              " 'ulonglong',\n",
              " 'unicode_',\n",
              " 'union1d',\n",
              " 'unique',\n",
              " 'unpackbits',\n",
              " 'unravel_index',\n",
              " 'unsignedinteger',\n",
              " 'unwrap',\n",
              " 'use_hugepage',\n",
              " 'ushort',\n",
              " 'vander',\n",
              " 'var',\n",
              " 'vdot',\n",
              " 'vectorize',\n",
              " 'version',\n",
              " 'void',\n",
              " 'void0',\n",
              " 'vsplit',\n",
              " 'vstack',\n",
              " 'warnings',\n",
              " 'where',\n",
              " 'who',\n",
              " 'zeros',\n",
              " 'zeros_like']"
            ]
          },
          "metadata": {
            "tags": []
          },
          "execution_count": 324
        }
      ]
    },
    {
      "cell_type": "markdown",
      "metadata": {
        "id": "52760a55"
      },
      "source": [
        "### 2. Pandas\n",
        "\n",
        "[Pandas](https://pandas.pydata.org/) is one of many Python libraries. This library is very helpful when we are working with a sturcture data such as in CSV/Excel file format. We can easily read a file that containt a lot of data. Firts, we have to import the Pandas and write the `pd` as its alias.\n",
        "\n",
        "#### Read CSV File"
      ],
      "id": "52760a55"
    },
    {
      "cell_type": "code",
      "metadata": {
        "scrolled": true,
        "id": "d4db112c"
      },
      "source": [
        "import pandas as pd"
      ],
      "id": "d4db112c",
      "execution_count": null,
      "outputs": []
    },
    {
      "cell_type": "markdown",
      "metadata": {
        "id": "ff13f859"
      },
      "source": [
        "In this case, I use an earthquake data around Aceh that I downloaded from [Earthquake Catalog of USGS](https://earthquake.usgs.gov/earthquakes/search/). I name this file as `earthquake_aceh_usgs.csv`. I am going to read this file by using `pd.read_csv` method from Pandas and I assign this file to `data` variable as follows"
      ],
      "id": "ff13f859"
    },
    {
      "cell_type": "code",
      "metadata": {
        "scrolled": false,
        "id": "e7684d6f",
        "outputId": "417f5cbf-5eac-4ed5-e64e-0d1753344719"
      },
      "source": [
        "data = pd.read_csv('earthquake_aceh_usgs.csv')\n",
        "data"
      ],
      "id": "e7684d6f",
      "execution_count": null,
      "outputs": [
        {
          "output_type": "execute_result",
          "data": {
            "text/html": [
              "<div>\n",
              "<style scoped>\n",
              "    .dataframe tbody tr th:only-of-type {\n",
              "        vertical-align: middle;\n",
              "    }\n",
              "\n",
              "    .dataframe tbody tr th {\n",
              "        vertical-align: top;\n",
              "    }\n",
              "\n",
              "    .dataframe thead th {\n",
              "        text-align: right;\n",
              "    }\n",
              "</style>\n",
              "<table border=\"1\" class=\"dataframe\">\n",
              "  <thead>\n",
              "    <tr style=\"text-align: right;\">\n",
              "      <th></th>\n",
              "      <th>time</th>\n",
              "      <th>latitude</th>\n",
              "      <th>longitude</th>\n",
              "      <th>depth</th>\n",
              "      <th>mag</th>\n",
              "      <th>magType</th>\n",
              "      <th>nst</th>\n",
              "      <th>gap</th>\n",
              "      <th>dmin</th>\n",
              "      <th>rms</th>\n",
              "      <th>...</th>\n",
              "      <th>updated</th>\n",
              "      <th>place</th>\n",
              "      <th>type</th>\n",
              "      <th>horizontalError</th>\n",
              "      <th>depthError</th>\n",
              "      <th>magError</th>\n",
              "      <th>magNst</th>\n",
              "      <th>status</th>\n",
              "      <th>locationSource</th>\n",
              "      <th>magSource</th>\n",
              "    </tr>\n",
              "  </thead>\n",
              "  <tbody>\n",
              "    <tr>\n",
              "      <th>0</th>\n",
              "      <td>2021-05-02T20:49:43.322Z</td>\n",
              "      <td>5.3234</td>\n",
              "      <td>94.6170</td>\n",
              "      <td>63.97</td>\n",
              "      <td>5.0</td>\n",
              "      <td>mb</td>\n",
              "      <td>NaN</td>\n",
              "      <td>132</td>\n",
              "      <td>2.322</td>\n",
              "      <td>0.87</td>\n",
              "      <td>...</td>\n",
              "      <td>2021-05-02T21:02:32.040Z</td>\n",
              "      <td>82 km WSW of Banda Aceh, Indonesia</td>\n",
              "      <td>earthquake</td>\n",
              "      <td>9.6</td>\n",
              "      <td>7.6</td>\n",
              "      <td>0.099</td>\n",
              "      <td>32</td>\n",
              "      <td>reviewed</td>\n",
              "      <td>us</td>\n",
              "      <td>us</td>\n",
              "    </tr>\n",
              "    <tr>\n",
              "      <th>1</th>\n",
              "      <td>2021-05-02T13:02:17.751Z</td>\n",
              "      <td>4.0461</td>\n",
              "      <td>95.7566</td>\n",
              "      <td>50.03</td>\n",
              "      <td>4.6</td>\n",
              "      <td>mb</td>\n",
              "      <td>NaN</td>\n",
              "      <td>129</td>\n",
              "      <td>1.669</td>\n",
              "      <td>0.86</td>\n",
              "      <td>...</td>\n",
              "      <td>2021-05-09T13:22:24.040Z</td>\n",
              "      <td>42 km WSW of Meulaboh, Indonesia</td>\n",
              "      <td>earthquake</td>\n",
              "      <td>7.6</td>\n",
              "      <td>8.2</td>\n",
              "      <td>0.136</td>\n",
              "      <td>16</td>\n",
              "      <td>reviewed</td>\n",
              "      <td>us</td>\n",
              "      <td>us</td>\n",
              "    </tr>\n",
              "    <tr>\n",
              "      <th>2</th>\n",
              "      <td>2021-04-17T01:04:53.776Z</td>\n",
              "      <td>5.1158</td>\n",
              "      <td>95.4508</td>\n",
              "      <td>100.74</td>\n",
              "      <td>5.0</td>\n",
              "      <td>mww</td>\n",
              "      <td>NaN</td>\n",
              "      <td>50</td>\n",
              "      <td>1.494</td>\n",
              "      <td>1.13</td>\n",
              "      <td>...</td>\n",
              "      <td>2021-04-17T02:23:46.858Z</td>\n",
              "      <td>48 km SSE of Banda Aceh, Indonesia</td>\n",
              "      <td>earthquake</td>\n",
              "      <td>8.2</td>\n",
              "      <td>6.3</td>\n",
              "      <td>0.098</td>\n",
              "      <td>10</td>\n",
              "      <td>reviewed</td>\n",
              "      <td>us</td>\n",
              "      <td>us</td>\n",
              "    </tr>\n",
              "    <tr>\n",
              "      <th>3</th>\n",
              "      <td>2021-04-09T15:14:31.108Z</td>\n",
              "      <td>4.8116</td>\n",
              "      <td>96.2611</td>\n",
              "      <td>27.57</td>\n",
              "      <td>4.3</td>\n",
              "      <td>mb</td>\n",
              "      <td>NaN</td>\n",
              "      <td>167</td>\n",
              "      <td>0.799</td>\n",
              "      <td>1.01</td>\n",
              "      <td>...</td>\n",
              "      <td>2021-04-25T16:21:42.040Z</td>\n",
              "      <td>44 km S of Reuleuet, Indonesia</td>\n",
              "      <td>earthquake</td>\n",
              "      <td>5.9</td>\n",
              "      <td>5.9</td>\n",
              "      <td>0.153</td>\n",
              "      <td>14</td>\n",
              "      <td>reviewed</td>\n",
              "      <td>us</td>\n",
              "      <td>us</td>\n",
              "    </tr>\n",
              "    <tr>\n",
              "      <th>4</th>\n",
              "      <td>2021-04-09T08:08:58.946Z</td>\n",
              "      <td>3.0723</td>\n",
              "      <td>96.3738</td>\n",
              "      <td>55.17</td>\n",
              "      <td>4.2</td>\n",
              "      <td>mb</td>\n",
              "      <td>NaN</td>\n",
              "      <td>173</td>\n",
              "      <td>2.127</td>\n",
              "      <td>0.48</td>\n",
              "      <td>...</td>\n",
              "      <td>2021-04-23T04:41:16.040Z</td>\n",
              "      <td>65 km N of Sinabang, Indonesia</td>\n",
              "      <td>earthquake</td>\n",
              "      <td>7.4</td>\n",
              "      <td>9.2</td>\n",
              "      <td>0.121</td>\n",
              "      <td>19</td>\n",
              "      <td>reviewed</td>\n",
              "      <td>us</td>\n",
              "      <td>us</td>\n",
              "    </tr>\n",
              "    <tr>\n",
              "      <th>5</th>\n",
              "      <td>2021-04-08T17:40:42.267Z</td>\n",
              "      <td>3.7847</td>\n",
              "      <td>95.7753</td>\n",
              "      <td>66.13</td>\n",
              "      <td>4.4</td>\n",
              "      <td>mb</td>\n",
              "      <td>NaN</td>\n",
              "      <td>95</td>\n",
              "      <td>1.850</td>\n",
              "      <td>0.82</td>\n",
              "      <td>...</td>\n",
              "      <td>2021-05-05T14:02:32.040Z</td>\n",
              "      <td>55 km SW of Meulaboh, Indonesia</td>\n",
              "      <td>earthquake</td>\n",
              "      <td>7.9</td>\n",
              "      <td>8.3</td>\n",
              "      <td>0.102</td>\n",
              "      <td>28</td>\n",
              "      <td>reviewed</td>\n",
              "      <td>us</td>\n",
              "      <td>us</td>\n",
              "    </tr>\n",
              "    <tr>\n",
              "      <th>6</th>\n",
              "      <td>2021-04-06T02:36:30.481Z</td>\n",
              "      <td>4.2645</td>\n",
              "      <td>96.0982</td>\n",
              "      <td>67.22</td>\n",
              "      <td>4.0</td>\n",
              "      <td>mb</td>\n",
              "      <td>NaN</td>\n",
              "      <td>178</td>\n",
              "      <td>1.278</td>\n",
              "      <td>0.58</td>\n",
              "      <td>...</td>\n",
              "      <td>2021-04-20T03:21:44.040Z</td>\n",
              "      <td>13 km NNW of Meulaboh, Indonesia</td>\n",
              "      <td>earthquake</td>\n",
              "      <td>7.0</td>\n",
              "      <td>9.7</td>\n",
              "      <td>0.144</td>\n",
              "      <td>13</td>\n",
              "      <td>reviewed</td>\n",
              "      <td>us</td>\n",
              "      <td>us</td>\n",
              "    </tr>\n",
              "    <tr>\n",
              "      <th>7</th>\n",
              "      <td>2021-03-24T06:44:29.347Z</td>\n",
              "      <td>5.1787</td>\n",
              "      <td>94.3998</td>\n",
              "      <td>54.68</td>\n",
              "      <td>4.4</td>\n",
              "      <td>mb</td>\n",
              "      <td>NaN</td>\n",
              "      <td>98</td>\n",
              "      <td>2.537</td>\n",
              "      <td>0.91</td>\n",
              "      <td>...</td>\n",
              "      <td>2021-04-16T12:30:49.040Z</td>\n",
              "      <td>110 km WSW of Banda Aceh, Indonesia</td>\n",
              "      <td>earthquake</td>\n",
              "      <td>10.3</td>\n",
              "      <td>8.4</td>\n",
              "      <td>0.148</td>\n",
              "      <td>13</td>\n",
              "      <td>reviewed</td>\n",
              "      <td>us</td>\n",
              "      <td>us</td>\n",
              "    </tr>\n",
              "    <tr>\n",
              "      <th>8</th>\n",
              "      <td>2021-03-16T15:01:32.010Z</td>\n",
              "      <td>4.2565</td>\n",
              "      <td>97.5425</td>\n",
              "      <td>193.78</td>\n",
              "      <td>4.4</td>\n",
              "      <td>mb</td>\n",
              "      <td>NaN</td>\n",
              "      <td>98</td>\n",
              "      <td>1.133</td>\n",
              "      <td>0.75</td>\n",
              "      <td>...</td>\n",
              "      <td>2021-04-21T13:17:34.040Z</td>\n",
              "      <td>52 km WSW of Langsa, Indonesia</td>\n",
              "      <td>earthquake</td>\n",
              "      <td>4.3</td>\n",
              "      <td>6.9</td>\n",
              "      <td>0.139</td>\n",
              "      <td>15</td>\n",
              "      <td>reviewed</td>\n",
              "      <td>us</td>\n",
              "      <td>us</td>\n",
              "    </tr>\n",
              "    <tr>\n",
              "      <th>9</th>\n",
              "      <td>2021-03-04T23:36:58.479Z</td>\n",
              "      <td>5.0051</td>\n",
              "      <td>96.0004</td>\n",
              "      <td>10.00</td>\n",
              "      <td>4.5</td>\n",
              "      <td>mb</td>\n",
              "      <td>NaN</td>\n",
              "      <td>174</td>\n",
              "      <td>0.968</td>\n",
              "      <td>0.97</td>\n",
              "      <td>...</td>\n",
              "      <td>2021-05-13T22:45:52.040Z</td>\n",
              "      <td>39 km SW of Reuleuet, Indonesia</td>\n",
              "      <td>earthquake</td>\n",
              "      <td>4.6</td>\n",
              "      <td>1.9</td>\n",
              "      <td>0.145</td>\n",
              "      <td>14</td>\n",
              "      <td>reviewed</td>\n",
              "      <td>us</td>\n",
              "      <td>us</td>\n",
              "    </tr>\n",
              "    <tr>\n",
              "      <th>10</th>\n",
              "      <td>2021-02-11T15:35:10.916Z</td>\n",
              "      <td>3.5719</td>\n",
              "      <td>96.8983</td>\n",
              "      <td>95.16</td>\n",
              "      <td>4.4</td>\n",
              "      <td>mb</td>\n",
              "      <td>NaN</td>\n",
              "      <td>155</td>\n",
              "      <td>1.646</td>\n",
              "      <td>0.64</td>\n",
              "      <td>...</td>\n",
              "      <td>2021-04-22T21:53:32.040Z</td>\n",
              "      <td>106 km SE of Meulaboh, Indonesia</td>\n",
              "      <td>earthquake</td>\n",
              "      <td>6.8</td>\n",
              "      <td>7.6</td>\n",
              "      <td>0.134</td>\n",
              "      <td>19</td>\n",
              "      <td>reviewed</td>\n",
              "      <td>us</td>\n",
              "      <td>us</td>\n",
              "    </tr>\n",
              "    <tr>\n",
              "      <th>11</th>\n",
              "      <td>2021-01-30T09:06:44.294Z</td>\n",
              "      <td>4.6586</td>\n",
              "      <td>96.3415</td>\n",
              "      <td>10.00</td>\n",
              "      <td>4.3</td>\n",
              "      <td>mb</td>\n",
              "      <td>NaN</td>\n",
              "      <td>152</td>\n",
              "      <td>0.827</td>\n",
              "      <td>0.41</td>\n",
              "      <td>...</td>\n",
              "      <td>2021-04-16T19:03:39.040Z</td>\n",
              "      <td>61 km NNE of Meulaboh, Indonesia</td>\n",
              "      <td>earthquake</td>\n",
              "      <td>7.1</td>\n",
              "      <td>1.9</td>\n",
              "      <td>0.142</td>\n",
              "      <td>14</td>\n",
              "      <td>reviewed</td>\n",
              "      <td>us</td>\n",
              "      <td>us</td>\n",
              "    </tr>\n",
              "    <tr>\n",
              "      <th>12</th>\n",
              "      <td>2021-01-26T03:36:36.765Z</td>\n",
              "      <td>4.8138</td>\n",
              "      <td>94.3724</td>\n",
              "      <td>35.00</td>\n",
              "      <td>4.2</td>\n",
              "      <td>mb</td>\n",
              "      <td>NaN</td>\n",
              "      <td>194</td>\n",
              "      <td>2.598</td>\n",
              "      <td>0.81</td>\n",
              "      <td>...</td>\n",
              "      <td>2021-04-13T17:04:06.040Z</td>\n",
              "      <td>off the west coast of northern Sumatra</td>\n",
              "      <td>earthquake</td>\n",
              "      <td>8.1</td>\n",
              "      <td>2.0</td>\n",
              "      <td>0.153</td>\n",
              "      <td>12</td>\n",
              "      <td>reviewed</td>\n",
              "      <td>us</td>\n",
              "      <td>us</td>\n",
              "    </tr>\n",
              "    <tr>\n",
              "      <th>13</th>\n",
              "      <td>2021-01-12T04:50:54.625Z</td>\n",
              "      <td>3.8565</td>\n",
              "      <td>95.8590</td>\n",
              "      <td>54.96</td>\n",
              "      <td>4.3</td>\n",
              "      <td>mb</td>\n",
              "      <td>NaN</td>\n",
              "      <td>96</td>\n",
              "      <td>1.742</td>\n",
              "      <td>0.36</td>\n",
              "      <td>...</td>\n",
              "      <td>2021-03-20T21:24:34.040Z</td>\n",
              "      <td>43 km SW of Meulaboh, Indonesia</td>\n",
              "      <td>earthquake</td>\n",
              "      <td>10.1</td>\n",
              "      <td>9.1</td>\n",
              "      <td>0.154</td>\n",
              "      <td>12</td>\n",
              "      <td>reviewed</td>\n",
              "      <td>us</td>\n",
              "      <td>us</td>\n",
              "    </tr>\n",
              "    <tr>\n",
              "      <th>14</th>\n",
              "      <td>2021-01-08T23:17:13.343Z</td>\n",
              "      <td>5.1995</td>\n",
              "      <td>94.7194</td>\n",
              "      <td>61.29</td>\n",
              "      <td>4.2</td>\n",
              "      <td>mb</td>\n",
              "      <td>NaN</td>\n",
              "      <td>168</td>\n",
              "      <td>2.218</td>\n",
              "      <td>0.54</td>\n",
              "      <td>...</td>\n",
              "      <td>2021-03-20T21:23:00.040Z</td>\n",
              "      <td>77 km WSW of Banda Aceh, Indonesia</td>\n",
              "      <td>earthquake</td>\n",
              "      <td>12.1</td>\n",
              "      <td>6.5</td>\n",
              "      <td>0.186</td>\n",
              "      <td>8</td>\n",
              "      <td>reviewed</td>\n",
              "      <td>us</td>\n",
              "      <td>us</td>\n",
              "    </tr>\n",
              "    <tr>\n",
              "      <th>15</th>\n",
              "      <td>2020-12-16T23:35:53.610Z</td>\n",
              "      <td>4.1091</td>\n",
              "      <td>96.7993</td>\n",
              "      <td>10.00</td>\n",
              "      <td>4.3</td>\n",
              "      <td>mb</td>\n",
              "      <td>NaN</td>\n",
              "      <td>117</td>\n",
              "      <td>1.122</td>\n",
              "      <td>0.91</td>\n",
              "      <td>...</td>\n",
              "      <td>2021-02-27T23:25:55.040Z</td>\n",
              "      <td>74 km E of Meulaboh, Indonesia</td>\n",
              "      <td>earthquake</td>\n",
              "      <td>5.5</td>\n",
              "      <td>1.7</td>\n",
              "      <td>0.133</td>\n",
              "      <td>16</td>\n",
              "      <td>reviewed</td>\n",
              "      <td>us</td>\n",
              "      <td>us</td>\n",
              "    </tr>\n",
              "    <tr>\n",
              "      <th>16</th>\n",
              "      <td>2020-12-14T14:02:43.159Z</td>\n",
              "      <td>4.4477</td>\n",
              "      <td>96.3535</td>\n",
              "      <td>6.23</td>\n",
              "      <td>4.9</td>\n",
              "      <td>mb</td>\n",
              "      <td>NaN</td>\n",
              "      <td>144</td>\n",
              "      <td>0.975</td>\n",
              "      <td>0.42</td>\n",
              "      <td>...</td>\n",
              "      <td>2021-02-20T16:12:40.040Z</td>\n",
              "      <td>41 km NE of Meulaboh, Indonesia</td>\n",
              "      <td>earthquake</td>\n",
              "      <td>8.3</td>\n",
              "      <td>6.8</td>\n",
              "      <td>0.177</td>\n",
              "      <td>14</td>\n",
              "      <td>reviewed</td>\n",
              "      <td>us</td>\n",
              "      <td>us</td>\n",
              "    </tr>\n",
              "    <tr>\n",
              "      <th>17</th>\n",
              "      <td>2020-12-03T03:50:58.767Z</td>\n",
              "      <td>4.5375</td>\n",
              "      <td>97.7230</td>\n",
              "      <td>10.00</td>\n",
              "      <td>4.8</td>\n",
              "      <td>mb</td>\n",
              "      <td>NaN</td>\n",
              "      <td>32</td>\n",
              "      <td>1.034</td>\n",
              "      <td>0.85</td>\n",
              "      <td>...</td>\n",
              "      <td>2021-02-12T22:38:30.040Z</td>\n",
              "      <td>28 km WNW of Langsa, Indonesia</td>\n",
              "      <td>earthquake</td>\n",
              "      <td>5.1</td>\n",
              "      <td>1.7</td>\n",
              "      <td>0.077</td>\n",
              "      <td>53</td>\n",
              "      <td>reviewed</td>\n",
              "      <td>us</td>\n",
              "      <td>us</td>\n",
              "    </tr>\n",
              "    <tr>\n",
              "      <th>18</th>\n",
              "      <td>2020-11-30T17:14:12.006Z</td>\n",
              "      <td>3.0670</td>\n",
              "      <td>96.1349</td>\n",
              "      <td>27.89</td>\n",
              "      <td>5.0</td>\n",
              "      <td>mb</td>\n",
              "      <td>NaN</td>\n",
              "      <td>59</td>\n",
              "      <td>2.267</td>\n",
              "      <td>0.75</td>\n",
              "      <td>...</td>\n",
              "      <td>2021-02-06T18:29:19.040Z</td>\n",
              "      <td>70 km NNW of Sinabang, Indonesia</td>\n",
              "      <td>earthquake</td>\n",
              "      <td>7.2</td>\n",
              "      <td>4.9</td>\n",
              "      <td>0.067</td>\n",
              "      <td>71</td>\n",
              "      <td>reviewed</td>\n",
              "      <td>us</td>\n",
              "      <td>us</td>\n",
              "    </tr>\n",
              "    <tr>\n",
              "      <th>19</th>\n",
              "      <td>2020-11-28T23:47:33.748Z</td>\n",
              "      <td>5.3123</td>\n",
              "      <td>94.5032</td>\n",
              "      <td>64.82</td>\n",
              "      <td>4.9</td>\n",
              "      <td>mb</td>\n",
              "      <td>NaN</td>\n",
              "      <td>137</td>\n",
              "      <td>2.435</td>\n",
              "      <td>0.72</td>\n",
              "      <td>...</td>\n",
              "      <td>2021-02-06T18:28:53.040Z</td>\n",
              "      <td>95 km WSW of Banda Aceh, Indonesia</td>\n",
              "      <td>earthquake</td>\n",
              "      <td>8.7</td>\n",
              "      <td>8.0</td>\n",
              "      <td>0.080</td>\n",
              "      <td>49</td>\n",
              "      <td>reviewed</td>\n",
              "      <td>us</td>\n",
              "      <td>us</td>\n",
              "    </tr>\n",
              "    <tr>\n",
              "      <th>20</th>\n",
              "      <td>2020-11-13T18:33:07.130Z</td>\n",
              "      <td>5.7913</td>\n",
              "      <td>95.5619</td>\n",
              "      <td>10.00</td>\n",
              "      <td>5.1</td>\n",
              "      <td>mww</td>\n",
              "      <td>NaN</td>\n",
              "      <td>43</td>\n",
              "      <td>1.487</td>\n",
              "      <td>1.10</td>\n",
              "      <td>...</td>\n",
              "      <td>2021-01-27T17:29:05.040Z</td>\n",
              "      <td>29 km ESE of Sabang, Indonesia</td>\n",
              "      <td>earthquake</td>\n",
              "      <td>7.2</td>\n",
              "      <td>1.8</td>\n",
              "      <td>0.075</td>\n",
              "      <td>17</td>\n",
              "      <td>reviewed</td>\n",
              "      <td>us</td>\n",
              "      <td>us</td>\n",
              "    </tr>\n",
              "    <tr>\n",
              "      <th>21</th>\n",
              "      <td>2020-10-26T12:06:08.133Z</td>\n",
              "      <td>3.3538</td>\n",
              "      <td>95.4990</td>\n",
              "      <td>35.00</td>\n",
              "      <td>4.1</td>\n",
              "      <td>mb</td>\n",
              "      <td>NaN</td>\n",
              "      <td>203</td>\n",
              "      <td>2.356</td>\n",
              "      <td>0.44</td>\n",
              "      <td>...</td>\n",
              "      <td>2021-01-09T20:05:42.040Z</td>\n",
              "      <td>111 km SW of Meulaboh, Indonesia</td>\n",
              "      <td>earthquake</td>\n",
              "      <td>6.1</td>\n",
              "      <td>2.0</td>\n",
              "      <td>0.174</td>\n",
              "      <td>9</td>\n",
              "      <td>reviewed</td>\n",
              "      <td>us</td>\n",
              "      <td>us</td>\n",
              "    </tr>\n",
              "    <tr>\n",
              "      <th>22</th>\n",
              "      <td>2020-10-15T04:59:52.829Z</td>\n",
              "      <td>3.9446</td>\n",
              "      <td>95.8698</td>\n",
              "      <td>48.83</td>\n",
              "      <td>4.9</td>\n",
              "      <td>mww</td>\n",
              "      <td>NaN</td>\n",
              "      <td>52</td>\n",
              "      <td>1.667</td>\n",
              "      <td>0.65</td>\n",
              "      <td>...</td>\n",
              "      <td>2020-12-29T23:07:22.040Z</td>\n",
              "      <td>36 km SW of Meulaboh, Indonesia</td>\n",
              "      <td>earthquake</td>\n",
              "      <td>7.7</td>\n",
              "      <td>5.3</td>\n",
              "      <td>0.098</td>\n",
              "      <td>10</td>\n",
              "      <td>reviewed</td>\n",
              "      <td>us</td>\n",
              "      <td>us</td>\n",
              "    </tr>\n",
              "    <tr>\n",
              "      <th>23</th>\n",
              "      <td>2020-10-11T11:09:24.305Z</td>\n",
              "      <td>4.5136</td>\n",
              "      <td>96.6797</td>\n",
              "      <td>154.36</td>\n",
              "      <td>4.7</td>\n",
              "      <td>mb</td>\n",
              "      <td>NaN</td>\n",
              "      <td>141</td>\n",
              "      <td>0.758</td>\n",
              "      <td>0.79</td>\n",
              "      <td>...</td>\n",
              "      <td>2020-12-19T17:22:45.040Z</td>\n",
              "      <td>73 km ENE of Meulaboh, Indonesia</td>\n",
              "      <td>earthquake</td>\n",
              "      <td>8.7</td>\n",
              "      <td>6.8</td>\n",
              "      <td>0.080</td>\n",
              "      <td>47</td>\n",
              "      <td>reviewed</td>\n",
              "      <td>us</td>\n",
              "      <td>us</td>\n",
              "    </tr>\n",
              "    <tr>\n",
              "      <th>24</th>\n",
              "      <td>2020-10-10T20:22:27.940Z</td>\n",
              "      <td>4.7367</td>\n",
              "      <td>95.6557</td>\n",
              "      <td>89.03</td>\n",
              "      <td>4.5</td>\n",
              "      <td>mb</td>\n",
              "      <td>NaN</td>\n",
              "      <td>130</td>\n",
              "      <td>1.376</td>\n",
              "      <td>0.88</td>\n",
              "      <td>...</td>\n",
              "      <td>2020-12-19T17:22:44.040Z</td>\n",
              "      <td>79 km SSW of Sigli, Indonesia</td>\n",
              "      <td>earthquake</td>\n",
              "      <td>7.1</td>\n",
              "      <td>6.3</td>\n",
              "      <td>0.066</td>\n",
              "      <td>67</td>\n",
              "      <td>reviewed</td>\n",
              "      <td>us</td>\n",
              "      <td>us</td>\n",
              "    </tr>\n",
              "    <tr>\n",
              "      <th>25</th>\n",
              "      <td>2020-09-30T18:44:29.341Z</td>\n",
              "      <td>3.6568</td>\n",
              "      <td>97.0207</td>\n",
              "      <td>54.08</td>\n",
              "      <td>4.4</td>\n",
              "      <td>mb</td>\n",
              "      <td>NaN</td>\n",
              "      <td>164</td>\n",
              "      <td>1.563</td>\n",
              "      <td>1.00</td>\n",
              "      <td>...</td>\n",
              "      <td>2020-12-12T22:28:24.040Z</td>\n",
              "      <td>112 km ESE of Meulaboh, Indonesia</td>\n",
              "      <td>earthquake</td>\n",
              "      <td>7.9</td>\n",
              "      <td>3.4</td>\n",
              "      <td>0.112</td>\n",
              "      <td>23</td>\n",
              "      <td>reviewed</td>\n",
              "      <td>us</td>\n",
              "      <td>us</td>\n",
              "    </tr>\n",
              "    <tr>\n",
              "      <th>26</th>\n",
              "      <td>2020-09-29T10:48:54.148Z</td>\n",
              "      <td>3.9044</td>\n",
              "      <td>97.6847</td>\n",
              "      <td>35.00</td>\n",
              "      <td>4.4</td>\n",
              "      <td>mb</td>\n",
              "      <td>NaN</td>\n",
              "      <td>114</td>\n",
              "      <td>1.507</td>\n",
              "      <td>0.60</td>\n",
              "      <td>...</td>\n",
              "      <td>2020-12-05T21:03:06.040Z</td>\n",
              "      <td>northern Sumatra, Indonesia</td>\n",
              "      <td>earthquake</td>\n",
              "      <td>3.4</td>\n",
              "      <td>1.9</td>\n",
              "      <td>0.105</td>\n",
              "      <td>26</td>\n",
              "      <td>reviewed</td>\n",
              "      <td>us</td>\n",
              "      <td>us</td>\n",
              "    </tr>\n",
              "    <tr>\n",
              "      <th>27</th>\n",
              "      <td>2020-09-29T03:00:39.159Z</td>\n",
              "      <td>3.0780</td>\n",
              "      <td>96.7648</td>\n",
              "      <td>35.00</td>\n",
              "      <td>4.2</td>\n",
              "      <td>mb</td>\n",
              "      <td>NaN</td>\n",
              "      <td>142</td>\n",
              "      <td>1.939</td>\n",
              "      <td>0.79</td>\n",
              "      <td>...</td>\n",
              "      <td>2020-12-05T21:03:11.040Z</td>\n",
              "      <td>northern Sumatra, Indonesia</td>\n",
              "      <td>earthquake</td>\n",
              "      <td>6.8</td>\n",
              "      <td>2.0</td>\n",
              "      <td>0.176</td>\n",
              "      <td>9</td>\n",
              "      <td>reviewed</td>\n",
              "      <td>us</td>\n",
              "      <td>us</td>\n",
              "    </tr>\n",
              "    <tr>\n",
              "      <th>28</th>\n",
              "      <td>2020-09-28T18:16:11.571Z</td>\n",
              "      <td>3.9397</td>\n",
              "      <td>97.6972</td>\n",
              "      <td>35.00</td>\n",
              "      <td>4.2</td>\n",
              "      <td>mb</td>\n",
              "      <td>NaN</td>\n",
              "      <td>72</td>\n",
              "      <td>1.482</td>\n",
              "      <td>1.08</td>\n",
              "      <td>...</td>\n",
              "      <td>2020-12-05T21:03:04.040Z</td>\n",
              "      <td>65 km W of Pangkalan Brandan, Indonesia</td>\n",
              "      <td>earthquake</td>\n",
              "      <td>4.4</td>\n",
              "      <td>2.0</td>\n",
              "      <td>0.102</td>\n",
              "      <td>27</td>\n",
              "      <td>reviewed</td>\n",
              "      <td>us</td>\n",
              "      <td>us</td>\n",
              "    </tr>\n",
              "    <tr>\n",
              "      <th>29</th>\n",
              "      <td>2020-09-24T09:34:06.486Z</td>\n",
              "      <td>5.2464</td>\n",
              "      <td>96.6839</td>\n",
              "      <td>218.55</td>\n",
              "      <td>4.1</td>\n",
              "      <td>mb</td>\n",
              "      <td>NaN</td>\n",
              "      <td>66</td>\n",
              "      <td>0.262</td>\n",
              "      <td>1.06</td>\n",
              "      <td>...</td>\n",
              "      <td>2020-12-05T21:03:08.040Z</td>\n",
              "      <td>5 km NNW of Bireun, Indonesia</td>\n",
              "      <td>earthquake</td>\n",
              "      <td>9.9</td>\n",
              "      <td>3.7</td>\n",
              "      <td>0.114</td>\n",
              "      <td>21</td>\n",
              "      <td>reviewed</td>\n",
              "      <td>us</td>\n",
              "      <td>us</td>\n",
              "    </tr>\n",
              "    <tr>\n",
              "      <th>30</th>\n",
              "      <td>2020-09-19T04:50:22.414Z</td>\n",
              "      <td>4.9746</td>\n",
              "      <td>96.4066</td>\n",
              "      <td>10.00</td>\n",
              "      <td>4.5</td>\n",
              "      <td>mb</td>\n",
              "      <td>NaN</td>\n",
              "      <td>69</td>\n",
              "      <td>0.594</td>\n",
              "      <td>1.25</td>\n",
              "      <td>...</td>\n",
              "      <td>2020-11-28T21:31:53.040Z</td>\n",
              "      <td>30 km SSE of Reuleuet, Indonesia</td>\n",
              "      <td>earthquake</td>\n",
              "      <td>7.4</td>\n",
              "      <td>1.9</td>\n",
              "      <td>0.171</td>\n",
              "      <td>10</td>\n",
              "      <td>reviewed</td>\n",
              "      <td>us</td>\n",
              "      <td>us</td>\n",
              "    </tr>\n",
              "    <tr>\n",
              "      <th>31</th>\n",
              "      <td>2020-09-18T10:15:20.553Z</td>\n",
              "      <td>5.2039</td>\n",
              "      <td>94.7511</td>\n",
              "      <td>76.44</td>\n",
              "      <td>4.5</td>\n",
              "      <td>mb</td>\n",
              "      <td>NaN</td>\n",
              "      <td>86</td>\n",
              "      <td>2.187</td>\n",
              "      <td>0.82</td>\n",
              "      <td>...</td>\n",
              "      <td>2020-11-28T21:31:51.040Z</td>\n",
              "      <td>74 km WSW of Banda Aceh, Indonesia</td>\n",
              "      <td>earthquake</td>\n",
              "      <td>5.0</td>\n",
              "      <td>6.9</td>\n",
              "      <td>0.093</td>\n",
              "      <td>34</td>\n",
              "      <td>reviewed</td>\n",
              "      <td>us</td>\n",
              "      <td>us</td>\n",
              "    </tr>\n",
              "    <tr>\n",
              "      <th>32</th>\n",
              "      <td>2020-09-13T18:28:52.194Z</td>\n",
              "      <td>4.2449</td>\n",
              "      <td>96.6838</td>\n",
              "      <td>121.54</td>\n",
              "      <td>5.0</td>\n",
              "      <td>mww</td>\n",
              "      <td>NaN</td>\n",
              "      <td>42</td>\n",
              "      <td>1.012</td>\n",
              "      <td>1.13</td>\n",
              "      <td>...</td>\n",
              "      <td>2020-11-21T20:10:40.040Z</td>\n",
              "      <td>62 km E of Meulaboh, Indonesia</td>\n",
              "      <td>earthquake</td>\n",
              "      <td>7.3</td>\n",
              "      <td>4.2</td>\n",
              "      <td>0.071</td>\n",
              "      <td>19</td>\n",
              "      <td>reviewed</td>\n",
              "      <td>us</td>\n",
              "      <td>us</td>\n",
              "    </tr>\n",
              "    <tr>\n",
              "      <th>33</th>\n",
              "      <td>2020-09-01T11:52:50.668Z</td>\n",
              "      <td>3.0422</td>\n",
              "      <td>95.7332</td>\n",
              "      <td>8.51</td>\n",
              "      <td>4.9</td>\n",
              "      <td>mb</td>\n",
              "      <td>NaN</td>\n",
              "      <td>117</td>\n",
              "      <td>2.486</td>\n",
              "      <td>0.48</td>\n",
              "      <td>...</td>\n",
              "      <td>2020-11-07T18:48:43.040Z</td>\n",
              "      <td>95 km NW of Sinabang, Indonesia</td>\n",
              "      <td>earthquake</td>\n",
              "      <td>4.9</td>\n",
              "      <td>4.5</td>\n",
              "      <td>0.079</td>\n",
              "      <td>50</td>\n",
              "      <td>reviewed</td>\n",
              "      <td>us</td>\n",
              "      <td>us</td>\n",
              "    </tr>\n",
              "    <tr>\n",
              "      <th>34</th>\n",
              "      <td>2020-08-20T13:53:52.144Z</td>\n",
              "      <td>4.8884</td>\n",
              "      <td>96.0874</td>\n",
              "      <td>10.00</td>\n",
              "      <td>4.4</td>\n",
              "      <td>mb</td>\n",
              "      <td>NaN</td>\n",
              "      <td>85</td>\n",
              "      <td>0.920</td>\n",
              "      <td>0.82</td>\n",
              "      <td>...</td>\n",
              "      <td>2020-10-31T19:06:11.040Z</td>\n",
              "      <td>42 km SSW of Reuleuet, Indonesia</td>\n",
              "      <td>earthquake</td>\n",
              "      <td>1.9</td>\n",
              "      <td>1.9</td>\n",
              "      <td>0.095</td>\n",
              "      <td>38</td>\n",
              "      <td>reviewed</td>\n",
              "      <td>us</td>\n",
              "      <td>us</td>\n",
              "    </tr>\n",
              "    <tr>\n",
              "      <th>35</th>\n",
              "      <td>2020-08-06T10:12:56.849Z</td>\n",
              "      <td>3.7417</td>\n",
              "      <td>95.6192</td>\n",
              "      <td>43.50</td>\n",
              "      <td>4.6</td>\n",
              "      <td>mb</td>\n",
              "      <td>NaN</td>\n",
              "      <td>51</td>\n",
              "      <td>1.983</td>\n",
              "      <td>0.77</td>\n",
              "      <td>...</td>\n",
              "      <td>2020-10-21T22:03:54.040Z</td>\n",
              "      <td>71 km SW of Meulaboh, Indonesia</td>\n",
              "      <td>earthquake</td>\n",
              "      <td>7.7</td>\n",
              "      <td>5.7</td>\n",
              "      <td>0.096</td>\n",
              "      <td>32</td>\n",
              "      <td>reviewed</td>\n",
              "      <td>us</td>\n",
              "      <td>us</td>\n",
              "    </tr>\n",
              "    <tr>\n",
              "      <th>36</th>\n",
              "      <td>2020-06-18T10:56:55.720Z</td>\n",
              "      <td>5.7719</td>\n",
              "      <td>95.2875</td>\n",
              "      <td>10.00</td>\n",
              "      <td>4.5</td>\n",
              "      <td>mb</td>\n",
              "      <td>NaN</td>\n",
              "      <td>150</td>\n",
              "      <td>1.738</td>\n",
              "      <td>1.22</td>\n",
              "      <td>...</td>\n",
              "      <td>2020-08-30T00:01:12.040Z</td>\n",
              "      <td>13 km SSW of Sabang, Indonesia</td>\n",
              "      <td>earthquake</td>\n",
              "      <td>10.9</td>\n",
              "      <td>1.9</td>\n",
              "      <td>0.156</td>\n",
              "      <td>15</td>\n",
              "      <td>reviewed</td>\n",
              "      <td>us</td>\n",
              "      <td>us</td>\n",
              "    </tr>\n",
              "    <tr>\n",
              "      <th>37</th>\n",
              "      <td>2020-06-10T04:23:22.554Z</td>\n",
              "      <td>3.5269</td>\n",
              "      <td>98.0192</td>\n",
              "      <td>140.62</td>\n",
              "      <td>4.3</td>\n",
              "      <td>mb</td>\n",
              "      <td>NaN</td>\n",
              "      <td>89</td>\n",
              "      <td>1.225</td>\n",
              "      <td>0.61</td>\n",
              "      <td>...</td>\n",
              "      <td>2020-08-22T19:14:58.040Z</td>\n",
              "      <td>52 km W of Binjai, Indonesia</td>\n",
              "      <td>earthquake</td>\n",
              "      <td>10.4</td>\n",
              "      <td>2.3</td>\n",
              "      <td>0.177</td>\n",
              "      <td>9</td>\n",
              "      <td>reviewed</td>\n",
              "      <td>us</td>\n",
              "      <td>us</td>\n",
              "    </tr>\n",
              "    <tr>\n",
              "      <th>38</th>\n",
              "      <td>2020-06-05T01:23:03.458Z</td>\n",
              "      <td>4.5025</td>\n",
              "      <td>95.1232</td>\n",
              "      <td>50.69</td>\n",
              "      <td>4.5</td>\n",
              "      <td>mb</td>\n",
              "      <td>NaN</td>\n",
              "      <td>139</td>\n",
              "      <td>1.955</td>\n",
              "      <td>0.87</td>\n",
              "      <td>...</td>\n",
              "      <td>2020-08-18T17:58:51.040Z</td>\n",
              "      <td>117 km SSW of Banda Aceh, Indonesia</td>\n",
              "      <td>earthquake</td>\n",
              "      <td>9.2</td>\n",
              "      <td>8.2</td>\n",
              "      <td>0.100</td>\n",
              "      <td>29</td>\n",
              "      <td>reviewed</td>\n",
              "      <td>us</td>\n",
              "      <td>us</td>\n",
              "    </tr>\n",
              "    <tr>\n",
              "      <th>39</th>\n",
              "      <td>2020-06-03T22:30:55.044Z</td>\n",
              "      <td>5.6736</td>\n",
              "      <td>95.1700</td>\n",
              "      <td>10.00</td>\n",
              "      <td>4.6</td>\n",
              "      <td>mb</td>\n",
              "      <td>NaN</td>\n",
              "      <td>87</td>\n",
              "      <td>1.823</td>\n",
              "      <td>0.56</td>\n",
              "      <td>...</td>\n",
              "      <td>2020-08-18T17:58:46.040Z</td>\n",
              "      <td>23 km NW of Banda Aceh, Indonesia</td>\n",
              "      <td>earthquake</td>\n",
              "      <td>7.9</td>\n",
              "      <td>1.9</td>\n",
              "      <td>0.076</td>\n",
              "      <td>52</td>\n",
              "      <td>reviewed</td>\n",
              "      <td>us</td>\n",
              "      <td>us</td>\n",
              "    </tr>\n",
              "    <tr>\n",
              "      <th>40</th>\n",
              "      <td>2020-05-25T10:08:11.583Z</td>\n",
              "      <td>4.9608</td>\n",
              "      <td>94.4496</td>\n",
              "      <td>48.36</td>\n",
              "      <td>4.5</td>\n",
              "      <td>mb</td>\n",
              "      <td>NaN</td>\n",
              "      <td>166</td>\n",
              "      <td>2.502</td>\n",
              "      <td>0.69</td>\n",
              "      <td>...</td>\n",
              "      <td>2020-08-08T18:17:58.040Z</td>\n",
              "      <td>117 km WSW of Banda Aceh, Indonesia</td>\n",
              "      <td>earthquake</td>\n",
              "      <td>10.7</td>\n",
              "      <td>8.2</td>\n",
              "      <td>0.128</td>\n",
              "      <td>18</td>\n",
              "      <td>reviewed</td>\n",
              "      <td>us</td>\n",
              "      <td>us</td>\n",
              "    </tr>\n",
              "  </tbody>\n",
              "</table>\n",
              "<p>41 rows × 22 columns</p>\n",
              "</div>"
            ],
            "text/plain": [
              "                        time  latitude  longitude   depth  mag magType  nst  \\\n",
              "0   2021-05-02T20:49:43.322Z    5.3234    94.6170   63.97  5.0      mb  NaN   \n",
              "1   2021-05-02T13:02:17.751Z    4.0461    95.7566   50.03  4.6      mb  NaN   \n",
              "2   2021-04-17T01:04:53.776Z    5.1158    95.4508  100.74  5.0     mww  NaN   \n",
              "3   2021-04-09T15:14:31.108Z    4.8116    96.2611   27.57  4.3      mb  NaN   \n",
              "4   2021-04-09T08:08:58.946Z    3.0723    96.3738   55.17  4.2      mb  NaN   \n",
              "5   2021-04-08T17:40:42.267Z    3.7847    95.7753   66.13  4.4      mb  NaN   \n",
              "6   2021-04-06T02:36:30.481Z    4.2645    96.0982   67.22  4.0      mb  NaN   \n",
              "7   2021-03-24T06:44:29.347Z    5.1787    94.3998   54.68  4.4      mb  NaN   \n",
              "8   2021-03-16T15:01:32.010Z    4.2565    97.5425  193.78  4.4      mb  NaN   \n",
              "9   2021-03-04T23:36:58.479Z    5.0051    96.0004   10.00  4.5      mb  NaN   \n",
              "10  2021-02-11T15:35:10.916Z    3.5719    96.8983   95.16  4.4      mb  NaN   \n",
              "11  2021-01-30T09:06:44.294Z    4.6586    96.3415   10.00  4.3      mb  NaN   \n",
              "12  2021-01-26T03:36:36.765Z    4.8138    94.3724   35.00  4.2      mb  NaN   \n",
              "13  2021-01-12T04:50:54.625Z    3.8565    95.8590   54.96  4.3      mb  NaN   \n",
              "14  2021-01-08T23:17:13.343Z    5.1995    94.7194   61.29  4.2      mb  NaN   \n",
              "15  2020-12-16T23:35:53.610Z    4.1091    96.7993   10.00  4.3      mb  NaN   \n",
              "16  2020-12-14T14:02:43.159Z    4.4477    96.3535    6.23  4.9      mb  NaN   \n",
              "17  2020-12-03T03:50:58.767Z    4.5375    97.7230   10.00  4.8      mb  NaN   \n",
              "18  2020-11-30T17:14:12.006Z    3.0670    96.1349   27.89  5.0      mb  NaN   \n",
              "19  2020-11-28T23:47:33.748Z    5.3123    94.5032   64.82  4.9      mb  NaN   \n",
              "20  2020-11-13T18:33:07.130Z    5.7913    95.5619   10.00  5.1     mww  NaN   \n",
              "21  2020-10-26T12:06:08.133Z    3.3538    95.4990   35.00  4.1      mb  NaN   \n",
              "22  2020-10-15T04:59:52.829Z    3.9446    95.8698   48.83  4.9     mww  NaN   \n",
              "23  2020-10-11T11:09:24.305Z    4.5136    96.6797  154.36  4.7      mb  NaN   \n",
              "24  2020-10-10T20:22:27.940Z    4.7367    95.6557   89.03  4.5      mb  NaN   \n",
              "25  2020-09-30T18:44:29.341Z    3.6568    97.0207   54.08  4.4      mb  NaN   \n",
              "26  2020-09-29T10:48:54.148Z    3.9044    97.6847   35.00  4.4      mb  NaN   \n",
              "27  2020-09-29T03:00:39.159Z    3.0780    96.7648   35.00  4.2      mb  NaN   \n",
              "28  2020-09-28T18:16:11.571Z    3.9397    97.6972   35.00  4.2      mb  NaN   \n",
              "29  2020-09-24T09:34:06.486Z    5.2464    96.6839  218.55  4.1      mb  NaN   \n",
              "30  2020-09-19T04:50:22.414Z    4.9746    96.4066   10.00  4.5      mb  NaN   \n",
              "31  2020-09-18T10:15:20.553Z    5.2039    94.7511   76.44  4.5      mb  NaN   \n",
              "32  2020-09-13T18:28:52.194Z    4.2449    96.6838  121.54  5.0     mww  NaN   \n",
              "33  2020-09-01T11:52:50.668Z    3.0422    95.7332    8.51  4.9      mb  NaN   \n",
              "34  2020-08-20T13:53:52.144Z    4.8884    96.0874   10.00  4.4      mb  NaN   \n",
              "35  2020-08-06T10:12:56.849Z    3.7417    95.6192   43.50  4.6      mb  NaN   \n",
              "36  2020-06-18T10:56:55.720Z    5.7719    95.2875   10.00  4.5      mb  NaN   \n",
              "37  2020-06-10T04:23:22.554Z    3.5269    98.0192  140.62  4.3      mb  NaN   \n",
              "38  2020-06-05T01:23:03.458Z    4.5025    95.1232   50.69  4.5      mb  NaN   \n",
              "39  2020-06-03T22:30:55.044Z    5.6736    95.1700   10.00  4.6      mb  NaN   \n",
              "40  2020-05-25T10:08:11.583Z    4.9608    94.4496   48.36  4.5      mb  NaN   \n",
              "\n",
              "    gap   dmin   rms  ...                   updated  \\\n",
              "0   132  2.322  0.87  ...  2021-05-02T21:02:32.040Z   \n",
              "1   129  1.669  0.86  ...  2021-05-09T13:22:24.040Z   \n",
              "2    50  1.494  1.13  ...  2021-04-17T02:23:46.858Z   \n",
              "3   167  0.799  1.01  ...  2021-04-25T16:21:42.040Z   \n",
              "4   173  2.127  0.48  ...  2021-04-23T04:41:16.040Z   \n",
              "5    95  1.850  0.82  ...  2021-05-05T14:02:32.040Z   \n",
              "6   178  1.278  0.58  ...  2021-04-20T03:21:44.040Z   \n",
              "7    98  2.537  0.91  ...  2021-04-16T12:30:49.040Z   \n",
              "8    98  1.133  0.75  ...  2021-04-21T13:17:34.040Z   \n",
              "9   174  0.968  0.97  ...  2021-05-13T22:45:52.040Z   \n",
              "10  155  1.646  0.64  ...  2021-04-22T21:53:32.040Z   \n",
              "11  152  0.827  0.41  ...  2021-04-16T19:03:39.040Z   \n",
              "12  194  2.598  0.81  ...  2021-04-13T17:04:06.040Z   \n",
              "13   96  1.742  0.36  ...  2021-03-20T21:24:34.040Z   \n",
              "14  168  2.218  0.54  ...  2021-03-20T21:23:00.040Z   \n",
              "15  117  1.122  0.91  ...  2021-02-27T23:25:55.040Z   \n",
              "16  144  0.975  0.42  ...  2021-02-20T16:12:40.040Z   \n",
              "17   32  1.034  0.85  ...  2021-02-12T22:38:30.040Z   \n",
              "18   59  2.267  0.75  ...  2021-02-06T18:29:19.040Z   \n",
              "19  137  2.435  0.72  ...  2021-02-06T18:28:53.040Z   \n",
              "20   43  1.487  1.10  ...  2021-01-27T17:29:05.040Z   \n",
              "21  203  2.356  0.44  ...  2021-01-09T20:05:42.040Z   \n",
              "22   52  1.667  0.65  ...  2020-12-29T23:07:22.040Z   \n",
              "23  141  0.758  0.79  ...  2020-12-19T17:22:45.040Z   \n",
              "24  130  1.376  0.88  ...  2020-12-19T17:22:44.040Z   \n",
              "25  164  1.563  1.00  ...  2020-12-12T22:28:24.040Z   \n",
              "26  114  1.507  0.60  ...  2020-12-05T21:03:06.040Z   \n",
              "27  142  1.939  0.79  ...  2020-12-05T21:03:11.040Z   \n",
              "28   72  1.482  1.08  ...  2020-12-05T21:03:04.040Z   \n",
              "29   66  0.262  1.06  ...  2020-12-05T21:03:08.040Z   \n",
              "30   69  0.594  1.25  ...  2020-11-28T21:31:53.040Z   \n",
              "31   86  2.187  0.82  ...  2020-11-28T21:31:51.040Z   \n",
              "32   42  1.012  1.13  ...  2020-11-21T20:10:40.040Z   \n",
              "33  117  2.486  0.48  ...  2020-11-07T18:48:43.040Z   \n",
              "34   85  0.920  0.82  ...  2020-10-31T19:06:11.040Z   \n",
              "35   51  1.983  0.77  ...  2020-10-21T22:03:54.040Z   \n",
              "36  150  1.738  1.22  ...  2020-08-30T00:01:12.040Z   \n",
              "37   89  1.225  0.61  ...  2020-08-22T19:14:58.040Z   \n",
              "38  139  1.955  0.87  ...  2020-08-18T17:58:51.040Z   \n",
              "39   87  1.823  0.56  ...  2020-08-18T17:58:46.040Z   \n",
              "40  166  2.502  0.69  ...  2020-08-08T18:17:58.040Z   \n",
              "\n",
              "                                      place        type horizontalError  \\\n",
              "0        82 km WSW of Banda Aceh, Indonesia  earthquake             9.6   \n",
              "1          42 km WSW of Meulaboh, Indonesia  earthquake             7.6   \n",
              "2        48 km SSE of Banda Aceh, Indonesia  earthquake             8.2   \n",
              "3            44 km S of Reuleuet, Indonesia  earthquake             5.9   \n",
              "4            65 km N of Sinabang, Indonesia  earthquake             7.4   \n",
              "5           55 km SW of Meulaboh, Indonesia  earthquake             7.9   \n",
              "6          13 km NNW of Meulaboh, Indonesia  earthquake             7.0   \n",
              "7       110 km WSW of Banda Aceh, Indonesia  earthquake            10.3   \n",
              "8            52 km WSW of Langsa, Indonesia  earthquake             4.3   \n",
              "9           39 km SW of Reuleuet, Indonesia  earthquake             4.6   \n",
              "10         106 km SE of Meulaboh, Indonesia  earthquake             6.8   \n",
              "11         61 km NNE of Meulaboh, Indonesia  earthquake             7.1   \n",
              "12   off the west coast of northern Sumatra  earthquake             8.1   \n",
              "13          43 km SW of Meulaboh, Indonesia  earthquake            10.1   \n",
              "14       77 km WSW of Banda Aceh, Indonesia  earthquake            12.1   \n",
              "15           74 km E of Meulaboh, Indonesia  earthquake             5.5   \n",
              "16          41 km NE of Meulaboh, Indonesia  earthquake             8.3   \n",
              "17           28 km WNW of Langsa, Indonesia  earthquake             5.1   \n",
              "18         70 km NNW of Sinabang, Indonesia  earthquake             7.2   \n",
              "19       95 km WSW of Banda Aceh, Indonesia  earthquake             8.7   \n",
              "20           29 km ESE of Sabang, Indonesia  earthquake             7.2   \n",
              "21         111 km SW of Meulaboh, Indonesia  earthquake             6.1   \n",
              "22          36 km SW of Meulaboh, Indonesia  earthquake             7.7   \n",
              "23         73 km ENE of Meulaboh, Indonesia  earthquake             8.7   \n",
              "24            79 km SSW of Sigli, Indonesia  earthquake             7.1   \n",
              "25        112 km ESE of Meulaboh, Indonesia  earthquake             7.9   \n",
              "26              northern Sumatra, Indonesia  earthquake             3.4   \n",
              "27              northern Sumatra, Indonesia  earthquake             6.8   \n",
              "28  65 km W of Pangkalan Brandan, Indonesia  earthquake             4.4   \n",
              "29            5 km NNW of Bireun, Indonesia  earthquake             9.9   \n",
              "30         30 km SSE of Reuleuet, Indonesia  earthquake             7.4   \n",
              "31       74 km WSW of Banda Aceh, Indonesia  earthquake             5.0   \n",
              "32           62 km E of Meulaboh, Indonesia  earthquake             7.3   \n",
              "33          95 km NW of Sinabang, Indonesia  earthquake             4.9   \n",
              "34         42 km SSW of Reuleuet, Indonesia  earthquake             1.9   \n",
              "35          71 km SW of Meulaboh, Indonesia  earthquake             7.7   \n",
              "36           13 km SSW of Sabang, Indonesia  earthquake            10.9   \n",
              "37             52 km W of Binjai, Indonesia  earthquake            10.4   \n",
              "38      117 km SSW of Banda Aceh, Indonesia  earthquake             9.2   \n",
              "39        23 km NW of Banda Aceh, Indonesia  earthquake             7.9   \n",
              "40      117 km WSW of Banda Aceh, Indonesia  earthquake            10.7   \n",
              "\n",
              "   depthError  magError  magNst    status  locationSource magSource  \n",
              "0         7.6     0.099      32  reviewed              us        us  \n",
              "1         8.2     0.136      16  reviewed              us        us  \n",
              "2         6.3     0.098      10  reviewed              us        us  \n",
              "3         5.9     0.153      14  reviewed              us        us  \n",
              "4         9.2     0.121      19  reviewed              us        us  \n",
              "5         8.3     0.102      28  reviewed              us        us  \n",
              "6         9.7     0.144      13  reviewed              us        us  \n",
              "7         8.4     0.148      13  reviewed              us        us  \n",
              "8         6.9     0.139      15  reviewed              us        us  \n",
              "9         1.9     0.145      14  reviewed              us        us  \n",
              "10        7.6     0.134      19  reviewed              us        us  \n",
              "11        1.9     0.142      14  reviewed              us        us  \n",
              "12        2.0     0.153      12  reviewed              us        us  \n",
              "13        9.1     0.154      12  reviewed              us        us  \n",
              "14        6.5     0.186       8  reviewed              us        us  \n",
              "15        1.7     0.133      16  reviewed              us        us  \n",
              "16        6.8     0.177      14  reviewed              us        us  \n",
              "17        1.7     0.077      53  reviewed              us        us  \n",
              "18        4.9     0.067      71  reviewed              us        us  \n",
              "19        8.0     0.080      49  reviewed              us        us  \n",
              "20        1.8     0.075      17  reviewed              us        us  \n",
              "21        2.0     0.174       9  reviewed              us        us  \n",
              "22        5.3     0.098      10  reviewed              us        us  \n",
              "23        6.8     0.080      47  reviewed              us        us  \n",
              "24        6.3     0.066      67  reviewed              us        us  \n",
              "25        3.4     0.112      23  reviewed              us        us  \n",
              "26        1.9     0.105      26  reviewed              us        us  \n",
              "27        2.0     0.176       9  reviewed              us        us  \n",
              "28        2.0     0.102      27  reviewed              us        us  \n",
              "29        3.7     0.114      21  reviewed              us        us  \n",
              "30        1.9     0.171      10  reviewed              us        us  \n",
              "31        6.9     0.093      34  reviewed              us        us  \n",
              "32        4.2     0.071      19  reviewed              us        us  \n",
              "33        4.5     0.079      50  reviewed              us        us  \n",
              "34        1.9     0.095      38  reviewed              us        us  \n",
              "35        5.7     0.096      32  reviewed              us        us  \n",
              "36        1.9     0.156      15  reviewed              us        us  \n",
              "37        2.3     0.177       9  reviewed              us        us  \n",
              "38        8.2     0.100      29  reviewed              us        us  \n",
              "39        1.9     0.076      52  reviewed              us        us  \n",
              "40        8.2     0.128      18  reviewed              us        us  \n",
              "\n",
              "[41 rows x 22 columns]"
            ]
          },
          "metadata": {
            "tags": []
          },
          "execution_count": 326
        }
      ]
    },
    {
      "cell_type": "markdown",
      "metadata": {
        "id": "07885438"
      },
      "source": [
        "We can show the first-five of data by using `[variable].head()` as follows"
      ],
      "id": "07885438"
    },
    {
      "cell_type": "code",
      "metadata": {
        "scrolled": true,
        "id": "8c1a8d6f",
        "outputId": "843b9402-9485-4140-fac8-4087db37064d"
      },
      "source": [
        "data.head()"
      ],
      "id": "8c1a8d6f",
      "execution_count": null,
      "outputs": [
        {
          "output_type": "execute_result",
          "data": {
            "text/html": [
              "<div>\n",
              "<style scoped>\n",
              "    .dataframe tbody tr th:only-of-type {\n",
              "        vertical-align: middle;\n",
              "    }\n",
              "\n",
              "    .dataframe tbody tr th {\n",
              "        vertical-align: top;\n",
              "    }\n",
              "\n",
              "    .dataframe thead th {\n",
              "        text-align: right;\n",
              "    }\n",
              "</style>\n",
              "<table border=\"1\" class=\"dataframe\">\n",
              "  <thead>\n",
              "    <tr style=\"text-align: right;\">\n",
              "      <th></th>\n",
              "      <th>time</th>\n",
              "      <th>latitude</th>\n",
              "      <th>longitude</th>\n",
              "      <th>depth</th>\n",
              "      <th>mag</th>\n",
              "      <th>magType</th>\n",
              "      <th>nst</th>\n",
              "      <th>gap</th>\n",
              "      <th>dmin</th>\n",
              "      <th>rms</th>\n",
              "      <th>...</th>\n",
              "      <th>updated</th>\n",
              "      <th>place</th>\n",
              "      <th>type</th>\n",
              "      <th>horizontalError</th>\n",
              "      <th>depthError</th>\n",
              "      <th>magError</th>\n",
              "      <th>magNst</th>\n",
              "      <th>status</th>\n",
              "      <th>locationSource</th>\n",
              "      <th>magSource</th>\n",
              "    </tr>\n",
              "  </thead>\n",
              "  <tbody>\n",
              "    <tr>\n",
              "      <th>0</th>\n",
              "      <td>2021-05-02T20:49:43.322Z</td>\n",
              "      <td>5.3234</td>\n",
              "      <td>94.6170</td>\n",
              "      <td>63.97</td>\n",
              "      <td>5.0</td>\n",
              "      <td>mb</td>\n",
              "      <td>NaN</td>\n",
              "      <td>132</td>\n",
              "      <td>2.322</td>\n",
              "      <td>0.87</td>\n",
              "      <td>...</td>\n",
              "      <td>2021-05-02T21:02:32.040Z</td>\n",
              "      <td>82 km WSW of Banda Aceh, Indonesia</td>\n",
              "      <td>earthquake</td>\n",
              "      <td>9.6</td>\n",
              "      <td>7.6</td>\n",
              "      <td>0.099</td>\n",
              "      <td>32</td>\n",
              "      <td>reviewed</td>\n",
              "      <td>us</td>\n",
              "      <td>us</td>\n",
              "    </tr>\n",
              "    <tr>\n",
              "      <th>1</th>\n",
              "      <td>2021-05-02T13:02:17.751Z</td>\n",
              "      <td>4.0461</td>\n",
              "      <td>95.7566</td>\n",
              "      <td>50.03</td>\n",
              "      <td>4.6</td>\n",
              "      <td>mb</td>\n",
              "      <td>NaN</td>\n",
              "      <td>129</td>\n",
              "      <td>1.669</td>\n",
              "      <td>0.86</td>\n",
              "      <td>...</td>\n",
              "      <td>2021-05-09T13:22:24.040Z</td>\n",
              "      <td>42 km WSW of Meulaboh, Indonesia</td>\n",
              "      <td>earthquake</td>\n",
              "      <td>7.6</td>\n",
              "      <td>8.2</td>\n",
              "      <td>0.136</td>\n",
              "      <td>16</td>\n",
              "      <td>reviewed</td>\n",
              "      <td>us</td>\n",
              "      <td>us</td>\n",
              "    </tr>\n",
              "    <tr>\n",
              "      <th>2</th>\n",
              "      <td>2021-04-17T01:04:53.776Z</td>\n",
              "      <td>5.1158</td>\n",
              "      <td>95.4508</td>\n",
              "      <td>100.74</td>\n",
              "      <td>5.0</td>\n",
              "      <td>mww</td>\n",
              "      <td>NaN</td>\n",
              "      <td>50</td>\n",
              "      <td>1.494</td>\n",
              "      <td>1.13</td>\n",
              "      <td>...</td>\n",
              "      <td>2021-04-17T02:23:46.858Z</td>\n",
              "      <td>48 km SSE of Banda Aceh, Indonesia</td>\n",
              "      <td>earthquake</td>\n",
              "      <td>8.2</td>\n",
              "      <td>6.3</td>\n",
              "      <td>0.098</td>\n",
              "      <td>10</td>\n",
              "      <td>reviewed</td>\n",
              "      <td>us</td>\n",
              "      <td>us</td>\n",
              "    </tr>\n",
              "    <tr>\n",
              "      <th>3</th>\n",
              "      <td>2021-04-09T15:14:31.108Z</td>\n",
              "      <td>4.8116</td>\n",
              "      <td>96.2611</td>\n",
              "      <td>27.57</td>\n",
              "      <td>4.3</td>\n",
              "      <td>mb</td>\n",
              "      <td>NaN</td>\n",
              "      <td>167</td>\n",
              "      <td>0.799</td>\n",
              "      <td>1.01</td>\n",
              "      <td>...</td>\n",
              "      <td>2021-04-25T16:21:42.040Z</td>\n",
              "      <td>44 km S of Reuleuet, Indonesia</td>\n",
              "      <td>earthquake</td>\n",
              "      <td>5.9</td>\n",
              "      <td>5.9</td>\n",
              "      <td>0.153</td>\n",
              "      <td>14</td>\n",
              "      <td>reviewed</td>\n",
              "      <td>us</td>\n",
              "      <td>us</td>\n",
              "    </tr>\n",
              "    <tr>\n",
              "      <th>4</th>\n",
              "      <td>2021-04-09T08:08:58.946Z</td>\n",
              "      <td>3.0723</td>\n",
              "      <td>96.3738</td>\n",
              "      <td>55.17</td>\n",
              "      <td>4.2</td>\n",
              "      <td>mb</td>\n",
              "      <td>NaN</td>\n",
              "      <td>173</td>\n",
              "      <td>2.127</td>\n",
              "      <td>0.48</td>\n",
              "      <td>...</td>\n",
              "      <td>2021-04-23T04:41:16.040Z</td>\n",
              "      <td>65 km N of Sinabang, Indonesia</td>\n",
              "      <td>earthquake</td>\n",
              "      <td>7.4</td>\n",
              "      <td>9.2</td>\n",
              "      <td>0.121</td>\n",
              "      <td>19</td>\n",
              "      <td>reviewed</td>\n",
              "      <td>us</td>\n",
              "      <td>us</td>\n",
              "    </tr>\n",
              "  </tbody>\n",
              "</table>\n",
              "<p>5 rows × 22 columns</p>\n",
              "</div>"
            ],
            "text/plain": [
              "                       time  latitude  longitude   depth  mag magType  nst  \\\n",
              "0  2021-05-02T20:49:43.322Z    5.3234    94.6170   63.97  5.0      mb  NaN   \n",
              "1  2021-05-02T13:02:17.751Z    4.0461    95.7566   50.03  4.6      mb  NaN   \n",
              "2  2021-04-17T01:04:53.776Z    5.1158    95.4508  100.74  5.0     mww  NaN   \n",
              "3  2021-04-09T15:14:31.108Z    4.8116    96.2611   27.57  4.3      mb  NaN   \n",
              "4  2021-04-09T08:08:58.946Z    3.0723    96.3738   55.17  4.2      mb  NaN   \n",
              "\n",
              "   gap   dmin   rms  ...                   updated  \\\n",
              "0  132  2.322  0.87  ...  2021-05-02T21:02:32.040Z   \n",
              "1  129  1.669  0.86  ...  2021-05-09T13:22:24.040Z   \n",
              "2   50  1.494  1.13  ...  2021-04-17T02:23:46.858Z   \n",
              "3  167  0.799  1.01  ...  2021-04-25T16:21:42.040Z   \n",
              "4  173  2.127  0.48  ...  2021-04-23T04:41:16.040Z   \n",
              "\n",
              "                                place        type horizontalError depthError  \\\n",
              "0  82 km WSW of Banda Aceh, Indonesia  earthquake             9.6        7.6   \n",
              "1    42 km WSW of Meulaboh, Indonesia  earthquake             7.6        8.2   \n",
              "2  48 km SSE of Banda Aceh, Indonesia  earthquake             8.2        6.3   \n",
              "3      44 km S of Reuleuet, Indonesia  earthquake             5.9        5.9   \n",
              "4      65 km N of Sinabang, Indonesia  earthquake             7.4        9.2   \n",
              "\n",
              "   magError  magNst    status  locationSource magSource  \n",
              "0     0.099      32  reviewed              us        us  \n",
              "1     0.136      16  reviewed              us        us  \n",
              "2     0.098      10  reviewed              us        us  \n",
              "3     0.153      14  reviewed              us        us  \n",
              "4     0.121      19  reviewed              us        us  \n",
              "\n",
              "[5 rows x 22 columns]"
            ]
          },
          "metadata": {
            "tags": []
          },
          "execution_count": 327
        }
      ]
    },
    {
      "cell_type": "markdown",
      "metadata": {
        "id": "23349b03"
      },
      "source": [
        "#### Get an Information File\n",
        "\n",
        "As we can see, there is a lot of data that we are dealing with. We can see a short information from this file by using `[variable].info()` method as follows"
      ],
      "id": "23349b03"
    },
    {
      "cell_type": "code",
      "metadata": {
        "scrolled": true,
        "id": "be040738",
        "outputId": "30b88908-7dd7-48a6-d0be-64ce6812845f"
      },
      "source": [
        "data.info()"
      ],
      "id": "be040738",
      "execution_count": null,
      "outputs": [
        {
          "output_type": "stream",
          "text": [
            "<class 'pandas.core.frame.DataFrame'>\n",
            "RangeIndex: 41 entries, 0 to 40\n",
            "Data columns (total 22 columns):\n",
            " #   Column           Non-Null Count  Dtype  \n",
            "---  ------           --------------  -----  \n",
            " 0   time             41 non-null     object \n",
            " 1   latitude         41 non-null     float64\n",
            " 2   longitude        41 non-null     float64\n",
            " 3   depth            41 non-null     float64\n",
            " 4   mag              41 non-null     float64\n",
            " 5   magType          41 non-null     object \n",
            " 6   nst              0 non-null      float64\n",
            " 7   gap              41 non-null     int64  \n",
            " 8   dmin             41 non-null     float64\n",
            " 9   rms              41 non-null     float64\n",
            " 10  net              41 non-null     object \n",
            " 11  id               41 non-null     object \n",
            " 12  updated          41 non-null     object \n",
            " 13  place            41 non-null     object \n",
            " 14  type             41 non-null     object \n",
            " 15  horizontalError  41 non-null     float64\n",
            " 16  depthError       41 non-null     float64\n",
            " 17  magError         41 non-null     float64\n",
            " 18  magNst           41 non-null     int64  \n",
            " 19  status           41 non-null     object \n",
            " 20  locationSource   41 non-null     object \n",
            " 21  magSource        41 non-null     object \n",
            "dtypes: float64(10), int64(2), object(10)\n",
            "memory usage: 7.2+ KB\n"
          ],
          "name": "stdout"
        }
      ]
    },
    {
      "cell_type": "markdown",
      "metadata": {
        "id": "d0d25458"
      },
      "source": [
        "Here we are. Through this information, we can conclude there are:\n",
        "\n",
        "- 22 columns of data\n",
        "- 41 rows of data\n",
        "- The column of `nst` does not has a data (0 non-null) or NaN\n",
        "- three types data: object, int64  and float64\n",
        "\n",
        "We can easily to find out that how many dimension does this data have by using `[variable].shape` method"
      ],
      "id": "d0d25458"
    },
    {
      "cell_type": "code",
      "metadata": {
        "id": "8b96eba4",
        "outputId": "4f38bddd-c55d-49d5-d6a1-bd7280cc500b"
      },
      "source": [
        "data.shape"
      ],
      "id": "8b96eba4",
      "execution_count": null,
      "outputs": [
        {
          "output_type": "execute_result",
          "data": {
            "text/plain": [
              "(41, 22)"
            ]
          },
          "metadata": {
            "tags": []
          },
          "execution_count": 329
        }
      ]
    },
    {
      "cell_type": "markdown",
      "metadata": {
        "id": "e5f23309"
      },
      "source": [
        "#### Remove a Certain Data\n",
        "\n",
        "Because the column of `nst` has a NaN data, we can remove this column and assign to new variable of `new_data`. To remove, we can apply"
      ],
      "id": "e5f23309"
    },
    {
      "cell_type": "code",
      "metadata": {
        "scrolled": true,
        "id": "0724f988"
      },
      "source": [
        "new_data = data.drop('nst',axis=1)"
      ],
      "id": "0724f988",
      "execution_count": null,
      "outputs": []
    },
    {
      "cell_type": "code",
      "metadata": {
        "scrolled": false,
        "id": "4c9b93ae",
        "outputId": "fc601bb7-46a4-426d-cfaa-35dffcf0b36c"
      },
      "source": [
        "new_data.info()"
      ],
      "id": "4c9b93ae",
      "execution_count": null,
      "outputs": [
        {
          "output_type": "stream",
          "text": [
            "<class 'pandas.core.frame.DataFrame'>\n",
            "RangeIndex: 41 entries, 0 to 40\n",
            "Data columns (total 21 columns):\n",
            " #   Column           Non-Null Count  Dtype  \n",
            "---  ------           --------------  -----  \n",
            " 0   time             41 non-null     object \n",
            " 1   latitude         41 non-null     float64\n",
            " 2   longitude        41 non-null     float64\n",
            " 3   depth            41 non-null     float64\n",
            " 4   mag              41 non-null     float64\n",
            " 5   magType          41 non-null     object \n",
            " 6   gap              41 non-null     int64  \n",
            " 7   dmin             41 non-null     float64\n",
            " 8   rms              41 non-null     float64\n",
            " 9   net              41 non-null     object \n",
            " 10  id               41 non-null     object \n",
            " 11  updated          41 non-null     object \n",
            " 12  place            41 non-null     object \n",
            " 13  type             41 non-null     object \n",
            " 14  horizontalError  41 non-null     float64\n",
            " 15  depthError       41 non-null     float64\n",
            " 16  magError         41 non-null     float64\n",
            " 17  magNst           41 non-null     int64  \n",
            " 18  status           41 non-null     object \n",
            " 19  locationSource   41 non-null     object \n",
            " 20  magSource        41 non-null     object \n",
            "dtypes: float64(9), int64(2), object(10)\n",
            "memory usage: 6.9+ KB\n"
          ],
          "name": "stdout"
        }
      ]
    },
    {
      "cell_type": "markdown",
      "metadata": {
        "id": "a8ea08a4"
      },
      "source": [
        "The number of columns has been changed to 21 columns. The axis=1 indicates for column section and axis=0 for row section. Alternative way, if we do not to asign a new variable or just keep the original variable after we remove a certain data, we can add an attribute of `inplace=True` in `[variable].drop()` command as follows:"
      ],
      "id": "a8ea08a4"
    },
    {
      "cell_type": "code",
      "metadata": {
        "scrolled": true,
        "id": "50b89225"
      },
      "source": [
        "data.drop('nst', axis=1, inplace=True)"
      ],
      "id": "50b89225",
      "execution_count": null,
      "outputs": []
    },
    {
      "cell_type": "code",
      "metadata": {
        "scrolled": true,
        "id": "3bef84de",
        "outputId": "c87e1c34-5cdb-4d23-c72f-c6df9d249d22"
      },
      "source": [
        "data.info()"
      ],
      "id": "3bef84de",
      "execution_count": null,
      "outputs": [
        {
          "output_type": "stream",
          "text": [
            "<class 'pandas.core.frame.DataFrame'>\n",
            "RangeIndex: 41 entries, 0 to 40\n",
            "Data columns (total 21 columns):\n",
            " #   Column           Non-Null Count  Dtype  \n",
            "---  ------           --------------  -----  \n",
            " 0   time             41 non-null     object \n",
            " 1   latitude         41 non-null     float64\n",
            " 2   longitude        41 non-null     float64\n",
            " 3   depth            41 non-null     float64\n",
            " 4   mag              41 non-null     float64\n",
            " 5   magType          41 non-null     object \n",
            " 6   gap              41 non-null     int64  \n",
            " 7   dmin             41 non-null     float64\n",
            " 8   rms              41 non-null     float64\n",
            " 9   net              41 non-null     object \n",
            " 10  id               41 non-null     object \n",
            " 11  updated          41 non-null     object \n",
            " 12  place            41 non-null     object \n",
            " 13  type             41 non-null     object \n",
            " 14  horizontalError  41 non-null     float64\n",
            " 15  depthError       41 non-null     float64\n",
            " 16  magError         41 non-null     float64\n",
            " 17  magNst           41 non-null     int64  \n",
            " 18  status           41 non-null     object \n",
            " 19  locationSource   41 non-null     object \n",
            " 20  magSource        41 non-null     object \n",
            "dtypes: float64(9), int64(2), object(10)\n",
            "memory usage: 6.9+ KB\n"
          ],
          "name": "stdout"
        }
      ]
    },
    {
      "cell_type": "markdown",
      "metadata": {
        "id": "624f1db6"
      },
      "source": [
        "For next case, we use `new_data` variable to explore more methods from Pandas library.\n",
        "\n",
        "#### Select Some of Data\n",
        "\n",
        "By using Pandas, we can select some of data and assign to new variable. For example, we want to take the data of `time`, `latitude`,`longitude`,`depth`,`mag`,`magType` and `place`. These data are assigned to `current_data` variable. To do this,"
      ],
      "id": "624f1db6"
    },
    {
      "cell_type": "code",
      "metadata": {
        "scrolled": true,
        "id": "580c962e"
      },
      "source": [
        "current_data = new_data[['time','latitude','longitude','depth','mag','magType','place']]"
      ],
      "id": "580c962e",
      "execution_count": null,
      "outputs": []
    },
    {
      "cell_type": "code",
      "metadata": {
        "id": "e1387e4c",
        "outputId": "a29f3f2f-1b34-4140-f0e0-77199e0dc458"
      },
      "source": [
        "current_data.head()"
      ],
      "id": "e1387e4c",
      "execution_count": null,
      "outputs": [
        {
          "output_type": "execute_result",
          "data": {
            "text/html": [
              "<div>\n",
              "<style scoped>\n",
              "    .dataframe tbody tr th:only-of-type {\n",
              "        vertical-align: middle;\n",
              "    }\n",
              "\n",
              "    .dataframe tbody tr th {\n",
              "        vertical-align: top;\n",
              "    }\n",
              "\n",
              "    .dataframe thead th {\n",
              "        text-align: right;\n",
              "    }\n",
              "</style>\n",
              "<table border=\"1\" class=\"dataframe\">\n",
              "  <thead>\n",
              "    <tr style=\"text-align: right;\">\n",
              "      <th></th>\n",
              "      <th>time</th>\n",
              "      <th>latitude</th>\n",
              "      <th>longitude</th>\n",
              "      <th>depth</th>\n",
              "      <th>mag</th>\n",
              "      <th>magType</th>\n",
              "      <th>place</th>\n",
              "    </tr>\n",
              "  </thead>\n",
              "  <tbody>\n",
              "    <tr>\n",
              "      <th>0</th>\n",
              "      <td>2021-05-02T20:49:43.322Z</td>\n",
              "      <td>5.3234</td>\n",
              "      <td>94.6170</td>\n",
              "      <td>63.97</td>\n",
              "      <td>5.0</td>\n",
              "      <td>mb</td>\n",
              "      <td>82 km WSW of Banda Aceh, Indonesia</td>\n",
              "    </tr>\n",
              "    <tr>\n",
              "      <th>1</th>\n",
              "      <td>2021-05-02T13:02:17.751Z</td>\n",
              "      <td>4.0461</td>\n",
              "      <td>95.7566</td>\n",
              "      <td>50.03</td>\n",
              "      <td>4.6</td>\n",
              "      <td>mb</td>\n",
              "      <td>42 km WSW of Meulaboh, Indonesia</td>\n",
              "    </tr>\n",
              "    <tr>\n",
              "      <th>2</th>\n",
              "      <td>2021-04-17T01:04:53.776Z</td>\n",
              "      <td>5.1158</td>\n",
              "      <td>95.4508</td>\n",
              "      <td>100.74</td>\n",
              "      <td>5.0</td>\n",
              "      <td>mww</td>\n",
              "      <td>48 km SSE of Banda Aceh, Indonesia</td>\n",
              "    </tr>\n",
              "    <tr>\n",
              "      <th>3</th>\n",
              "      <td>2021-04-09T15:14:31.108Z</td>\n",
              "      <td>4.8116</td>\n",
              "      <td>96.2611</td>\n",
              "      <td>27.57</td>\n",
              "      <td>4.3</td>\n",
              "      <td>mb</td>\n",
              "      <td>44 km S of Reuleuet, Indonesia</td>\n",
              "    </tr>\n",
              "    <tr>\n",
              "      <th>4</th>\n",
              "      <td>2021-04-09T08:08:58.946Z</td>\n",
              "      <td>3.0723</td>\n",
              "      <td>96.3738</td>\n",
              "      <td>55.17</td>\n",
              "      <td>4.2</td>\n",
              "      <td>mb</td>\n",
              "      <td>65 km N of Sinabang, Indonesia</td>\n",
              "    </tr>\n",
              "  </tbody>\n",
              "</table>\n",
              "</div>"
            ],
            "text/plain": [
              "                       time  latitude  longitude   depth  mag magType  \\\n",
              "0  2021-05-02T20:49:43.322Z    5.3234    94.6170   63.97  5.0      mb   \n",
              "1  2021-05-02T13:02:17.751Z    4.0461    95.7566   50.03  4.6      mb   \n",
              "2  2021-04-17T01:04:53.776Z    5.1158    95.4508  100.74  5.0     mww   \n",
              "3  2021-04-09T15:14:31.108Z    4.8116    96.2611   27.57  4.3      mb   \n",
              "4  2021-04-09T08:08:58.946Z    3.0723    96.3738   55.17  4.2      mb   \n",
              "\n",
              "                                place  \n",
              "0  82 km WSW of Banda Aceh, Indonesia  \n",
              "1    42 km WSW of Meulaboh, Indonesia  \n",
              "2  48 km SSE of Banda Aceh, Indonesia  \n",
              "3      44 km S of Reuleuet, Indonesia  \n",
              "4      65 km N of Sinabang, Indonesia  "
            ]
          },
          "metadata": {
            "tags": []
          },
          "execution_count": 335
        }
      ]
    },
    {
      "cell_type": "markdown",
      "metadata": {
        "id": "1244d69d"
      },
      "source": [
        "#### Modify an Attribute of Data\n",
        "\n",
        "##### Rename a Column Name\n",
        "We can modify an attribute of data, such as to rename a old column name to new column name. For example, we change all column names as follows"
      ],
      "id": "1244d69d"
    },
    {
      "cell_type": "code",
      "metadata": {
        "id": "d15dbc58"
      },
      "source": [
        "current_data = current_data.rename(columns={\n",
        "    'time':'Time',\n",
        "    'latitude':'Latitude',\n",
        "    'longitude':'Longitude',\n",
        "    'depth':'Depth',\n",
        "    'mag':'Mag',\n",
        "    'magType':'MagType',\n",
        "    'place':'Place'\n",
        "})"
      ],
      "id": "d15dbc58",
      "execution_count": null,
      "outputs": []
    },
    {
      "cell_type": "code",
      "metadata": {
        "id": "fdb6ff62",
        "outputId": "2dafd31b-9024-4229-af81-ba1c8b0b1827"
      },
      "source": [
        "current_data.head()"
      ],
      "id": "fdb6ff62",
      "execution_count": null,
      "outputs": [
        {
          "output_type": "execute_result",
          "data": {
            "text/html": [
              "<div>\n",
              "<style scoped>\n",
              "    .dataframe tbody tr th:only-of-type {\n",
              "        vertical-align: middle;\n",
              "    }\n",
              "\n",
              "    .dataframe tbody tr th {\n",
              "        vertical-align: top;\n",
              "    }\n",
              "\n",
              "    .dataframe thead th {\n",
              "        text-align: right;\n",
              "    }\n",
              "</style>\n",
              "<table border=\"1\" class=\"dataframe\">\n",
              "  <thead>\n",
              "    <tr style=\"text-align: right;\">\n",
              "      <th></th>\n",
              "      <th>Time</th>\n",
              "      <th>Latitude</th>\n",
              "      <th>Longitude</th>\n",
              "      <th>Depth</th>\n",
              "      <th>Mag</th>\n",
              "      <th>MagType</th>\n",
              "      <th>Place</th>\n",
              "    </tr>\n",
              "  </thead>\n",
              "  <tbody>\n",
              "    <tr>\n",
              "      <th>0</th>\n",
              "      <td>2021-05-02T20:49:43.322Z</td>\n",
              "      <td>5.3234</td>\n",
              "      <td>94.6170</td>\n",
              "      <td>63.97</td>\n",
              "      <td>5.0</td>\n",
              "      <td>mb</td>\n",
              "      <td>82 km WSW of Banda Aceh, Indonesia</td>\n",
              "    </tr>\n",
              "    <tr>\n",
              "      <th>1</th>\n",
              "      <td>2021-05-02T13:02:17.751Z</td>\n",
              "      <td>4.0461</td>\n",
              "      <td>95.7566</td>\n",
              "      <td>50.03</td>\n",
              "      <td>4.6</td>\n",
              "      <td>mb</td>\n",
              "      <td>42 km WSW of Meulaboh, Indonesia</td>\n",
              "    </tr>\n",
              "    <tr>\n",
              "      <th>2</th>\n",
              "      <td>2021-04-17T01:04:53.776Z</td>\n",
              "      <td>5.1158</td>\n",
              "      <td>95.4508</td>\n",
              "      <td>100.74</td>\n",
              "      <td>5.0</td>\n",
              "      <td>mww</td>\n",
              "      <td>48 km SSE of Banda Aceh, Indonesia</td>\n",
              "    </tr>\n",
              "    <tr>\n",
              "      <th>3</th>\n",
              "      <td>2021-04-09T15:14:31.108Z</td>\n",
              "      <td>4.8116</td>\n",
              "      <td>96.2611</td>\n",
              "      <td>27.57</td>\n",
              "      <td>4.3</td>\n",
              "      <td>mb</td>\n",
              "      <td>44 km S of Reuleuet, Indonesia</td>\n",
              "    </tr>\n",
              "    <tr>\n",
              "      <th>4</th>\n",
              "      <td>2021-04-09T08:08:58.946Z</td>\n",
              "      <td>3.0723</td>\n",
              "      <td>96.3738</td>\n",
              "      <td>55.17</td>\n",
              "      <td>4.2</td>\n",
              "      <td>mb</td>\n",
              "      <td>65 km N of Sinabang, Indonesia</td>\n",
              "    </tr>\n",
              "  </tbody>\n",
              "</table>\n",
              "</div>"
            ],
            "text/plain": [
              "                       Time  Latitude  Longitude   Depth  Mag MagType  \\\n",
              "0  2021-05-02T20:49:43.322Z    5.3234    94.6170   63.97  5.0      mb   \n",
              "1  2021-05-02T13:02:17.751Z    4.0461    95.7566   50.03  4.6      mb   \n",
              "2  2021-04-17T01:04:53.776Z    5.1158    95.4508  100.74  5.0     mww   \n",
              "3  2021-04-09T15:14:31.108Z    4.8116    96.2611   27.57  4.3      mb   \n",
              "4  2021-04-09T08:08:58.946Z    3.0723    96.3738   55.17  4.2      mb   \n",
              "\n",
              "                                Place  \n",
              "0  82 km WSW of Banda Aceh, Indonesia  \n",
              "1    42 km WSW of Meulaboh, Indonesia  \n",
              "2  48 km SSE of Banda Aceh, Indonesia  \n",
              "3      44 km S of Reuleuet, Indonesia  \n",
              "4      65 km N of Sinabang, Indonesia  "
            ]
          },
          "metadata": {
            "tags": []
          },
          "execution_count": 337
        }
      ]
    },
    {
      "cell_type": "markdown",
      "metadata": {
        "id": "b58d36d9"
      },
      "source": [
        "##### Change a String Format\n",
        "Let's moving on. We see that the content in the `MagType` indicates the unit of earthquake scale. All units are written in lowercase. So, if we want to change these contents to capitalize (uppercase or lowercase), we can use `[variable].str.capitalize` method. First, we  have to select the content of `MagType` column"
      ],
      "id": "b58d36d9"
    },
    {
      "cell_type": "code",
      "metadata": {
        "id": "82d97c52",
        "outputId": "236c666c-bd31-4a55-d605-a1b03526f933"
      },
      "source": [
        "current_data['MagType'] = current_data['MagType'].str.capitalize()\n",
        "current_data.head()"
      ],
      "id": "82d97c52",
      "execution_count": null,
      "outputs": [
        {
          "output_type": "execute_result",
          "data": {
            "text/html": [
              "<div>\n",
              "<style scoped>\n",
              "    .dataframe tbody tr th:only-of-type {\n",
              "        vertical-align: middle;\n",
              "    }\n",
              "\n",
              "    .dataframe tbody tr th {\n",
              "        vertical-align: top;\n",
              "    }\n",
              "\n",
              "    .dataframe thead th {\n",
              "        text-align: right;\n",
              "    }\n",
              "</style>\n",
              "<table border=\"1\" class=\"dataframe\">\n",
              "  <thead>\n",
              "    <tr style=\"text-align: right;\">\n",
              "      <th></th>\n",
              "      <th>Time</th>\n",
              "      <th>Latitude</th>\n",
              "      <th>Longitude</th>\n",
              "      <th>Depth</th>\n",
              "      <th>Mag</th>\n",
              "      <th>MagType</th>\n",
              "      <th>Place</th>\n",
              "    </tr>\n",
              "  </thead>\n",
              "  <tbody>\n",
              "    <tr>\n",
              "      <th>0</th>\n",
              "      <td>2021-05-02T20:49:43.322Z</td>\n",
              "      <td>5.3234</td>\n",
              "      <td>94.6170</td>\n",
              "      <td>63.97</td>\n",
              "      <td>5.0</td>\n",
              "      <td>Mb</td>\n",
              "      <td>82 km WSW of Banda Aceh, Indonesia</td>\n",
              "    </tr>\n",
              "    <tr>\n",
              "      <th>1</th>\n",
              "      <td>2021-05-02T13:02:17.751Z</td>\n",
              "      <td>4.0461</td>\n",
              "      <td>95.7566</td>\n",
              "      <td>50.03</td>\n",
              "      <td>4.6</td>\n",
              "      <td>Mb</td>\n",
              "      <td>42 km WSW of Meulaboh, Indonesia</td>\n",
              "    </tr>\n",
              "    <tr>\n",
              "      <th>2</th>\n",
              "      <td>2021-04-17T01:04:53.776Z</td>\n",
              "      <td>5.1158</td>\n",
              "      <td>95.4508</td>\n",
              "      <td>100.74</td>\n",
              "      <td>5.0</td>\n",
              "      <td>Mww</td>\n",
              "      <td>48 km SSE of Banda Aceh, Indonesia</td>\n",
              "    </tr>\n",
              "    <tr>\n",
              "      <th>3</th>\n",
              "      <td>2021-04-09T15:14:31.108Z</td>\n",
              "      <td>4.8116</td>\n",
              "      <td>96.2611</td>\n",
              "      <td>27.57</td>\n",
              "      <td>4.3</td>\n",
              "      <td>Mb</td>\n",
              "      <td>44 km S of Reuleuet, Indonesia</td>\n",
              "    </tr>\n",
              "    <tr>\n",
              "      <th>4</th>\n",
              "      <td>2021-04-09T08:08:58.946Z</td>\n",
              "      <td>3.0723</td>\n",
              "      <td>96.3738</td>\n",
              "      <td>55.17</td>\n",
              "      <td>4.2</td>\n",
              "      <td>Mb</td>\n",
              "      <td>65 km N of Sinabang, Indonesia</td>\n",
              "    </tr>\n",
              "  </tbody>\n",
              "</table>\n",
              "</div>"
            ],
            "text/plain": [
              "                       Time  Latitude  Longitude   Depth  Mag MagType  \\\n",
              "0  2021-05-02T20:49:43.322Z    5.3234    94.6170   63.97  5.0      Mb   \n",
              "1  2021-05-02T13:02:17.751Z    4.0461    95.7566   50.03  4.6      Mb   \n",
              "2  2021-04-17T01:04:53.776Z    5.1158    95.4508  100.74  5.0     Mww   \n",
              "3  2021-04-09T15:14:31.108Z    4.8116    96.2611   27.57  4.3      Mb   \n",
              "4  2021-04-09T08:08:58.946Z    3.0723    96.3738   55.17  4.2      Mb   \n",
              "\n",
              "                                Place  \n",
              "0  82 km WSW of Banda Aceh, Indonesia  \n",
              "1    42 km WSW of Meulaboh, Indonesia  \n",
              "2  48 km SSE of Banda Aceh, Indonesia  \n",
              "3      44 km S of Reuleuet, Indonesia  \n",
              "4      65 km N of Sinabang, Indonesia  "
            ]
          },
          "metadata": {
            "tags": []
          },
          "execution_count": 338
        }
      ]
    },
    {
      "cell_type": "markdown",
      "metadata": {
        "id": "a37bd620"
      },
      "source": [
        "The change a content to capitalize (upper or lower), that just can be applied to `string` variable type. In this case the type of `MagType` variable is `string` or commonly is mentioned as `object`."
      ],
      "id": "a37bd620"
    },
    {
      "cell_type": "markdown",
      "metadata": {
        "id": "7da637e0"
      },
      "source": [
        "##### Time Modification\n",
        "\n",
        "In the `Time` variable, the time is written as `object` type. We can convert it to time format by using `pd.to_datetime(dataframe)`"
      ],
      "id": "7da637e0"
    },
    {
      "cell_type": "code",
      "metadata": {
        "id": "a148baa8",
        "outputId": "d8ab826d-1d30-4b49-809b-dd2a30971215"
      },
      "source": [
        "current_data['Time'] = pd.to_datetime(current_data['Time'])\n",
        "current_data.info()"
      ],
      "id": "a148baa8",
      "execution_count": null,
      "outputs": [
        {
          "output_type": "stream",
          "text": [
            "<class 'pandas.core.frame.DataFrame'>\n",
            "RangeIndex: 41 entries, 0 to 40\n",
            "Data columns (total 7 columns):\n",
            " #   Column     Non-Null Count  Dtype              \n",
            "---  ------     --------------  -----              \n",
            " 0   Time       41 non-null     datetime64[ns, UTC]\n",
            " 1   Latitude   41 non-null     float64            \n",
            " 2   Longitude  41 non-null     float64            \n",
            " 3   Depth      41 non-null     float64            \n",
            " 4   Mag        41 non-null     float64            \n",
            " 5   MagType    41 non-null     object             \n",
            " 6   Place      41 non-null     object             \n",
            "dtypes: datetime64[ns, UTC](1), float64(4), object(2)\n",
            "memory usage: 2.4+ KB\n"
          ],
          "name": "stdout"
        }
      ]
    },
    {
      "cell_type": "code",
      "metadata": {
        "id": "99430bab",
        "outputId": "81ebc4cc-0c99-4a9e-de99-30cb38906631"
      },
      "source": [
        "current_data.head()"
      ],
      "id": "99430bab",
      "execution_count": null,
      "outputs": [
        {
          "output_type": "execute_result",
          "data": {
            "text/html": [
              "<div>\n",
              "<style scoped>\n",
              "    .dataframe tbody tr th:only-of-type {\n",
              "        vertical-align: middle;\n",
              "    }\n",
              "\n",
              "    .dataframe tbody tr th {\n",
              "        vertical-align: top;\n",
              "    }\n",
              "\n",
              "    .dataframe thead th {\n",
              "        text-align: right;\n",
              "    }\n",
              "</style>\n",
              "<table border=\"1\" class=\"dataframe\">\n",
              "  <thead>\n",
              "    <tr style=\"text-align: right;\">\n",
              "      <th></th>\n",
              "      <th>Time</th>\n",
              "      <th>Latitude</th>\n",
              "      <th>Longitude</th>\n",
              "      <th>Depth</th>\n",
              "      <th>Mag</th>\n",
              "      <th>MagType</th>\n",
              "      <th>Place</th>\n",
              "    </tr>\n",
              "  </thead>\n",
              "  <tbody>\n",
              "    <tr>\n",
              "      <th>0</th>\n",
              "      <td>2021-05-02 20:49:43.322000+00:00</td>\n",
              "      <td>5.3234</td>\n",
              "      <td>94.6170</td>\n",
              "      <td>63.97</td>\n",
              "      <td>5.0</td>\n",
              "      <td>Mb</td>\n",
              "      <td>82 km WSW of Banda Aceh, Indonesia</td>\n",
              "    </tr>\n",
              "    <tr>\n",
              "      <th>1</th>\n",
              "      <td>2021-05-02 13:02:17.751000+00:00</td>\n",
              "      <td>4.0461</td>\n",
              "      <td>95.7566</td>\n",
              "      <td>50.03</td>\n",
              "      <td>4.6</td>\n",
              "      <td>Mb</td>\n",
              "      <td>42 km WSW of Meulaboh, Indonesia</td>\n",
              "    </tr>\n",
              "    <tr>\n",
              "      <th>2</th>\n",
              "      <td>2021-04-17 01:04:53.776000+00:00</td>\n",
              "      <td>5.1158</td>\n",
              "      <td>95.4508</td>\n",
              "      <td>100.74</td>\n",
              "      <td>5.0</td>\n",
              "      <td>Mww</td>\n",
              "      <td>48 km SSE of Banda Aceh, Indonesia</td>\n",
              "    </tr>\n",
              "    <tr>\n",
              "      <th>3</th>\n",
              "      <td>2021-04-09 15:14:31.108000+00:00</td>\n",
              "      <td>4.8116</td>\n",
              "      <td>96.2611</td>\n",
              "      <td>27.57</td>\n",
              "      <td>4.3</td>\n",
              "      <td>Mb</td>\n",
              "      <td>44 km S of Reuleuet, Indonesia</td>\n",
              "    </tr>\n",
              "    <tr>\n",
              "      <th>4</th>\n",
              "      <td>2021-04-09 08:08:58.946000+00:00</td>\n",
              "      <td>3.0723</td>\n",
              "      <td>96.3738</td>\n",
              "      <td>55.17</td>\n",
              "      <td>4.2</td>\n",
              "      <td>Mb</td>\n",
              "      <td>65 km N of Sinabang, Indonesia</td>\n",
              "    </tr>\n",
              "  </tbody>\n",
              "</table>\n",
              "</div>"
            ],
            "text/plain": [
              "                              Time  Latitude  Longitude   Depth  Mag MagType  \\\n",
              "0 2021-05-02 20:49:43.322000+00:00    5.3234    94.6170   63.97  5.0      Mb   \n",
              "1 2021-05-02 13:02:17.751000+00:00    4.0461    95.7566   50.03  4.6      Mb   \n",
              "2 2021-04-17 01:04:53.776000+00:00    5.1158    95.4508  100.74  5.0     Mww   \n",
              "3 2021-04-09 15:14:31.108000+00:00    4.8116    96.2611   27.57  4.3      Mb   \n",
              "4 2021-04-09 08:08:58.946000+00:00    3.0723    96.3738   55.17  4.2      Mb   \n",
              "\n",
              "                                Place  \n",
              "0  82 km WSW of Banda Aceh, Indonesia  \n",
              "1    42 km WSW of Meulaboh, Indonesia  \n",
              "2  48 km SSE of Banda Aceh, Indonesia  \n",
              "3      44 km S of Reuleuet, Indonesia  \n",
              "4      65 km N of Sinabang, Indonesia  "
            ]
          },
          "metadata": {
            "tags": []
          },
          "execution_count": 340
        }
      ]
    },
    {
      "cell_type": "markdown",
      "metadata": {
        "id": "4f9efb86"
      },
      "source": [
        "We can separate the `Time` for each time format, such as year, month and date. To do this, We assign to new column for each time format."
      ],
      "id": "4f9efb86"
    },
    {
      "cell_type": "code",
      "metadata": {
        "id": "f59ba3e1"
      },
      "source": [
        "current_data['Year'] = current_data['Time'].dt.year\n",
        "current_data['Month'] = current_data['Time'].dt.month\n",
        "current_data['Day'] = current_data['Time'].dt.day\n",
        "current_data['Hour'] = current_data['Time'].dt.hour\n",
        "current_data['Minutes'] = current_data['Time'].dt.minute\n",
        "current_data['Second'] = current_data['Time'].dt.second"
      ],
      "id": "f59ba3e1",
      "execution_count": null,
      "outputs": []
    },
    {
      "cell_type": "code",
      "metadata": {
        "id": "b6afff99",
        "outputId": "56c51461-6a98-4629-e738-66c7d8175404"
      },
      "source": [
        "current_data.head()"
      ],
      "id": "b6afff99",
      "execution_count": null,
      "outputs": [
        {
          "output_type": "execute_result",
          "data": {
            "text/html": [
              "<div>\n",
              "<style scoped>\n",
              "    .dataframe tbody tr th:only-of-type {\n",
              "        vertical-align: middle;\n",
              "    }\n",
              "\n",
              "    .dataframe tbody tr th {\n",
              "        vertical-align: top;\n",
              "    }\n",
              "\n",
              "    .dataframe thead th {\n",
              "        text-align: right;\n",
              "    }\n",
              "</style>\n",
              "<table border=\"1\" class=\"dataframe\">\n",
              "  <thead>\n",
              "    <tr style=\"text-align: right;\">\n",
              "      <th></th>\n",
              "      <th>Time</th>\n",
              "      <th>Latitude</th>\n",
              "      <th>Longitude</th>\n",
              "      <th>Depth</th>\n",
              "      <th>Mag</th>\n",
              "      <th>MagType</th>\n",
              "      <th>Place</th>\n",
              "      <th>Year</th>\n",
              "      <th>Month</th>\n",
              "      <th>Day</th>\n",
              "      <th>Hour</th>\n",
              "      <th>Minutes</th>\n",
              "      <th>Second</th>\n",
              "    </tr>\n",
              "  </thead>\n",
              "  <tbody>\n",
              "    <tr>\n",
              "      <th>0</th>\n",
              "      <td>2021-05-02 20:49:43.322000+00:00</td>\n",
              "      <td>5.3234</td>\n",
              "      <td>94.6170</td>\n",
              "      <td>63.97</td>\n",
              "      <td>5.0</td>\n",
              "      <td>Mb</td>\n",
              "      <td>82 km WSW of Banda Aceh, Indonesia</td>\n",
              "      <td>2021</td>\n",
              "      <td>5</td>\n",
              "      <td>2</td>\n",
              "      <td>20</td>\n",
              "      <td>49</td>\n",
              "      <td>43</td>\n",
              "    </tr>\n",
              "    <tr>\n",
              "      <th>1</th>\n",
              "      <td>2021-05-02 13:02:17.751000+00:00</td>\n",
              "      <td>4.0461</td>\n",
              "      <td>95.7566</td>\n",
              "      <td>50.03</td>\n",
              "      <td>4.6</td>\n",
              "      <td>Mb</td>\n",
              "      <td>42 km WSW of Meulaboh, Indonesia</td>\n",
              "      <td>2021</td>\n",
              "      <td>5</td>\n",
              "      <td>2</td>\n",
              "      <td>13</td>\n",
              "      <td>2</td>\n",
              "      <td>17</td>\n",
              "    </tr>\n",
              "    <tr>\n",
              "      <th>2</th>\n",
              "      <td>2021-04-17 01:04:53.776000+00:00</td>\n",
              "      <td>5.1158</td>\n",
              "      <td>95.4508</td>\n",
              "      <td>100.74</td>\n",
              "      <td>5.0</td>\n",
              "      <td>Mww</td>\n",
              "      <td>48 km SSE of Banda Aceh, Indonesia</td>\n",
              "      <td>2021</td>\n",
              "      <td>4</td>\n",
              "      <td>17</td>\n",
              "      <td>1</td>\n",
              "      <td>4</td>\n",
              "      <td>53</td>\n",
              "    </tr>\n",
              "    <tr>\n",
              "      <th>3</th>\n",
              "      <td>2021-04-09 15:14:31.108000+00:00</td>\n",
              "      <td>4.8116</td>\n",
              "      <td>96.2611</td>\n",
              "      <td>27.57</td>\n",
              "      <td>4.3</td>\n",
              "      <td>Mb</td>\n",
              "      <td>44 km S of Reuleuet, Indonesia</td>\n",
              "      <td>2021</td>\n",
              "      <td>4</td>\n",
              "      <td>9</td>\n",
              "      <td>15</td>\n",
              "      <td>14</td>\n",
              "      <td>31</td>\n",
              "    </tr>\n",
              "    <tr>\n",
              "      <th>4</th>\n",
              "      <td>2021-04-09 08:08:58.946000+00:00</td>\n",
              "      <td>3.0723</td>\n",
              "      <td>96.3738</td>\n",
              "      <td>55.17</td>\n",
              "      <td>4.2</td>\n",
              "      <td>Mb</td>\n",
              "      <td>65 km N of Sinabang, Indonesia</td>\n",
              "      <td>2021</td>\n",
              "      <td>4</td>\n",
              "      <td>9</td>\n",
              "      <td>8</td>\n",
              "      <td>8</td>\n",
              "      <td>58</td>\n",
              "    </tr>\n",
              "  </tbody>\n",
              "</table>\n",
              "</div>"
            ],
            "text/plain": [
              "                              Time  Latitude  Longitude   Depth  Mag MagType  \\\n",
              "0 2021-05-02 20:49:43.322000+00:00    5.3234    94.6170   63.97  5.0      Mb   \n",
              "1 2021-05-02 13:02:17.751000+00:00    4.0461    95.7566   50.03  4.6      Mb   \n",
              "2 2021-04-17 01:04:53.776000+00:00    5.1158    95.4508  100.74  5.0     Mww   \n",
              "3 2021-04-09 15:14:31.108000+00:00    4.8116    96.2611   27.57  4.3      Mb   \n",
              "4 2021-04-09 08:08:58.946000+00:00    3.0723    96.3738   55.17  4.2      Mb   \n",
              "\n",
              "                                Place  Year  Month  Day  Hour  Minutes  Second  \n",
              "0  82 km WSW of Banda Aceh, Indonesia  2021      5    2    20       49      43  \n",
              "1    42 km WSW of Meulaboh, Indonesia  2021      5    2    13        2      17  \n",
              "2  48 km SSE of Banda Aceh, Indonesia  2021      4   17     1        4      53  \n",
              "3      44 km S of Reuleuet, Indonesia  2021      4    9    15       14      31  \n",
              "4      65 km N of Sinabang, Indonesia  2021      4    9     8        8      58  "
            ]
          },
          "metadata": {
            "tags": []
          },
          "execution_count": 342
        }
      ]
    },
    {
      "cell_type": "markdown",
      "metadata": {
        "id": "ee3ae0bf"
      },
      "source": [
        "##### Data Sorting\n",
        "\n",
        "By using pandas, we can sort a data from minimum to maximum or vice versa. For example, we sort the `Mag` variable fro maximum to minimum."
      ],
      "id": "ee3ae0bf"
    },
    {
      "cell_type": "code",
      "metadata": {
        "id": "59d3ee99"
      },
      "source": [
        "current_data.sort_values(by='Mag', ascending=False, inplace = True)"
      ],
      "id": "59d3ee99",
      "execution_count": null,
      "outputs": []
    },
    {
      "cell_type": "code",
      "metadata": {
        "id": "7ee165f1",
        "outputId": "58c1ea18-e3c2-46fe-839a-e36238e19e4e"
      },
      "source": [
        "current_data.head()"
      ],
      "id": "7ee165f1",
      "execution_count": null,
      "outputs": [
        {
          "output_type": "execute_result",
          "data": {
            "text/html": [
              "<div>\n",
              "<style scoped>\n",
              "    .dataframe tbody tr th:only-of-type {\n",
              "        vertical-align: middle;\n",
              "    }\n",
              "\n",
              "    .dataframe tbody tr th {\n",
              "        vertical-align: top;\n",
              "    }\n",
              "\n",
              "    .dataframe thead th {\n",
              "        text-align: right;\n",
              "    }\n",
              "</style>\n",
              "<table border=\"1\" class=\"dataframe\">\n",
              "  <thead>\n",
              "    <tr style=\"text-align: right;\">\n",
              "      <th></th>\n",
              "      <th>Time</th>\n",
              "      <th>Latitude</th>\n",
              "      <th>Longitude</th>\n",
              "      <th>Depth</th>\n",
              "      <th>Mag</th>\n",
              "      <th>MagType</th>\n",
              "      <th>Place</th>\n",
              "      <th>Year</th>\n",
              "      <th>Month</th>\n",
              "      <th>Day</th>\n",
              "      <th>Hour</th>\n",
              "      <th>Minutes</th>\n",
              "      <th>Second</th>\n",
              "    </tr>\n",
              "  </thead>\n",
              "  <tbody>\n",
              "    <tr>\n",
              "      <th>20</th>\n",
              "      <td>2020-11-13 18:33:07.130000+00:00</td>\n",
              "      <td>5.7913</td>\n",
              "      <td>95.5619</td>\n",
              "      <td>10.00</td>\n",
              "      <td>5.1</td>\n",
              "      <td>Mww</td>\n",
              "      <td>29 km ESE of Sabang, Indonesia</td>\n",
              "      <td>2020</td>\n",
              "      <td>11</td>\n",
              "      <td>13</td>\n",
              "      <td>18</td>\n",
              "      <td>33</td>\n",
              "      <td>7</td>\n",
              "    </tr>\n",
              "    <tr>\n",
              "      <th>18</th>\n",
              "      <td>2020-11-30 17:14:12.006000+00:00</td>\n",
              "      <td>3.0670</td>\n",
              "      <td>96.1349</td>\n",
              "      <td>27.89</td>\n",
              "      <td>5.0</td>\n",
              "      <td>Mb</td>\n",
              "      <td>70 km NNW of Sinabang, Indonesia</td>\n",
              "      <td>2020</td>\n",
              "      <td>11</td>\n",
              "      <td>30</td>\n",
              "      <td>17</td>\n",
              "      <td>14</td>\n",
              "      <td>12</td>\n",
              "    </tr>\n",
              "    <tr>\n",
              "      <th>32</th>\n",
              "      <td>2020-09-13 18:28:52.194000+00:00</td>\n",
              "      <td>4.2449</td>\n",
              "      <td>96.6838</td>\n",
              "      <td>121.54</td>\n",
              "      <td>5.0</td>\n",
              "      <td>Mww</td>\n",
              "      <td>62 km E of Meulaboh, Indonesia</td>\n",
              "      <td>2020</td>\n",
              "      <td>9</td>\n",
              "      <td>13</td>\n",
              "      <td>18</td>\n",
              "      <td>28</td>\n",
              "      <td>52</td>\n",
              "    </tr>\n",
              "    <tr>\n",
              "      <th>0</th>\n",
              "      <td>2021-05-02 20:49:43.322000+00:00</td>\n",
              "      <td>5.3234</td>\n",
              "      <td>94.6170</td>\n",
              "      <td>63.97</td>\n",
              "      <td>5.0</td>\n",
              "      <td>Mb</td>\n",
              "      <td>82 km WSW of Banda Aceh, Indonesia</td>\n",
              "      <td>2021</td>\n",
              "      <td>5</td>\n",
              "      <td>2</td>\n",
              "      <td>20</td>\n",
              "      <td>49</td>\n",
              "      <td>43</td>\n",
              "    </tr>\n",
              "    <tr>\n",
              "      <th>2</th>\n",
              "      <td>2021-04-17 01:04:53.776000+00:00</td>\n",
              "      <td>5.1158</td>\n",
              "      <td>95.4508</td>\n",
              "      <td>100.74</td>\n",
              "      <td>5.0</td>\n",
              "      <td>Mww</td>\n",
              "      <td>48 km SSE of Banda Aceh, Indonesia</td>\n",
              "      <td>2021</td>\n",
              "      <td>4</td>\n",
              "      <td>17</td>\n",
              "      <td>1</td>\n",
              "      <td>4</td>\n",
              "      <td>53</td>\n",
              "    </tr>\n",
              "  </tbody>\n",
              "</table>\n",
              "</div>"
            ],
            "text/plain": [
              "                               Time  Latitude  Longitude   Depth  Mag MagType  \\\n",
              "20 2020-11-13 18:33:07.130000+00:00    5.7913    95.5619   10.00  5.1     Mww   \n",
              "18 2020-11-30 17:14:12.006000+00:00    3.0670    96.1349   27.89  5.0      Mb   \n",
              "32 2020-09-13 18:28:52.194000+00:00    4.2449    96.6838  121.54  5.0     Mww   \n",
              "0  2021-05-02 20:49:43.322000+00:00    5.3234    94.6170   63.97  5.0      Mb   \n",
              "2  2021-04-17 01:04:53.776000+00:00    5.1158    95.4508  100.74  5.0     Mww   \n",
              "\n",
              "                                 Place  Year  Month  Day  Hour  Minutes  \\\n",
              "20      29 km ESE of Sabang, Indonesia  2020     11   13    18       33   \n",
              "18    70 km NNW of Sinabang, Indonesia  2020     11   30    17       14   \n",
              "32      62 km E of Meulaboh, Indonesia  2020      9   13    18       28   \n",
              "0   82 km WSW of Banda Aceh, Indonesia  2021      5    2    20       49   \n",
              "2   48 km SSE of Banda Aceh, Indonesia  2021      4   17     1        4   \n",
              "\n",
              "    Second  \n",
              "20       7  \n",
              "18      12  \n",
              "32      52  \n",
              "0       43  \n",
              "2       53  "
            ]
          },
          "metadata": {
            "tags": []
          },
          "execution_count": 344
        }
      ]
    },
    {
      "cell_type": "markdown",
      "metadata": {
        "id": "5e9f30af"
      },
      "source": [
        "The data has been sorted. As we can see, the index number has been changed to. So, we have to reset the index number as follows"
      ],
      "id": "5e9f30af"
    },
    {
      "cell_type": "code",
      "metadata": {
        "id": "f20e4bf2"
      },
      "source": [
        "current_data.reset_index(inplace=True)"
      ],
      "id": "f20e4bf2",
      "execution_count": null,
      "outputs": []
    },
    {
      "cell_type": "code",
      "metadata": {
        "id": "d1907d90",
        "outputId": "c5eed472-b0cc-4101-94a2-31624ed33ce9"
      },
      "source": [
        "current_data.head()"
      ],
      "id": "d1907d90",
      "execution_count": null,
      "outputs": [
        {
          "output_type": "execute_result",
          "data": {
            "text/html": [
              "<div>\n",
              "<style scoped>\n",
              "    .dataframe tbody tr th:only-of-type {\n",
              "        vertical-align: middle;\n",
              "    }\n",
              "\n",
              "    .dataframe tbody tr th {\n",
              "        vertical-align: top;\n",
              "    }\n",
              "\n",
              "    .dataframe thead th {\n",
              "        text-align: right;\n",
              "    }\n",
              "</style>\n",
              "<table border=\"1\" class=\"dataframe\">\n",
              "  <thead>\n",
              "    <tr style=\"text-align: right;\">\n",
              "      <th></th>\n",
              "      <th>index</th>\n",
              "      <th>Time</th>\n",
              "      <th>Latitude</th>\n",
              "      <th>Longitude</th>\n",
              "      <th>Depth</th>\n",
              "      <th>Mag</th>\n",
              "      <th>MagType</th>\n",
              "      <th>Place</th>\n",
              "      <th>Year</th>\n",
              "      <th>Month</th>\n",
              "      <th>Day</th>\n",
              "      <th>Hour</th>\n",
              "      <th>Minutes</th>\n",
              "      <th>Second</th>\n",
              "    </tr>\n",
              "  </thead>\n",
              "  <tbody>\n",
              "    <tr>\n",
              "      <th>0</th>\n",
              "      <td>20</td>\n",
              "      <td>2020-11-13 18:33:07.130000+00:00</td>\n",
              "      <td>5.7913</td>\n",
              "      <td>95.5619</td>\n",
              "      <td>10.00</td>\n",
              "      <td>5.1</td>\n",
              "      <td>Mww</td>\n",
              "      <td>29 km ESE of Sabang, Indonesia</td>\n",
              "      <td>2020</td>\n",
              "      <td>11</td>\n",
              "      <td>13</td>\n",
              "      <td>18</td>\n",
              "      <td>33</td>\n",
              "      <td>7</td>\n",
              "    </tr>\n",
              "    <tr>\n",
              "      <th>1</th>\n",
              "      <td>18</td>\n",
              "      <td>2020-11-30 17:14:12.006000+00:00</td>\n",
              "      <td>3.0670</td>\n",
              "      <td>96.1349</td>\n",
              "      <td>27.89</td>\n",
              "      <td>5.0</td>\n",
              "      <td>Mb</td>\n",
              "      <td>70 km NNW of Sinabang, Indonesia</td>\n",
              "      <td>2020</td>\n",
              "      <td>11</td>\n",
              "      <td>30</td>\n",
              "      <td>17</td>\n",
              "      <td>14</td>\n",
              "      <td>12</td>\n",
              "    </tr>\n",
              "    <tr>\n",
              "      <th>2</th>\n",
              "      <td>32</td>\n",
              "      <td>2020-09-13 18:28:52.194000+00:00</td>\n",
              "      <td>4.2449</td>\n",
              "      <td>96.6838</td>\n",
              "      <td>121.54</td>\n",
              "      <td>5.0</td>\n",
              "      <td>Mww</td>\n",
              "      <td>62 km E of Meulaboh, Indonesia</td>\n",
              "      <td>2020</td>\n",
              "      <td>9</td>\n",
              "      <td>13</td>\n",
              "      <td>18</td>\n",
              "      <td>28</td>\n",
              "      <td>52</td>\n",
              "    </tr>\n",
              "    <tr>\n",
              "      <th>3</th>\n",
              "      <td>0</td>\n",
              "      <td>2021-05-02 20:49:43.322000+00:00</td>\n",
              "      <td>5.3234</td>\n",
              "      <td>94.6170</td>\n",
              "      <td>63.97</td>\n",
              "      <td>5.0</td>\n",
              "      <td>Mb</td>\n",
              "      <td>82 km WSW of Banda Aceh, Indonesia</td>\n",
              "      <td>2021</td>\n",
              "      <td>5</td>\n",
              "      <td>2</td>\n",
              "      <td>20</td>\n",
              "      <td>49</td>\n",
              "      <td>43</td>\n",
              "    </tr>\n",
              "    <tr>\n",
              "      <th>4</th>\n",
              "      <td>2</td>\n",
              "      <td>2021-04-17 01:04:53.776000+00:00</td>\n",
              "      <td>5.1158</td>\n",
              "      <td>95.4508</td>\n",
              "      <td>100.74</td>\n",
              "      <td>5.0</td>\n",
              "      <td>Mww</td>\n",
              "      <td>48 km SSE of Banda Aceh, Indonesia</td>\n",
              "      <td>2021</td>\n",
              "      <td>4</td>\n",
              "      <td>17</td>\n",
              "      <td>1</td>\n",
              "      <td>4</td>\n",
              "      <td>53</td>\n",
              "    </tr>\n",
              "  </tbody>\n",
              "</table>\n",
              "</div>"
            ],
            "text/plain": [
              "   index                             Time  Latitude  Longitude   Depth  Mag  \\\n",
              "0     20 2020-11-13 18:33:07.130000+00:00    5.7913    95.5619   10.00  5.1   \n",
              "1     18 2020-11-30 17:14:12.006000+00:00    3.0670    96.1349   27.89  5.0   \n",
              "2     32 2020-09-13 18:28:52.194000+00:00    4.2449    96.6838  121.54  5.0   \n",
              "3      0 2021-05-02 20:49:43.322000+00:00    5.3234    94.6170   63.97  5.0   \n",
              "4      2 2021-04-17 01:04:53.776000+00:00    5.1158    95.4508  100.74  5.0   \n",
              "\n",
              "  MagType                               Place  Year  Month  Day  Hour  \\\n",
              "0     Mww      29 km ESE of Sabang, Indonesia  2020     11   13    18   \n",
              "1      Mb    70 km NNW of Sinabang, Indonesia  2020     11   30    17   \n",
              "2     Mww      62 km E of Meulaboh, Indonesia  2020      9   13    18   \n",
              "3      Mb  82 km WSW of Banda Aceh, Indonesia  2021      5    2    20   \n",
              "4     Mww  48 km SSE of Banda Aceh, Indonesia  2021      4   17     1   \n",
              "\n",
              "   Minutes  Second  \n",
              "0       33       7  \n",
              "1       14      12  \n",
              "2       28      52  \n",
              "3       49      43  \n",
              "4        4      53  "
            ]
          },
          "metadata": {
            "tags": []
          },
          "execution_count": 346
        }
      ]
    },
    {
      "cell_type": "markdown",
      "metadata": {
        "id": "449bb8fb"
      },
      "source": [
        "Then, we remove the old index column"
      ],
      "id": "449bb8fb"
    },
    {
      "cell_type": "code",
      "metadata": {
        "id": "8c2b1bb6"
      },
      "source": [
        "current_data.drop('index',axis=1,inplace=True)"
      ],
      "id": "8c2b1bb6",
      "execution_count": null,
      "outputs": []
    },
    {
      "cell_type": "code",
      "metadata": {
        "id": "f8475c8f",
        "outputId": "9ea6b3ab-736f-444d-9e99-f06b8a37a23e"
      },
      "source": [
        "current_data.head()"
      ],
      "id": "f8475c8f",
      "execution_count": null,
      "outputs": [
        {
          "output_type": "execute_result",
          "data": {
            "text/html": [
              "<div>\n",
              "<style scoped>\n",
              "    .dataframe tbody tr th:only-of-type {\n",
              "        vertical-align: middle;\n",
              "    }\n",
              "\n",
              "    .dataframe tbody tr th {\n",
              "        vertical-align: top;\n",
              "    }\n",
              "\n",
              "    .dataframe thead th {\n",
              "        text-align: right;\n",
              "    }\n",
              "</style>\n",
              "<table border=\"1\" class=\"dataframe\">\n",
              "  <thead>\n",
              "    <tr style=\"text-align: right;\">\n",
              "      <th></th>\n",
              "      <th>Time</th>\n",
              "      <th>Latitude</th>\n",
              "      <th>Longitude</th>\n",
              "      <th>Depth</th>\n",
              "      <th>Mag</th>\n",
              "      <th>MagType</th>\n",
              "      <th>Place</th>\n",
              "      <th>Year</th>\n",
              "      <th>Month</th>\n",
              "      <th>Day</th>\n",
              "      <th>Hour</th>\n",
              "      <th>Minutes</th>\n",
              "      <th>Second</th>\n",
              "    </tr>\n",
              "  </thead>\n",
              "  <tbody>\n",
              "    <tr>\n",
              "      <th>0</th>\n",
              "      <td>2020-11-13 18:33:07.130000+00:00</td>\n",
              "      <td>5.7913</td>\n",
              "      <td>95.5619</td>\n",
              "      <td>10.00</td>\n",
              "      <td>5.1</td>\n",
              "      <td>Mww</td>\n",
              "      <td>29 km ESE of Sabang, Indonesia</td>\n",
              "      <td>2020</td>\n",
              "      <td>11</td>\n",
              "      <td>13</td>\n",
              "      <td>18</td>\n",
              "      <td>33</td>\n",
              "      <td>7</td>\n",
              "    </tr>\n",
              "    <tr>\n",
              "      <th>1</th>\n",
              "      <td>2020-11-30 17:14:12.006000+00:00</td>\n",
              "      <td>3.0670</td>\n",
              "      <td>96.1349</td>\n",
              "      <td>27.89</td>\n",
              "      <td>5.0</td>\n",
              "      <td>Mb</td>\n",
              "      <td>70 km NNW of Sinabang, Indonesia</td>\n",
              "      <td>2020</td>\n",
              "      <td>11</td>\n",
              "      <td>30</td>\n",
              "      <td>17</td>\n",
              "      <td>14</td>\n",
              "      <td>12</td>\n",
              "    </tr>\n",
              "    <tr>\n",
              "      <th>2</th>\n",
              "      <td>2020-09-13 18:28:52.194000+00:00</td>\n",
              "      <td>4.2449</td>\n",
              "      <td>96.6838</td>\n",
              "      <td>121.54</td>\n",
              "      <td>5.0</td>\n",
              "      <td>Mww</td>\n",
              "      <td>62 km E of Meulaboh, Indonesia</td>\n",
              "      <td>2020</td>\n",
              "      <td>9</td>\n",
              "      <td>13</td>\n",
              "      <td>18</td>\n",
              "      <td>28</td>\n",
              "      <td>52</td>\n",
              "    </tr>\n",
              "    <tr>\n",
              "      <th>3</th>\n",
              "      <td>2021-05-02 20:49:43.322000+00:00</td>\n",
              "      <td>5.3234</td>\n",
              "      <td>94.6170</td>\n",
              "      <td>63.97</td>\n",
              "      <td>5.0</td>\n",
              "      <td>Mb</td>\n",
              "      <td>82 km WSW of Banda Aceh, Indonesia</td>\n",
              "      <td>2021</td>\n",
              "      <td>5</td>\n",
              "      <td>2</td>\n",
              "      <td>20</td>\n",
              "      <td>49</td>\n",
              "      <td>43</td>\n",
              "    </tr>\n",
              "    <tr>\n",
              "      <th>4</th>\n",
              "      <td>2021-04-17 01:04:53.776000+00:00</td>\n",
              "      <td>5.1158</td>\n",
              "      <td>95.4508</td>\n",
              "      <td>100.74</td>\n",
              "      <td>5.0</td>\n",
              "      <td>Mww</td>\n",
              "      <td>48 km SSE of Banda Aceh, Indonesia</td>\n",
              "      <td>2021</td>\n",
              "      <td>4</td>\n",
              "      <td>17</td>\n",
              "      <td>1</td>\n",
              "      <td>4</td>\n",
              "      <td>53</td>\n",
              "    </tr>\n",
              "  </tbody>\n",
              "</table>\n",
              "</div>"
            ],
            "text/plain": [
              "                              Time  Latitude  Longitude   Depth  Mag MagType  \\\n",
              "0 2020-11-13 18:33:07.130000+00:00    5.7913    95.5619   10.00  5.1     Mww   \n",
              "1 2020-11-30 17:14:12.006000+00:00    3.0670    96.1349   27.89  5.0      Mb   \n",
              "2 2020-09-13 18:28:52.194000+00:00    4.2449    96.6838  121.54  5.0     Mww   \n",
              "3 2021-05-02 20:49:43.322000+00:00    5.3234    94.6170   63.97  5.0      Mb   \n",
              "4 2021-04-17 01:04:53.776000+00:00    5.1158    95.4508  100.74  5.0     Mww   \n",
              "\n",
              "                                Place  Year  Month  Day  Hour  Minutes  Second  \n",
              "0      29 km ESE of Sabang, Indonesia  2020     11   13    18       33       7  \n",
              "1    70 km NNW of Sinabang, Indonesia  2020     11   30    17       14      12  \n",
              "2      62 km E of Meulaboh, Indonesia  2020      9   13    18       28      52  \n",
              "3  82 km WSW of Banda Aceh, Indonesia  2021      5    2    20       49      43  \n",
              "4  48 km SSE of Banda Aceh, Indonesia  2021      4   17     1        4      53  "
            ]
          },
          "metadata": {
            "tags": []
          },
          "execution_count": 348
        }
      ]
    },
    {
      "cell_type": "code",
      "metadata": {
        "id": "9dd5c539"
      },
      "source": [
        ""
      ],
      "id": "9dd5c539",
      "execution_count": null,
      "outputs": []
    }
  ]
}